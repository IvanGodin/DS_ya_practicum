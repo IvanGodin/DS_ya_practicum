{
 "cells": [
  {
   "cell_type": "markdown",
   "metadata": {
    "toc": true
   },
   "source": [
    "<h1>Содержание<span class=\"tocSkip\"></span></h1>\n",
    "<div class=\"toc\"><ul class=\"toc-item\"><li><span><a href=\"#Подготовка\" data-toc-modified-id=\"Подготовка-1\">Подготовка</a></span><ul class=\"toc-item\"><li><span><a href=\"#Вывод\" data-toc-modified-id=\"Вывод-1.1\">Вывод</a></span></li></ul></li><li><span><a href=\"#Обучение\" data-toc-modified-id=\"Обучение-2\">Обучение</a></span></li><li><span><a href=\"#Выводы\" data-toc-modified-id=\"Выводы-3\">Выводы</a></span></li><li><span><a href=\"#Чек-лист-проверки\" data-toc-modified-id=\"Чек-лист-проверки-4\">Чек-лист проверки</a></span></li></ul></div>"
   ]
  },
  {
   "cell_type": "markdown",
   "metadata": {},
   "source": [
    "# Проект для «Викишоп»"
   ]
  },
  {
   "cell_type": "markdown",
   "metadata": {},
   "source": [
    "Интернет-магазин «Викишоп» запускает новый сервис. Теперь пользователи могут редактировать и дополнять описания товаров, как в вики-сообществах. То есть клиенты предлагают свои правки и комментируют изменения других. Магазину нужен инструмент, который будет искать токсичные комментарии и отправлять их на модерацию. \n",
    "\n",
    "Обучите модель классифицировать комментарии на позитивные и негативные. В вашем распоряжении набор данных с разметкой о токсичности правок.\n",
    "\n",
    "Постройте модель со значением метрики качества *F1* не меньше 0.75. \n",
    "\n",
    "**Инструкция по выполнению проекта**\n",
    "\n",
    "1. Загрузите и подготовьте данные.\n",
    "2. Обучите разные модели. \n",
    "3. Сделайте выводы.\n",
    "\n",
    "Для выполнения проекта применять *BERT* необязательно, но вы можете попробовать.\n",
    "\n",
    "**Описание данных**\n",
    "\n",
    "Данные находятся в файле `toxic_comments.csv`. Столбец *text* в нём содержит текст комментария, а *toxic* — целевой признак."
   ]
  },
  {
   "cell_type": "markdown",
   "metadata": {},
   "source": [
    "## Подготовка"
   ]
  },
  {
   "cell_type": "code",
   "execution_count": 1,
   "metadata": {},
   "outputs": [
    {
     "name": "stdout",
     "output_type": "stream",
     "text": [
      "Requirement already satisfied: spacy in c:\\programdata\\anaconda3\\lib\\site-packages (3.4.1)\n"
     ]
    },
    {
     "name": "stderr",
     "output_type": "stream",
     "text": [
      "WARNING: Ignoring invalid distribution -oblib (c:\\programdata\\anaconda3\\lib\\site-packages)\n",
      "WARNING: Ignoring invalid distribution -ip (c:\\programdata\\anaconda3\\lib\\site-packages)\n",
      "WARNING: Ignoring invalid distribution - (c:\\programdata\\anaconda3\\lib\\site-packages)\n",
      "WARNING: Ignoring invalid distribution -arkupsafe (c:\\programdata\\anaconda3\\lib\\site-packages)\n",
      "WARNING: Ignoring invalid distribution -oblib (c:\\programdata\\anaconda3\\lib\\site-packages)\n",
      "WARNING: Ignoring invalid distribution -ip (c:\\programdata\\anaconda3\\lib\\site-packages)\n",
      "WARNING: Ignoring invalid distribution - (c:\\programdata\\anaconda3\\lib\\site-packages)\n",
      "WARNING: Ignoring invalid distribution -arkupsafe (c:\\programdata\\anaconda3\\lib\\site-packages)\n"
     ]
    },
    {
     "name": "stdout",
     "output_type": "stream",
     "text": [
      "Requirement already satisfied: requests<3.0.0,>=2.13.0 in c:\\programdata\\anaconda3\\lib\\site-packages (from spacy) (2.26.0)\n",
      "Requirement already satisfied: wasabi<1.1.0,>=0.9.1 in c:\\programdata\\anaconda3\\lib\\site-packages (from spacy) (0.10.1)\n",
      "Requirement already satisfied: murmurhash<1.1.0,>=0.28.0 in c:\\programdata\\anaconda3\\lib\\site-packages (from spacy) (1.0.8)\n",
      "Requirement already satisfied: spacy-loggers<2.0.0,>=1.0.0 in c:\\programdata\\anaconda3\\lib\\site-packages (from spacy) (1.0.3)\n",
      "Requirement already satisfied: pydantic!=1.8,!=1.8.1,<1.10.0,>=1.7.4 in c:\\programdata\\anaconda3\\lib\\site-packages (from spacy) (1.9.0)\n",
      "Requirement already satisfied: numpy>=1.15.0 in c:\\programdata\\anaconda3\\lib\\site-packages (from spacy) (1.20.3)\n",
      "Requirement already satisfied: cymem<2.1.0,>=2.0.2 in c:\\programdata\\anaconda3\\lib\\site-packages (from spacy) (2.0.6)\n",
      "Requirement already satisfied: langcodes<4.0.0,>=3.2.0 in c:\\programdata\\anaconda3\\lib\\site-packages (from spacy) (3.3.0)\n",
      "Requirement already satisfied: pathy>=0.3.5 in c:\\programdata\\anaconda3\\lib\\site-packages (from spacy) (0.6.2)\n",
      "Requirement already satisfied: thinc<8.2.0,>=8.1.0 in c:\\programdata\\anaconda3\\lib\\site-packages (from spacy) (8.1.1)\n",
      "Requirement already satisfied: preshed<3.1.0,>=3.0.2 in c:\\programdata\\anaconda3\\lib\\site-packages (from spacy) (3.0.7)\n",
      "Requirement already satisfied: setuptools in c:\\programdata\\anaconda3\\lib\\site-packages (from spacy) (58.0.4)\n",
      "Requirement already satisfied: packaging>=20.0 in c:\\programdata\\anaconda3\\lib\\site-packages (from spacy) (21.0)\n",
      "Requirement already satisfied: spacy-legacy<3.1.0,>=3.0.9 in c:\\programdata\\anaconda3\\lib\\site-packages (from spacy) (3.0.10)\n",
      "Requirement already satisfied: jinja2 in c:\\programdata\\anaconda3\\lib\\site-packages (from spacy) (2.11.3)\n",
      "Requirement already satisfied: srsly<3.0.0,>=2.4.3 in c:\\programdata\\anaconda3\\lib\\site-packages (from spacy) (2.4.4)\n",
      "Requirement already satisfied: tqdm<5.0.0,>=4.38.0 in c:\\programdata\\anaconda3\\lib\\site-packages (from spacy) (4.62.3)\n",
      "Requirement already satisfied: typer<0.5.0,>=0.3.0 in c:\\programdata\\anaconda3\\lib\\site-packages (from spacy) (0.4.2)\n",
      "Requirement already satisfied: catalogue<2.1.0,>=2.0.6 in c:\\programdata\\anaconda3\\lib\\site-packages (from spacy) (2.0.8)\n",
      "Requirement already satisfied: pyparsing>=2.0.2 in c:\\programdata\\anaconda3\\lib\\site-packages (from packaging>=20.0->spacy) (3.0.4)\n",
      "Requirement already satisfied: smart-open<6.0.0,>=5.2.1 in c:\\programdata\\anaconda3\\lib\\site-packages (from pathy>=0.3.5->spacy) (5.2.1)\n",
      "Requirement already satisfied: typing-extensions>=3.7.4.3 in c:\\programdata\\anaconda3\\lib\\site-packages (from pydantic!=1.8,!=1.8.1,<1.10.0,>=1.7.4->spacy) (3.10.0.2)\n",
      "Requirement already satisfied: certifi>=2017.4.17 in c:\\programdata\\anaconda3\\lib\\site-packages (from requests<3.0.0,>=2.13.0->spacy) (2021.10.8)\n",
      "Requirement already satisfied: charset-normalizer~=2.0.0 in c:\\programdata\\anaconda3\\lib\\site-packages (from requests<3.0.0,>=2.13.0->spacy) (2.0.4)\n",
      "Requirement already satisfied: idna<4,>=2.5 in c:\\programdata\\anaconda3\\lib\\site-packages (from requests<3.0.0,>=2.13.0->spacy) (3.2)\n",
      "Requirement already satisfied: urllib3<1.27,>=1.21.1 in c:\\programdata\\anaconda3\\lib\\site-packages (from requests<3.0.0,>=2.13.0->spacy) (1.26.7)\n",
      "Requirement already satisfied: confection<1.0.0,>=0.0.1 in c:\\programdata\\anaconda3\\lib\\site-packages (from thinc<8.2.0,>=8.1.0->spacy) (0.0.1)\n",
      "Requirement already satisfied: blis<0.10.0,>=0.7.8 in c:\\programdata\\anaconda3\\lib\\site-packages (from thinc<8.2.0,>=8.1.0->spacy) (0.9.1)\n",
      "Requirement already satisfied: colorama in c:\\programdata\\anaconda3\\lib\\site-packages (from tqdm<5.0.0,>=4.38.0->spacy) (0.4.4)\n",
      "Requirement already satisfied: click<9.0.0,>=7.1.1 in c:\\programdata\\anaconda3\\lib\\site-packages (from typer<0.5.0,>=0.3.0->spacy) (8.0.3)\n",
      "Requirement already satisfied: MarkupSafe>=0.23 in c:\\programdata\\anaconda3\\lib\\site-packages (from jinja2->spacy) (2.0.1)\n"
     ]
    },
    {
     "name": "stderr",
     "output_type": "stream",
     "text": [
      "WARNING: Ignoring invalid distribution -oblib (c:\\programdata\\anaconda3\\lib\\site-packages)\n",
      "WARNING: Ignoring invalid distribution -ip (c:\\programdata\\anaconda3\\lib\\site-packages)\n",
      "WARNING: Ignoring invalid distribution - (c:\\programdata\\anaconda3\\lib\\site-packages)\n",
      "WARNING: Ignoring invalid distribution -arkupsafe (c:\\programdata\\anaconda3\\lib\\site-packages)\n",
      "WARNING: Ignoring invalid distribution -oblib (c:\\programdata\\anaconda3\\lib\\site-packages)\n",
      "WARNING: Ignoring invalid distribution -ip (c:\\programdata\\anaconda3\\lib\\site-packages)\n",
      "WARNING: Ignoring invalid distribution - (c:\\programdata\\anaconda3\\lib\\site-packages)\n",
      "WARNING: Ignoring invalid distribution -arkupsafe (c:\\programdata\\anaconda3\\lib\\site-packages)\n",
      "WARNING: Ignoring invalid distribution -oblib (c:\\programdata\\anaconda3\\lib\\site-packages)\n",
      "WARNING: Ignoring invalid distribution -ip (c:\\programdata\\anaconda3\\lib\\site-packages)\n",
      "WARNING: Ignoring invalid distribution - (c:\\programdata\\anaconda3\\lib\\site-packages)\n",
      "WARNING: Ignoring invalid distribution -arkupsafe (c:\\programdata\\anaconda3\\lib\\site-packages)\n",
      "WARNING: Ignoring invalid distribution -oblib (c:\\programdata\\anaconda3\\lib\\site-packages)\n",
      "WARNING: Ignoring invalid distribution -ip (c:\\programdata\\anaconda3\\lib\\site-packages)\n",
      "WARNING: Ignoring invalid distribution - (c:\\programdata\\anaconda3\\lib\\site-packages)\n",
      "WARNING: Ignoring invalid distribution -arkupsafe (c:\\programdata\\anaconda3\\lib\\site-packages)\n"
     ]
    },
    {
     "name": "stdout",
     "output_type": "stream",
     "text": [
      "Collecting en-core-web-sm==3.4.1\n",
      "  Downloading https://github.com/explosion/spacy-models/releases/download/en_core_web_sm-3.4.1/en_core_web_sm-3.4.1-py3-none-any.whl (12.8 MB)\n",
      "     --------------------------------------- 12.8/12.8 MB 40.9 MB/s eta 0:00:00\n",
      "Requirement already satisfied: spacy<3.5.0,>=3.4.0 in c:\\programdata\\anaconda3\\lib\\site-packages (from en-core-web-sm==3.4.1) (3.4.1)"
     ]
    },
    {
     "name": "stderr",
     "output_type": "stream",
     "text": [
      "2023-03-27 16:56:40.101998: W tensorflow/stream_executor/platform/default/dso_loader.cc:64] Could not load dynamic library 'cudart64_110.dll'; dlerror: cudart64_110.dll not found\n",
      "2023-03-27 16:56:40.102317: I tensorflow/stream_executor/cuda/cudart_stub.cc:29] Ignore above cudart dlerror if you do not have a GPU set up on your machine.\n",
      "2023-03-27 16:56:47.350322: W tensorflow/stream_executor/platform/default/dso_loader.cc:64] Could not load dynamic library 'cudart64_110.dll'; dlerror: cudart64_110.dll not found\n",
      "2023-03-27 16:56:47.351638: W tensorflow/stream_executor/platform/default/dso_loader.cc:64] Could not load dynamic library 'cublas64_11.dll'; dlerror: cublas64_11.dll not found\n",
      "2023-03-27 16:56:47.352941: W tensorflow/stream_executor/platform/default/dso_loader.cc:64] Could not load dynamic library 'cublasLt64_11.dll'; dlerror: cublasLt64_11.dll not found\n",
      "2023-03-27 16:56:47.354478: W tensorflow/stream_executor/platform/default/dso_loader.cc:64] Could not load dynamic library 'cufft64_10.dll'; dlerror: cufft64_10.dll not found\n",
      "2023-03-27 16:56:47.355863: W tensorflow/stream_executor/platform/default/dso_loader.cc:64] Could not load dynamic library 'curand64_10.dll'; dlerror: curand64_10.dll not found\n",
      "2023-03-27 16:56:47.357213: W tensorflow/stream_executor/platform/default/dso_loader.cc:64] Could not load dynamic library 'cusolver64_11.dll'; dlerror: cusolver64_11.dll not found\n",
      "2023-03-27 16:56:47.358571: W tensorflow/stream_executor/platform/default/dso_loader.cc:64] Could not load dynamic library 'cusparse64_11.dll'; dlerror: cusparse64_11.dll not found\n",
      "2023-03-27 16:56:47.359889: W tensorflow/stream_executor/platform/default/dso_loader.cc:64] Could not load dynamic library 'cudnn64_8.dll'; dlerror: cudnn64_8.dll not found\n",
      "2023-03-27 16:56:47.359914: W tensorflow/core/common_runtime/gpu/gpu_device.cc:1934] Cannot dlopen some GPU libraries. Please make sure the missing libraries mentioned above are installed properly if you would like to use GPU. Follow the guide at https://www.tensorflow.org/install/gpu for how to download and setup the required libraries for your platform.\n",
      "Skipping registering GPU devices...\n",
      "WARNING: Ignoring invalid distribution -oblib (c:\\programdata\\anaconda3\\lib\\site-packages)\n",
      "WARNING: Ignoring invalid distribution -ip (c:\\programdata\\anaconda3\\lib\\site-packages)\n",
      "WARNING: Ignoring invalid distribution - (c:\\programdata\\anaconda3\\lib\\site-packages)\n",
      "WARNING: Ignoring invalid distribution -arkupsafe (c:\\programdata\\anaconda3\\lib\\site-packages)\n",
      "DEPRECATION: https://github.com/explosion/spacy-models/releases/download/en_core_web_sm-3.4.1/en_core_web_sm-3.4.1-py3-none-any.whl#egg=en_core_web_sm==3.4.1 contains an egg fragment with a non-PEP 508 name pip 25.0 will enforce this behaviour change. A possible replacement is to use the req @ url syntax, and remove the egg fragment. Discussion can be found at https://github.com/pypa/pip/issues/11617\n",
      "WARNING: Ignoring invalid distribution -oblib (c:\\programdata\\anaconda3\\lib\\site-packages)\n",
      "WARNING: Ignoring invalid distribution -ip (c:\\programdata\\anaconda3\\lib\\site-packages)\n",
      "WARNING: Ignoring invalid distribution - (c:\\programdata\\anaconda3\\lib\\site-packages)\n"
     ]
    },
    {
     "name": "stdout",
     "output_type": "stream",
     "text": [
      "\n",
      "Requirement already satisfied: numpy>=1.15.0 in c:\\programdata\\anaconda3\\lib\\site-packages (from spacy<3.5.0,>=3.4.0->en-core-web-sm==3.4.1) (1.20.3)\n",
      "Requirement already satisfied: wasabi<1.1.0,>=0.9.1 in c:\\programdata\\anaconda3\\lib\\site-packages (from spacy<3.5.0,>=3.4.0->en-core-web-sm==3.4.1) (0.10.1)\n",
      "Requirement already satisfied: langcodes<4.0.0,>=3.2.0 in c:\\programdata\\anaconda3\\lib\\site-packages (from spacy<3.5.0,>=3.4.0->en-core-web-sm==3.4.1) (3.3.0)\n",
      "Requirement already satisfied: setuptools in c:\\programdata\\anaconda3\\lib\\site-packages (from spacy<3.5.0,>=3.4.0->en-core-web-sm==3.4.1) (58.0.4)\n",
      "Requirement already satisfied: spacy-legacy<3.1.0,>=3.0.9 in c:\\programdata\\anaconda3\\lib\\site-packages (from spacy<3.5.0,>=3.4.0->en-core-web-sm==3.4.1) (3.0.10)\n",
      "Requirement already satisfied: cymem<2.1.0,>=2.0.2 in c:\\programdata\\anaconda3\\lib\\site-packages (from spacy<3.5.0,>=3.4.0->en-core-web-sm==3.4.1) (2.0.6)\n",
      "Requirement already satisfied: typer<0.5.0,>=0.3.0 in c:\\programdata\\anaconda3\\lib\\site-packages (from spacy<3.5.0,>=3.4.0->en-core-web-sm==3.4.1) (0.4.2)\n",
      "Requirement already satisfied: pydantic!=1.8,!=1.8.1,<1.10.0,>=1.7.4 in c:\\programdata\\anaconda3\\lib\\site-packages (from spacy<3.5.0,>=3.4.0->en-core-web-sm==3.4.1) (1.9.0)\n",
      "Requirement already satisfied: jinja2 in c:\\programdata\\anaconda3\\lib\\site-packages (from spacy<3.5.0,>=3.4.0->en-core-web-sm==3.4.1) (2.11.3)\n",
      "Requirement already satisfied: preshed<3.1.0,>=3.0.2 in c:\\programdata\\anaconda3\\lib\\site-packages (from spacy<3.5.0,>=3.4.0->en-core-web-sm==3.4.1) (3.0.7)\n",
      "Requirement already satisfied: packaging>=20.0 in c:\\programdata\\anaconda3\\lib\\site-packages (from spacy<3.5.0,>=3.4.0->en-core-web-sm==3.4.1) (21.0)\n",
      "Requirement already satisfied: requests<3.0.0,>=2.13.0 in c:\\programdata\\anaconda3\\lib\\site-packages (from spacy<3.5.0,>=3.4.0->en-core-web-sm==3.4.1) (2.26.0)\n",
      "Requirement already satisfied: tqdm<5.0.0,>=4.38.0 in c:\\programdata\\anaconda3\\lib\\site-packages (from spacy<3.5.0,>=3.4.0->en-core-web-sm==3.4.1) (4.62.3)\n",
      "Requirement already satisfied: pathy>=0.3.5 in c:\\programdata\\anaconda3\\lib\\site-packages (from spacy<3.5.0,>=3.4.0->en-core-web-sm==3.4.1) (0.6.2)\n",
      "Requirement already satisfied: thinc<8.2.0,>=8.1.0 in c:\\programdata\\anaconda3\\lib\\site-packages (from spacy<3.5.0,>=3.4.0->en-core-web-sm==3.4.1) (8.1.1)\n",
      "Requirement already satisfied: murmurhash<1.1.0,>=0.28.0 in c:\\programdata\\anaconda3\\lib\\site-packages (from spacy<3.5.0,>=3.4.0->en-core-web-sm==3.4.1) (1.0.8)\n",
      "Requirement already satisfied: catalogue<2.1.0,>=2.0.6 in c:\\programdata\\anaconda3\\lib\\site-packages (from spacy<3.5.0,>=3.4.0->en-core-web-sm==3.4.1) (2.0.8)\n",
      "Requirement already satisfied: srsly<3.0.0,>=2.4.3 in c:\\programdata\\anaconda3\\lib\\site-packages (from spacy<3.5.0,>=3.4.0->en-core-web-sm==3.4.1) (2.4.4)\n",
      "Requirement already satisfied: spacy-loggers<2.0.0,>=1.0.0 in c:\\programdata\\anaconda3\\lib\\site-packages (from spacy<3.5.0,>=3.4.0->en-core-web-sm==3.4.1) (1.0.3)\n",
      "Requirement already satisfied: pyparsing>=2.0.2 in c:\\programdata\\anaconda3\\lib\\site-packages (from packaging>=20.0->spacy<3.5.0,>=3.4.0->en-core-web-sm==3.4.1) (3.0.4)\n",
      "Requirement already satisfied: smart-open<6.0.0,>=5.2.1 in c:\\programdata\\anaconda3\\lib\\site-packages (from pathy>=0.3.5->spacy<3.5.0,>=3.4.0->en-core-web-sm==3.4.1) (5.2.1)\n",
      "Requirement already satisfied: typing-extensions>=3.7.4.3 in c:\\programdata\\anaconda3\\lib\\site-packages (from pydantic!=1.8,!=1.8.1,<1.10.0,>=1.7.4->spacy<3.5.0,>=3.4.0->en-core-web-sm==3.4.1) (3.10.0.2)\n",
      "Requirement already satisfied: idna<4,>=2.5 in c:\\programdata\\anaconda3\\lib\\site-packages (from requests<3.0.0,>=2.13.0->spacy<3.5.0,>=3.4.0->en-core-web-sm==3.4.1) (3.2)\n",
      "Requirement already satisfied: charset-normalizer~=2.0.0 in c:\\programdata\\anaconda3\\lib\\site-packages (from requests<3.0.0,>=2.13.0->spacy<3.5.0,>=3.4.0->en-core-web-sm==3.4.1) (2.0.4)\n",
      "Requirement already satisfied: urllib3<1.27,>=1.21.1 in c:\\programdata\\anaconda3\\lib\\site-packages (from requests<3.0.0,>=2.13.0->spacy<3.5.0,>=3.4.0->en-core-web-sm==3.4.1) (1.26.7)\n",
      "Requirement already satisfied: certifi>=2017.4.17 in c:\\programdata\\anaconda3\\lib\\site-packages (from requests<3.0.0,>=2.13.0->spacy<3.5.0,>=3.4.0->en-core-web-sm==3.4.1) (2021.10.8)\n",
      "Requirement already satisfied: confection<1.0.0,>=0.0.1 in c:\\programdata\\anaconda3\\lib\\site-packages (from thinc<8.2.0,>=8.1.0->spacy<3.5.0,>=3.4.0->en-core-web-sm==3.4.1) (0.0.1)\n",
      "Requirement already satisfied: blis<0.10.0,>=0.7.8 in c:\\programdata\\anaconda3\\lib\\site-packages (from thinc<8.2.0,>=8.1.0->spacy<3.5.0,>=3.4.0->en-core-web-sm==3.4.1) (0.9.1)\n",
      "Requirement already satisfied: colorama in c:\\programdata\\anaconda3\\lib\\site-packages (from tqdm<5.0.0,>=4.38.0->spacy<3.5.0,>=3.4.0->en-core-web-sm==3.4.1) (0.4.4)\n",
      "Requirement already satisfied: click<9.0.0,>=7.1.1 in c:\\programdata\\anaconda3\\lib\\site-packages (from typer<0.5.0,>=0.3.0->spacy<3.5.0,>=3.4.0->en-core-web-sm==3.4.1) (8.0.3)\n",
      "Requirement already satisfied: MarkupSafe>=0.23 in c:\\programdata\\anaconda3\\lib\\site-packages (from jinja2->spacy<3.5.0,>=3.4.0->en-core-web-sm==3.4.1) (2.0.1)\n",
      "Installing collected packages: en-core-web-sm\n",
      "  Attempting uninstall: en-core-web-sm\n",
      "    Found existing installation: en-core-web-sm 3.4.0\n",
      "    Uninstalling en-core-web-sm-3.4.0:\n",
      "      Successfully uninstalled en-core-web-sm-3.4.0\n",
      "Successfully installed en-core-web-sm-3.4.1\n",
      "[+] Download and installation successful\n",
      "You can now load the package via spacy.load('en_core_web_sm')\n"
     ]
    },
    {
     "name": "stderr",
     "output_type": "stream",
     "text": [
      "WARNING: Ignoring invalid distribution -arkupsafe (c:\\programdata\\anaconda3\\lib\\site-packages)\n",
      "WARNING: Ignoring invalid distribution -oblib (c:\\programdata\\anaconda3\\lib\\site-packages)\n",
      "WARNING: Ignoring invalid distribution -ip (c:\\programdata\\anaconda3\\lib\\site-packages)\n",
      "WARNING: Ignoring invalid distribution - (c:\\programdata\\anaconda3\\lib\\site-packages)\n",
      "WARNING: Ignoring invalid distribution -arkupsafe (c:\\programdata\\anaconda3\\lib\\site-packages)\n",
      "    WARNING: Ignoring invalid distribution -oblib (c:\\programdata\\anaconda3\\lib\\site-packages)\n",
      "    WARNING: Ignoring invalid distribution -ip (c:\\programdata\\anaconda3\\lib\\site-packages)\n",
      "    WARNING: Ignoring invalid distribution - (c:\\programdata\\anaconda3\\lib\\site-packages)\n",
      "    WARNING: Ignoring invalid distribution -arkupsafe (c:\\programdata\\anaconda3\\lib\\site-packages)\n",
      "WARNING: Ignoring invalid distribution -oblib (c:\\programdata\\anaconda3\\lib\\site-packages)\n",
      "WARNING: Ignoring invalid distribution -ip (c:\\programdata\\anaconda3\\lib\\site-packages)\n",
      "WARNING: Ignoring invalid distribution - (c:\\programdata\\anaconda3\\lib\\site-packages)\n",
      "WARNING: Ignoring invalid distribution -arkupsafe (c:\\programdata\\anaconda3\\lib\\site-packages)\n",
      "WARNING: Ignoring invalid distribution -oblib (c:\\programdata\\anaconda3\\lib\\site-packages)\n",
      "WARNING: Ignoring invalid distribution -ip (c:\\programdata\\anaconda3\\lib\\site-packages)\n",
      "WARNING: Ignoring invalid distribution - (c:\\programdata\\anaconda3\\lib\\site-packages)\n",
      "WARNING: Ignoring invalid distribution -arkupsafe (c:\\programdata\\anaconda3\\lib\\site-packages)\n",
      "WARNING: Ignoring invalid distribution -oblib (c:\\programdata\\anaconda3\\lib\\site-packages)\n",
      "WARNING: Ignoring invalid distribution -ip (c:\\programdata\\anaconda3\\lib\\site-packages)\n",
      "WARNING: Ignoring invalid distribution - (c:\\programdata\\anaconda3\\lib\\site-packages)\n",
      "WARNING: Ignoring invalid distribution -arkupsafe (c:\\programdata\\anaconda3\\lib\\site-packages)\n",
      "WARNING: Ignoring invalid distribution -oblib (c:\\programdata\\anaconda3\\lib\\site-packages)\n",
      "WARNING: Ignoring invalid distribution -ip (c:\\programdata\\anaconda3\\lib\\site-packages)\n",
      "WARNING: Ignoring invalid distribution - (c:\\programdata\\anaconda3\\lib\\site-packages)\n",
      "WARNING: Ignoring invalid distribution -arkupsafe (c:\\programdata\\anaconda3\\lib\\site-packages)\n"
     ]
    }
   ],
   "source": [
    "import sys\n",
    "!{sys.executable} -m pip install spacy\n",
    "!{sys.executable} -m spacy download en_core_web_sm"
   ]
  },
  {
   "cell_type": "code",
   "execution_count": 2,
   "metadata": {},
   "outputs": [],
   "source": [
    "import numpy as np\n",
    "import pandas as pd\n",
    "import re\n",
    "import nltk\n",
    "import spacy\n",
    "import matplotlib.pyplot as plt\n",
    "import string\n",
    "import scipy as sp\n",
    "\n",
    "\n",
    "from nltk import word_tokenize\n",
    "from nltk.corpus import stopwords as nltk_stopwords\n",
    "from nltk.stem import WordNetLemmatizer\n",
    "from nltk.corpus import wordnet, stopwords \n",
    "from sklearn.utils import shuffle\n",
    "from sklearn.feature_extraction.text import TfidfVectorizer,CountVectorizer\n",
    "from nltk.probability import FreqDist\n",
    "from scipy.sparse import hstack\n",
    "\n",
    "from sklearn.linear_model import LogisticRegression\n",
    "from sklearn.tree import DecisionTreeClassifier\n",
    "from catboost import CatBoostClassifier\n",
    "\n",
    "from sklearn.model_selection import cross_val_score\n",
    "from sklearn.metrics import f1_score\n",
    "from sklearn.model_selection import train_test_split\n",
    "from sklearn.model_selection import train_test_split, cross_val_score, GridSearchCV\n",
    "from sklearn.metrics import confusion_matrix\n",
    "\n",
    "import warnings\n",
    "warnings.filterwarnings('ignore')"
   ]
  },
  {
   "cell_type": "code",
   "execution_count": 3,
   "metadata": {
    "scrolled": true
   },
   "outputs": [],
   "source": [
    "df = pd.read_csv('https://code.s3.yandex.net/datasets/toxic_comments.csv',index_col=0)"
   ]
  },
  {
   "cell_type": "code",
   "execution_count": 4,
   "metadata": {},
   "outputs": [
    {
     "data": {
      "text/html": [
       "<div>\n",
       "<style scoped>\n",
       "    .dataframe tbody tr th:only-of-type {\n",
       "        vertical-align: middle;\n",
       "    }\n",
       "\n",
       "    .dataframe tbody tr th {\n",
       "        vertical-align: top;\n",
       "    }\n",
       "\n",
       "    .dataframe thead th {\n",
       "        text-align: right;\n",
       "    }\n",
       "</style>\n",
       "<table border=\"1\" class=\"dataframe\">\n",
       "  <thead>\n",
       "    <tr style=\"text-align: right;\">\n",
       "      <th></th>\n",
       "      <th>text</th>\n",
       "      <th>toxic</th>\n",
       "    </tr>\n",
       "  </thead>\n",
       "  <tbody>\n",
       "    <tr>\n",
       "      <th>14885</th>\n",
       "      <td>\"\\nThanks for this update! I am not willing to...</td>\n",
       "      <td>0</td>\n",
       "    </tr>\n",
       "    <tr>\n",
       "      <th>146941</th>\n",
       "      <td>dont show me attitude i give u standing ovatio...</td>\n",
       "      <td>1</td>\n",
       "    </tr>\n",
       "    <tr>\n",
       "      <th>96767</th>\n",
       "      <td>\"::Actually, guideline supports such lists. Hi...</td>\n",
       "      <td>0</td>\n",
       "    </tr>\n",
       "    <tr>\n",
       "      <th>70686</th>\n",
       "      <td>\"\\n\\nFirst rule is consider everything GOOD FA...</td>\n",
       "      <td>0</td>\n",
       "    </tr>\n",
       "    <tr>\n",
       "      <th>140205</th>\n",
       "      <td>Finally, mention how many Germans lived in Ser...</td>\n",
       "      <td>0</td>\n",
       "    </tr>\n",
       "    <tr>\n",
       "      <th>140399</th>\n",
       "      <td>start}}\\n\\n Rename in line with WP:TITLE</td>\n",
       "      <td>0</td>\n",
       "    </tr>\n",
       "    <tr>\n",
       "      <th>132581</th>\n",
       "      <td>\"== Harassment ==\\n\\nUsers are assumed to have...</td>\n",
       "      <td>0</td>\n",
       "    </tr>\n",
       "    <tr>\n",
       "      <th>50053</th>\n",
       "      <td>(No, I'm not talking about the current instanc...</td>\n",
       "      <td>0</td>\n",
       "    </tr>\n",
       "    <tr>\n",
       "      <th>17493</th>\n",
       "      <td>Block of 216.56.4.46 \\n\\n is Wiscnet: Wisconsi...</td>\n",
       "      <td>0</td>\n",
       "    </tr>\n",
       "    <tr>\n",
       "      <th>67332</th>\n",
       "      <td>legal action is retract, could you provide me ...</td>\n",
       "      <td>0</td>\n",
       "    </tr>\n",
       "  </tbody>\n",
       "</table>\n",
       "</div>"
      ],
      "text/plain": [
       "                                                     text  toxic\n",
       "14885   \"\\nThanks for this update! I am not willing to...      0\n",
       "146941  dont show me attitude i give u standing ovatio...      1\n",
       "96767   \"::Actually, guideline supports such lists. Hi...      0\n",
       "70686   \"\\n\\nFirst rule is consider everything GOOD FA...      0\n",
       "140205  Finally, mention how many Germans lived in Ser...      0\n",
       "140399           start}}\\n\\n Rename in line with WP:TITLE      0\n",
       "132581  \"== Harassment ==\\n\\nUsers are assumed to have...      0\n",
       "50053   (No, I'm not talking about the current instanc...      0\n",
       "17493   Block of 216.56.4.46 \\n\\n is Wiscnet: Wisconsi...      0\n",
       "67332   legal action is retract, could you provide me ...      0"
      ]
     },
     "execution_count": 4,
     "metadata": {},
     "output_type": "execute_result"
    }
   ],
   "source": [
    "df.sample(10)"
   ]
  },
  {
   "cell_type": "code",
   "execution_count": 5,
   "metadata": {},
   "outputs": [],
   "source": [
    "##df = df[['text', 'toxic']]"
   ]
  },
  {
   "cell_type": "code",
   "execution_count": 6,
   "metadata": {
    "scrolled": false
   },
   "outputs": [],
   "source": [
    "##df.head(10)"
   ]
  },
  {
   "cell_type": "code",
   "execution_count": 7,
   "metadata": {},
   "outputs": [
    {
     "name": "stdout",
     "output_type": "stream",
     "text": [
      "<class 'pandas.core.frame.DataFrame'>\n",
      "Int64Index: 159292 entries, 0 to 159450\n",
      "Data columns (total 2 columns):\n",
      " #   Column  Non-Null Count   Dtype \n",
      "---  ------  --------------   ----- \n",
      " 0   text    159292 non-null  object\n",
      " 1   toxic   159292 non-null  int64 \n",
      "dtypes: int64(1), object(1)\n",
      "memory usage: 3.6+ MB\n"
     ]
    }
   ],
   "source": [
    "df.info()"
   ]
  },
  {
   "cell_type": "code",
   "execution_count": 8,
   "metadata": {},
   "outputs": [
    {
     "data": {
      "text/plain": [
       "0"
      ]
     },
     "execution_count": 8,
     "metadata": {},
     "output_type": "execute_result"
    }
   ],
   "source": [
    "df.duplicated().sum()"
   ]
  },
  {
   "cell_type": "code",
   "execution_count": 9,
   "metadata": {
    "scrolled": false
   },
   "outputs": [
    {
     "data": {
      "image/png": "[encoded data removed]",
      "text/plain": [
       "<Figure size 432x288 with 1 Axes>"
      ]
     },
     "metadata": {
      "needs_background": "light"
     },
     "output_type": "display_data"
    }
   ],
   "source": [
    "df['toxic'].hist()\n",
    "plt.title('Распределение Target')\n",
    "plt.show()"
   ]
  },
  {
   "cell_type": "markdown",
   "metadata": {},
   "source": [
    "### Вывод\n",
    "\n",
    "Пропусков нет, дубликатов нет, данные выглядят нормально.\n",
    "\n",
    "Классы не сбалансированы."
   ]
  },
  {
   "cell_type": "code",
   "execution_count": 10,
   "metadata": {},
   "outputs": [],
   "source": [
    "def lemma_by_spacy_clear(text):\n",
    "    doc = nlp(text)\n",
    "    doc=\" \".join([token.lemma_ for token in doc if not token.is_stop])\n",
    "    doc=re.sub(r'[^a-zA-Z ]',' ',doc)\n",
    "      \n",
    "    return \" \".join(doc.split())"
   ]
  },
  {
   "cell_type": "code",
   "execution_count": 11,
   "metadata": {},
   "outputs": [],
   "source": [
    "def lemma_by_spacy_clear(text):\n",
    "    doc = nlp(text)\n",
    "    doc=\" \".join([token.lemma_ for token in doc])\n",
    "    doc=re.sub(r'[^a-zA-Z ]',' ',doc)\n",
    "  \n",
    "    return \" \".join(doc.split())"
   ]
  },
  {
   "cell_type": "code",
   "execution_count": 12,
   "metadata": {},
   "outputs": [],
   "source": [
    "nlp = spacy.load('en_core_web_sm', disable=['parser', 'ner'])"
   ]
  },
  {
   "cell_type": "code",
   "execution_count": 13,
   "metadata": {},
   "outputs": [],
   "source": [
    "#lemmatizer = WordNetLemmatizer()\n",
    "#\n",
    "#def lemmatize_text(text):\n",
    "#    text = text.lower()\n",
    "#    lemm_text = \"\".join(lemmatizer.lemmatize(text))\n",
    "#    cleared_text = re.sub(r'[^a-zA-Z]', ' ', lemm_text) \n",
    "#    return \" \".join(cleared_text.split())\n",
    "#\n",
    "#df['lemm_text'] = df['text'].apply(lemmatize_text)\n",
    "#\n",
    "#df = df.drop(['text'], axis=1)"
   ]
  },
  {
   "cell_type": "code",
   "execution_count": 14,
   "metadata": {},
   "outputs": [],
   "source": [
    "#df = df.sample(5000) #уменьшаю выборку иначе выполняется более 30 мин."
   ]
  },
  {
   "cell_type": "code",
   "execution_count": 15,
   "metadata": {
    "scrolled": true
   },
   "outputs": [
    {
     "name": "stdout",
     "output_type": "stream",
     "text": [
      "Wall time: 21min 32s\n"
     ]
    }
   ],
   "source": [
    "%%time\n",
    "df['lemma_text'] = df['text'].apply(lemma_by_spacy_clear)"
   ]
  },
  {
   "cell_type": "code",
   "execution_count": 16,
   "metadata": {},
   "outputs": [],
   "source": [
    "df['len_text'] = df['text'].apply(len)"
   ]
  },
  {
   "cell_type": "code",
   "execution_count": 17,
   "metadata": {},
   "outputs": [],
   "source": [
    "df['num_words'] = df['text'].apply(lambda x: len(x.split()))"
   ]
  },
  {
   "cell_type": "code",
   "execution_count": 18,
   "metadata": {},
   "outputs": [],
   "source": [
    "features = df[['lemma_text', 'len_text', 'num_words']]\n",
    "target = df['toxic']"
   ]
  },
  {
   "cell_type": "code",
   "execution_count": 19,
   "metadata": {
    "scrolled": false
   },
   "outputs": [
    {
     "data": {
      "image/png": "[encoded data removed]",
      "text/plain": [
       "<Figure size 432x288 with 1 Axes>"
      ]
     },
     "metadata": {
      "needs_background": "light"
     },
     "output_type": "display_data"
    }
   ],
   "source": [
    "text = df['lemma_text']\n",
    "text = \"\".join([ch for ch in text if ch not in string.digits])\n",
    "text = word_tokenize(text)\n",
    "text = nltk.Text(text)\n",
    "fdist = FreqDist(text)\n",
    "fdist.plot(20,cumulative=False)\n",
    "plt.show()"
   ]
  },
  {
   "cell_type": "markdown",
   "metadata": {},
   "source": [
    "Похоже что это отзывы на википедии)"
   ]
  },
  {
   "cell_type": "code",
   "execution_count": 20,
   "metadata": {},
   "outputs": [],
   "source": [
    "features_train,features_test,target_train,target_test=train_test_split(features,\n",
    "                                                                       target,\n",
    "                                                                       test_size=0.3,\n",
    "                                                                       random_state=12345,\n",
    "                                                                       stratify=target)"
   ]
  },
  {
   "cell_type": "code",
   "execution_count": 21,
   "metadata": {},
   "outputs": [],
   "source": [
    "#Функция балансировки\n",
    "#def upsample(features, target, repeat): \n",
    "#    features_zeros = features[target == 0]\n",
    "#    features_ones = features[target == 1]\n",
    "#    target_zeros = target[target == 0]  \n",
    "#    target_ones = target[target == 1]\n",
    "#    features_upsampled = pd.concat([features_zeros] + [features_ones] * repeat) \n",
    "#    target_upsampled = pd.concat([target_zeros] + [target_ones] * repeat)\n",
    "#    features_upsampled, target_upsampled = shuffle( features_upsampled, target_upsampled, random_state=42)\n",
    "#    return features_upsampled, target_upsampled"
   ]
  },
  {
   "cell_type": "code",
   "execution_count": 22,
   "metadata": {},
   "outputs": [],
   "source": [
    "#features, target = upsample(corpus_lemma, target, repeat=8)"
   ]
  },
  {
   "cell_type": "code",
   "execution_count": 23,
   "metadata": {
    "scrolled": true
   },
   "outputs": [],
   "source": [
    "#target.hist()\n",
    "#plt.title('Распределение Target')\n",
    "#plt.show()"
   ]
  },
  {
   "cell_type": "code",
   "execution_count": 24,
   "metadata": {
    "scrolled": false
   },
   "outputs": [
    {
     "name": "stderr",
     "output_type": "stream",
     "text": [
      "[nltk_data] Downloading package stopwords to\n",
      "[nltk_data]     C:\\Users\\Иван\\AppData\\Roaming\\nltk_data...\n",
      "[nltk_data]   Package stopwords is already up-to-date!\n"
     ]
    }
   ],
   "source": [
    "nltk.download('stopwords')\n",
    "stopwords = set(nltk_stopwords.words('english'))\n",
    "\n",
    "count_tf_idf = TfidfVectorizer(stop_words=stopwords)"
   ]
  },
  {
   "cell_type": "code",
   "execution_count": 25,
   "metadata": {},
   "outputs": [],
   "source": [
    "features_train_tfidf = count_tf_idf.fit_transform(features_train['lemma_text'])\n",
    "features_test_tfidf = count_tf_idf.transform(features_test['lemma_text'])"
   ]
  },
  {
   "cell_type": "code",
   "execution_count": 26,
   "metadata": {},
   "outputs": [],
   "source": [
    "new_column1 = np.array(features_train[['len_text','num_words']])\n",
    "new_column2 = np.array(features_test[['len_text','num_words']])"
   ]
  },
  {
   "cell_type": "code",
   "execution_count": 27,
   "metadata": {},
   "outputs": [],
   "source": [
    "features_train_tfidf_f = sp.sparse.hstack((features_train_tfidf, new_column1))\n",
    "features_test_tfidf_f = sp.sparse.hstack((features_test_tfidf, new_column2))"
   ]
  },
  {
   "cell_type": "code",
   "execution_count": 28,
   "metadata": {},
   "outputs": [],
   "source": [
    "#features_train, features_valid, target_train, target_valid = train_test_split(features, \n",
    "#                                                                              target, \n",
    "#                                                                              test_size=0.5, \n",
    "#                                                                              random_state=12345,\n",
    "#                                                                              stratify=target)\n",
    "#features_valid, features_test, target_valid, target_test = train_test_split(features_valid, \n",
    "#                                                                            target_valid, \n",
    "#                                                                            test_size=0.5,\n",
    "#                                                                            random_state=12345)"
   ]
  },
  {
   "cell_type": "markdown",
   "metadata": {},
   "source": [
    "## Обучение"
   ]
  },
  {
   "cell_type": "markdown",
   "metadata": {},
   "source": [
    "LogisticRegression"
   ]
  },
  {
   "cell_type": "code",
   "execution_count": 29,
   "metadata": {},
   "outputs": [
    {
     "name": "stdout",
     "output_type": "stream",
     "text": [
      "Подбор гиперпараметров:\n",
      "\n",
      "Лучшие гиперпараметры:\n",
      "\n",
      "{'C': 10, 'solver': 'liblinear'}\n",
      "\n",
      "Таблица гиперпараметров:\n",
      "\n",
      "0.702510 for {'C': 0.1, 'solver': 'newton-cg'}\n",
      "0.642874 for {'C': 0.1, 'solver': 'lbfgs'}\n",
      "0.702468 for {'C': 0.1, 'solver': 'liblinear'}\n",
      "0.746630 for {'C': 1, 'solver': 'newton-cg'}\n",
      "0.660875 for {'C': 1, 'solver': 'lbfgs'}\n",
      "0.745499 for {'C': 1, 'solver': 'liblinear'}\n",
      "0.763645 for {'C': 10, 'solver': 'newton-cg'}\n",
      "0.651315 for {'C': 10, 'solver': 'lbfgs'}\n",
      "0.764179 for {'C': 10, 'solver': 'liblinear'}\n",
      "\n",
      "Wall time: 1min 40s\n"
     ]
    }
   ],
   "source": [
    "%%time\n",
    "classificator = LogisticRegression(class_weight='balanced')\n",
    "hyperparams = [{'solver':['newton-cg', 'lbfgs', 'liblinear'],\n",
    "                'C':[0.1, 1, 10]}]\n",
    "print('Подбор гиперпараметров:')\n",
    "print()\n",
    "clf = GridSearchCV(classificator, hyperparams, scoring='f1',cv=2)\n",
    "clf.fit(features_train_tfidf_f, target_train)\n",
    "\n",
    "print(\"Лучшие гиперпараметры:\")\n",
    "print()\n",
    "LR_best_params = clf.best_params_\n",
    "print(LR_best_params)\n",
    "print()\n",
    "print(\"Таблица гиперпараметров:\")\n",
    "print()\n",
    "means = clf.cv_results_['mean_test_score']\n",
    "stds = clf.cv_results_['std_test_score']\n",
    "for mean, std, params in zip(means, stds, clf.cv_results_['params']):\n",
    "    print(\"%0.6f for %r\"% (mean, params))\n",
    "print()\n",
    "\n",
    "train_f1_LR = clf.best_score_"
   ]
  },
  {
   "cell_type": "code",
   "execution_count": 30,
   "metadata": {},
   "outputs": [
    {
     "name": "stdout",
     "output_type": "stream",
     "text": [
      "F1 на тесте 0.7583412774070541\n"
     ]
    }
   ],
   "source": [
    "classificator = LogisticRegression()\n",
    "classificator.set_params(**LR_best_params)\n",
    "classificator.fit(features_train_tfidf_f, target_train)\n",
    "target_predict = classificator.predict(features_test_tfidf_f)\n",
    "test_f1_LR = f1_score(target_test, target_predict)\n",
    "print('F1 на тесте', test_f1_LR)"
   ]
  },
  {
   "cell_type": "code",
   "execution_count": 31,
   "metadata": {},
   "outputs": [
    {
     "name": "stdout",
     "output_type": "stream",
     "text": [
      "Подбор гиперпараметров:\n",
      "\n",
      "Лучшие гиперпараметры:\n",
      "\n",
      "{'max_depth': 88, 'random_state': 1515}\n",
      "\n",
      "Таблица гиперпараметров:\n",
      "\n",
      "0.706897 for {'max_depth': 50, 'random_state': 1515}\n",
      "0.706248 for {'max_depth': 52, 'random_state': 1515}\n",
      "0.706713 for {'max_depth': 54, 'random_state': 1515}\n",
      "0.705190 for {'max_depth': 56, 'random_state': 1515}\n",
      "0.708884 for {'max_depth': 58, 'random_state': 1515}\n",
      "0.711552 for {'max_depth': 60, 'random_state': 1515}\n",
      "0.711593 for {'max_depth': 62, 'random_state': 1515}\n",
      "0.709999 for {'max_depth': 64, 'random_state': 1515}\n",
      "0.714659 for {'max_depth': 66, 'random_state': 1515}\n",
      "0.711712 for {'max_depth': 68, 'random_state': 1515}\n",
      "0.713634 for {'max_depth': 70, 'random_state': 1515}\n",
      "0.712011 for {'max_depth': 72, 'random_state': 1515}\n",
      "0.713639 for {'max_depth': 74, 'random_state': 1515}\n",
      "0.713064 for {'max_depth': 76, 'random_state': 1515}\n",
      "0.714310 for {'max_depth': 78, 'random_state': 1515}\n",
      "0.714606 for {'max_depth': 80, 'random_state': 1515}\n",
      "0.715338 for {'max_depth': 82, 'random_state': 1515}\n",
      "0.716665 for {'max_depth': 84, 'random_state': 1515}\n",
      "0.714676 for {'max_depth': 86, 'random_state': 1515}\n",
      "0.718624 for {'max_depth': 88, 'random_state': 1515}\n",
      "0.715024 for {'max_depth': 90, 'random_state': 1515}\n",
      "0.718502 for {'max_depth': 92, 'random_state': 1515}\n",
      "0.716296 for {'max_depth': 94, 'random_state': 1515}\n",
      "0.716561 for {'max_depth': 96, 'random_state': 1515}\n",
      "0.717051 for {'max_depth': 98, 'random_state': 1515}\n",
      "\n",
      "Wall time: 21min 36s\n"
     ]
    }
   ],
   "source": [
    "%%time\n",
    "classificator = DecisionTreeClassifier()\n",
    "hyperparams = [{'max_depth':[x for x in range(50,100,2)],\n",
    "                'random_state':[1515],}]\n",
    "\n",
    "\n",
    "print('Подбор гиперпараметров:')\n",
    "print()\n",
    "clf = GridSearchCV(classificator, hyperparams, scoring='f1',cv=2)\n",
    "clf.fit(features_train_tfidf_f, target_train)\n",
    "print(\"Лучшие гиперпараметры:\")\n",
    "print()\n",
    "DTC_best_params = clf.best_params_\n",
    "print(DTC_best_params)\n",
    "print()\n",
    "print(\"Таблица гиперпараметров:\")\n",
    "print()\n",
    "means = clf.cv_results_['mean_test_score']\n",
    "stds = clf.cv_results_['std_test_score']\n",
    "for mean, std, params in zip(means, stds, clf.cv_results_['params']):\n",
    "    print(\"%0.6f for %r\"% (mean, params))\n",
    "print()\n",
    "\n",
    "train_f1_DTC = clf.best_score_"
   ]
  },
  {
   "cell_type": "code",
   "execution_count": 32,
   "metadata": {},
   "outputs": [
    {
     "name": "stdout",
     "output_type": "stream",
     "text": [
      "F1 на тесте 0.7168\n"
     ]
    }
   ],
   "source": [
    "classificator = DecisionTreeClassifier()\n",
    "classificator.set_params(**DTC_best_params)\n",
    "classificator.fit(features_train_tfidf_f, target_train)\n",
    "target_predict = classificator.predict(features_test_tfidf_f)\n",
    "test_f1_DTC = f1_score(target_test, target_predict)\n",
    "\n",
    "print('F1 на тесте', test_f1_DTC)"
   ]
  },
  {
   "cell_type": "code",
   "execution_count": 33,
   "metadata": {
    "scrolled": true
   },
   "outputs": [
    {
     "name": "stdout",
     "output_type": "stream",
     "text": [
      "Лучшие гиперпараметры:\n",
      "\n",
      "{'iterations': 300}\n",
      "\n",
      "Таблица гиперпараметров:\n",
      "\n",
      "0.731569 for {'iterations': 200}\n",
      "0.732427 for {'iterations': 250}\n",
      "0.733735 for {'iterations': 300}\n",
      "\n",
      "Wall time: 8min 4s\n"
     ]
    }
   ],
   "source": [
    "%%time\n",
    "classificator = CatBoostClassifier(verbose = False)\n",
    "#hyperparams = {'depth'         : [4,7,10],\n",
    "#                 'learning_rate' : [0.01,0.03,0.04],\n",
    "#                  'iterations'    : [10,50,100]\n",
    "#                 }\n",
    "hyperparams = {'iterations'    : [200,250,300]}\n",
    "clf = GridSearchCV(classificator, hyperparams, scoring='f1',cv=2,n_jobs=-1)\n",
    "clf.fit(features_train_tfidf_f,target_train)\n",
    "\n",
    "\n",
    "print(\"Лучшие гиперпараметры:\")\n",
    "print()\n",
    "CBC_best_params = clf.best_params_\n",
    "print(CBC_best_params)\n",
    "print()\n",
    "print(\"Таблица гиперпараметров:\")\n",
    "print()\n",
    "means = clf.cv_results_['mean_test_score']\n",
    "stds = clf.cv_results_['std_test_score']\n",
    "for mean, std, params in zip(means, stds, clf.cv_results_['params']):\n",
    "    print(\"%0.6f for %r\"% (mean, params))\n",
    "print()\n",
    "test_f1_CBC = clf.best_score_"
   ]
  },
  {
   "cell_type": "code",
   "execution_count": 34,
   "metadata": {},
   "outputs": [],
   "source": [
    "classificator.fit(features_train_tfidf_f, target_train)\n",
    "target_predict = classificator.predict(features_test_tfidf_f)\n",
    "\n",
    "train_f1_CBC = f1_score(target_test, target_predict)"
   ]
  },
  {
   "cell_type": "code",
   "execution_count": 35,
   "metadata": {},
   "outputs": [
    {
     "data": {
      "text/html": [
       "<div>\n",
       "<style scoped>\n",
       "    .dataframe tbody tr th:only-of-type {\n",
       "        vertical-align: middle;\n",
       "    }\n",
       "\n",
       "    .dataframe tbody tr th {\n",
       "        vertical-align: top;\n",
       "    }\n",
       "\n",
       "    .dataframe thead th {\n",
       "        text-align: right;\n",
       "    }\n",
       "</style>\n",
       "<table border=\"1\" class=\"dataframe\">\n",
       "  <thead>\n",
       "    <tr style=\"text-align: right;\">\n",
       "      <th></th>\n",
       "      <th>F1 на обучении</th>\n",
       "      <th>F1 на тесте</th>\n",
       "      <th>Выполнение задачи</th>\n",
       "    </tr>\n",
       "  </thead>\n",
       "  <tbody>\n",
       "    <tr>\n",
       "      <th>LogisticRegression</th>\n",
       "      <td>0.764179</td>\n",
       "      <td>0.758341</td>\n",
       "      <td>True</td>\n",
       "    </tr>\n",
       "    <tr>\n",
       "      <th>DecisionTreeClassifier</th>\n",
       "      <td>0.718624</td>\n",
       "      <td>0.716800</td>\n",
       "      <td>False</td>\n",
       "    </tr>\n",
       "    <tr>\n",
       "      <th>CatBoostClassifier</th>\n",
       "      <td>0.751805</td>\n",
       "      <td>0.733735</td>\n",
       "      <td>False</td>\n",
       "    </tr>\n",
       "  </tbody>\n",
       "</table>\n",
       "</div>"
      ],
      "text/plain": [
       "                        F1 на обучении  F1 на тесте  Выполнение задачи\n",
       "LogisticRegression            0.764179     0.758341               True\n",
       "DecisionTreeClassifier        0.718624     0.716800              False\n",
       "CatBoostClassifier            0.751805     0.733735              False"
      ]
     },
     "execution_count": 35,
     "metadata": {},
     "output_type": "execute_result"
    }
   ],
   "source": [
    "index = ['LogisticRegression',\n",
    "         'DecisionTreeClassifier',\n",
    "         'CatBoostClassifier']\n",
    "data = {'F1 на обучении':[train_f1_LR,\n",
    "                    train_f1_DTC,\n",
    "                    train_f1_CBC],\n",
    "        'F1 на тесте':[test_f1_LR,\n",
    "                           test_f1_DTC,\n",
    "                           test_f1_CBC]}\n",
    "\n",
    "\n",
    "scores_data = pd.DataFrame(data=data, index=index)\n",
    "scores_data['Выполнение задачи'] = scores_data['F1 на тесте'] > 0.75\n",
    "scores_data"
   ]
  },
  {
   "cell_type": "markdown",
   "metadata": {},
   "source": [
    "## Выводы"
   ]
  },
  {
   "cell_type": "markdown",
   "metadata": {},
   "source": [
    "Произведена загрузка и предпросмотр данных.\n",
    "\n",
    "Использовались библиотеки\n",
    "numpy \n",
    "pandas  \n",
    "re\n",
    "nltk\n",
    "spacy\n",
    "matplotlib\n",
    "string\n",
    "scipy\n",
    "nltk \n",
    "sklearn\n",
    "scipy\n",
    "\n",
    "Произведео создание дополнительных признаков.\n",
    "\n",
    "Обучены модели LogisticRegression, DecisionTreeClassifier, CatBoostClassifier.\n",
    "\n",
    "В итоге модель LogisticRegression показала лучшие результаты на обучающей и тестовой выборках.\n"
   ]
  }
 ],
 "metadata": {
  "ExecuteTimeLog": [
   {
    "duration": 375,
    "start_time": "2022-09-13T20:52:15.648Z"
   },
   {
    "duration": 65,
    "start_time": "2022-09-13T20:53:02.985Z"
   },
   {
    "duration": 2,
    "start_time": "2022-09-13T20:53:05.941Z"
   },
   {
    "duration": 2,
    "start_time": "2022-09-13T20:53:11.164Z"
   },
   {
    "duration": 3234,
    "start_time": "2022-09-13T20:53:12.612Z"
   },
   {
    "duration": 2393,
    "start_time": "2022-09-13T20:56:03.333Z"
   },
   {
    "duration": 31,
    "start_time": "2022-09-13T20:58:00.207Z"
   },
   {
    "duration": 1844,
    "start_time": "2022-09-13T21:00:15.013Z"
   },
   {
    "duration": 41,
    "start_time": "2022-09-13T21:00:16.858Z"
   },
   {
    "duration": 11,
    "start_time": "2022-09-13T21:00:19.955Z"
   },
   {
    "duration": 2872,
    "start_time": "2022-09-13T21:00:34.650Z"
   },
   {
    "duration": 10,
    "start_time": "2022-09-13T21:00:38.775Z"
   },
   {
    "duration": 4,
    "start_time": "2022-09-13T21:00:48.018Z"
   },
   {
    "duration": 1146,
    "start_time": "2022-09-13T21:01:07.094Z"
   },
   {
    "duration": 10,
    "start_time": "2022-09-13T21:01:26.953Z"
   },
   {
    "duration": 9,
    "start_time": "2022-09-13T21:01:31.002Z"
   },
   {
    "duration": 8,
    "start_time": "2022-09-13T21:02:00.513Z"
   },
   {
    "duration": 8,
    "start_time": "2022-09-13T21:02:07.505Z"
   },
   {
    "duration": 1929,
    "start_time": "2022-09-13T21:02:10.700Z"
   },
   {
    "duration": 7,
    "start_time": "2022-09-13T21:02:12.630Z"
   },
   {
    "duration": 10,
    "start_time": "2022-09-13T21:02:13.593Z"
   },
   {
    "duration": 9,
    "start_time": "2022-09-13T21:02:14.101Z"
   },
   {
    "duration": 6,
    "start_time": "2022-09-13T21:02:36.109Z"
   },
   {
    "duration": 6,
    "start_time": "2022-09-13T21:02:41.473Z"
   },
   {
    "duration": 2012,
    "start_time": "2022-09-13T21:02:49.748Z"
   },
   {
    "duration": 7,
    "start_time": "2022-09-13T21:02:52.308Z"
   },
   {
    "duration": 7,
    "start_time": "2022-09-13T21:02:54.580Z"
   },
   {
    "duration": 15,
    "start_time": "2022-09-13T21:02:56.533Z"
   },
   {
    "duration": 8,
    "start_time": "2022-09-13T21:02:57.196Z"
   },
   {
    "duration": 7,
    "start_time": "2022-09-13T21:05:08.706Z"
   },
   {
    "duration": 10,
    "start_time": "2022-09-13T21:05:10.166Z"
   },
   {
    "duration": 891,
    "start_time": "2022-09-13T21:05:19.815Z"
   },
   {
    "duration": 3,
    "start_time": "2022-09-13T21:05:22.978Z"
   },
   {
    "duration": 3115,
    "start_time": "2022-09-13T21:05:23.571Z"
   },
   {
    "duration": 3,
    "start_time": "2022-09-13T21:05:46.461Z"
   },
   {
    "duration": 681,
    "start_time": "2022-09-13T21:05:50.850Z"
   },
   {
    "duration": 3156,
    "start_time": "2022-09-13T21:06:00.570Z"
   },
   {
    "duration": 17,
    "start_time": "2022-09-13T21:06:22.965Z"
   },
   {
    "duration": 2,
    "start_time": "2022-09-13T21:06:39.227Z"
   },
   {
    "duration": 64,
    "start_time": "2022-09-13T21:06:42.409Z"
   },
   {
    "duration": 4,
    "start_time": "2022-09-13T21:06:51.913Z"
   },
   {
    "duration": 66,
    "start_time": "2022-09-13T21:06:54.319Z"
   },
   {
    "duration": 1895,
    "start_time": "2022-09-13T21:07:20.659Z"
   },
   {
    "duration": 2378,
    "start_time": "2022-09-13T21:07:22.556Z"
   },
   {
    "duration": 14,
    "start_time": "2022-09-13T21:07:24.935Z"
   },
   {
    "duration": 10,
    "start_time": "2022-09-13T21:07:24.951Z"
   },
   {
    "duration": 6,
    "start_time": "2022-09-13T21:07:24.963Z"
   },
   {
    "duration": 19,
    "start_time": "2022-09-13T21:07:24.971Z"
   },
   {
    "duration": 2550,
    "start_time": "2022-09-13T21:07:24.991Z"
   },
   {
    "duration": 26479,
    "start_time": "2022-09-13T21:07:27.542Z"
   },
   {
    "duration": 315,
    "start_time": "2022-09-13T21:07:54.023Z"
   },
   {
    "duration": 9,
    "start_time": "2022-09-13T21:10:47.981Z"
   },
   {
    "duration": 4,
    "start_time": "2022-09-13T21:17:45.981Z"
   },
   {
    "duration": 4,
    "start_time": "2022-09-13T21:17:51.088Z"
   },
   {
    "duration": 4,
    "start_time": "2022-09-13T21:18:39.992Z"
   },
   {
    "duration": 5,
    "start_time": "2022-09-13T21:18:46.154Z"
   },
   {
    "duration": 4,
    "start_time": "2022-09-13T21:18:51.247Z"
   },
   {
    "duration": 3,
    "start_time": "2022-09-13T21:19:00.150Z"
   },
   {
    "duration": 3,
    "start_time": "2022-09-13T21:19:07.308Z"
   },
   {
    "duration": 3,
    "start_time": "2022-09-13T21:22:19.418Z"
   },
   {
    "duration": 701,
    "start_time": "2022-09-13T21:23:29.704Z"
   },
   {
    "duration": 4,
    "start_time": "2022-09-13T21:23:31.644Z"
   },
   {
    "duration": 2451,
    "start_time": "2022-09-13T21:23:35.705Z"
   },
   {
    "duration": 1900,
    "start_time": "2022-09-13T21:24:31.145Z"
   },
   {
    "duration": 2328,
    "start_time": "2022-09-13T21:24:33.047Z"
   },
   {
    "duration": 22,
    "start_time": "2022-09-13T21:24:35.376Z"
   },
   {
    "duration": 11,
    "start_time": "2022-09-13T21:24:35.400Z"
   },
   {
    "duration": 19,
    "start_time": "2022-09-13T21:24:35.413Z"
   },
   {
    "duration": 10,
    "start_time": "2022-09-13T21:24:35.433Z"
   },
   {
    "duration": 2559,
    "start_time": "2022-09-13T21:24:35.445Z"
   },
   {
    "duration": 4,
    "start_time": "2022-09-13T21:24:38.005Z"
   },
   {
    "duration": 264,
    "start_time": "2022-09-13T21:24:38.846Z"
   },
   {
    "duration": 26597,
    "start_time": "2022-09-13T21:24:43.356Z"
   },
   {
    "duration": 53237,
    "start_time": "2022-09-13T21:25:09.955Z"
   },
   {
    "duration": 6,
    "start_time": "2022-09-13T21:26:15.686Z"
   },
   {
    "duration": 19,
    "start_time": "2022-09-13T21:26:41.807Z"
   },
   {
    "duration": 431,
    "start_time": "2022-09-13T21:26:59.161Z"
   },
   {
    "duration": 617,
    "start_time": "2022-09-13T21:27:01.678Z"
   },
   {
    "duration": 2,
    "start_time": "2022-09-13T21:27:25.106Z"
   },
   {
    "duration": 569,
    "start_time": "2022-09-13T21:27:28.022Z"
   },
   {
    "duration": 3,
    "start_time": "2022-09-13T21:29:09.111Z"
   },
   {
    "duration": 571,
    "start_time": "2022-09-13T21:29:49.364Z"
   },
   {
    "duration": 700,
    "start_time": "2022-09-13T21:30:04.112Z"
   },
   {
    "duration": 179,
    "start_time": "2022-09-13T21:32:04.178Z"
   },
   {
    "duration": 735,
    "start_time": "2022-09-13T21:32:12.452Z"
   },
   {
    "duration": 6,
    "start_time": "2022-09-13T21:32:17.194Z"
   },
   {
    "duration": 2281,
    "start_time": "2022-09-13T21:32:29.456Z"
   },
   {
    "duration": 2240,
    "start_time": "2022-09-13T21:32:48.205Z"
   },
   {
    "duration": 2240,
    "start_time": "2022-09-13T21:32:50.447Z"
   },
   {
    "duration": 13,
    "start_time": "2022-09-13T21:32:52.688Z"
   },
   {
    "duration": 19,
    "start_time": "2022-09-13T21:32:52.703Z"
   },
   {
    "duration": 10,
    "start_time": "2022-09-13T21:32:52.724Z"
   },
   {
    "duration": 9,
    "start_time": "2022-09-13T21:32:52.735Z"
   },
   {
    "duration": 2385,
    "start_time": "2022-09-13T21:32:52.745Z"
   },
   {
    "duration": 4,
    "start_time": "2022-09-13T21:32:55.132Z"
   },
   {
    "duration": 26388,
    "start_time": "2022-09-13T21:32:55.138Z"
   },
   {
    "duration": 45,
    "start_time": "2022-09-13T21:41:52.466Z"
   },
   {
    "duration": 2179,
    "start_time": "2022-09-13T21:41:56.557Z"
   },
   {
    "duration": 2029,
    "start_time": "2022-09-13T21:41:58.738Z"
   },
   {
    "duration": 21,
    "start_time": "2022-09-13T21:42:00.769Z"
   },
   {
    "duration": 25,
    "start_time": "2022-09-13T21:42:00.792Z"
   },
   {
    "duration": 35,
    "start_time": "2022-09-13T21:42:00.818Z"
   },
   {
    "duration": 35,
    "start_time": "2022-09-13T21:42:00.855Z"
   },
   {
    "duration": 2553,
    "start_time": "2022-09-13T21:42:00.892Z"
   },
   {
    "duration": 4,
    "start_time": "2022-09-13T21:42:03.447Z"
   },
   {
    "duration": 26481,
    "start_time": "2022-09-13T21:42:06.039Z"
   },
   {
    "duration": 3,
    "start_time": "2022-09-13T21:46:41.513Z"
   },
   {
    "duration": 2,
    "start_time": "2022-09-13T21:47:12.521Z"
   },
   {
    "duration": 45,
    "start_time": "2022-09-15T23:07:42.797Z"
   },
   {
    "duration": 2180,
    "start_time": "2022-09-15T23:07:46.032Z"
   },
   {
    "duration": 2034,
    "start_time": "2022-09-15T23:07:48.214Z"
   },
   {
    "duration": 16,
    "start_time": "2022-09-15T23:07:50.249Z"
   },
   {
    "duration": 9,
    "start_time": "2022-09-15T23:07:50.267Z"
   },
   {
    "duration": 9,
    "start_time": "2022-09-15T23:07:50.278Z"
   },
   {
    "duration": 11,
    "start_time": "2022-09-15T23:07:50.289Z"
   },
   {
    "duration": 3,
    "start_time": "2022-09-15T23:07:52.058Z"
   },
   {
    "duration": 3,
    "start_time": "2022-09-15T23:07:55.474Z"
   },
   {
    "duration": 3,
    "start_time": "2022-09-15T23:07:55.898Z"
   },
   {
    "duration": 98,
    "start_time": "2022-09-15T23:08:12.374Z"
   },
   {
    "duration": 2,
    "start_time": "2022-09-15T23:08:20.806Z"
   },
   {
    "duration": 4,
    "start_time": "2022-09-15T23:11:31.665Z"
   },
   {
    "duration": 3,
    "start_time": "2022-09-15T23:11:34.375Z"
   },
   {
    "duration": 3,
    "start_time": "2022-09-15T23:11:35.238Z"
   },
   {
    "duration": 33,
    "start_time": "2022-09-15T23:11:35.923Z"
   },
   {
    "duration": 8,
    "start_time": "2022-09-15T23:12:14.998Z"
   },
   {
    "duration": 3,
    "start_time": "2022-09-15T23:12:16.771Z"
   },
   {
    "duration": 23,
    "start_time": "2022-09-15T23:12:18.167Z"
   },
   {
    "duration": 701,
    "start_time": "2022-09-15T23:12:57.014Z"
   },
   {
    "duration": 17,
    "start_time": "2022-09-15T23:24:33.029Z"
   },
   {
    "duration": 497,
    "start_time": "2022-09-15T23:24:58.973Z"
   },
   {
    "duration": 30,
    "start_time": "2022-09-15T23:25:01.807Z"
   },
   {
    "duration": 1486,
    "start_time": "2022-09-15T23:25:20.327Z"
   },
   {
    "duration": 4,
    "start_time": "2022-09-15T23:25:39.007Z"
   },
   {
    "duration": 27,
    "start_time": "2022-09-15T23:25:41.870Z"
   },
   {
    "duration": 4,
    "start_time": "2022-09-15T23:26:04.914Z"
   },
   {
    "duration": 26,
    "start_time": "2022-09-15T23:26:08.342Z"
   },
   {
    "duration": 2082,
    "start_time": "2022-09-15T23:26:19.490Z"
   },
   {
    "duration": 5565,
    "start_time": "2022-09-15T23:26:24.150Z"
   },
   {
    "duration": 14,
    "start_time": "2022-09-15T23:28:32.356Z"
   },
   {
    "duration": 4,
    "start_time": "2022-09-15T23:28:41.635Z"
   },
   {
    "duration": 5718,
    "start_time": "2022-09-15T23:28:46.125Z"
   },
   {
    "duration": 2313,
    "start_time": "2022-09-15T23:30:51.236Z"
   },
   {
    "duration": 2243,
    "start_time": "2022-09-15T23:30:53.551Z"
   },
   {
    "duration": 15,
    "start_time": "2022-09-15T23:30:55.796Z"
   },
   {
    "duration": 33,
    "start_time": "2022-09-15T23:30:55.823Z"
   },
   {
    "duration": 71,
    "start_time": "2022-09-15T23:30:55.859Z"
   },
   {
    "duration": 61,
    "start_time": "2022-09-15T23:30:55.932Z"
   },
   {
    "duration": 46,
    "start_time": "2022-09-15T23:30:55.995Z"
   },
   {
    "duration": 1476,
    "start_time": "2022-09-15T23:30:56.043Z"
   },
   {
    "duration": 20,
    "start_time": "2022-09-15T23:31:07.749Z"
   },
   {
    "duration": 49,
    "start_time": "2022-09-15T23:31:12.591Z"
   },
   {
    "duration": 13,
    "start_time": "2022-09-15T23:31:13.942Z"
   },
   {
    "duration": 912,
    "start_time": "2022-09-16T00:04:42.829Z"
   },
   {
    "duration": 11,
    "start_time": "2022-09-16T00:05:15.075Z"
   },
   {
    "duration": 15,
    "start_time": "2022-09-16T00:05:19.442Z"
   },
   {
    "duration": 6,
    "start_time": "2022-09-16T00:18:36.317Z"
   },
   {
    "duration": 9,
    "start_time": "2022-09-16T00:18:57.284Z"
   },
   {
    "duration": 532,
    "start_time": "2022-09-16T01:37:51.085Z"
   },
   {
    "duration": 4,
    "start_time": "2022-09-16T01:38:48.638Z"
   },
   {
    "duration": 136,
    "start_time": "2022-09-16T01:38:52.104Z"
   },
   {
    "duration": 139,
    "start_time": "2022-09-16T01:39:32.043Z"
   },
   {
    "duration": 131,
    "start_time": "2022-09-16T01:39:35.172Z"
   },
   {
    "duration": 62,
    "start_time": "2022-09-16T01:39:52.087Z"
   },
   {
    "duration": 2240,
    "start_time": "2022-09-16T01:41:11.665Z"
   },
   {
    "duration": 8,
    "start_time": "2022-09-16T01:41:13.907Z"
   },
   {
    "duration": 36,
    "start_time": "2022-09-16T01:41:13.917Z"
   },
   {
    "duration": 7,
    "start_time": "2022-09-16T01:41:14.850Z"
   },
   {
    "duration": 29,
    "start_time": "2022-09-16T01:41:16.074Z"
   },
   {
    "duration": 135,
    "start_time": "2022-09-16T01:41:17.877Z"
   },
   {
    "duration": 4,
    "start_time": "2022-09-16T01:55:40.775Z"
   },
   {
    "duration": 12,
    "start_time": "2022-09-16T01:56:12.153Z"
   },
   {
    "duration": 4,
    "start_time": "2022-09-16T01:56:14.433Z"
   },
   {
    "duration": 12,
    "start_time": "2022-09-16T01:56:15.677Z"
   },
   {
    "duration": 3,
    "start_time": "2022-09-16T01:56:38.704Z"
   },
   {
    "duration": 3,
    "start_time": "2022-09-16T01:57:18.160Z"
   },
   {
    "duration": 14,
    "start_time": "2022-09-16T01:57:19.336Z"
   },
   {
    "duration": 6,
    "start_time": "2022-09-16T01:57:29.435Z"
   },
   {
    "duration": 5589,
    "start_time": "2022-09-16T01:58:06.151Z"
   },
   {
    "duration": 6,
    "start_time": "2022-09-16T01:58:11.742Z"
   },
   {
    "duration": 4824,
    "start_time": "2022-09-16T02:00:03.390Z"
   },
   {
    "duration": 8,
    "start_time": "2022-09-16T02:01:03.725Z"
   },
   {
    "duration": 18,
    "start_time": "2022-09-16T02:01:05.668Z"
   },
   {
    "duration": 5588,
    "start_time": "2022-09-16T02:01:08.948Z"
   },
   {
    "duration": 5,
    "start_time": "2022-09-16T02:01:14.538Z"
   },
   {
    "duration": 3,
    "start_time": "2022-09-16T02:02:48.359Z"
   },
   {
    "duration": 11,
    "start_time": "2022-09-16T02:02:49.863Z"
   },
   {
    "duration": 4,
    "start_time": "2022-09-16T02:03:40.739Z"
   },
   {
    "duration": 5591,
    "start_time": "2022-09-16T02:04:00.254Z"
   },
   {
    "duration": 4,
    "start_time": "2022-09-16T02:04:05.847Z"
   },
   {
    "duration": 220,
    "start_time": "2022-09-16T02:08:22.298Z"
   },
   {
    "duration": 3,
    "start_time": "2022-09-16T02:08:44.154Z"
   },
   {
    "duration": 1618,
    "start_time": "2022-09-16T02:08:49.785Z"
   },
   {
    "duration": 1246,
    "start_time": "2022-09-16T02:09:53.933Z"
   },
   {
    "duration": 1072,
    "start_time": "2022-09-16T02:10:42.905Z"
   },
   {
    "duration": 870,
    "start_time": "2022-09-16T02:11:02.075Z"
   },
   {
    "duration": 14,
    "start_time": "2022-09-16T02:11:12.943Z"
   },
   {
    "duration": 1052,
    "start_time": "2022-09-16T02:14:34.603Z"
   },
   {
    "duration": 10,
    "start_time": "2022-09-16T02:14:50.673Z"
   },
   {
    "duration": 28,
    "start_time": "2022-09-16T02:14:58.393Z"
   },
   {
    "duration": 4,
    "start_time": "2022-09-16T02:15:05.058Z"
   },
   {
    "duration": 2100,
    "start_time": "2022-09-16T02:15:05.396Z"
   },
   {
    "duration": 7,
    "start_time": "2022-09-16T02:15:07.498Z"
   },
   {
    "duration": 27,
    "start_time": "2022-09-16T02:15:07.506Z"
   },
   {
    "duration": 24,
    "start_time": "2022-09-16T02:15:07.536Z"
   },
   {
    "duration": 31,
    "start_time": "2022-09-16T02:15:07.562Z"
   },
   {
    "duration": 300,
    "start_time": "2022-09-16T02:15:07.646Z"
   },
   {
    "duration": 4,
    "start_time": "2022-09-16T02:15:09.864Z"
   },
   {
    "duration": 21,
    "start_time": "2022-09-16T02:15:10.236Z"
   },
   {
    "duration": 27,
    "start_time": "2022-09-16T02:15:11.004Z"
   },
   {
    "duration": 3,
    "start_time": "2022-09-16T02:15:38.591Z"
   },
   {
    "duration": 5,
    "start_time": "2022-09-16T02:15:48.160Z"
   },
   {
    "duration": 1148,
    "start_time": "2022-09-16T02:15:48.259Z"
   },
   {
    "duration": 13,
    "start_time": "2022-09-16T02:16:03.432Z"
   },
   {
    "duration": 27,
    "start_time": "2022-09-16T02:16:19.891Z"
   },
   {
    "duration": 16,
    "start_time": "2022-09-16T02:16:36.023Z"
   },
   {
    "duration": 5,
    "start_time": "2022-09-16T02:16:40.867Z"
   },
   {
    "duration": 13,
    "start_time": "2022-09-16T02:16:44.633Z"
   },
   {
    "duration": 3,
    "start_time": "2022-09-16T02:17:26.814Z"
   },
   {
    "duration": 12,
    "start_time": "2022-09-16T02:17:27.749Z"
   },
   {
    "duration": 12,
    "start_time": "2022-09-16T02:17:32.933Z"
   },
   {
    "duration": 2334,
    "start_time": "2022-09-16T02:17:39.306Z"
   },
   {
    "duration": 9,
    "start_time": "2022-09-16T02:17:41.642Z"
   },
   {
    "duration": 12,
    "start_time": "2022-09-16T02:17:41.653Z"
   },
   {
    "duration": 11,
    "start_time": "2022-09-16T02:17:41.666Z"
   },
   {
    "duration": 47,
    "start_time": "2022-09-16T02:17:41.678Z"
   },
   {
    "duration": 239,
    "start_time": "2022-09-16T02:17:41.727Z"
   },
   {
    "duration": 4,
    "start_time": "2022-09-16T02:17:42.746Z"
   },
   {
    "duration": 5598,
    "start_time": "2022-09-16T02:17:43.238Z"
   },
   {
    "duration": 20,
    "start_time": "2022-09-16T02:17:48.838Z"
   },
   {
    "duration": 18,
    "start_time": "2022-09-16T02:17:50.782Z"
   },
   {
    "duration": 17,
    "start_time": "2022-09-16T02:17:57.710Z"
   },
   {
    "duration": 11,
    "start_time": "2022-09-16T02:18:37.689Z"
   },
   {
    "duration": 8,
    "start_time": "2022-09-16T02:18:38.609Z"
   },
   {
    "duration": 28,
    "start_time": "2022-09-16T02:18:46.177Z"
   },
   {
    "duration": 1107,
    "start_time": "2022-09-16T02:19:00.457Z"
   },
   {
    "duration": 84,
    "start_time": "2022-09-16T02:19:31.114Z"
   },
   {
    "duration": 3,
    "start_time": "2022-09-16T02:19:43.452Z"
   },
   {
    "duration": 2311,
    "start_time": "2022-09-16T02:21:14.865Z"
   },
   {
    "duration": 1805,
    "start_time": "2022-09-16T02:21:17.178Z"
   },
   {
    "duration": 13,
    "start_time": "2022-09-16T02:21:18.984Z"
   },
   {
    "duration": 29,
    "start_time": "2022-09-16T02:21:18.999Z"
   },
   {
    "duration": 10,
    "start_time": "2022-09-16T02:21:19.037Z"
   },
   {
    "duration": 41,
    "start_time": "2022-09-16T02:21:19.049Z"
   },
   {
    "duration": 161,
    "start_time": "2022-09-16T02:21:19.092Z"
   },
   {
    "duration": 4,
    "start_time": "2022-09-16T02:21:19.254Z"
   },
   {
    "duration": 175,
    "start_time": "2022-09-16T02:21:19.259Z"
   },
   {
    "duration": 0,
    "start_time": "2022-09-16T02:21:19.436Z"
   },
   {
    "duration": 0,
    "start_time": "2022-09-16T02:21:19.437Z"
   },
   {
    "duration": 4,
    "start_time": "2022-09-16T02:21:49.354Z"
   },
   {
    "duration": 1021,
    "start_time": "2022-09-16T02:21:52.862Z"
   },
   {
    "duration": 1138,
    "start_time": "2022-09-16T02:22:02.939Z"
   },
   {
    "duration": 6778,
    "start_time": "2022-09-16T02:22:36.602Z"
   },
   {
    "duration": 11019,
    "start_time": "2022-09-16T02:22:43.382Z"
   },
   {
    "duration": 4,
    "start_time": "2022-09-16T02:23:21.533Z"
   },
   {
    "duration": 4,
    "start_time": "2022-09-16T02:23:36.157Z"
   },
   {
    "duration": 39,
    "start_time": "2022-09-16T02:23:41.893Z"
   },
   {
    "duration": 49168,
    "start_time": "2022-09-16T02:24:03.872Z"
   },
   {
    "duration": 17,
    "start_time": "2022-09-16T02:31:00.914Z"
   },
   {
    "duration": 13,
    "start_time": "2022-09-16T02:31:31.962Z"
   },
   {
    "duration": 12,
    "start_time": "2022-09-16T02:31:53.969Z"
   },
   {
    "duration": 46,
    "start_time": "2022-09-16T02:38:24.188Z"
   },
   {
    "duration": 4,
    "start_time": "2022-09-16T02:38:44.935Z"
   },
   {
    "duration": 64,
    "start_time": "2022-09-16T02:38:55.612Z"
   },
   {
    "duration": 125,
    "start_time": "2022-09-16T02:39:39.387Z"
   },
   {
    "duration": 11,
    "start_time": "2022-09-16T02:40:11.762Z"
   },
   {
    "duration": 57,
    "start_time": "2022-09-16T02:40:28.486Z"
   },
   {
    "duration": 131,
    "start_time": "2022-09-16T02:40:30.361Z"
   },
   {
    "duration": 56,
    "start_time": "2022-09-16T02:40:35.954Z"
   },
   {
    "duration": 128,
    "start_time": "2022-09-16T02:40:36.774Z"
   },
   {
    "duration": 56,
    "start_time": "2022-09-16T02:40:38.554Z"
   },
   {
    "duration": 70,
    "start_time": "2022-09-16T02:40:42.286Z"
   },
   {
    "duration": 148,
    "start_time": "2022-09-16T02:40:43.486Z"
   },
   {
    "duration": 61,
    "start_time": "2022-09-16T02:40:49.549Z"
   },
   {
    "duration": 134,
    "start_time": "2022-09-16T02:40:50.833Z"
   },
   {
    "duration": 71,
    "start_time": "2022-09-16T02:40:55.250Z"
   },
   {
    "duration": 136,
    "start_time": "2022-09-16T02:40:56.035Z"
   },
   {
    "duration": 5,
    "start_time": "2022-09-16T02:42:07.013Z"
   },
   {
    "duration": 5,
    "start_time": "2022-09-16T02:59:45.701Z"
   },
   {
    "duration": 1353,
    "start_time": "2022-09-16T03:00:29.641Z"
   },
   {
    "duration": 6,
    "start_time": "2022-09-16T03:00:38.335Z"
   },
   {
    "duration": 2386,
    "start_time": "2022-09-16T03:00:38.655Z"
   },
   {
    "duration": 8,
    "start_time": "2022-09-16T03:00:41.043Z"
   },
   {
    "duration": 16,
    "start_time": "2022-09-16T03:00:41.052Z"
   },
   {
    "duration": 7,
    "start_time": "2022-09-16T03:00:41.233Z"
   },
   {
    "duration": 33,
    "start_time": "2022-09-16T03:00:42.412Z"
   },
   {
    "duration": 132,
    "start_time": "2022-09-16T03:00:43.033Z"
   },
   {
    "duration": 3,
    "start_time": "2022-09-16T03:00:44.605Z"
   },
   {
    "duration": 3,
    "start_time": "2022-09-16T03:00:45.360Z"
   },
   {
    "duration": 93,
    "start_time": "2022-09-16T03:01:13.039Z"
   },
   {
    "duration": 5,
    "start_time": "2022-09-16T03:01:15.833Z"
   },
   {
    "duration": 137,
    "start_time": "2022-09-16T03:01:28.408Z"
   },
   {
    "duration": 135,
    "start_time": "2022-09-16T03:01:52.556Z"
   },
   {
    "duration": 45,
    "start_time": "2022-09-16T03:05:29.634Z"
   },
   {
    "duration": 2621,
    "start_time": "2022-09-16T03:05:36.960Z"
   },
   {
    "duration": 1844,
    "start_time": "2022-09-16T03:05:39.583Z"
   },
   {
    "duration": 15,
    "start_time": "2022-09-16T03:05:41.432Z"
   },
   {
    "duration": 13,
    "start_time": "2022-09-16T03:05:41.450Z"
   },
   {
    "duration": 10,
    "start_time": "2022-09-16T03:05:41.465Z"
   },
   {
    "duration": 35,
    "start_time": "2022-09-16T03:05:41.477Z"
   },
   {
    "duration": 160,
    "start_time": "2022-09-16T03:05:41.514Z"
   },
   {
    "duration": 4,
    "start_time": "2022-09-16T03:05:41.675Z"
   },
   {
    "duration": 10,
    "start_time": "2022-09-16T03:05:41.680Z"
   },
   {
    "duration": 3,
    "start_time": "2022-09-16T03:05:44.379Z"
   },
   {
    "duration": 6,
    "start_time": "2022-09-16T03:05:44.912Z"
   },
   {
    "duration": 135,
    "start_time": "2022-09-16T03:05:45.704Z"
   },
   {
    "duration": 13,
    "start_time": "2022-09-16T03:05:52.091Z"
   },
   {
    "duration": 48,
    "start_time": "2022-09-16T03:05:55.633Z"
   },
   {
    "duration": 3,
    "start_time": "2022-09-16T03:06:37.275Z"
   },
   {
    "duration": 135,
    "start_time": "2022-09-16T03:06:46.342Z"
   },
   {
    "duration": 709,
    "start_time": "2022-09-16T03:06:52.279Z"
   },
   {
    "duration": 731,
    "start_time": "2022-09-16T03:06:56.959Z"
   },
   {
    "duration": 701,
    "start_time": "2022-09-16T03:07:00.275Z"
   },
   {
    "duration": 3,
    "start_time": "2022-09-16T03:07:54.522Z"
   },
   {
    "duration": 4,
    "start_time": "2022-09-16T03:08:06.802Z"
   },
   {
    "duration": 4,
    "start_time": "2022-09-16T03:08:28.977Z"
   },
   {
    "duration": 728,
    "start_time": "2022-09-16T03:08:31.333Z"
   },
   {
    "duration": 25,
    "start_time": "2022-09-16T03:08:43.410Z"
   },
   {
    "duration": 1321,
    "start_time": "2022-09-16T03:18:27.849Z"
   },
   {
    "duration": 125,
    "start_time": "2022-09-16T03:19:05.573Z"
   },
   {
    "duration": 10,
    "start_time": "2022-09-16T03:20:49.959Z"
   },
   {
    "duration": 55,
    "start_time": "2022-09-16T03:21:35.290Z"
   },
   {
    "duration": 183,
    "start_time": "2022-09-16T03:21:38.406Z"
   },
   {
    "duration": 4,
    "start_time": "2022-09-16T03:21:45.537Z"
   },
   {
    "duration": 4,
    "start_time": "2022-09-16T03:21:55.119Z"
   },
   {
    "duration": 34,
    "start_time": "2022-09-16T03:22:15.582Z"
   },
   {
    "duration": 6,
    "start_time": "2022-09-16T03:22:22.669Z"
   },
   {
    "duration": 4,
    "start_time": "2022-09-16T03:22:26.410Z"
   },
   {
    "duration": 4,
    "start_time": "2022-09-16T03:22:46.994Z"
   },
   {
    "duration": 18,
    "start_time": "2022-09-16T03:26:48.336Z"
   },
   {
    "duration": 7,
    "start_time": "2022-09-16T03:28:19.082Z"
   },
   {
    "duration": 2393,
    "start_time": "2022-09-16T03:28:19.476Z"
   },
   {
    "duration": 7,
    "start_time": "2022-09-16T03:28:21.871Z"
   },
   {
    "duration": 16,
    "start_time": "2022-09-16T03:28:21.880Z"
   },
   {
    "duration": 7,
    "start_time": "2022-09-16T03:28:21.898Z"
   },
   {
    "duration": 44,
    "start_time": "2022-09-16T03:28:21.906Z"
   },
   {
    "duration": 142,
    "start_time": "2022-09-16T03:28:21.951Z"
   },
   {
    "duration": 4,
    "start_time": "2022-09-16T03:28:35.465Z"
   },
   {
    "duration": 18,
    "start_time": "2022-09-16T03:29:09.352Z"
   },
   {
    "duration": 4,
    "start_time": "2022-09-16T03:29:17.361Z"
   },
   {
    "duration": 2289,
    "start_time": "2022-09-16T03:29:17.668Z"
   },
   {
    "duration": 7,
    "start_time": "2022-09-16T03:29:19.959Z"
   },
   {
    "duration": 16,
    "start_time": "2022-09-16T03:29:19.968Z"
   },
   {
    "duration": 13,
    "start_time": "2022-09-16T03:29:19.987Z"
   },
   {
    "duration": 41,
    "start_time": "2022-09-16T03:29:20.002Z"
   },
   {
    "duration": 143,
    "start_time": "2022-09-16T03:29:20.044Z"
   },
   {
    "duration": 4,
    "start_time": "2022-09-16T03:29:21.864Z"
   },
   {
    "duration": 2,
    "start_time": "2022-09-16T03:29:55.855Z"
   },
   {
    "duration": 3,
    "start_time": "2022-09-16T03:29:58.439Z"
   },
   {
    "duration": 76,
    "start_time": "2022-09-16T03:30:00.344Z"
   },
   {
    "duration": 137,
    "start_time": "2022-09-16T03:30:11.757Z"
   },
   {
    "duration": 65,
    "start_time": "2022-09-16T03:30:27.372Z"
   },
   {
    "duration": 4,
    "start_time": "2022-09-16T03:31:32.459Z"
   },
   {
    "duration": 1712,
    "start_time": "2022-09-16T03:31:32.762Z"
   },
   {
    "duration": 7,
    "start_time": "2022-09-16T03:31:34.477Z"
   },
   {
    "duration": 12,
    "start_time": "2022-09-16T03:31:34.485Z"
   },
   {
    "duration": 12,
    "start_time": "2022-09-16T03:31:34.499Z"
   },
   {
    "duration": 32,
    "start_time": "2022-09-16T03:31:34.522Z"
   },
   {
    "duration": 142,
    "start_time": "2022-09-16T03:31:35.050Z"
   },
   {
    "duration": 5808,
    "start_time": "2022-09-16T03:31:36.778Z"
   },
   {
    "duration": 10,
    "start_time": "2022-09-16T03:31:42.588Z"
   },
   {
    "duration": 4,
    "start_time": "2022-09-16T03:31:43.358Z"
   },
   {
    "duration": 77,
    "start_time": "2022-09-16T03:31:45.350Z"
   },
   {
    "duration": 135,
    "start_time": "2022-09-16T03:31:46.382Z"
   },
   {
    "duration": 5,
    "start_time": "2022-09-16T03:31:55.533Z"
   },
   {
    "duration": 47,
    "start_time": "2022-09-16T03:32:19.583Z"
   },
   {
    "duration": 6,
    "start_time": "2022-09-16T03:32:50.162Z"
   },
   {
    "duration": 2636,
    "start_time": "2022-09-16T03:32:54.631Z"
   },
   {
    "duration": 2390,
    "start_time": "2022-09-16T03:32:57.270Z"
   },
   {
    "duration": 10,
    "start_time": "2022-09-16T03:32:59.662Z"
   },
   {
    "duration": 16,
    "start_time": "2022-09-16T03:32:59.674Z"
   },
   {
    "duration": 7,
    "start_time": "2022-09-16T03:32:59.692Z"
   },
   {
    "duration": 49,
    "start_time": "2022-09-16T03:32:59.701Z"
   },
   {
    "duration": 164,
    "start_time": "2022-09-16T03:32:59.752Z"
   },
   {
    "duration": 6960,
    "start_time": "2022-09-16T03:32:59.922Z"
   },
   {
    "duration": 3,
    "start_time": "2022-09-16T03:33:06.883Z"
   },
   {
    "duration": 7,
    "start_time": "2022-09-16T03:33:06.888Z"
   },
   {
    "duration": 92,
    "start_time": "2022-09-16T03:33:06.896Z"
   },
   {
    "duration": 281,
    "start_time": "2022-09-16T03:33:08.556Z"
   },
   {
    "duration": 192,
    "start_time": "2022-09-16T03:33:10.681Z"
   },
   {
    "duration": 50,
    "start_time": "2022-09-16T03:33:18.105Z"
   },
   {
    "duration": 6,
    "start_time": "2022-09-16T03:33:24.265Z"
   },
   {
    "duration": 2604,
    "start_time": "2022-09-16T03:33:31.077Z"
   },
   {
    "duration": 1712,
    "start_time": "2022-09-16T03:33:33.682Z"
   },
   {
    "duration": 11,
    "start_time": "2022-09-16T03:33:35.395Z"
   },
   {
    "duration": 28,
    "start_time": "2022-09-16T03:33:35.408Z"
   },
   {
    "duration": 11,
    "start_time": "2022-09-16T03:33:35.440Z"
   },
   {
    "duration": 33,
    "start_time": "2022-09-16T03:33:35.453Z"
   },
   {
    "duration": 185,
    "start_time": "2022-09-16T03:33:35.488Z"
   },
   {
    "duration": 7329,
    "start_time": "2022-09-16T03:33:35.675Z"
   },
   {
    "duration": 3,
    "start_time": "2022-09-16T03:33:43.006Z"
   },
   {
    "duration": 12,
    "start_time": "2022-09-16T03:33:43.011Z"
   },
   {
    "duration": 150,
    "start_time": "2022-09-16T03:33:43.024Z"
   },
   {
    "duration": 302,
    "start_time": "2022-09-16T03:33:43.176Z"
   },
   {
    "duration": 190,
    "start_time": "2022-09-16T03:33:43.480Z"
   },
   {
    "duration": 44,
    "start_time": "2022-09-16T03:33:48.672Z"
   },
   {
    "duration": 6,
    "start_time": "2022-09-16T03:34:37.212Z"
   },
   {
    "duration": 2623,
    "start_time": "2022-09-16T03:34:40.855Z"
   },
   {
    "duration": 1501,
    "start_time": "2022-09-16T03:34:43.480Z"
   },
   {
    "duration": 12,
    "start_time": "2022-09-16T03:34:44.982Z"
   },
   {
    "duration": 9,
    "start_time": "2022-09-16T03:34:44.996Z"
   },
   {
    "duration": 27,
    "start_time": "2022-09-16T03:34:45.007Z"
   },
   {
    "duration": 46,
    "start_time": "2022-09-16T03:34:45.035Z"
   },
   {
    "duration": 155,
    "start_time": "2022-09-16T03:34:45.083Z"
   },
   {
    "duration": 6953,
    "start_time": "2022-09-16T03:34:45.240Z"
   },
   {
    "duration": 18,
    "start_time": "2022-09-16T03:34:52.195Z"
   },
   {
    "duration": 17,
    "start_time": "2022-09-16T03:34:52.231Z"
   },
   {
    "duration": 12,
    "start_time": "2022-09-16T03:34:52.249Z"
   },
   {
    "duration": 6,
    "start_time": "2022-09-16T03:34:58.834Z"
   },
   {
    "duration": 8,
    "start_time": "2022-09-16T03:34:59.944Z"
   },
   {
    "duration": 288,
    "start_time": "2022-09-16T03:35:00.763Z"
   },
   {
    "duration": 122,
    "start_time": "2022-09-16T03:35:04.795Z"
   },
   {
    "duration": 70,
    "start_time": "2022-09-16T03:35:05.607Z"
   },
   {
    "duration": 3,
    "start_time": "2022-09-16T03:35:06.583Z"
   },
   {
    "duration": 4,
    "start_time": "2022-09-16T03:35:15.537Z"
   },
   {
    "duration": 62,
    "start_time": "2022-09-16T03:35:23.608Z"
   },
   {
    "duration": 3,
    "start_time": "2022-09-16T03:35:25.208Z"
   },
   {
    "duration": 145,
    "start_time": "2022-09-16T03:35:37.411Z"
   },
   {
    "duration": 4,
    "start_time": "2022-09-16T03:35:40.795Z"
   },
   {
    "duration": 1312,
    "start_time": "2022-09-16T03:35:41.038Z"
   },
   {
    "duration": 9,
    "start_time": "2022-09-16T03:35:42.352Z"
   },
   {
    "duration": 13,
    "start_time": "2022-09-16T03:35:42.363Z"
   },
   {
    "duration": 6,
    "start_time": "2022-09-16T03:35:42.377Z"
   },
   {
    "duration": 53,
    "start_time": "2022-09-16T03:35:42.385Z"
   },
   {
    "duration": 131,
    "start_time": "2022-09-16T03:35:42.440Z"
   },
   {
    "duration": 5823,
    "start_time": "2022-09-16T03:35:43.339Z"
   },
   {
    "duration": 17,
    "start_time": "2022-09-16T03:35:49.164Z"
   },
   {
    "duration": 8,
    "start_time": "2022-09-16T03:35:49.182Z"
   },
   {
    "duration": 6,
    "start_time": "2022-09-16T03:35:49.192Z"
   },
   {
    "duration": 14,
    "start_time": "2022-09-16T03:35:49.199Z"
   },
   {
    "duration": 149,
    "start_time": "2022-09-16T03:35:49.214Z"
   },
   {
    "duration": 5,
    "start_time": "2022-09-16T03:35:50.783Z"
   },
   {
    "duration": 54,
    "start_time": "2022-09-16T03:35:51.482Z"
   },
   {
    "duration": 5,
    "start_time": "2022-09-16T03:35:52.454Z"
   },
   {
    "duration": 24,
    "start_time": "2022-09-16T03:35:58.237Z"
   },
   {
    "duration": 6,
    "start_time": "2022-09-16T03:37:06.962Z"
   },
   {
    "duration": 13,
    "start_time": "2022-09-16T03:38:02.541Z"
   },
   {
    "duration": 17,
    "start_time": "2022-09-16T03:38:56.518Z"
   },
   {
    "duration": 5,
    "start_time": "2022-09-16T03:39:29.604Z"
   },
   {
    "duration": 14,
    "start_time": "2022-09-16T03:39:35.292Z"
   },
   {
    "duration": 236,
    "start_time": "2022-09-16T03:40:17.638Z"
   },
   {
    "duration": 23,
    "start_time": "2022-09-16T03:40:51.171Z"
   },
   {
    "duration": 14,
    "start_time": "2022-09-16T03:48:13.137Z"
   },
   {
    "duration": 44,
    "start_time": "2022-09-16T03:48:37.242Z"
   },
   {
    "duration": 18,
    "start_time": "2022-09-16T03:48:40.808Z"
   },
   {
    "duration": 461,
    "start_time": "2022-09-16T03:49:13.436Z"
   },
   {
    "duration": 25,
    "start_time": "2022-09-16T03:49:32.908Z"
   },
   {
    "duration": 4279,
    "start_time": "2022-09-16T03:49:45.100Z"
   },
   {
    "duration": 11898,
    "start_time": "2022-09-16T03:49:55.451Z"
   },
   {
    "duration": 16,
    "start_time": "2022-09-16T03:50:21.724Z"
   },
   {
    "duration": 44,
    "start_time": "2022-09-16T03:51:42.559Z"
   },
   {
    "duration": 31,
    "start_time": "2022-09-16T03:51:46.941Z"
   },
   {
    "duration": 41,
    "start_time": "2022-09-16T03:51:52.590Z"
   },
   {
    "duration": 40,
    "start_time": "2022-09-16T03:51:57.262Z"
   },
   {
    "duration": 32,
    "start_time": "2022-09-16T03:52:06.270Z"
   },
   {
    "duration": 34,
    "start_time": "2022-09-16T03:52:09.668Z"
   },
   {
    "duration": 25,
    "start_time": "2022-09-16T03:52:12.366Z"
   },
   {
    "duration": 3,
    "start_time": "2022-09-16T10:42:54.792Z"
   },
   {
    "duration": 2223,
    "start_time": "2022-09-16T10:42:55.299Z"
   },
   {
    "duration": 8,
    "start_time": "2022-09-16T10:42:57.524Z"
   },
   {
    "duration": 21,
    "start_time": "2022-09-16T10:42:57.533Z"
   },
   {
    "duration": 14,
    "start_time": "2022-09-16T10:42:57.556Z"
   },
   {
    "duration": 38,
    "start_time": "2022-09-16T10:42:57.571Z"
   },
   {
    "duration": 160,
    "start_time": "2022-09-16T10:42:57.622Z"
   },
   {
    "duration": 420,
    "start_time": "2022-09-16T10:43:04.811Z"
   },
   {
    "duration": 2108,
    "start_time": "2022-09-16T10:43:05.236Z"
   },
   {
    "duration": 12,
    "start_time": "2022-09-16T10:43:07.346Z"
   },
   {
    "duration": 10,
    "start_time": "2022-09-16T10:43:07.360Z"
   },
   {
    "duration": 9,
    "start_time": "2022-09-16T10:43:07.371Z"
   },
   {
    "duration": 52,
    "start_time": "2022-09-16T10:43:07.381Z"
   },
   {
    "duration": 430,
    "start_time": "2022-09-16T10:43:07.435Z"
   },
   {
    "duration": 0,
    "start_time": "2022-09-16T10:43:07.867Z"
   },
   {
    "duration": 0,
    "start_time": "2022-09-16T10:43:07.868Z"
   },
   {
    "duration": 0,
    "start_time": "2022-09-16T10:43:07.870Z"
   },
   {
    "duration": 0,
    "start_time": "2022-09-16T10:43:07.871Z"
   },
   {
    "duration": 0,
    "start_time": "2022-09-16T10:43:07.872Z"
   },
   {
    "duration": 0,
    "start_time": "2022-09-16T10:43:07.874Z"
   },
   {
    "duration": 0,
    "start_time": "2022-09-16T10:43:07.875Z"
   },
   {
    "duration": 0,
    "start_time": "2022-09-16T10:43:07.876Z"
   },
   {
    "duration": 0,
    "start_time": "2022-09-16T10:43:07.878Z"
   },
   {
    "duration": 0,
    "start_time": "2022-09-16T10:43:07.879Z"
   },
   {
    "duration": 0,
    "start_time": "2022-09-16T10:43:07.880Z"
   },
   {
    "duration": 0,
    "start_time": "2022-09-16T10:43:07.881Z"
   },
   {
    "duration": 0,
    "start_time": "2022-09-16T10:43:07.883Z"
   },
   {
    "duration": 0,
    "start_time": "2022-09-16T10:43:07.884Z"
   },
   {
    "duration": 0,
    "start_time": "2022-09-16T10:43:07.885Z"
   },
   {
    "duration": 0,
    "start_time": "2022-09-16T10:43:07.887Z"
   },
   {
    "duration": 612,
    "start_time": "2022-09-16T10:43:18.356Z"
   },
   {
    "duration": 1879,
    "start_time": "2022-09-16T10:43:18.971Z"
   },
   {
    "duration": 10,
    "start_time": "2022-09-16T10:43:20.851Z"
   },
   {
    "duration": 11,
    "start_time": "2022-09-16T10:43:20.863Z"
   },
   {
    "duration": 11,
    "start_time": "2022-09-16T10:43:20.875Z"
   },
   {
    "duration": 55,
    "start_time": "2022-09-16T10:43:20.887Z"
   },
   {
    "duration": 152,
    "start_time": "2022-09-16T10:43:20.944Z"
   },
   {
    "duration": 81,
    "start_time": "2022-09-16T10:43:21.097Z"
   },
   {
    "duration": 0,
    "start_time": "2022-09-16T10:43:21.180Z"
   },
   {
    "duration": 0,
    "start_time": "2022-09-16T10:43:21.181Z"
   },
   {
    "duration": 0,
    "start_time": "2022-09-16T10:43:21.182Z"
   },
   {
    "duration": 0,
    "start_time": "2022-09-16T10:43:21.183Z"
   },
   {
    "duration": 0,
    "start_time": "2022-09-16T10:43:21.184Z"
   },
   {
    "duration": 0,
    "start_time": "2022-09-16T10:43:21.184Z"
   },
   {
    "duration": 0,
    "start_time": "2022-09-16T10:43:21.186Z"
   },
   {
    "duration": 0,
    "start_time": "2022-09-16T10:43:21.187Z"
   },
   {
    "duration": 0,
    "start_time": "2022-09-16T10:43:21.188Z"
   },
   {
    "duration": 0,
    "start_time": "2022-09-16T10:43:21.189Z"
   },
   {
    "duration": 0,
    "start_time": "2022-09-16T10:43:21.190Z"
   },
   {
    "duration": 0,
    "start_time": "2022-09-16T10:43:21.190Z"
   },
   {
    "duration": 0,
    "start_time": "2022-09-16T10:43:21.191Z"
   },
   {
    "duration": 0,
    "start_time": "2022-09-16T10:43:21.192Z"
   },
   {
    "duration": 0,
    "start_time": "2022-09-16T10:43:21.193Z"
   },
   {
    "duration": 1558,
    "start_time": "2022-09-16T10:44:00.139Z"
   },
   {
    "duration": 1795,
    "start_time": "2022-09-16T10:44:01.699Z"
   },
   {
    "duration": 10,
    "start_time": "2022-09-16T10:44:03.495Z"
   },
   {
    "duration": 42,
    "start_time": "2022-09-16T10:44:03.506Z"
   },
   {
    "duration": 27,
    "start_time": "2022-09-16T10:44:03.551Z"
   },
   {
    "duration": 53,
    "start_time": "2022-09-16T10:44:03.580Z"
   },
   {
    "duration": 156,
    "start_time": "2022-09-16T10:44:03.635Z"
   },
   {
    "duration": 1652,
    "start_time": "2022-09-16T10:44:03.792Z"
   },
   {
    "duration": 0,
    "start_time": "2022-09-16T10:44:05.446Z"
   },
   {
    "duration": 0,
    "start_time": "2022-09-16T10:44:05.447Z"
   },
   {
    "duration": 0,
    "start_time": "2022-09-16T10:44:05.448Z"
   },
   {
    "duration": 0,
    "start_time": "2022-09-16T10:44:05.449Z"
   },
   {
    "duration": 0,
    "start_time": "2022-09-16T10:44:05.450Z"
   },
   {
    "duration": 0,
    "start_time": "2022-09-16T10:44:05.451Z"
   },
   {
    "duration": 0,
    "start_time": "2022-09-16T10:44:05.452Z"
   },
   {
    "duration": 0,
    "start_time": "2022-09-16T10:44:05.453Z"
   },
   {
    "duration": 0,
    "start_time": "2022-09-16T10:44:05.454Z"
   },
   {
    "duration": 0,
    "start_time": "2022-09-16T10:44:05.455Z"
   },
   {
    "duration": 0,
    "start_time": "2022-09-16T10:44:05.456Z"
   },
   {
    "duration": 0,
    "start_time": "2022-09-16T10:44:05.457Z"
   },
   {
    "duration": 0,
    "start_time": "2022-09-16T10:44:05.458Z"
   },
   {
    "duration": 0,
    "start_time": "2022-09-16T10:44:05.459Z"
   },
   {
    "duration": 0,
    "start_time": "2022-09-16T10:44:05.460Z"
   },
   {
    "duration": 1383,
    "start_time": "2022-09-16T10:44:16.234Z"
   },
   {
    "duration": 1766,
    "start_time": "2022-09-16T10:44:17.619Z"
   },
   {
    "duration": 11,
    "start_time": "2022-09-16T10:44:19.387Z"
   },
   {
    "duration": 10,
    "start_time": "2022-09-16T10:44:19.399Z"
   },
   {
    "duration": 26,
    "start_time": "2022-09-16T10:44:19.411Z"
   },
   {
    "duration": 31,
    "start_time": "2022-09-16T10:44:19.438Z"
   },
   {
    "duration": 160,
    "start_time": "2022-09-16T10:44:19.470Z"
   },
   {
    "duration": 7036,
    "start_time": "2022-09-16T10:44:19.631Z"
   },
   {
    "duration": 17,
    "start_time": "2022-09-16T10:44:26.668Z"
   },
   {
    "duration": 16,
    "start_time": "2022-09-16T10:44:26.686Z"
   },
   {
    "duration": 8,
    "start_time": "2022-09-16T10:44:26.703Z"
   },
   {
    "duration": 128,
    "start_time": "2022-09-16T10:44:26.712Z"
   },
   {
    "duration": 0,
    "start_time": "2022-09-16T10:44:26.842Z"
   },
   {
    "duration": 0,
    "start_time": "2022-09-16T10:44:26.843Z"
   },
   {
    "duration": 0,
    "start_time": "2022-09-16T10:44:26.844Z"
   },
   {
    "duration": 0,
    "start_time": "2022-09-16T10:44:26.845Z"
   },
   {
    "duration": 0,
    "start_time": "2022-09-16T10:44:26.847Z"
   },
   {
    "duration": 0,
    "start_time": "2022-09-16T10:44:26.848Z"
   },
   {
    "duration": 0,
    "start_time": "2022-09-16T10:44:26.849Z"
   },
   {
    "duration": 0,
    "start_time": "2022-09-16T10:44:26.850Z"
   },
   {
    "duration": 0,
    "start_time": "2022-09-16T10:44:26.851Z"
   },
   {
    "duration": 0,
    "start_time": "2022-09-16T10:44:26.852Z"
   },
   {
    "duration": 0,
    "start_time": "2022-09-16T10:44:26.853Z"
   },
   {
    "duration": 1542,
    "start_time": "2022-09-16T10:44:42.213Z"
   },
   {
    "duration": 1753,
    "start_time": "2022-09-16T10:44:43.757Z"
   },
   {
    "duration": 26,
    "start_time": "2022-09-16T10:44:45.511Z"
   },
   {
    "duration": 10,
    "start_time": "2022-09-16T10:44:45.539Z"
   },
   {
    "duration": 8,
    "start_time": "2022-09-16T10:44:45.552Z"
   },
   {
    "duration": 31,
    "start_time": "2022-09-16T10:44:45.561Z"
   },
   {
    "duration": 173,
    "start_time": "2022-09-16T10:44:45.594Z"
   },
   {
    "duration": 6986,
    "start_time": "2022-09-16T10:44:45.769Z"
   },
   {
    "duration": 18,
    "start_time": "2022-09-16T10:44:52.756Z"
   },
   {
    "duration": 20,
    "start_time": "2022-09-16T10:44:52.776Z"
   },
   {
    "duration": 26,
    "start_time": "2022-09-16T10:44:52.798Z"
   },
   {
    "duration": 23,
    "start_time": "2022-09-16T10:44:52.826Z"
   },
   {
    "duration": 133,
    "start_time": "2022-09-16T10:44:52.851Z"
   },
   {
    "duration": 132,
    "start_time": "2022-09-16T10:44:52.986Z"
   },
   {
    "duration": 0,
    "start_time": "2022-09-16T10:44:53.119Z"
   },
   {
    "duration": 0,
    "start_time": "2022-09-16T10:44:53.121Z"
   },
   {
    "duration": 0,
    "start_time": "2022-09-16T10:44:53.123Z"
   },
   {
    "duration": 0,
    "start_time": "2022-09-16T10:44:53.123Z"
   },
   {
    "duration": 0,
    "start_time": "2022-09-16T10:44:53.124Z"
   },
   {
    "duration": 1,
    "start_time": "2022-09-16T10:44:53.131Z"
   },
   {
    "duration": 0,
    "start_time": "2022-09-16T10:44:53.132Z"
   },
   {
    "duration": 0,
    "start_time": "2022-09-16T10:44:53.136Z"
   },
   {
    "duration": 0,
    "start_time": "2022-09-16T10:44:53.137Z"
   },
   {
    "duration": 1596,
    "start_time": "2022-09-16T10:45:05.229Z"
   },
   {
    "duration": 19316,
    "start_time": "2022-09-16T10:45:06.832Z"
   },
   {
    "duration": 0,
    "start_time": "2022-09-16T10:45:26.150Z"
   },
   {
    "duration": 0,
    "start_time": "2022-09-16T10:45:26.151Z"
   },
   {
    "duration": 0,
    "start_time": "2022-09-16T10:45:26.152Z"
   },
   {
    "duration": 0,
    "start_time": "2022-09-16T10:45:26.153Z"
   },
   {
    "duration": 0,
    "start_time": "2022-09-16T10:45:26.153Z"
   },
   {
    "duration": 0,
    "start_time": "2022-09-16T10:45:26.154Z"
   },
   {
    "duration": 0,
    "start_time": "2022-09-16T10:45:26.155Z"
   },
   {
    "duration": 0,
    "start_time": "2022-09-16T10:45:26.156Z"
   },
   {
    "duration": 0,
    "start_time": "2022-09-16T10:45:26.157Z"
   },
   {
    "duration": 0,
    "start_time": "2022-09-16T10:45:26.158Z"
   },
   {
    "duration": 0,
    "start_time": "2022-09-16T10:45:26.159Z"
   },
   {
    "duration": 0,
    "start_time": "2022-09-16T10:45:26.160Z"
   },
   {
    "duration": 0,
    "start_time": "2022-09-16T10:45:26.161Z"
   },
   {
    "duration": 0,
    "start_time": "2022-09-16T10:45:26.162Z"
   },
   {
    "duration": 0,
    "start_time": "2022-09-16T10:45:26.162Z"
   },
   {
    "duration": 0,
    "start_time": "2022-09-16T10:45:26.163Z"
   },
   {
    "duration": 0,
    "start_time": "2022-09-16T10:45:26.164Z"
   },
   {
    "duration": 0,
    "start_time": "2022-09-16T10:45:26.166Z"
   },
   {
    "duration": 0,
    "start_time": "2022-09-16T10:45:26.166Z"
   },
   {
    "duration": 0,
    "start_time": "2022-09-16T10:45:26.167Z"
   },
   {
    "duration": 0,
    "start_time": "2022-09-16T10:45:26.168Z"
   },
   {
    "duration": 1508,
    "start_time": "2022-09-16T10:45:30.497Z"
   },
   {
    "duration": 1513,
    "start_time": "2022-09-16T10:45:32.007Z"
   },
   {
    "duration": 16,
    "start_time": "2022-09-16T10:45:33.522Z"
   },
   {
    "duration": 11,
    "start_time": "2022-09-16T10:45:33.541Z"
   },
   {
    "duration": 9,
    "start_time": "2022-09-16T10:45:33.554Z"
   },
   {
    "duration": 31,
    "start_time": "2022-09-16T10:45:33.565Z"
   },
   {
    "duration": 173,
    "start_time": "2022-09-16T10:45:33.598Z"
   },
   {
    "duration": 6996,
    "start_time": "2022-09-16T10:45:33.773Z"
   },
   {
    "duration": 17,
    "start_time": "2022-09-16T10:45:40.770Z"
   },
   {
    "duration": 7,
    "start_time": "2022-09-16T10:45:40.789Z"
   },
   {
    "duration": 6,
    "start_time": "2022-09-16T10:45:40.797Z"
   },
   {
    "duration": 28,
    "start_time": "2022-09-16T10:45:40.804Z"
   },
   {
    "duration": 135,
    "start_time": "2022-09-16T10:45:40.834Z"
   },
   {
    "duration": 308,
    "start_time": "2022-09-16T10:45:40.971Z"
   },
   {
    "duration": 0,
    "start_time": "2022-09-16T10:45:41.281Z"
   },
   {
    "duration": 0,
    "start_time": "2022-09-16T10:45:41.282Z"
   },
   {
    "duration": 0,
    "start_time": "2022-09-16T10:45:41.283Z"
   },
   {
    "duration": 0,
    "start_time": "2022-09-16T10:45:41.285Z"
   },
   {
    "duration": 0,
    "start_time": "2022-09-16T10:45:41.285Z"
   },
   {
    "duration": 0,
    "start_time": "2022-09-16T10:45:41.286Z"
   },
   {
    "duration": 0,
    "start_time": "2022-09-16T10:45:41.287Z"
   },
   {
    "duration": 0,
    "start_time": "2022-09-16T10:45:41.288Z"
   },
   {
    "duration": 0,
    "start_time": "2022-09-16T10:45:41.289Z"
   },
   {
    "duration": 1573,
    "start_time": "2022-09-16T10:45:54.588Z"
   },
   {
    "duration": 1715,
    "start_time": "2022-09-16T10:45:56.162Z"
   },
   {
    "duration": 11,
    "start_time": "2022-09-16T10:45:57.879Z"
   },
   {
    "duration": 14,
    "start_time": "2022-09-16T10:45:57.891Z"
   },
   {
    "duration": 17,
    "start_time": "2022-09-16T10:45:57.906Z"
   },
   {
    "duration": 45,
    "start_time": "2022-09-16T10:45:57.925Z"
   },
   {
    "duration": 166,
    "start_time": "2022-09-16T10:45:57.972Z"
   },
   {
    "duration": 6981,
    "start_time": "2022-09-16T10:45:58.141Z"
   },
   {
    "duration": 15,
    "start_time": "2022-09-16T10:46:05.124Z"
   },
   {
    "duration": 9,
    "start_time": "2022-09-16T10:46:05.142Z"
   },
   {
    "duration": 6,
    "start_time": "2022-09-16T10:46:05.152Z"
   },
   {
    "duration": 11,
    "start_time": "2022-09-16T10:46:05.159Z"
   },
   {
    "duration": 134,
    "start_time": "2022-09-16T10:46:05.171Z"
   },
   {
    "duration": 292,
    "start_time": "2022-09-16T10:46:05.307Z"
   },
   {
    "duration": 0,
    "start_time": "2022-09-16T10:46:05.600Z"
   },
   {
    "duration": 0,
    "start_time": "2022-09-16T10:46:05.602Z"
   },
   {
    "duration": 0,
    "start_time": "2022-09-16T10:46:05.603Z"
   },
   {
    "duration": 0,
    "start_time": "2022-09-16T10:46:05.604Z"
   },
   {
    "duration": 0,
    "start_time": "2022-09-16T10:46:05.605Z"
   },
   {
    "duration": 0,
    "start_time": "2022-09-16T10:46:05.606Z"
   },
   {
    "duration": 0,
    "start_time": "2022-09-16T10:46:05.607Z"
   },
   {
    "duration": 0,
    "start_time": "2022-09-16T10:46:05.608Z"
   },
   {
    "duration": 0,
    "start_time": "2022-09-16T10:46:05.622Z"
   },
   {
    "duration": 1474,
    "start_time": "2022-09-16T10:46:21.765Z"
   },
   {
    "duration": 1372,
    "start_time": "2022-09-16T10:46:23.242Z"
   },
   {
    "duration": 25,
    "start_time": "2022-09-16T10:46:24.616Z"
   },
   {
    "duration": 14,
    "start_time": "2022-09-16T10:46:24.644Z"
   },
   {
    "duration": 11,
    "start_time": "2022-09-16T10:46:24.660Z"
   },
   {
    "duration": 34,
    "start_time": "2022-09-16T10:46:24.673Z"
   },
   {
    "duration": 159,
    "start_time": "2022-09-16T10:46:24.709Z"
   },
   {
    "duration": 6705,
    "start_time": "2022-09-16T10:46:24.869Z"
   },
   {
    "duration": 17,
    "start_time": "2022-09-16T10:46:31.576Z"
   },
   {
    "duration": 14,
    "start_time": "2022-09-16T10:46:31.595Z"
   },
   {
    "duration": 7,
    "start_time": "2022-09-16T10:46:31.611Z"
   },
   {
    "duration": 24,
    "start_time": "2022-09-16T10:46:31.619Z"
   },
   {
    "duration": 159,
    "start_time": "2022-09-16T10:46:31.644Z"
   },
   {
    "duration": 186,
    "start_time": "2022-09-16T10:46:31.805Z"
   },
   {
    "duration": 64,
    "start_time": "2022-09-16T10:46:31.993Z"
   },
   {
    "duration": 122,
    "start_time": "2022-09-16T10:46:32.058Z"
   },
   {
    "duration": 0,
    "start_time": "2022-09-16T10:46:32.181Z"
   },
   {
    "duration": 1,
    "start_time": "2022-09-16T10:46:32.182Z"
   },
   {
    "duration": 0,
    "start_time": "2022-09-16T10:46:32.184Z"
   },
   {
    "duration": 0,
    "start_time": "2022-09-16T10:46:32.185Z"
   },
   {
    "duration": 0,
    "start_time": "2022-09-16T10:46:32.186Z"
   },
   {
    "duration": 0,
    "start_time": "2022-09-16T10:46:32.187Z"
   },
   {
    "duration": 0,
    "start_time": "2022-09-16T10:46:32.188Z"
   },
   {
    "duration": 1423,
    "start_time": "2022-09-16T10:46:45.261Z"
   },
   {
    "duration": 1391,
    "start_time": "2022-09-16T10:46:46.686Z"
   },
   {
    "duration": 10,
    "start_time": "2022-09-16T10:46:48.079Z"
   },
   {
    "duration": 13,
    "start_time": "2022-09-16T10:46:48.090Z"
   },
   {
    "duration": 8,
    "start_time": "2022-09-16T10:46:48.105Z"
   },
   {
    "duration": 37,
    "start_time": "2022-09-16T10:46:48.115Z"
   },
   {
    "duration": 159,
    "start_time": "2022-09-16T10:46:48.154Z"
   },
   {
    "duration": 6730,
    "start_time": "2022-09-16T10:46:48.315Z"
   },
   {
    "duration": 18,
    "start_time": "2022-09-16T10:46:55.047Z"
   },
   {
    "duration": 22,
    "start_time": "2022-09-16T10:46:55.066Z"
   },
   {
    "duration": 24,
    "start_time": "2022-09-16T10:46:55.090Z"
   },
   {
    "duration": 30,
    "start_time": "2022-09-16T10:46:55.116Z"
   },
   {
    "duration": 135,
    "start_time": "2022-09-16T10:46:55.147Z"
   },
   {
    "duration": 112,
    "start_time": "2022-09-16T10:46:55.284Z"
   },
   {
    "duration": 57,
    "start_time": "2022-09-16T10:46:55.398Z"
   },
   {
    "duration": 7,
    "start_time": "2022-09-16T10:46:55.457Z"
   },
   {
    "duration": 120,
    "start_time": "2022-09-16T10:46:55.465Z"
   },
   {
    "duration": 0,
    "start_time": "2022-09-16T10:46:55.586Z"
   },
   {
    "duration": 0,
    "start_time": "2022-09-16T10:46:55.588Z"
   },
   {
    "duration": 0,
    "start_time": "2022-09-16T10:46:55.589Z"
   },
   {
    "duration": 0,
    "start_time": "2022-09-16T10:46:55.591Z"
   },
   {
    "duration": 0,
    "start_time": "2022-09-16T10:46:55.592Z"
   },
   {
    "duration": 0,
    "start_time": "2022-09-16T10:46:55.594Z"
   },
   {
    "duration": 1515,
    "start_time": "2022-09-16T10:47:24.389Z"
   },
   {
    "duration": 1210,
    "start_time": "2022-09-16T10:47:25.906Z"
   },
   {
    "duration": 13,
    "start_time": "2022-09-16T10:47:27.118Z"
   },
   {
    "duration": 15,
    "start_time": "2022-09-16T10:47:27.134Z"
   },
   {
    "duration": 12,
    "start_time": "2022-09-16T10:47:27.151Z"
   },
   {
    "duration": 39,
    "start_time": "2022-09-16T10:47:27.165Z"
   },
   {
    "duration": 231,
    "start_time": "2022-09-16T10:47:27.223Z"
   },
   {
    "duration": 6858,
    "start_time": "2022-09-16T10:47:27.456Z"
   },
   {
    "duration": 25,
    "start_time": "2022-09-16T10:47:34.315Z"
   },
   {
    "duration": 7,
    "start_time": "2022-09-16T10:47:34.344Z"
   },
   {
    "duration": 20,
    "start_time": "2022-09-16T10:47:34.352Z"
   },
   {
    "duration": 8,
    "start_time": "2022-09-16T10:47:34.373Z"
   },
   {
    "duration": 124,
    "start_time": "2022-09-16T10:47:34.383Z"
   },
   {
    "duration": 133,
    "start_time": "2022-09-16T10:47:34.509Z"
   },
   {
    "duration": 52,
    "start_time": "2022-09-16T10:47:34.643Z"
   },
   {
    "duration": 5,
    "start_time": "2022-09-16T10:47:34.697Z"
   },
   {
    "duration": 135,
    "start_time": "2022-09-16T10:47:34.703Z"
   },
   {
    "duration": 0,
    "start_time": "2022-09-16T10:47:34.840Z"
   },
   {
    "duration": 0,
    "start_time": "2022-09-16T10:47:34.841Z"
   },
   {
    "duration": 0,
    "start_time": "2022-09-16T10:47:34.842Z"
   },
   {
    "duration": 0,
    "start_time": "2022-09-16T10:47:34.843Z"
   },
   {
    "duration": 0,
    "start_time": "2022-09-16T10:47:34.844Z"
   },
   {
    "duration": 0,
    "start_time": "2022-09-16T10:47:34.845Z"
   },
   {
    "duration": 1491,
    "start_time": "2022-09-16T10:47:51.784Z"
   },
   {
    "duration": 1299,
    "start_time": "2022-09-16T10:47:53.277Z"
   },
   {
    "duration": 10,
    "start_time": "2022-09-16T10:47:54.578Z"
   },
   {
    "duration": 13,
    "start_time": "2022-09-16T10:47:54.590Z"
   },
   {
    "duration": 7,
    "start_time": "2022-09-16T10:47:54.604Z"
   },
   {
    "duration": 34,
    "start_time": "2022-09-16T10:47:54.622Z"
   },
   {
    "duration": 238,
    "start_time": "2022-09-16T10:47:54.658Z"
   },
   {
    "duration": 7047,
    "start_time": "2022-09-16T10:47:54.897Z"
   },
   {
    "duration": 20,
    "start_time": "2022-09-16T10:48:01.946Z"
   },
   {
    "duration": 51,
    "start_time": "2022-09-16T10:48:01.969Z"
   },
   {
    "duration": 37,
    "start_time": "2022-09-16T10:48:02.022Z"
   },
   {
    "duration": 10,
    "start_time": "2022-09-16T10:48:02.061Z"
   },
   {
    "duration": 146,
    "start_time": "2022-09-16T10:48:02.072Z"
   },
   {
    "duration": 126,
    "start_time": "2022-09-16T10:48:02.219Z"
   },
   {
    "duration": 59,
    "start_time": "2022-09-16T10:48:02.347Z"
   },
   {
    "duration": 7,
    "start_time": "2022-09-16T10:48:02.408Z"
   },
   {
    "duration": 256,
    "start_time": "2022-09-16T10:48:02.416Z"
   },
   {
    "duration": 24,
    "start_time": "2022-09-16T10:48:02.673Z"
   },
   {
    "duration": 483,
    "start_time": "2022-09-16T10:48:02.699Z"
   },
   {
    "duration": 20,
    "start_time": "2022-09-16T10:48:03.184Z"
   },
   {
    "duration": 9289,
    "start_time": "2022-09-16T10:48:03.205Z"
   },
   {
    "duration": 9,
    "start_time": "2022-09-16T10:48:12.496Z"
   },
   {
    "duration": 53,
    "start_time": "2022-09-16T10:48:12.507Z"
   },
   {
    "duration": 1625,
    "start_time": "2022-09-16T10:48:38.950Z"
   },
   {
    "duration": 1411,
    "start_time": "2022-09-16T10:48:40.576Z"
   },
   {
    "duration": 11,
    "start_time": "2022-09-16T10:48:41.989Z"
   },
   {
    "duration": 28,
    "start_time": "2022-09-16T10:48:42.001Z"
   },
   {
    "duration": 35,
    "start_time": "2022-09-16T10:48:42.030Z"
   },
   {
    "duration": 52,
    "start_time": "2022-09-16T10:48:42.066Z"
   },
   {
    "duration": 241,
    "start_time": "2022-09-16T10:48:42.120Z"
   },
   {
    "duration": 6785,
    "start_time": "2022-09-16T10:48:42.363Z"
   },
   {
    "duration": 17,
    "start_time": "2022-09-16T10:48:49.150Z"
   },
   {
    "duration": 2,
    "start_time": "2022-09-16T10:48:49.170Z"
   },
   {
    "duration": 6,
    "start_time": "2022-09-16T10:48:49.174Z"
   },
   {
    "duration": 10,
    "start_time": "2022-09-16T10:48:49.181Z"
   },
   {
    "duration": 131,
    "start_time": "2022-09-16T10:48:49.193Z"
   },
   {
    "duration": 132,
    "start_time": "2022-09-16T10:48:49.336Z"
   },
   {
    "duration": 570,
    "start_time": "2022-09-16T10:48:49.470Z"
   },
   {
    "duration": 8,
    "start_time": "2022-09-16T10:48:50.042Z"
   },
   {
    "duration": 27693,
    "start_time": "2022-09-16T10:48:50.051Z"
   },
   {
    "duration": 2792,
    "start_time": "2022-09-16T10:49:17.832Z"
   },
   {
    "duration": 10657,
    "start_time": "2022-09-16T10:49:20.635Z"
   },
   {
    "duration": 415,
    "start_time": "2022-09-16T10:49:31.294Z"
   },
   {
    "duration": 60322,
    "start_time": "2022-09-16T10:49:31.711Z"
   },
   {
    "duration": 11,
    "start_time": "2022-09-16T10:50:32.034Z"
   },
   {
    "duration": 1687,
    "start_time": "2022-09-16T10:50:32.048Z"
   },
   {
    "duration": 1417,
    "start_time": "2022-09-16T10:53:13.870Z"
   },
   {
    "duration": 1305,
    "start_time": "2022-09-16T10:53:15.289Z"
   },
   {
    "duration": 10,
    "start_time": "2022-09-16T10:53:16.596Z"
   },
   {
    "duration": 23,
    "start_time": "2022-09-16T10:53:16.607Z"
   },
   {
    "duration": 14,
    "start_time": "2022-09-16T10:53:16.631Z"
   },
   {
    "duration": 45,
    "start_time": "2022-09-16T10:53:16.646Z"
   },
   {
    "duration": 214,
    "start_time": "2022-09-16T10:53:16.692Z"
   },
   {
    "duration": 6893,
    "start_time": "2022-09-16T10:53:16.908Z"
   },
   {
    "duration": 29,
    "start_time": "2022-09-16T10:53:23.803Z"
   },
   {
    "duration": 11,
    "start_time": "2022-09-16T10:53:23.834Z"
   },
   {
    "duration": 6,
    "start_time": "2022-09-16T10:53:23.847Z"
   },
   {
    "duration": 11,
    "start_time": "2022-09-16T10:53:23.854Z"
   },
   {
    "duration": 124,
    "start_time": "2022-09-16T10:53:23.866Z"
   },
   {
    "duration": 191,
    "start_time": "2022-09-16T10:53:23.992Z"
   },
   {
    "duration": 590,
    "start_time": "2022-09-16T10:53:24.185Z"
   },
   {
    "duration": 9,
    "start_time": "2022-09-16T10:53:24.777Z"
   },
   {
    "duration": 27939,
    "start_time": "2022-09-16T10:53:24.788Z"
   },
   {
    "duration": 3016,
    "start_time": "2022-09-16T10:53:52.735Z"
   },
   {
    "duration": 1493,
    "start_time": "2022-09-16T10:54:03.458Z"
   },
   {
    "duration": 1491,
    "start_time": "2022-09-16T10:54:04.953Z"
   },
   {
    "duration": 11,
    "start_time": "2022-09-16T10:54:06.446Z"
   },
   {
    "duration": 24,
    "start_time": "2022-09-16T10:54:06.459Z"
   },
   {
    "duration": 15,
    "start_time": "2022-09-16T10:54:06.485Z"
   },
   {
    "duration": 45,
    "start_time": "2022-09-16T10:54:06.502Z"
   },
   {
    "duration": 215,
    "start_time": "2022-09-16T10:54:06.548Z"
   },
   {
    "duration": 6850,
    "start_time": "2022-09-16T10:54:06.765Z"
   },
   {
    "duration": 28,
    "start_time": "2022-09-16T10:54:13.617Z"
   },
   {
    "duration": 10,
    "start_time": "2022-09-16T10:54:13.647Z"
   },
   {
    "duration": 6,
    "start_time": "2022-09-16T10:54:13.658Z"
   },
   {
    "duration": 10,
    "start_time": "2022-09-16T10:54:13.666Z"
   },
   {
    "duration": 117,
    "start_time": "2022-09-16T10:54:13.677Z"
   },
   {
    "duration": 117,
    "start_time": "2022-09-16T10:54:13.796Z"
   },
   {
    "duration": 597,
    "start_time": "2022-09-16T10:54:13.915Z"
   },
   {
    "duration": 20,
    "start_time": "2022-09-16T10:54:14.513Z"
   },
   {
    "duration": 37587,
    "start_time": "2022-09-16T10:54:14.535Z"
   },
   {
    "duration": 6203,
    "start_time": "2022-09-16T10:54:52.125Z"
   },
   {
    "duration": 10866,
    "start_time": "2022-09-16T10:54:58.330Z"
   },
   {
    "duration": 452,
    "start_time": "2022-09-16T10:55:09.198Z"
   },
   {
    "duration": 60056,
    "start_time": "2022-09-16T10:55:09.652Z"
   },
   {
    "duration": 11,
    "start_time": "2022-09-16T10:56:09.709Z"
   },
   {
    "duration": 2513,
    "start_time": "2022-09-16T10:56:09.721Z"
   },
   {
    "duration": 5,
    "start_time": "2022-09-16T11:00:25.899Z"
   },
   {
    "duration": 104,
    "start_time": "2022-09-16T17:04:24.842Z"
   },
   {
    "duration": 92,
    "start_time": "2022-09-16T17:05:34.998Z"
   },
   {
    "duration": 75,
    "start_time": "2022-09-16T17:05:37.644Z"
   },
   {
    "duration": 2694,
    "start_time": "2022-09-16T17:14:29.366Z"
   },
   {
    "duration": 3165,
    "start_time": "2022-09-16T17:14:35.360Z"
   },
   {
    "duration": 1829,
    "start_time": "2022-09-16T17:14:48.941Z"
   },
   {
    "duration": 13,
    "start_time": "2022-09-16T17:14:51.208Z"
   },
   {
    "duration": 9,
    "start_time": "2022-09-16T17:14:58.202Z"
   },
   {
    "duration": 2238,
    "start_time": "2022-09-16T17:14:59.059Z"
   },
   {
    "duration": 8,
    "start_time": "2022-09-16T17:15:02.315Z"
   },
   {
    "duration": 2,
    "start_time": "2022-09-16T17:15:09.512Z"
   },
   {
    "duration": 4,
    "start_time": "2022-09-16T17:15:09.892Z"
   },
   {
    "duration": 35,
    "start_time": "2022-09-16T17:15:11.111Z"
   },
   {
    "duration": 178,
    "start_time": "2022-09-16T17:15:12.471Z"
   },
   {
    "duration": 74,
    "start_time": "2022-09-17T00:50:41.625Z"
   },
   {
    "duration": 7,
    "start_time": "2022-09-17T00:51:11.279Z"
   },
   {
    "duration": 2,
    "start_time": "2022-09-17T00:51:11.868Z"
   },
   {
    "duration": 2,
    "start_time": "2022-09-17T00:51:12.140Z"
   },
   {
    "duration": 33,
    "start_time": "2022-09-17T00:51:12.668Z"
   },
   {
    "duration": 148,
    "start_time": "2022-09-17T00:51:15.321Z"
   },
   {
    "duration": 219,
    "start_time": "2022-09-17T00:54:17.450Z"
   },
   {
    "duration": 13,
    "start_time": "2022-09-17T01:07:34.267Z"
   },
   {
    "duration": 12975,
    "start_time": "2022-09-17T01:14:21.624Z"
   },
   {
    "duration": 2643,
    "start_time": "2022-09-17T01:14:52.633Z"
   },
   {
    "duration": 6,
    "start_time": "2022-09-17T01:17:41.205Z"
   },
   {
    "duration": 363,
    "start_time": "2022-09-17T01:17:58.810Z"
   },
   {
    "duration": 76,
    "start_time": "2022-09-17T01:19:17.561Z"
   },
   {
    "duration": 79,
    "start_time": "2022-09-17T01:19:23.728Z"
   },
   {
    "duration": 106,
    "start_time": "2022-09-17T01:19:48.880Z"
   },
   {
    "duration": 75,
    "start_time": "2022-09-17T01:19:56.720Z"
   },
   {
    "duration": 112,
    "start_time": "2022-09-17T01:20:24.460Z"
   },
   {
    "duration": 10379,
    "start_time": "2022-09-17T01:20:31.555Z"
   },
   {
    "duration": 4,
    "start_time": "2022-09-17T01:20:41.937Z"
   },
   {
    "duration": 4,
    "start_time": "2022-09-17T01:20:42.868Z"
   },
   {
    "duration": 80,
    "start_time": "2022-09-17T01:20:42.897Z"
   },
   {
    "duration": 634,
    "start_time": "2022-09-17T01:20:54.551Z"
   },
   {
    "duration": 2335,
    "start_time": "2022-09-17T01:21:35.835Z"
   },
   {
    "duration": 2,
    "start_time": "2022-09-17T01:21:57.595Z"
   },
   {
    "duration": 5092,
    "start_time": "2022-09-17T01:21:59.202Z"
   },
   {
    "duration": 9,
    "start_time": "2022-09-17T01:22:07.950Z"
   },
   {
    "duration": 3,
    "start_time": "2022-09-17T01:22:09.194Z"
   },
   {
    "duration": 35827,
    "start_time": "2022-09-17T01:22:12.042Z"
   },
   {
    "duration": 33437,
    "start_time": "2022-09-17T01:23:06.037Z"
   },
   {
    "duration": 34223,
    "start_time": "2022-09-17T01:24:02.338Z"
   },
   {
    "duration": 18,
    "start_time": "2022-09-17T01:24:40.868Z"
   },
   {
    "duration": 5,
    "start_time": "2022-09-17T01:28:05.198Z"
   },
   {
    "duration": 6,
    "start_time": "2022-09-17T01:28:09.825Z"
   },
   {
    "duration": 6,
    "start_time": "2022-09-17T01:28:17.305Z"
   },
   {
    "duration": 3,
    "start_time": "2022-09-17T01:29:06.480Z"
   },
   {
    "duration": 75,
    "start_time": "2022-09-17T01:29:58.187Z"
   },
   {
    "duration": 5,
    "start_time": "2022-09-17T01:31:33.115Z"
   },
   {
    "duration": 10,
    "start_time": "2022-09-17T01:32:04.022Z"
   },
   {
    "duration": 7,
    "start_time": "2022-09-17T01:32:13.510Z"
   },
   {
    "duration": 1806,
    "start_time": "2022-09-17T01:32:28.401Z"
   },
   {
    "duration": 3175,
    "start_time": "2022-09-17T01:32:59.165Z"
   },
   {
    "duration": 7,
    "start_time": "2022-09-17T01:34:09.356Z"
   },
   {
    "duration": 7,
    "start_time": "2022-09-17T01:34:54.391Z"
   },
   {
    "duration": 8,
    "start_time": "2022-09-17T01:35:00.471Z"
   },
   {
    "duration": 1709,
    "start_time": "2022-09-17T01:35:13.124Z"
   },
   {
    "duration": 10901,
    "start_time": "2022-09-17T01:35:43.774Z"
   },
   {
    "duration": 4603,
    "start_time": "2022-09-17T01:35:54.677Z"
   },
   {
    "duration": 3230,
    "start_time": "2022-09-17T01:35:59.282Z"
   },
   {
    "duration": 16,
    "start_time": "2022-09-17T01:36:02.514Z"
   },
   {
    "duration": 12,
    "start_time": "2022-09-17T01:36:02.532Z"
   },
   {
    "duration": 18,
    "start_time": "2022-09-17T01:36:02.546Z"
   },
   {
    "duration": 45,
    "start_time": "2022-09-17T01:36:02.566Z"
   },
   {
    "duration": 249,
    "start_time": "2022-09-17T01:36:02.613Z"
   },
   {
    "duration": 170,
    "start_time": "2022-09-17T01:36:02.864Z"
   },
   {
    "duration": 2,
    "start_time": "2022-09-17T01:36:18.938Z"
   },
   {
    "duration": 2,
    "start_time": "2022-09-17T01:36:19.253Z"
   },
   {
    "duration": 32,
    "start_time": "2022-09-17T01:36:19.541Z"
   },
   {
    "duration": 201,
    "start_time": "2022-09-17T01:36:22.353Z"
   },
   {
    "duration": 137,
    "start_time": "2022-09-17T01:36:23.238Z"
   },
   {
    "duration": 9098,
    "start_time": "2022-09-17T01:36:55.159Z"
   },
   {
    "duration": 4123,
    "start_time": "2022-09-17T01:37:04.259Z"
   },
   {
    "duration": 2032,
    "start_time": "2022-09-17T01:37:08.384Z"
   },
   {
    "duration": 16,
    "start_time": "2022-09-17T01:37:10.418Z"
   },
   {
    "duration": 2,
    "start_time": "2022-09-17T01:37:10.437Z"
   },
   {
    "duration": 6,
    "start_time": "2022-09-17T01:37:10.440Z"
   },
   {
    "duration": 51,
    "start_time": "2022-09-17T01:37:10.448Z"
   },
   {
    "duration": 234,
    "start_time": "2022-09-17T01:37:10.501Z"
   },
   {
    "duration": 173,
    "start_time": "2022-09-17T01:37:10.737Z"
   },
   {
    "duration": 3,
    "start_time": "2022-09-17T01:37:14.517Z"
   },
   {
    "duration": 492,
    "start_time": "2022-09-17T01:37:15.245Z"
   },
   {
    "duration": 2,
    "start_time": "2022-09-17T01:37:16.373Z"
   },
   {
    "duration": 342,
    "start_time": "2022-09-17T01:37:17.981Z"
   },
   {
    "duration": 21,
    "start_time": "2022-09-17T01:37:21.644Z"
   },
   {
    "duration": 3,
    "start_time": "2022-09-17T01:37:22.621Z"
   },
   {
    "duration": 39549,
    "start_time": "2022-09-17T01:37:23.248Z"
   },
   {
    "duration": 5,
    "start_time": "2022-09-17T01:38:02.799Z"
   },
   {
    "duration": 1184,
    "start_time": "2022-09-17T01:38:05.597Z"
   },
   {
    "duration": 8,
    "start_time": "2022-09-17T01:39:28.319Z"
   },
   {
    "duration": 1103,
    "start_time": "2022-09-17T01:40:38.812Z"
   },
   {
    "duration": 1069,
    "start_time": "2022-09-17T01:40:57.502Z"
   },
   {
    "duration": 225,
    "start_time": "2022-09-17T01:43:18.856Z"
   },
   {
    "duration": 278,
    "start_time": "2022-09-17T01:43:20.596Z"
   },
   {
    "duration": 4,
    "start_time": "2022-09-17T01:43:25.076Z"
   },
   {
    "duration": 5,
    "start_time": "2022-09-17T01:43:32.351Z"
   },
   {
    "duration": 9994,
    "start_time": "2022-09-17T01:44:55.911Z"
   },
   {
    "duration": 4251,
    "start_time": "2022-09-17T01:45:05.907Z"
   },
   {
    "duration": 2443,
    "start_time": "2022-09-17T01:45:10.159Z"
   },
   {
    "duration": 16,
    "start_time": "2022-09-17T01:45:12.604Z"
   },
   {
    "duration": 2,
    "start_time": "2022-09-17T01:45:12.622Z"
   },
   {
    "duration": 5,
    "start_time": "2022-09-17T01:45:12.626Z"
   },
   {
    "duration": 35,
    "start_time": "2022-09-17T01:45:12.632Z"
   },
   {
    "duration": 256,
    "start_time": "2022-09-17T01:45:12.669Z"
   },
   {
    "duration": 155,
    "start_time": "2022-09-17T01:45:12.927Z"
   },
   {
    "duration": 12,
    "start_time": "2022-09-17T01:45:13.084Z"
   },
   {
    "duration": 469,
    "start_time": "2022-09-17T01:45:13.098Z"
   },
   {
    "duration": 2,
    "start_time": "2022-09-17T01:45:13.569Z"
   },
   {
    "duration": 319,
    "start_time": "2022-09-17T01:45:13.573Z"
   },
   {
    "duration": 0,
    "start_time": "2022-09-17T01:45:13.895Z"
   },
   {
    "duration": 0,
    "start_time": "2022-09-17T01:45:13.896Z"
   },
   {
    "duration": 0,
    "start_time": "2022-09-17T01:45:13.898Z"
   },
   {
    "duration": 21,
    "start_time": "2022-09-17T01:45:26.569Z"
   },
   {
    "duration": 3,
    "start_time": "2022-09-17T01:45:27.454Z"
   },
   {
    "duration": 4079,
    "start_time": "2022-09-17T01:45:27.949Z"
   },
   {
    "duration": 20,
    "start_time": "2022-09-17T01:51:51.212Z"
   },
   {
    "duration": 5,
    "start_time": "2022-09-17T01:51:58.325Z"
   },
   {
    "duration": 243,
    "start_time": "2022-09-17T01:52:05.372Z"
   },
   {
    "duration": 33,
    "start_time": "2022-09-17T01:52:06.595Z"
   },
   {
    "duration": 5,
    "start_time": "2022-09-17T01:52:07.575Z"
   },
   {
    "duration": 19,
    "start_time": "2022-09-17T01:52:46.324Z"
   },
   {
    "duration": 3,
    "start_time": "2022-09-17T01:52:54.805Z"
   },
   {
    "duration": 3,
    "start_time": "2022-09-17T01:52:55.784Z"
   },
   {
    "duration": 4,
    "start_time": "2022-09-17T01:53:03.661Z"
   },
   {
    "duration": 4,
    "start_time": "2022-09-17T01:53:11.419Z"
   },
   {
    "duration": 9699,
    "start_time": "2022-09-17T01:55:13.077Z"
   },
   {
    "duration": 4180,
    "start_time": "2022-09-17T01:55:22.778Z"
   },
   {
    "duration": 2186,
    "start_time": "2022-09-17T01:55:26.960Z"
   },
   {
    "duration": 16,
    "start_time": "2022-09-17T01:55:29.148Z"
   },
   {
    "duration": 2,
    "start_time": "2022-09-17T01:55:29.166Z"
   },
   {
    "duration": 25,
    "start_time": "2022-09-17T01:55:29.170Z"
   },
   {
    "duration": 33,
    "start_time": "2022-09-17T01:55:29.197Z"
   },
   {
    "duration": 251,
    "start_time": "2022-09-17T01:55:29.232Z"
   },
   {
    "duration": 162,
    "start_time": "2022-09-17T01:55:29.484Z"
   },
   {
    "duration": 3,
    "start_time": "2022-09-17T01:55:29.648Z"
   },
   {
    "duration": 518,
    "start_time": "2022-09-17T01:55:29.652Z"
   },
   {
    "duration": 2,
    "start_time": "2022-09-17T01:55:30.172Z"
   },
   {
    "duration": 30,
    "start_time": "2022-09-17T01:55:30.176Z"
   },
   {
    "duration": 4,
    "start_time": "2022-09-17T01:55:30.209Z"
   },
   {
    "duration": 4459,
    "start_time": "2022-09-17T01:55:30.214Z"
   },
   {
    "duration": 5,
    "start_time": "2022-09-17T01:55:34.675Z"
   },
   {
    "duration": 11095,
    "start_time": "2022-09-17T01:55:48.093Z"
   },
   {
    "duration": 4,
    "start_time": "2022-09-17T01:55:59.191Z"
   },
   {
    "duration": 1666,
    "start_time": "2022-09-17T01:55:59.197Z"
   },
   {
    "duration": 12,
    "start_time": "2022-09-17T01:56:00.865Z"
   },
   {
    "duration": 8,
    "start_time": "2022-09-17T01:56:00.878Z"
   },
   {
    "duration": 3,
    "start_time": "2022-09-17T01:56:00.895Z"
   },
   {
    "duration": 42,
    "start_time": "2022-09-17T01:56:00.900Z"
   },
   {
    "duration": 229,
    "start_time": "2022-09-17T01:56:00.943Z"
   },
   {
    "duration": 157,
    "start_time": "2022-09-17T01:56:01.174Z"
   },
   {
    "duration": 3,
    "start_time": "2022-09-17T01:56:01.333Z"
   },
   {
    "duration": 474,
    "start_time": "2022-09-17T01:56:01.338Z"
   },
   {
    "duration": 2,
    "start_time": "2022-09-17T01:56:01.814Z"
   },
   {
    "duration": 24,
    "start_time": "2022-09-17T01:56:01.818Z"
   },
   {
    "duration": 16,
    "start_time": "2022-09-17T01:56:01.844Z"
   },
   {
    "duration": 4393,
    "start_time": "2022-09-17T01:56:01.862Z"
   },
   {
    "duration": 5,
    "start_time": "2022-09-17T01:56:06.256Z"
   },
   {
    "duration": 9,
    "start_time": "2022-09-17T01:56:06.263Z"
   },
   {
    "duration": 5,
    "start_time": "2022-09-17T01:56:19.149Z"
   },
   {
    "duration": 341,
    "start_time": "2022-09-17T01:56:32.109Z"
   },
   {
    "duration": 19,
    "start_time": "2022-09-17T01:56:57.857Z"
   },
   {
    "duration": 5,
    "start_time": "2022-09-17T01:57:43.241Z"
   },
   {
    "duration": 6,
    "start_time": "2022-09-17T01:58:43.975Z"
   },
   {
    "duration": 20,
    "start_time": "2022-09-17T01:59:50.923Z"
   },
   {
    "duration": 145,
    "start_time": "2022-09-17T01:59:55.059Z"
   },
   {
    "duration": 32,
    "start_time": "2022-09-17T01:59:56.742Z"
   },
   {
    "duration": 4,
    "start_time": "2022-09-17T02:00:00.726Z"
   },
   {
    "duration": 4,
    "start_time": "2022-09-17T02:00:08.210Z"
   },
   {
    "duration": 19,
    "start_time": "2022-09-17T02:01:01.269Z"
   },
   {
    "duration": 9,
    "start_time": "2022-09-17T02:01:23.633Z"
   },
   {
    "duration": 20,
    "start_time": "2022-09-17T02:01:31.311Z"
   },
   {
    "duration": 3,
    "start_time": "2022-09-17T02:02:35.396Z"
   },
   {
    "duration": 428,
    "start_time": "2022-09-17T02:02:36.700Z"
   },
   {
    "duration": 3,
    "start_time": "2022-09-17T02:02:38.076Z"
   },
   {
    "duration": 4,
    "start_time": "2022-09-17T02:02:39.092Z"
   },
   {
    "duration": 3,
    "start_time": "2022-09-17T02:02:39.536Z"
   },
   {
    "duration": 4736,
    "start_time": "2022-09-17T02:02:40.383Z"
   },
   {
    "duration": 6,
    "start_time": "2022-09-17T02:02:46.659Z"
   },
   {
    "duration": 3,
    "start_time": "2022-09-17T02:03:17.375Z"
   },
   {
    "duration": 3474,
    "start_time": "2022-09-17T02:03:17.724Z"
   },
   {
    "duration": 6,
    "start_time": "2022-09-17T02:03:22.303Z"
   },
   {
    "duration": 5,
    "start_time": "2022-09-17T02:03:42.438Z"
   },
   {
    "duration": 5,
    "start_time": "2022-09-17T02:03:46.403Z"
   },
   {
    "duration": 4,
    "start_time": "2022-09-17T02:04:10.046Z"
   },
   {
    "duration": 394,
    "start_time": "2022-09-17T02:04:11.226Z"
   },
   {
    "duration": 4222,
    "start_time": "2022-09-17T02:04:13.574Z"
   },
   {
    "duration": 5,
    "start_time": "2022-09-17T02:04:24.595Z"
   },
   {
    "duration": 5,
    "start_time": "2022-09-17T02:04:28.674Z"
   },
   {
    "duration": 4,
    "start_time": "2022-09-17T02:04:29.782Z"
   },
   {
    "duration": 6,
    "start_time": "2022-09-17T02:04:32.214Z"
   },
   {
    "duration": 5,
    "start_time": "2022-09-17T02:04:35.945Z"
   },
   {
    "duration": 5,
    "start_time": "2022-09-17T02:04:38.854Z"
   },
   {
    "duration": 6,
    "start_time": "2022-09-17T02:04:41.973Z"
   },
   {
    "duration": 1059,
    "start_time": "2022-09-17T02:06:41.797Z"
   },
   {
    "duration": 3,
    "start_time": "2022-09-17T02:18:38.130Z"
   },
   {
    "duration": 5,
    "start_time": "2022-09-17T02:18:42.597Z"
   },
   {
    "duration": 7,
    "start_time": "2022-09-17T02:18:54.246Z"
   },
   {
    "duration": 4,
    "start_time": "2022-09-17T02:18:55.238Z"
   },
   {
    "duration": 2,
    "start_time": "2022-09-17T02:19:35.122Z"
   },
   {
    "duration": 4,
    "start_time": "2022-09-17T02:19:39.689Z"
   },
   {
    "duration": 18,
    "start_time": "2022-09-17T02:20:10.281Z"
   },
   {
    "duration": 17,
    "start_time": "2022-09-17T02:20:49.257Z"
   },
   {
    "duration": 4,
    "start_time": "2022-09-17T02:21:01.169Z"
   },
   {
    "duration": 7,
    "start_time": "2022-09-17T02:21:09.084Z"
   },
   {
    "duration": 4,
    "start_time": "2022-09-17T02:21:13.952Z"
   },
   {
    "duration": 9,
    "start_time": "2022-09-17T02:22:25.740Z"
   },
   {
    "duration": 4,
    "start_time": "2022-09-17T02:22:27.116Z"
   },
   {
    "duration": 16,
    "start_time": "2022-09-17T02:22:50.384Z"
   },
   {
    "duration": 5,
    "start_time": "2022-09-17T02:23:07.487Z"
   },
   {
    "duration": 4,
    "start_time": "2022-09-17T02:23:15.447Z"
   },
   {
    "duration": 33,
    "start_time": "2022-09-17T02:23:18.499Z"
   },
   {
    "duration": 4,
    "start_time": "2022-09-17T02:23:34.239Z"
   },
   {
    "duration": 6,
    "start_time": "2022-09-17T02:23:41.623Z"
   },
   {
    "duration": 203,
    "start_time": "2022-09-17T02:23:49.550Z"
   },
   {
    "duration": 4,
    "start_time": "2022-09-17T02:25:54.126Z"
   },
   {
    "duration": 6148,
    "start_time": "2022-09-17T02:25:57.494Z"
   },
   {
    "duration": 6,
    "start_time": "2022-09-17T02:26:13.702Z"
   },
   {
    "duration": 3,
    "start_time": "2022-09-17T02:26:33.406Z"
   },
   {
    "duration": 4993,
    "start_time": "2022-09-17T02:26:35.477Z"
   },
   {
    "duration": 7,
    "start_time": "2022-09-17T02:26:41.661Z"
   },
   {
    "duration": 4899,
    "start_time": "2022-09-17T02:27:49.097Z"
   },
   {
    "duration": 5,
    "start_time": "2022-09-17T02:27:53.998Z"
   },
   {
    "duration": 3,
    "start_time": "2022-09-17T02:27:57.901Z"
   },
   {
    "duration": 3468,
    "start_time": "2022-09-17T02:28:00.356Z"
   },
   {
    "duration": 4,
    "start_time": "2022-09-17T02:28:03.826Z"
   },
   {
    "duration": 9,
    "start_time": "2022-09-17T02:28:34.568Z"
   },
   {
    "duration": 5,
    "start_time": "2022-09-17T02:28:39.540Z"
   },
   {
    "duration": 11373,
    "start_time": "2022-09-17T02:29:46.637Z"
   },
   {
    "duration": 4254,
    "start_time": "2022-09-17T02:29:58.013Z"
   },
   {
    "duration": 3509,
    "start_time": "2022-09-17T02:30:02.269Z"
   },
   {
    "duration": 19,
    "start_time": "2022-09-17T02:30:05.781Z"
   },
   {
    "duration": 3,
    "start_time": "2022-09-17T02:30:05.801Z"
   },
   {
    "duration": 5,
    "start_time": "2022-09-17T02:30:05.806Z"
   },
   {
    "duration": 38,
    "start_time": "2022-09-17T02:30:05.813Z"
   },
   {
    "duration": 254,
    "start_time": "2022-09-17T02:30:05.853Z"
   },
   {
    "duration": 160,
    "start_time": "2022-09-17T02:30:06.109Z"
   },
   {
    "duration": 3,
    "start_time": "2022-09-17T02:30:06.272Z"
   },
   {
    "duration": 526,
    "start_time": "2022-09-17T02:30:06.277Z"
   },
   {
    "duration": 2,
    "start_time": "2022-09-17T02:30:06.805Z"
   },
   {
    "duration": 26,
    "start_time": "2022-09-17T02:30:06.809Z"
   },
   {
    "duration": 11,
    "start_time": "2022-09-17T02:30:06.837Z"
   },
   {
    "duration": 4459,
    "start_time": "2022-09-17T02:30:06.849Z"
   },
   {
    "duration": 5,
    "start_time": "2022-09-17T02:30:11.310Z"
   },
   {
    "duration": 3,
    "start_time": "2022-09-17T02:37:47.009Z"
   },
   {
    "duration": 482,
    "start_time": "2022-09-17T02:37:49.885Z"
   },
   {
    "duration": 3,
    "start_time": "2022-09-17T02:37:50.369Z"
   },
   {
    "duration": 3,
    "start_time": "2022-09-17T02:37:50.681Z"
   },
   {
    "duration": 4,
    "start_time": "2022-09-17T02:37:51.061Z"
   },
   {
    "duration": 4496,
    "start_time": "2022-09-17T02:37:51.744Z"
   },
   {
    "duration": 5,
    "start_time": "2022-09-17T02:37:56.242Z"
   },
   {
    "duration": 304,
    "start_time": "2022-09-17T02:39:13.044Z"
   },
   {
    "duration": 20,
    "start_time": "2022-09-17T02:39:31.243Z"
   },
   {
    "duration": 4,
    "start_time": "2022-09-17T02:40:22.047Z"
   },
   {
    "duration": 3926,
    "start_time": "2022-09-17T02:40:26.996Z"
   },
   {
    "duration": 4,
    "start_time": "2022-09-17T02:40:58.942Z"
   },
   {
    "duration": 1004,
    "start_time": "2022-09-17T02:41:01.719Z"
   },
   {
    "duration": 3,
    "start_time": "2022-09-17T02:41:32.598Z"
   },
   {
    "duration": 4132,
    "start_time": "2022-09-17T02:41:34.054Z"
   },
   {
    "duration": 4,
    "start_time": "2022-09-17T02:42:17.805Z"
   },
   {
    "duration": 3926,
    "start_time": "2022-09-17T02:42:19.642Z"
   },
   {
    "duration": 4,
    "start_time": "2022-09-17T02:42:38.649Z"
   },
   {
    "duration": 3855,
    "start_time": "2022-09-17T02:42:41.711Z"
   },
   {
    "duration": 3,
    "start_time": "2022-09-17T02:47:04.098Z"
   },
   {
    "duration": 3890,
    "start_time": "2022-09-17T02:47:15.642Z"
   },
   {
    "duration": 3776,
    "start_time": "2022-09-17T02:47:27.533Z"
   },
   {
    "duration": 6,
    "start_time": "2022-09-17T02:47:33.406Z"
   },
   {
    "duration": 3,
    "start_time": "2022-09-17T02:47:40.802Z"
   },
   {
    "duration": 3638,
    "start_time": "2022-09-17T02:47:44.518Z"
   },
   {
    "duration": 5,
    "start_time": "2022-09-17T02:47:48.796Z"
   },
   {
    "duration": 9,
    "start_time": "2022-09-17T02:48:06.309Z"
   },
   {
    "duration": 2,
    "start_time": "2022-09-17T02:48:06.905Z"
   },
   {
    "duration": 5,
    "start_time": "2022-09-17T02:48:11.452Z"
   },
   {
    "duration": 6,
    "start_time": "2022-09-17T02:48:27.336Z"
   },
   {
    "duration": 4,
    "start_time": "2022-09-17T02:48:32.113Z"
   },
   {
    "duration": 34,
    "start_time": "2022-09-17T02:48:46.920Z"
   },
   {
    "duration": 11,
    "start_time": "2022-09-17T02:49:10.936Z"
   },
   {
    "duration": 241,
    "start_time": "2022-09-17T02:49:45.566Z"
   },
   {
    "duration": 1309,
    "start_time": "2022-09-17T02:51:06.411Z"
   },
   {
    "duration": 208,
    "start_time": "2022-09-17T02:51:13.039Z"
   },
   {
    "duration": 77,
    "start_time": "2022-09-17T02:52:30.125Z"
   },
   {
    "duration": 9975,
    "start_time": "2022-09-17T02:53:00.838Z"
   },
   {
    "duration": 4063,
    "start_time": "2022-09-17T02:53:10.815Z"
   },
   {
    "duration": 3120,
    "start_time": "2022-09-17T02:53:14.880Z"
   },
   {
    "duration": 19,
    "start_time": "2022-09-17T02:53:18.002Z"
   },
   {
    "duration": 3,
    "start_time": "2022-09-17T02:53:18.023Z"
   },
   {
    "duration": 26,
    "start_time": "2022-09-17T02:53:18.028Z"
   },
   {
    "duration": 40,
    "start_time": "2022-09-17T02:53:18.056Z"
   },
   {
    "duration": 228,
    "start_time": "2022-09-17T02:53:18.098Z"
   },
   {
    "duration": 163,
    "start_time": "2022-09-17T02:53:18.328Z"
   },
   {
    "duration": 3,
    "start_time": "2022-09-17T02:53:18.496Z"
   },
   {
    "duration": 502,
    "start_time": "2022-09-17T02:53:18.501Z"
   },
   {
    "duration": 2,
    "start_time": "2022-09-17T02:53:19.005Z"
   },
   {
    "duration": 5,
    "start_time": "2022-09-17T02:53:19.009Z"
   },
   {
    "duration": 4,
    "start_time": "2022-09-17T02:53:19.016Z"
   },
   {
    "duration": 1113991,
    "start_time": "2022-09-17T02:53:19.022Z"
   },
   {
    "duration": 335,
    "start_time": "2022-09-17T03:11:53.015Z"
   },
   {
    "duration": 22,
    "start_time": "2022-09-17T03:17:29.653Z"
   },
   {
    "duration": 22134,
    "start_time": "2022-09-17T03:17:35.998Z"
   },
   {
    "duration": 25870,
    "start_time": "2022-09-17T03:18:13.920Z"
   },
   {
    "duration": 31,
    "start_time": "2022-09-17T03:18:58.332Z"
   },
   {
    "duration": 230,
    "start_time": "2022-09-17T03:19:22.519Z"
   },
   {
    "duration": 4459,
    "start_time": "2022-09-17T03:19:22.906Z"
   },
   {
    "duration": 3,
    "start_time": "2022-09-17T03:19:34.359Z"
   },
   {
    "duration": 12,
    "start_time": "2022-09-17T03:19:41.311Z"
   },
   {
    "duration": 533,
    "start_time": "2022-09-17T03:20:06.442Z"
   },
   {
    "duration": 33,
    "start_time": "2022-09-17T03:20:40.798Z"
   },
   {
    "duration": 4,
    "start_time": "2022-09-17T03:22:41.076Z"
   },
   {
    "duration": 25,
    "start_time": "2022-09-17T03:22:57.368Z"
   },
   {
    "duration": 24,
    "start_time": "2022-09-17T03:25:29.494Z"
   },
   {
    "duration": 16,
    "start_time": "2022-09-17T03:26:41.637Z"
   },
   {
    "duration": 84,
    "start_time": "2022-09-17T03:27:00.733Z"
   },
   {
    "duration": 211,
    "start_time": "2022-09-17T03:27:07.848Z"
   },
   {
    "duration": 8,
    "start_time": "2022-09-17T03:27:34.471Z"
   },
   {
    "duration": 3866,
    "start_time": "2022-09-17T03:27:50.259Z"
   },
   {
    "duration": 72,
    "start_time": "2022-09-17T03:28:57.833Z"
   },
   {
    "duration": 4,
    "start_time": "2022-09-17T03:29:01.186Z"
   },
   {
    "duration": 4656,
    "start_time": "2022-09-17T03:29:02.011Z"
   },
   {
    "duration": 282146,
    "start_time": "2022-09-17T03:29:20.751Z"
   },
   {
    "duration": 98,
    "start_time": "2022-09-17T03:34:02.899Z"
   },
   {
    "duration": 5,
    "start_time": "2022-09-17T03:49:10.454Z"
   },
   {
    "duration": 10417,
    "start_time": "2022-09-17T03:49:18.755Z"
   },
   {
    "duration": 4179,
    "start_time": "2022-09-17T03:49:29.174Z"
   },
   {
    "duration": 3087,
    "start_time": "2022-09-17T03:49:33.354Z"
   },
   {
    "duration": 16,
    "start_time": "2022-09-17T03:49:36.443Z"
   },
   {
    "duration": 2,
    "start_time": "2022-09-17T03:49:36.462Z"
   },
   {
    "duration": 5,
    "start_time": "2022-09-17T03:49:36.465Z"
   },
   {
    "duration": 58,
    "start_time": "2022-09-17T03:49:36.472Z"
   },
   {
    "duration": 236,
    "start_time": "2022-09-17T03:49:36.533Z"
   },
   {
    "duration": 174,
    "start_time": "2022-09-17T03:49:36.771Z"
   },
   {
    "duration": 3,
    "start_time": "2022-09-17T03:49:36.947Z"
   },
   {
    "duration": 497,
    "start_time": "2022-09-17T03:49:36.952Z"
   },
   {
    "duration": 2,
    "start_time": "2022-09-17T03:49:37.451Z"
   },
   {
    "duration": 5,
    "start_time": "2022-09-17T03:49:37.455Z"
   },
   {
    "duration": 3,
    "start_time": "2022-09-17T03:49:37.463Z"
   },
   {
    "duration": 1102071,
    "start_time": "2022-09-17T03:49:37.467Z"
   },
   {
    "duration": 25840,
    "start_time": "2022-09-17T04:07:59.540Z"
   },
   {
    "duration": 70,
    "start_time": "2022-09-17T04:08:25.382Z"
   },
   {
    "duration": 3,
    "start_time": "2022-09-17T04:08:25.453Z"
   },
   {
    "duration": 6,
    "start_time": "2022-09-17T04:08:25.458Z"
   },
   {
    "duration": 5,
    "start_time": "2022-09-17T04:08:25.466Z"
   },
   {
    "duration": 242,
    "start_time": "2022-09-17T04:08:25.472Z"
   },
   {
    "duration": 4641,
    "start_time": "2022-09-17T04:08:25.715Z"
   },
   {
    "duration": 92,
    "start_time": "2022-09-17T04:08:30.358Z"
   },
   {
    "duration": 0,
    "start_time": "2022-09-17T04:08:30.451Z"
   },
   {
    "duration": 0,
    "start_time": "2022-09-17T04:08:30.452Z"
   },
   {
    "duration": 0,
    "start_time": "2022-09-17T04:08:30.453Z"
   },
   {
    "duration": 0,
    "start_time": "2022-09-17T04:08:30.454Z"
   },
   {
    "duration": 0,
    "start_time": "2022-09-17T04:08:30.456Z"
   },
   {
    "duration": 0,
    "start_time": "2022-09-17T04:08:30.456Z"
   },
   {
    "duration": 0,
    "start_time": "2022-09-17T04:08:30.457Z"
   },
   {
    "duration": 0,
    "start_time": "2022-09-17T04:08:30.458Z"
   },
   {
    "duration": 2,
    "start_time": "2022-09-17T04:13:54.084Z"
   },
   {
    "duration": 114,
    "start_time": "2022-09-17T04:13:55.772Z"
   },
   {
    "duration": 284494,
    "start_time": "2022-09-17T04:18:39.203Z"
   },
   {
    "duration": 92,
    "start_time": "2022-09-17T04:23:23.704Z"
   },
   {
    "duration": 830405,
    "start_time": "2022-09-17T04:23:23.798Z"
   },
   {
    "duration": 3,
    "start_time": "2022-09-17T04:37:14.205Z"
   },
   {
    "duration": 500595,
    "start_time": "2022-09-17T04:37:14.209Z"
   },
   {
    "duration": 0,
    "start_time": "2022-09-17T04:45:34.806Z"
   },
   {
    "duration": 0,
    "start_time": "2022-09-17T04:45:34.807Z"
   },
   {
    "duration": 454378,
    "start_time": "2022-09-17T04:49:35.682Z"
   },
   {
    "duration": 0,
    "start_time": "2022-09-17T04:57:10.062Z"
   },
   {
    "duration": 0,
    "start_time": "2022-09-17T04:57:10.063Z"
   },
   {
    "duration": 9992,
    "start_time": "2022-09-17T04:58:07.443Z"
   },
   {
    "duration": 4063,
    "start_time": "2022-09-17T04:58:17.437Z"
   },
   {
    "duration": 2715,
    "start_time": "2022-09-17T04:58:21.501Z"
   },
   {
    "duration": 15,
    "start_time": "2022-09-17T04:58:24.218Z"
   },
   {
    "duration": 3,
    "start_time": "2022-09-17T04:58:24.235Z"
   },
   {
    "duration": 5,
    "start_time": "2022-09-17T04:58:24.240Z"
   },
   {
    "duration": 52,
    "start_time": "2022-09-17T04:58:24.247Z"
   },
   {
    "duration": 236,
    "start_time": "2022-09-17T04:58:24.300Z"
   },
   {
    "duration": 159,
    "start_time": "2022-09-17T04:58:24.538Z"
   },
   {
    "duration": 3,
    "start_time": "2022-09-17T04:58:24.700Z"
   },
   {
    "duration": 507,
    "start_time": "2022-09-17T04:58:24.704Z"
   },
   {
    "duration": 3,
    "start_time": "2022-09-17T04:58:25.213Z"
   },
   {
    "duration": 24,
    "start_time": "2022-09-17T04:58:25.218Z"
   },
   {
    "duration": 5,
    "start_time": "2022-09-17T04:58:25.244Z"
   },
   {
    "duration": 4212,
    "start_time": "2022-09-17T04:58:25.251Z"
   },
   {
    "duration": 279,
    "start_time": "2022-09-17T04:58:29.466Z"
   },
   {
    "duration": 5,
    "start_time": "2022-09-17T04:58:29.747Z"
   },
   {
    "duration": 13,
    "start_time": "2022-09-17T04:58:29.753Z"
   },
   {
    "duration": 5,
    "start_time": "2022-09-17T04:58:29.768Z"
   },
   {
    "duration": 3,
    "start_time": "2022-09-17T04:58:29.775Z"
   },
   {
    "duration": 154,
    "start_time": "2022-09-17T04:58:29.780Z"
   },
   {
    "duration": 28,
    "start_time": "2022-09-17T04:58:29.937Z"
   },
   {
    "duration": 3,
    "start_time": "2022-09-17T04:58:29.967Z"
   },
   {
    "duration": 3697,
    "start_time": "2022-09-17T04:58:29.972Z"
   },
   {
    "duration": 2,
    "start_time": "2022-09-17T04:58:33.671Z"
   },
   {
    "duration": 3946,
    "start_time": "2022-09-17T04:58:33.674Z"
   },
   {
    "duration": 2,
    "start_time": "2022-09-17T04:58:37.622Z"
   },
   {
    "duration": 8332,
    "start_time": "2022-09-17T04:58:37.627Z"
   },
   {
    "duration": 18,
    "start_time": "2022-09-17T04:58:45.961Z"
   },
   {
    "duration": 0,
    "start_time": "2022-09-17T04:58:45.980Z"
   },
   {
    "duration": 18,
    "start_time": "2022-09-17T04:59:24.657Z"
   },
   {
    "duration": 18,
    "start_time": "2022-09-17T04:59:46.685Z"
   },
   {
    "duration": 8300,
    "start_time": "2022-09-17T05:00:01.613Z"
   },
   {
    "duration": 19,
    "start_time": "2022-09-17T05:00:09.915Z"
   },
   {
    "duration": 8949,
    "start_time": "2022-09-17T05:00:20.920Z"
   },
   {
    "duration": 20,
    "start_time": "2022-09-17T05:00:29.872Z"
   },
   {
    "duration": 8100,
    "start_time": "2022-09-17T05:01:16.823Z"
   },
   {
    "duration": 8057,
    "start_time": "2022-09-17T05:03:54.489Z"
   },
   {
    "duration": 8740,
    "start_time": "2022-09-17T05:04:22.293Z"
   },
   {
    "duration": 5,
    "start_time": "2022-09-17T05:05:13.332Z"
   },
   {
    "duration": 8901,
    "start_time": "2022-09-17T05:05:21.072Z"
   },
   {
    "duration": 18,
    "start_time": "2022-09-17T05:05:29.975Z"
   },
   {
    "duration": 8862,
    "start_time": "2022-09-17T05:06:32.887Z"
   },
   {
    "duration": 5092,
    "start_time": "2022-09-17T05:07:41.847Z"
   },
   {
    "duration": 9945,
    "start_time": "2022-09-17T05:07:57.634Z"
   },
   {
    "duration": 4213,
    "start_time": "2022-09-17T05:08:07.582Z"
   },
   {
    "duration": 2401,
    "start_time": "2022-09-17T05:08:11.796Z"
   },
   {
    "duration": 17,
    "start_time": "2022-09-17T05:08:14.199Z"
   },
   {
    "duration": 2,
    "start_time": "2022-09-17T05:08:14.218Z"
   },
   {
    "duration": 4,
    "start_time": "2022-09-17T05:08:14.222Z"
   },
   {
    "duration": 40,
    "start_time": "2022-09-17T05:08:14.228Z"
   },
   {
    "duration": 256,
    "start_time": "2022-09-17T05:08:14.270Z"
   },
   {
    "duration": 163,
    "start_time": "2022-09-17T05:08:14.527Z"
   },
   {
    "duration": 4,
    "start_time": "2022-09-17T05:08:14.694Z"
   },
   {
    "duration": 516,
    "start_time": "2022-09-17T05:08:14.699Z"
   },
   {
    "duration": 3,
    "start_time": "2022-09-17T05:08:15.217Z"
   },
   {
    "duration": 24,
    "start_time": "2022-09-17T05:08:15.222Z"
   },
   {
    "duration": 5,
    "start_time": "2022-09-17T05:08:15.248Z"
   },
   {
    "duration": 4340,
    "start_time": "2022-09-17T05:08:15.255Z"
   },
   {
    "duration": 288,
    "start_time": "2022-09-17T05:08:19.597Z"
   },
   {
    "duration": 12,
    "start_time": "2022-09-17T05:08:19.886Z"
   },
   {
    "duration": 5,
    "start_time": "2022-09-17T05:08:19.900Z"
   },
   {
    "duration": 4,
    "start_time": "2022-09-17T05:08:19.907Z"
   },
   {
    "duration": 6,
    "start_time": "2022-09-17T05:08:19.913Z"
   },
   {
    "duration": 151,
    "start_time": "2022-09-17T05:08:19.920Z"
   },
   {
    "duration": 28,
    "start_time": "2022-09-17T05:08:20.073Z"
   },
   {
    "duration": 3,
    "start_time": "2022-09-17T05:08:20.102Z"
   },
   {
    "duration": 3954,
    "start_time": "2022-09-17T05:08:20.106Z"
   },
   {
    "duration": 3,
    "start_time": "2022-09-17T05:08:24.062Z"
   },
   {
    "duration": 4080,
    "start_time": "2022-09-17T05:08:24.066Z"
   },
   {
    "duration": 3,
    "start_time": "2022-09-17T05:08:28.147Z"
   },
   {
    "duration": 5372,
    "start_time": "2022-09-17T05:08:28.153Z"
   },
   {
    "duration": 19,
    "start_time": "2022-09-17T05:08:33.527Z"
   },
   {
    "duration": 0,
    "start_time": "2022-09-17T05:08:33.548Z"
   },
   {
    "duration": 5952,
    "start_time": "2022-09-17T05:11:09.911Z"
   },
   {
    "duration": 17494,
    "start_time": "2022-09-17T05:36:43.248Z"
   },
   {
    "duration": 5310,
    "start_time": "2022-09-17T05:43:13.258Z"
   },
   {
    "duration": 4614,
    "start_time": "2022-09-17T05:47:10.548Z"
   },
   {
    "duration": 5032,
    "start_time": "2022-09-17T05:47:24.351Z"
   },
   {
    "duration": 5213,
    "start_time": "2022-09-17T05:47:45.422Z"
   },
   {
    "duration": 4970,
    "start_time": "2022-09-17T05:48:09.934Z"
   },
   {
    "duration": 5075,
    "start_time": "2022-09-17T07:37:04.601Z"
   },
   {
    "duration": 5107,
    "start_time": "2022-09-17T07:38:35.752Z"
   },
   {
    "duration": 5081,
    "start_time": "2022-09-17T07:39:51.939Z"
   },
   {
    "duration": 4,
    "start_time": "2022-09-17T07:41:25.786Z"
   },
   {
    "duration": 4,
    "start_time": "2022-09-17T07:43:09.756Z"
   },
   {
    "duration": 20,
    "start_time": "2022-09-17T07:51:49.404Z"
   },
   {
    "duration": 5,
    "start_time": "2022-09-17T07:52:44.356Z"
   },
   {
    "duration": 24,
    "start_time": "2022-09-17T07:52:45.292Z"
   },
   {
    "duration": 329,
    "start_time": "2022-09-17T08:27:39.944Z"
   },
   {
    "duration": 5,
    "start_time": "2022-09-17T08:27:46.840Z"
   },
   {
    "duration": 404,
    "start_time": "2022-09-17T08:27:48.328Z"
   },
   {
    "duration": 8,
    "start_time": "2022-09-17T08:28:14.032Z"
   },
   {
    "duration": 576,
    "start_time": "2022-09-17T08:28:19.173Z"
   },
   {
    "duration": 806,
    "start_time": "2022-09-17T08:28:47.501Z"
   },
   {
    "duration": 1932,
    "start_time": "2022-09-17T08:28:50.315Z"
   },
   {
    "duration": 10,
    "start_time": "2022-09-17T08:29:12.715Z"
   },
   {
    "duration": 401,
    "start_time": "2022-09-17T08:30:00.775Z"
   },
   {
    "duration": 58,
    "start_time": "2022-09-17T08:32:26.052Z"
   },
   {
    "duration": 341,
    "start_time": "2022-09-17T08:32:48.236Z"
   },
   {
    "duration": 3572,
    "start_time": "2022-09-17T08:35:40.523Z"
   },
   {
    "duration": 2652,
    "start_time": "2022-09-17T08:36:26.308Z"
   },
   {
    "duration": 35453,
    "start_time": "2022-09-17T08:36:34.007Z"
   },
   {
    "duration": 2154,
    "start_time": "2022-09-17T08:37:15.499Z"
   },
   {
    "duration": 18,
    "start_time": "2022-09-17T08:37:25.704Z"
   },
   {
    "duration": 4525,
    "start_time": "2022-09-17T08:37:31.811Z"
   },
   {
    "duration": 11,
    "start_time": "2022-09-17T08:37:40.661Z"
   },
   {
    "duration": 319,
    "start_time": "2022-09-17T08:37:57.507Z"
   },
   {
    "duration": 23,
    "start_time": "2022-09-17T08:50:49.236Z"
   },
   {
    "duration": 5,
    "start_time": "2022-09-17T08:52:11.814Z"
   },
   {
    "duration": 1252,
    "start_time": "2022-09-17T08:52:16.475Z"
   },
   {
    "duration": 2142,
    "start_time": "2022-09-17T08:52:31.734Z"
   },
   {
    "duration": 19,
    "start_time": "2022-09-17T08:52:50.034Z"
   },
   {
    "duration": 356,
    "start_time": "2022-09-17T08:52:52.062Z"
   },
   {
    "duration": 7,
    "start_time": "2022-09-17T08:53:15.522Z"
   },
   {
    "duration": 7,
    "start_time": "2022-09-17T08:53:17.735Z"
   },
   {
    "duration": 1945,
    "start_time": "2022-09-17T08:53:27.117Z"
   },
   {
    "duration": 17,
    "start_time": "2022-09-17T08:53:33.078Z"
   },
   {
    "duration": 340,
    "start_time": "2022-09-17T08:53:36.173Z"
   },
   {
    "duration": 294,
    "start_time": "2022-09-17T09:01:25.818Z"
   },
   {
    "duration": 11209,
    "start_time": "2022-09-17T23:59:12.386Z"
   },
   {
    "duration": 4951,
    "start_time": "2022-09-17T23:59:23.598Z"
   },
   {
    "duration": 2657,
    "start_time": "2022-09-17T23:59:28.559Z"
   },
   {
    "duration": 17,
    "start_time": "2022-09-17T23:59:31.218Z"
   },
   {
    "duration": 14,
    "start_time": "2022-09-17T23:59:31.237Z"
   },
   {
    "duration": 12,
    "start_time": "2022-09-17T23:59:31.253Z"
   },
   {
    "duration": 56,
    "start_time": "2022-09-17T23:59:31.268Z"
   },
   {
    "duration": 279,
    "start_time": "2022-09-17T23:59:31.326Z"
   },
   {
    "duration": 213,
    "start_time": "2022-09-17T23:59:31.608Z"
   },
   {
    "duration": 5,
    "start_time": "2022-09-17T23:59:31.822Z"
   },
   {
    "duration": 591,
    "start_time": "2022-09-17T23:59:31.829Z"
   },
   {
    "duration": 2,
    "start_time": "2022-09-17T23:59:32.422Z"
   },
   {
    "duration": 37,
    "start_time": "2022-09-17T23:59:32.426Z"
   },
   {
    "duration": 17,
    "start_time": "2022-09-17T23:59:32.466Z"
   },
   {
    "duration": 4687,
    "start_time": "2022-09-17T23:59:32.485Z"
   },
   {
    "duration": 322,
    "start_time": "2022-09-17T23:59:37.175Z"
   },
   {
    "duration": 5,
    "start_time": "2022-09-17T23:59:37.499Z"
   },
   {
    "duration": 7,
    "start_time": "2022-09-17T23:59:37.506Z"
   },
   {
    "duration": 10,
    "start_time": "2022-09-17T23:59:37.515Z"
   },
   {
    "duration": 11,
    "start_time": "2022-09-17T23:59:37.526Z"
   },
   {
    "duration": 122,
    "start_time": "2022-09-17T23:59:37.538Z"
   },
   {
    "duration": 35,
    "start_time": "2022-09-17T23:59:37.662Z"
   },
   {
    "duration": 2,
    "start_time": "2022-09-17T23:59:37.699Z"
   },
   {
    "duration": 4108,
    "start_time": "2022-09-17T23:59:37.703Z"
   },
   {
    "duration": 2,
    "start_time": "2022-09-17T23:59:41.813Z"
   },
   {
    "duration": 3856,
    "start_time": "2022-09-17T23:59:41.817Z"
   },
   {
    "duration": 3,
    "start_time": "2022-09-17T23:59:45.677Z"
   },
   {
    "duration": 5267,
    "start_time": "2022-09-17T23:59:45.681Z"
   },
   {
    "duration": 4,
    "start_time": "2022-09-17T23:59:50.950Z"
   },
   {
    "duration": 48,
    "start_time": "2022-09-17T23:59:50.956Z"
   },
   {
    "duration": 0,
    "start_time": "2022-09-17T23:59:51.007Z"
   },
   {
    "duration": 84,
    "start_time": "2022-09-18T00:32:51.386Z"
   },
   {
    "duration": 24,
    "start_time": "2022-09-18T00:34:38.333Z"
   },
   {
    "duration": 3,
    "start_time": "2022-09-18T00:34:45.005Z"
   },
   {
    "duration": 10378,
    "start_time": "2022-09-18T00:34:46.779Z"
   },
   {
    "duration": 31078,
    "start_time": "2022-09-18T00:35:22.619Z"
   },
   {
    "duration": 30988,
    "start_time": "2022-09-18T00:38:52.041Z"
   },
   {
    "duration": 22987,
    "start_time": "2022-09-18T00:39:32.464Z"
   },
   {
    "duration": 27051,
    "start_time": "2022-09-18T00:40:07.807Z"
   },
   {
    "duration": 18761,
    "start_time": "2022-09-18T00:44:38.350Z"
   },
   {
    "duration": 42030,
    "start_time": "2022-09-18T00:45:13.933Z"
   },
   {
    "duration": 87,
    "start_time": "2022-09-18T00:47:26.558Z"
   },
   {
    "duration": 75,
    "start_time": "2022-09-18T00:47:42.858Z"
   },
   {
    "duration": 991792,
    "start_time": "2022-09-18T00:52:52.639Z"
   },
   {
    "duration": 116374,
    "start_time": "2022-09-18T01:09:49.773Z"
   },
   {
    "duration": 7,
    "start_time": "2022-09-18T01:12:29.841Z"
   },
   {
    "duration": 1472,
    "start_time": "2022-09-18T01:19:02.937Z"
   },
   {
    "duration": 1434,
    "start_time": "2022-09-18T01:19:18.535Z"
   },
   {
    "duration": 84,
    "start_time": "2022-09-18T01:20:08.047Z"
   },
   {
    "duration": 1217,
    "start_time": "2022-09-18T01:20:52.873Z"
   },
   {
    "duration": 14615,
    "start_time": "2022-09-18T01:26:26.854Z"
   },
   {
    "duration": 1425,
    "start_time": "2022-09-18T01:41:44.016Z"
   },
   {
    "duration": 4,
    "start_time": "2022-09-18T01:42:05.245Z"
   },
   {
    "duration": 4,
    "start_time": "2022-09-18T01:42:16.362Z"
   },
   {
    "duration": 5,
    "start_time": "2022-09-18T01:42:30.715Z"
   },
   {
    "duration": 44,
    "start_time": "2022-09-18T01:48:16.486Z"
   },
   {
    "duration": 108657,
    "start_time": "2022-09-18T01:48:28.270Z"
   },
   {
    "duration": 4,
    "start_time": "2022-09-18T01:53:28.443Z"
   },
   {
    "duration": 4,
    "start_time": "2022-09-18T01:53:37.016Z"
   },
   {
    "duration": 5,
    "start_time": "2022-09-18T01:53:49.956Z"
   },
   {
    "duration": 21,
    "start_time": "2022-09-18T01:54:14.448Z"
   },
   {
    "duration": 6,
    "start_time": "2022-09-18T01:54:58.100Z"
   },
   {
    "duration": 23,
    "start_time": "2022-09-18T01:55:23.907Z"
   },
   {
    "duration": 21,
    "start_time": "2022-09-18T01:55:33.324Z"
   },
   {
    "duration": 21,
    "start_time": "2022-09-18T01:55:37.347Z"
   },
   {
    "duration": 5,
    "start_time": "2022-09-18T01:55:41.255Z"
   },
   {
    "duration": 20,
    "start_time": "2022-09-18T01:55:50.390Z"
   },
   {
    "duration": 5,
    "start_time": "2022-09-18T01:55:54.587Z"
   },
   {
    "duration": 5,
    "start_time": "2022-09-18T01:56:00.611Z"
   },
   {
    "duration": 1117,
    "start_time": "2022-09-18T01:56:14.439Z"
   },
   {
    "duration": 27,
    "start_time": "2022-09-18T02:04:03.267Z"
   },
   {
    "duration": 10590,
    "start_time": "2022-09-18T02:04:13.034Z"
   },
   {
    "duration": 4519,
    "start_time": "2022-09-18T02:04:23.627Z"
   },
   {
    "duration": 2219,
    "start_time": "2022-09-18T02:04:28.147Z"
   },
   {
    "duration": 17,
    "start_time": "2022-09-18T02:04:30.368Z"
   },
   {
    "duration": 19,
    "start_time": "2022-09-18T02:04:30.387Z"
   },
   {
    "duration": 56,
    "start_time": "2022-09-18T02:04:30.408Z"
   },
   {
    "duration": 70,
    "start_time": "2022-09-18T02:04:30.466Z"
   },
   {
    "duration": 264,
    "start_time": "2022-09-18T02:04:30.538Z"
   },
   {
    "duration": 167,
    "start_time": "2022-09-18T02:04:30.804Z"
   },
   {
    "duration": 4,
    "start_time": "2022-09-18T02:04:30.973Z"
   },
   {
    "duration": 609,
    "start_time": "2022-09-18T02:04:30.979Z"
   },
   {
    "duration": 3,
    "start_time": "2022-09-18T02:04:31.590Z"
   },
   {
    "duration": 31,
    "start_time": "2022-09-18T02:04:31.595Z"
   },
   {
    "duration": 16,
    "start_time": "2022-09-18T02:04:31.630Z"
   },
   {
    "duration": 4556,
    "start_time": "2022-09-18T02:04:31.648Z"
   },
   {
    "duration": 282,
    "start_time": "2022-09-18T02:04:36.205Z"
   },
   {
    "duration": 5,
    "start_time": "2022-09-18T02:04:36.489Z"
   },
   {
    "duration": 6,
    "start_time": "2022-09-18T02:04:36.496Z"
   },
   {
    "duration": 5,
    "start_time": "2022-09-18T02:04:36.504Z"
   },
   {
    "duration": 5,
    "start_time": "2022-09-18T02:04:36.510Z"
   },
   {
    "duration": 114,
    "start_time": "2022-09-18T02:04:36.516Z"
   },
   {
    "duration": 25,
    "start_time": "2022-09-18T02:04:36.631Z"
   },
   {
    "duration": 3,
    "start_time": "2022-09-18T02:04:36.657Z"
   },
   {
    "duration": 3901,
    "start_time": "2022-09-18T02:04:36.661Z"
   },
   {
    "duration": 2,
    "start_time": "2022-09-18T02:04:40.564Z"
   },
   {
    "duration": 4138,
    "start_time": "2022-09-18T02:04:40.568Z"
   },
   {
    "duration": 2,
    "start_time": "2022-09-18T02:04:44.708Z"
   },
   {
    "duration": 8,
    "start_time": "2022-09-18T02:04:44.711Z"
   },
   {
    "duration": 125305,
    "start_time": "2022-09-18T02:04:44.720Z"
   },
   {
    "duration": 5,
    "start_time": "2022-09-18T02:06:50.027Z"
   },
   {
    "duration": 73,
    "start_time": "2022-09-18T02:06:50.035Z"
   },
   {
    "duration": 0,
    "start_time": "2022-09-18T02:06:50.109Z"
   },
   {
    "duration": 0,
    "start_time": "2022-09-18T02:06:50.111Z"
   },
   {
    "duration": 0,
    "start_time": "2022-09-18T02:06:50.112Z"
   },
   {
    "duration": 0,
    "start_time": "2022-09-18T02:06:50.113Z"
   },
   {
    "duration": 0,
    "start_time": "2022-09-18T02:06:50.114Z"
   },
   {
    "duration": 819,
    "start_time": "2022-09-18T02:09:54.155Z"
   },
   {
    "duration": 326,
    "start_time": "2022-09-18T02:10:13.591Z"
   },
   {
    "duration": 980,
    "start_time": "2022-09-18T02:10:34.315Z"
   },
   {
    "duration": 23,
    "start_time": "2022-09-18T02:10:37.058Z"
   },
   {
    "duration": 857,
    "start_time": "2022-09-18T02:10:45.637Z"
   },
   {
    "duration": 12,
    "start_time": "2022-09-18T02:10:49.454Z"
   },
   {
    "duration": 10112,
    "start_time": "2022-09-18T02:11:45.062Z"
   },
   {
    "duration": 4274,
    "start_time": "2022-09-18T02:11:55.177Z"
   },
   {
    "duration": 2495,
    "start_time": "2022-09-18T02:11:59.453Z"
   },
   {
    "duration": 17,
    "start_time": "2022-09-18T02:12:01.951Z"
   },
   {
    "duration": 3,
    "start_time": "2022-09-18T02:12:01.969Z"
   },
   {
    "duration": 20,
    "start_time": "2022-09-18T02:12:01.974Z"
   },
   {
    "duration": 67,
    "start_time": "2022-09-18T02:12:01.995Z"
   },
   {
    "duration": 252,
    "start_time": "2022-09-18T02:12:02.064Z"
   },
   {
    "duration": 178,
    "start_time": "2022-09-18T02:12:02.318Z"
   },
   {
    "duration": 4,
    "start_time": "2022-09-18T02:12:02.500Z"
   },
   {
    "duration": 643,
    "start_time": "2022-09-18T02:12:02.506Z"
   },
   {
    "duration": 3,
    "start_time": "2022-09-18T02:12:03.153Z"
   },
   {
    "duration": 13,
    "start_time": "2022-09-18T02:12:03.157Z"
   },
   {
    "duration": 6,
    "start_time": "2022-09-18T02:12:03.171Z"
   },
   {
    "duration": 1101857,
    "start_time": "2022-09-18T02:12:03.178Z"
   },
   {
    "duration": 25489,
    "start_time": "2022-09-18T02:30:25.036Z"
   },
   {
    "duration": 69,
    "start_time": "2022-09-18T02:30:50.527Z"
   },
   {
    "duration": 2,
    "start_time": "2022-09-18T02:30:50.598Z"
   },
   {
    "duration": 6,
    "start_time": "2022-09-18T02:30:50.601Z"
   },
   {
    "duration": 5,
    "start_time": "2022-09-18T02:30:50.609Z"
   },
   {
    "duration": 193,
    "start_time": "2022-09-18T02:30:50.615Z"
   },
   {
    "duration": 4267,
    "start_time": "2022-09-18T02:30:50.810Z"
   },
   {
    "duration": 3,
    "start_time": "2022-09-18T02:30:55.079Z"
   },
   {
    "duration": 314781,
    "start_time": "2022-09-18T02:30:55.084Z"
   },
   {
    "duration": 2,
    "start_time": "2022-09-18T02:36:09.867Z"
   }
  ],
  "kernelspec": {
   "display_name": "Python 3 (ipykernel)",
   "language": "python",
   "name": "python3"
  },
  "language_info": {
   "codemirror_mode": {
    "name": "ipython",
    "version": 3
   },
   "file_extension": ".py",
   "mimetype": "text/x-python",
   "name": "python",
   "nbconvert_exporter": "python",
   "pygments_lexer": "ipython3",
   "version": "3.9.7"
  },
  "toc": {
   "base_numbering": 1,
   "nav_menu": {},
   "number_sections": false,
   "sideBar": true,
   "skip_h1_title": true,
   "title_cell": "Содержание",
   "title_sidebar": "Contents",
   "toc_cell": true,
   "toc_position": {
    "height": "calc(100% - 180px)",
    "left": "10px",
    "top": "150px",
    "width": "302.391px"
   },
   "toc_section_display": true,
   "toc_window_display": false
  }
 },
 "nbformat": 4,
 "nbformat_minor": 2
}
