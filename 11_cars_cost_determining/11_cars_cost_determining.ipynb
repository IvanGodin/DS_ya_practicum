{
 "cells": [
  {
   "cell_type": "markdown",
   "metadata": {},
   "source": [
    "# Определение стоимости автомобилей"
   ]
  },
  {
   "cell_type": "markdown",
   "metadata": {},
   "source": [
    "Сервис по продаже автомобилей с пробегом «Не бит, не крашен» разрабатывает приложение для привлечения новых клиентов. В нём можно быстро узнать рыночную стоимость своего автомобиля. В вашем распоряжении исторические данные: технические характеристики, комплектации и цены автомобилей. Вам нужно построить модель для определения стоимости. \n",
    "\n",
    "Заказчику важны:\n",
    "\n",
    "- качество предсказания;\n",
    "- скорость предсказания;\n",
    "- время обучения.\n",
    "\n",
    "Инструкция по выполнению проекта\n",
    "\n",
    "Чтобы усилить исследование, не ограничивайтесь градиентным бустингом. Попробуйте более простые модели — иногда они работают лучше. Эти редкие случаи легко пропустить, если всегда применять только бустинг.\n",
    "Поэкспериментируйте и сравните характеристики моделей: время обучения, время предсказания, точность результата.\n",
    "\n",
    "Основные шаги:\n",
    "\n",
    "1. Загрузите данные, путь к файлу: /datasets/autos.csv.\n",
    "2. Изучите данные. Заполните пропущенные значения и обработайте аномалии в столбцах. Если среди признаков имеются неинформативные, удалите их.\n",
    "3. Подготовьте выборки для обучения моделей.\n",
    "4. Обучите разные модели, одна из которых — LightGBM, как минимум одна — не бустинг. Для каждой модели попробуйте разные гиперпараметры.\n",
    "5. Проанализируйте время обучения, время предсказания и качество моделей.\n",
    "6. Опираясь на критерии заказчика, выберете лучшую модель, проверьте её качество на тестовой выборке.\n",
    "\n",
    "Примечания:\n",
    "\n",
    "* Для оценки качества моделей применяйте метрику RMSE.\n",
    "* Значение метрики RMSE должно быть меньше 2500.\n",
    "* Самостоятельно освойте библиотеку LightGBM и её средствами постройте модели градиентного бустинга.\n",
    "* Время выполнения ячейки кода Jupyter Notebook можно получить специальной командой. Найдите её.\n",
    "* Модель градиентного бустинга может долго обучаться, поэтому измените у неё только два-три параметра.\n",
    "* Если перестанет работать Jupyter Notebook, удалите лишние переменные оператором del.\n",
    "\n",
    "```del features_train ```"
   ]
  },
  {
   "cell_type": "markdown",
   "metadata": {},
   "source": [
    "## Подготовка данных"
   ]
  },
  {
   "cell_type": "code",
   "execution_count": 1,
   "metadata": {},
   "outputs": [],
   "source": [
    "import pandas as pd\n",
    "import matplotlib.pyplot as plt\n",
    "import numpy as np\n",
    "\n",
    "from sklearn.model_selection import train_test_split\n",
    "from sklearn.linear_model import LinearRegression\n",
    "from sklearn.tree import DecisionTreeRegressor\n",
    "from lightgbm import LGBMRegressor\n",
    "from catboost import CatBoostRegressor\n",
    "\n",
    "from sklearn.metrics import mean_squared_error\n",
    "from sklearn.preprocessing import StandardScaler\n",
    "from sklearn.model_selection import KFold, GridSearchCV"
   ]
  },
  {
   "cell_type": "code",
   "execution_count": 2,
   "metadata": {},
   "outputs": [],
   "source": [
    "df = pd.read_csv('https://code.s3.yandex.net/datasets/autos.csv')"
   ]
  },
  {
   "cell_type": "code",
   "execution_count": 3,
   "metadata": {
    "scrolled": false
   },
   "outputs": [
    {
     "data": {
      "text/html": [
       "<div>\n",
       "<style scoped>\n",
       "    .dataframe tbody tr th:only-of-type {\n",
       "        vertical-align: middle;\n",
       "    }\n",
       "\n",
       "    .dataframe tbody tr th {\n",
       "        vertical-align: top;\n",
       "    }\n",
       "\n",
       "    .dataframe thead th {\n",
       "        text-align: right;\n",
       "    }\n",
       "</style>\n",
       "<table border=\"1\" class=\"dataframe\">\n",
       "  <thead>\n",
       "    <tr style=\"text-align: right;\">\n",
       "      <th></th>\n",
       "      <th>DateCrawled</th>\n",
       "      <th>Price</th>\n",
       "      <th>VehicleType</th>\n",
       "      <th>RegistrationYear</th>\n",
       "      <th>Gearbox</th>\n",
       "      <th>Power</th>\n",
       "      <th>Model</th>\n",
       "      <th>Kilometer</th>\n",
       "      <th>RegistrationMonth</th>\n",
       "      <th>FuelType</th>\n",
       "      <th>Brand</th>\n",
       "      <th>Repaired</th>\n",
       "      <th>DateCreated</th>\n",
       "      <th>NumberOfPictures</th>\n",
       "      <th>PostalCode</th>\n",
       "      <th>LastSeen</th>\n",
       "    </tr>\n",
       "  </thead>\n",
       "  <tbody>\n",
       "    <tr>\n",
       "      <th>0</th>\n",
       "      <td>2016-03-24 11:52:17</td>\n",
       "      <td>480</td>\n",
       "      <td>NaN</td>\n",
       "      <td>1993</td>\n",
       "      <td>manual</td>\n",
       "      <td>0</td>\n",
       "      <td>golf</td>\n",
       "      <td>150000</td>\n",
       "      <td>0</td>\n",
       "      <td>petrol</td>\n",
       "      <td>volkswagen</td>\n",
       "      <td>NaN</td>\n",
       "      <td>2016-03-24 00:00:00</td>\n",
       "      <td>0</td>\n",
       "      <td>70435</td>\n",
       "      <td>2016-04-07 03:16:57</td>\n",
       "    </tr>\n",
       "    <tr>\n",
       "      <th>1</th>\n",
       "      <td>2016-03-24 10:58:45</td>\n",
       "      <td>18300</td>\n",
       "      <td>coupe</td>\n",
       "      <td>2011</td>\n",
       "      <td>manual</td>\n",
       "      <td>190</td>\n",
       "      <td>NaN</td>\n",
       "      <td>125000</td>\n",
       "      <td>5</td>\n",
       "      <td>gasoline</td>\n",
       "      <td>audi</td>\n",
       "      <td>yes</td>\n",
       "      <td>2016-03-24 00:00:00</td>\n",
       "      <td>0</td>\n",
       "      <td>66954</td>\n",
       "      <td>2016-04-07 01:46:50</td>\n",
       "    </tr>\n",
       "    <tr>\n",
       "      <th>2</th>\n",
       "      <td>2016-03-14 12:52:21</td>\n",
       "      <td>9800</td>\n",
       "      <td>suv</td>\n",
       "      <td>2004</td>\n",
       "      <td>auto</td>\n",
       "      <td>163</td>\n",
       "      <td>grand</td>\n",
       "      <td>125000</td>\n",
       "      <td>8</td>\n",
       "      <td>gasoline</td>\n",
       "      <td>jeep</td>\n",
       "      <td>NaN</td>\n",
       "      <td>2016-03-14 00:00:00</td>\n",
       "      <td>0</td>\n",
       "      <td>90480</td>\n",
       "      <td>2016-04-05 12:47:46</td>\n",
       "    </tr>\n",
       "    <tr>\n",
       "      <th>3</th>\n",
       "      <td>2016-03-17 16:54:04</td>\n",
       "      <td>1500</td>\n",
       "      <td>small</td>\n",
       "      <td>2001</td>\n",
       "      <td>manual</td>\n",
       "      <td>75</td>\n",
       "      <td>golf</td>\n",
       "      <td>150000</td>\n",
       "      <td>6</td>\n",
       "      <td>petrol</td>\n",
       "      <td>volkswagen</td>\n",
       "      <td>no</td>\n",
       "      <td>2016-03-17 00:00:00</td>\n",
       "      <td>0</td>\n",
       "      <td>91074</td>\n",
       "      <td>2016-03-17 17:40:17</td>\n",
       "    </tr>\n",
       "    <tr>\n",
       "      <th>4</th>\n",
       "      <td>2016-03-31 17:25:20</td>\n",
       "      <td>3600</td>\n",
       "      <td>small</td>\n",
       "      <td>2008</td>\n",
       "      <td>manual</td>\n",
       "      <td>69</td>\n",
       "      <td>fabia</td>\n",
       "      <td>90000</td>\n",
       "      <td>7</td>\n",
       "      <td>gasoline</td>\n",
       "      <td>skoda</td>\n",
       "      <td>no</td>\n",
       "      <td>2016-03-31 00:00:00</td>\n",
       "      <td>0</td>\n",
       "      <td>60437</td>\n",
       "      <td>2016-04-06 10:17:21</td>\n",
       "    </tr>\n",
       "  </tbody>\n",
       "</table>\n",
       "</div>"
      ],
      "text/plain": [
       "           DateCrawled  Price VehicleType  RegistrationYear Gearbox  Power  \\\n",
       "0  2016-03-24 11:52:17    480         NaN              1993  manual      0   \n",
       "1  2016-03-24 10:58:45  18300       coupe              2011  manual    190   \n",
       "2  2016-03-14 12:52:21   9800         suv              2004    auto    163   \n",
       "3  2016-03-17 16:54:04   1500       small              2001  manual     75   \n",
       "4  2016-03-31 17:25:20   3600       small              2008  manual     69   \n",
       "\n",
       "   Model  Kilometer  RegistrationMonth  FuelType       Brand Repaired  \\\n",
       "0   golf     150000                  0    petrol  volkswagen      NaN   \n",
       "1    NaN     125000                  5  gasoline        audi      yes   \n",
       "2  grand     125000                  8  gasoline        jeep      NaN   \n",
       "3   golf     150000                  6    petrol  volkswagen       no   \n",
       "4  fabia      90000                  7  gasoline       skoda       no   \n",
       "\n",
       "           DateCreated  NumberOfPictures  PostalCode             LastSeen  \n",
       "0  2016-03-24 00:00:00                 0       70435  2016-04-07 03:16:57  \n",
       "1  2016-03-24 00:00:00                 0       66954  2016-04-07 01:46:50  \n",
       "2  2016-03-14 00:00:00                 0       90480  2016-04-05 12:47:46  \n",
       "3  2016-03-17 00:00:00                 0       91074  2016-03-17 17:40:17  \n",
       "4  2016-03-31 00:00:00                 0       60437  2016-04-06 10:17:21  "
      ]
     },
     "execution_count": 3,
     "metadata": {},
     "output_type": "execute_result"
    }
   ],
   "source": [
    "df.head()"
   ]
  },
  {
   "cell_type": "markdown",
   "metadata": {},
   "source": [
    "#### Признаки:\n",
    "\n",
    "* DateCrawled — дата скачивания анкеты из базы\n",
    "* VehicleType — тип автомобильного кузова\n",
    "* RegistrationYear — год регистрации автомобиля\n",
    "* Gearbox — тип коробки передач\n",
    "* Power — мощность (л. с.)\n",
    "* Model — модель автомобиля\n",
    "* Kilometer — пробег (км)\n",
    "* RegistrationMonth — месяц регистрации автомобиля\n",
    "* FuelType — тип топлива\n",
    "* Brand — марка автомобиля\n",
    "* Repaired — была машина в ремонте или нет\n",
    "* DateCreated — дата создания анкеты\n",
    "* NumberOfPictures — количество фотографий автомобиля\n",
    "* PostalCode — почтовый индекс владельца анкеты (пользователя)\n",
    "* LastSeen — дата последней активности пользователя\n",
    "\n",
    "#### Целевой признак\n",
    "\n",
    "* Price — цена (евро)"
   ]
  },
  {
   "cell_type": "code",
   "execution_count": 4,
   "metadata": {},
   "outputs": [
    {
     "name": "stdout",
     "output_type": "stream",
     "text": [
      "<class 'pandas.core.frame.DataFrame'>\n",
      "RangeIndex: 354369 entries, 0 to 354368\n",
      "Data columns (total 16 columns):\n",
      " #   Column             Non-Null Count   Dtype \n",
      "---  ------             --------------   ----- \n",
      " 0   DateCrawled        354369 non-null  object\n",
      " 1   Price              354369 non-null  int64 \n",
      " 2   VehicleType        316879 non-null  object\n",
      " 3   RegistrationYear   354369 non-null  int64 \n",
      " 4   Gearbox            334536 non-null  object\n",
      " 5   Power              354369 non-null  int64 \n",
      " 6   Model              334664 non-null  object\n",
      " 7   Kilometer          354369 non-null  int64 \n",
      " 8   RegistrationMonth  354369 non-null  int64 \n",
      " 9   FuelType           321474 non-null  object\n",
      " 10  Brand              354369 non-null  object\n",
      " 11  Repaired           283215 non-null  object\n",
      " 12  DateCreated        354369 non-null  object\n",
      " 13  NumberOfPictures   354369 non-null  int64 \n",
      " 14  PostalCode         354369 non-null  int64 \n",
      " 15  LastSeen           354369 non-null  object\n",
      "dtypes: int64(7), object(9)\n",
      "memory usage: 43.3+ MB\n"
     ]
    }
   ],
   "source": [
    "df.info()"
   ]
  },
  {
   "cell_type": "markdown",
   "metadata": {},
   "source": [
    "Присутствуют проспуски в колонках"
   ]
  },
  {
   "cell_type": "code",
   "execution_count": 5,
   "metadata": {
    "scrolled": true
   },
   "outputs": [
    {
     "data": {
      "text/html": [
       "<div>\n",
       "<style scoped>\n",
       "    .dataframe tbody tr th:only-of-type {\n",
       "        vertical-align: middle;\n",
       "    }\n",
       "\n",
       "    .dataframe tbody tr th {\n",
       "        vertical-align: top;\n",
       "    }\n",
       "\n",
       "    .dataframe thead th {\n",
       "        text-align: right;\n",
       "    }\n",
       "</style>\n",
       "<table border=\"1\" class=\"dataframe\">\n",
       "  <thead>\n",
       "    <tr style=\"text-align: right;\">\n",
       "      <th></th>\n",
       "      <th>Price</th>\n",
       "      <th>RegistrationYear</th>\n",
       "      <th>Power</th>\n",
       "      <th>Kilometer</th>\n",
       "      <th>RegistrationMonth</th>\n",
       "      <th>NumberOfPictures</th>\n",
       "      <th>PostalCode</th>\n",
       "    </tr>\n",
       "  </thead>\n",
       "  <tbody>\n",
       "    <tr>\n",
       "      <th>count</th>\n",
       "      <td>354369.000000</td>\n",
       "      <td>354369.000000</td>\n",
       "      <td>354369.000000</td>\n",
       "      <td>354369.000000</td>\n",
       "      <td>354369.000000</td>\n",
       "      <td>354369.0</td>\n",
       "      <td>354369.000000</td>\n",
       "    </tr>\n",
       "    <tr>\n",
       "      <th>mean</th>\n",
       "      <td>4416.656776</td>\n",
       "      <td>2004.234448</td>\n",
       "      <td>110.094337</td>\n",
       "      <td>128211.172535</td>\n",
       "      <td>5.714645</td>\n",
       "      <td>0.0</td>\n",
       "      <td>50508.689087</td>\n",
       "    </tr>\n",
       "    <tr>\n",
       "      <th>std</th>\n",
       "      <td>4514.158514</td>\n",
       "      <td>90.227958</td>\n",
       "      <td>189.850405</td>\n",
       "      <td>37905.341530</td>\n",
       "      <td>3.726421</td>\n",
       "      <td>0.0</td>\n",
       "      <td>25783.096248</td>\n",
       "    </tr>\n",
       "    <tr>\n",
       "      <th>min</th>\n",
       "      <td>0.000000</td>\n",
       "      <td>1000.000000</td>\n",
       "      <td>0.000000</td>\n",
       "      <td>5000.000000</td>\n",
       "      <td>0.000000</td>\n",
       "      <td>0.0</td>\n",
       "      <td>1067.000000</td>\n",
       "    </tr>\n",
       "    <tr>\n",
       "      <th>25%</th>\n",
       "      <td>1050.000000</td>\n",
       "      <td>1999.000000</td>\n",
       "      <td>69.000000</td>\n",
       "      <td>125000.000000</td>\n",
       "      <td>3.000000</td>\n",
       "      <td>0.0</td>\n",
       "      <td>30165.000000</td>\n",
       "    </tr>\n",
       "    <tr>\n",
       "      <th>50%</th>\n",
       "      <td>2700.000000</td>\n",
       "      <td>2003.000000</td>\n",
       "      <td>105.000000</td>\n",
       "      <td>150000.000000</td>\n",
       "      <td>6.000000</td>\n",
       "      <td>0.0</td>\n",
       "      <td>49413.000000</td>\n",
       "    </tr>\n",
       "    <tr>\n",
       "      <th>75%</th>\n",
       "      <td>6400.000000</td>\n",
       "      <td>2008.000000</td>\n",
       "      <td>143.000000</td>\n",
       "      <td>150000.000000</td>\n",
       "      <td>9.000000</td>\n",
       "      <td>0.0</td>\n",
       "      <td>71083.000000</td>\n",
       "    </tr>\n",
       "    <tr>\n",
       "      <th>max</th>\n",
       "      <td>20000.000000</td>\n",
       "      <td>9999.000000</td>\n",
       "      <td>20000.000000</td>\n",
       "      <td>150000.000000</td>\n",
       "      <td>12.000000</td>\n",
       "      <td>0.0</td>\n",
       "      <td>99998.000000</td>\n",
       "    </tr>\n",
       "  </tbody>\n",
       "</table>\n",
       "</div>"
      ],
      "text/plain": [
       "               Price  RegistrationYear          Power      Kilometer  \\\n",
       "count  354369.000000     354369.000000  354369.000000  354369.000000   \n",
       "mean     4416.656776       2004.234448     110.094337  128211.172535   \n",
       "std      4514.158514         90.227958     189.850405   37905.341530   \n",
       "min         0.000000       1000.000000       0.000000    5000.000000   \n",
       "25%      1050.000000       1999.000000      69.000000  125000.000000   \n",
       "50%      2700.000000       2003.000000     105.000000  150000.000000   \n",
       "75%      6400.000000       2008.000000     143.000000  150000.000000   \n",
       "max     20000.000000       9999.000000   20000.000000  150000.000000   \n",
       "\n",
       "       RegistrationMonth  NumberOfPictures     PostalCode  \n",
       "count      354369.000000          354369.0  354369.000000  \n",
       "mean            5.714645               0.0   50508.689087  \n",
       "std             3.726421               0.0   25783.096248  \n",
       "min             0.000000               0.0    1067.000000  \n",
       "25%             3.000000               0.0   30165.000000  \n",
       "50%             6.000000               0.0   49413.000000  \n",
       "75%             9.000000               0.0   71083.000000  \n",
       "max            12.000000               0.0   99998.000000  "
      ]
     },
     "execution_count": 5,
     "metadata": {},
     "output_type": "execute_result"
    }
   ],
   "source": [
    "df.describe()"
   ]
  },
  {
   "cell_type": "markdown",
   "metadata": {},
   "source": [
    "Цена не может быть 0 так как это целевой признак, избавимся от таких значений"
   ]
  },
  {
   "cell_type": "code",
   "execution_count": 6,
   "metadata": {},
   "outputs": [
    {
     "data": {
      "text/plain": [
       "10772"
      ]
     },
     "execution_count": 6,
     "metadata": {},
     "output_type": "execute_result"
    }
   ],
   "source": [
    "(df['Price'] == 0).sum()"
   ]
  },
  {
   "cell_type": "code",
   "execution_count": 7,
   "metadata": {},
   "outputs": [],
   "source": [
    "df_filtr = df.query(\"Price > 0\")"
   ]
  },
  {
   "cell_type": "code",
   "execution_count": 8,
   "metadata": {
    "scrolled": true
   },
   "outputs": [
    {
     "data": {
      "image/png": "[encoded data removed]",
      "text/plain": [
       "<Figure size 432x288 with 1 Axes>"
      ]
     },
     "metadata": {
      "needs_background": "light"
     },
     "output_type": "display_data"
    }
   ],
   "source": [
    "fig1, ax1 = plt.subplots()\n",
    "ax1.set_title('RegistrationYear')\n",
    "ax1.boxplot(df_filtr['RegistrationYear'],vert=False)\n",
    "plt.show()"
   ]
  },
  {
   "cell_type": "markdown",
   "metadata": {},
   "source": [
    "Очень много выбросов, нужно отфильтровать, во первых дата регистрации не может быть больше даты последнего скачивания.\n",
    "\n",
    "Во вторых а\\м старше 1980 г можно уже считать раритетом, по этому и оцениваются они совсем по другому."
   ]
  },
  {
   "cell_type": "code",
   "execution_count": 9,
   "metadata": {},
   "outputs": [
    {
     "data": {
      "text/plain": [
       "'2016-04-07 14:36:58'"
      ]
     },
     "execution_count": 9,
     "metadata": {},
     "output_type": "execute_result"
    }
   ],
   "source": [
    "(df['DateCrawled']).max()"
   ]
  },
  {
   "cell_type": "code",
   "execution_count": 10,
   "metadata": {},
   "outputs": [],
   "source": [
    "df_filtr = df_filtr.query(\"1980 < RegistrationYear  < 2017\")"
   ]
  },
  {
   "cell_type": "code",
   "execution_count": 11,
   "metadata": {
    "scrolled": true
   },
   "outputs": [
    {
     "data": {
      "image/png": "[encoded data removed]",
      "text/plain": [
       "<Figure size 432x288 with 1 Axes>"
      ]
     },
     "metadata": {
      "needs_background": "light"
     },
     "output_type": "display_data"
    }
   ],
   "source": [
    "fig1, ax1 = plt.subplots()\n",
    "ax1.set_title('RegistrationYear')\n",
    "ax1.boxplot(df_filtr['RegistrationYear'],vert=False)\n",
    "plt.show()"
   ]
  },
  {
   "cell_type": "markdown",
   "metadata": {},
   "source": [
    "Вот уже похоже на нормальные данные"
   ]
  },
  {
   "cell_type": "code",
   "execution_count": 12,
   "metadata": {},
   "outputs": [
    {
     "data": {
      "image/png": "[encoded data removed]",
      "text/plain": [
       "<Figure size 432x288 with 1 Axes>"
      ]
     },
     "metadata": {
      "needs_background": "light"
     },
     "output_type": "display_data"
    }
   ],
   "source": [
    "fig1, ax1 = plt.subplots()\n",
    "ax1.set_title('Power')\n",
    "ax1.boxplot(df_filtr['Power'],vert=False)\n",
    "plt.show()"
   ]
  },
  {
   "cell_type": "markdown",
   "metadata": {},
   "source": [
    "авто с количеством лошадиных сил 0 и более 1000 считаем ошибочными и выбросами"
   ]
  },
  {
   "cell_type": "code",
   "execution_count": 13,
   "metadata": {},
   "outputs": [],
   "source": [
    "df_filtr = df_filtr.query(\"0 < Power  < 1000\")"
   ]
  },
  {
   "cell_type": "code",
   "execution_count": 14,
   "metadata": {
    "scrolled": true
   },
   "outputs": [
    {
     "data": {
      "image/png": "[encoded data removed]",
      "text/plain": [
       "<Figure size 432x288 with 1 Axes>"
      ]
     },
     "metadata": {
      "needs_background": "light"
     },
     "output_type": "display_data"
    }
   ],
   "source": [
    "fig1, ax1 = plt.subplots()\n",
    "ax1.set_title('Power')\n",
    "ax1.boxplot(df_filtr['Power'],vert=False)\n",
    "plt.show()"
   ]
  },
  {
   "cell_type": "code",
   "execution_count": 15,
   "metadata": {},
   "outputs": [
    {
     "data": {
      "text/plain": [
       "count    294156.000000\n",
       "mean        120.882671\n",
       "std          54.518322\n",
       "min           1.000000\n",
       "25%          77.000000\n",
       "50%         111.000000\n",
       "75%         150.000000\n",
       "max         999.000000\n",
       "Name: Power, dtype: float64"
      ]
     },
     "execution_count": 15,
     "metadata": {},
     "output_type": "execute_result"
    }
   ],
   "source": [
    "df_filtr['Power'].describe()"
   ]
  },
  {
   "cell_type": "markdown",
   "metadata": {},
   "source": [
    "Так как неизвестна причина пропусков в VehicleType и Model, утасновим категорию unknown"
   ]
  },
  {
   "cell_type": "code",
   "execution_count": 16,
   "metadata": {},
   "outputs": [],
   "source": [
    "df_filtr['VehicleType'] = df_filtr['VehicleType'].fillna(value=\"unknown\")"
   ]
  },
  {
   "cell_type": "code",
   "execution_count": 17,
   "metadata": {},
   "outputs": [],
   "source": [
    "df_filtr['Model'] = df_filtr['Model'].fillna(value=\"unknown\")"
   ]
  },
  {
   "cell_type": "markdown",
   "metadata": {},
   "source": [
    "пропуски в NotRepaired скорее всего связаны с тем что а\\м не ремонтировался, заполним значения no"
   ]
  },
  {
   "cell_type": "code",
   "execution_count": 18,
   "metadata": {},
   "outputs": [],
   "source": [
    "df_filtr['Repaired'] = df_filtr['Repaired'].fillna(value=\"no\")"
   ]
  },
  {
   "cell_type": "markdown",
   "metadata": {},
   "source": [
    "FuelType и Gearbox заполним частовстречающимися значениями."
   ]
  },
  {
   "cell_type": "code",
   "execution_count": 19,
   "metadata": {},
   "outputs": [],
   "source": [
    "df_filtr['FuelType']= df_filtr.groupby(['Brand', 'Model'])['FuelType'].transform(lambda x: x.fillna((x.mode()[0])))"
   ]
  },
  {
   "cell_type": "code",
   "execution_count": 20,
   "metadata": {},
   "outputs": [],
   "source": [
    "df_filtr['Gearbox']= df_filtr.groupby(['Brand', 'Model'])['Gearbox'].transform(lambda x: x.fillna((x.mode()[0])))"
   ]
  },
  {
   "cell_type": "code",
   "execution_count": 21,
   "metadata": {},
   "outputs": [
    {
     "data": {
      "text/plain": [
       "DateCrawled          0\n",
       "Price                0\n",
       "VehicleType          0\n",
       "RegistrationYear     0\n",
       "Gearbox              0\n",
       "Power                0\n",
       "Model                0\n",
       "Kilometer            0\n",
       "RegistrationMonth    0\n",
       "FuelType             0\n",
       "Brand                0\n",
       "Repaired             0\n",
       "DateCreated          0\n",
       "NumberOfPictures     0\n",
       "PostalCode           0\n",
       "LastSeen             0\n",
       "dtype: int64"
      ]
     },
     "execution_count": 21,
     "metadata": {},
     "output_type": "execute_result"
    }
   ],
   "source": [
    "df_filtr.isna().sum()"
   ]
  },
  {
   "cell_type": "markdown",
   "metadata": {},
   "source": [
    "В таблице есть колонки с не нужными данными для обучения, удалим их."
   ]
  },
  {
   "cell_type": "code",
   "execution_count": 22,
   "metadata": {},
   "outputs": [],
   "source": [
    "df_filtr = df_filtr.drop(columns=['DateCrawled', 'DateCreated', 'LastSeen', \n",
    "                                  'RegistrationMonth', 'PostalCode', 'NumberOfPictures'])"
   ]
  },
  {
   "cell_type": "code",
   "execution_count": 23,
   "metadata": {
    "scrolled": false
   },
   "outputs": [
    {
     "data": {
      "text/plain": [
       "47824"
      ]
     },
     "execution_count": 23,
     "metadata": {},
     "output_type": "execute_result"
    }
   ],
   "source": [
    "df_filtr.duplicated().sum()"
   ]
  },
  {
   "cell_type": "code",
   "execution_count": 24,
   "metadata": {},
   "outputs": [],
   "source": [
    "df_filtr = df_filtr.drop_duplicates().reset_index(drop=True)"
   ]
  },
  {
   "cell_type": "code",
   "execution_count": 25,
   "metadata": {
    "scrolled": false
   },
   "outputs": [
    {
     "data": {
      "text/html": [
       "<div>\n",
       "<style scoped>\n",
       "    .dataframe tbody tr th:only-of-type {\n",
       "        vertical-align: middle;\n",
       "    }\n",
       "\n",
       "    .dataframe tbody tr th {\n",
       "        vertical-align: top;\n",
       "    }\n",
       "\n",
       "    .dataframe thead th {\n",
       "        text-align: right;\n",
       "    }\n",
       "</style>\n",
       "<table border=\"1\" class=\"dataframe\">\n",
       "  <thead>\n",
       "    <tr style=\"text-align: right;\">\n",
       "      <th></th>\n",
       "      <th>Price</th>\n",
       "      <th>VehicleType</th>\n",
       "      <th>RegistrationYear</th>\n",
       "      <th>Gearbox</th>\n",
       "      <th>Power</th>\n",
       "      <th>Model</th>\n",
       "      <th>Kilometer</th>\n",
       "      <th>FuelType</th>\n",
       "      <th>Brand</th>\n",
       "      <th>Repaired</th>\n",
       "    </tr>\n",
       "  </thead>\n",
       "  <tbody>\n",
       "    <tr>\n",
       "      <th>0</th>\n",
       "      <td>18300</td>\n",
       "      <td>coupe</td>\n",
       "      <td>2011</td>\n",
       "      <td>manual</td>\n",
       "      <td>190</td>\n",
       "      <td>unknown</td>\n",
       "      <td>125000</td>\n",
       "      <td>gasoline</td>\n",
       "      <td>audi</td>\n",
       "      <td>yes</td>\n",
       "    </tr>\n",
       "    <tr>\n",
       "      <th>1</th>\n",
       "      <td>9800</td>\n",
       "      <td>suv</td>\n",
       "      <td>2004</td>\n",
       "      <td>auto</td>\n",
       "      <td>163</td>\n",
       "      <td>grand</td>\n",
       "      <td>125000</td>\n",
       "      <td>gasoline</td>\n",
       "      <td>jeep</td>\n",
       "      <td>no</td>\n",
       "    </tr>\n",
       "    <tr>\n",
       "      <th>2</th>\n",
       "      <td>1500</td>\n",
       "      <td>small</td>\n",
       "      <td>2001</td>\n",
       "      <td>manual</td>\n",
       "      <td>75</td>\n",
       "      <td>golf</td>\n",
       "      <td>150000</td>\n",
       "      <td>petrol</td>\n",
       "      <td>volkswagen</td>\n",
       "      <td>no</td>\n",
       "    </tr>\n",
       "    <tr>\n",
       "      <th>3</th>\n",
       "      <td>3600</td>\n",
       "      <td>small</td>\n",
       "      <td>2008</td>\n",
       "      <td>manual</td>\n",
       "      <td>69</td>\n",
       "      <td>fabia</td>\n",
       "      <td>90000</td>\n",
       "      <td>gasoline</td>\n",
       "      <td>skoda</td>\n",
       "      <td>no</td>\n",
       "    </tr>\n",
       "    <tr>\n",
       "      <th>4</th>\n",
       "      <td>650</td>\n",
       "      <td>sedan</td>\n",
       "      <td>1995</td>\n",
       "      <td>manual</td>\n",
       "      <td>102</td>\n",
       "      <td>3er</td>\n",
       "      <td>150000</td>\n",
       "      <td>petrol</td>\n",
       "      <td>bmw</td>\n",
       "      <td>yes</td>\n",
       "    </tr>\n",
       "  </tbody>\n",
       "</table>\n",
       "</div>"
      ],
      "text/plain": [
       "   Price VehicleType  RegistrationYear Gearbox  Power    Model  Kilometer  \\\n",
       "0  18300       coupe              2011  manual    190  unknown     125000   \n",
       "1   9800         suv              2004    auto    163    grand     125000   \n",
       "2   1500       small              2001  manual     75     golf     150000   \n",
       "3   3600       small              2008  manual     69    fabia      90000   \n",
       "4    650       sedan              1995  manual    102      3er     150000   \n",
       "\n",
       "   FuelType       Brand Repaired  \n",
       "0  gasoline        audi      yes  \n",
       "1  gasoline        jeep       no  \n",
       "2    petrol  volkswagen       no  \n",
       "3  gasoline       skoda       no  \n",
       "4    petrol         bmw      yes  "
      ]
     },
     "execution_count": 25,
     "metadata": {},
     "output_type": "execute_result"
    }
   ],
   "source": [
    "df_filtr.head()"
   ]
  },
  {
   "cell_type": "code",
   "execution_count": 26,
   "metadata": {},
   "outputs": [
    {
     "data": {
      "text/html": [
       "<div>\n",
       "<style scoped>\n",
       "    .dataframe tbody tr th:only-of-type {\n",
       "        vertical-align: middle;\n",
       "    }\n",
       "\n",
       "    .dataframe tbody tr th {\n",
       "        vertical-align: top;\n",
       "    }\n",
       "\n",
       "    .dataframe thead th {\n",
       "        text-align: right;\n",
       "    }\n",
       "</style>\n",
       "<table border=\"1\" class=\"dataframe\">\n",
       "  <thead>\n",
       "    <tr style=\"text-align: right;\">\n",
       "      <th></th>\n",
       "      <th>Price</th>\n",
       "      <th>VehicleType</th>\n",
       "      <th>RegistrationYear</th>\n",
       "      <th>Gearbox</th>\n",
       "      <th>Power</th>\n",
       "      <th>Model</th>\n",
       "      <th>Kilometer</th>\n",
       "      <th>FuelType</th>\n",
       "      <th>Brand</th>\n",
       "      <th>Repaired</th>\n",
       "    </tr>\n",
       "  </thead>\n",
       "  <tbody>\n",
       "    <tr>\n",
       "      <th>0</th>\n",
       "      <td>18300</td>\n",
       "      <td>2</td>\n",
       "      <td>2011</td>\n",
       "      <td>1</td>\n",
       "      <td>190</td>\n",
       "      <td>226</td>\n",
       "      <td>125000</td>\n",
       "      <td>2</td>\n",
       "      <td>1</td>\n",
       "      <td>1</td>\n",
       "    </tr>\n",
       "    <tr>\n",
       "      <th>1</th>\n",
       "      <td>9800</td>\n",
       "      <td>6</td>\n",
       "      <td>2004</td>\n",
       "      <td>0</td>\n",
       "      <td>163</td>\n",
       "      <td>117</td>\n",
       "      <td>125000</td>\n",
       "      <td>2</td>\n",
       "      <td>14</td>\n",
       "      <td>0</td>\n",
       "    </tr>\n",
       "    <tr>\n",
       "      <th>2</th>\n",
       "      <td>1500</td>\n",
       "      <td>5</td>\n",
       "      <td>2001</td>\n",
       "      <td>1</td>\n",
       "      <td>75</td>\n",
       "      <td>116</td>\n",
       "      <td>150000</td>\n",
       "      <td>6</td>\n",
       "      <td>38</td>\n",
       "      <td>0</td>\n",
       "    </tr>\n",
       "    <tr>\n",
       "      <th>3</th>\n",
       "      <td>3600</td>\n",
       "      <td>5</td>\n",
       "      <td>2008</td>\n",
       "      <td>1</td>\n",
       "      <td>69</td>\n",
       "      <td>101</td>\n",
       "      <td>90000</td>\n",
       "      <td>2</td>\n",
       "      <td>31</td>\n",
       "      <td>0</td>\n",
       "    </tr>\n",
       "    <tr>\n",
       "      <th>4</th>\n",
       "      <td>650</td>\n",
       "      <td>4</td>\n",
       "      <td>1995</td>\n",
       "      <td>1</td>\n",
       "      <td>102</td>\n",
       "      <td>11</td>\n",
       "      <td>150000</td>\n",
       "      <td>6</td>\n",
       "      <td>2</td>\n",
       "      <td>1</td>\n",
       "    </tr>\n",
       "  </tbody>\n",
       "</table>\n",
       "</div>"
      ],
      "text/plain": [
       "   Price  VehicleType  RegistrationYear  Gearbox  Power  Model  Kilometer  \\\n",
       "0  18300            2              2011        1    190    226     125000   \n",
       "1   9800            6              2004        0    163    117     125000   \n",
       "2   1500            5              2001        1     75    116     150000   \n",
       "3   3600            5              2008        1     69    101      90000   \n",
       "4    650            4              1995        1    102     11     150000   \n",
       "\n",
       "   FuelType  Brand  Repaired  \n",
       "0         2      1         1  \n",
       "1         2     14         0  \n",
       "2         6     38         0  \n",
       "3         2     31         0  \n",
       "4         6      2         1  "
      ]
     },
     "execution_count": 26,
     "metadata": {},
     "output_type": "execute_result"
    }
   ],
   "source": [
    "df_oe = df_filtr\n",
    "cat_list = {'VehicleType','Gearbox','Model','FuelType','Brand','Repaired'}\n",
    "for cat in cat_list:\n",
    "    df_oe[cat] = df_oe[cat].astype('category')\n",
    "    df_oe[cat] = df_oe[cat].cat.codes\n",
    "df_oe.head()"
   ]
  },
  {
   "cell_type": "code",
   "execution_count": 27,
   "metadata": {
    "scrolled": false
   },
   "outputs": [],
   "source": [
    "#df_ohe = pd.get_dummies(df_oe, drop_first=True)\n",
    "#df_ohe.head(5)"
   ]
  },
  {
   "cell_type": "code",
   "execution_count": 28,
   "metadata": {},
   "outputs": [],
   "source": [
    "df_train, df_valid = train_test_split(df_oe, test_size=0.2, random_state=12345)\n",
    "\n",
    "\n",
    "# выборка для теста\n",
    "df_test_size = df_valid.shape[0] / df_train.shape[0]\n",
    "df_train, df_test = train_test_split(df_train, test_size=df_test_size, random_state=12345)\n",
    "\n",
    "\n",
    "\n",
    "numeric = ['RegistrationYear', 'Power', 'Kilometer']\n",
    "\n",
    "# Признаки и таргеты\n",
    "features_train = df_train.drop(['Price'], axis=1)\n",
    "target_train = df_train['Price']\n",
    "\n",
    "features_valid = df_valid.drop(['Price'], axis=1)\n",
    "target_valid = df_valid['Price']\n",
    "\n",
    "features_test = df_test.drop(['Price'], axis=1)\n",
    "target_test = df_test['Price']"
   ]
  },
  {
   "cell_type": "code",
   "execution_count": 29,
   "metadata": {},
   "outputs": [],
   "source": [
    "scaler = StandardScaler()\n",
    "scaler.fit(features_train[numeric])\n",
    "features_train[numeric] = scaler.transform(features_train[numeric])\n",
    "features_valid[numeric] = scaler.transform(features_valid[numeric])\n",
    "features_test[numeric] = scaler.transform(features_test[numeric])"
   ]
  },
  {
   "cell_type": "markdown",
   "metadata": {},
   "source": [
    "## Обучение моделей"
   ]
  },
  {
   "cell_type": "markdown",
   "metadata": {},
   "source": [
    "Обучим следующие модели:\n",
    "\n",
    "* LinearRegression\n",
    "* DecisionTreeRegressor\n",
    "* LGBMRegressor"
   ]
  },
  {
   "cell_type": "code",
   "execution_count": 30,
   "metadata": {},
   "outputs": [],
   "source": [
    "test_score = {}"
   ]
  },
  {
   "cell_type": "markdown",
   "metadata": {},
   "source": [
    "#### LinearRegression"
   ]
  },
  {
   "cell_type": "code",
   "execution_count": 31,
   "metadata": {},
   "outputs": [
    {
     "name": "stdout",
     "output_type": "stream",
     "text": [
      "2890.4264690156156\n",
      "2912.499497705364\n",
      "Wall time: 63.4 ms\n"
     ]
    }
   ],
   "source": [
    "%%time\n",
    "line_reg_model = LinearRegression().fit(features_train, target_train)\n",
    "predictions = line_reg_model.predict(features_train)\n",
    "mse = mean_squared_error(target_train, predictions)\n",
    "rmse_train = mse ** 0.5\n",
    "print(rmse_train)\n",
    "\n",
    "predictions_valid = line_reg_model.predict(features_valid)\n",
    "mse_valid = mean_squared_error(target_valid, predictions_valid)\n",
    "rmse_valid = mse_valid ** 0.5\n",
    "print(rmse_valid)"
   ]
  },
  {
   "cell_type": "code",
   "execution_count": 32,
   "metadata": {},
   "outputs": [
    {
     "name": "stdout",
     "output_type": "stream",
     "text": [
      "2912.499497705364\n",
      "Wall time: 10.3 ms\n"
     ]
    }
   ],
   "source": [
    "%%time\n",
    "predictions_test = line_reg_model.predict(features_test)\n",
    "mse_test = mean_squared_error(target_test, predictions_test)\n",
    "rmse_test = mse_valid ** 0.5\n",
    "print(rmse_test)"
   ]
  },
  {
   "cell_type": "code",
   "execution_count": 33,
   "metadata": {},
   "outputs": [],
   "source": [
    "test_score['LinearRegression'] = [rmse_train, rmse_valid, rmse_test, '68.8 ms','4.99 ms']"
   ]
  },
  {
   "cell_type": "markdown",
   "metadata": {},
   "source": [
    "#### DecisionTreeRegressor"
   ]
  },
  {
   "cell_type": "code",
   "execution_count": 34,
   "metadata": {},
   "outputs": [
    {
     "name": "stdout",
     "output_type": "stream",
     "text": [
      "max_depth = 10\n",
      "Результат проверки на обучающей  выборке 1871.5008652696674\n",
      "Результат проверки на валидационной выборке 2005.791942026663\n",
      "\n",
      "max_depth = 11\n",
      "Результат проверки на обучающей  выборке 1770.3695249231362\n",
      "Результат проверки на валидационной выборке 1954.9053260198925\n",
      "\n",
      "max_depth = 12\n",
      "Результат проверки на обучающей  выборке 1667.0346295750883\n",
      "Результат проверки на валидационной выборке 1936.504928677655\n",
      "\n",
      "max_depth = 13\n",
      "Результат проверки на обучающей  выборке 1564.9716759558955\n",
      "Результат проверки на валидационной выборке 1927.855418589528\n",
      "\n",
      "max_depth = 14\n",
      "Результат проверки на обучающей  выборке 1455.6945843605\n",
      "Результат проверки на валидационной выборке 1924.5182143531752\n",
      "\n",
      "max_depth = 15\n",
      "Результат проверки на обучающей  выборке 1352.3595367744313\n",
      "Результат проверки на валидационной выборке 1934.242095265498\n",
      "\n",
      "max_depth = 16\n",
      "Результат проверки на обучающей  выборке 1254.468362682985\n",
      "Результат проверки на валидационной выборке 1956.7773758237452\n",
      "\n",
      "max_depth = 17\n",
      "Результат проверки на обучающей  выборке 1165.6777232091065\n",
      "Результат проверки на валидационной выборке 1973.412872660197\n",
      "\n",
      "max_depth = 18\n",
      "Результат проверки на обучающей  выборке 1088.6082444735594\n",
      "Результат проверки на валидационной выборке 1982.3382558479066\n",
      "\n",
      "max_depth = 19\n",
      "Результат проверки на обучающей  выборке 1023.8779561839477\n",
      "Результат проверки на валидационной выборке 2004.788461112966\n",
      "\n",
      "Wall time: 5.12 s\n"
     ]
    }
   ],
   "source": [
    "%%time\n",
    "for depth in np.arange(10, 20):\n",
    "    regr = (DecisionTreeRegressor(max_depth=depth, random_state=12345)\n",
    "        .fit(features_train, target_train)\n",
    "       )\n",
    "    predictions = regr.predict(features_train)\n",
    "    mse = mean_squared_error(target_train, predictions)\n",
    "    rmse_train = mse ** 0.5\n",
    "    \n",
    "    predictions_valid = regr.predict(features_valid)\n",
    "    mse_valid = mean_squared_error(target_valid, predictions_valid)\n",
    "    rmse_valid = mse_valid ** 0.5\n",
    "    \n",
    "    print(\"max_depth =\", depth)\n",
    "    print(\"Результат проверки на обучающей  выборке\", rmse_train)\n",
    "    print(\"Результат проверки на валидационной выборке\", rmse_valid)\n",
    "    print()"
   ]
  },
  {
   "cell_type": "code",
   "execution_count": 35,
   "metadata": {},
   "outputs": [
    {
     "name": "stdout",
     "output_type": "stream",
     "text": [
      "1922.9764034569794\n",
      "Wall time: 468 ms\n"
     ]
    }
   ],
   "source": [
    "%%time\n",
    "regr = (DecisionTreeRegressor(max_depth=14, random_state=12345)\n",
    "        .fit(features_train, target_train)\n",
    "       )\n",
    "predictions_test = regr.predict(features_test)\n",
    "mse_test = mean_squared_error(target_test, predictions_test)\n",
    "rmse_test = mse_test ** 0.5\n",
    "print(rmse_test)"
   ]
  },
  {
   "cell_type": "code",
   "execution_count": 36,
   "metadata": {},
   "outputs": [],
   "source": [
    "test_score['DecisionTreeRegressor'] = [rmse_train, rmse_valid, rmse_test, '3.84 s' , '349 ms']"
   ]
  },
  {
   "cell_type": "markdown",
   "metadata": {},
   "source": [
    "При увеличение числа деревьев, модель переобучивается и качество предсказаний падает."
   ]
  },
  {
   "cell_type": "markdown",
   "metadata": {},
   "source": [
    "#### LGBMRegressor"
   ]
  },
  {
   "cell_type": "code",
   "execution_count": 37,
   "metadata": {},
   "outputs": [],
   "source": [
    "kf = KFold(n_splits=5, shuffle=True, random_state=12345)"
   ]
  },
  {
   "cell_type": "code",
   "execution_count": 38,
   "metadata": {},
   "outputs": [
    {
     "name": "stdout",
     "output_type": "stream",
     "text": [
      "Wall time: 34.9 s\n"
     ]
    },
    {
     "data": {
      "text/plain": [
       "{'max_depth': 13, 'n_estimators': 44}"
      ]
     },
     "execution_count": 38,
     "metadata": {},
     "output_type": "execute_result"
    }
   ],
   "source": [
    "%%time\n",
    "parameters = {'max_depth': np.arange(13, 15),\n",
    "              'n_estimators': np.arange(37, 45)\n",
    "             }\n",
    "\n",
    "gs = GridSearchCV(LGBMRegressor(random_state=12345), \n",
    "                  parameters,\n",
    "                  cv=kf,\n",
    "                  scoring='neg_mean_squared_error')\n",
    "\n",
    "\n",
    "gs.fit(features_train, target_train)\n",
    "\n",
    "gs.best_params_"
   ]
  },
  {
   "cell_type": "code",
   "execution_count": 39,
   "metadata": {},
   "outputs": [
    {
     "name": "stdout",
     "output_type": "stream",
     "text": [
      "Wall time: 582 ms\n"
     ]
    },
    {
     "data": {
      "text/plain": [
       "1805.134488171103"
      ]
     },
     "execution_count": 39,
     "metadata": {},
     "output_type": "execute_result"
    }
   ],
   "source": [
    "%%time\n",
    "model_lgb = (LGBMRegressor(max_depth=13, \n",
    "                           n_estimators=44,\n",
    "                           random_state=12345)\n",
    "             .fit(features_train, target_train)\n",
    "            )\n",
    "\n",
    "predictions = model_lgb.predict(features_train)\n",
    "mse = mean_squared_error(target_train, predictions)\n",
    "rmse_train = mse ** 0.5\n",
    "    \n",
    "predictions_valid = model_lgb.predict(features_valid)\n",
    "mse_valid = mean_squared_error(target_valid, predictions_valid)\n",
    "rmse_valid = mse_valid ** 0.5\n",
    "\n",
    "predictions_test = model_lgb.predict(features_test)\n",
    "mse_test = mean_squared_error(target_test, predictions_test)\n",
    "rmse_test = mse_test ** 0.5\n",
    "rmse_test"
   ]
  },
  {
   "cell_type": "code",
   "execution_count": 40,
   "metadata": {},
   "outputs": [],
   "source": [
    "test_score['LGBMRegressor'] = [rmse_train, rmse_valid, rmse_test, '19.5 s' ,'531 ms']"
   ]
  },
  {
   "cell_type": "markdown",
   "metadata": {},
   "source": [
    "## Анализ моделей"
   ]
  },
  {
   "cell_type": "code",
   "execution_count": 41,
   "metadata": {},
   "outputs": [
    {
     "data": {
      "text/html": [
       "<div>\n",
       "<style scoped>\n",
       "    .dataframe tbody tr th:only-of-type {\n",
       "        vertical-align: middle;\n",
       "    }\n",
       "\n",
       "    .dataframe tbody tr th {\n",
       "        vertical-align: top;\n",
       "    }\n",
       "\n",
       "    .dataframe thead th {\n",
       "        text-align: right;\n",
       "    }\n",
       "</style>\n",
       "<table border=\"1\" class=\"dataframe\">\n",
       "  <thead>\n",
       "    <tr style=\"text-align: right;\">\n",
       "      <th></th>\n",
       "      <th>RMSE train</th>\n",
       "      <th>RMSE valid</th>\n",
       "      <th>RMSE test</th>\n",
       "      <th>Speed Train</th>\n",
       "      <th>Speed Test</th>\n",
       "    </tr>\n",
       "  </thead>\n",
       "  <tbody>\n",
       "    <tr>\n",
       "      <th>LinearRegression</th>\n",
       "      <td>2890.426469</td>\n",
       "      <td>2912.499498</td>\n",
       "      <td>2912.499498</td>\n",
       "      <td>68.8 ms</td>\n",
       "      <td>4.99 ms</td>\n",
       "    </tr>\n",
       "    <tr>\n",
       "      <th>DecisionTreeRegressor</th>\n",
       "      <td>1023.877956</td>\n",
       "      <td>2004.788461</td>\n",
       "      <td>1922.976403</td>\n",
       "      <td>3.84 s</td>\n",
       "      <td>349 ms</td>\n",
       "    </tr>\n",
       "    <tr>\n",
       "      <th>LGBMRegressor</th>\n",
       "      <td>1779.359975</td>\n",
       "      <td>1816.233659</td>\n",
       "      <td>1805.134488</td>\n",
       "      <td>19.5 s</td>\n",
       "      <td>531 ms</td>\n",
       "    </tr>\n",
       "  </tbody>\n",
       "</table>\n",
       "</div>"
      ],
      "text/plain": [
       "                        RMSE train   RMSE valid    RMSE test Speed Train  \\\n",
       "LinearRegression       2890.426469  2912.499498  2912.499498     68.8 ms   \n",
       "DecisionTreeRegressor  1023.877956  2004.788461  1922.976403      3.84 s   \n",
       "LGBMRegressor          1779.359975  1816.233659  1805.134488      19.5 s   \n",
       "\n",
       "                      Speed Test  \n",
       "LinearRegression         4.99 ms  \n",
       "DecisionTreeRegressor     349 ms  \n",
       "LGBMRegressor             531 ms  "
      ]
     },
     "execution_count": 41,
     "metadata": {},
     "output_type": "execute_result"
    }
   ],
   "source": [
    "df_score = pd.DataFrame.from_dict(data=test_score, columns=['RMSE train', 'RMSE valid', 'RMSE test', 'Speed Train', 'Speed Test'], orient='index')\n",
    "df_score"
   ]
  },
  {
   "cell_type": "code",
   "execution_count": 42,
   "metadata": {
    "scrolled": false
   },
   "outputs": [
    {
     "data": {
      "text/plain": [
       "<AxesSubplot:>"
      ]
     },
     "execution_count": 42,
     "metadata": {},
     "output_type": "execute_result"
    },
    {
     "data": {
      "image/png": "[encoded data removed]",
      "text/plain": [
       "<Figure size 432x288 with 1 Axes>"
      ]
     },
     "metadata": {
      "needs_background": "light"
     },
     "output_type": "display_data"
    }
   ],
   "source": [
    "df_score.plot(kind='bar', legend=False)"
   ]
  },
  {
   "cell_type": "markdown",
   "metadata": {},
   "source": [
    "Модель LinearRegression обучается и предсказывает быстрее всех, но имеет и максимальное отклонение в предсказании.\n",
    "\n",
    "DecisionTreeRegressor обучается достаточно быстро, но на тестовой выборке показатель предсказания сильно падает.\n",
    "\n",
    "Модель LGBMRegressor долго обучается, но имеет лучшие показатели предсказания.\n",
    "\n",
    "С учетом пожеланий заказчика можно предложить модель DecisionTreeRegressor она не на много сильнее ошибается чем LGBMRegressor, обучается в разы быстрее. "
   ]
  }
 ],
 "metadata": {
  "ExecuteTimeLog": [
   {
    "duration": 383,
    "start_time": "2022-08-04T15:08:01.550Z"
   },
   {
    "duration": 3058,
    "start_time": "2022-08-04T15:47:28.800Z"
   },
   {
    "duration": 22,
    "start_time": "2022-08-04T15:47:45.231Z"
   },
   {
    "duration": 105,
    "start_time": "2022-08-04T15:53:40.982Z"
   },
   {
    "duration": 4,
    "start_time": "2022-08-04T15:58:31.911Z"
   },
   {
    "duration": 306,
    "start_time": "2022-08-04T15:58:40.583Z"
   },
   {
    "duration": 4,
    "start_time": "2022-08-04T16:53:49.036Z"
   },
   {
    "duration": 389,
    "start_time": "2022-08-04T16:53:49.701Z"
   },
   {
    "duration": 4,
    "start_time": "2022-08-04T16:54:53.238Z"
   },
   {
    "duration": 412,
    "start_time": "2022-08-04T16:54:54.272Z"
   },
   {
    "duration": 5,
    "start_time": "2022-08-04T16:55:12.743Z"
   },
   {
    "duration": 383,
    "start_time": "2022-08-04T16:55:16.031Z"
   },
   {
    "duration": 6,
    "start_time": "2022-08-04T17:15:27.286Z"
   },
   {
    "duration": 4,
    "start_time": "2022-08-04T17:15:34.190Z"
   },
   {
    "duration": 446,
    "start_time": "2022-08-04T17:15:35.340Z"
   },
   {
    "duration": 4,
    "start_time": "2022-08-04T17:15:44.373Z"
   },
   {
    "duration": 793,
    "start_time": "2022-08-04T17:15:45.134Z"
   },
   {
    "duration": 4,
    "start_time": "2022-08-04T17:16:34.592Z"
   },
   {
    "duration": 1273,
    "start_time": "2022-08-04T17:16:35.728Z"
   },
   {
    "duration": 626,
    "start_time": "2022-08-04T17:26:38.384Z"
   },
   {
    "duration": 351,
    "start_time": "2022-08-04T17:27:47.257Z"
   },
   {
    "duration": 228,
    "start_time": "2022-08-04T17:42:23.839Z"
   },
   {
    "duration": 142,
    "start_time": "2022-08-04T18:36:06.684Z"
   },
   {
    "duration": 73,
    "start_time": "2022-08-04T18:43:36.809Z"
   },
   {
    "duration": 30,
    "start_time": "2022-08-04T18:45:00.547Z"
   },
   {
    "duration": 48,
    "start_time": "2022-08-04T18:45:48.557Z"
   },
   {
    "duration": 130,
    "start_time": "2022-08-04T18:45:49.543Z"
   },
   {
    "duration": 6,
    "start_time": "2022-08-04T18:46:35.453Z"
   },
   {
    "duration": 5,
    "start_time": "2022-08-04T18:46:56.312Z"
   },
   {
    "duration": 5,
    "start_time": "2022-08-04T18:47:17.363Z"
   },
   {
    "duration": 4,
    "start_time": "2022-08-04T18:47:30.087Z"
   },
   {
    "duration": 5,
    "start_time": "2022-08-04T18:47:44.998Z"
   },
   {
    "duration": 4,
    "start_time": "2022-08-04T18:47:49.994Z"
   },
   {
    "duration": 5,
    "start_time": "2022-08-04T18:47:56.465Z"
   },
   {
    "duration": 115,
    "start_time": "2022-08-04T18:59:46.905Z"
   },
   {
    "duration": 1251,
    "start_time": "2022-08-04T18:59:47.838Z"
   },
   {
    "duration": 4,
    "start_time": "2022-08-04T18:59:58.844Z"
   },
   {
    "duration": 1130,
    "start_time": "2022-08-04T19:00:00.538Z"
   },
   {
    "duration": 3,
    "start_time": "2022-08-04T19:00:29.536Z"
   },
   {
    "duration": 1217,
    "start_time": "2022-08-04T19:00:30.038Z"
   },
   {
    "duration": 15,
    "start_time": "2022-08-04T19:25:50.292Z"
   },
   {
    "duration": 8,
    "start_time": "2022-08-04T19:26:00.640Z"
   },
   {
    "duration": 9,
    "start_time": "2022-08-04T19:26:08.735Z"
   },
   {
    "duration": 9,
    "start_time": "2022-08-04T19:26:21.319Z"
   },
   {
    "duration": 11,
    "start_time": "2022-08-04T19:26:48.475Z"
   },
   {
    "duration": 7,
    "start_time": "2022-08-04T19:26:53.622Z"
   },
   {
    "duration": 11,
    "start_time": "2022-08-04T19:27:05.194Z"
   },
   {
    "duration": 10,
    "start_time": "2022-08-04T19:27:14.007Z"
   },
   {
    "duration": 7,
    "start_time": "2022-08-04T19:27:56.953Z"
   },
   {
    "duration": 7,
    "start_time": "2022-08-04T19:28:02.933Z"
   },
   {
    "duration": 10,
    "start_time": "2022-08-04T19:28:31.193Z"
   },
   {
    "duration": 11,
    "start_time": "2022-08-04T19:28:41.039Z"
   },
   {
    "duration": 9,
    "start_time": "2022-08-04T19:28:48.997Z"
   },
   {
    "duration": 8,
    "start_time": "2022-08-04T19:28:53.089Z"
   },
   {
    "duration": 10,
    "start_time": "2022-08-04T19:29:21.860Z"
   },
   {
    "duration": 7,
    "start_time": "2022-08-04T19:29:24.660Z"
   },
   {
    "duration": 43,
    "start_time": "2022-08-04T19:30:17.534Z"
   },
   {
    "duration": 3,
    "start_time": "2022-08-04T20:04:28.964Z"
   },
   {
    "duration": 74,
    "start_time": "2022-08-04T20:04:34.140Z"
   },
   {
    "duration": 95,
    "start_time": "2022-08-04T20:05:02.328Z"
   },
   {
    "duration": 128,
    "start_time": "2022-08-04T20:05:14.328Z"
   },
   {
    "duration": 433,
    "start_time": "2022-08-04T20:09:14.031Z"
   },
   {
    "duration": 100,
    "start_time": "2022-08-04T20:09:24.946Z"
   },
   {
    "duration": 110,
    "start_time": "2022-08-04T20:10:26.146Z"
   },
   {
    "duration": 36,
    "start_time": "2022-08-04T20:11:11.654Z"
   },
   {
    "duration": 8,
    "start_time": "2022-08-04T20:42:21.895Z"
   },
   {
    "duration": 115,
    "start_time": "2022-08-04T20:42:27.676Z"
   },
   {
    "duration": 49,
    "start_time": "2022-08-04T20:42:53.802Z"
   },
   {
    "duration": 7,
    "start_time": "2022-08-04T20:42:54.548Z"
   },
   {
    "duration": 112,
    "start_time": "2022-08-04T20:42:59.718Z"
   },
   {
    "duration": 954,
    "start_time": "2022-08-04T20:43:29.961Z"
   },
   {
    "duration": 50,
    "start_time": "2022-08-04T20:43:32.849Z"
   },
   {
    "duration": 7,
    "start_time": "2022-08-04T20:43:34.217Z"
   },
   {
    "duration": 68,
    "start_time": "2022-08-04T20:44:11.343Z"
   },
   {
    "duration": 692,
    "start_time": "2022-08-04T20:44:14.405Z"
   },
   {
    "duration": 50,
    "start_time": "2022-08-04T20:44:19.510Z"
   },
   {
    "duration": 7,
    "start_time": "2022-08-04T20:44:20.134Z"
   },
   {
    "duration": 49,
    "start_time": "2022-08-04T20:44:28.097Z"
   },
   {
    "duration": 9,
    "start_time": "2022-08-04T20:44:28.752Z"
   },
   {
    "duration": 44,
    "start_time": "2022-08-04T20:44:40.185Z"
   },
   {
    "duration": 7,
    "start_time": "2022-08-04T20:44:40.890Z"
   },
   {
    "duration": 51,
    "start_time": "2022-08-04T20:44:55.542Z"
   },
   {
    "duration": 9,
    "start_time": "2022-08-04T20:44:56.065Z"
   },
   {
    "duration": 3,
    "start_time": "2022-08-05T18:14:29.520Z"
   },
   {
    "duration": 884,
    "start_time": "2022-08-05T18:14:30.707Z"
   },
   {
    "duration": 5,
    "start_time": "2022-08-05T18:14:31.593Z"
   },
   {
    "duration": 1292,
    "start_time": "2022-08-05T18:14:31.917Z"
   },
   {
    "duration": 39,
    "start_time": "2022-08-05T18:14:34.888Z"
   },
   {
    "duration": 51,
    "start_time": "2022-08-05T18:14:36.082Z"
   },
   {
    "duration": 8,
    "start_time": "2022-08-05T18:14:38.003Z"
   },
   {
    "duration": 104,
    "start_time": "2022-08-05T18:14:46.271Z"
   },
   {
    "duration": 8,
    "start_time": "2022-08-05T18:15:25.487Z"
   },
   {
    "duration": 17,
    "start_time": "2022-08-05T18:15:47.331Z"
   },
   {
    "duration": 60,
    "start_time": "2022-08-05T18:16:35.212Z"
   },
   {
    "duration": 7,
    "start_time": "2022-08-05T18:16:35.833Z"
   },
   {
    "duration": 121,
    "start_time": "2022-08-05T18:16:37.529Z"
   },
   {
    "duration": 15,
    "start_time": "2022-08-05T18:16:41.130Z"
   },
   {
    "duration": 37,
    "start_time": "2022-08-05T18:20:08.238Z"
   },
   {
    "duration": 52,
    "start_time": "2022-08-05T18:20:09.173Z"
   },
   {
    "duration": 23,
    "start_time": "2022-08-05T18:20:44.278Z"
   },
   {
    "duration": 7,
    "start_time": "2022-08-05T18:21:18.069Z"
   },
   {
    "duration": 266,
    "start_time": "2022-08-05T18:21:23.011Z"
   },
   {
    "duration": 44,
    "start_time": "2022-08-05T18:22:25.348Z"
   },
   {
    "duration": 58,
    "start_time": "2022-08-05T18:22:33.264Z"
   },
   {
    "duration": 561,
    "start_time": "2022-08-05T18:22:33.714Z"
   },
   {
    "duration": 251,
    "start_time": "2022-08-05T18:24:40.054Z"
   },
   {
    "duration": 50,
    "start_time": "2022-08-05T18:26:25.590Z"
   },
   {
    "duration": 216,
    "start_time": "2022-08-05T18:26:29.265Z"
   },
   {
    "duration": 45,
    "start_time": "2022-08-05T18:28:41.292Z"
   },
   {
    "duration": 8,
    "start_time": "2022-08-05T18:29:11.661Z"
   },
   {
    "duration": 7,
    "start_time": "2022-08-05T18:29:14.872Z"
   },
   {
    "duration": 238,
    "start_time": "2022-08-05T18:29:17.535Z"
   },
   {
    "duration": 7,
    "start_time": "2022-08-05T18:29:48.751Z"
   },
   {
    "duration": 9,
    "start_time": "2022-08-05T18:29:51.459Z"
   },
   {
    "duration": 74,
    "start_time": "2022-08-05T18:30:26.663Z"
   },
   {
    "duration": 39,
    "start_time": "2022-08-05T18:30:44.690Z"
   },
   {
    "duration": 75,
    "start_time": "2022-08-05T18:33:48.802Z"
   },
   {
    "duration": 20,
    "start_time": "2022-08-05T18:34:57.056Z"
   },
   {
    "duration": 12,
    "start_time": "2022-08-05T18:45:03.935Z"
   },
   {
    "duration": 608,
    "start_time": "2022-08-05T18:45:16.022Z"
   },
   {
    "duration": 781,
    "start_time": "2022-08-05T18:45:16.632Z"
   },
   {
    "duration": 5,
    "start_time": "2022-08-05T18:45:17.415Z"
   },
   {
    "duration": 1272,
    "start_time": "2022-08-05T18:45:17.423Z"
   },
   {
    "duration": 24,
    "start_time": "2022-08-05T18:45:18.696Z"
   },
   {
    "duration": 59,
    "start_time": "2022-08-05T18:45:18.722Z"
   },
   {
    "duration": 250,
    "start_time": "2022-08-05T18:45:18.783Z"
   },
   {
    "duration": 61,
    "start_time": "2022-08-05T18:45:19.034Z"
   },
   {
    "duration": 249,
    "start_time": "2022-08-05T18:45:19.097Z"
   },
   {
    "duration": 45,
    "start_time": "2022-08-05T18:45:19.354Z"
   },
   {
    "duration": 337,
    "start_time": "2022-08-05T18:45:19.401Z"
   },
   {
    "duration": 17,
    "start_time": "2022-08-05T18:45:19.740Z"
   },
   {
    "duration": 49,
    "start_time": "2022-08-05T18:45:19.759Z"
   },
   {
    "duration": 45,
    "start_time": "2022-08-05T18:45:19.810Z"
   },
   {
    "duration": 63,
    "start_time": "2022-08-05T18:46:44.204Z"
   },
   {
    "duration": 66,
    "start_time": "2022-08-05T18:46:49.249Z"
   },
   {
    "duration": 28,
    "start_time": "2022-08-05T18:48:44.995Z"
   },
   {
    "duration": 15,
    "start_time": "2022-08-05T19:00:50.610Z"
   },
   {
    "duration": 52,
    "start_time": "2022-08-05T19:03:55.465Z"
   },
   {
    "duration": 93,
    "start_time": "2022-08-05T19:51:05.563Z"
   },
   {
    "duration": 594,
    "start_time": "2022-08-05T20:07:36.278Z"
   },
   {
    "duration": 97,
    "start_time": "2022-08-05T20:08:19.039Z"
   },
   {
    "duration": 532,
    "start_time": "2022-08-05T20:08:23.965Z"
   },
   {
    "duration": 50,
    "start_time": "2022-08-05T20:08:33.141Z"
   },
   {
    "duration": 114,
    "start_time": "2022-08-05T20:09:27.145Z"
   },
   {
    "duration": 726,
    "start_time": "2022-08-07T14:32:24.700Z"
   },
   {
    "duration": 1001,
    "start_time": "2022-08-07T14:32:25.428Z"
   },
   {
    "duration": 4,
    "start_time": "2022-08-07T14:32:26.433Z"
   },
   {
    "duration": 1294,
    "start_time": "2022-08-07T14:32:26.438Z"
   },
   {
    "duration": 23,
    "start_time": "2022-08-07T14:32:27.734Z"
   },
   {
    "duration": 65,
    "start_time": "2022-08-07T14:32:27.758Z"
   },
   {
    "duration": 247,
    "start_time": "2022-08-07T14:32:27.824Z"
   },
   {
    "duration": 66,
    "start_time": "2022-08-07T14:32:28.073Z"
   },
   {
    "duration": 237,
    "start_time": "2022-08-07T14:32:28.142Z"
   },
   {
    "duration": 51,
    "start_time": "2022-08-07T14:32:28.381Z"
   },
   {
    "duration": 296,
    "start_time": "2022-08-07T14:32:28.434Z"
   },
   {
    "duration": 7,
    "start_time": "2022-08-07T14:32:28.732Z"
   },
   {
    "duration": 40,
    "start_time": "2022-08-07T14:32:28.741Z"
   },
   {
    "duration": 46,
    "start_time": "2022-08-07T14:32:28.783Z"
   },
   {
    "duration": 50,
    "start_time": "2022-08-07T14:32:28.830Z"
   },
   {
    "duration": 38,
    "start_time": "2022-08-07T14:32:28.881Z"
   },
   {
    "duration": 14,
    "start_time": "2022-08-07T14:32:28.921Z"
   },
   {
    "duration": 568,
    "start_time": "2022-08-07T14:32:28.936Z"
   },
   {
    "duration": 64,
    "start_time": "2022-08-07T14:36:31.240Z"
   },
   {
    "duration": 44,
    "start_time": "2022-08-07T14:40:18.491Z"
   },
   {
    "duration": 67,
    "start_time": "2022-08-07T14:41:07.545Z"
   },
   {
    "duration": 14,
    "start_time": "2022-08-07T14:41:14.012Z"
   },
   {
    "duration": 8,
    "start_time": "2022-08-07T14:41:52.637Z"
   },
   {
    "duration": 658,
    "start_time": "2022-08-07T14:42:14.859Z"
   },
   {
    "duration": 133,
    "start_time": "2022-08-07T14:42:18.956Z"
   },
   {
    "duration": 36,
    "start_time": "2022-08-07T14:43:29.779Z"
   },
   {
    "duration": 19,
    "start_time": "2022-08-07T14:43:42.275Z"
   },
   {
    "duration": 3,
    "start_time": "2022-08-07T14:43:46.275Z"
   },
   {
    "duration": 60,
    "start_time": "2022-08-07T14:45:03.465Z"
   },
   {
    "duration": 3,
    "start_time": "2022-08-07T14:45:42.829Z"
   },
   {
    "duration": 48,
    "start_time": "2022-08-07T14:45:46.534Z"
   },
   {
    "duration": 911,
    "start_time": "2022-08-19T20:03:49.472Z"
   },
   {
    "duration": 4,
    "start_time": "2022-08-19T20:04:07.908Z"
   },
   {
    "duration": 1389,
    "start_time": "2022-08-19T20:04:07.913Z"
   },
   {
    "duration": 14,
    "start_time": "2022-08-19T20:04:09.304Z"
   },
   {
    "duration": 132,
    "start_time": "2022-08-19T20:04:09.320Z"
   },
   {
    "duration": 98,
    "start_time": "2022-08-19T20:04:09.454Z"
   },
   {
    "duration": 4,
    "start_time": "2022-08-19T20:04:09.553Z"
   },
   {
    "duration": 39,
    "start_time": "2022-08-19T20:04:09.559Z"
   },
   {
    "duration": 109,
    "start_time": "2022-08-19T20:04:09.600Z"
   },
   {
    "duration": 24,
    "start_time": "2022-08-19T20:04:09.712Z"
   },
   {
    "duration": 70,
    "start_time": "2022-08-19T20:04:09.737Z"
   },
   {
    "duration": 117,
    "start_time": "2022-08-19T20:04:09.809Z"
   },
   {
    "duration": 141,
    "start_time": "2022-08-19T20:04:09.928Z"
   },
   {
    "duration": 59,
    "start_time": "2022-08-19T20:04:10.071Z"
   },
   {
    "duration": 102,
    "start_time": "2022-08-19T20:04:10.131Z"
   },
   {
    "duration": 16,
    "start_time": "2022-08-19T20:04:10.235Z"
   },
   {
    "duration": 16,
    "start_time": "2022-08-19T20:04:10.253Z"
   },
   {
    "duration": 45,
    "start_time": "2022-08-19T20:04:10.270Z"
   },
   {
    "duration": 20,
    "start_time": "2022-08-19T20:04:10.318Z"
   },
   {
    "duration": 265,
    "start_time": "2022-08-19T20:04:10.340Z"
   },
   {
    "duration": 263,
    "start_time": "2022-08-19T20:04:10.607Z"
   },
   {
    "duration": 81,
    "start_time": "2022-08-19T20:04:10.871Z"
   },
   {
    "duration": 21,
    "start_time": "2022-08-19T20:04:10.953Z"
   },
   {
    "duration": 144,
    "start_time": "2022-08-19T20:04:10.975Z"
   },
   {
    "duration": 147,
    "start_time": "2022-08-19T20:04:11.122Z"
   },
   {
    "duration": 10,
    "start_time": "2022-08-19T20:04:11.270Z"
   },
   {
    "duration": 1027,
    "start_time": "2022-08-19T20:04:15.348Z"
   },
   {
    "duration": 825,
    "start_time": "2022-08-19T20:04:30.573Z"
   },
   {
    "duration": 12,
    "start_time": "2022-08-19T20:04:50.141Z"
   },
   {
    "duration": 4,
    "start_time": "2022-08-19T20:05:01.530Z"
   },
   {
    "duration": 1252,
    "start_time": "2022-08-19T20:05:01.536Z"
   },
   {
    "duration": 17,
    "start_time": "2022-08-19T20:05:02.790Z"
   },
   {
    "duration": 123,
    "start_time": "2022-08-19T20:05:02.810Z"
   },
   {
    "duration": 94,
    "start_time": "2022-08-19T20:05:02.935Z"
   },
   {
    "duration": 4,
    "start_time": "2022-08-19T20:05:03.031Z"
   },
   {
    "duration": 40,
    "start_time": "2022-08-19T20:05:03.036Z"
   },
   {
    "duration": 112,
    "start_time": "2022-08-19T20:05:03.078Z"
   },
   {
    "duration": 38,
    "start_time": "2022-08-19T20:05:03.191Z"
   },
   {
    "duration": 49,
    "start_time": "2022-08-19T20:05:03.232Z"
   },
   {
    "duration": 129,
    "start_time": "2022-08-19T20:05:03.282Z"
   },
   {
    "duration": 131,
    "start_time": "2022-08-19T20:05:03.412Z"
   },
   {
    "duration": 40,
    "start_time": "2022-08-19T20:05:03.544Z"
   },
   {
    "duration": 116,
    "start_time": "2022-08-19T20:05:03.586Z"
   },
   {
    "duration": 19,
    "start_time": "2022-08-19T20:05:03.704Z"
   },
   {
    "duration": 14,
    "start_time": "2022-08-19T20:05:03.724Z"
   },
   {
    "duration": 13,
    "start_time": "2022-08-19T20:05:03.740Z"
   },
   {
    "duration": 21,
    "start_time": "2022-08-19T20:05:03.754Z"
   },
   {
    "duration": 300,
    "start_time": "2022-08-19T20:05:03.777Z"
   },
   {
    "duration": 253,
    "start_time": "2022-08-19T20:05:04.078Z"
   },
   {
    "duration": 118,
    "start_time": "2022-08-19T20:05:04.333Z"
   },
   {
    "duration": 25,
    "start_time": "2022-08-19T20:05:04.452Z"
   },
   {
    "duration": 161,
    "start_time": "2022-08-19T20:05:04.479Z"
   },
   {
    "duration": 156,
    "start_time": "2022-08-19T20:05:04.642Z"
   },
   {
    "duration": 18,
    "start_time": "2022-08-19T20:05:04.800Z"
   },
   {
    "duration": 16,
    "start_time": "2022-08-19T20:05:06.914Z"
   },
   {
    "duration": 11,
    "start_time": "2022-08-19T20:05:08.685Z"
   },
   {
    "duration": 12,
    "start_time": "2022-08-19T20:05:42.240Z"
   },
   {
    "duration": 106,
    "start_time": "2022-08-19T20:06:41.507Z"
   },
   {
    "duration": 883,
    "start_time": "2022-08-19T20:07:29.196Z"
   },
   {
    "duration": 761,
    "start_time": "2022-08-19T20:07:37.870Z"
   },
   {
    "duration": 115,
    "start_time": "2022-08-19T20:10:01.385Z"
   },
   {
    "duration": 17,
    "start_time": "2022-08-19T20:10:23.369Z"
   },
   {
    "duration": 39,
    "start_time": "2022-08-19T20:12:07.704Z"
   },
   {
    "duration": 99,
    "start_time": "2022-08-19T20:12:12.861Z"
   },
   {
    "duration": 2,
    "start_time": "2022-08-19T20:12:14.696Z"
   },
   {
    "duration": 90,
    "start_time": "2022-08-19T20:12:15.813Z"
   },
   {
    "duration": 3,
    "start_time": "2022-08-19T20:12:26.232Z"
   },
   {
    "duration": 3807,
    "start_time": "2022-08-19T20:12:27.828Z"
   },
   {
    "duration": 354,
    "start_time": "2022-08-19T20:12:59.065Z"
   },
   {
    "duration": 2,
    "start_time": "2022-08-19T20:13:05.304Z"
   },
   {
    "duration": 2,
    "start_time": "2022-08-19T20:13:07.744Z"
   },
   {
    "duration": 144930,
    "start_time": "2022-08-19T20:13:08.376Z"
   },
   {
    "duration": 2978,
    "start_time": "2022-08-19T20:16:52.320Z"
   },
   {
    "duration": 2,
    "start_time": "2022-08-19T20:17:28.208Z"
   },
   {
    "duration": 12,
    "start_time": "2022-08-19T20:17:33.250Z"
   },
   {
    "duration": 109,
    "start_time": "2022-08-19T20:17:35.975Z"
   },
   {
    "duration": 485590,
    "start_time": "2022-08-19T20:21:05.016Z"
   },
   {
    "duration": 3,
    "start_time": "2022-08-19T20:43:20.291Z"
   },
   {
    "duration": 26560,
    "start_time": "2022-08-19T20:43:21.546Z"
   },
   {
    "duration": 3,
    "start_time": "2022-08-19T20:43:57.902Z"
   },
   {
    "duration": 8,
    "start_time": "2022-08-19T20:43:59.761Z"
   },
   {
    "duration": 113,
    "start_time": "2022-08-19T20:44:02.995Z"
   },
   {
    "duration": 103,
    "start_time": "2022-08-19T20:44:29.882Z"
   },
   {
    "duration": 104,
    "start_time": "2022-08-19T21:18:21.919Z"
   },
   {
    "duration": 2,
    "start_time": "2022-08-19T21:27:51.133Z"
   },
   {
    "duration": 3,
    "start_time": "2022-08-19T21:27:52.947Z"
   },
   {
    "duration": 101,
    "start_time": "2022-08-19T21:34:44.398Z"
   },
   {
    "duration": 7,
    "start_time": "2022-08-19T21:34:46.970Z"
   },
   {
    "duration": 8,
    "start_time": "2022-08-19T21:34:55.246Z"
   },
   {
    "duration": 2,
    "start_time": "2022-08-19T21:35:17.285Z"
   },
   {
    "duration": 3,
    "start_time": "2022-08-19T21:35:20.311Z"
   },
   {
    "duration": 3,
    "start_time": "2022-08-19T21:35:22.570Z"
   },
   {
    "duration": 14,
    "start_time": "2022-08-19T21:35:24.295Z"
   },
   {
    "duration": 9,
    "start_time": "2022-08-19T21:35:38.753Z"
   },
   {
    "duration": 116,
    "start_time": "2022-08-19T21:35:44.566Z"
   },
   {
    "duration": 833,
    "start_time": "2022-08-19T21:36:30.622Z"
   },
   {
    "duration": 801,
    "start_time": "2022-08-19T21:36:39.860Z"
   },
   {
    "duration": 10,
    "start_time": "2022-08-19T21:36:50.311Z"
   },
   {
    "duration": 14,
    "start_time": "2022-08-19T21:36:58.110Z"
   },
   {
    "duration": 13,
    "start_time": "2022-08-19T21:37:04.979Z"
   },
   {
    "duration": 14,
    "start_time": "2022-08-19T21:37:28.763Z"
   },
   {
    "duration": 94,
    "start_time": "2022-08-19T21:37:47.811Z"
   },
   {
    "duration": 88,
    "start_time": "2022-08-19T21:38:36.391Z"
   },
   {
    "duration": 103,
    "start_time": "2022-08-19T21:39:22.990Z"
   },
   {
    "duration": 1224,
    "start_time": "2022-08-19T21:39:28.535Z"
   },
   {
    "duration": 1632,
    "start_time": "2022-08-19T21:39:29.761Z"
   },
   {
    "duration": 14,
    "start_time": "2022-08-19T21:39:31.395Z"
   },
   {
    "duration": 146,
    "start_time": "2022-08-19T21:39:31.411Z"
   },
   {
    "duration": 129,
    "start_time": "2022-08-19T21:39:31.559Z"
   },
   {
    "duration": 11,
    "start_time": "2022-08-19T21:39:31.690Z"
   },
   {
    "duration": 50,
    "start_time": "2022-08-19T21:39:31.702Z"
   },
   {
    "duration": 107,
    "start_time": "2022-08-19T21:39:31.754Z"
   },
   {
    "duration": 23,
    "start_time": "2022-08-19T21:39:31.862Z"
   },
   {
    "duration": 73,
    "start_time": "2022-08-19T21:39:31.888Z"
   },
   {
    "duration": 116,
    "start_time": "2022-08-19T21:39:31.963Z"
   },
   {
    "duration": 103,
    "start_time": "2022-08-19T21:39:32.081Z"
   },
   {
    "duration": 54,
    "start_time": "2022-08-19T21:39:32.186Z"
   },
   {
    "duration": 99,
    "start_time": "2022-08-19T21:39:32.242Z"
   },
   {
    "duration": 14,
    "start_time": "2022-08-19T21:39:32.343Z"
   },
   {
    "duration": 18,
    "start_time": "2022-08-19T21:39:32.359Z"
   },
   {
    "duration": 30,
    "start_time": "2022-08-19T21:39:32.378Z"
   },
   {
    "duration": 19,
    "start_time": "2022-08-19T21:39:32.409Z"
   },
   {
    "duration": 297,
    "start_time": "2022-08-19T21:39:32.429Z"
   },
   {
    "duration": 224,
    "start_time": "2022-08-19T21:39:32.728Z"
   },
   {
    "duration": 83,
    "start_time": "2022-08-19T21:39:32.953Z"
   },
   {
    "duration": 20,
    "start_time": "2022-08-19T21:39:33.038Z"
   },
   {
    "duration": 134,
    "start_time": "2022-08-19T21:39:33.060Z"
   },
   {
    "duration": 147,
    "start_time": "2022-08-19T21:39:33.195Z"
   },
   {
    "duration": 9,
    "start_time": "2022-08-19T21:39:33.344Z"
   },
   {
    "duration": 121,
    "start_time": "2022-08-19T21:39:33.354Z"
   },
   {
    "duration": 1,
    "start_time": "2022-08-19T21:39:33.477Z"
   },
   {
    "duration": 51,
    "start_time": "2022-08-19T21:39:33.481Z"
   },
   {
    "duration": 103,
    "start_time": "2022-08-19T21:39:33.534Z"
   },
   {
    "duration": 2,
    "start_time": "2022-08-19T21:39:33.639Z"
   },
   {
    "duration": 59,
    "start_time": "2022-08-19T21:39:33.642Z"
   },
   {
    "duration": 101,
    "start_time": "2022-08-19T21:39:33.702Z"
   },
   {
    "duration": 3,
    "start_time": "2022-08-19T21:39:33.805Z"
   },
   {
    "duration": 4050,
    "start_time": "2022-08-19T21:39:33.810Z"
   },
   {
    "duration": 361,
    "start_time": "2022-08-19T21:39:37.861Z"
   },
   {
    "duration": 2,
    "start_time": "2022-08-19T21:39:38.224Z"
   },
   {
    "duration": 5,
    "start_time": "2022-08-19T21:39:38.227Z"
   },
   {
    "duration": 1275,
    "start_time": "2022-08-19T22:37:26.629Z"
   },
   {
    "duration": 1785,
    "start_time": "2022-08-19T22:37:27.906Z"
   },
   {
    "duration": 23,
    "start_time": "2022-08-19T22:37:29.692Z"
   },
   {
    "duration": 118,
    "start_time": "2022-08-19T22:37:29.717Z"
   },
   {
    "duration": 124,
    "start_time": "2022-08-19T22:37:29.837Z"
   },
   {
    "duration": 5,
    "start_time": "2022-08-19T22:37:29.963Z"
   },
   {
    "duration": 54,
    "start_time": "2022-08-19T22:37:29.969Z"
   },
   {
    "duration": 106,
    "start_time": "2022-08-19T22:37:30.025Z"
   },
   {
    "duration": 23,
    "start_time": "2022-08-19T22:37:30.132Z"
   },
   {
    "duration": 79,
    "start_time": "2022-08-19T22:37:30.157Z"
   },
   {
    "duration": 99,
    "start_time": "2022-08-19T22:37:30.238Z"
   },
   {
    "duration": 107,
    "start_time": "2022-08-19T22:37:30.338Z"
   },
   {
    "duration": 63,
    "start_time": "2022-08-19T22:37:30.446Z"
   },
   {
    "duration": 101,
    "start_time": "2022-08-19T22:37:30.510Z"
   },
   {
    "duration": 15,
    "start_time": "2022-08-19T22:37:30.612Z"
   },
   {
    "duration": 37,
    "start_time": "2022-08-19T22:37:30.629Z"
   },
   {
    "duration": 29,
    "start_time": "2022-08-19T22:37:30.667Z"
   },
   {
    "duration": 37,
    "start_time": "2022-08-19T22:37:30.698Z"
   },
   {
    "duration": 303,
    "start_time": "2022-08-19T22:37:30.737Z"
   },
   {
    "duration": 238,
    "start_time": "2022-08-19T22:37:31.042Z"
   },
   {
    "duration": 94,
    "start_time": "2022-08-19T22:37:31.282Z"
   },
   {
    "duration": 33,
    "start_time": "2022-08-19T22:37:31.378Z"
   },
   {
    "duration": 123,
    "start_time": "2022-08-19T22:37:31.413Z"
   },
   {
    "duration": 148,
    "start_time": "2022-08-19T22:37:31.538Z"
   },
   {
    "duration": 26,
    "start_time": "2022-08-19T22:37:31.687Z"
   },
   {
    "duration": 114,
    "start_time": "2022-08-19T22:37:31.714Z"
   },
   {
    "duration": 2,
    "start_time": "2022-08-19T22:37:31.830Z"
   },
   {
    "duration": 36,
    "start_time": "2022-08-19T22:37:31.834Z"
   },
   {
    "duration": 106,
    "start_time": "2022-08-19T22:37:31.871Z"
   },
   {
    "duration": 3,
    "start_time": "2022-08-19T22:37:31.978Z"
   },
   {
    "duration": 126,
    "start_time": "2022-08-19T22:37:31.982Z"
   },
   {
    "duration": 89,
    "start_time": "2022-08-19T22:37:32.110Z"
   },
   {
    "duration": 112,
    "start_time": "2022-08-19T22:37:32.201Z"
   },
   {
    "duration": 3864,
    "start_time": "2022-08-19T22:37:32.314Z"
   },
   {
    "duration": 355,
    "start_time": "2022-08-19T22:37:36.179Z"
   },
   {
    "duration": 2,
    "start_time": "2022-08-19T22:37:36.535Z"
   },
   {
    "duration": 7,
    "start_time": "2022-08-19T22:37:36.539Z"
   },
   {
    "duration": 754220,
    "start_time": "2022-08-19T22:37:36.547Z"
   },
   {
    "duration": 1247,
    "start_time": "2022-08-19T22:50:24.733Z"
   },
   {
    "duration": 1656,
    "start_time": "2022-08-19T22:50:25.982Z"
   },
   {
    "duration": 15,
    "start_time": "2022-08-19T22:50:27.640Z"
   },
   {
    "duration": 123,
    "start_time": "2022-08-19T22:50:27.656Z"
   },
   {
    "duration": 86,
    "start_time": "2022-08-19T22:50:27.781Z"
   },
   {
    "duration": 6,
    "start_time": "2022-08-19T22:50:27.868Z"
   },
   {
    "duration": 59,
    "start_time": "2022-08-19T22:50:27.875Z"
   },
   {
    "duration": 113,
    "start_time": "2022-08-19T22:50:27.936Z"
   },
   {
    "duration": 20,
    "start_time": "2022-08-19T22:50:28.050Z"
   },
   {
    "duration": 62,
    "start_time": "2022-08-19T22:50:28.072Z"
   },
   {
    "duration": 95,
    "start_time": "2022-08-19T22:50:28.136Z"
   },
   {
    "duration": 109,
    "start_time": "2022-08-19T22:50:28.232Z"
   },
   {
    "duration": 44,
    "start_time": "2022-08-19T22:50:28.343Z"
   },
   {
    "duration": 107,
    "start_time": "2022-08-19T22:50:28.408Z"
   },
   {
    "duration": 14,
    "start_time": "2022-08-19T22:50:28.517Z"
   },
   {
    "duration": 13,
    "start_time": "2022-08-19T22:50:28.533Z"
   },
   {
    "duration": 17,
    "start_time": "2022-08-19T22:50:28.547Z"
   },
   {
    "duration": 18,
    "start_time": "2022-08-19T22:50:28.565Z"
   },
   {
    "duration": 299,
    "start_time": "2022-08-19T22:50:28.584Z"
   },
   {
    "duration": 234,
    "start_time": "2022-08-19T22:50:28.884Z"
   },
   {
    "duration": 91,
    "start_time": "2022-08-19T22:50:29.119Z"
   },
   {
    "duration": 25,
    "start_time": "2022-08-19T22:50:29.212Z"
   },
   {
    "duration": 127,
    "start_time": "2022-08-19T22:50:29.239Z"
   },
   {
    "duration": 146,
    "start_time": "2022-08-19T22:50:29.368Z"
   },
   {
    "duration": 10,
    "start_time": "2022-08-19T22:50:29.515Z"
   },
   {
    "duration": 119,
    "start_time": "2022-08-19T22:50:29.527Z"
   },
   {
    "duration": 2,
    "start_time": "2022-08-19T22:50:29.647Z"
   },
   {
    "duration": 57,
    "start_time": "2022-08-19T22:50:29.652Z"
   },
   {
    "duration": 105,
    "start_time": "2022-08-19T22:50:29.710Z"
   },
   {
    "duration": 2,
    "start_time": "2022-08-19T22:50:29.817Z"
   },
   {
    "duration": 100,
    "start_time": "2022-08-19T22:50:29.820Z"
   },
   {
    "duration": 14,
    "start_time": "2022-08-19T22:50:30.006Z"
   },
   {
    "duration": 202,
    "start_time": "2022-08-19T22:50:30.021Z"
   },
   {
    "duration": 3787,
    "start_time": "2022-08-19T22:50:30.224Z"
   },
   {
    "duration": 365,
    "start_time": "2022-08-19T22:50:34.013Z"
   },
   {
    "duration": 2,
    "start_time": "2022-08-19T22:50:34.380Z"
   },
   {
    "duration": 43,
    "start_time": "2022-08-19T22:50:34.384Z"
   },
   {
    "duration": 802825,
    "start_time": "2022-08-19T22:50:34.429Z"
   },
   {
    "duration": 4,
    "start_time": "2022-08-19T23:04:54.974Z"
   },
   {
    "duration": 1548,
    "start_time": "2022-08-19T23:04:54.980Z"
   },
   {
    "duration": 12,
    "start_time": "2022-08-19T23:04:56.529Z"
   },
   {
    "duration": 121,
    "start_time": "2022-08-19T23:04:56.544Z"
   },
   {
    "duration": 86,
    "start_time": "2022-08-19T23:04:56.667Z"
   },
   {
    "duration": 5,
    "start_time": "2022-08-19T23:04:56.755Z"
   },
   {
    "duration": 54,
    "start_time": "2022-08-19T23:04:56.762Z"
   },
   {
    "duration": 93,
    "start_time": "2022-08-19T23:04:56.818Z"
   },
   {
    "duration": 23,
    "start_time": "2022-08-19T23:04:56.914Z"
   },
   {
    "duration": 48,
    "start_time": "2022-08-19T23:04:56.938Z"
   },
   {
    "duration": 108,
    "start_time": "2022-08-19T23:04:56.988Z"
   },
   {
    "duration": 107,
    "start_time": "2022-08-19T23:04:57.104Z"
   },
   {
    "duration": 38,
    "start_time": "2022-08-19T23:04:57.213Z"
   },
   {
    "duration": 100,
    "start_time": "2022-08-19T23:04:57.252Z"
   },
   {
    "duration": 13,
    "start_time": "2022-08-19T23:04:57.354Z"
   },
   {
    "duration": 12,
    "start_time": "2022-08-19T23:04:57.369Z"
   },
   {
    "duration": 23,
    "start_time": "2022-08-19T23:04:57.383Z"
   },
   {
    "duration": 16,
    "start_time": "2022-08-19T23:04:57.408Z"
   },
   {
    "duration": 234,
    "start_time": "2022-08-19T23:04:57.426Z"
   },
   {
    "duration": 220,
    "start_time": "2022-08-19T23:04:57.661Z"
   },
   {
    "duration": 91,
    "start_time": "2022-08-19T23:04:57.883Z"
   },
   {
    "duration": 34,
    "start_time": "2022-08-19T23:04:57.975Z"
   },
   {
    "duration": 126,
    "start_time": "2022-08-19T23:04:58.011Z"
   },
   {
    "duration": 144,
    "start_time": "2022-08-19T23:04:58.140Z"
   },
   {
    "duration": 17,
    "start_time": "2022-08-19T23:04:58.285Z"
   },
   {
    "duration": 128,
    "start_time": "2022-08-19T23:04:58.303Z"
   },
   {
    "duration": 2,
    "start_time": "2022-08-19T23:04:58.433Z"
   },
   {
    "duration": 43,
    "start_time": "2022-08-19T23:04:58.436Z"
   },
   {
    "duration": 98,
    "start_time": "2022-08-19T23:04:58.480Z"
   },
   {
    "duration": 2,
    "start_time": "2022-08-19T23:04:58.580Z"
   },
   {
    "duration": 45,
    "start_time": "2022-08-19T23:04:58.583Z"
   },
   {
    "duration": 19,
    "start_time": "2022-08-19T23:04:58.697Z"
   },
   {
    "duration": 191,
    "start_time": "2022-08-19T23:04:58.718Z"
   },
   {
    "duration": 3926,
    "start_time": "2022-08-19T23:04:58.911Z"
   },
   {
    "duration": 353,
    "start_time": "2022-08-19T23:05:02.838Z"
   },
   {
    "duration": 12,
    "start_time": "2022-08-19T23:05:03.192Z"
   },
   {
    "duration": 20,
    "start_time": "2022-08-19T23:05:03.205Z"
   }
  ],
  "kernelspec": {
   "display_name": "Python 3 (ipykernel)",
   "language": "python",
   "name": "python3"
  },
  "language_info": {
   "codemirror_mode": {
    "name": "ipython",
    "version": 3
   },
   "file_extension": ".py",
   "mimetype": "text/x-python",
   "name": "python",
   "nbconvert_exporter": "python",
   "pygments_lexer": "ipython3",
   "version": "3.9.7"
  },
  "toc": {
   "base_numbering": 1,
   "nav_menu": {},
   "number_sections": false,
   "sideBar": true,
   "skip_h1_title": true,
   "title_cell": "Table of Contents",
   "title_sidebar": "Contents",
   "toc_cell": false,
   "toc_position": {
    "height": "calc(100% - 180px)",
    "left": "10px",
    "top": "150px",
    "width": "165px"
   },
   "toc_section_display": true,
   "toc_window_display": true
  }
 },
 "nbformat": 4,
 "nbformat_minor": 2
}
