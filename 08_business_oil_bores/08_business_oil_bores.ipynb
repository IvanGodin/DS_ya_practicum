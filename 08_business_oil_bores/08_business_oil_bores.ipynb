{
 "cells": [
  {
   "cell_type": "markdown",
   "metadata": {},
   "source": [
    "# Выбор локации для скважины"
   ]
  },
  {
   "cell_type": "markdown",
   "metadata": {},
   "source": [
    "Допустим, вы работаете в добывающей компании «ГлавРосГосНефть». Нужно решить, где бурить новую скважину.\n",
    "\n",
    "Вам предоставлены пробы нефти в трёх регионах: в каждом 10 000 месторождений, где измерили качество нефти и объём её запасов. Постройте модель машинного обучения, которая поможет определить регион, где добыча принесёт наибольшую прибыль. Проанализируйте возможную прибыль и риски техникой *Bootstrap.*\n",
    "\n",
    "Шаги для выбора локации:\n",
    "\n",
    "- В избранном регионе ищут месторождения, для каждого определяют значения признаков;\n",
    "- Строят модель и оценивают объём запасов;\n",
    "- Выбирают месторождения с самым высокими оценками значений. Количество месторождений зависит от бюджета компании и стоимости разработки одной скважины;\n",
    "- Прибыль равна суммарной прибыли отобранных месторождений."
   ]
  },
  {
   "cell_type": "markdown",
   "metadata": {},
   "source": [
    "## Загрузка и подготовка данных"
   ]
  },
  {
   "cell_type": "code",
   "execution_count": 31,
   "metadata": {},
   "outputs": [],
   "source": [
    "import pandas as pd\n",
    "import numpy as np\n",
    "from sklearn.model_selection import train_test_split\n",
    "from sklearn.preprocessing import StandardScaler\n",
    "import warnings\n",
    "import seaborn as sns\n",
    "import matplotlib.pyplot as plt\n",
    "\n",
    "warnings.filterwarnings('ignore')\n",
    "from sklearn.linear_model import LinearRegression\n",
    "from sklearn.metrics import mean_squared_error\n",
    "from scipy import stats as st"
   ]
  },
  {
   "cell_type": "code",
   "execution_count": 8,
   "metadata": {},
   "outputs": [],
   "source": [
    "geo_data_0 = pd.read_csv('/datasets/geo_data_0.csv')\n",
    "geo_data_1 = pd.read_csv('/datasets/geo_data_1.csv')\n",
    "geo_data_2 = pd.read_csv('/datasets/geo_data_2.csv')"
   ]
  },
  {
   "cell_type": "code",
   "execution_count": 9,
   "metadata": {
    "scrolled": false
   },
   "outputs": [
    {
     "data": {
      "text/html": [
       "<div>\n",
       "<style scoped>\n",
       "    .dataframe tbody tr th:only-of-type {\n",
       "        vertical-align: middle;\n",
       "    }\n",
       "\n",
       "    .dataframe tbody tr th {\n",
       "        vertical-align: top;\n",
       "    }\n",
       "\n",
       "    .dataframe thead th {\n",
       "        text-align: right;\n",
       "    }\n",
       "</style>\n",
       "<table border=\"1\" class=\"dataframe\">\n",
       "  <thead>\n",
       "    <tr style=\"text-align: right;\">\n",
       "      <th></th>\n",
       "      <th>id</th>\n",
       "      <th>f0</th>\n",
       "      <th>f1</th>\n",
       "      <th>f2</th>\n",
       "      <th>product</th>\n",
       "    </tr>\n",
       "  </thead>\n",
       "  <tbody>\n",
       "    <tr>\n",
       "      <th>0</th>\n",
       "      <td>txEyH</td>\n",
       "      <td>0.705745</td>\n",
       "      <td>-0.497823</td>\n",
       "      <td>1.221170</td>\n",
       "      <td>105.280062</td>\n",
       "    </tr>\n",
       "    <tr>\n",
       "      <th>1</th>\n",
       "      <td>2acmU</td>\n",
       "      <td>1.334711</td>\n",
       "      <td>-0.340164</td>\n",
       "      <td>4.365080</td>\n",
       "      <td>73.037750</td>\n",
       "    </tr>\n",
       "    <tr>\n",
       "      <th>2</th>\n",
       "      <td>409Wp</td>\n",
       "      <td>1.022732</td>\n",
       "      <td>0.151990</td>\n",
       "      <td>1.419926</td>\n",
       "      <td>85.265647</td>\n",
       "    </tr>\n",
       "    <tr>\n",
       "      <th>3</th>\n",
       "      <td>iJLyR</td>\n",
       "      <td>-0.032172</td>\n",
       "      <td>0.139033</td>\n",
       "      <td>2.978566</td>\n",
       "      <td>168.620776</td>\n",
       "    </tr>\n",
       "    <tr>\n",
       "      <th>4</th>\n",
       "      <td>Xdl7t</td>\n",
       "      <td>1.988431</td>\n",
       "      <td>0.155413</td>\n",
       "      <td>4.751769</td>\n",
       "      <td>154.036647</td>\n",
       "    </tr>\n",
       "  </tbody>\n",
       "</table>\n",
       "</div>"
      ],
      "text/plain": [
       "      id        f0        f1        f2     product\n",
       "0  txEyH  0.705745 -0.497823  1.221170  105.280062\n",
       "1  2acmU  1.334711 -0.340164  4.365080   73.037750\n",
       "2  409Wp  1.022732  0.151990  1.419926   85.265647\n",
       "3  iJLyR -0.032172  0.139033  2.978566  168.620776\n",
       "4  Xdl7t  1.988431  0.155413  4.751769  154.036647"
      ]
     },
     "metadata": {},
     "output_type": "display_data"
    },
    {
     "data": {
      "text/html": [
       "<div>\n",
       "<style scoped>\n",
       "    .dataframe tbody tr th:only-of-type {\n",
       "        vertical-align: middle;\n",
       "    }\n",
       "\n",
       "    .dataframe tbody tr th {\n",
       "        vertical-align: top;\n",
       "    }\n",
       "\n",
       "    .dataframe thead th {\n",
       "        text-align: right;\n",
       "    }\n",
       "</style>\n",
       "<table border=\"1\" class=\"dataframe\">\n",
       "  <thead>\n",
       "    <tr style=\"text-align: right;\">\n",
       "      <th></th>\n",
       "      <th>id</th>\n",
       "      <th>f0</th>\n",
       "      <th>f1</th>\n",
       "      <th>f2</th>\n",
       "      <th>product</th>\n",
       "    </tr>\n",
       "  </thead>\n",
       "  <tbody>\n",
       "    <tr>\n",
       "      <th>0</th>\n",
       "      <td>kBEdx</td>\n",
       "      <td>-15.001348</td>\n",
       "      <td>-8.276000</td>\n",
       "      <td>-0.005876</td>\n",
       "      <td>3.179103</td>\n",
       "    </tr>\n",
       "    <tr>\n",
       "      <th>1</th>\n",
       "      <td>62mP7</td>\n",
       "      <td>14.272088</td>\n",
       "      <td>-3.475083</td>\n",
       "      <td>0.999183</td>\n",
       "      <td>26.953261</td>\n",
       "    </tr>\n",
       "    <tr>\n",
       "      <th>2</th>\n",
       "      <td>vyE1P</td>\n",
       "      <td>6.263187</td>\n",
       "      <td>-5.948386</td>\n",
       "      <td>5.001160</td>\n",
       "      <td>134.766305</td>\n",
       "    </tr>\n",
       "    <tr>\n",
       "      <th>3</th>\n",
       "      <td>KcrkZ</td>\n",
       "      <td>-13.081196</td>\n",
       "      <td>-11.506057</td>\n",
       "      <td>4.999415</td>\n",
       "      <td>137.945408</td>\n",
       "    </tr>\n",
       "    <tr>\n",
       "      <th>4</th>\n",
       "      <td>AHL4O</td>\n",
       "      <td>12.702195</td>\n",
       "      <td>-8.147433</td>\n",
       "      <td>5.004363</td>\n",
       "      <td>134.766305</td>\n",
       "    </tr>\n",
       "  </tbody>\n",
       "</table>\n",
       "</div>"
      ],
      "text/plain": [
       "      id         f0         f1        f2     product\n",
       "0  kBEdx -15.001348  -8.276000 -0.005876    3.179103\n",
       "1  62mP7  14.272088  -3.475083  0.999183   26.953261\n",
       "2  vyE1P   6.263187  -5.948386  5.001160  134.766305\n",
       "3  KcrkZ -13.081196 -11.506057  4.999415  137.945408\n",
       "4  AHL4O  12.702195  -8.147433  5.004363  134.766305"
      ]
     },
     "metadata": {},
     "output_type": "display_data"
    },
    {
     "data": {
      "text/html": [
       "<div>\n",
       "<style scoped>\n",
       "    .dataframe tbody tr th:only-of-type {\n",
       "        vertical-align: middle;\n",
       "    }\n",
       "\n",
       "    .dataframe tbody tr th {\n",
       "        vertical-align: top;\n",
       "    }\n",
       "\n",
       "    .dataframe thead th {\n",
       "        text-align: right;\n",
       "    }\n",
       "</style>\n",
       "<table border=\"1\" class=\"dataframe\">\n",
       "  <thead>\n",
       "    <tr style=\"text-align: right;\">\n",
       "      <th></th>\n",
       "      <th>id</th>\n",
       "      <th>f0</th>\n",
       "      <th>f1</th>\n",
       "      <th>f2</th>\n",
       "      <th>product</th>\n",
       "    </tr>\n",
       "  </thead>\n",
       "  <tbody>\n",
       "    <tr>\n",
       "      <th>0</th>\n",
       "      <td>fwXo0</td>\n",
       "      <td>-1.146987</td>\n",
       "      <td>0.963328</td>\n",
       "      <td>-0.828965</td>\n",
       "      <td>27.758673</td>\n",
       "    </tr>\n",
       "    <tr>\n",
       "      <th>1</th>\n",
       "      <td>WJtFt</td>\n",
       "      <td>0.262778</td>\n",
       "      <td>0.269839</td>\n",
       "      <td>-2.530187</td>\n",
       "      <td>56.069697</td>\n",
       "    </tr>\n",
       "    <tr>\n",
       "      <th>2</th>\n",
       "      <td>ovLUW</td>\n",
       "      <td>0.194587</td>\n",
       "      <td>0.289035</td>\n",
       "      <td>-5.586433</td>\n",
       "      <td>62.871910</td>\n",
       "    </tr>\n",
       "    <tr>\n",
       "      <th>3</th>\n",
       "      <td>q6cA6</td>\n",
       "      <td>2.236060</td>\n",
       "      <td>-0.553760</td>\n",
       "      <td>0.930038</td>\n",
       "      <td>114.572842</td>\n",
       "    </tr>\n",
       "    <tr>\n",
       "      <th>4</th>\n",
       "      <td>WPMUX</td>\n",
       "      <td>-0.515993</td>\n",
       "      <td>1.716266</td>\n",
       "      <td>5.899011</td>\n",
       "      <td>149.600746</td>\n",
       "    </tr>\n",
       "  </tbody>\n",
       "</table>\n",
       "</div>"
      ],
      "text/plain": [
       "      id        f0        f1        f2     product\n",
       "0  fwXo0 -1.146987  0.963328 -0.828965   27.758673\n",
       "1  WJtFt  0.262778  0.269839 -2.530187   56.069697\n",
       "2  ovLUW  0.194587  0.289035 -5.586433   62.871910\n",
       "3  q6cA6  2.236060 -0.553760  0.930038  114.572842\n",
       "4  WPMUX -0.515993  1.716266  5.899011  149.600746"
      ]
     },
     "metadata": {},
     "output_type": "display_data"
    }
   ],
   "source": [
    "display(geo_data_0.head())\n",
    "display(geo_data_1.head())\n",
    "display(geo_data_2.head())"
   ]
  },
  {
   "cell_type": "markdown",
   "metadata": {},
   "source": [
    "Видно что масштаб данных различен, нужно их выровнить перед анализом"
   ]
  },
  {
   "cell_type": "code",
   "execution_count": 10,
   "metadata": {
    "scrolled": false
   },
   "outputs": [
    {
     "name": "stdout",
     "output_type": "stream",
     "text": [
      "<class 'pandas.core.frame.DataFrame'>\n",
      "RangeIndex: 100000 entries, 0 to 99999\n",
      "Data columns (total 5 columns):\n",
      " #   Column   Non-Null Count   Dtype  \n",
      "---  ------   --------------   -----  \n",
      " 0   id       100000 non-null  object \n",
      " 1   f0       100000 non-null  float64\n",
      " 2   f1       100000 non-null  float64\n",
      " 3   f2       100000 non-null  float64\n",
      " 4   product  100000 non-null  float64\n",
      "dtypes: float64(4), object(1)\n",
      "memory usage: 3.8+ MB\n"
     ]
    },
    {
     "data": {
      "text/plain": [
       "None"
      ]
     },
     "metadata": {},
     "output_type": "display_data"
    },
    {
     "name": "stdout",
     "output_type": "stream",
     "text": [
      "<class 'pandas.core.frame.DataFrame'>\n",
      "RangeIndex: 100000 entries, 0 to 99999\n",
      "Data columns (total 5 columns):\n",
      " #   Column   Non-Null Count   Dtype  \n",
      "---  ------   --------------   -----  \n",
      " 0   id       100000 non-null  object \n",
      " 1   f0       100000 non-null  float64\n",
      " 2   f1       100000 non-null  float64\n",
      " 3   f2       100000 non-null  float64\n",
      " 4   product  100000 non-null  float64\n",
      "dtypes: float64(4), object(1)\n",
      "memory usage: 3.8+ MB\n"
     ]
    },
    {
     "data": {
      "text/plain": [
       "None"
      ]
     },
     "metadata": {},
     "output_type": "display_data"
    },
    {
     "name": "stdout",
     "output_type": "stream",
     "text": [
      "<class 'pandas.core.frame.DataFrame'>\n",
      "RangeIndex: 100000 entries, 0 to 99999\n",
      "Data columns (total 5 columns):\n",
      " #   Column   Non-Null Count   Dtype  \n",
      "---  ------   --------------   -----  \n",
      " 0   id       100000 non-null  object \n",
      " 1   f0       100000 non-null  float64\n",
      " 2   f1       100000 non-null  float64\n",
      " 3   f2       100000 non-null  float64\n",
      " 4   product  100000 non-null  float64\n",
      "dtypes: float64(4), object(1)\n",
      "memory usage: 3.8+ MB\n"
     ]
    },
    {
     "data": {
      "text/plain": [
       "None"
      ]
     },
     "metadata": {},
     "output_type": "display_data"
    }
   ],
   "source": [
    "display(geo_data_0.info())\n",
    "display(geo_data_1.info())\n",
    "display(geo_data_2.info())"
   ]
  },
  {
   "cell_type": "markdown",
   "metadata": {},
   "source": [
    "Пропусков нет"
   ]
  },
  {
   "cell_type": "code",
   "execution_count": 11,
   "metadata": {
    "scrolled": false
   },
   "outputs": [
    {
     "data": {
      "text/html": [
       "<div>\n",
       "<style scoped>\n",
       "    .dataframe tbody tr th:only-of-type {\n",
       "        vertical-align: middle;\n",
       "    }\n",
       "\n",
       "    .dataframe tbody tr th {\n",
       "        vertical-align: top;\n",
       "    }\n",
       "\n",
       "    .dataframe thead th {\n",
       "        text-align: right;\n",
       "    }\n",
       "</style>\n",
       "<table border=\"1\" class=\"dataframe\">\n",
       "  <thead>\n",
       "    <tr style=\"text-align: right;\">\n",
       "      <th></th>\n",
       "      <th>f0</th>\n",
       "      <th>f1</th>\n",
       "      <th>f2</th>\n",
       "      <th>product</th>\n",
       "    </tr>\n",
       "  </thead>\n",
       "  <tbody>\n",
       "    <tr>\n",
       "      <th>count</th>\n",
       "      <td>100000.000000</td>\n",
       "      <td>100000.000000</td>\n",
       "      <td>100000.000000</td>\n",
       "      <td>100000.000000</td>\n",
       "    </tr>\n",
       "    <tr>\n",
       "      <th>mean</th>\n",
       "      <td>0.500419</td>\n",
       "      <td>0.250143</td>\n",
       "      <td>2.502647</td>\n",
       "      <td>92.500000</td>\n",
       "    </tr>\n",
       "    <tr>\n",
       "      <th>std</th>\n",
       "      <td>0.871832</td>\n",
       "      <td>0.504433</td>\n",
       "      <td>3.248248</td>\n",
       "      <td>44.288691</td>\n",
       "    </tr>\n",
       "    <tr>\n",
       "      <th>min</th>\n",
       "      <td>-1.408605</td>\n",
       "      <td>-0.848218</td>\n",
       "      <td>-12.088328</td>\n",
       "      <td>0.000000</td>\n",
       "    </tr>\n",
       "    <tr>\n",
       "      <th>25%</th>\n",
       "      <td>-0.072580</td>\n",
       "      <td>-0.200881</td>\n",
       "      <td>0.287748</td>\n",
       "      <td>56.497507</td>\n",
       "    </tr>\n",
       "    <tr>\n",
       "      <th>50%</th>\n",
       "      <td>0.502360</td>\n",
       "      <td>0.250252</td>\n",
       "      <td>2.515969</td>\n",
       "      <td>91.849972</td>\n",
       "    </tr>\n",
       "    <tr>\n",
       "      <th>75%</th>\n",
       "      <td>1.073581</td>\n",
       "      <td>0.700646</td>\n",
       "      <td>4.715088</td>\n",
       "      <td>128.564089</td>\n",
       "    </tr>\n",
       "    <tr>\n",
       "      <th>max</th>\n",
       "      <td>2.362331</td>\n",
       "      <td>1.343769</td>\n",
       "      <td>16.003790</td>\n",
       "      <td>185.364347</td>\n",
       "    </tr>\n",
       "  </tbody>\n",
       "</table>\n",
       "</div>"
      ],
      "text/plain": [
       "                  f0             f1             f2        product\n",
       "count  100000.000000  100000.000000  100000.000000  100000.000000\n",
       "mean        0.500419       0.250143       2.502647      92.500000\n",
       "std         0.871832       0.504433       3.248248      44.288691\n",
       "min        -1.408605      -0.848218     -12.088328       0.000000\n",
       "25%        -0.072580      -0.200881       0.287748      56.497507\n",
       "50%         0.502360       0.250252       2.515969      91.849972\n",
       "75%         1.073581       0.700646       4.715088     128.564089\n",
       "max         2.362331       1.343769      16.003790     185.364347"
      ]
     },
     "metadata": {},
     "output_type": "display_data"
    },
    {
     "data": {
      "text/html": [
       "<div>\n",
       "<style scoped>\n",
       "    .dataframe tbody tr th:only-of-type {\n",
       "        vertical-align: middle;\n",
       "    }\n",
       "\n",
       "    .dataframe tbody tr th {\n",
       "        vertical-align: top;\n",
       "    }\n",
       "\n",
       "    .dataframe thead th {\n",
       "        text-align: right;\n",
       "    }\n",
       "</style>\n",
       "<table border=\"1\" class=\"dataframe\">\n",
       "  <thead>\n",
       "    <tr style=\"text-align: right;\">\n",
       "      <th></th>\n",
       "      <th>f0</th>\n",
       "      <th>f1</th>\n",
       "      <th>f2</th>\n",
       "      <th>product</th>\n",
       "    </tr>\n",
       "  </thead>\n",
       "  <tbody>\n",
       "    <tr>\n",
       "      <th>count</th>\n",
       "      <td>100000.000000</td>\n",
       "      <td>100000.000000</td>\n",
       "      <td>100000.000000</td>\n",
       "      <td>100000.000000</td>\n",
       "    </tr>\n",
       "    <tr>\n",
       "      <th>mean</th>\n",
       "      <td>1.141296</td>\n",
       "      <td>-4.796579</td>\n",
       "      <td>2.494541</td>\n",
       "      <td>68.825000</td>\n",
       "    </tr>\n",
       "    <tr>\n",
       "      <th>std</th>\n",
       "      <td>8.965932</td>\n",
       "      <td>5.119872</td>\n",
       "      <td>1.703572</td>\n",
       "      <td>45.944423</td>\n",
       "    </tr>\n",
       "    <tr>\n",
       "      <th>min</th>\n",
       "      <td>-31.609576</td>\n",
       "      <td>-26.358598</td>\n",
       "      <td>-0.018144</td>\n",
       "      <td>0.000000</td>\n",
       "    </tr>\n",
       "    <tr>\n",
       "      <th>25%</th>\n",
       "      <td>-6.298551</td>\n",
       "      <td>-8.267985</td>\n",
       "      <td>1.000021</td>\n",
       "      <td>26.953261</td>\n",
       "    </tr>\n",
       "    <tr>\n",
       "      <th>50%</th>\n",
       "      <td>1.153055</td>\n",
       "      <td>-4.813172</td>\n",
       "      <td>2.011479</td>\n",
       "      <td>57.085625</td>\n",
       "    </tr>\n",
       "    <tr>\n",
       "      <th>75%</th>\n",
       "      <td>8.621015</td>\n",
       "      <td>-1.332816</td>\n",
       "      <td>3.999904</td>\n",
       "      <td>107.813044</td>\n",
       "    </tr>\n",
       "    <tr>\n",
       "      <th>max</th>\n",
       "      <td>29.421755</td>\n",
       "      <td>18.734063</td>\n",
       "      <td>5.019721</td>\n",
       "      <td>137.945408</td>\n",
       "    </tr>\n",
       "  </tbody>\n",
       "</table>\n",
       "</div>"
      ],
      "text/plain": [
       "                  f0             f1             f2        product\n",
       "count  100000.000000  100000.000000  100000.000000  100000.000000\n",
       "mean        1.141296      -4.796579       2.494541      68.825000\n",
       "std         8.965932       5.119872       1.703572      45.944423\n",
       "min       -31.609576     -26.358598      -0.018144       0.000000\n",
       "25%        -6.298551      -8.267985       1.000021      26.953261\n",
       "50%         1.153055      -4.813172       2.011479      57.085625\n",
       "75%         8.621015      -1.332816       3.999904     107.813044\n",
       "max        29.421755      18.734063       5.019721     137.945408"
      ]
     },
     "metadata": {},
     "output_type": "display_data"
    },
    {
     "data": {
      "text/html": [
       "<div>\n",
       "<style scoped>\n",
       "    .dataframe tbody tr th:only-of-type {\n",
       "        vertical-align: middle;\n",
       "    }\n",
       "\n",
       "    .dataframe tbody tr th {\n",
       "        vertical-align: top;\n",
       "    }\n",
       "\n",
       "    .dataframe thead th {\n",
       "        text-align: right;\n",
       "    }\n",
       "</style>\n",
       "<table border=\"1\" class=\"dataframe\">\n",
       "  <thead>\n",
       "    <tr style=\"text-align: right;\">\n",
       "      <th></th>\n",
       "      <th>f0</th>\n",
       "      <th>f1</th>\n",
       "      <th>f2</th>\n",
       "      <th>product</th>\n",
       "    </tr>\n",
       "  </thead>\n",
       "  <tbody>\n",
       "    <tr>\n",
       "      <th>count</th>\n",
       "      <td>100000.000000</td>\n",
       "      <td>100000.000000</td>\n",
       "      <td>100000.000000</td>\n",
       "      <td>100000.000000</td>\n",
       "    </tr>\n",
       "    <tr>\n",
       "      <th>mean</th>\n",
       "      <td>0.002023</td>\n",
       "      <td>-0.002081</td>\n",
       "      <td>2.495128</td>\n",
       "      <td>95.000000</td>\n",
       "    </tr>\n",
       "    <tr>\n",
       "      <th>std</th>\n",
       "      <td>1.732045</td>\n",
       "      <td>1.730417</td>\n",
       "      <td>3.473445</td>\n",
       "      <td>44.749921</td>\n",
       "    </tr>\n",
       "    <tr>\n",
       "      <th>min</th>\n",
       "      <td>-8.760004</td>\n",
       "      <td>-7.084020</td>\n",
       "      <td>-11.970335</td>\n",
       "      <td>0.000000</td>\n",
       "    </tr>\n",
       "    <tr>\n",
       "      <th>25%</th>\n",
       "      <td>-1.162288</td>\n",
       "      <td>-1.174820</td>\n",
       "      <td>0.130359</td>\n",
       "      <td>59.450441</td>\n",
       "    </tr>\n",
       "    <tr>\n",
       "      <th>50%</th>\n",
       "      <td>0.009424</td>\n",
       "      <td>-0.009482</td>\n",
       "      <td>2.484236</td>\n",
       "      <td>94.925613</td>\n",
       "    </tr>\n",
       "    <tr>\n",
       "      <th>75%</th>\n",
       "      <td>1.158535</td>\n",
       "      <td>1.163678</td>\n",
       "      <td>4.858794</td>\n",
       "      <td>130.595027</td>\n",
       "    </tr>\n",
       "    <tr>\n",
       "      <th>max</th>\n",
       "      <td>7.238262</td>\n",
       "      <td>7.844801</td>\n",
       "      <td>16.739402</td>\n",
       "      <td>190.029838</td>\n",
       "    </tr>\n",
       "  </tbody>\n",
       "</table>\n",
       "</div>"
      ],
      "text/plain": [
       "                  f0             f1             f2        product\n",
       "count  100000.000000  100000.000000  100000.000000  100000.000000\n",
       "mean        0.002023      -0.002081       2.495128      95.000000\n",
       "std         1.732045       1.730417       3.473445      44.749921\n",
       "min        -8.760004      -7.084020     -11.970335       0.000000\n",
       "25%        -1.162288      -1.174820       0.130359      59.450441\n",
       "50%         0.009424      -0.009482       2.484236      94.925613\n",
       "75%         1.158535       1.163678       4.858794     130.595027\n",
       "max         7.238262       7.844801      16.739402     190.029838"
      ]
     },
     "metadata": {},
     "output_type": "display_data"
    }
   ],
   "source": [
    "display(geo_data_0.describe())\n",
    "display(geo_data_1.describe())\n",
    "display(geo_data_2.describe())"
   ]
  },
  {
   "cell_type": "markdown",
   "metadata": {},
   "source": [
    "Медиана почти ровна средней вовсех фреймах, значит выбросов нет"
   ]
  },
  {
   "cell_type": "markdown",
   "metadata": {},
   "source": [
    "Рассмотрим корреляцию признаков"
   ]
  },
  {
   "cell_type": "code",
   "execution_count": 12,
   "metadata": {},
   "outputs": [
    {
     "data": {
      "text/plain": [
       "<AxesSubplot:>"
      ]
     },
     "execution_count": 12,
     "metadata": {},
     "output_type": "execute_result"
    },
    {
     "data": {
      "image/png": "[encoded data removed]",
      "text/plain": [
       "<Figure size 432x288 with 2 Axes>"
      ]
     },
     "metadata": {
      "needs_background": "light"
     },
     "output_type": "display_data"
    }
   ],
   "source": [
    "matrix = np.triu(geo_data_0.corr())\n",
    "sns.heatmap(geo_data_0.corr(),annot = True, mask=matrix)"
   ]
  },
  {
   "cell_type": "code",
   "execution_count": 13,
   "metadata": {},
   "outputs": [
    {
     "data": {
      "text/plain": [
       "<AxesSubplot:>"
      ]
     },
     "execution_count": 13,
     "metadata": {},
     "output_type": "execute_result"
    },
    {
     "data": {
      "image/png": "[encoded data removed]",
      "text/plain": [
       "<Figure size 432x288 with 2 Axes>"
      ]
     },
     "metadata": {
      "needs_background": "light"
     },
     "output_type": "display_data"
    }
   ],
   "source": [
    "matrix = np.triu(geo_data_1.corr())\n",
    "sns.heatmap(geo_data_1.corr(),annot = True, mask=matrix)"
   ]
  },
  {
   "cell_type": "code",
   "execution_count": 14,
   "metadata": {
    "scrolled": false
   },
   "outputs": [
    {
     "data": {
      "text/plain": [
       "<AxesSubplot:>"
      ]
     },
     "execution_count": 14,
     "metadata": {},
     "output_type": "execute_result"
    },
    {
     "data": {
      "image/png": "[encoded data removed]",
      "text/plain": [
       "<Figure size 432x288 with 2 Axes>"
      ]
     },
     "metadata": {
      "needs_background": "light"
     },
     "output_type": "display_data"
    }
   ],
   "source": [
    "matrix = np.triu(geo_data_2.corr())\n",
    "sns.heatmap(geo_data_2.corr(),annot = True, mask=matrix)"
   ]
  },
  {
   "cell_type": "markdown",
   "metadata": {},
   "source": [
    "Видно что корреляции между признаками нет, есть прямая зависимость во втором регионе от признака f2, это значит что во втором регионе количество добычи напрямую зависит от признака f2"
   ]
  },
  {
   "cell_type": "markdown",
   "metadata": {},
   "source": [
    "Для задачи столбцы с id нам не нужны удалим их."
   ]
  },
  {
   "cell_type": "code",
   "execution_count": 15,
   "metadata": {},
   "outputs": [],
   "source": [
    "geo_data_0 = geo_data_0.drop('id', axis=1)\n",
    "geo_data_1 = geo_data_1.drop('id', axis=1)\n",
    "geo_data_2 = geo_data_2.drop('id', axis=1)"
   ]
  },
  {
   "cell_type": "code",
   "execution_count": 16,
   "metadata": {
    "scrolled": true
   },
   "outputs": [
    {
     "data": {
      "text/html": [
       "<div>\n",
       "<style scoped>\n",
       "    .dataframe tbody tr th:only-of-type {\n",
       "        vertical-align: middle;\n",
       "    }\n",
       "\n",
       "    .dataframe tbody tr th {\n",
       "        vertical-align: top;\n",
       "    }\n",
       "\n",
       "    .dataframe thead th {\n",
       "        text-align: right;\n",
       "    }\n",
       "</style>\n",
       "<table border=\"1\" class=\"dataframe\">\n",
       "  <thead>\n",
       "    <tr style=\"text-align: right;\">\n",
       "      <th></th>\n",
       "      <th>f0</th>\n",
       "      <th>f1</th>\n",
       "      <th>f2</th>\n",
       "      <th>product</th>\n",
       "    </tr>\n",
       "  </thead>\n",
       "  <tbody>\n",
       "    <tr>\n",
       "      <th>0</th>\n",
       "      <td>0.705745</td>\n",
       "      <td>-0.497823</td>\n",
       "      <td>1.221170</td>\n",
       "      <td>105.280062</td>\n",
       "    </tr>\n",
       "    <tr>\n",
       "      <th>1</th>\n",
       "      <td>1.334711</td>\n",
       "      <td>-0.340164</td>\n",
       "      <td>4.365080</td>\n",
       "      <td>73.037750</td>\n",
       "    </tr>\n",
       "    <tr>\n",
       "      <th>2</th>\n",
       "      <td>1.022732</td>\n",
       "      <td>0.151990</td>\n",
       "      <td>1.419926</td>\n",
       "      <td>85.265647</td>\n",
       "    </tr>\n",
       "    <tr>\n",
       "      <th>3</th>\n",
       "      <td>-0.032172</td>\n",
       "      <td>0.139033</td>\n",
       "      <td>2.978566</td>\n",
       "      <td>168.620776</td>\n",
       "    </tr>\n",
       "    <tr>\n",
       "      <th>4</th>\n",
       "      <td>1.988431</td>\n",
       "      <td>0.155413</td>\n",
       "      <td>4.751769</td>\n",
       "      <td>154.036647</td>\n",
       "    </tr>\n",
       "  </tbody>\n",
       "</table>\n",
       "</div>"
      ],
      "text/plain": [
       "         f0        f1        f2     product\n",
       "0  0.705745 -0.497823  1.221170  105.280062\n",
       "1  1.334711 -0.340164  4.365080   73.037750\n",
       "2  1.022732  0.151990  1.419926   85.265647\n",
       "3 -0.032172  0.139033  2.978566  168.620776\n",
       "4  1.988431  0.155413  4.751769  154.036647"
      ]
     },
     "execution_count": 16,
     "metadata": {},
     "output_type": "execute_result"
    }
   ],
   "source": [
    "geo_data_0.head()"
   ]
  },
  {
   "cell_type": "markdown",
   "metadata": {},
   "source": [
    "## Обучение и проверка модели"
   ]
  },
  {
   "cell_type": "code",
   "execution_count": 17,
   "metadata": {},
   "outputs": [],
   "source": [
    "#функция обработки данных\n",
    "def prepare (geo_data_reg):\n",
    "    features = geo_data_reg.drop('product',axis=1)\n",
    "    target = geo_data_reg['product']\n",
    "    features_train, features_valid, target_train, target_valid = train_test_split(features, target,\n",
    "    \n",
    "                                                                                  test_size=0.25, random_state = 12345)\n",
    "    #масштабирование\n",
    "    numeric = ['f0','f1','f2']\n",
    "    scaler = StandardScaler()\n",
    "    scaler.fit(features_train[numeric])\n",
    "    \n",
    "    features_train[numeric] = scaler.transform(features_train[numeric])\n",
    "    features_valid[numeric] = scaler.transform(features_valid[numeric])\n",
    "    \n",
    "    return features_train, features_valid, target_train, target_valid"
   ]
  },
  {
   "cell_type": "code",
   "execution_count": 18,
   "metadata": {
    "scrolled": false
   },
   "outputs": [],
   "source": [
    "features_train_0, features_valid_0, target_train_0, target_valid_0 = prepare(geo_data_0)\n",
    "features_train_1, features_valid_1, target_train_1, target_valid_1 = prepare(geo_data_1)\n",
    "features_train_2, features_valid_2, target_train_2, target_valid_2 = prepare(geo_data_2)"
   ]
  },
  {
   "cell_type": "code",
   "execution_count": 19,
   "metadata": {
    "scrolled": true
   },
   "outputs": [
    {
     "name": "stdout",
     "output_type": "stream",
     "text": [
      "(75000, 3)\n",
      "(25000, 3)\n",
      "(75000,)\n",
      "(25000,)\n"
     ]
    }
   ],
   "source": [
    "#проверка функции\n",
    "print(features_train_0.shape)\n",
    "print(features_valid_0.shape)\n",
    "print(target_train_0.shape)\n",
    "print(target_valid_0.shape)"
   ]
  },
  {
   "cell_type": "code",
   "execution_count": 20,
   "metadata": {},
   "outputs": [
    {
     "data": {
      "text/html": [
       "<div>\n",
       "<style scoped>\n",
       "    .dataframe tbody tr th:only-of-type {\n",
       "        vertical-align: middle;\n",
       "    }\n",
       "\n",
       "    .dataframe tbody tr th {\n",
       "        vertical-align: top;\n",
       "    }\n",
       "\n",
       "    .dataframe thead th {\n",
       "        text-align: right;\n",
       "    }\n",
       "</style>\n",
       "<table border=\"1\" class=\"dataframe\">\n",
       "  <thead>\n",
       "    <tr style=\"text-align: right;\">\n",
       "      <th></th>\n",
       "      <th>f0</th>\n",
       "      <th>f1</th>\n",
       "      <th>f2</th>\n",
       "    </tr>\n",
       "  </thead>\n",
       "  <tbody>\n",
       "    <tr>\n",
       "      <th>count</th>\n",
       "      <td>7.500000e+04</td>\n",
       "      <td>7.500000e+04</td>\n",
       "      <td>7.500000e+04</td>\n",
       "    </tr>\n",
       "    <tr>\n",
       "      <th>mean</th>\n",
       "      <td>1.680907e-16</td>\n",
       "      <td>-3.474554e-17</td>\n",
       "      <td>6.442254e-18</td>\n",
       "    </tr>\n",
       "    <tr>\n",
       "      <th>std</th>\n",
       "      <td>1.000007e+00</td>\n",
       "      <td>1.000007e+00</td>\n",
       "      <td>1.000007e+00</td>\n",
       "    </tr>\n",
       "    <tr>\n",
       "      <th>min</th>\n",
       "      <td>-2.186288e+00</td>\n",
       "      <td>-2.178269e+00</td>\n",
       "      <td>-3.890945e+00</td>\n",
       "    </tr>\n",
       "    <tr>\n",
       "      <th>25%</th>\n",
       "      <td>-6.575544e-01</td>\n",
       "      <td>-8.925344e-01</td>\n",
       "      <td>-6.799576e-01</td>\n",
       "    </tr>\n",
       "    <tr>\n",
       "      <th>50%</th>\n",
       "      <td>1.878842e-03</td>\n",
       "      <td>-7.407961e-04</td>\n",
       "      <td>4.288679e-03</td>\n",
       "    </tr>\n",
       "    <tr>\n",
       "      <th>75%</th>\n",
       "      <td>6.571176e-01</td>\n",
       "      <td>8.928514e-01</td>\n",
       "      <td>6.829752e-01</td>\n",
       "    </tr>\n",
       "    <tr>\n",
       "      <th>max</th>\n",
       "      <td>2.139081e+00</td>\n",
       "      <td>2.169192e+00</td>\n",
       "      <td>4.153623e+00</td>\n",
       "    </tr>\n",
       "  </tbody>\n",
       "</table>\n",
       "</div>"
      ],
      "text/plain": [
       "                 f0            f1            f2\n",
       "count  7.500000e+04  7.500000e+04  7.500000e+04\n",
       "mean   1.680907e-16 -3.474554e-17  6.442254e-18\n",
       "std    1.000007e+00  1.000007e+00  1.000007e+00\n",
       "min   -2.186288e+00 -2.178269e+00 -3.890945e+00\n",
       "25%   -6.575544e-01 -8.925344e-01 -6.799576e-01\n",
       "50%    1.878842e-03 -7.407961e-04  4.288679e-03\n",
       "75%    6.571176e-01  8.928514e-01  6.829752e-01\n",
       "max    2.139081e+00  2.169192e+00  4.153623e+00"
      ]
     },
     "execution_count": 20,
     "metadata": {},
     "output_type": "execute_result"
    }
   ],
   "source": [
    "features_train_0.describe() #проверка масштабирования"
   ]
  },
  {
   "cell_type": "code",
   "execution_count": 21,
   "metadata": {},
   "outputs": [],
   "source": [
    "# функция для получения результатов моделирования\n",
    "def modeling(features_train, features_valid, target_train, target_valid):\n",
    "    \n",
    "    model = LinearRegression() \n",
    "    model.fit(features_train, target_train) \n",
    "    predictions_valid = pd.Series(model.predict(features_valid)) \n",
    "\n",
    "    rmse = mean_squared_error(target_valid, predictions_valid)**0.5 # считаем значение метрики RMSE\n",
    "    mean_pred_pr = predictions_valid.mean()\n",
    "    \n",
    "    return predictions_valid, rmse, mean_pred_pr"
   ]
  },
  {
   "cell_type": "code",
   "execution_count": 22,
   "metadata": {},
   "outputs": [
    {
     "name": "stdout",
     "output_type": "stream",
     "text": [
      "Средний запас региона 1 предсказания равен 92.59, а RMSE 37.58\n",
      "Средний запас региона 2 предсказания равен 68.73, а RMSE 0.89\n",
      "Средний запас региона 3 предсказания равен 94.97, а RMSE 40.03\n"
     ]
    }
   ],
   "source": [
    "# данные по всем регионам\n",
    "predictions_valid_0, rmse_0, mean_pred_pr_0 = modeling(features_train_0, features_valid_0, target_train_0, target_valid_0)\n",
    "predictions_valid_1, rmse_1, mean_pred_pr_1 = modeling(features_train_1, features_valid_1, target_train_1, target_valid_1)\n",
    "predictions_valid_2, rmse_2, mean_pred_pr_2 = modeling(features_train_2, features_valid_2, target_train_2, target_valid_2)\n",
    "\n",
    "print('Средний запас региона 1 предсказания равен {:.2f}, а RMSE {:.2f}'.format(mean_pred_pr_0, rmse_0))\n",
    "print('Средний запас региона 2 предсказания равен {:.2f}, а RMSE {:.2f}'.format(mean_pred_pr_1, rmse_1))\n",
    "print('Средний запас региона 3 предсказания равен {:.2f}, а RMSE {:.2f}'.format(mean_pred_pr_2, rmse_2))"
   ]
  },
  {
   "cell_type": "code",
   "execution_count": 23,
   "metadata": {
    "scrolled": false
   },
   "outputs": [
    {
     "name": "stdout",
     "output_type": "stream",
     "text": [
      "Истинный средний запас региона 1 равен 92.08\n",
      "Истинный средний запас региона 2 равен 68.72\n",
      "Истинный средний запас региона 3 равен 94.88\n"
     ]
    }
   ],
   "source": [
    "print('Истинный средний запас региона 1 равен {:.2f}'.format(target_valid_0.mean()))\n",
    "print('Истинный средний запас региона 2 равен {:.2f}'.format(target_valid_1.mean()))\n",
    "print('Истинный средний запас региона 3 равен {:.2f}'.format(target_valid_2.mean()))"
   ]
  },
  {
   "cell_type": "markdown",
   "metadata": {},
   "source": [
    "#### Вывод:\n",
    "1 Все три модели показывают верные предсказания, отличия не значительные от целевого признака.\n",
    "\n",
    "2 Наилуший прогноз получили на второй моделе так как признак f2 имеет прямую зависимость с целевым признаком.\n",
    "\n",
    "3 Модели 1 и 3 предсказывают примерно одинаков согласно RMSE\n"
   ]
  },
  {
   "cell_type": "markdown",
   "metadata": {},
   "source": [
    "## Подготовка к расчёту прибыли"
   ]
  },
  {
   "cell_type": "markdown",
   "metadata": {},
   "source": [
    "#### Ключевые переменные"
   ]
  },
  {
   "cell_type": "code",
   "execution_count": 24,
   "metadata": {},
   "outputs": [],
   "source": [
    "explore_count = 500 #кол-во исследуемых точек\n",
    "best_count = 200 #кол-во лучших точек\n",
    "budget = 10000 #бюджет в млн\n",
    "revenue_bar = 0.45 #доход с 1 единийы в 1000 бар\n",
    "loss_probability = 0.025 #макс вероятность убытков\n",
    "bootstrap = 1000 #количество выборок"
   ]
  },
  {
   "cell_type": "markdown",
   "metadata": {},
   "source": [
    "<div class=\"alert alert-block alert-info\">\n",
    "    \n",
    "<b>Совет:</b> Константы принято записывать в Верхнем регистре)\n",
    "    "
   ]
  },
  {
   "cell_type": "markdown",
   "metadata": {},
   "source": [
    "#### Расчет объема сырья для безубытка"
   ]
  },
  {
   "cell_type": "code",
   "execution_count": 25,
   "metadata": {
    "scrolled": true
   },
   "outputs": [
    {
     "name": "stdout",
     "output_type": "stream",
     "text": [
      "Объем сырья для безубыточной выработки 1 скважины в тыс. баррелей 111.11\n"
     ]
    }
   ],
   "source": [
    "budget_per_borehole = budget / best_count\n",
    "product_volume = budget_per_borehole / revenue_bar\n",
    "\n",
    "print('Объем сырья для безубыточной выработки 1 скважины в тыс. баррелей {:.2f}'.format(product_volume))"
   ]
  },
  {
   "cell_type": "markdown",
   "metadata": {},
   "source": [
    "Среднее значение выроботки со скважин менее необходимого минимума для безубытка, по этому нельзя выбрат скважины случайным образом.\n",
    "\n"
   ]
  },
  {
   "cell_type": "markdown",
   "metadata": {},
   "source": [
    "#### Выбираем скважины с максимальными значениями предсказаний."
   ]
  },
  {
   "cell_type": "code",
   "execution_count": 26,
   "metadata": {},
   "outputs": [],
   "source": [
    "def max_profit(target_valid, predictions_valid):\n",
    "    pred_choice = predictions_valid.sort_values(ascending=False).head(200) \n",
    "    target_choice = target_valid.reset_index(drop=True)[pred_choice.index] \n",
    "    income = target_choice.sum() * revenue_bar # доход в млн. рублей с 200 скважин\n",
    "    return income"
   ]
  },
  {
   "cell_type": "code",
   "execution_count": 27,
   "metadata": {
    "scrolled": true
   },
   "outputs": [
    {
     "name": "stdout",
     "output_type": "stream",
     "text": [
      "Прибыль в с 200 лучших по предсказаниям модели скважин составит:\n",
      "для региона 1 - 3320.83 млн. руб.\n",
      "для региона 2 - 2415.09 млн. руб.\n",
      "для региона 3 - 2710.35 млн. руб.\n"
     ]
    }
   ],
   "source": [
    "print('Прибыль в с 200 лучших по предсказаниям модели скважин составит:')\n",
    "print('для региона 1 - {:.2f} млн. руб.'.format(max_profit(target_valid_0, predictions_valid_0) - budget))\n",
    "print('для региона 2 - {:.2f} млн. руб.'.format(max_profit(target_valid_1, predictions_valid_1) - budget))\n",
    "print('для региона 3 - {:.2f} млн. руб.'.format(max_profit(target_valid_2, predictions_valid_2) - budget))"
   ]
  },
  {
   "cell_type": "markdown",
   "metadata": {},
   "source": [
    "Прибыль с лучших скважин получилась от 2.4 до 3.3 млрд. , но такие значения мы можем получить разведав все скважины, по этому будем брать 500 случайных указанных в ТЗ"
   ]
  },
  {
   "cell_type": "markdown",
   "metadata": {},
   "source": [
    "## Расчёт прибыли и рисков "
   ]
  },
  {
   "cell_type": "code",
   "execution_count": 28,
   "metadata": {},
   "outputs": [],
   "source": [
    "def revenue (target_valid, predictions_valid, best_count):\n",
    "    pred_choice = predictions_valid.sort_values(ascending=False) \n",
    "    \n",
    "    \n",
    "    target_choice = target_valid[pred_choice.index][:best_count]\n",
    "    income = target_choice.sum() * revenue_bar \n",
    "    return income"
   ]
  },
  {
   "cell_type": "code",
   "execution_count": 29,
   "metadata": {},
   "outputs": [],
   "source": [
    "def income_distribution (predictions_valid, target_valid, bootstrap, explore_count):\n",
    "    state = np.random.RandomState(12345)\n",
    "    \n",
    "    count = 0 \n",
    "\n",
    "    values = [] \n",
    "    \n",
    "    for i in range(bootstrap): \n",
    "        target_subsample = target_valid.reset_index(drop=True).sample(explore_count, replace=True, random_state=state)\n",
    "        probs_subsample = predictions_valid[target_subsample.index]\n",
    "        rev = revenue(target_subsample, probs_subsample, best_count) - budget\n",
    "        values.append(rev)\n",
    "        \n",
    "        if rev < 0:\n",
    "            count +=1\n",
    "\n",
    "    values = pd.Series(values)\n",
    "    \n",
    "    mean = values.mean()\n",
    "    print(\"Средняя выручка: {:.2f} \".format(mean), 'млн. рублей')\n",
    "    \n",
    "    confidence_interval = st.t.interval(0.95, len(values)-1, values.mean(), np.std(values, ddof=1))\n",
    "    print(\"95%-ый доверительный интервал:\", confidence_interval)\n",
    "    \n",
    "    pvalue = 1. * count / bootstrap\n",
    "    if pvalue < loss_probability:\n",
    "        print(\"Вероятность убытков равна {:.2%} и меньше допустимой, регион подходит по критериям\".format(pvalue))\n",
    "    else:\n",
    "        print(\"Вероятность убытков равна {:.2%} и больше допустимой, регион не подходит по критериям\".format(pvalue))    \n",
    "    \n",
    "    plt.figure()\n",
    "    _ = plt.hist(values,  bins=100)\n",
    "    \n",
    "    x_5, y_5 = [confidence_interval[0],confidence_interval[0]], [0, 30]\n",
    "    x_95, y_95 = [confidence_interval[1],confidence_interval[1]], [0, 30]\n",
    "    plt.title('Гистограмма распределения прибыли')\n",
    "    plt.xlabel('Прибыль в млн. рублей')\n",
    "    plt.plot(x_5, y_5, x_95, y_95)"
   ]
  },
  {
   "cell_type": "code",
   "execution_count": 32,
   "metadata": {
    "scrolled": false
   },
   "outputs": [
    {
     "name": "stdout",
     "output_type": "stream",
     "text": [
      "Первый регион 500 случайных выборок\n",
      "Средняя выручка: 425.94  млн. рублей\n",
      "95%-ый доверительный интервал: (-118.17308158673279, 970.0501354079182)\n",
      "Вероятность убытков равна 6.00% и больше допустимой, регион не подходит по критериям\n"
     ]
    },
    {
     "data": {
      "image/png": "[encoded data removed]",
      "text/plain": [
       "<Figure size 432x288 with 1 Axes>"
      ]
     },
     "metadata": {
      "needs_background": "light"
     },
     "output_type": "display_data"
    }
   ],
   "source": [
    "print('Первый регион 500 случайных выборок')\n",
    "income_distribution (predictions_valid_0, target_valid_0, bootstrap, explore_count)"
   ]
  },
  {
   "cell_type": "code",
   "execution_count": 33,
   "metadata": {},
   "outputs": [
    {
     "name": "stdout",
     "output_type": "stream",
     "text": [
      "Второй регион 500 случайных выборок\n",
      "Средняя выручка: 515.22  млн. рублей\n",
      "95%-ый доверительный интервал: (85.11198847686433, 945.333558409716)\n",
      "Вероятность убытков равна 1.00% и меньше допустимой, регион подходит по критериям\n"
     ]
    },
    {
     "data": {
      "image/png": "[encoded data removed]",
      "text/plain": [
       "<Figure size 432x288 with 1 Axes>"
      ]
     },
     "metadata": {
      "needs_background": "light"
     },
     "output_type": "display_data"
    }
   ],
   "source": [
    "print('Второй регион 500 случайных выборок')\n",
    "income_distribution (predictions_valid_1, target_valid_1, bootstrap, explore_count)"
   ]
  },
  {
   "cell_type": "code",
   "execution_count": 34,
   "metadata": {
    "scrolled": false
   },
   "outputs": [
    {
     "name": "stdout",
     "output_type": "stream",
     "text": [
      "Второй регион 500 случайных выборок\n",
      "Средняя выручка: 435.01  млн. рублей\n",
      "95%-ый доверительный интервал: (-120.12349557730545, 990.1402211428172)\n",
      "Вероятность убытков равна 6.40% и больше допустимой, регион не подходит по критериям\n"
     ]
    },
    {
     "data": {
      "image/png": "[encoded data removed]",
      "text/plain": [
       "<Figure size 432x288 with 1 Axes>"
      ]
     },
     "metadata": {
      "needs_background": "light"
     },
     "output_type": "display_data"
    }
   ],
   "source": [
    "print('Второй регион 500 случайных выборок')\n",
    "income_distribution (predictions_valid_2, target_valid_2, bootstrap, explore_count)"
   ]
  },
  {
   "cell_type": "markdown",
   "metadata": {},
   "source": [
    "## Вывод\n",
    "1. При случайном выборе 500 скважин потенцеальная прибыль падает. Рекомендуем заказчику пересмотреть бюджет на исследовние месторождений в большую сторону.\n",
    "\n",
    "2. Все три региона являются потенциально прибыльными судя по средней выручке.\n",
    "\n",
    "3. 1-й и 3-й регион имеют высокий процент вероятности убытков и по этому не подходят.\n",
    "\n",
    "4. 2-й регион подходит под все критери  ТЗ, рекомендуется проводить дальнейшее освоении этого региона."
   ]
  }
 ],
 "metadata": {
  "ExecuteTimeLog": [
   {
    "duration": 417,
    "start_time": "2022-06-10T13:44:23.098Z"
   },
   {
    "duration": 1719,
    "start_time": "2022-06-10T13:45:20.940Z"
   },
   {
    "duration": 28,
    "start_time": "2022-06-10T13:45:43.882Z"
   },
   {
    "duration": 22,
    "start_time": "2022-06-10T13:46:46.386Z"
   },
   {
    "duration": 55,
    "start_time": "2022-06-10T14:06:20.570Z"
   },
   {
    "duration": 77,
    "start_time": "2022-06-10T14:07:13.374Z"
   },
   {
    "duration": 109,
    "start_time": "2022-06-10T14:07:24.425Z"
   },
   {
    "duration": 28,
    "start_time": "2022-06-10T14:09:35.088Z"
   },
   {
    "duration": 16,
    "start_time": "2022-06-10T14:19:31.077Z"
   },
   {
    "duration": 10,
    "start_time": "2022-06-10T14:19:43.722Z"
   },
   {
    "duration": 9,
    "start_time": "2022-06-10T14:19:47.658Z"
   },
   {
    "duration": 29,
    "start_time": "2022-06-10T14:21:12.272Z"
   },
   {
    "duration": 12,
    "start_time": "2022-06-13T07:54:08.067Z"
   },
   {
    "duration": 3,
    "start_time": "2022-06-13T07:54:13.471Z"
   },
   {
    "duration": 4,
    "start_time": "2022-06-13T10:36:54.708Z"
   },
   {
    "duration": 413,
    "start_time": "2022-06-13T10:38:14.677Z"
   },
   {
    "duration": 1653,
    "start_time": "2022-06-13T10:38:15.260Z"
   },
   {
    "duration": 29,
    "start_time": "2022-06-13T10:38:16.915Z"
   },
   {
    "duration": 45,
    "start_time": "2022-06-13T10:38:21.009Z"
   },
   {
    "duration": 99,
    "start_time": "2022-06-13T10:38:22.587Z"
   },
   {
    "duration": 16,
    "start_time": "2022-06-13T10:38:24.292Z"
   },
   {
    "duration": 8,
    "start_time": "2022-06-13T10:38:24.784Z"
   },
   {
    "duration": 4,
    "start_time": "2022-06-13T10:38:25.937Z"
   },
   {
    "duration": 64,
    "start_time": "2022-06-13T10:38:26.773Z"
   },
   {
    "duration": 12,
    "start_time": "2022-06-13T10:38:49.933Z"
   },
   {
    "duration": 5,
    "start_time": "2022-06-13T10:39:11.024Z"
   },
   {
    "duration": 13,
    "start_time": "2022-06-13T10:39:11.804Z"
   },
   {
    "duration": 577,
    "start_time": "2022-06-13T10:39:47.040Z"
   },
   {
    "duration": 55,
    "start_time": "2022-06-13T10:39:50.463Z"
   },
   {
    "duration": 3,
    "start_time": "2022-06-13T10:40:03.324Z"
   },
   {
    "duration": 59,
    "start_time": "2022-06-13T10:40:07.152Z"
   },
   {
    "duration": 6,
    "start_time": "2022-06-13T10:54:56.478Z"
   },
   {
    "duration": 50,
    "start_time": "2022-06-13T10:54:57.787Z"
   },
   {
    "duration": 378,
    "start_time": "2022-06-13T10:59:54.538Z"
   },
   {
    "duration": 23,
    "start_time": "2022-06-13T10:59:55.095Z"
   },
   {
    "duration": 43,
    "start_time": "2022-06-13T11:00:04.219Z"
   },
   {
    "duration": 105,
    "start_time": "2022-06-13T11:00:11.547Z"
   },
   {
    "duration": 17,
    "start_time": "2022-06-13T11:00:27.727Z"
   },
   {
    "duration": 13,
    "start_time": "2022-06-13T11:00:30.167Z"
   },
   {
    "duration": 4,
    "start_time": "2022-06-13T11:00:52.635Z"
   },
   {
    "duration": 56,
    "start_time": "2022-06-13T11:01:01.743Z"
   },
   {
    "duration": 10,
    "start_time": "2022-06-13T11:01:43.566Z"
   },
   {
    "duration": 4,
    "start_time": "2022-06-13T11:01:56.426Z"
   },
   {
    "duration": 6,
    "start_time": "2022-06-13T11:02:06.690Z"
   },
   {
    "duration": 55,
    "start_time": "2022-06-13T11:02:28.854Z"
   },
   {
    "duration": 3,
    "start_time": "2022-06-13T11:03:16.301Z"
   },
   {
    "duration": 24,
    "start_time": "2022-06-13T11:03:18.141Z"
   },
   {
    "duration": 24,
    "start_time": "2022-06-13T11:03:30.409Z"
   },
   {
    "duration": 12,
    "start_time": "2022-06-13T11:18:23.309Z"
   },
   {
    "duration": 22,
    "start_time": "2022-06-13T11:18:34.868Z"
   },
   {
    "duration": 35,
    "start_time": "2022-06-13T11:18:41.852Z"
   },
   {
    "duration": 3,
    "start_time": "2022-06-13T12:08:28.648Z"
   },
   {
    "duration": 3,
    "start_time": "2022-06-13T12:08:54.620Z"
   },
   {
    "duration": 6,
    "start_time": "2022-06-13T12:08:55.899Z"
   },
   {
    "duration": 22,
    "start_time": "2022-06-13T12:09:00.828Z"
   },
   {
    "duration": 4,
    "start_time": "2022-06-13T12:09:09.006Z"
   },
   {
    "duration": 50,
    "start_time": "2022-06-13T12:09:09.881Z"
   },
   {
    "duration": 3,
    "start_time": "2022-06-13T12:10:46.790Z"
   },
   {
    "duration": 4,
    "start_time": "2022-06-13T12:10:52.988Z"
   },
   {
    "duration": 52,
    "start_time": "2022-06-13T12:10:55.090Z"
   },
   {
    "duration": 3,
    "start_time": "2022-06-13T12:11:19.047Z"
   },
   {
    "duration": 432,
    "start_time": "2022-06-13T12:11:19.051Z"
   },
   {
    "duration": 22,
    "start_time": "2022-06-13T12:11:19.485Z"
   },
   {
    "duration": 72,
    "start_time": "2022-06-13T12:11:19.509Z"
   },
   {
    "duration": 129,
    "start_time": "2022-06-13T12:11:19.584Z"
   },
   {
    "duration": 14,
    "start_time": "2022-06-13T12:11:19.714Z"
   },
   {
    "duration": 28,
    "start_time": "2022-06-13T12:11:19.730Z"
   },
   {
    "duration": 8,
    "start_time": "2022-06-13T12:11:19.761Z"
   },
   {
    "duration": 15,
    "start_time": "2022-06-13T12:11:19.771Z"
   },
   {
    "duration": 47,
    "start_time": "2022-06-13T12:11:27.643Z"
   },
   {
    "duration": 0,
    "start_time": "2022-06-13T12:11:27.692Z"
   },
   {
    "duration": 3,
    "start_time": "2022-06-13T12:11:33.725Z"
   },
   {
    "duration": 393,
    "start_time": "2022-06-13T12:11:33.730Z"
   },
   {
    "duration": 21,
    "start_time": "2022-06-13T12:11:34.125Z"
   },
   {
    "duration": 49,
    "start_time": "2022-06-13T12:11:34.148Z"
   },
   {
    "duration": 119,
    "start_time": "2022-06-13T12:11:34.199Z"
   },
   {
    "duration": 12,
    "start_time": "2022-06-13T12:11:34.320Z"
   },
   {
    "duration": 27,
    "start_time": "2022-06-13T12:11:34.335Z"
   },
   {
    "duration": 4,
    "start_time": "2022-06-13T12:11:34.364Z"
   },
   {
    "duration": 6,
    "start_time": "2022-06-13T12:11:34.370Z"
   },
   {
    "duration": 49,
    "start_time": "2022-06-13T12:11:34.377Z"
   },
   {
    "duration": 4,
    "start_time": "2022-06-13T12:30:54.721Z"
   },
   {
    "duration": 29,
    "start_time": "2022-06-13T12:30:56.677Z"
   },
   {
    "duration": 20,
    "start_time": "2022-06-13T12:31:18.453Z"
   },
   {
    "duration": 40,
    "start_time": "2022-06-13T12:31:46.328Z"
   },
   {
    "duration": 35,
    "start_time": "2022-06-13T12:32:00.609Z"
   },
   {
    "duration": 4,
    "start_time": "2022-06-13T12:49:07.929Z"
   },
   {
    "duration": 76,
    "start_time": "2022-06-13T12:49:21.398Z"
   },
   {
    "duration": 4,
    "start_time": "2022-06-13T12:52:32.588Z"
   },
   {
    "duration": 52,
    "start_time": "2022-06-13T12:52:34.843Z"
   },
   {
    "duration": 6,
    "start_time": "2022-06-13T12:55:52.046Z"
   },
   {
    "duration": 70,
    "start_time": "2022-06-13T12:55:55.187Z"
   },
   {
    "duration": 73,
    "start_time": "2022-06-13T16:08:20.320Z"
   },
   {
    "duration": 6,
    "start_time": "2022-06-13T16:08:26.842Z"
   },
   {
    "duration": 115,
    "start_time": "2022-06-13T16:08:30.276Z"
   },
   {
    "duration": 1335,
    "start_time": "2022-06-13T16:08:43.597Z"
   },
   {
    "duration": 585,
    "start_time": "2022-06-13T16:08:44.938Z"
   },
   {
    "duration": 59,
    "start_time": "2022-06-13T16:08:45.525Z"
   },
   {
    "duration": 79,
    "start_time": "2022-06-13T16:08:45.591Z"
   },
   {
    "duration": 156,
    "start_time": "2022-06-13T16:08:45.673Z"
   },
   {
    "duration": 21,
    "start_time": "2022-06-13T16:08:45.835Z"
   },
   {
    "duration": 79,
    "start_time": "2022-06-13T16:08:45.869Z"
   },
   {
    "duration": 70,
    "start_time": "2022-06-13T16:08:45.950Z"
   },
   {
    "duration": 86,
    "start_time": "2022-06-13T16:08:46.025Z"
   },
   {
    "duration": 117,
    "start_time": "2022-06-13T16:08:46.113Z"
   },
   {
    "duration": 1164,
    "start_time": "2022-06-13T17:18:39.034Z"
   },
   {
    "duration": 509,
    "start_time": "2022-06-13T17:18:40.200Z"
   },
   {
    "duration": 40,
    "start_time": "2022-06-13T17:18:40.711Z"
   },
   {
    "duration": 74,
    "start_time": "2022-06-13T17:18:40.753Z"
   },
   {
    "duration": 169,
    "start_time": "2022-06-13T17:18:40.829Z"
   },
   {
    "duration": 16,
    "start_time": "2022-06-13T17:18:41.006Z"
   },
   {
    "duration": 12,
    "start_time": "2022-06-13T17:18:41.024Z"
   },
   {
    "duration": 26,
    "start_time": "2022-06-13T17:18:41.039Z"
   },
   {
    "duration": 179,
    "start_time": "2022-06-13T17:18:41.076Z"
   },
   {
    "duration": 89,
    "start_time": "2022-06-13T17:18:41.257Z"
   },
   {
    "duration": 3,
    "start_time": "2022-06-13T17:19:44.505Z"
   },
   {
    "duration": 499,
    "start_time": "2022-06-13T17:19:45.799Z"
   },
   {
    "duration": 32,
    "start_time": "2022-06-13T17:19:46.614Z"
   },
   {
    "duration": 54,
    "start_time": "2022-06-13T17:19:48.986Z"
   },
   {
    "duration": 132,
    "start_time": "2022-06-13T17:19:50.634Z"
   },
   {
    "duration": 29,
    "start_time": "2022-06-13T17:19:53.059Z"
   },
   {
    "duration": 10,
    "start_time": "2022-06-13T17:19:53.778Z"
   },
   {
    "duration": 11,
    "start_time": "2022-06-13T17:19:55.797Z"
   },
   {
    "duration": 78,
    "start_time": "2022-06-13T17:19:58.911Z"
   },
   {
    "duration": 4,
    "start_time": "2022-06-14T10:18:40.809Z"
   },
   {
    "duration": 64,
    "start_time": "2022-06-14T10:18:49.879Z"
   },
   {
    "duration": 5,
    "start_time": "2022-06-14T10:19:27.297Z"
   },
   {
    "duration": 18,
    "start_time": "2022-06-14T10:20:09.379Z"
   },
   {
    "duration": 33,
    "start_time": "2022-06-14T10:21:06.982Z"
   },
   {
    "duration": 77,
    "start_time": "2022-06-14T10:21:38.489Z"
   },
   {
    "duration": 89,
    "start_time": "2022-06-14T10:21:57.075Z"
   },
   {
    "duration": 5,
    "start_time": "2022-06-14T10:23:20.197Z"
   },
   {
    "duration": 50,
    "start_time": "2022-06-14T11:05:07.940Z"
   },
   {
    "duration": 4,
    "start_time": "2022-06-14T11:05:54.041Z"
   },
   {
    "duration": 3,
    "start_time": "2022-06-14T11:06:12.813Z"
   },
   {
    "duration": 31,
    "start_time": "2022-06-14T11:07:08.867Z"
   },
   {
    "duration": 22,
    "start_time": "2022-06-14T11:08:15.112Z"
   },
   {
    "duration": 893,
    "start_time": "2022-06-14T11:09:10.061Z"
   },
   {
    "duration": 118,
    "start_time": "2022-06-14T11:17:29.111Z"
   },
   {
    "duration": 3,
    "start_time": "2022-06-14T11:17:40.571Z"
   },
   {
    "duration": 15,
    "start_time": "2022-06-14T11:17:41.873Z"
   },
   {
    "duration": 3,
    "start_time": "2022-06-14T11:17:57.254Z"
   },
   {
    "duration": 4,
    "start_time": "2022-06-14T11:17:57.758Z"
   },
   {
    "duration": 447,
    "start_time": "2022-06-14T11:17:58.675Z"
   },
   {
    "duration": 4,
    "start_time": "2022-06-14T11:22:43.070Z"
   },
   {
    "duration": 203,
    "start_time": "2022-06-14T11:24:07.871Z"
   },
   {
    "duration": 4,
    "start_time": "2022-06-14T11:24:27.183Z"
   },
   {
    "duration": 92,
    "start_time": "2022-06-14T11:24:31.487Z"
   },
   {
    "duration": 200,
    "start_time": "2022-06-14T11:25:59.878Z"
   },
   {
    "duration": 6,
    "start_time": "2022-06-14T11:26:01.042Z"
   },
   {
    "duration": 5473,
    "start_time": "2022-06-14T11:30:39.624Z"
   },
   {
    "duration": 760,
    "start_time": "2022-06-14T11:31:02.377Z"
   },
   {
    "duration": 2862,
    "start_time": "2022-06-14T11:31:16.414Z"
   },
   {
    "duration": 5216,
    "start_time": "2022-06-14T11:32:49.555Z"
   },
   {
    "duration": 16327,
    "start_time": "2022-06-14T11:33:58.402Z"
   },
   {
    "duration": 799,
    "start_time": "2022-06-14T11:35:23.848Z"
   },
   {
    "duration": 325,
    "start_time": "2022-06-14T11:35:39.804Z"
   },
   {
    "duration": 337,
    "start_time": "2022-06-14T11:35:50.991Z"
   },
   {
    "duration": 903,
    "start_time": "2022-06-14T11:36:11.425Z"
   },
   {
    "duration": 335,
    "start_time": "2022-06-14T11:36:35.974Z"
   },
   {
    "duration": 365,
    "start_time": "2022-06-14T11:36:37.527Z"
   },
   {
    "duration": 345,
    "start_time": "2022-06-14T11:36:39.752Z"
   },
   {
    "duration": 10,
    "start_time": "2022-06-14T11:42:20.626Z"
   },
   {
    "duration": 4,
    "start_time": "2022-06-14T11:42:45.679Z"
   },
   {
    "duration": 11,
    "start_time": "2022-06-14T11:42:50.153Z"
   },
   {
    "duration": 279,
    "start_time": "2022-06-14T11:43:19.571Z"
   },
   {
    "duration": 304,
    "start_time": "2022-06-14T11:43:46.095Z"
   },
   {
    "duration": 329,
    "start_time": "2022-06-14T11:43:47.509Z"
   },
   {
    "duration": 360,
    "start_time": "2022-06-14T11:43:49.614Z"
   },
   {
    "duration": 36,
    "start_time": "2022-06-14T11:47:55.017Z"
   },
   {
    "duration": 343,
    "start_time": "2022-06-14T11:48:18.695Z"
   },
   {
    "duration": 1074,
    "start_time": "2022-06-14T11:50:51.652Z"
   },
   {
    "duration": 31,
    "start_time": "2022-06-14T15:10:54.899Z"
   },
   {
    "duration": 3,
    "start_time": "2022-06-14T15:11:03.121Z"
   },
   {
    "duration": 3,
    "start_time": "2022-06-14T15:16:17.496Z"
   },
   {
    "duration": 4,
    "start_time": "2022-06-14T15:17:20.985Z"
   },
   {
    "duration": 3,
    "start_time": "2022-06-14T15:30:39.457Z"
   },
   {
    "duration": 3,
    "start_time": "2022-06-14T15:33:45.798Z"
   },
   {
    "duration": 4,
    "start_time": "2022-06-14T15:35:40.428Z"
   },
   {
    "duration": 11,
    "start_time": "2022-06-14T15:35:54.060Z"
   },
   {
    "duration": 19,
    "start_time": "2022-06-14T15:36:00.918Z"
   },
   {
    "duration": 3,
    "start_time": "2022-06-14T15:36:18.683Z"
   },
   {
    "duration": 15,
    "start_time": "2022-06-14T15:36:19.395Z"
   },
   {
    "duration": 20,
    "start_time": "2022-06-14T15:36:34.791Z"
   },
   {
    "duration": 3,
    "start_time": "2022-06-14T15:37:52.196Z"
   },
   {
    "duration": 5,
    "start_time": "2022-06-14T15:37:53.922Z"
   },
   {
    "duration": 4,
    "start_time": "2022-06-14T15:37:55.382Z"
   },
   {
    "duration": 18,
    "start_time": "2022-06-14T15:37:56.602Z"
   },
   {
    "duration": 3,
    "start_time": "2022-06-14T15:39:15.648Z"
   },
   {
    "duration": 16,
    "start_time": "2022-06-14T15:39:16.144Z"
   },
   {
    "duration": 4,
    "start_time": "2022-06-14T15:39:26.264Z"
   },
   {
    "duration": 4,
    "start_time": "2022-06-14T15:39:27.565Z"
   },
   {
    "duration": 3,
    "start_time": "2022-06-14T15:39:29.188Z"
   },
   {
    "duration": 16,
    "start_time": "2022-06-14T15:39:29.684Z"
   },
   {
    "duration": 3,
    "start_time": "2022-06-14T15:40:12.304Z"
   },
   {
    "duration": 3,
    "start_time": "2022-06-14T15:40:13.334Z"
   },
   {
    "duration": 4,
    "start_time": "2022-06-14T15:40:14.991Z"
   },
   {
    "duration": 17,
    "start_time": "2022-06-14T15:40:15.476Z"
   },
   {
    "duration": 15,
    "start_time": "2022-06-14T15:41:02.720Z"
   },
   {
    "duration": 5,
    "start_time": "2022-06-14T15:41:06.210Z"
   },
   {
    "duration": 3,
    "start_time": "2022-06-14T15:41:07.827Z"
   },
   {
    "duration": 16,
    "start_time": "2022-06-14T15:41:08.351Z"
   },
   {
    "duration": 4,
    "start_time": "2022-06-14T15:41:45.910Z"
   },
   {
    "duration": 17,
    "start_time": "2022-06-14T15:41:46.614Z"
   },
   {
    "duration": 16,
    "start_time": "2022-06-14T15:42:13.323Z"
   },
   {
    "duration": 26,
    "start_time": "2022-06-14T15:46:41.621Z"
   },
   {
    "duration": 6,
    "start_time": "2022-06-14T19:14:59.054Z"
   },
   {
    "duration": 11,
    "start_time": "2022-06-14T19:15:08.332Z"
   },
   {
    "duration": 9,
    "start_time": "2022-06-14T19:17:28.386Z"
   },
   {
    "duration": 14,
    "start_time": "2022-06-14T19:18:16.152Z"
   },
   {
    "duration": 7,
    "start_time": "2022-06-14T19:18:47.897Z"
   },
   {
    "duration": 19,
    "start_time": "2022-06-14T19:18:48.797Z"
   },
   {
    "duration": 12,
    "start_time": "2022-06-14T19:18:53.153Z"
   },
   {
    "duration": 10,
    "start_time": "2022-06-14T19:18:54.319Z"
   },
   {
    "duration": 19,
    "start_time": "2022-06-14T19:19:21.956Z"
   },
   {
    "duration": 18,
    "start_time": "2022-06-14T19:19:22.597Z"
   },
   {
    "duration": 5,
    "start_time": "2022-06-14T19:19:42.819Z"
   },
   {
    "duration": 9,
    "start_time": "2022-06-14T19:19:43.851Z"
   },
   {
    "duration": 15,
    "start_time": "2022-06-14T19:19:44.375Z"
   },
   {
    "duration": 8,
    "start_time": "2022-06-14T19:20:16.510Z"
   },
   {
    "duration": 29,
    "start_time": "2022-06-14T19:20:17.102Z"
   },
   {
    "duration": 5,
    "start_time": "2022-06-14T19:20:46.753Z"
   },
   {
    "duration": 8,
    "start_time": "2022-06-14T19:20:47.338Z"
   },
   {
    "duration": 16,
    "start_time": "2022-06-14T19:20:47.913Z"
   },
   {
    "duration": 12,
    "start_time": "2022-06-14T19:21:02.817Z"
   },
   {
    "duration": 1754,
    "start_time": "2022-06-14T19:21:03.393Z"
   },
   {
    "duration": 5,
    "start_time": "2022-06-14T19:21:26.782Z"
   },
   {
    "duration": 12,
    "start_time": "2022-06-14T19:21:33.007Z"
   },
   {
    "duration": 2050,
    "start_time": "2022-06-14T19:21:33.961Z"
   },
   {
    "duration": 9,
    "start_time": "2022-06-14T19:21:56.963Z"
   },
   {
    "duration": 2060,
    "start_time": "2022-06-14T19:21:57.460Z"
   },
   {
    "duration": 8,
    "start_time": "2022-06-14T19:22:08.423Z"
   },
   {
    "duration": 2081,
    "start_time": "2022-06-14T19:22:09.008Z"
   },
   {
    "duration": 9,
    "start_time": "2022-06-14T19:22:21.314Z"
   },
   {
    "duration": 2098,
    "start_time": "2022-06-14T19:22:22.456Z"
   },
   {
    "duration": 18,
    "start_time": "2022-06-14T19:23:46.211Z"
   },
   {
    "duration": 26,
    "start_time": "2022-06-14T19:24:19.657Z"
   },
   {
    "duration": 13,
    "start_time": "2022-06-14T19:24:44.153Z"
   },
   {
    "duration": 23,
    "start_time": "2022-06-14T19:24:54.768Z"
   },
   {
    "duration": 17,
    "start_time": "2022-06-14T19:25:26.141Z"
   },
   {
    "duration": 17,
    "start_time": "2022-06-14T19:25:45.464Z"
   },
   {
    "duration": 3,
    "start_time": "2022-06-14T19:26:09.209Z"
   },
   {
    "duration": 8,
    "start_time": "2022-06-14T19:26:09.852Z"
   },
   {
    "duration": 2093,
    "start_time": "2022-06-14T19:26:10.651Z"
   },
   {
    "duration": 4,
    "start_time": "2022-06-14T19:26:53.873Z"
   },
   {
    "duration": 7,
    "start_time": "2022-06-14T19:26:54.443Z"
   },
   {
    "duration": 1869,
    "start_time": "2022-06-14T19:26:54.872Z"
   },
   {
    "duration": 8,
    "start_time": "2022-06-14T19:29:45.684Z"
   },
   {
    "duration": 11,
    "start_time": "2022-06-14T19:31:25.181Z"
   },
   {
    "duration": 8,
    "start_time": "2022-06-14T19:33:16.014Z"
   },
   {
    "duration": 24,
    "start_time": "2022-06-14T19:34:05.842Z"
   },
   {
    "duration": 450,
    "start_time": "2022-06-14T19:34:11.645Z"
   },
   {
    "duration": 17,
    "start_time": "2022-06-14T19:34:17.489Z"
   },
   {
    "duration": 5,
    "start_time": "2022-06-14T19:34:33.400Z"
   },
   {
    "duration": 15,
    "start_time": "2022-06-14T19:34:34.211Z"
   },
   {
    "duration": 8,
    "start_time": "2022-06-14T19:35:05.983Z"
   },
   {
    "duration": 41,
    "start_time": "2022-06-14T19:35:06.548Z"
   },
   {
    "duration": 224,
    "start_time": "2022-06-14T19:35:36.611Z"
   },
   {
    "duration": 26,
    "start_time": "2022-06-14T19:35:45.622Z"
   },
   {
    "duration": 6,
    "start_time": "2022-06-14T19:40:03.678Z"
   },
   {
    "duration": 120,
    "start_time": "2022-06-14T19:40:04.448Z"
   },
   {
    "duration": 5,
    "start_time": "2022-06-14T19:40:41.807Z"
   },
   {
    "duration": 477,
    "start_time": "2022-06-14T19:40:42.391Z"
   },
   {
    "duration": 481,
    "start_time": "2022-06-14T19:41:01.103Z"
   },
   {
    "duration": 476,
    "start_time": "2022-06-14T19:41:26.784Z"
   },
   {
    "duration": 4,
    "start_time": "2022-06-14T19:48:01.695Z"
   },
   {
    "duration": 261,
    "start_time": "2022-06-14T19:48:02.605Z"
   },
   {
    "duration": 5,
    "start_time": "2022-06-14T19:48:27.295Z"
   },
   {
    "duration": 134,
    "start_time": "2022-06-14T19:48:28.125Z"
   },
   {
    "duration": 6,
    "start_time": "2022-06-14T19:48:44.157Z"
   },
   {
    "duration": 421,
    "start_time": "2022-06-14T19:48:45.039Z"
   },
   {
    "duration": 464,
    "start_time": "2022-06-14T19:48:55.496Z"
   },
   {
    "duration": 4,
    "start_time": "2022-06-14T19:50:59.919Z"
   },
   {
    "duration": 268,
    "start_time": "2022-06-14T19:51:01.299Z"
   },
   {
    "duration": 4,
    "start_time": "2022-06-14T20:00:53.058Z"
   },
   {
    "duration": 78,
    "start_time": "2022-06-14T20:00:53.583Z"
   },
   {
    "duration": 88,
    "start_time": "2022-06-14T20:00:58.472Z"
   },
   {
    "duration": 124,
    "start_time": "2022-06-14T20:01:07.443Z"
   },
   {
    "duration": 4,
    "start_time": "2022-06-14T20:07:53.713Z"
   },
   {
    "duration": 9,
    "start_time": "2022-06-14T20:08:10.029Z"
   },
   {
    "duration": 10,
    "start_time": "2022-06-14T20:08:16.902Z"
   },
   {
    "duration": 12,
    "start_time": "2022-06-14T20:08:22.057Z"
   },
   {
    "duration": 10,
    "start_time": "2022-06-14T20:08:22.877Z"
   },
   {
    "duration": 8,
    "start_time": "2022-06-14T20:08:34.570Z"
   },
   {
    "duration": 12,
    "start_time": "2022-06-14T20:08:35.229Z"
   },
   {
    "duration": 8,
    "start_time": "2022-06-14T20:09:04.145Z"
   },
   {
    "duration": 10,
    "start_time": "2022-06-14T20:09:04.833Z"
   },
   {
    "duration": 4,
    "start_time": "2022-06-14T20:09:32.648Z"
   },
   {
    "duration": 9,
    "start_time": "2022-06-14T20:09:33.206Z"
   },
   {
    "duration": 12,
    "start_time": "2022-06-14T20:09:33.685Z"
   },
   {
    "duration": 16,
    "start_time": "2022-06-14T20:09:41.765Z"
   },
   {
    "duration": 9,
    "start_time": "2022-06-14T20:10:29.665Z"
   },
   {
    "duration": 1999,
    "start_time": "2022-06-14T20:10:30.419Z"
   },
   {
    "duration": 7,
    "start_time": "2022-06-14T20:12:35.869Z"
   },
   {
    "duration": 1857,
    "start_time": "2022-06-14T20:12:36.621Z"
   },
   {
    "duration": 8,
    "start_time": "2022-06-14T20:12:45.258Z"
   },
   {
    "duration": 1846,
    "start_time": "2022-06-14T20:12:45.694Z"
   },
   {
    "duration": 1907,
    "start_time": "2022-06-14T20:13:50.915Z"
   },
   {
    "duration": 10,
    "start_time": "2022-06-14T20:13:53.988Z"
   },
   {
    "duration": 1892,
    "start_time": "2022-06-14T20:13:54.673Z"
   },
   {
    "duration": 8,
    "start_time": "2022-06-14T20:15:35.107Z"
   },
   {
    "duration": 1845,
    "start_time": "2022-06-14T20:15:35.639Z"
   },
   {
    "duration": 7,
    "start_time": "2022-06-14T20:15:53.180Z"
   },
   {
    "duration": 1795,
    "start_time": "2022-06-14T20:15:54.121Z"
   },
   {
    "duration": 8,
    "start_time": "2022-06-14T20:16:00.647Z"
   },
   {
    "duration": 1917,
    "start_time": "2022-06-14T20:16:01.103Z"
   },
   {
    "duration": 8,
    "start_time": "2022-06-14T20:16:24.706Z"
   },
   {
    "duration": 2094,
    "start_time": "2022-06-14T20:16:25.476Z"
   },
   {
    "duration": 40,
    "start_time": "2022-06-14T20:16:57.883Z"
   },
   {
    "duration": 35,
    "start_time": "2022-06-14T20:30:40.994Z"
   },
   {
    "duration": 7,
    "start_time": "2022-06-14T20:31:02.436Z"
   },
   {
    "duration": 13,
    "start_time": "2022-06-14T20:31:26.677Z"
   },
   {
    "duration": 1634,
    "start_time": "2022-06-14T20:31:27.436Z"
   },
   {
    "duration": 7,
    "start_time": "2022-06-14T20:31:58.722Z"
   },
   {
    "duration": 2026,
    "start_time": "2022-06-14T20:32:03.509Z"
   },
   {
    "duration": 2056,
    "start_time": "2022-06-14T20:33:30.954Z"
   },
   {
    "duration": 2087,
    "start_time": "2022-06-14T20:33:33.011Z"
   },
   {
    "duration": 8,
    "start_time": "2022-06-14T20:36:02.988Z"
   },
   {
    "duration": 1919,
    "start_time": "2022-06-14T20:36:03.928Z"
   },
   {
    "duration": 7,
    "start_time": "2022-06-14T20:36:10.614Z"
   },
   {
    "duration": 2194,
    "start_time": "2022-06-14T20:36:12.696Z"
   },
   {
    "duration": 8,
    "start_time": "2022-06-14T20:37:50.549Z"
   },
   {
    "duration": 1964,
    "start_time": "2022-06-14T20:37:51.187Z"
   },
   {
    "duration": 2100,
    "start_time": "2022-06-14T20:37:54.615Z"
   },
   {
    "duration": 2116,
    "start_time": "2022-06-14T20:37:56.717Z"
   },
   {
    "duration": 4,
    "start_time": "2022-06-14T20:38:17.054Z"
   },
   {
    "duration": 10,
    "start_time": "2022-06-14T20:45:49.155Z"
   },
   {
    "duration": 2070,
    "start_time": "2022-06-14T20:45:50.120Z"
   },
   {
    "duration": 10,
    "start_time": "2022-06-14T20:46:44.144Z"
   },
   {
    "duration": 2422,
    "start_time": "2022-06-14T20:46:44.925Z"
   },
   {
    "duration": 8,
    "start_time": "2022-06-14T20:46:55.527Z"
   },
   {
    "duration": 2116,
    "start_time": "2022-06-14T20:46:56.250Z"
   },
   {
    "duration": 7,
    "start_time": "2022-06-14T20:51:46.355Z"
   },
   {
    "duration": 2346,
    "start_time": "2022-06-14T20:51:56.487Z"
   },
   {
    "duration": 4,
    "start_time": "2022-06-14T20:54:38.045Z"
   },
   {
    "duration": 5,
    "start_time": "2022-06-14T20:54:46.565Z"
   },
   {
    "duration": 11,
    "start_time": "2022-06-14T20:55:09.268Z"
   },
   {
    "duration": 2716,
    "start_time": "2022-06-14T20:55:11.035Z"
   },
   {
    "duration": 3,
    "start_time": "2022-06-14T20:59:06.820Z"
   },
   {
    "duration": 4,
    "start_time": "2022-06-14T20:59:08.741Z"
   },
   {
    "duration": 5,
    "start_time": "2022-06-14T20:59:14.514Z"
   },
   {
    "duration": 19,
    "start_time": "2022-06-14T20:59:15.011Z"
   },
   {
    "duration": 5,
    "start_time": "2022-06-14T20:59:28.236Z"
   },
   {
    "duration": 9,
    "start_time": "2022-06-14T20:59:28.927Z"
   },
   {
    "duration": 3106,
    "start_time": "2022-06-14T20:59:29.912Z"
   },
   {
    "duration": 2483,
    "start_time": "2022-06-14T20:59:39.759Z"
   },
   {
    "duration": 2477,
    "start_time": "2022-06-14T20:59:44.304Z"
   },
   {
    "duration": 4,
    "start_time": "2022-06-14T21:01:34.743Z"
   },
   {
    "duration": 4,
    "start_time": "2022-06-14T21:01:35.854Z"
   },
   {
    "duration": 3,
    "start_time": "2022-06-14T21:01:37.412Z"
   },
   {
    "duration": 21,
    "start_time": "2022-06-14T21:01:37.930Z"
   },
   {
    "duration": 5,
    "start_time": "2022-06-14T21:01:39.642Z"
   },
   {
    "duration": 12,
    "start_time": "2022-06-14T21:01:40.250Z"
   },
   {
    "duration": 1944,
    "start_time": "2022-06-14T21:01:41.161Z"
   },
   {
    "duration": 1811,
    "start_time": "2022-06-14T21:01:43.773Z"
   },
   {
    "duration": 1881,
    "start_time": "2022-06-14T21:01:46.838Z"
   },
   {
    "duration": 1017,
    "start_time": "2022-06-14T21:06:57.315Z"
   },
   {
    "duration": 1704,
    "start_time": "2022-06-14T21:06:58.334Z"
   },
   {
    "duration": 31,
    "start_time": "2022-06-14T21:07:00.040Z"
   },
   {
    "duration": 54,
    "start_time": "2022-06-14T21:07:00.072Z"
   },
   {
    "duration": 146,
    "start_time": "2022-06-14T21:07:00.130Z"
   },
   {
    "duration": 120,
    "start_time": "2022-06-14T21:07:00.278Z"
   },
   {
    "duration": 0,
    "start_time": "2022-06-14T21:07:00.401Z"
   },
   {
    "duration": 0,
    "start_time": "2022-06-14T21:07:00.402Z"
   },
   {
    "duration": 0,
    "start_time": "2022-06-14T21:07:00.404Z"
   },
   {
    "duration": 0,
    "start_time": "2022-06-14T21:07:00.405Z"
   },
   {
    "duration": 0,
    "start_time": "2022-06-14T21:07:00.407Z"
   },
   {
    "duration": 0,
    "start_time": "2022-06-14T21:07:00.408Z"
   },
   {
    "duration": 0,
    "start_time": "2022-06-14T21:07:00.410Z"
   },
   {
    "duration": 0,
    "start_time": "2022-06-14T21:07:00.411Z"
   },
   {
    "duration": 0,
    "start_time": "2022-06-14T21:07:00.413Z"
   },
   {
    "duration": 0,
    "start_time": "2022-06-14T21:07:00.414Z"
   },
   {
    "duration": 0,
    "start_time": "2022-06-14T21:07:00.416Z"
   },
   {
    "duration": 0,
    "start_time": "2022-06-14T21:07:00.418Z"
   },
   {
    "duration": 0,
    "start_time": "2022-06-14T21:07:00.419Z"
   },
   {
    "duration": 0,
    "start_time": "2022-06-14T21:07:00.458Z"
   },
   {
    "duration": 0,
    "start_time": "2022-06-14T21:07:00.459Z"
   },
   {
    "duration": 0,
    "start_time": "2022-06-14T21:07:00.461Z"
   },
   {
    "duration": 0,
    "start_time": "2022-06-14T21:07:00.463Z"
   },
   {
    "duration": 0,
    "start_time": "2022-06-14T21:07:00.464Z"
   },
   {
    "duration": 0,
    "start_time": "2022-06-14T21:07:00.466Z"
   },
   {
    "duration": 0,
    "start_time": "2022-06-14T21:07:00.467Z"
   },
   {
    "duration": 1898,
    "start_time": "2022-06-15T10:06:39.948Z"
   },
   {
    "duration": 828,
    "start_time": "2022-06-15T10:06:41.848Z"
   },
   {
    "duration": 33,
    "start_time": "2022-06-15T10:06:42.677Z"
   },
   {
    "duration": 40,
    "start_time": "2022-06-15T10:06:42.711Z"
   },
   {
    "duration": 131,
    "start_time": "2022-06-15T10:06:42.754Z"
   },
   {
    "duration": 120,
    "start_time": "2022-06-15T10:06:42.887Z"
   },
   {
    "duration": 0,
    "start_time": "2022-06-15T10:06:43.009Z"
   },
   {
    "duration": 0,
    "start_time": "2022-06-15T10:06:43.010Z"
   },
   {
    "duration": 0,
    "start_time": "2022-06-15T10:06:43.011Z"
   },
   {
    "duration": 0,
    "start_time": "2022-06-15T10:06:43.012Z"
   },
   {
    "duration": 0,
    "start_time": "2022-06-15T10:06:43.014Z"
   },
   {
    "duration": 0,
    "start_time": "2022-06-15T10:06:43.015Z"
   },
   {
    "duration": 0,
    "start_time": "2022-06-15T10:06:43.016Z"
   },
   {
    "duration": 0,
    "start_time": "2022-06-15T10:06:43.017Z"
   },
   {
    "duration": 0,
    "start_time": "2022-06-15T10:06:43.018Z"
   },
   {
    "duration": 0,
    "start_time": "2022-06-15T10:06:43.018Z"
   },
   {
    "duration": 0,
    "start_time": "2022-06-15T10:06:43.019Z"
   },
   {
    "duration": 0,
    "start_time": "2022-06-15T10:06:43.020Z"
   },
   {
    "duration": 0,
    "start_time": "2022-06-15T10:06:43.021Z"
   },
   {
    "duration": 0,
    "start_time": "2022-06-15T10:06:43.022Z"
   },
   {
    "duration": 0,
    "start_time": "2022-06-15T10:06:43.023Z"
   },
   {
    "duration": 0,
    "start_time": "2022-06-15T10:06:43.024Z"
   },
   {
    "duration": 0,
    "start_time": "2022-06-15T10:06:43.025Z"
   },
   {
    "duration": 0,
    "start_time": "2022-06-15T10:06:43.026Z"
   },
   {
    "duration": 0,
    "start_time": "2022-06-15T10:06:43.027Z"
   },
   {
    "duration": 0,
    "start_time": "2022-06-15T10:06:43.028Z"
   },
   {
    "duration": 503,
    "start_time": "2022-06-15T10:07:06.951Z"
   },
   {
    "duration": 446,
    "start_time": "2022-06-15T10:07:07.457Z"
   },
   {
    "duration": 32,
    "start_time": "2022-06-15T10:07:07.906Z"
   },
   {
    "duration": 76,
    "start_time": "2022-06-15T10:07:07.940Z"
   },
   {
    "duration": 109,
    "start_time": "2022-06-15T10:07:08.253Z"
   },
   {
    "duration": 355,
    "start_time": "2022-06-15T10:07:08.918Z"
   },
   {
    "duration": 305,
    "start_time": "2022-06-15T10:07:09.275Z"
   },
   {
    "duration": 326,
    "start_time": "2022-06-15T10:07:09.582Z"
   },
   {
    "duration": 16,
    "start_time": "2022-06-15T10:07:10.025Z"
   },
   {
    "duration": 9,
    "start_time": "2022-06-15T10:07:10.260Z"
   },
   {
    "duration": 7,
    "start_time": "2022-06-15T10:07:10.714Z"
   },
   {
    "duration": 76,
    "start_time": "2022-06-15T10:07:10.910Z"
   },
   {
    "duration": 4,
    "start_time": "2022-06-15T10:07:11.144Z"
   },
   {
    "duration": 26,
    "start_time": "2022-06-15T10:07:11.351Z"
   },
   {
    "duration": 4,
    "start_time": "2022-06-15T10:07:11.761Z"
   },
   {
    "duration": 284,
    "start_time": "2022-06-15T10:07:12.227Z"
   },
   {
    "duration": 81,
    "start_time": "2022-06-15T10:07:12.516Z"
   },
   {
    "duration": 6,
    "start_time": "2022-06-15T10:07:15.015Z"
   },
   {
    "duration": 4,
    "start_time": "2022-06-15T10:07:15.577Z"
   },
   {
    "duration": 3,
    "start_time": "2022-06-15T10:07:16.427Z"
   },
   {
    "duration": 13,
    "start_time": "2022-06-15T10:07:16.627Z"
   },
   {
    "duration": 8,
    "start_time": "2022-06-15T10:07:17.510Z"
   },
   {
    "duration": 12,
    "start_time": "2022-06-15T10:07:17.689Z"
   },
   {
    "duration": 1754,
    "start_time": "2022-06-15T10:07:17.890Z"
   },
   {
    "duration": 0,
    "start_time": "2022-06-15T10:07:19.646Z"
   },
   {
    "duration": 0,
    "start_time": "2022-06-15T10:07:19.647Z"
   },
   {
    "duration": 3,
    "start_time": "2022-06-15T10:07:33.447Z"
   },
   {
    "duration": 1980,
    "start_time": "2022-06-15T10:07:37.419Z"
   },
   {
    "duration": 1813,
    "start_time": "2022-06-15T10:07:39.405Z"
   },
   {
    "duration": 1792,
    "start_time": "2022-06-15T10:07:41.220Z"
   }
  ],
  "kernelspec": {
   "display_name": "Python 3 (ipykernel)",
   "language": "python",
   "name": "python3"
  },
  "language_info": {
   "codemirror_mode": {
    "name": "ipython",
    "version": 3
   },
   "file_extension": ".py",
   "mimetype": "text/x-python",
   "name": "python",
   "nbconvert_exporter": "python",
   "pygments_lexer": "ipython3",
   "version": "3.9.7"
  },
  "toc": {
   "base_numbering": 1,
   "nav_menu": {},
   "number_sections": false,
   "sideBar": true,
   "skip_h1_title": true,
   "title_cell": "Table of Contents",
   "title_sidebar": "Contents",
   "toc_cell": false,
   "toc_position": {
    "height": "calc(100% - 180px)",
    "left": "10px",
    "top": "150px",
    "width": "165px"
   },
   "toc_section_display": true,
   "toc_window_display": true
  }
 },
 "nbformat": 4,
 "nbformat_minor": 2
}
