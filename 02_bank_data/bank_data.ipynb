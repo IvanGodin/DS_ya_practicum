{
 "cells": [
  {
   "cell_type": "markdown",
   "id": "4ed3370e",
   "metadata": {},
   "source": [
    "<div style=\"border:solid green 2px; padding: 20px\">\n",
    "<b>Иван, привет!</b>\n",
    "\n",
    "Меня зовут Евгений Дащенко, и я буду проверять твой проект. Предлагаю общаться на «ты» 😊 Но если это не удобно - дай знать, и мы перейдем на \"вы\". \n",
    "\n",
    "Моя основная цель — не указать на совершенные тобою ошибки, а поделиться своим опытом и помочь тебе стать аналитиком данных. Ты уже проделал большую работу над проектом, но давай сделаем его еще лучше. Ниже ты найдешь мои комментарии - пожалуйста, не перемещай, не изменяй и не удаляй их. Я буду использовать цветовую разметку:\n",
    "\n",
    "<div class=\"alert alert-danger\">\n",
    "<b>Критическая ошибка:</b> Так выделены самые важные замечания. Без их отработки проект не будет принят. </div>\n",
    "\n",
    "<div class=\"alert alert-warning\">\n",
    "<b>Хорошо, но можно и лучше:</b> Так выделены небольшие замечания. Одна-два таких замечания в проекте допустимы, но если их будет больше - тебе будет необходимо внести исправления. Это как тестовое задание при приеме на работу: очень много мелких ошибок могут стать причиной отказа кандидату. \n",
    "\n",
    "</div>\n",
    "\n",
    "<div class=\"alert alert-success\">\n",
    "<b>Все отлично:</b> Так я выделяю все остальные комментарии.</div>\n",
    "\n",
    "Давай работать над проектом в диалоге: если ты что-то меняешь в проекте или отвечаешь на мои комменатри — пиши об этом. Мне будет легче отследить изменения, если ты выделишь свои комментарии:\n",
    "<div class=\"alert alert-info\"> <b>Комментарий студента:</b> Например, вот так.</div>\n",
    "\n",
    "Всё это поможет выполнить повторную проверку твоего проекта оперативнее. "
   ]
  },
  {
   "cell_type": "markdown",
   "id": "42dc58de",
   "metadata": {
    "id": "42dc58de"
   },
   "source": [
    "# Исследование надежности заемщиков."
   ]
  },
  {
   "cell_type": "markdown",
   "id": "0ad8b05d",
   "metadata": {
    "id": "0ad8b05d"
   },
   "source": [
    "### Шаг 1. Обзор данных"
   ]
  },
  {
   "cell_type": "code",
   "execution_count": 102,
   "id": "ed2f4c0f",
   "metadata": {
    "colab": {
     "base_uri": "https://localhost:8080/"
    },
    "id": "ed2f4c0f",
    "outputId": "d0e46494-7832-40eb-d1a0-8301a289fd5d",
    "scrolled": false
   },
   "outputs": [
    {
     "name": "stdout",
     "output_type": "stream",
     "text": [
      "<class 'pandas.core.frame.DataFrame'>\n",
      "RangeIndex: 21525 entries, 0 to 21524\n",
      "Data columns (total 12 columns):\n",
      " #   Column            Non-Null Count  Dtype  \n",
      "---  ------            --------------  -----  \n",
      " 0   children          21525 non-null  int64  \n",
      " 1   days_employed     19351 non-null  float64\n",
      " 2   dob_years         21525 non-null  int64  \n",
      " 3   education         21525 non-null  object \n",
      " 4   education_id      21525 non-null  int64  \n",
      " 5   family_status     21525 non-null  object \n",
      " 6   family_status_id  21525 non-null  int64  \n",
      " 7   gender            21525 non-null  object \n",
      " 8   income_type       21525 non-null  object \n",
      " 9   debt              21525 non-null  int64  \n",
      " 10  total_income      19351 non-null  float64\n",
      " 11  purpose           21525 non-null  object \n",
      "dtypes: float64(2), int64(5), object(5)\n",
      "memory usage: 2.0+ MB\n"
     ]
    }
   ],
   "source": [
    "import pandas as pd\n",
    "df = pd.read_csv('/datasets/data.csv')\n",
    "df.info()"
   ]
  },
  {
   "cell_type": "markdown",
   "id": "7jEtr0VktJUa",
   "metadata": {
    "id": "7jEtr0VktJUa"
   },
   "source": [
    "### Есть пропуски в столбцах days_employed и total_income "
   ]
  },
  {
   "cell_type": "code",
   "execution_count": 103,
   "id": "WIACGsXVtVpu",
   "metadata": {
    "colab": {
     "base_uri": "https://localhost:8080/"
    },
    "id": "WIACGsXVtVpu",
    "outputId": "7bb2c044-57f8-49b3-e0a6-0b0d01e86d09"
   },
   "outputs": [
    {
     "data": {
      "text/plain": [
       "days_employed       0.100999\n",
       "total_income        0.100999\n",
       "children            0.000000\n",
       "dob_years           0.000000\n",
       "education           0.000000\n",
       "education_id        0.000000\n",
       "family_status       0.000000\n",
       "family_status_id    0.000000\n",
       "gender              0.000000\n",
       "income_type         0.000000\n",
       "debt                0.000000\n",
       "purpose             0.000000\n",
       "dtype: float64"
      ]
     },
     "execution_count": 103,
     "metadata": {},
     "output_type": "execute_result"
    }
   ],
   "source": [
    "df.isna().mean().sort_values(ascending=False)"
   ]
  },
  {
   "cell_type": "markdown",
   "id": "B7yNe_F_tyj2",
   "metadata": {
    "id": "B7yNe_F_tyj2"
   },
   "source": [
    "### Процент пропущенных значений days_employed - 10.1%\n",
    "### Процент пропущенных значений total_income - 10.1%\n"
   ]
  },
  {
   "cell_type": "markdown",
   "id": "62104961",
   "metadata": {
    "id": "62104961"
   },
   "source": [
    "### Шаг 2.1 Заполнение пропусков"
   ]
  },
  {
   "cell_type": "code",
   "execution_count": 104,
   "id": "574f7ea8",
   "metadata": {
    "colab": {
     "base_uri": "https://localhost:8080/",
     "height": 363
    },
    "id": "574f7ea8",
    "outputId": "c0fed77b-390e-4413-822a-62718ca755f4"
   },
   "outputs": [
    {
     "data": {
      "text/html": [
       "<div>\n",
       "<style scoped>\n",
       "    .dataframe tbody tr th:only-of-type {\n",
       "        vertical-align: middle;\n",
       "    }\n",
       "\n",
       "    .dataframe tbody tr th {\n",
       "        vertical-align: top;\n",
       "    }\n",
       "\n",
       "    .dataframe thead th {\n",
       "        text-align: right;\n",
       "    }\n",
       "</style>\n",
       "<table border=\"1\" class=\"dataframe\">\n",
       "  <thead>\n",
       "    <tr style=\"text-align: right;\">\n",
       "      <th></th>\n",
       "      <th>children</th>\n",
       "      <th>days_employed</th>\n",
       "      <th>dob_years</th>\n",
       "      <th>education</th>\n",
       "      <th>education_id</th>\n",
       "      <th>family_status</th>\n",
       "      <th>family_status_id</th>\n",
       "      <th>gender</th>\n",
       "      <th>income_type</th>\n",
       "      <th>debt</th>\n",
       "      <th>total_income</th>\n",
       "      <th>purpose</th>\n",
       "    </tr>\n",
       "  </thead>\n",
       "  <tbody>\n",
       "    <tr>\n",
       "      <th>0</th>\n",
       "      <td>1</td>\n",
       "      <td>-8437.673028</td>\n",
       "      <td>42</td>\n",
       "      <td>высшее</td>\n",
       "      <td>0</td>\n",
       "      <td>женат / замужем</td>\n",
       "      <td>0</td>\n",
       "      <td>F</td>\n",
       "      <td>сотрудник</td>\n",
       "      <td>0</td>\n",
       "      <td>253875.639453</td>\n",
       "      <td>покупка жилья</td>\n",
       "    </tr>\n",
       "    <tr>\n",
       "      <th>1</th>\n",
       "      <td>1</td>\n",
       "      <td>-4024.803754</td>\n",
       "      <td>36</td>\n",
       "      <td>среднее</td>\n",
       "      <td>1</td>\n",
       "      <td>женат / замужем</td>\n",
       "      <td>0</td>\n",
       "      <td>F</td>\n",
       "      <td>сотрудник</td>\n",
       "      <td>0</td>\n",
       "      <td>112080.014102</td>\n",
       "      <td>приобретение автомобиля</td>\n",
       "    </tr>\n",
       "    <tr>\n",
       "      <th>2</th>\n",
       "      <td>0</td>\n",
       "      <td>-5623.422610</td>\n",
       "      <td>33</td>\n",
       "      <td>Среднее</td>\n",
       "      <td>1</td>\n",
       "      <td>женат / замужем</td>\n",
       "      <td>0</td>\n",
       "      <td>M</td>\n",
       "      <td>сотрудник</td>\n",
       "      <td>0</td>\n",
       "      <td>145885.952297</td>\n",
       "      <td>покупка жилья</td>\n",
       "    </tr>\n",
       "    <tr>\n",
       "      <th>3</th>\n",
       "      <td>3</td>\n",
       "      <td>-4124.747207</td>\n",
       "      <td>32</td>\n",
       "      <td>среднее</td>\n",
       "      <td>1</td>\n",
       "      <td>женат / замужем</td>\n",
       "      <td>0</td>\n",
       "      <td>M</td>\n",
       "      <td>сотрудник</td>\n",
       "      <td>0</td>\n",
       "      <td>267628.550329</td>\n",
       "      <td>дополнительное образование</td>\n",
       "    </tr>\n",
       "    <tr>\n",
       "      <th>4</th>\n",
       "      <td>0</td>\n",
       "      <td>340266.072047</td>\n",
       "      <td>53</td>\n",
       "      <td>среднее</td>\n",
       "      <td>1</td>\n",
       "      <td>гражданский брак</td>\n",
       "      <td>1</td>\n",
       "      <td>F</td>\n",
       "      <td>пенсионер</td>\n",
       "      <td>0</td>\n",
       "      <td>158616.077870</td>\n",
       "      <td>сыграть свадьбу</td>\n",
       "    </tr>\n",
       "    <tr>\n",
       "      <th>5</th>\n",
       "      <td>0</td>\n",
       "      <td>-926.185831</td>\n",
       "      <td>27</td>\n",
       "      <td>высшее</td>\n",
       "      <td>0</td>\n",
       "      <td>гражданский брак</td>\n",
       "      <td>1</td>\n",
       "      <td>M</td>\n",
       "      <td>компаньон</td>\n",
       "      <td>0</td>\n",
       "      <td>255763.565419</td>\n",
       "      <td>покупка жилья</td>\n",
       "    </tr>\n",
       "    <tr>\n",
       "      <th>6</th>\n",
       "      <td>0</td>\n",
       "      <td>-2879.202052</td>\n",
       "      <td>43</td>\n",
       "      <td>высшее</td>\n",
       "      <td>0</td>\n",
       "      <td>женат / замужем</td>\n",
       "      <td>0</td>\n",
       "      <td>F</td>\n",
       "      <td>компаньон</td>\n",
       "      <td>0</td>\n",
       "      <td>240525.971920</td>\n",
       "      <td>операции с жильем</td>\n",
       "    </tr>\n",
       "    <tr>\n",
       "      <th>7</th>\n",
       "      <td>0</td>\n",
       "      <td>-152.779569</td>\n",
       "      <td>50</td>\n",
       "      <td>СРЕДНЕЕ</td>\n",
       "      <td>1</td>\n",
       "      <td>женат / замужем</td>\n",
       "      <td>0</td>\n",
       "      <td>M</td>\n",
       "      <td>сотрудник</td>\n",
       "      <td>0</td>\n",
       "      <td>135823.934197</td>\n",
       "      <td>образование</td>\n",
       "    </tr>\n",
       "    <tr>\n",
       "      <th>8</th>\n",
       "      <td>2</td>\n",
       "      <td>-6929.865299</td>\n",
       "      <td>35</td>\n",
       "      <td>ВЫСШЕЕ</td>\n",
       "      <td>0</td>\n",
       "      <td>гражданский брак</td>\n",
       "      <td>1</td>\n",
       "      <td>F</td>\n",
       "      <td>сотрудник</td>\n",
       "      <td>0</td>\n",
       "      <td>95856.832424</td>\n",
       "      <td>на проведение свадьбы</td>\n",
       "    </tr>\n",
       "    <tr>\n",
       "      <th>9</th>\n",
       "      <td>0</td>\n",
       "      <td>-2188.756445</td>\n",
       "      <td>41</td>\n",
       "      <td>среднее</td>\n",
       "      <td>1</td>\n",
       "      <td>женат / замужем</td>\n",
       "      <td>0</td>\n",
       "      <td>M</td>\n",
       "      <td>сотрудник</td>\n",
       "      <td>0</td>\n",
       "      <td>144425.938277</td>\n",
       "      <td>покупка жилья для семьи</td>\n",
       "    </tr>\n",
       "  </tbody>\n",
       "</table>\n",
       "</div>"
      ],
      "text/plain": [
       "   children  days_employed  dob_years education  education_id  \\\n",
       "0         1   -8437.673028         42    высшее             0   \n",
       "1         1   -4024.803754         36   среднее             1   \n",
       "2         0   -5623.422610         33   Среднее             1   \n",
       "3         3   -4124.747207         32   среднее             1   \n",
       "4         0  340266.072047         53   среднее             1   \n",
       "5         0    -926.185831         27    высшее             0   \n",
       "6         0   -2879.202052         43    высшее             0   \n",
       "7         0    -152.779569         50   СРЕДНЕЕ             1   \n",
       "8         2   -6929.865299         35    ВЫСШЕЕ             0   \n",
       "9         0   -2188.756445         41   среднее             1   \n",
       "\n",
       "      family_status  family_status_id gender income_type  debt   total_income  \\\n",
       "0   женат / замужем                 0      F   сотрудник     0  253875.639453   \n",
       "1   женат / замужем                 0      F   сотрудник     0  112080.014102   \n",
       "2   женат / замужем                 0      M   сотрудник     0  145885.952297   \n",
       "3   женат / замужем                 0      M   сотрудник     0  267628.550329   \n",
       "4  гражданский брак                 1      F   пенсионер     0  158616.077870   \n",
       "5  гражданский брак                 1      M   компаньон     0  255763.565419   \n",
       "6   женат / замужем                 0      F   компаньон     0  240525.971920   \n",
       "7   женат / замужем                 0      M   сотрудник     0  135823.934197   \n",
       "8  гражданский брак                 1      F   сотрудник     0   95856.832424   \n",
       "9   женат / замужем                 0      M   сотрудник     0  144425.938277   \n",
       "\n",
       "                      purpose  \n",
       "0               покупка жилья  \n",
       "1     приобретение автомобиля  \n",
       "2               покупка жилья  \n",
       "3  дополнительное образование  \n",
       "4             сыграть свадьбу  \n",
       "5               покупка жилья  \n",
       "6           операции с жильем  \n",
       "7                 образование  \n",
       "8       на проведение свадьбы  \n",
       "9     покупка жилья для семьи  "
      ]
     },
     "execution_count": 104,
     "metadata": {},
     "output_type": "execute_result"
    }
   ],
   "source": [
    "df['days_employed'].fillna(df['days_employed'].median())\n",
    "df['total_income'].fillna(df['total_income'].median())\n",
    "df.head(10)"
   ]
  },
  {
   "cell_type": "markdown",
   "id": "k3bYr7jUvTTe",
   "metadata": {
    "id": "k3bYr7jUvTTe"
   },
   "source": [
    "#### Замена количественных значений медианными так как в таком случае значения будут более преближены к реальным, средняя вызовет перекос"
   ]
  },
  {
   "cell_type": "markdown",
   "id": "80433eb4",
   "metadata": {
    "id": "80433eb4"
   },
   "source": [
    "### Шаг 2.2 Проверка данных на аномалии и исправления."
   ]
  },
  {
   "cell_type": "code",
   "execution_count": 105,
   "id": "b42f79ca",
   "metadata": {
    "colab": {
     "base_uri": "https://localhost:8080/",
     "height": 300
    },
    "id": "b42f79ca",
    "outputId": "1384a861-7042-4482-e4a9-46052f798dd4"
   },
   "outputs": [
    {
     "data": {
      "text/html": [
       "<div>\n",
       "<style scoped>\n",
       "    .dataframe tbody tr th:only-of-type {\n",
       "        vertical-align: middle;\n",
       "    }\n",
       "\n",
       "    .dataframe tbody tr th {\n",
       "        vertical-align: top;\n",
       "    }\n",
       "\n",
       "    .dataframe thead th {\n",
       "        text-align: right;\n",
       "    }\n",
       "</style>\n",
       "<table border=\"1\" class=\"dataframe\">\n",
       "  <thead>\n",
       "    <tr style=\"text-align: right;\">\n",
       "      <th></th>\n",
       "      <th>children</th>\n",
       "      <th>days_employed</th>\n",
       "      <th>dob_years</th>\n",
       "      <th>education_id</th>\n",
       "      <th>family_status_id</th>\n",
       "      <th>debt</th>\n",
       "      <th>total_income</th>\n",
       "    </tr>\n",
       "  </thead>\n",
       "  <tbody>\n",
       "    <tr>\n",
       "      <th>count</th>\n",
       "      <td>21525.000000</td>\n",
       "      <td>19351.000000</td>\n",
       "      <td>21525.000000</td>\n",
       "      <td>21525.000000</td>\n",
       "      <td>21525.000000</td>\n",
       "      <td>21525.000000</td>\n",
       "      <td>1.935100e+04</td>\n",
       "    </tr>\n",
       "    <tr>\n",
       "      <th>mean</th>\n",
       "      <td>0.538908</td>\n",
       "      <td>63046.497661</td>\n",
       "      <td>43.293380</td>\n",
       "      <td>0.817236</td>\n",
       "      <td>0.972544</td>\n",
       "      <td>0.080883</td>\n",
       "      <td>1.674223e+05</td>\n",
       "    </tr>\n",
       "    <tr>\n",
       "      <th>std</th>\n",
       "      <td>1.381587</td>\n",
       "      <td>140827.311974</td>\n",
       "      <td>12.574584</td>\n",
       "      <td>0.548138</td>\n",
       "      <td>1.420324</td>\n",
       "      <td>0.272661</td>\n",
       "      <td>1.029716e+05</td>\n",
       "    </tr>\n",
       "    <tr>\n",
       "      <th>min</th>\n",
       "      <td>-1.000000</td>\n",
       "      <td>-18388.949901</td>\n",
       "      <td>0.000000</td>\n",
       "      <td>0.000000</td>\n",
       "      <td>0.000000</td>\n",
       "      <td>0.000000</td>\n",
       "      <td>2.066726e+04</td>\n",
       "    </tr>\n",
       "    <tr>\n",
       "      <th>25%</th>\n",
       "      <td>0.000000</td>\n",
       "      <td>-2747.423625</td>\n",
       "      <td>33.000000</td>\n",
       "      <td>1.000000</td>\n",
       "      <td>0.000000</td>\n",
       "      <td>0.000000</td>\n",
       "      <td>1.030532e+05</td>\n",
       "    </tr>\n",
       "    <tr>\n",
       "      <th>50%</th>\n",
       "      <td>0.000000</td>\n",
       "      <td>-1203.369529</td>\n",
       "      <td>42.000000</td>\n",
       "      <td>1.000000</td>\n",
       "      <td>0.000000</td>\n",
       "      <td>0.000000</td>\n",
       "      <td>1.450179e+05</td>\n",
       "    </tr>\n",
       "    <tr>\n",
       "      <th>75%</th>\n",
       "      <td>1.000000</td>\n",
       "      <td>-291.095954</td>\n",
       "      <td>53.000000</td>\n",
       "      <td>1.000000</td>\n",
       "      <td>1.000000</td>\n",
       "      <td>0.000000</td>\n",
       "      <td>2.034351e+05</td>\n",
       "    </tr>\n",
       "    <tr>\n",
       "      <th>max</th>\n",
       "      <td>20.000000</td>\n",
       "      <td>401755.400475</td>\n",
       "      <td>75.000000</td>\n",
       "      <td>4.000000</td>\n",
       "      <td>4.000000</td>\n",
       "      <td>1.000000</td>\n",
       "      <td>2.265604e+06</td>\n",
       "    </tr>\n",
       "  </tbody>\n",
       "</table>\n",
       "</div>"
      ],
      "text/plain": [
       "           children  days_employed     dob_years  education_id  \\\n",
       "count  21525.000000   19351.000000  21525.000000  21525.000000   \n",
       "mean       0.538908   63046.497661     43.293380      0.817236   \n",
       "std        1.381587  140827.311974     12.574584      0.548138   \n",
       "min       -1.000000  -18388.949901      0.000000      0.000000   \n",
       "25%        0.000000   -2747.423625     33.000000      1.000000   \n",
       "50%        0.000000   -1203.369529     42.000000      1.000000   \n",
       "75%        1.000000    -291.095954     53.000000      1.000000   \n",
       "max       20.000000  401755.400475     75.000000      4.000000   \n",
       "\n",
       "       family_status_id          debt  total_income  \n",
       "count      21525.000000  21525.000000  1.935100e+04  \n",
       "mean           0.972544      0.080883  1.674223e+05  \n",
       "std            1.420324      0.272661  1.029716e+05  \n",
       "min            0.000000      0.000000  2.066726e+04  \n",
       "25%            0.000000      0.000000  1.030532e+05  \n",
       "50%            0.000000      0.000000  1.450179e+05  \n",
       "75%            1.000000      0.000000  2.034351e+05  \n",
       "max            4.000000      1.000000  2.265604e+06  "
      ]
     },
     "execution_count": 105,
     "metadata": {},
     "output_type": "execute_result"
    }
   ],
   "source": [
    "df.describe()"
   ]
  },
  {
   "cell_type": "markdown",
   "id": "wAM2FvRZvs0V",
   "metadata": {
    "id": "wAM2FvRZvs0V"
   },
   "source": [
    "### Есть отрицательные значения количества детей\n",
    "### Есть не реально большое количество детей\n",
    "### Есть не реально большой трудовой стаж"
   ]
  },
  {
   "cell_type": "code",
   "execution_count": 106,
   "id": "a0b6959f",
   "metadata": {},
   "outputs": [
    {
     "data": {
      "text/plain": [
       " 0     0.657329\n",
       " 1     0.223833\n",
       " 2     0.095470\n",
       " 3     0.015331\n",
       " 20    0.003531\n",
       "-1     0.002184\n",
       " 4     0.001905\n",
       " 5     0.000418\n",
       "Name: children, dtype: float64"
      ]
     },
     "execution_count": 106,
     "metadata": {},
     "output_type": "execute_result"
    }
   ],
   "source": [
    "df['children'].value_counts()/len(df['children'])"
   ]
  },
  {
   "cell_type": "code",
   "execution_count": 107,
   "id": "5pSUXRHswUGb",
   "metadata": {
    "colab": {
     "base_uri": "https://localhost:8080/"
    },
    "id": "5pSUXRHswUGb",
    "outputId": "71a3040b-ef3b-49cf-95ed-28c40fd146f5",
    "scrolled": true
   },
   "outputs": [
    {
     "data": {
      "text/plain": [
       " 0     14149\n",
       " 1      4818\n",
       " 2      2055\n",
       " 3       330\n",
       " 20       76\n",
       "-1        47\n",
       " 4        41\n",
       " 5         9\n",
       "Name: children, dtype: int64"
      ]
     },
     "execution_count": 107,
     "metadata": {},
     "output_type": "execute_result"
    }
   ],
   "source": [
    "df['children'].value_counts()"
   ]
  },
  {
   "cell_type": "code",
   "execution_count": 108,
   "id": "Ht_792d7wm2N",
   "metadata": {
    "colab": {
     "base_uri": "https://localhost:8080/"
    },
    "id": "Ht_792d7wm2N",
    "outputId": "0aca8399-01a1-45c3-8ffc-2fd3285c51d1"
   },
   "outputs": [
    {
     "data": {
      "text/plain": [
       "0    14149\n",
       "1     4865\n",
       "2     2131\n",
       "3      330\n",
       "4       41\n",
       "5        9\n",
       "Name: children, dtype: int64"
      ]
     },
     "execution_count": 108,
     "metadata": {},
     "output_type": "execute_result"
    }
   ],
   "source": [
    "df = df.replace({'children':{-1:1, 20:2}})\n",
    "df['children'].value_counts()"
   ]
  },
  {
   "cell_type": "markdown",
   "id": "vB1DPncQwbn-",
   "metadata": {
    "id": "vB1DPncQwbn-"
   },
   "source": [
    "### Считаем -1 и 20 детей ошибочным вводом меняем на 1 и 2 соответственно"
   ]
  },
  {
   "cell_type": "code",
   "execution_count": 109,
   "id": "owZib5D57e3E",
   "metadata": {
    "colab": {
     "base_uri": "https://localhost:8080/",
     "height": 282
    },
    "id": "owZib5D57e3E",
    "outputId": "7be426eb-cc62-47f1-fa04-95aea309180a"
   },
   "outputs": [
    {
     "data": {
      "text/plain": [
       "<AxesSubplot:>"
      ]
     },
     "execution_count": 109,
     "metadata": {},
     "output_type": "execute_result"
    },
    {
     "data": {
      "image/png": "[encoded data removed]",
      "text/plain": [
       "<Figure size 432x288 with 1 Axes>"
      ]
     },
     "metadata": {
      "needs_background": "light"
     },
     "output_type": "display_data"
    }
   ],
   "source": [
    "df['days_employed'].hist(bins=20)\n"
   ]
  },
  {
   "cell_type": "markdown",
   "id": "YN5wqB01MC1J",
   "metadata": {
    "id": "YN5wqB01MC1J"
   },
   "source": [
    "#### В days_employed присутствуют аномально высокие даные по стажу\n"
   ]
  },
  {
   "cell_type": "code",
   "execution_count": 110,
   "id": "Qm-6W29cMnz7",
   "metadata": {
    "id": "Qm-6W29cMnz7"
   },
   "outputs": [],
   "source": [
    "df = df[df['days_employed'] < 300000]"
   ]
  },
  {
   "cell_type": "code",
   "execution_count": 111,
   "id": "Q3-6NEYCM2-U",
   "metadata": {
    "colab": {
     "base_uri": "https://localhost:8080/",
     "height": 282
    },
    "id": "Q3-6NEYCM2-U",
    "outputId": "456cb12d-a806-456e-a689-69afb0d77fcc"
   },
   "outputs": [
    {
     "data": {
      "text/plain": [
       "<AxesSubplot:>"
      ]
     },
     "execution_count": 111,
     "metadata": {},
     "output_type": "execute_result"
    },
    {
     "data": {
      "image/png": "[encoded data removed]",
      "text/plain": [
       "<Figure size 432x288 with 1 Axes>"
      ]
     },
     "metadata": {
      "needs_background": "light"
     },
     "output_type": "display_data"
    }
   ],
   "source": [
    "df['days_employed'].hist(bins=20)"
   ]
  },
  {
   "cell_type": "markdown",
   "id": "TXrHmS5KM9pp",
   "metadata": {
    "id": "TXrHmS5KM9pp"
   },
   "source": [
    "#### Отрицательных значений стажа быть не может"
   ]
  },
  {
   "cell_type": "code",
   "execution_count": 112,
   "id": "_TUUhoBPNORS",
   "metadata": {
    "colab": {
     "base_uri": "https://localhost:8080/",
     "height": 282
    },
    "id": "_TUUhoBPNORS",
    "outputId": "6e328bf5-c459-4a91-8174-38c654d37b4c"
   },
   "outputs": [
    {
     "data": {
      "text/plain": [
       "<AxesSubplot:>"
      ]
     },
     "execution_count": 112,
     "metadata": {},
     "output_type": "execute_result"
    },
    {
     "data": {
      "image/png": "[encoded data removed]",
      "text/plain": [
       "<Figure size 432x288 with 1 Axes>"
      ]
     },
     "metadata": {
      "needs_background": "light"
     },
     "output_type": "display_data"
    }
   ],
   "source": [
    "df['days_employed'] = df['days_employed'].abs()\n",
    "df['days_employed'].hist(bins=20)"
   ]
  },
  {
   "cell_type": "markdown",
   "id": "Gk5IizGLP6sG",
   "metadata": {
    "id": "Gk5IizGLP6sG"
   },
   "source": [
    "### Со стажем теперь порядок"
   ]
  },
  {
   "cell_type": "code",
   "execution_count": 113,
   "id": "IgI3g2rkP-xR",
   "metadata": {
    "colab": {
     "base_uri": "https://localhost:8080/",
     "height": 282
    },
    "id": "IgI3g2rkP-xR",
    "outputId": "e38151ae-b313-448b-a949-d557e3300440"
   },
   "outputs": [
    {
     "data": {
      "text/plain": [
       "<AxesSubplot:>"
      ]
     },
     "execution_count": 113,
     "metadata": {},
     "output_type": "execute_result"
    },
    {
     "data": {
      "image/png": "[encoded data removed]",
      "text/plain": [
       "<Figure size 432x288 with 1 Axes>"
      ]
     },
     "metadata": {
      "needs_background": "light"
     },
     "output_type": "display_data"
    }
   ],
   "source": [
    "df['dob_years'].hist(bins=20)"
   ]
  },
  {
   "cell_type": "markdown",
   "id": "hvwJKUznQJjO",
   "metadata": {
    "id": "hvwJKUznQJjO"
   },
   "source": [
    "### Менее 10 лет заемщику быть не может\n"
   ]
  },
  {
   "cell_type": "code",
   "execution_count": 114,
   "id": "sr6c1ey6QQZs",
   "metadata": {
    "colab": {
     "base_uri": "https://localhost:8080/",
     "height": 282
    },
    "id": "sr6c1ey6QQZs",
    "outputId": "e575bda7-7ffc-4d9a-d3b4-488f51bf597e"
   },
   "outputs": [
    {
     "data": {
      "text/plain": [
       "<AxesSubplot:>"
      ]
     },
     "execution_count": 114,
     "metadata": {},
     "output_type": "execute_result"
    },
    {
     "data": {
      "image/png": "[encoded data removed]",
      "text/plain": [
       "<Figure size 432x288 with 1 Axes>"
      ]
     },
     "metadata": {
      "needs_background": "light"
     },
     "output_type": "display_data"
    }
   ],
   "source": [
    "df = df[df['dob_years'] > 10]\n",
    "df['dob_years'].hist(bins=20)"
   ]
  },
  {
   "cell_type": "markdown",
   "id": "ryozzX_UQ01L",
   "metadata": {
    "id": "ryozzX_UQ01L"
   },
   "source": [
    "### С возрастом заемщика порядок"
   ]
  },
  {
   "cell_type": "code",
   "execution_count": 115,
   "id": "ocDKlRecRCVX",
   "metadata": {
    "colab": {
     "base_uri": "https://localhost:8080/",
     "height": 363
    },
    "id": "ocDKlRecRCVX",
    "outputId": "683e37de-faa1-4e68-a93a-0d6c73059f72"
   },
   "outputs": [
    {
     "data": {
      "text/html": [
       "<div>\n",
       "<style scoped>\n",
       "    .dataframe tbody tr th:only-of-type {\n",
       "        vertical-align: middle;\n",
       "    }\n",
       "\n",
       "    .dataframe tbody tr th {\n",
       "        vertical-align: top;\n",
       "    }\n",
       "\n",
       "    .dataframe thead th {\n",
       "        text-align: right;\n",
       "    }\n",
       "</style>\n",
       "<table border=\"1\" class=\"dataframe\">\n",
       "  <thead>\n",
       "    <tr style=\"text-align: right;\">\n",
       "      <th></th>\n",
       "      <th>children</th>\n",
       "      <th>days_employed</th>\n",
       "      <th>dob_years</th>\n",
       "      <th>education</th>\n",
       "      <th>education_id</th>\n",
       "      <th>family_status</th>\n",
       "      <th>family_status_id</th>\n",
       "      <th>gender</th>\n",
       "      <th>income_type</th>\n",
       "      <th>debt</th>\n",
       "      <th>total_income</th>\n",
       "      <th>purpose</th>\n",
       "    </tr>\n",
       "  </thead>\n",
       "  <tbody>\n",
       "    <tr>\n",
       "      <th>0</th>\n",
       "      <td>1</td>\n",
       "      <td>8437.673028</td>\n",
       "      <td>42</td>\n",
       "      <td>высшее</td>\n",
       "      <td>0</td>\n",
       "      <td>женат / замужем</td>\n",
       "      <td>0</td>\n",
       "      <td>F</td>\n",
       "      <td>сотрудник</td>\n",
       "      <td>0</td>\n",
       "      <td>253875.639453</td>\n",
       "      <td>покупка жилья</td>\n",
       "    </tr>\n",
       "    <tr>\n",
       "      <th>1</th>\n",
       "      <td>1</td>\n",
       "      <td>4024.803754</td>\n",
       "      <td>36</td>\n",
       "      <td>среднее</td>\n",
       "      <td>1</td>\n",
       "      <td>женат / замужем</td>\n",
       "      <td>0</td>\n",
       "      <td>F</td>\n",
       "      <td>сотрудник</td>\n",
       "      <td>0</td>\n",
       "      <td>112080.014102</td>\n",
       "      <td>приобретение автомобиля</td>\n",
       "    </tr>\n",
       "    <tr>\n",
       "      <th>2</th>\n",
       "      <td>0</td>\n",
       "      <td>5623.422610</td>\n",
       "      <td>33</td>\n",
       "      <td>Среднее</td>\n",
       "      <td>1</td>\n",
       "      <td>женат / замужем</td>\n",
       "      <td>0</td>\n",
       "      <td>M</td>\n",
       "      <td>сотрудник</td>\n",
       "      <td>0</td>\n",
       "      <td>145885.952297</td>\n",
       "      <td>покупка жилья</td>\n",
       "    </tr>\n",
       "    <tr>\n",
       "      <th>3</th>\n",
       "      <td>3</td>\n",
       "      <td>4124.747207</td>\n",
       "      <td>32</td>\n",
       "      <td>среднее</td>\n",
       "      <td>1</td>\n",
       "      <td>женат / замужем</td>\n",
       "      <td>0</td>\n",
       "      <td>M</td>\n",
       "      <td>сотрудник</td>\n",
       "      <td>0</td>\n",
       "      <td>267628.550329</td>\n",
       "      <td>дополнительное образование</td>\n",
       "    </tr>\n",
       "    <tr>\n",
       "      <th>5</th>\n",
       "      <td>0</td>\n",
       "      <td>926.185831</td>\n",
       "      <td>27</td>\n",
       "      <td>высшее</td>\n",
       "      <td>0</td>\n",
       "      <td>гражданский брак</td>\n",
       "      <td>1</td>\n",
       "      <td>M</td>\n",
       "      <td>компаньон</td>\n",
       "      <td>0</td>\n",
       "      <td>255763.565419</td>\n",
       "      <td>покупка жилья</td>\n",
       "    </tr>\n",
       "    <tr>\n",
       "      <th>6</th>\n",
       "      <td>0</td>\n",
       "      <td>2879.202052</td>\n",
       "      <td>43</td>\n",
       "      <td>высшее</td>\n",
       "      <td>0</td>\n",
       "      <td>женат / замужем</td>\n",
       "      <td>0</td>\n",
       "      <td>F</td>\n",
       "      <td>компаньон</td>\n",
       "      <td>0</td>\n",
       "      <td>240525.971920</td>\n",
       "      <td>операции с жильем</td>\n",
       "    </tr>\n",
       "    <tr>\n",
       "      <th>7</th>\n",
       "      <td>0</td>\n",
       "      <td>152.779569</td>\n",
       "      <td>50</td>\n",
       "      <td>СРЕДНЕЕ</td>\n",
       "      <td>1</td>\n",
       "      <td>женат / замужем</td>\n",
       "      <td>0</td>\n",
       "      <td>M</td>\n",
       "      <td>сотрудник</td>\n",
       "      <td>0</td>\n",
       "      <td>135823.934197</td>\n",
       "      <td>образование</td>\n",
       "    </tr>\n",
       "    <tr>\n",
       "      <th>8</th>\n",
       "      <td>2</td>\n",
       "      <td>6929.865299</td>\n",
       "      <td>35</td>\n",
       "      <td>ВЫСШЕЕ</td>\n",
       "      <td>0</td>\n",
       "      <td>гражданский брак</td>\n",
       "      <td>1</td>\n",
       "      <td>F</td>\n",
       "      <td>сотрудник</td>\n",
       "      <td>0</td>\n",
       "      <td>95856.832424</td>\n",
       "      <td>на проведение свадьбы</td>\n",
       "    </tr>\n",
       "    <tr>\n",
       "      <th>9</th>\n",
       "      <td>0</td>\n",
       "      <td>2188.756445</td>\n",
       "      <td>41</td>\n",
       "      <td>среднее</td>\n",
       "      <td>1</td>\n",
       "      <td>женат / замужем</td>\n",
       "      <td>0</td>\n",
       "      <td>M</td>\n",
       "      <td>сотрудник</td>\n",
       "      <td>0</td>\n",
       "      <td>144425.938277</td>\n",
       "      <td>покупка жилья для семьи</td>\n",
       "    </tr>\n",
       "    <tr>\n",
       "      <th>10</th>\n",
       "      <td>2</td>\n",
       "      <td>4171.483647</td>\n",
       "      <td>36</td>\n",
       "      <td>высшее</td>\n",
       "      <td>0</td>\n",
       "      <td>женат / замужем</td>\n",
       "      <td>0</td>\n",
       "      <td>M</td>\n",
       "      <td>компаньон</td>\n",
       "      <td>0</td>\n",
       "      <td>113943.491460</td>\n",
       "      <td>покупка недвижимости</td>\n",
       "    </tr>\n",
       "  </tbody>\n",
       "</table>\n",
       "</div>"
      ],
      "text/plain": [
       "    children  days_employed  dob_years education  education_id  \\\n",
       "0          1    8437.673028         42    высшее             0   \n",
       "1          1    4024.803754         36   среднее             1   \n",
       "2          0    5623.422610         33   Среднее             1   \n",
       "3          3    4124.747207         32   среднее             1   \n",
       "5          0     926.185831         27    высшее             0   \n",
       "6          0    2879.202052         43    высшее             0   \n",
       "7          0     152.779569         50   СРЕДНЕЕ             1   \n",
       "8          2    6929.865299         35    ВЫСШЕЕ             0   \n",
       "9          0    2188.756445         41   среднее             1   \n",
       "10         2    4171.483647         36    высшее             0   \n",
       "\n",
       "       family_status  family_status_id gender income_type  debt  \\\n",
       "0    женат / замужем                 0      F   сотрудник     0   \n",
       "1    женат / замужем                 0      F   сотрудник     0   \n",
       "2    женат / замужем                 0      M   сотрудник     0   \n",
       "3    женат / замужем                 0      M   сотрудник     0   \n",
       "5   гражданский брак                 1      M   компаньон     0   \n",
       "6    женат / замужем                 0      F   компаньон     0   \n",
       "7    женат / замужем                 0      M   сотрудник     0   \n",
       "8   гражданский брак                 1      F   сотрудник     0   \n",
       "9    женат / замужем                 0      M   сотрудник     0   \n",
       "10   женат / замужем                 0      M   компаньон     0   \n",
       "\n",
       "     total_income                     purpose  \n",
       "0   253875.639453               покупка жилья  \n",
       "1   112080.014102     приобретение автомобиля  \n",
       "2   145885.952297               покупка жилья  \n",
       "3   267628.550329  дополнительное образование  \n",
       "5   255763.565419               покупка жилья  \n",
       "6   240525.971920           операции с жильем  \n",
       "7   135823.934197                 образование  \n",
       "8    95856.832424       на проведение свадьбы  \n",
       "9   144425.938277     покупка жилья для семьи  \n",
       "10  113943.491460        покупка недвижимости  "
      ]
     },
     "execution_count": 115,
     "metadata": {},
     "output_type": "execute_result"
    }
   ],
   "source": [
    "df.head(10)"
   ]
  },
  {
   "cell_type": "markdown",
   "id": "36958d62",
   "metadata": {
    "id": "36958d62"
   },
   "source": [
    "### Шаг 2.3. Изменение типов данных."
   ]
  },
  {
   "cell_type": "code",
   "execution_count": 116,
   "id": "knoyam8SbGW1",
   "metadata": {
    "id": "knoyam8SbGW1"
   },
   "outputs": [],
   "source": [
    "df['total_income'] = df['total_income'].astype('int')"
   ]
  },
  {
   "cell_type": "markdown",
   "id": "727f8b93",
   "metadata": {
    "id": "727f8b93"
   },
   "source": [
    "### Шаг 2.4. Удаление дубликатов."
   ]
  },
  {
   "cell_type": "code",
   "execution_count": 117,
   "id": "f49deb5b",
   "metadata": {
    "colab": {
     "base_uri": "https://localhost:8080/"
    },
    "id": "f49deb5b",
    "outputId": "c811e4ae-c550-46ff-b63f-187e37d2fb86"
   },
   "outputs": [
    {
     "data": {
      "text/plain": [
       "0"
      ]
     },
     "execution_count": 117,
     "metadata": {},
     "output_type": "execute_result"
    }
   ],
   "source": [
    "df.duplicated().sum()"
   ]
  },
  {
   "cell_type": "markdown",
   "id": "9HvQRC74VPng",
   "metadata": {
    "id": "9HvQRC74VPng"
   },
   "source": [
    "### Явных дубликатов нет"
   ]
  },
  {
   "cell_type": "code",
   "execution_count": 118,
   "id": "DKtF7qE6Vhr1",
   "metadata": {
    "colab": {
     "base_uri": "https://localhost:8080/"
    },
    "id": "DKtF7qE6Vhr1",
    "outputId": "0cf390cf-d439-4f94-cbd2-0518eb522f58"
   },
   "outputs": [
    {
     "data": {
      "text/plain": [
       "array(['высшее', 'среднее', 'Среднее', 'СРЕДНЕЕ', 'ВЫСШЕЕ',\n",
       "       'неоконченное высшее', 'начальное', 'Высшее',\n",
       "       'НЕОКОНЧЕННОЕ ВЫСШЕЕ', 'Неоконченное высшее', 'НАЧАЛЬНОЕ',\n",
       "       'Начальное', 'УЧЕНАЯ СТЕПЕНЬ', 'ученая степень'], dtype=object)"
      ]
     },
     "execution_count": 118,
     "metadata": {},
     "output_type": "execute_result"
    }
   ],
   "source": [
    "df['education'].unique() "
   ]
  },
  {
   "cell_type": "markdown",
   "id": "OoilwqssVqYN",
   "metadata": {
    "id": "OoilwqssVqYN"
   },
   "source": [
    "### Присутствуют неявные дубликаты из за разности регистра\n"
   ]
  },
  {
   "cell_type": "code",
   "execution_count": 119,
   "id": "5R04vKEFVz_N",
   "metadata": {
    "colab": {
     "base_uri": "https://localhost:8080/",
     "height": 363
    },
    "id": "5R04vKEFVz_N",
    "outputId": "3a19965f-03e7-4f4d-949a-23d6300f215e",
    "scrolled": true
   },
   "outputs": [
    {
     "data": {
      "text/html": [
       "<div>\n",
       "<style scoped>\n",
       "    .dataframe tbody tr th:only-of-type {\n",
       "        vertical-align: middle;\n",
       "    }\n",
       "\n",
       "    .dataframe tbody tr th {\n",
       "        vertical-align: top;\n",
       "    }\n",
       "\n",
       "    .dataframe thead th {\n",
       "        text-align: right;\n",
       "    }\n",
       "</style>\n",
       "<table border=\"1\" class=\"dataframe\">\n",
       "  <thead>\n",
       "    <tr style=\"text-align: right;\">\n",
       "      <th></th>\n",
       "      <th>children</th>\n",
       "      <th>days_employed</th>\n",
       "      <th>dob_years</th>\n",
       "      <th>education</th>\n",
       "      <th>education_id</th>\n",
       "      <th>family_status</th>\n",
       "      <th>family_status_id</th>\n",
       "      <th>gender</th>\n",
       "      <th>income_type</th>\n",
       "      <th>debt</th>\n",
       "      <th>total_income</th>\n",
       "      <th>purpose</th>\n",
       "    </tr>\n",
       "  </thead>\n",
       "  <tbody>\n",
       "    <tr>\n",
       "      <th>0</th>\n",
       "      <td>1</td>\n",
       "      <td>8437.673028</td>\n",
       "      <td>42</td>\n",
       "      <td>высшее</td>\n",
       "      <td>0</td>\n",
       "      <td>женат / замужем</td>\n",
       "      <td>0</td>\n",
       "      <td>F</td>\n",
       "      <td>сотрудник</td>\n",
       "      <td>0</td>\n",
       "      <td>253875</td>\n",
       "      <td>покупка жилья</td>\n",
       "    </tr>\n",
       "    <tr>\n",
       "      <th>1</th>\n",
       "      <td>1</td>\n",
       "      <td>4024.803754</td>\n",
       "      <td>36</td>\n",
       "      <td>среднее</td>\n",
       "      <td>1</td>\n",
       "      <td>женат / замужем</td>\n",
       "      <td>0</td>\n",
       "      <td>F</td>\n",
       "      <td>сотрудник</td>\n",
       "      <td>0</td>\n",
       "      <td>112080</td>\n",
       "      <td>приобретение автомобиля</td>\n",
       "    </tr>\n",
       "    <tr>\n",
       "      <th>2</th>\n",
       "      <td>0</td>\n",
       "      <td>5623.422610</td>\n",
       "      <td>33</td>\n",
       "      <td>среднее</td>\n",
       "      <td>1</td>\n",
       "      <td>женат / замужем</td>\n",
       "      <td>0</td>\n",
       "      <td>M</td>\n",
       "      <td>сотрудник</td>\n",
       "      <td>0</td>\n",
       "      <td>145885</td>\n",
       "      <td>покупка жилья</td>\n",
       "    </tr>\n",
       "    <tr>\n",
       "      <th>3</th>\n",
       "      <td>3</td>\n",
       "      <td>4124.747207</td>\n",
       "      <td>32</td>\n",
       "      <td>среднее</td>\n",
       "      <td>1</td>\n",
       "      <td>женат / замужем</td>\n",
       "      <td>0</td>\n",
       "      <td>M</td>\n",
       "      <td>сотрудник</td>\n",
       "      <td>0</td>\n",
       "      <td>267628</td>\n",
       "      <td>дополнительное образование</td>\n",
       "    </tr>\n",
       "    <tr>\n",
       "      <th>5</th>\n",
       "      <td>0</td>\n",
       "      <td>926.185831</td>\n",
       "      <td>27</td>\n",
       "      <td>высшее</td>\n",
       "      <td>0</td>\n",
       "      <td>гражданский брак</td>\n",
       "      <td>1</td>\n",
       "      <td>M</td>\n",
       "      <td>компаньон</td>\n",
       "      <td>0</td>\n",
       "      <td>255763</td>\n",
       "      <td>покупка жилья</td>\n",
       "    </tr>\n",
       "    <tr>\n",
       "      <th>6</th>\n",
       "      <td>0</td>\n",
       "      <td>2879.202052</td>\n",
       "      <td>43</td>\n",
       "      <td>высшее</td>\n",
       "      <td>0</td>\n",
       "      <td>женат / замужем</td>\n",
       "      <td>0</td>\n",
       "      <td>F</td>\n",
       "      <td>компаньон</td>\n",
       "      <td>0</td>\n",
       "      <td>240525</td>\n",
       "      <td>операции с жильем</td>\n",
       "    </tr>\n",
       "    <tr>\n",
       "      <th>7</th>\n",
       "      <td>0</td>\n",
       "      <td>152.779569</td>\n",
       "      <td>50</td>\n",
       "      <td>среднее</td>\n",
       "      <td>1</td>\n",
       "      <td>женат / замужем</td>\n",
       "      <td>0</td>\n",
       "      <td>M</td>\n",
       "      <td>сотрудник</td>\n",
       "      <td>0</td>\n",
       "      <td>135823</td>\n",
       "      <td>образование</td>\n",
       "    </tr>\n",
       "    <tr>\n",
       "      <th>8</th>\n",
       "      <td>2</td>\n",
       "      <td>6929.865299</td>\n",
       "      <td>35</td>\n",
       "      <td>высшее</td>\n",
       "      <td>0</td>\n",
       "      <td>гражданский брак</td>\n",
       "      <td>1</td>\n",
       "      <td>F</td>\n",
       "      <td>сотрудник</td>\n",
       "      <td>0</td>\n",
       "      <td>95856</td>\n",
       "      <td>на проведение свадьбы</td>\n",
       "    </tr>\n",
       "    <tr>\n",
       "      <th>9</th>\n",
       "      <td>0</td>\n",
       "      <td>2188.756445</td>\n",
       "      <td>41</td>\n",
       "      <td>среднее</td>\n",
       "      <td>1</td>\n",
       "      <td>женат / замужем</td>\n",
       "      <td>0</td>\n",
       "      <td>M</td>\n",
       "      <td>сотрудник</td>\n",
       "      <td>0</td>\n",
       "      <td>144425</td>\n",
       "      <td>покупка жилья для семьи</td>\n",
       "    </tr>\n",
       "    <tr>\n",
       "      <th>10</th>\n",
       "      <td>2</td>\n",
       "      <td>4171.483647</td>\n",
       "      <td>36</td>\n",
       "      <td>высшее</td>\n",
       "      <td>0</td>\n",
       "      <td>женат / замужем</td>\n",
       "      <td>0</td>\n",
       "      <td>M</td>\n",
       "      <td>компаньон</td>\n",
       "      <td>0</td>\n",
       "      <td>113943</td>\n",
       "      <td>покупка недвижимости</td>\n",
       "    </tr>\n",
       "  </tbody>\n",
       "</table>\n",
       "</div>"
      ],
      "text/plain": [
       "    children  days_employed  dob_years education  education_id  \\\n",
       "0          1    8437.673028         42    высшее             0   \n",
       "1          1    4024.803754         36   среднее             1   \n",
       "2          0    5623.422610         33   среднее             1   \n",
       "3          3    4124.747207         32   среднее             1   \n",
       "5          0     926.185831         27    высшее             0   \n",
       "6          0    2879.202052         43    высшее             0   \n",
       "7          0     152.779569         50   среднее             1   \n",
       "8          2    6929.865299         35    высшее             0   \n",
       "9          0    2188.756445         41   среднее             1   \n",
       "10         2    4171.483647         36    высшее             0   \n",
       "\n",
       "       family_status  family_status_id gender income_type  debt  total_income  \\\n",
       "0    женат / замужем                 0      F   сотрудник     0        253875   \n",
       "1    женат / замужем                 0      F   сотрудник     0        112080   \n",
       "2    женат / замужем                 0      M   сотрудник     0        145885   \n",
       "3    женат / замужем                 0      M   сотрудник     0        267628   \n",
       "5   гражданский брак                 1      M   компаньон     0        255763   \n",
       "6    женат / замужем                 0      F   компаньон     0        240525   \n",
       "7    женат / замужем                 0      M   сотрудник     0        135823   \n",
       "8   гражданский брак                 1      F   сотрудник     0         95856   \n",
       "9    женат / замужем                 0      M   сотрудник     0        144425   \n",
       "10   женат / замужем                 0      M   компаньон     0        113943   \n",
       "\n",
       "                       purpose  \n",
       "0                покупка жилья  \n",
       "1      приобретение автомобиля  \n",
       "2                покупка жилья  \n",
       "3   дополнительное образование  \n",
       "5                покупка жилья  \n",
       "6            операции с жильем  \n",
       "7                  образование  \n",
       "8        на проведение свадьбы  \n",
       "9      покупка жилья для семьи  \n",
       "10        покупка недвижимости  "
      ]
     },
     "execution_count": 119,
     "metadata": {},
     "output_type": "execute_result"
    }
   ],
   "source": [
    "df['education'] = df['education'].str.lower()\n",
    "df.head(10)"
   ]
  },
  {
   "cell_type": "code",
   "execution_count": 120,
   "id": "lkd-RmJNWSOv",
   "metadata": {
    "colab": {
     "base_uri": "https://localhost:8080/"
    },
    "id": "lkd-RmJNWSOv",
    "outputId": "c45c3950-b738-4ec7-adcf-bd49e0722117"
   },
   "outputs": [
    {
     "data": {
      "text/plain": [
       "array(['женат / замужем', 'гражданский брак', 'в разводе',\n",
       "       'Не женат / не замужем', 'вдовец / вдова'], dtype=object)"
      ]
     },
     "execution_count": 120,
     "metadata": {},
     "output_type": "execute_result"
    }
   ],
   "source": [
    "df['family_status'].unique() "
   ]
  },
  {
   "cell_type": "code",
   "execution_count": 121,
   "id": "Gx9hmlzpWXoY",
   "metadata": {
    "colab": {
     "base_uri": "https://localhost:8080/"
    },
    "id": "Gx9hmlzpWXoY",
    "outputId": "26db0b8f-5dc2-4849-d448-8f6764ebea92",
    "scrolled": true
   },
   "outputs": [
    {
     "data": {
      "text/plain": [
       "array(['сотрудник', 'компаньон', 'госслужащий', 'студент',\n",
       "       'предприниматель', 'в декрете'], dtype=object)"
      ]
     },
     "execution_count": 121,
     "metadata": {},
     "output_type": "execute_result"
    }
   ],
   "source": [
    "df['income_type'].unique() "
   ]
  },
  {
   "cell_type": "markdown",
   "id": "36d8f9ed",
   "metadata": {},
   "source": [
    "#### В должностях и семейном положении дубликатов нет"
   ]
  },
  {
   "cell_type": "markdown",
   "id": "c1d291f9",
   "metadata": {
    "id": "c1d291f9"
   },
   "source": [
    "### Шаг 2.5. Формирование дополнительных датафреймов словарей, декомпозиция исходного датафрейма."
   ]
  },
  {
   "cell_type": "code",
   "execution_count": 122,
   "id": "0a48b1f9",
   "metadata": {
    "colab": {
     "base_uri": "https://localhost:8080/",
     "height": 206
    },
    "id": "0a48b1f9",
    "outputId": "f2532371-acf4-483e-c361-2bfbe4afaf86"
   },
   "outputs": [
    {
     "data": {
      "text/html": [
       "<div>\n",
       "<style scoped>\n",
       "    .dataframe tbody tr th:only-of-type {\n",
       "        vertical-align: middle;\n",
       "    }\n",
       "\n",
       "    .dataframe tbody tr th {\n",
       "        vertical-align: top;\n",
       "    }\n",
       "\n",
       "    .dataframe thead th {\n",
       "        text-align: right;\n",
       "    }\n",
       "</style>\n",
       "<table border=\"1\" class=\"dataframe\">\n",
       "  <thead>\n",
       "    <tr style=\"text-align: right;\">\n",
       "      <th></th>\n",
       "      <th>education</th>\n",
       "      <th>education_id</th>\n",
       "    </tr>\n",
       "  </thead>\n",
       "  <tbody>\n",
       "    <tr>\n",
       "      <th>0</th>\n",
       "      <td>высшее</td>\n",
       "      <td>0</td>\n",
       "    </tr>\n",
       "    <tr>\n",
       "      <th>1</th>\n",
       "      <td>среднее</td>\n",
       "      <td>1</td>\n",
       "    </tr>\n",
       "    <tr>\n",
       "      <th>2</th>\n",
       "      <td>неоконченное высшее</td>\n",
       "      <td>2</td>\n",
       "    </tr>\n",
       "    <tr>\n",
       "      <th>3</th>\n",
       "      <td>начальное</td>\n",
       "      <td>3</td>\n",
       "    </tr>\n",
       "    <tr>\n",
       "      <th>4</th>\n",
       "      <td>ученая степень</td>\n",
       "      <td>4</td>\n",
       "    </tr>\n",
       "  </tbody>\n",
       "</table>\n",
       "</div>"
      ],
      "text/plain": [
       "             education  education_id\n",
       "0               высшее             0\n",
       "1              среднее             1\n",
       "2  неоконченное высшее             2\n",
       "3            начальное             3\n",
       "4       ученая степень             4"
      ]
     },
     "execution_count": 122,
     "metadata": {},
     "output_type": "execute_result"
    }
   ],
   "source": [
    "df_education = df[['education','education_id']].drop_duplicates().reset_index(drop=True)\n",
    "df_education"
   ]
  },
  {
   "cell_type": "code",
   "execution_count": 123,
   "id": "RVV9BHSXXF7_",
   "metadata": {
    "colab": {
     "base_uri": "https://localhost:8080/",
     "height": 206
    },
    "id": "RVV9BHSXXF7_",
    "outputId": "39b68574-12cb-453c-bb21-e75646780725"
   },
   "outputs": [
    {
     "data": {
      "text/html": [
       "<div>\n",
       "<style scoped>\n",
       "    .dataframe tbody tr th:only-of-type {\n",
       "        vertical-align: middle;\n",
       "    }\n",
       "\n",
       "    .dataframe tbody tr th {\n",
       "        vertical-align: top;\n",
       "    }\n",
       "\n",
       "    .dataframe thead th {\n",
       "        text-align: right;\n",
       "    }\n",
       "</style>\n",
       "<table border=\"1\" class=\"dataframe\">\n",
       "  <thead>\n",
       "    <tr style=\"text-align: right;\">\n",
       "      <th></th>\n",
       "      <th>family_status</th>\n",
       "      <th>family_status_id</th>\n",
       "    </tr>\n",
       "  </thead>\n",
       "  <tbody>\n",
       "    <tr>\n",
       "      <th>0</th>\n",
       "      <td>женат / замужем</td>\n",
       "      <td>0</td>\n",
       "    </tr>\n",
       "    <tr>\n",
       "      <th>1</th>\n",
       "      <td>гражданский брак</td>\n",
       "      <td>1</td>\n",
       "    </tr>\n",
       "    <tr>\n",
       "      <th>2</th>\n",
       "      <td>в разводе</td>\n",
       "      <td>3</td>\n",
       "    </tr>\n",
       "    <tr>\n",
       "      <th>3</th>\n",
       "      <td>Не женат / не замужем</td>\n",
       "      <td>4</td>\n",
       "    </tr>\n",
       "    <tr>\n",
       "      <th>4</th>\n",
       "      <td>вдовец / вдова</td>\n",
       "      <td>2</td>\n",
       "    </tr>\n",
       "  </tbody>\n",
       "</table>\n",
       "</div>"
      ],
      "text/plain": [
       "           family_status  family_status_id\n",
       "0        женат / замужем                 0\n",
       "1       гражданский брак                 1\n",
       "2              в разводе                 3\n",
       "3  Не женат / не замужем                 4\n",
       "4         вдовец / вдова                 2"
      ]
     },
     "execution_count": 123,
     "metadata": {},
     "output_type": "execute_result"
    }
   ],
   "source": [
    "df_family_status = df[['family_status','family_status_id']].drop_duplicates().reset_index(drop=True)\n",
    "df_family_status"
   ]
  },
  {
   "cell_type": "code",
   "execution_count": 124,
   "id": "kqC5IBAnXteU",
   "metadata": {
    "id": "kqC5IBAnXteU"
   },
   "outputs": [],
   "source": [
    "df = df.drop(['family_status','education'],axis=1)"
   ]
  },
  {
   "cell_type": "code",
   "execution_count": 125,
   "id": "ABI9HtvzYq-b",
   "metadata": {
    "colab": {
     "base_uri": "https://localhost:8080/",
     "height": 424
    },
    "id": "ABI9HtvzYq-b",
    "outputId": "04258433-0f41-4a00-e872-4f5ab1c7648a"
   },
   "outputs": [
    {
     "data": {
      "text/html": [
       "<div>\n",
       "<style scoped>\n",
       "    .dataframe tbody tr th:only-of-type {\n",
       "        vertical-align: middle;\n",
       "    }\n",
       "\n",
       "    .dataframe tbody tr th {\n",
       "        vertical-align: top;\n",
       "    }\n",
       "\n",
       "    .dataframe thead th {\n",
       "        text-align: right;\n",
       "    }\n",
       "</style>\n",
       "<table border=\"1\" class=\"dataframe\">\n",
       "  <thead>\n",
       "    <tr style=\"text-align: right;\">\n",
       "      <th></th>\n",
       "      <th>children</th>\n",
       "      <th>days_employed</th>\n",
       "      <th>dob_years</th>\n",
       "      <th>education_id</th>\n",
       "      <th>family_status_id</th>\n",
       "      <th>gender</th>\n",
       "      <th>income_type</th>\n",
       "      <th>debt</th>\n",
       "      <th>total_income</th>\n",
       "      <th>purpose</th>\n",
       "    </tr>\n",
       "  </thead>\n",
       "  <tbody>\n",
       "    <tr>\n",
       "      <th>0</th>\n",
       "      <td>1</td>\n",
       "      <td>8437.673028</td>\n",
       "      <td>42</td>\n",
       "      <td>0</td>\n",
       "      <td>0</td>\n",
       "      <td>F</td>\n",
       "      <td>сотрудник</td>\n",
       "      <td>0</td>\n",
       "      <td>253875</td>\n",
       "      <td>покупка жилья</td>\n",
       "    </tr>\n",
       "    <tr>\n",
       "      <th>1</th>\n",
       "      <td>1</td>\n",
       "      <td>4024.803754</td>\n",
       "      <td>36</td>\n",
       "      <td>1</td>\n",
       "      <td>0</td>\n",
       "      <td>F</td>\n",
       "      <td>сотрудник</td>\n",
       "      <td>0</td>\n",
       "      <td>112080</td>\n",
       "      <td>приобретение автомобиля</td>\n",
       "    </tr>\n",
       "    <tr>\n",
       "      <th>2</th>\n",
       "      <td>0</td>\n",
       "      <td>5623.422610</td>\n",
       "      <td>33</td>\n",
       "      <td>1</td>\n",
       "      <td>0</td>\n",
       "      <td>M</td>\n",
       "      <td>сотрудник</td>\n",
       "      <td>0</td>\n",
       "      <td>145885</td>\n",
       "      <td>покупка жилья</td>\n",
       "    </tr>\n",
       "    <tr>\n",
       "      <th>3</th>\n",
       "      <td>3</td>\n",
       "      <td>4124.747207</td>\n",
       "      <td>32</td>\n",
       "      <td>1</td>\n",
       "      <td>0</td>\n",
       "      <td>M</td>\n",
       "      <td>сотрудник</td>\n",
       "      <td>0</td>\n",
       "      <td>267628</td>\n",
       "      <td>дополнительное образование</td>\n",
       "    </tr>\n",
       "    <tr>\n",
       "      <th>5</th>\n",
       "      <td>0</td>\n",
       "      <td>926.185831</td>\n",
       "      <td>27</td>\n",
       "      <td>0</td>\n",
       "      <td>1</td>\n",
       "      <td>M</td>\n",
       "      <td>компаньон</td>\n",
       "      <td>0</td>\n",
       "      <td>255763</td>\n",
       "      <td>покупка жилья</td>\n",
       "    </tr>\n",
       "    <tr>\n",
       "      <th>...</th>\n",
       "      <td>...</td>\n",
       "      <td>...</td>\n",
       "      <td>...</td>\n",
       "      <td>...</td>\n",
       "      <td>...</td>\n",
       "      <td>...</td>\n",
       "      <td>...</td>\n",
       "      <td>...</td>\n",
       "      <td>...</td>\n",
       "      <td>...</td>\n",
       "    </tr>\n",
       "    <tr>\n",
       "      <th>21519</th>\n",
       "      <td>1</td>\n",
       "      <td>2351.431934</td>\n",
       "      <td>37</td>\n",
       "      <td>4</td>\n",
       "      <td>3</td>\n",
       "      <td>M</td>\n",
       "      <td>сотрудник</td>\n",
       "      <td>0</td>\n",
       "      <td>115949</td>\n",
       "      <td>покупка коммерческой недвижимости</td>\n",
       "    </tr>\n",
       "    <tr>\n",
       "      <th>21520</th>\n",
       "      <td>1</td>\n",
       "      <td>4529.316663</td>\n",
       "      <td>43</td>\n",
       "      <td>1</td>\n",
       "      <td>1</td>\n",
       "      <td>F</td>\n",
       "      <td>компаньон</td>\n",
       "      <td>0</td>\n",
       "      <td>224791</td>\n",
       "      <td>операции с жильем</td>\n",
       "    </tr>\n",
       "    <tr>\n",
       "      <th>21522</th>\n",
       "      <td>1</td>\n",
       "      <td>2113.346888</td>\n",
       "      <td>38</td>\n",
       "      <td>1</td>\n",
       "      <td>1</td>\n",
       "      <td>M</td>\n",
       "      <td>сотрудник</td>\n",
       "      <td>1</td>\n",
       "      <td>89672</td>\n",
       "      <td>недвижимость</td>\n",
       "    </tr>\n",
       "    <tr>\n",
       "      <th>21523</th>\n",
       "      <td>3</td>\n",
       "      <td>3112.481705</td>\n",
       "      <td>38</td>\n",
       "      <td>1</td>\n",
       "      <td>0</td>\n",
       "      <td>M</td>\n",
       "      <td>сотрудник</td>\n",
       "      <td>1</td>\n",
       "      <td>244093</td>\n",
       "      <td>на покупку своего автомобиля</td>\n",
       "    </tr>\n",
       "    <tr>\n",
       "      <th>21524</th>\n",
       "      <td>2</td>\n",
       "      <td>1984.507589</td>\n",
       "      <td>40</td>\n",
       "      <td>1</td>\n",
       "      <td>0</td>\n",
       "      <td>F</td>\n",
       "      <td>сотрудник</td>\n",
       "      <td>0</td>\n",
       "      <td>82047</td>\n",
       "      <td>на покупку автомобиля</td>\n",
       "    </tr>\n",
       "  </tbody>\n",
       "</table>\n",
       "<p>15832 rows × 10 columns</p>\n",
       "</div>"
      ],
      "text/plain": [
       "       children  days_employed  dob_years  education_id  family_status_id  \\\n",
       "0             1    8437.673028         42             0                 0   \n",
       "1             1    4024.803754         36             1                 0   \n",
       "2             0    5623.422610         33             1                 0   \n",
       "3             3    4124.747207         32             1                 0   \n",
       "5             0     926.185831         27             0                 1   \n",
       "...         ...            ...        ...           ...               ...   \n",
       "21519         1    2351.431934         37             4                 3   \n",
       "21520         1    4529.316663         43             1                 1   \n",
       "21522         1    2113.346888         38             1                 1   \n",
       "21523         3    3112.481705         38             1                 0   \n",
       "21524         2    1984.507589         40             1                 0   \n",
       "\n",
       "      gender income_type  debt  total_income  \\\n",
       "0          F   сотрудник     0        253875   \n",
       "1          F   сотрудник     0        112080   \n",
       "2          M   сотрудник     0        145885   \n",
       "3          M   сотрудник     0        267628   \n",
       "5          M   компаньон     0        255763   \n",
       "...      ...         ...   ...           ...   \n",
       "21519      M   сотрудник     0        115949   \n",
       "21520      F   компаньон     0        224791   \n",
       "21522      M   сотрудник     1         89672   \n",
       "21523      M   сотрудник     1        244093   \n",
       "21524      F   сотрудник     0         82047   \n",
       "\n",
       "                                 purpose  \n",
       "0                          покупка жилья  \n",
       "1                приобретение автомобиля  \n",
       "2                          покупка жилья  \n",
       "3             дополнительное образование  \n",
       "5                          покупка жилья  \n",
       "...                                  ...  \n",
       "21519  покупка коммерческой недвижимости  \n",
       "21520                  операции с жильем  \n",
       "21522                       недвижимость  \n",
       "21523       на покупку своего автомобиля  \n",
       "21524              на покупку автомобиля  \n",
       "\n",
       "[15832 rows x 10 columns]"
      ]
     },
     "execution_count": 125,
     "metadata": {},
     "output_type": "execute_result"
    }
   ],
   "source": [
    "df"
   ]
  },
  {
   "cell_type": "markdown",
   "id": "ee568c24",
   "metadata": {
    "id": "ee568c24"
   },
   "source": [
    "### Шаг 2.6. Категоризация дохода."
   ]
  },
  {
   "cell_type": "code",
   "execution_count": 126,
   "id": "b095aa7b",
   "metadata": {
    "id": "b095aa7b"
   },
   "outputs": [],
   "source": [
    "df['total_income_category'] = pd.cut(df['total_income'],[0,30000,50000,200000,1000000,float('inf')],labels=['E','D','C','B','A']) "
   ]
  },
  {
   "cell_type": "code",
   "execution_count": 127,
   "id": "7ArRcv2eZont",
   "metadata": {
    "colab": {
     "base_uri": "https://localhost:8080/",
     "height": 424
    },
    "id": "7ArRcv2eZont",
    "outputId": "de4b0d70-f2ce-4bc1-959a-177b0eb25dcc"
   },
   "outputs": [
    {
     "data": {
      "text/html": [
       "<div>\n",
       "<style scoped>\n",
       "    .dataframe tbody tr th:only-of-type {\n",
       "        vertical-align: middle;\n",
       "    }\n",
       "\n",
       "    .dataframe tbody tr th {\n",
       "        vertical-align: top;\n",
       "    }\n",
       "\n",
       "    .dataframe thead th {\n",
       "        text-align: right;\n",
       "    }\n",
       "</style>\n",
       "<table border=\"1\" class=\"dataframe\">\n",
       "  <thead>\n",
       "    <tr style=\"text-align: right;\">\n",
       "      <th></th>\n",
       "      <th>children</th>\n",
       "      <th>days_employed</th>\n",
       "      <th>dob_years</th>\n",
       "      <th>education_id</th>\n",
       "      <th>family_status_id</th>\n",
       "      <th>gender</th>\n",
       "      <th>income_type</th>\n",
       "      <th>debt</th>\n",
       "      <th>total_income</th>\n",
       "      <th>purpose</th>\n",
       "      <th>total_income_category</th>\n",
       "    </tr>\n",
       "  </thead>\n",
       "  <tbody>\n",
       "    <tr>\n",
       "      <th>0</th>\n",
       "      <td>1</td>\n",
       "      <td>8437.673028</td>\n",
       "      <td>42</td>\n",
       "      <td>0</td>\n",
       "      <td>0</td>\n",
       "      <td>F</td>\n",
       "      <td>сотрудник</td>\n",
       "      <td>0</td>\n",
       "      <td>253875</td>\n",
       "      <td>покупка жилья</td>\n",
       "      <td>B</td>\n",
       "    </tr>\n",
       "    <tr>\n",
       "      <th>1</th>\n",
       "      <td>1</td>\n",
       "      <td>4024.803754</td>\n",
       "      <td>36</td>\n",
       "      <td>1</td>\n",
       "      <td>0</td>\n",
       "      <td>F</td>\n",
       "      <td>сотрудник</td>\n",
       "      <td>0</td>\n",
       "      <td>112080</td>\n",
       "      <td>приобретение автомобиля</td>\n",
       "      <td>C</td>\n",
       "    </tr>\n",
       "    <tr>\n",
       "      <th>2</th>\n",
       "      <td>0</td>\n",
       "      <td>5623.422610</td>\n",
       "      <td>33</td>\n",
       "      <td>1</td>\n",
       "      <td>0</td>\n",
       "      <td>M</td>\n",
       "      <td>сотрудник</td>\n",
       "      <td>0</td>\n",
       "      <td>145885</td>\n",
       "      <td>покупка жилья</td>\n",
       "      <td>C</td>\n",
       "    </tr>\n",
       "    <tr>\n",
       "      <th>3</th>\n",
       "      <td>3</td>\n",
       "      <td>4124.747207</td>\n",
       "      <td>32</td>\n",
       "      <td>1</td>\n",
       "      <td>0</td>\n",
       "      <td>M</td>\n",
       "      <td>сотрудник</td>\n",
       "      <td>0</td>\n",
       "      <td>267628</td>\n",
       "      <td>дополнительное образование</td>\n",
       "      <td>B</td>\n",
       "    </tr>\n",
       "    <tr>\n",
       "      <th>5</th>\n",
       "      <td>0</td>\n",
       "      <td>926.185831</td>\n",
       "      <td>27</td>\n",
       "      <td>0</td>\n",
       "      <td>1</td>\n",
       "      <td>M</td>\n",
       "      <td>компаньон</td>\n",
       "      <td>0</td>\n",
       "      <td>255763</td>\n",
       "      <td>покупка жилья</td>\n",
       "      <td>B</td>\n",
       "    </tr>\n",
       "    <tr>\n",
       "      <th>...</th>\n",
       "      <td>...</td>\n",
       "      <td>...</td>\n",
       "      <td>...</td>\n",
       "      <td>...</td>\n",
       "      <td>...</td>\n",
       "      <td>...</td>\n",
       "      <td>...</td>\n",
       "      <td>...</td>\n",
       "      <td>...</td>\n",
       "      <td>...</td>\n",
       "      <td>...</td>\n",
       "    </tr>\n",
       "    <tr>\n",
       "      <th>21519</th>\n",
       "      <td>1</td>\n",
       "      <td>2351.431934</td>\n",
       "      <td>37</td>\n",
       "      <td>4</td>\n",
       "      <td>3</td>\n",
       "      <td>M</td>\n",
       "      <td>сотрудник</td>\n",
       "      <td>0</td>\n",
       "      <td>115949</td>\n",
       "      <td>покупка коммерческой недвижимости</td>\n",
       "      <td>C</td>\n",
       "    </tr>\n",
       "    <tr>\n",
       "      <th>21520</th>\n",
       "      <td>1</td>\n",
       "      <td>4529.316663</td>\n",
       "      <td>43</td>\n",
       "      <td>1</td>\n",
       "      <td>1</td>\n",
       "      <td>F</td>\n",
       "      <td>компаньон</td>\n",
       "      <td>0</td>\n",
       "      <td>224791</td>\n",
       "      <td>операции с жильем</td>\n",
       "      <td>B</td>\n",
       "    </tr>\n",
       "    <tr>\n",
       "      <th>21522</th>\n",
       "      <td>1</td>\n",
       "      <td>2113.346888</td>\n",
       "      <td>38</td>\n",
       "      <td>1</td>\n",
       "      <td>1</td>\n",
       "      <td>M</td>\n",
       "      <td>сотрудник</td>\n",
       "      <td>1</td>\n",
       "      <td>89672</td>\n",
       "      <td>недвижимость</td>\n",
       "      <td>C</td>\n",
       "    </tr>\n",
       "    <tr>\n",
       "      <th>21523</th>\n",
       "      <td>3</td>\n",
       "      <td>3112.481705</td>\n",
       "      <td>38</td>\n",
       "      <td>1</td>\n",
       "      <td>0</td>\n",
       "      <td>M</td>\n",
       "      <td>сотрудник</td>\n",
       "      <td>1</td>\n",
       "      <td>244093</td>\n",
       "      <td>на покупку своего автомобиля</td>\n",
       "      <td>B</td>\n",
       "    </tr>\n",
       "    <tr>\n",
       "      <th>21524</th>\n",
       "      <td>2</td>\n",
       "      <td>1984.507589</td>\n",
       "      <td>40</td>\n",
       "      <td>1</td>\n",
       "      <td>0</td>\n",
       "      <td>F</td>\n",
       "      <td>сотрудник</td>\n",
       "      <td>0</td>\n",
       "      <td>82047</td>\n",
       "      <td>на покупку автомобиля</td>\n",
       "      <td>C</td>\n",
       "    </tr>\n",
       "  </tbody>\n",
       "</table>\n",
       "<p>15832 rows × 11 columns</p>\n",
       "</div>"
      ],
      "text/plain": [
       "       children  days_employed  dob_years  education_id  family_status_id  \\\n",
       "0             1    8437.673028         42             0                 0   \n",
       "1             1    4024.803754         36             1                 0   \n",
       "2             0    5623.422610         33             1                 0   \n",
       "3             3    4124.747207         32             1                 0   \n",
       "5             0     926.185831         27             0                 1   \n",
       "...         ...            ...        ...           ...               ...   \n",
       "21519         1    2351.431934         37             4                 3   \n",
       "21520         1    4529.316663         43             1                 1   \n",
       "21522         1    2113.346888         38             1                 1   \n",
       "21523         3    3112.481705         38             1                 0   \n",
       "21524         2    1984.507589         40             1                 0   \n",
       "\n",
       "      gender income_type  debt  total_income  \\\n",
       "0          F   сотрудник     0        253875   \n",
       "1          F   сотрудник     0        112080   \n",
       "2          M   сотрудник     0        145885   \n",
       "3          M   сотрудник     0        267628   \n",
       "5          M   компаньон     0        255763   \n",
       "...      ...         ...   ...           ...   \n",
       "21519      M   сотрудник     0        115949   \n",
       "21520      F   компаньон     0        224791   \n",
       "21522      M   сотрудник     1         89672   \n",
       "21523      M   сотрудник     1        244093   \n",
       "21524      F   сотрудник     0         82047   \n",
       "\n",
       "                                 purpose total_income_category  \n",
       "0                          покупка жилья                     B  \n",
       "1                приобретение автомобиля                     C  \n",
       "2                          покупка жилья                     C  \n",
       "3             дополнительное образование                     B  \n",
       "5                          покупка жилья                     B  \n",
       "...                                  ...                   ...  \n",
       "21519  покупка коммерческой недвижимости                     C  \n",
       "21520                  операции с жильем                     B  \n",
       "21522                       недвижимость                     C  \n",
       "21523       на покупку своего автомобиля                     B  \n",
       "21524              на покупку автомобиля                     C  \n",
       "\n",
       "[15832 rows x 11 columns]"
      ]
     },
     "execution_count": 127,
     "metadata": {},
     "output_type": "execute_result"
    }
   ],
   "source": [
    "df"
   ]
  },
  {
   "cell_type": "markdown",
   "id": "98cc9c34",
   "metadata": {
    "id": "98cc9c34"
   },
   "source": [
    "### Шаг 2.7. Категоризация целей кредита."
   ]
  },
  {
   "cell_type": "code",
   "execution_count": 128,
   "id": "B9HXz2w-bi4c",
   "metadata": {
    "id": "B9HXz2w-bi4c"
   },
   "outputs": [],
   "source": [
    "def purpose_category(purpose):\n",
    "  if 'автомоб' in purpose:\n",
    "    return 'операции с автомобилем'\n",
    "  if 'жил' in purpose or 'недвижим' in purpose:\n",
    "    return 'операции с недвижимостью'\n",
    "  if 'свадьб' in purpose:\n",
    "    return 'проведение свадьбы'\n",
    "  if 'образов' in purpose:\n",
    "    return 'получение образования'\n",
    "df['purpose_category'] = df['purpose'].apply(purpose_category)"
   ]
  },
  {
   "cell_type": "code",
   "execution_count": 129,
   "id": "bd710e3a",
   "metadata": {
    "colab": {
     "base_uri": "https://localhost:8080/",
     "height": 572
    },
    "id": "bd710e3a",
    "outputId": "e47db0d4-93be-41e7-8c7b-f3cf6029a485",
    "scrolled": true
   },
   "outputs": [
    {
     "data": {
      "text/html": [
       "<div>\n",
       "<style scoped>\n",
       "    .dataframe tbody tr th:only-of-type {\n",
       "        vertical-align: middle;\n",
       "    }\n",
       "\n",
       "    .dataframe tbody tr th {\n",
       "        vertical-align: top;\n",
       "    }\n",
       "\n",
       "    .dataframe thead th {\n",
       "        text-align: right;\n",
       "    }\n",
       "</style>\n",
       "<table border=\"1\" class=\"dataframe\">\n",
       "  <thead>\n",
       "    <tr style=\"text-align: right;\">\n",
       "      <th></th>\n",
       "      <th>children</th>\n",
       "      <th>days_employed</th>\n",
       "      <th>dob_years</th>\n",
       "      <th>education_id</th>\n",
       "      <th>family_status_id</th>\n",
       "      <th>gender</th>\n",
       "      <th>income_type</th>\n",
       "      <th>debt</th>\n",
       "      <th>total_income</th>\n",
       "      <th>purpose</th>\n",
       "      <th>total_income_category</th>\n",
       "      <th>purpose_category</th>\n",
       "    </tr>\n",
       "  </thead>\n",
       "  <tbody>\n",
       "    <tr>\n",
       "      <th>0</th>\n",
       "      <td>1</td>\n",
       "      <td>8437.673028</td>\n",
       "      <td>42</td>\n",
       "      <td>0</td>\n",
       "      <td>0</td>\n",
       "      <td>F</td>\n",
       "      <td>сотрудник</td>\n",
       "      <td>0</td>\n",
       "      <td>253875</td>\n",
       "      <td>покупка жилья</td>\n",
       "      <td>B</td>\n",
       "      <td>операции с недвижимостью</td>\n",
       "    </tr>\n",
       "    <tr>\n",
       "      <th>1</th>\n",
       "      <td>1</td>\n",
       "      <td>4024.803754</td>\n",
       "      <td>36</td>\n",
       "      <td>1</td>\n",
       "      <td>0</td>\n",
       "      <td>F</td>\n",
       "      <td>сотрудник</td>\n",
       "      <td>0</td>\n",
       "      <td>112080</td>\n",
       "      <td>приобретение автомобиля</td>\n",
       "      <td>C</td>\n",
       "      <td>операции с автомобилем</td>\n",
       "    </tr>\n",
       "    <tr>\n",
       "      <th>2</th>\n",
       "      <td>0</td>\n",
       "      <td>5623.422610</td>\n",
       "      <td>33</td>\n",
       "      <td>1</td>\n",
       "      <td>0</td>\n",
       "      <td>M</td>\n",
       "      <td>сотрудник</td>\n",
       "      <td>0</td>\n",
       "      <td>145885</td>\n",
       "      <td>покупка жилья</td>\n",
       "      <td>C</td>\n",
       "      <td>операции с недвижимостью</td>\n",
       "    </tr>\n",
       "    <tr>\n",
       "      <th>3</th>\n",
       "      <td>3</td>\n",
       "      <td>4124.747207</td>\n",
       "      <td>32</td>\n",
       "      <td>1</td>\n",
       "      <td>0</td>\n",
       "      <td>M</td>\n",
       "      <td>сотрудник</td>\n",
       "      <td>0</td>\n",
       "      <td>267628</td>\n",
       "      <td>дополнительное образование</td>\n",
       "      <td>B</td>\n",
       "      <td>получение образования</td>\n",
       "    </tr>\n",
       "    <tr>\n",
       "      <th>5</th>\n",
       "      <td>0</td>\n",
       "      <td>926.185831</td>\n",
       "      <td>27</td>\n",
       "      <td>0</td>\n",
       "      <td>1</td>\n",
       "      <td>M</td>\n",
       "      <td>компаньон</td>\n",
       "      <td>0</td>\n",
       "      <td>255763</td>\n",
       "      <td>покупка жилья</td>\n",
       "      <td>B</td>\n",
       "      <td>операции с недвижимостью</td>\n",
       "    </tr>\n",
       "    <tr>\n",
       "      <th>...</th>\n",
       "      <td>...</td>\n",
       "      <td>...</td>\n",
       "      <td>...</td>\n",
       "      <td>...</td>\n",
       "      <td>...</td>\n",
       "      <td>...</td>\n",
       "      <td>...</td>\n",
       "      <td>...</td>\n",
       "      <td>...</td>\n",
       "      <td>...</td>\n",
       "      <td>...</td>\n",
       "      <td>...</td>\n",
       "    </tr>\n",
       "    <tr>\n",
       "      <th>21519</th>\n",
       "      <td>1</td>\n",
       "      <td>2351.431934</td>\n",
       "      <td>37</td>\n",
       "      <td>4</td>\n",
       "      <td>3</td>\n",
       "      <td>M</td>\n",
       "      <td>сотрудник</td>\n",
       "      <td>0</td>\n",
       "      <td>115949</td>\n",
       "      <td>покупка коммерческой недвижимости</td>\n",
       "      <td>C</td>\n",
       "      <td>операции с недвижимостью</td>\n",
       "    </tr>\n",
       "    <tr>\n",
       "      <th>21520</th>\n",
       "      <td>1</td>\n",
       "      <td>4529.316663</td>\n",
       "      <td>43</td>\n",
       "      <td>1</td>\n",
       "      <td>1</td>\n",
       "      <td>F</td>\n",
       "      <td>компаньон</td>\n",
       "      <td>0</td>\n",
       "      <td>224791</td>\n",
       "      <td>операции с жильем</td>\n",
       "      <td>B</td>\n",
       "      <td>операции с недвижимостью</td>\n",
       "    </tr>\n",
       "    <tr>\n",
       "      <th>21522</th>\n",
       "      <td>1</td>\n",
       "      <td>2113.346888</td>\n",
       "      <td>38</td>\n",
       "      <td>1</td>\n",
       "      <td>1</td>\n",
       "      <td>M</td>\n",
       "      <td>сотрудник</td>\n",
       "      <td>1</td>\n",
       "      <td>89672</td>\n",
       "      <td>недвижимость</td>\n",
       "      <td>C</td>\n",
       "      <td>операции с недвижимостью</td>\n",
       "    </tr>\n",
       "    <tr>\n",
       "      <th>21523</th>\n",
       "      <td>3</td>\n",
       "      <td>3112.481705</td>\n",
       "      <td>38</td>\n",
       "      <td>1</td>\n",
       "      <td>0</td>\n",
       "      <td>M</td>\n",
       "      <td>сотрудник</td>\n",
       "      <td>1</td>\n",
       "      <td>244093</td>\n",
       "      <td>на покупку своего автомобиля</td>\n",
       "      <td>B</td>\n",
       "      <td>операции с автомобилем</td>\n",
       "    </tr>\n",
       "    <tr>\n",
       "      <th>21524</th>\n",
       "      <td>2</td>\n",
       "      <td>1984.507589</td>\n",
       "      <td>40</td>\n",
       "      <td>1</td>\n",
       "      <td>0</td>\n",
       "      <td>F</td>\n",
       "      <td>сотрудник</td>\n",
       "      <td>0</td>\n",
       "      <td>82047</td>\n",
       "      <td>на покупку автомобиля</td>\n",
       "      <td>C</td>\n",
       "      <td>операции с автомобилем</td>\n",
       "    </tr>\n",
       "  </tbody>\n",
       "</table>\n",
       "<p>15832 rows × 12 columns</p>\n",
       "</div>"
      ],
      "text/plain": [
       "       children  days_employed  dob_years  education_id  family_status_id  \\\n",
       "0             1    8437.673028         42             0                 0   \n",
       "1             1    4024.803754         36             1                 0   \n",
       "2             0    5623.422610         33             1                 0   \n",
       "3             3    4124.747207         32             1                 0   \n",
       "5             0     926.185831         27             0                 1   \n",
       "...         ...            ...        ...           ...               ...   \n",
       "21519         1    2351.431934         37             4                 3   \n",
       "21520         1    4529.316663         43             1                 1   \n",
       "21522         1    2113.346888         38             1                 1   \n",
       "21523         3    3112.481705         38             1                 0   \n",
       "21524         2    1984.507589         40             1                 0   \n",
       "\n",
       "      gender income_type  debt  total_income  \\\n",
       "0          F   сотрудник     0        253875   \n",
       "1          F   сотрудник     0        112080   \n",
       "2          M   сотрудник     0        145885   \n",
       "3          M   сотрудник     0        267628   \n",
       "5          M   компаньон     0        255763   \n",
       "...      ...         ...   ...           ...   \n",
       "21519      M   сотрудник     0        115949   \n",
       "21520      F   компаньон     0        224791   \n",
       "21522      M   сотрудник     1         89672   \n",
       "21523      M   сотрудник     1        244093   \n",
       "21524      F   сотрудник     0         82047   \n",
       "\n",
       "                                 purpose total_income_category  \\\n",
       "0                          покупка жилья                     B   \n",
       "1                приобретение автомобиля                     C   \n",
       "2                          покупка жилья                     C   \n",
       "3             дополнительное образование                     B   \n",
       "5                          покупка жилья                     B   \n",
       "...                                  ...                   ...   \n",
       "21519  покупка коммерческой недвижимости                     C   \n",
       "21520                  операции с жильем                     B   \n",
       "21522                       недвижимость                     C   \n",
       "21523       на покупку своего автомобиля                     B   \n",
       "21524              на покупку автомобиля                     C   \n",
       "\n",
       "               purpose_category  \n",
       "0      операции с недвижимостью  \n",
       "1        операции с автомобилем  \n",
       "2      операции с недвижимостью  \n",
       "3         получение образования  \n",
       "5      операции с недвижимостью  \n",
       "...                         ...  \n",
       "21519  операции с недвижимостью  \n",
       "21520  операции с недвижимостью  \n",
       "21522  операции с недвижимостью  \n",
       "21523    операции с автомобилем  \n",
       "21524    операции с автомобилем  \n",
       "\n",
       "[15832 rows x 12 columns]"
      ]
     },
     "execution_count": 129,
     "metadata": {},
     "output_type": "execute_result"
    }
   ],
   "source": [
    "df"
   ]
  },
  {
   "cell_type": "markdown",
   "id": "3291320f",
   "metadata": {
    "id": "3291320f"
   },
   "source": [
    "### Ответы на вопросы."
   ]
  },
  {
   "cell_type": "markdown",
   "id": "8f440bdc",
   "metadata": {
    "id": "8f440bdc"
   },
   "source": [
    "##### Вопрос 1: Есть ли зависимость между количеством детей и возвратом кредита в срок?"
   ]
  },
  {
   "cell_type": "code",
   "execution_count": 130,
   "id": "ke372VP6e8UA",
   "metadata": {
    "colab": {
     "base_uri": "https://localhost:8080/"
    },
    "id": "ke372VP6e8UA",
    "outputId": "8bff151d-7924-43a2-b04b-f10395035bab"
   },
   "outputs": [
    {
     "data": {
      "text/plain": [
       "children\n",
       "0    0.082107\n",
       "1    0.095817\n",
       "2    0.097340\n",
       "3    0.073171\n",
       "4    0.090909\n",
       "5    0.000000\n",
       "Name: debt, dtype: float64"
      ]
     },
     "execution_count": 130,
     "metadata": {},
     "output_type": "execute_result"
    }
   ],
   "source": [
    "df.groupby('children')['debt'].mean()"
   ]
  },
  {
   "cell_type": "markdown",
   "id": "fd51b1f6",
   "metadata": {
    "id": "fd51b1f6"
   },
   "source": [
    "###### Процент не возврата кредита в срок в семье без детей - 8,2%\n",
    "###### Процент не возврата кредита в срок в семье где один ребенок - 9,6% \n",
    "###### Процент не возврата кредита в срок в семье где две детей - 9,7%\n",
    "###### Процент не возврата кредита в срок в семье где трое детей - 7,3%\n",
    "###### Процент не возврата кредита в срок в семье где четверо детей - 9,1%\n",
    "###### Процент не возврата кредита в срок в семье где пятеро детей - 0%"
   ]
  },
  {
   "cell_type": "markdown",
   "id": "ad52404c",
   "metadata": {
    "id": "ad52404c"
   },
   "source": [
    "#### Вывод 1: Исходя из полученных данный семьи где двое, трое и четверо детей чаще других имеют задолженности по кредиту"
   ]
  },
  {
   "cell_type": "markdown",
   "id": "P1o5DD0segUq",
   "metadata": {
    "id": "P1o5DD0segUq"
   },
   "source": [
    "##### Вопрос 2: Есть ли зависимость между семейным положением и возвратом кредита в срок?"
   ]
  },
  {
   "cell_type": "code",
   "execution_count": 131,
   "id": "kcOPz3kiiS4n",
   "metadata": {
    "colab": {
     "base_uri": "https://localhost:8080/",
     "height": 206
    },
    "id": "kcOPz3kiiS4n",
    "outputId": "3d1d5587-831a-4e7e-f775-e5a3ff1d6db3"
   },
   "outputs": [
    {
     "data": {
      "text/html": [
       "<div>\n",
       "<style scoped>\n",
       "    .dataframe tbody tr th:only-of-type {\n",
       "        vertical-align: middle;\n",
       "    }\n",
       "\n",
       "    .dataframe tbody tr th {\n",
       "        vertical-align: top;\n",
       "    }\n",
       "\n",
       "    .dataframe thead th {\n",
       "        text-align: right;\n",
       "    }\n",
       "</style>\n",
       "<table border=\"1\" class=\"dataframe\">\n",
       "  <thead>\n",
       "    <tr style=\"text-align: right;\">\n",
       "      <th></th>\n",
       "      <th>(mean, debt)</th>\n",
       "      <th>(count, debt)</th>\n",
       "      <th>family_status</th>\n",
       "      <th>family_status_id</th>\n",
       "    </tr>\n",
       "  </thead>\n",
       "  <tbody>\n",
       "    <tr>\n",
       "      <th>0</th>\n",
       "      <td>0.080581</td>\n",
       "      <td>9233</td>\n",
       "      <td>женат / замужем</td>\n",
       "      <td>0</td>\n",
       "    </tr>\n",
       "    <tr>\n",
       "      <th>1</th>\n",
       "      <td>0.098089</td>\n",
       "      <td>3140</td>\n",
       "      <td>гражданский брак</td>\n",
       "      <td>1</td>\n",
       "    </tr>\n",
       "    <tr>\n",
       "      <th>2</th>\n",
       "      <td>0.062992</td>\n",
       "      <td>381</td>\n",
       "      <td>в разводе</td>\n",
       "      <td>3</td>\n",
       "    </tr>\n",
       "    <tr>\n",
       "      <th>3</th>\n",
       "      <td>0.074116</td>\n",
       "      <td>877</td>\n",
       "      <td>Не женат / не замужем</td>\n",
       "      <td>4</td>\n",
       "    </tr>\n",
       "    <tr>\n",
       "      <th>4</th>\n",
       "      <td>0.109496</td>\n",
       "      <td>2201</td>\n",
       "      <td>вдовец / вдова</td>\n",
       "      <td>2</td>\n",
       "    </tr>\n",
       "  </tbody>\n",
       "</table>\n",
       "</div>"
      ],
      "text/plain": [
       "   (mean, debt)  (count, debt)          family_status  family_status_id\n",
       "0      0.080581           9233        женат / замужем                 0\n",
       "1      0.098089           3140       гражданский брак                 1\n",
       "2      0.062992            381              в разводе                 3\n",
       "3      0.074116            877  Не женат / не замужем                 4\n",
       "4      0.109496           2201         вдовец / вдова                 2"
      ]
     },
     "execution_count": 131,
     "metadata": {},
     "output_type": "execute_result"
    }
   ],
   "source": [
    "df2 = pd.pivot_table(df,\n",
    "               index=['family_status_id'],\n",
    "               values=['debt'],\n",
    "               aggfunc=['mean','count'])\n",
    "pd.concat([df2, df_family_status],axis=1)"
   ]
  },
  {
   "cell_type": "markdown",
   "id": "UiL2P8CAj1LX",
   "metadata": {
    "id": "UiL2P8CAj1LX"
   },
   "source": [
    "#### Вывод 2: Клиенты находящиеся в разводе либо не женаты/ не замужем реже имеют задолженности по кредитам."
   ]
  },
  {
   "cell_type": "markdown",
   "id": "DBH2p6UieglW",
   "metadata": {
    "id": "DBH2p6UieglW"
   },
   "source": [
    "##### Вопрос 3: Есть ли зависимость между уровнем дохода и возвратом кредита в срок?"
   ]
  },
  {
   "cell_type": "code",
   "execution_count": 132,
   "id": "oYUvX2wep5Ag",
   "metadata": {
    "colab": {
     "base_uri": "https://localhost:8080/",
     "height": 238
    },
    "id": "oYUvX2wep5Ag",
    "outputId": "8539c0ed-42b0-48be-e6af-06511f16978f"
   },
   "outputs": [
    {
     "data": {
      "text/html": [
       "<div>\n",
       "<style scoped>\n",
       "    .dataframe tbody tr th:only-of-type {\n",
       "        vertical-align: middle;\n",
       "    }\n",
       "\n",
       "    .dataframe tbody tr th {\n",
       "        vertical-align: top;\n",
       "    }\n",
       "\n",
       "    .dataframe thead th {\n",
       "        text-align: right;\n",
       "    }\n",
       "</style>\n",
       "<table border=\"1\" class=\"dataframe\">\n",
       "  <thead>\n",
       "    <tr style=\"text-align: right;\">\n",
       "      <th></th>\n",
       "      <th>debt</th>\n",
       "    </tr>\n",
       "    <tr>\n",
       "      <th>total_income_category</th>\n",
       "      <th></th>\n",
       "    </tr>\n",
       "  </thead>\n",
       "  <tbody>\n",
       "    <tr>\n",
       "      <th>E</th>\n",
       "      <td>0.000000</td>\n",
       "    </tr>\n",
       "    <tr>\n",
       "      <th>D</th>\n",
       "      <td>0.076087</td>\n",
       "    </tr>\n",
       "    <tr>\n",
       "      <th>C</th>\n",
       "      <td>0.093461</td>\n",
       "    </tr>\n",
       "    <tr>\n",
       "      <th>B</th>\n",
       "      <td>0.072532</td>\n",
       "    </tr>\n",
       "    <tr>\n",
       "      <th>A</th>\n",
       "      <td>0.080000</td>\n",
       "    </tr>\n",
       "  </tbody>\n",
       "</table>\n",
       "</div>"
      ],
      "text/plain": [
       "                           debt\n",
       "total_income_category          \n",
       "E                      0.000000\n",
       "D                      0.076087\n",
       "C                      0.093461\n",
       "B                      0.072532\n",
       "A                      0.080000"
      ]
     },
     "execution_count": 132,
     "metadata": {},
     "output_type": "execute_result"
    }
   ],
   "source": [
    "pd.pivot_table(df,\n",
    "               index=['total_income_category'],\n",
    "               values=['debt'],\n",
    "               aggfunc='mean')"
   ]
  },
  {
   "cell_type": "markdown",
   "id": "nCsnsEe8qFht",
   "metadata": {
    "id": "nCsnsEe8qFht"
   },
   "source": [
    "#### Вывод 3: Люди со средним доходом чаще других имеют задолжности по кредитам"
   ]
  },
  {
   "cell_type": "markdown",
   "id": "SC3GUDryehKb",
   "metadata": {
    "id": "SC3GUDryehKb"
   },
   "source": [
    "##### Вопрос 4: Как разные цели кредита влияют на его возврат в срок?"
   ]
  },
  {
   "cell_type": "code",
   "execution_count": 133,
   "id": "qyoEoktM1XTm",
   "metadata": {
    "colab": {
     "base_uri": "https://localhost:8080/",
     "height": 206
    },
    "id": "qyoEoktM1XTm",
    "outputId": "b1c91f44-eb66-46ed-c0e8-c126793a8289"
   },
   "outputs": [
    {
     "data": {
      "text/html": [
       "<div>\n",
       "<style scoped>\n",
       "    .dataframe tbody tr th:only-of-type {\n",
       "        vertical-align: middle;\n",
       "    }\n",
       "\n",
       "    .dataframe tbody tr th {\n",
       "        vertical-align: top;\n",
       "    }\n",
       "\n",
       "    .dataframe thead th {\n",
       "        text-align: right;\n",
       "    }\n",
       "</style>\n",
       "<table border=\"1\" class=\"dataframe\">\n",
       "  <thead>\n",
       "    <tr style=\"text-align: right;\">\n",
       "      <th></th>\n",
       "      <th>debt</th>\n",
       "    </tr>\n",
       "    <tr>\n",
       "      <th>purpose_category</th>\n",
       "      <th></th>\n",
       "    </tr>\n",
       "  </thead>\n",
       "  <tbody>\n",
       "    <tr>\n",
       "      <th>операции с автомобилем</th>\n",
       "      <td>0.101802</td>\n",
       "    </tr>\n",
       "    <tr>\n",
       "      <th>операции с недвижимостью</th>\n",
       "      <td>0.079003</td>\n",
       "    </tr>\n",
       "    <tr>\n",
       "      <th>получение образования</th>\n",
       "      <td>0.098601</td>\n",
       "    </tr>\n",
       "    <tr>\n",
       "      <th>проведение свадьбы</th>\n",
       "      <td>0.079977</td>\n",
       "    </tr>\n",
       "  </tbody>\n",
       "</table>\n",
       "</div>"
      ],
      "text/plain": [
       "                              debt\n",
       "purpose_category                  \n",
       "операции с автомобилем    0.101802\n",
       "операции с недвижимостью  0.079003\n",
       "получение образования     0.098601\n",
       "проведение свадьбы        0.079977"
      ]
     },
     "execution_count": 133,
     "metadata": {},
     "output_type": "execute_result"
    }
   ],
   "source": [
    "pd.pivot_table(df,\n",
    "               index=['purpose_category'],\n",
    "               values=['debt'],\n",
    "               aggfunc='mean')"
   ]
  },
  {
   "cell_type": "markdown",
   "id": "1QKscL2A1fue",
   "metadata": {
    "id": "1QKscL2A1fue"
   },
   "source": [
    "###### Процент не возврата кредита в срок если цель кредита операции с автомобилем - 10,2%\n",
    "###### Процент не возврата кредита в срок если цель кредита операции с недвижимостью\t - 7,9% \n",
    "###### Процент не возврата кредита в срок если цель кредита получение образования\t - 9,8%\n",
    "###### Процент не возврата кредита в срок если цель кредита проведение свадьбы - 7,9%"
   ]
  },
  {
   "cell_type": "markdown",
   "id": "r8aK_69X2v_s",
   "metadata": {
    "id": "r8aK_69X2v_s"
   },
   "source": [
    "#### Вывод 4: Люди берущие кредит на образование или операции с автомобилем чаще имеют задолженность по кредиту чем те кто берут кредит на свадьбу или операции с недвижимостью."
   ]
  },
  {
   "cell_type": "markdown",
   "id": "9f41597c",
   "metadata": {
    "id": "9f41597c"
   },
   "source": [
    "## Общий вывод:"
   ]
  },
  {
   "cell_type": "markdown",
   "id": "44d9ea55",
   "metadata": {
    "id": "44d9ea55"
   },
   "source": [
    "#### Семейное положение, количество детей, уровень дохода и цель кредита влияет на то сможет ли заемщик вернуть кредит в срок"
   ]
  }
 ],
 "metadata": {
  "ExecuteTimeLog": [
   {
    "duration": 882,
    "start_time": "2022-03-14T23:13:51.634Z"
   },
   {
    "duration": 58,
    "start_time": "2022-03-14T23:13:57.484Z"
   },
   {
    "duration": 53,
    "start_time": "2022-03-14T23:14:18.973Z"
   },
   {
    "duration": 61,
    "start_time": "2022-03-14T23:15:29.851Z"
   },
   {
    "duration": 60,
    "start_time": "2022-03-14T23:16:07.814Z"
   },
   {
    "duration": 280,
    "start_time": "2022-03-14T23:17:16.434Z"
   },
   {
    "duration": 52,
    "start_time": "2022-03-14T23:17:20.737Z"
   },
   {
    "duration": 53,
    "start_time": "2022-03-14T23:17:25.917Z"
   },
   {
    "duration": 54,
    "start_time": "2022-03-14T23:17:32.685Z"
   },
   {
    "duration": 57,
    "start_time": "2022-03-14T23:17:52.512Z"
   },
   {
    "duration": 455,
    "start_time": "2022-03-20T10:05:57.915Z"
   },
   {
    "duration": 15,
    "start_time": "2022-03-20T10:05:58.372Z"
   },
   {
    "duration": 18,
    "start_time": "2022-03-20T10:05:58.388Z"
   },
   {
    "duration": 58,
    "start_time": "2022-03-20T10:05:58.408Z"
   },
   {
    "duration": 5,
    "start_time": "2022-03-20T10:05:58.468Z"
   },
   {
    "duration": 11,
    "start_time": "2022-03-20T10:05:58.475Z"
   },
   {
    "duration": 603,
    "start_time": "2022-03-20T10:05:58.487Z"
   },
   {
    "duration": 7,
    "start_time": "2022-03-20T10:05:59.092Z"
   },
   {
    "duration": 166,
    "start_time": "2022-03-20T10:05:59.100Z"
   },
   {
    "duration": 157,
    "start_time": "2022-03-20T10:05:59.269Z"
   },
   {
    "duration": 238,
    "start_time": "2022-03-20T10:05:59.428Z"
   },
   {
    "duration": 289,
    "start_time": "2022-03-20T10:05:59.668Z"
   },
   {
    "duration": 17,
    "start_time": "2022-03-20T10:05:59.963Z"
   },
   {
    "duration": 5,
    "start_time": "2022-03-20T10:05:59.982Z"
   },
   {
    "duration": 24,
    "start_time": "2022-03-20T10:05:59.989Z"
   },
   {
    "duration": 27,
    "start_time": "2022-03-20T10:06:00.015Z"
   },
   {
    "duration": 38,
    "start_time": "2022-03-20T10:06:00.044Z"
   },
   {
    "duration": 12,
    "start_time": "2022-03-20T10:06:00.083Z"
   },
   {
    "duration": 13,
    "start_time": "2022-03-20T10:06:00.096Z"
   },
   {
    "duration": 36,
    "start_time": "2022-03-20T10:06:00.111Z"
   },
   {
    "duration": 45,
    "start_time": "2022-03-20T10:06:00.150Z"
   },
   {
    "duration": 7,
    "start_time": "2022-03-20T10:06:00.197Z"
   },
   {
    "duration": 23,
    "start_time": "2022-03-20T10:06:00.205Z"
   },
   {
    "duration": 38,
    "start_time": "2022-03-20T10:06:00.230Z"
   },
   {
    "duration": 24,
    "start_time": "2022-03-20T10:06:00.270Z"
   },
   {
    "duration": 12,
    "start_time": "2022-03-20T10:06:00.296Z"
   },
   {
    "duration": 21,
    "start_time": "2022-03-20T10:06:00.310Z"
   },
   {
    "duration": 36,
    "start_time": "2022-03-20T10:06:00.335Z"
   },
   {
    "duration": 27,
    "start_time": "2022-03-20T10:06:00.373Z"
   },
   {
    "duration": 27,
    "start_time": "2022-03-20T10:06:00.401Z"
   },
   {
    "duration": 71,
    "start_time": "2022-03-20T10:06:00.429Z"
   },
   {
    "duration": 150,
    "start_time": "2022-03-20T10:08:00.453Z"
   },
   {
    "duration": 161,
    "start_time": "2022-03-20T10:08:05.505Z"
   },
   {
    "duration": 152,
    "start_time": "2022-03-20T10:08:07.470Z"
   },
   {
    "duration": 19,
    "start_time": "2022-03-20T10:08:13.757Z"
   },
   {
    "duration": 803,
    "start_time": "2022-03-30T19:48:38.352Z"
   },
   {
    "duration": 36,
    "start_time": "2022-03-30T19:48:43.421Z"
   },
   {
    "duration": 27,
    "start_time": "2022-03-30T19:48:53.975Z"
   },
   {
    "duration": 50,
    "start_time": "2022-03-30T19:48:57.189Z"
   },
   {
    "duration": 92,
    "start_time": "2022-03-30T19:49:03.508Z"
   },
   {
    "duration": 16,
    "start_time": "2022-03-30T19:49:03.603Z"
   },
   {
    "duration": 35,
    "start_time": "2022-03-30T19:49:03.622Z"
   },
   {
    "duration": 47,
    "start_time": "2022-03-30T19:49:03.683Z"
   },
   {
    "duration": 8,
    "start_time": "2022-03-30T19:49:03.733Z"
   },
   {
    "duration": 47,
    "start_time": "2022-03-30T19:49:03.745Z"
   },
   {
    "duration": 1005,
    "start_time": "2022-03-30T19:49:03.795Z"
   },
   {
    "duration": 13,
    "start_time": "2022-03-30T19:49:04.803Z"
   },
   {
    "duration": 268,
    "start_time": "2022-03-30T19:49:04.818Z"
   },
   {
    "duration": 258,
    "start_time": "2022-03-30T19:49:05.092Z"
   },
   {
    "duration": 268,
    "start_time": "2022-03-30T19:49:05.353Z"
   },
   {
    "duration": 314,
    "start_time": "2022-03-30T19:49:05.623Z"
   },
   {
    "duration": 21,
    "start_time": "2022-03-30T19:49:05.939Z"
   },
   {
    "duration": 22,
    "start_time": "2022-03-30T19:49:05.962Z"
   },
   {
    "duration": 28,
    "start_time": "2022-03-30T19:49:05.986Z"
   },
   {
    "duration": 8,
    "start_time": "2022-03-30T19:49:06.016Z"
   },
   {
    "duration": 61,
    "start_time": "2022-03-30T19:49:06.026Z"
   },
   {
    "duration": 8,
    "start_time": "2022-03-30T19:49:06.092Z"
   },
   {
    "duration": 9,
    "start_time": "2022-03-30T19:49:06.102Z"
   },
   {
    "duration": 20,
    "start_time": "2022-03-30T19:49:06.113Z"
   },
   {
    "duration": 52,
    "start_time": "2022-03-30T19:49:06.135Z"
   },
   {
    "duration": 7,
    "start_time": "2022-03-30T19:49:06.189Z"
   },
   {
    "duration": 28,
    "start_time": "2022-03-30T19:49:06.198Z"
   },
   {
    "duration": 11,
    "start_time": "2022-03-30T19:49:06.229Z"
   },
   {
    "duration": 62,
    "start_time": "2022-03-30T19:49:06.243Z"
   },
   {
    "duration": 13,
    "start_time": "2022-03-30T19:49:06.308Z"
   },
   {
    "duration": 61,
    "start_time": "2022-03-30T19:49:06.323Z"
   },
   {
    "duration": 9,
    "start_time": "2022-03-30T19:49:06.388Z"
   },
   {
    "duration": 37,
    "start_time": "2022-03-30T19:49:06.399Z"
   },
   {
    "duration": 49,
    "start_time": "2022-03-30T19:49:06.438Z"
   },
   {
    "duration": 21,
    "start_time": "2022-03-30T19:49:06.489Z"
   },
   {
    "duration": 14,
    "start_time": "2022-03-30T19:56:20.108Z"
   },
   {
    "duration": 10,
    "start_time": "2022-03-30T19:57:06.454Z"
   },
   {
    "duration": 112,
    "start_time": "2022-03-30T19:57:46.722Z"
   },
   {
    "duration": 16,
    "start_time": "2022-03-30T19:57:46.837Z"
   },
   {
    "duration": 49,
    "start_time": "2022-03-30T19:57:46.855Z"
   },
   {
    "duration": 51,
    "start_time": "2022-03-30T19:57:46.907Z"
   },
   {
    "duration": 35,
    "start_time": "2022-03-30T19:57:46.961Z"
   },
   {
    "duration": 12,
    "start_time": "2022-03-30T19:57:46.999Z"
   },
   {
    "duration": 17,
    "start_time": "2022-03-30T19:57:47.014Z"
   },
   {
    "duration": 375,
    "start_time": "2022-03-30T19:57:47.034Z"
   },
   {
    "duration": 8,
    "start_time": "2022-03-30T19:57:47.411Z"
   },
   {
    "duration": 260,
    "start_time": "2022-03-30T19:57:47.423Z"
   },
   {
    "duration": 262,
    "start_time": "2022-03-30T19:57:47.686Z"
   },
   {
    "duration": 278,
    "start_time": "2022-03-30T19:57:47.951Z"
   },
   {
    "duration": 253,
    "start_time": "2022-03-30T19:57:48.231Z"
   },
   {
    "duration": 23,
    "start_time": "2022-03-30T19:57:48.486Z"
   },
   {
    "duration": 5,
    "start_time": "2022-03-30T19:57:48.512Z"
   },
   {
    "duration": 32,
    "start_time": "2022-03-30T19:57:48.520Z"
   },
   {
    "duration": 45,
    "start_time": "2022-03-30T19:57:48.554Z"
   },
   {
    "duration": 32,
    "start_time": "2022-03-30T19:57:48.601Z"
   },
   {
    "duration": 13,
    "start_time": "2022-03-30T19:57:48.636Z"
   },
   {
    "duration": 12,
    "start_time": "2022-03-30T19:57:48.652Z"
   },
   {
    "duration": 39,
    "start_time": "2022-03-30T19:57:48.666Z"
   },
   {
    "duration": 15,
    "start_time": "2022-03-30T19:57:48.710Z"
   },
   {
    "duration": 5,
    "start_time": "2022-03-30T19:57:48.727Z"
   },
   {
    "duration": 65,
    "start_time": "2022-03-30T19:57:48.735Z"
   },
   {
    "duration": 10,
    "start_time": "2022-03-30T19:57:48.803Z"
   },
   {
    "duration": 32,
    "start_time": "2022-03-30T19:57:48.816Z"
   },
   {
    "duration": 54,
    "start_time": "2022-03-30T19:57:48.851Z"
   },
   {
    "duration": 35,
    "start_time": "2022-03-30T19:57:48.910Z"
   },
   {
    "duration": 11,
    "start_time": "2022-03-30T19:57:48.948Z"
   },
   {
    "duration": 63,
    "start_time": "2022-03-30T19:57:48.961Z"
   },
   {
    "duration": 22,
    "start_time": "2022-03-30T19:57:49.027Z"
   },
   {
    "duration": 51,
    "start_time": "2022-03-30T19:57:49.051Z"
   },
   {
    "duration": 96,
    "start_time": "2022-03-30T19:59:04.821Z"
   },
   {
    "duration": 15,
    "start_time": "2022-03-30T19:59:04.919Z"
   },
   {
    "duration": 26,
    "start_time": "2022-03-30T19:59:04.936Z"
   },
   {
    "duration": 66,
    "start_time": "2022-03-30T19:59:04.964Z"
   },
   {
    "duration": 9,
    "start_time": "2022-03-30T19:59:05.033Z"
   },
   {
    "duration": 12,
    "start_time": "2022-03-30T19:59:05.045Z"
   },
   {
    "duration": 18,
    "start_time": "2022-03-30T19:59:05.087Z"
   },
   {
    "duration": 249,
    "start_time": "2022-03-30T19:59:05.107Z"
   },
   {
    "duration": 8,
    "start_time": "2022-03-30T19:59:05.358Z"
   },
   {
    "duration": 258,
    "start_time": "2022-03-30T19:59:05.369Z"
   },
   {
    "duration": 247,
    "start_time": "2022-03-30T19:59:05.630Z"
   },
   {
    "duration": 268,
    "start_time": "2022-03-30T19:59:05.884Z"
   },
   {
    "duration": 261,
    "start_time": "2022-03-30T19:59:06.154Z"
   },
   {
    "duration": 20,
    "start_time": "2022-03-30T19:59:06.419Z"
   },
   {
    "duration": 7,
    "start_time": "2022-03-30T19:59:06.441Z"
   },
   {
    "duration": 50,
    "start_time": "2022-03-30T19:59:06.450Z"
   },
   {
    "duration": 7,
    "start_time": "2022-03-30T19:59:06.502Z"
   },
   {
    "duration": 31,
    "start_time": "2022-03-30T19:59:06.511Z"
   },
   {
    "duration": 42,
    "start_time": "2022-03-30T19:59:06.544Z"
   },
   {
    "duration": 12,
    "start_time": "2022-03-30T19:59:06.588Z"
   },
   {
    "duration": 21,
    "start_time": "2022-03-30T19:59:06.602Z"
   },
   {
    "duration": 15,
    "start_time": "2022-03-30T19:59:06.625Z"
   },
   {
    "duration": 5,
    "start_time": "2022-03-30T19:59:06.643Z"
   },
   {
    "duration": 147,
    "start_time": "2022-03-30T19:59:06.651Z"
   },
   {
    "duration": 11,
    "start_time": "2022-03-30T19:59:06.803Z"
   },
   {
    "duration": 28,
    "start_time": "2022-03-30T19:59:06.816Z"
   },
   {
    "duration": 12,
    "start_time": "2022-03-30T19:59:06.846Z"
   },
   {
    "duration": 57,
    "start_time": "2022-03-30T19:59:06.860Z"
   },
   {
    "duration": 11,
    "start_time": "2022-03-30T19:59:06.920Z"
   },
   {
    "duration": 88,
    "start_time": "2022-03-30T19:59:06.934Z"
   },
   {
    "duration": 28,
    "start_time": "2022-03-30T19:59:07.025Z"
   },
   {
    "duration": 34,
    "start_time": "2022-03-30T19:59:07.056Z"
   },
   {
    "duration": 113,
    "start_time": "2022-03-30T20:11:45.580Z"
   },
   {
    "duration": 17,
    "start_time": "2022-03-30T20:11:45.696Z"
   },
   {
    "duration": 28,
    "start_time": "2022-03-30T20:11:45.716Z"
   },
   {
    "duration": 76,
    "start_time": "2022-03-30T20:11:45.748Z"
   },
   {
    "duration": 9,
    "start_time": "2022-03-30T20:11:45.826Z"
   },
   {
    "duration": 11,
    "start_time": "2022-03-30T20:11:45.837Z"
   },
   {
    "duration": 39,
    "start_time": "2022-03-30T20:11:45.850Z"
   },
   {
    "duration": 316,
    "start_time": "2022-03-30T20:11:45.892Z"
   },
   {
    "duration": 8,
    "start_time": "2022-03-30T20:11:46.210Z"
   },
   {
    "duration": 265,
    "start_time": "2022-03-30T20:11:46.222Z"
   },
   {
    "duration": 259,
    "start_time": "2022-03-30T20:11:46.490Z"
   },
   {
    "duration": 383,
    "start_time": "2022-03-30T20:11:46.752Z"
   },
   {
    "duration": 371,
    "start_time": "2022-03-30T20:11:47.138Z"
   },
   {
    "duration": 29,
    "start_time": "2022-03-30T20:11:47.516Z"
   },
   {
    "duration": 6,
    "start_time": "2022-03-30T20:11:47.548Z"
   },
   {
    "duration": 59,
    "start_time": "2022-03-30T20:11:47.556Z"
   },
   {
    "duration": 8,
    "start_time": "2022-03-30T20:11:47.617Z"
   },
   {
    "duration": 64,
    "start_time": "2022-03-30T20:11:47.628Z"
   },
   {
    "duration": 20,
    "start_time": "2022-03-30T20:11:47.699Z"
   },
   {
    "duration": 10,
    "start_time": "2022-03-30T20:11:47.721Z"
   },
   {
    "duration": 23,
    "start_time": "2022-03-30T20:11:47.733Z"
   },
   {
    "duration": 41,
    "start_time": "2022-03-30T20:11:47.759Z"
   },
   {
    "duration": 12,
    "start_time": "2022-03-30T20:11:47.802Z"
   },
   {
    "duration": 26,
    "start_time": "2022-03-30T20:11:47.816Z"
   },
   {
    "duration": 11,
    "start_time": "2022-03-30T20:11:47.845Z"
   },
   {
    "duration": 67,
    "start_time": "2022-03-30T20:11:47.859Z"
   },
   {
    "duration": 19,
    "start_time": "2022-03-30T20:11:47.929Z"
   },
   {
    "duration": 67,
    "start_time": "2022-03-30T20:11:47.955Z"
   },
   {
    "duration": 11,
    "start_time": "2022-03-30T20:11:48.024Z"
   },
   {
    "duration": 66,
    "start_time": "2022-03-30T20:11:48.037Z"
   },
   {
    "duration": 23,
    "start_time": "2022-03-30T20:11:48.106Z"
   },
   {
    "duration": 21,
    "start_time": "2022-03-30T20:11:48.131Z"
   }
  ],
  "colab": {
   "name": "Исследование-надежности-заемщиков.ipynb",
   "provenance": []
  },
  "kernelspec": {
   "display_name": "Python 3 (ipykernel)",
   "language": "python",
   "name": "python3"
  },
  "language_info": {
   "codemirror_mode": {
    "name": "ipython",
    "version": 3
   },
   "file_extension": ".py",
   "mimetype": "text/x-python",
   "name": "python",
   "nbconvert_exporter": "python",
   "pygments_lexer": "ipython3",
   "version": "3.9.7"
  },
  "toc": {
   "base_numbering": 1,
   "nav_menu": {},
   "number_sections": false,
   "sideBar": true,
   "skip_h1_title": false,
   "title_cell": "Table of Contents",
   "title_sidebar": "Contents",
   "toc_cell": false,
   "toc_position": {
    "height": "calc(100% - 180px)",
    "left": "10px",
    "top": "150px",
    "width": "227.188px"
   },
   "toc_section_display": true,
   "toc_window_display": true
  }
 },
 "nbformat": 4,
 "nbformat_minor": 5
}
