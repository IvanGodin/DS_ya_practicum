{
 "cells": [
  {
   "cell_type": "markdown",
   "metadata": {
    "id": "E0vqbgi9ay0H"
   },
   "source": [
    "# Яндекс.Музыка"
   ]
  },
  {
   "cell_type": "markdown",
   "metadata": {
    "id": "VUC88oWjTJw2"
   },
   "source": [
    "Сравнение Москвы и Петербурга окружено мифами. Например:\n",
    " * Москва — мегаполис, подчинённый жёсткому ритму рабочей недели;\n",
    " * Петербург — культурная столица, со своими вкусами.\n",
    "\n",
    "На данных Яндекс.Музыки вы сравните поведение пользователей двух столиц.\n",
    "\n",
    "**Цель исследования** — проверьте три гипотезы:\n",
    "1. Активность пользователей зависит от дня недели. Причём в Москве и Петербурге это проявляется по-разному.\n",
    "2. В понедельник утром в Москве преобладают одни жанры, а в Петербурге — другие. Так же и вечером пятницы преобладают разные жанры — в зависимости от города. \n",
    "3. Москва и Петербург предпочитают разные жанры музыки. В Москве чаще слушают поп-музыку, в Петербурге — русский рэп.\n",
    "\n",
    "**Ход исследования**\n",
    "\n",
    "Данные о поведении пользователей вы получите из файла `yandex_music_project.csv`. О качестве данных ничего не известно. Поэтому перед проверкой гипотез понадобится обзор данных. \n",
    "\n",
    "Вы проверите данные на ошибки и оцените их влияние на исследование. Затем, на этапе предобработки вы поищете возможность исправить самые критичные ошибки данных.\n",
    " \n",
    "Таким образом, исследование пройдёт в три этапа:\n",
    " 1. Обзор данных.\n",
    " 2. Предобработка данных.\n",
    " 3. Проверка гипотез.\n",
    "\n"
   ]
  },
  {
   "cell_type": "markdown",
   "metadata": {
    "id": "Ml1hmfXC_Zcs"
   },
   "source": [
    "## Обзор данных\n",
    "\n",
    "Составьте первое представление о данных Яндекс.Музыки.\n",
    "\n",
    "\n"
   ]
  },
  {
   "cell_type": "markdown",
   "metadata": {
    "id": "57eAOGIz_Zcs"
   },
   "source": [
    "Основной инструмент аналитика — `pandas`. Импортируйте эту библиотеку."
   ]
  },
  {
   "cell_type": "code",
   "execution_count": 1,
   "metadata": {
    "id": "AXN7PHPN_Zcs"
   },
   "outputs": [],
   "source": [
    "# импорт библиотеки pandas\n",
    "import pandas as pd"
   ]
  },
  {
   "cell_type": "markdown",
   "metadata": {
    "id": "SG23P8tt_Zcs"
   },
   "source": [
    "Прочитайте файл `yandex_music_project.csv` из папки `/datasets` и сохраните его в переменной `df`:"
   ]
  },
  {
   "cell_type": "code",
   "execution_count": 2,
   "metadata": {
    "id": "fFVu7vqh_Zct"
   },
   "outputs": [],
   "source": [
    "# чтение файла с данными и сохранение в df\n",
    "df = pd.read_csv('https://code.s3.yandex.net/datasets/yandex_music_project.csv')\n"
   ]
  },
  {
   "cell_type": "markdown",
   "metadata": {
    "id": "rDoOMd3uTqnZ"
   },
   "source": [
    "Выведите на экран первые десять строк таблицы:"
   ]
  },
  {
   "cell_type": "code",
   "execution_count": 3,
   "metadata": {
    "id": "oWTVX3gW_Zct"
   },
   "outputs": [
    {
     "data": {
      "text/html": [
       "<div>\n",
       "<style scoped>\n",
       "    .dataframe tbody tr th:only-of-type {\n",
       "        vertical-align: middle;\n",
       "    }\n",
       "\n",
       "    .dataframe tbody tr th {\n",
       "        vertical-align: top;\n",
       "    }\n",
       "\n",
       "    .dataframe thead th {\n",
       "        text-align: right;\n",
       "    }\n",
       "</style>\n",
       "<table border=\"1\" class=\"dataframe\">\n",
       "  <thead>\n",
       "    <tr style=\"text-align: right;\">\n",
       "      <th></th>\n",
       "      <th>userID</th>\n",
       "      <th>Track</th>\n",
       "      <th>artist</th>\n",
       "      <th>genre</th>\n",
       "      <th>City</th>\n",
       "      <th>time</th>\n",
       "      <th>Day</th>\n",
       "    </tr>\n",
       "  </thead>\n",
       "  <tbody>\n",
       "    <tr>\n",
       "      <th>0</th>\n",
       "      <td>FFB692EC</td>\n",
       "      <td>Kamigata To Boots</td>\n",
       "      <td>The Mass Missile</td>\n",
       "      <td>rock</td>\n",
       "      <td>Saint-Petersburg</td>\n",
       "      <td>20:28:33</td>\n",
       "      <td>Wednesday</td>\n",
       "    </tr>\n",
       "    <tr>\n",
       "      <th>1</th>\n",
       "      <td>55204538</td>\n",
       "      <td>Delayed Because of Accident</td>\n",
       "      <td>Andreas Rönnberg</td>\n",
       "      <td>rock</td>\n",
       "      <td>Moscow</td>\n",
       "      <td>14:07:09</td>\n",
       "      <td>Friday</td>\n",
       "    </tr>\n",
       "    <tr>\n",
       "      <th>2</th>\n",
       "      <td>20EC38</td>\n",
       "      <td>Funiculì funiculà</td>\n",
       "      <td>Mario Lanza</td>\n",
       "      <td>pop</td>\n",
       "      <td>Saint-Petersburg</td>\n",
       "      <td>20:58:07</td>\n",
       "      <td>Wednesday</td>\n",
       "    </tr>\n",
       "    <tr>\n",
       "      <th>3</th>\n",
       "      <td>A3DD03C9</td>\n",
       "      <td>Dragons in the Sunset</td>\n",
       "      <td>Fire + Ice</td>\n",
       "      <td>folk</td>\n",
       "      <td>Saint-Petersburg</td>\n",
       "      <td>08:37:09</td>\n",
       "      <td>Monday</td>\n",
       "    </tr>\n",
       "    <tr>\n",
       "      <th>4</th>\n",
       "      <td>E2DC1FAE</td>\n",
       "      <td>Soul People</td>\n",
       "      <td>Space Echo</td>\n",
       "      <td>dance</td>\n",
       "      <td>Moscow</td>\n",
       "      <td>08:34:34</td>\n",
       "      <td>Monday</td>\n",
       "    </tr>\n",
       "    <tr>\n",
       "      <th>5</th>\n",
       "      <td>842029A1</td>\n",
       "      <td>Преданная</td>\n",
       "      <td>IMPERVTOR</td>\n",
       "      <td>rusrap</td>\n",
       "      <td>Saint-Petersburg</td>\n",
       "      <td>13:09:41</td>\n",
       "      <td>Friday</td>\n",
       "    </tr>\n",
       "    <tr>\n",
       "      <th>6</th>\n",
       "      <td>4CB90AA5</td>\n",
       "      <td>True</td>\n",
       "      <td>Roman Messer</td>\n",
       "      <td>dance</td>\n",
       "      <td>Moscow</td>\n",
       "      <td>13:00:07</td>\n",
       "      <td>Wednesday</td>\n",
       "    </tr>\n",
       "    <tr>\n",
       "      <th>7</th>\n",
       "      <td>F03E1C1F</td>\n",
       "      <td>Feeling This Way</td>\n",
       "      <td>Polina Griffith</td>\n",
       "      <td>dance</td>\n",
       "      <td>Moscow</td>\n",
       "      <td>20:47:49</td>\n",
       "      <td>Wednesday</td>\n",
       "    </tr>\n",
       "    <tr>\n",
       "      <th>8</th>\n",
       "      <td>8FA1D3BE</td>\n",
       "      <td>И вновь продолжается бой</td>\n",
       "      <td>NaN</td>\n",
       "      <td>ruspop</td>\n",
       "      <td>Moscow</td>\n",
       "      <td>09:17:40</td>\n",
       "      <td>Friday</td>\n",
       "    </tr>\n",
       "    <tr>\n",
       "      <th>9</th>\n",
       "      <td>E772D5C0</td>\n",
       "      <td>Pessimist</td>\n",
       "      <td>NaN</td>\n",
       "      <td>dance</td>\n",
       "      <td>Saint-Petersburg</td>\n",
       "      <td>21:20:49</td>\n",
       "      <td>Wednesday</td>\n",
       "    </tr>\n",
       "  </tbody>\n",
       "</table>\n",
       "</div>"
      ],
      "text/plain": [
       "     userID                        Track            artist   genre  \\\n",
       "0  FFB692EC            Kamigata To Boots  The Mass Missile    rock   \n",
       "1  55204538  Delayed Because of Accident  Andreas Rönnberg    rock   \n",
       "2    20EC38            Funiculì funiculà       Mario Lanza     pop   \n",
       "3  A3DD03C9        Dragons in the Sunset        Fire + Ice    folk   \n",
       "4  E2DC1FAE                  Soul People        Space Echo   dance   \n",
       "5  842029A1                    Преданная         IMPERVTOR  rusrap   \n",
       "6  4CB90AA5                         True      Roman Messer   dance   \n",
       "7  F03E1C1F             Feeling This Way   Polina Griffith   dance   \n",
       "8  8FA1D3BE     И вновь продолжается бой               NaN  ruspop   \n",
       "9  E772D5C0                    Pessimist               NaN   dance   \n",
       "\n",
       "             City        time        Day  \n",
       "0  Saint-Petersburg  20:28:33  Wednesday  \n",
       "1            Moscow  14:07:09     Friday  \n",
       "2  Saint-Petersburg  20:58:07  Wednesday  \n",
       "3  Saint-Petersburg  08:37:09     Monday  \n",
       "4            Moscow  08:34:34     Monday  \n",
       "5  Saint-Petersburg  13:09:41     Friday  \n",
       "6            Moscow  13:00:07  Wednesday  \n",
       "7            Moscow  20:47:49  Wednesday  \n",
       "8            Moscow  09:17:40     Friday  \n",
       "9  Saint-Petersburg  21:20:49  Wednesday  "
      ]
     },
     "execution_count": 3,
     "metadata": {},
     "output_type": "execute_result"
    }
   ],
   "source": [
    "# получение первых 10 строк таблицы df\n",
    "df.head(10)"
   ]
  },
  {
   "cell_type": "markdown",
   "metadata": {
    "id": "EO73Kwic_Zct"
   },
   "source": [
    "Одной командой получить общую информацию о таблице:"
   ]
  },
  {
   "cell_type": "code",
   "execution_count": 4,
   "metadata": {
    "id": "DSf2kIb-_Zct",
    "scrolled": true
   },
   "outputs": [
    {
     "name": "stdout",
     "output_type": "stream",
     "text": [
      "<class 'pandas.core.frame.DataFrame'>\n",
      "RangeIndex: 65079 entries, 0 to 65078\n",
      "Data columns (total 7 columns):\n",
      " #   Column    Non-Null Count  Dtype \n",
      "---  ------    --------------  ----- \n",
      " 0     userID  65079 non-null  object\n",
      " 1   Track     63848 non-null  object\n",
      " 2   artist    57876 non-null  object\n",
      " 3   genre     63881 non-null  object\n",
      " 4     City    65079 non-null  object\n",
      " 5   time      65079 non-null  object\n",
      " 6   Day       65079 non-null  object\n",
      "dtypes: object(7)\n",
      "memory usage: 3.5+ MB\n"
     ]
    }
   ],
   "source": [
    "# получение общей информации о данных в таблице df\n",
    "df.info()"
   ]
  },
  {
   "cell_type": "markdown",
   "metadata": {
    "id": "TaQ2Iwbr_Zct"
   },
   "source": [
    "Итак, в таблице семь столбцов. Тип данных во всех столбцах — `object`.\n",
    "\n",
    "Согласно документации к данным:\n",
    "* `userID` — идентификатор пользователя;\n",
    "* `Track` — название трека;  \n",
    "* `artist` — имя исполнителя;\n",
    "* `genre` — название жанра;\n",
    "* `City` — город пользователя;\n",
    "* `time` — время начала прослушивания;\n",
    "* `Day` — день недели.\n",
    "\n",
    "В названиях колонок видны три нарушения стиля:\n",
    "1. Строчные буквы сочетаются с прописными.\n",
    "2. Встречаются пробелы.\n",
    "3. Найдите ещё одну проблему в названии колонок и опишите её в этом пункте. \n",
    "* `userID меняем на user_id`\n",
    "\n",
    "\n",
    "\n",
    "\n",
    "Количество значений в столбцах различается. Значит, в данных есть пропущенные значения.\n"
   ]
  },
  {
   "cell_type": "markdown",
   "metadata": {
    "id": "MCB6-dXG_Zct"
   },
   "source": [
    "**Выводы**\n",
    "\n",
    "В каждой строке таблицы — данные о прослушанном треке. Часть колонок описывает саму композицию: название, исполнителя и жанр. Остальные данные рассказывают о пользователе: из какого он города, когда он слушал музыку. \n",
    "\n",
    "Предварительно можно утверждать, что, данных достаточно для проверки гипотез. Но встречаются пропуски в данных, а в названиях колонок — расхождения с хорошим стилем.\n",
    "\n",
    "Чтобы двигаться дальше, нужно устранить проблемы в данных."
   ]
  },
  {
   "cell_type": "markdown",
   "metadata": {
    "id": "SjYF6Ub9_Zct"
   },
   "source": [
    "## Предобработка данных\n",
    "Исправьте стиль в заголовках столбцов, исключите пропуски. Затем проверьте данные на дубликаты."
   ]
  },
  {
   "cell_type": "markdown",
   "metadata": {
    "id": "dIaKXr29_Zct"
   },
   "source": [
    "### Стиль заголовков\n",
    "Выведите на экран названия столбцов:"
   ]
  },
  {
   "cell_type": "code",
   "execution_count": 5,
   "metadata": {
    "id": "oKOTdF_Q_Zct"
   },
   "outputs": [
    {
     "data": {
      "text/plain": [
       "Index(['  userID', 'Track', 'artist', 'genre', '  City  ', 'time', 'Day'], dtype='object')"
      ]
     },
     "execution_count": 5,
     "metadata": {},
     "output_type": "execute_result"
    }
   ],
   "source": [
    "# перечень названий столбцов таблицы df\n",
    "df.columns"
   ]
  },
  {
   "cell_type": "markdown",
   "metadata": {
    "id": "zj5534cv_Zct"
   },
   "source": [
    "Приведите названия в соответствие с хорошим стилем:\n",
    "* несколько слов в названии запишите в «змеином_регистре»,\n",
    "* все символы сделайте строчными,\n",
    "* устраните пробелы.\n",
    "\n",
    "Для этого переименуйте колонки так:\n",
    "* `'  userID'` → `'user_id'`;\n",
    "* `'Track'` → `'track'`;\n",
    "* `'  City  '` → `'city'`;\n",
    "* `'Day'` → `'day'`."
   ]
  },
  {
   "cell_type": "code",
   "execution_count": 6,
   "metadata": {
    "id": "ISlFqs5y_Zct"
   },
   "outputs": [],
   "source": [
    "# переименование столбцов\n",
    "df = df.rename(columns={'  userID':'user_id','Track':'track','  City  ':'city','Day':'day'})"
   ]
  },
  {
   "cell_type": "markdown",
   "metadata": {
    "id": "1dqbh00J_Zct"
   },
   "source": [
    "Проверьте результат. Для этого ещё раз выведите на экран названия столбцов:"
   ]
  },
  {
   "cell_type": "code",
   "execution_count": 7,
   "metadata": {
    "id": "d4NOAmTW_Zct"
   },
   "outputs": [
    {
     "data": {
      "text/plain": [
       "Index(['user_id', 'track', 'artist', 'genre', 'city', 'time', 'day'], dtype='object')"
      ]
     },
     "execution_count": 7,
     "metadata": {},
     "output_type": "execute_result"
    }
   ],
   "source": [
    "# проверка результатов - перечень названий столбцов\n",
    "df.columns"
   ]
  },
  {
   "cell_type": "markdown",
   "metadata": {
    "id": "5ISfbcfY_Zct"
   },
   "source": [
    "### Пропуски значений\n",
    "Сначала посчитайте, сколько в таблице пропущенных значений. Для этого достаточно двух методов `pandas`:"
   ]
  },
  {
   "cell_type": "code",
   "execution_count": 8,
   "metadata": {
    "id": "RskX29qr_Zct"
   },
   "outputs": [
    {
     "data": {
      "text/plain": [
       "user_id       0\n",
       "track      1231\n",
       "artist     7203\n",
       "genre      1198\n",
       "city          0\n",
       "time          0\n",
       "day           0\n",
       "dtype: int64"
      ]
     },
     "execution_count": 8,
     "metadata": {},
     "output_type": "execute_result"
    }
   ],
   "source": [
    "# подсчёт пропусков\n",
    "df.isna().sum()"
   ]
  },
  {
   "cell_type": "markdown",
   "metadata": {
    "id": "qubhgnlO_Zct"
   },
   "source": [
    "Не все пропущенные значения влияют на исследование. Так в `track` и `artist` пропуски не важны для вашей работы. Достаточно заменить их явными обозначениями.\n",
    "\n",
    "Но пропуски в `genre` могут помешать сравнению музыкальных вкусов в Москве и Санкт-Петербурге. На практике было бы правильно установить причину пропусков и восстановить данные. Такой возможности нет в учебном проекте. Придётся:\n",
    "* заполнить и эти пропуски явными обозначениями,\n",
    "* оценить, насколько они повредят расчётам. "
   ]
  },
  {
   "cell_type": "markdown",
   "metadata": {
    "id": "fSv2laPA_Zct"
   },
   "source": [
    "Замените пропущенные значения в столбцах `track`, `artist` и `genre` на строку `'unknown'`. Для этого создайте список `columns_to_replace`, переберите его элементы циклом `for` и для каждого столбца выполните замену пропущенных значений:"
   ]
  },
  {
   "cell_type": "code",
   "execution_count": 9,
   "metadata": {
    "id": "KplB5qWs_Zct",
    "scrolled": true
   },
   "outputs": [],
   "source": [
    "# перебор названий столбцов в цикле и замена пропущенных значений на 'unknown'\n",
    "columns_to_replace = ['track','artist','genre']\n",
    "for column in columns_to_replace:\n",
    "    df[column] = df[column].fillna('unknown')\n",
    "       "
   ]
  },
  {
   "cell_type": "markdown",
   "metadata": {
    "id": "Ilsm-MZo_Zct"
   },
   "source": [
    "Убедитесь, что в таблице не осталось пропусков. Для этого ещё раз посчитайте пропущенные значения."
   ]
  },
  {
   "cell_type": "code",
   "execution_count": 10,
   "metadata": {
    "id": "Tq4nYRX4_Zct",
    "scrolled": true
   },
   "outputs": [
    {
     "data": {
      "text/plain": [
       "user_id    0\n",
       "track      0\n",
       "artist     0\n",
       "genre      0\n",
       "city       0\n",
       "time       0\n",
       "day        0\n",
       "dtype: int64"
      ]
     },
     "execution_count": 10,
     "metadata": {},
     "output_type": "execute_result"
    }
   ],
   "source": [
    "# подсчёт пропусков\n",
    "df.isna().sum()"
   ]
  },
  {
   "cell_type": "markdown",
   "metadata": {},
   "source": [
    "Пропусков нет"
   ]
  },
  {
   "cell_type": "markdown",
   "metadata": {
    "id": "BWKRtBJ3_Zct"
   },
   "source": [
    "### Дубликаты\n",
    "Посчитайте явные дубликаты в таблице одной командой:"
   ]
  },
  {
   "cell_type": "code",
   "execution_count": 11,
   "metadata": {
    "id": "36eES_S0_Zct"
   },
   "outputs": [
    {
     "data": {
      "text/plain": [
       "3826"
      ]
     },
     "execution_count": 11,
     "metadata": {},
     "output_type": "execute_result"
    }
   ],
   "source": [
    "# подсчёт явных дубликатов\n",
    "df.duplicated().sum()"
   ]
  },
  {
   "cell_type": "markdown",
   "metadata": {
    "id": "Ot25h6XR_Zct"
   },
   "source": [
    "Вызовите специальный метод `pandas`, чтобы удалить явные дубликаты:"
   ]
  },
  {
   "cell_type": "code",
   "execution_count": 12,
   "metadata": {
    "id": "exFHq6tt_Zct"
   },
   "outputs": [],
   "source": [
    "# удаление явных дубликатов (с удалением старых индексов и формированием новых)\n",
    "df = df.drop_duplicates().reset_index(drop=True)"
   ]
  },
  {
   "cell_type": "markdown",
   "metadata": {
    "id": "Im2YwBEG_Zct"
   },
   "source": [
    "Ещё раз посчитайте явные дубликаты в таблице — убедитесь, что полностью от них избавились:"
   ]
  },
  {
   "cell_type": "code",
   "execution_count": 13,
   "metadata": {
    "id": "-8PuNWQ0_Zct"
   },
   "outputs": [
    {
     "data": {
      "text/plain": [
       "0"
      ]
     },
     "execution_count": 13,
     "metadata": {},
     "output_type": "execute_result"
    }
   ],
   "source": [
    "# проверка на отсутствие дубликатов\n",
    "df.duplicated().sum()"
   ]
  },
  {
   "cell_type": "markdown",
   "metadata": {},
   "source": [
    "Нет явных дубликатов."
   ]
  },
  {
   "cell_type": "markdown",
   "metadata": {
    "id": "QlFBsxAr_Zct"
   },
   "source": [
    "Теперь избавьтесь от неявных дубликатов в колонке `genre`. Например, название одного и того же жанра может быть записано немного по-разному. Такие ошибки тоже повлияют на результат исследования."
   ]
  },
  {
   "cell_type": "markdown",
   "metadata": {
    "id": "eSjWwsOh_Zct"
   },
   "source": [
    "Выведите на экран список уникальных названий жанров, отсортированный в алфавитном порядке. Для этого:\n",
    "* извлеките нужный столбец датафрейма, \n",
    "* примените к нему метод сортировки,\n",
    "* для отсортированного столбца вызовите метод, который вернёт уникальные значения из столбца."
   ]
  },
  {
   "cell_type": "code",
   "execution_count": 14,
   "metadata": {
    "id": "JIUcqzZN_Zct"
   },
   "outputs": [
    {
     "name": "stdout",
     "output_type": "stream",
     "text": [
      "['acid' 'acoustic' 'action' 'adult' 'africa' 'afrikaans' 'alternative'\n",
      " 'alternativepunk' 'ambient' 'americana' 'animated' 'anime' 'arabesk'\n",
      " 'arabic' 'arena' 'argentinetango' 'art' 'audiobook' 'author' 'avantgarde'\n",
      " 'axé' 'baile' 'balkan' 'beats' 'bigroom' 'black' 'bluegrass' 'blues'\n",
      " 'bollywood' 'bossa' 'brazilian' 'breakbeat' 'breaks' 'broadway'\n",
      " 'cantautori' 'cantopop' 'canzone' 'caribbean' 'caucasian' 'celtic'\n",
      " 'chamber' 'chanson' 'children' 'chill' 'chinese' 'choral' 'christian'\n",
      " 'christmas' 'classical' 'classicmetal' 'club' 'colombian' 'comedy'\n",
      " 'conjazz' 'contemporary' 'country' 'cuban' 'dance' 'dancehall' 'dancepop'\n",
      " 'dark' 'death' 'deep' 'deutschrock' 'deutschspr' 'dirty' 'disco' 'dnb'\n",
      " 'documentary' 'downbeat' 'downtempo' 'drum' 'dub' 'dubstep' 'eastern'\n",
      " 'easy' 'electronic' 'electropop' 'emo' 'entehno' 'epicmetal' 'estrada'\n",
      " 'ethnic' 'eurofolk' 'european' 'experimental' 'extrememetal' 'fado'\n",
      " 'fairytail' 'film' 'fitness' 'flamenco' 'folk' 'folklore' 'folkmetal'\n",
      " 'folkrock' 'folktronica' 'forró' 'frankreich' 'französisch' 'french'\n",
      " 'funk' 'future' 'gangsta' 'garage' 'german' 'ghazal' 'gitarre' 'glitch'\n",
      " 'gospel' 'gothic' 'grime' 'grunge' 'gypsy' 'handsup' \"hard'n'heavy\"\n",
      " 'hardcore' 'hardstyle' 'hardtechno' 'hip' 'hip-hop' 'hiphop' 'historisch'\n",
      " 'holiday' 'hop' 'horror' 'house' 'hymn' 'idm' 'independent' 'indian'\n",
      " 'indie' 'indipop' 'industrial' 'inspirational' 'instrumental'\n",
      " 'international' 'irish' 'jam' 'japanese' 'jazz' 'jewish' 'jpop' 'jungle'\n",
      " 'k-pop' 'karadeniz' 'karaoke' 'kayokyoku' 'korean' 'laiko' 'latin'\n",
      " 'latino' 'leftfield' 'local' 'lounge' 'loungeelectronic' 'lovers'\n",
      " 'malaysian' 'mandopop' 'marschmusik' 'meditative' 'mediterranean'\n",
      " 'melodic' 'metal' 'metalcore' 'mexican' 'middle' 'minimal'\n",
      " 'miscellaneous' 'modern' 'mood' 'mpb' 'muslim' 'native' 'neoklassik'\n",
      " 'neue' 'new' 'newage' 'newwave' 'nu' 'nujazz' 'numetal' 'oceania' 'old'\n",
      " 'opera' 'orchestral' 'other' 'piano' 'podcasts' 'pop' 'popdance'\n",
      " 'popelectronic' 'popeurodance' 'poprussian' 'post' 'posthardcore'\n",
      " 'postrock' 'power' 'progmetal' 'progressive' 'psychedelic' 'punjabi'\n",
      " 'punk' 'quebecois' 'ragga' 'ram' 'rancheras' 'rap' 'rave' 'reggae'\n",
      " 'reggaeton' 'regional' 'relax' 'religious' 'retro' 'rhythm' 'rnb' 'rnr'\n",
      " 'rock' 'rockabilly' 'rockalternative' 'rockindie' 'rockother' 'romance'\n",
      " 'roots' 'ruspop' 'rusrap' 'rusrock' 'russian' 'salsa' 'samba' 'scenic'\n",
      " 'schlager' 'self' 'sertanejo' 'shanson' 'shoegazing' 'showtunes' 'singer'\n",
      " 'ska' 'skarock' 'slow' 'smooth' 'soft' 'soul' 'soulful' 'sound'\n",
      " 'soundtrack' 'southern' 'specialty' 'speech' 'spiritual' 'sport'\n",
      " 'stonerrock' 'surf' 'swing' 'synthpop' 'synthrock' 'sängerportrait'\n",
      " 'tango' 'tanzorchester' 'taraftar' 'tatar' 'tech' 'techno' 'teen'\n",
      " 'thrash' 'top' 'traditional' 'tradjazz' 'trance' 'tribal' 'trip'\n",
      " 'triphop' 'tropical' 'türk' 'türkçe' 'ukrrock' 'unknown' 'urban' 'uzbek'\n",
      " 'variété' 'vi' 'videogame' 'vocal' 'western' 'world' 'worldbeat' 'ïîï'\n",
      " 'электроника']\n"
     ]
    }
   ],
   "source": [
    "# Просмотр уникальных названий жанров\n",
    "genre_df = df.sort_values(by='genre')\n",
    "genre_df = genre_df['genre'].unique()\n",
    "\n",
    "print(genre_df)"
   ]
  },
  {
   "cell_type": "markdown",
   "metadata": {
    "id": "qej-Qmuo_Zct"
   },
   "source": [
    "Просмотрите список и найдите неявные дубликаты названия `hiphop`. Это могут быть названия с ошибками или альтернативные названия того же жанра.\n",
    "\n",
    "Вы увидите следующие неявные дубликаты:\n",
    "* *hip*,\n",
    "* *hop*,\n",
    "* *hip-hop*.\n",
    "\n",
    "Чтобы очистить от них таблицу, напишите функцию `replace_wrong_genres()` с двумя параметрами: \n",
    "* `wrong_genres` — список дубликатов,\n",
    "* `correct_genre` — строка с правильным значением.\n",
    "\n",
    "Функция должна исправить колонку `genre` в таблице `df`: заменить каждое значение из списка `wrong_genres` на значение из `correct_genre`."
   ]
  },
  {
   "cell_type": "code",
   "execution_count": 15,
   "metadata": {
    "id": "ErNDkmns_Zct"
   },
   "outputs": [],
   "source": [
    "# Функция для замены неявных дубликатов\n",
    "def replace_wrong_genres(wrong_genres,correct_genre):\n",
    "    df['genre'] = df['genre'].replace(wrong_genres, correct_genre)   "
   ]
  },
  {
   "cell_type": "markdown",
   "metadata": {
    "id": "aDoBJxbA_Zct"
   },
   "source": [
    "Вызовите `replace_wrong_genres()` и передайте ей такие аргументы, чтобы она устранила неявные дубликаты: вместо `hip`, `hop` и `hip-hop` в таблице должно быть значение `hiphop`:"
   ]
  },
  {
   "cell_type": "code",
   "execution_count": 16,
   "metadata": {
    "id": "YN5i2hpmSo09"
   },
   "outputs": [],
   "source": [
    "# Устранение неявных дубликатов\n",
    "replace_wrong_genres(['hip','hop','hip-hop'],'hiphop')"
   ]
  },
  {
   "cell_type": "markdown",
   "metadata": {
    "id": "zQKF16_RG15m"
   },
   "source": [
    "Проверьте, что заменили неправильные названия:\n",
    "\n",
    "*   hip\n",
    "*   hop\n",
    "*   hip-hop\n",
    "\n",
    "Выведите отсортированный список уникальных значений столбца `genre`:"
   ]
  },
  {
   "cell_type": "code",
   "execution_count": 17,
   "metadata": {
    "id": "wvixALnFG15m"
   },
   "outputs": [
    {
     "name": "stdout",
     "output_type": "stream",
     "text": [
      "['acid' 'acoustic' 'action' 'adult' 'africa' 'afrikaans' 'alternative'\n",
      " 'alternativepunk' 'ambient' 'americana' 'animated' 'anime' 'arabesk'\n",
      " 'arabic' 'arena' 'argentinetango' 'art' 'audiobook' 'author' 'avantgarde'\n",
      " 'axé' 'baile' 'balkan' 'beats' 'bigroom' 'black' 'bluegrass' 'blues'\n",
      " 'bollywood' 'bossa' 'brazilian' 'breakbeat' 'breaks' 'broadway'\n",
      " 'cantautori' 'cantopop' 'canzone' 'caribbean' 'caucasian' 'celtic'\n",
      " 'chamber' 'chanson' 'children' 'chill' 'chinese' 'choral' 'christian'\n",
      " 'christmas' 'classical' 'classicmetal' 'club' 'colombian' 'comedy'\n",
      " 'conjazz' 'contemporary' 'country' 'cuban' 'dance' 'dancehall' 'dancepop'\n",
      " 'dark' 'death' 'deep' 'deutschrock' 'deutschspr' 'dirty' 'disco' 'dnb'\n",
      " 'documentary' 'downbeat' 'downtempo' 'drum' 'dub' 'dubstep' 'eastern'\n",
      " 'easy' 'electronic' 'electropop' 'emo' 'entehno' 'epicmetal' 'estrada'\n",
      " 'ethnic' 'eurofolk' 'european' 'experimental' 'extrememetal' 'fado'\n",
      " 'fairytail' 'film' 'fitness' 'flamenco' 'folk' 'folklore' 'folkmetal'\n",
      " 'folkrock' 'folktronica' 'forró' 'frankreich' 'französisch' 'french'\n",
      " 'funk' 'future' 'gangsta' 'garage' 'german' 'ghazal' 'gitarre' 'glitch'\n",
      " 'gospel' 'gothic' 'grime' 'grunge' 'gypsy' 'handsup' \"hard'n'heavy\"\n",
      " 'hardcore' 'hardstyle' 'hardtechno' 'hiphop' 'historisch' 'holiday'\n",
      " 'horror' 'house' 'hymn' 'idm' 'independent' 'indian' 'indie' 'indipop'\n",
      " 'industrial' 'inspirational' 'instrumental' 'international' 'irish' 'jam'\n",
      " 'japanese' 'jazz' 'jewish' 'jpop' 'jungle' 'k-pop' 'karadeniz' 'karaoke'\n",
      " 'kayokyoku' 'korean' 'laiko' 'latin' 'latino' 'leftfield' 'local'\n",
      " 'lounge' 'loungeelectronic' 'lovers' 'malaysian' 'mandopop' 'marschmusik'\n",
      " 'meditative' 'mediterranean' 'melodic' 'metal' 'metalcore' 'mexican'\n",
      " 'middle' 'minimal' 'miscellaneous' 'modern' 'mood' 'mpb' 'muslim'\n",
      " 'native' 'neoklassik' 'neue' 'new' 'newage' 'newwave' 'nu' 'nujazz'\n",
      " 'numetal' 'oceania' 'old' 'opera' 'orchestral' 'other' 'piano' 'podcasts'\n",
      " 'pop' 'popdance' 'popelectronic' 'popeurodance' 'poprussian' 'post'\n",
      " 'posthardcore' 'postrock' 'power' 'progmetal' 'progressive' 'psychedelic'\n",
      " 'punjabi' 'punk' 'quebecois' 'ragga' 'ram' 'rancheras' 'rap' 'rave'\n",
      " 'reggae' 'reggaeton' 'regional' 'relax' 'religious' 'retro' 'rhythm'\n",
      " 'rnb' 'rnr' 'rock' 'rockabilly' 'rockalternative' 'rockindie' 'rockother'\n",
      " 'romance' 'roots' 'ruspop' 'rusrap' 'rusrock' 'russian' 'salsa' 'samba'\n",
      " 'scenic' 'schlager' 'self' 'sertanejo' 'shanson' 'shoegazing' 'showtunes'\n",
      " 'singer' 'ska' 'skarock' 'slow' 'smooth' 'soft' 'soul' 'soulful' 'sound'\n",
      " 'soundtrack' 'southern' 'specialty' 'speech' 'spiritual' 'sport'\n",
      " 'stonerrock' 'surf' 'swing' 'synthpop' 'synthrock' 'sängerportrait'\n",
      " 'tango' 'tanzorchester' 'taraftar' 'tatar' 'tech' 'techno' 'teen'\n",
      " 'thrash' 'top' 'traditional' 'tradjazz' 'trance' 'tribal' 'trip'\n",
      " 'triphop' 'tropical' 'türk' 'türkçe' 'ukrrock' 'unknown' 'urban' 'uzbek'\n",
      " 'variété' 'vi' 'videogame' 'vocal' 'western' 'world' 'worldbeat' 'ïîï'\n",
      " 'электроника']\n"
     ]
    }
   ],
   "source": [
    "# Проверка на неявные дубликаты\n",
    "genre_df = df.sort_values(by='genre')\n",
    "genre_df = genre_df['genre'].unique()\n",
    "\n",
    "print(genre_df)"
   ]
  },
  {
   "cell_type": "markdown",
   "metadata": {
    "id": "jz6a9-7HQUDd"
   },
   "source": [
    "**Выводы**\n",
    "\n",
    "Предобработка обнаружила три проблемы в данных:\n",
    "\n",
    "- нарушения в стиле заголовков,\n",
    "- пропущенные значения,\n",
    "- дубликаты — явные и неявные.\n",
    "\n",
    "Вы исправили заголовки, чтобы упростить работу с таблицей. Без дубликатов исследование станет более точным.\n",
    "\n",
    "Пропущенные значения вы заменили на `'unknown'`. Ещё предстоит увидеть, не повредят ли исследованию пропуски в колонке `genre`.\n",
    "\n",
    "Теперь можно перейти к проверке гипотез. "
   ]
  },
  {
   "cell_type": "markdown",
   "metadata": {
    "id": "WttZHXH0SqKk"
   },
   "source": [
    "## Проверка гипотез"
   ]
  },
  {
   "cell_type": "markdown",
   "metadata": {
    "id": "Im936VVi_Zcu"
   },
   "source": [
    "### Сравнение поведения пользователей двух столиц"
   ]
  },
  {
   "cell_type": "markdown",
   "metadata": {
    "id": "nwt_MuaL_Zcu"
   },
   "source": [
    "Первая гипотеза утверждает, что пользователи по-разному слушают музыку в Москве и Санкт-Петербурге. Проверьте это предположение по данным о трёх днях недели — понедельнике, среде и пятнице. Для этого:\n",
    "\n",
    "* Разделите пользователей Москвы и Санкт-Петербурга\n",
    "* Сравните, сколько треков послушала каждая группа пользователей в понедельник, среду и пятницу.\n"
   ]
  },
  {
   "cell_type": "markdown",
   "metadata": {
    "id": "8Dw_YMmT_Zcu"
   },
   "source": [
    "Для тренировки сначала выполните каждый из расчётов по отдельности. \n",
    "\n",
    "Оцените активность пользователей в каждом городе. Сгруппируйте данные по городу и посчитайте прослушивания в каждой группе.\n",
    "\n"
   ]
  },
  {
   "cell_type": "code",
   "execution_count": 18,
   "metadata": {
    "id": "0_Qs96oh_Zcu"
   },
   "outputs": [
    {
     "name": "stdout",
     "output_type": "stream",
     "text": [
      "В Москве слушают: 42741\n",
      "В Санкт-Питербурге слушают: 18512\n"
     ]
    }
   ],
   "source": [
    "# Подсчёт прослушиваний в каждом городе\n",
    "df_city = df.groupby('city')['user_id'].count()\n",
    "print('В Москве слушают:',df_city[0])\n",
    "print('В Санкт-Питербурге слушают:',df_city[1])\n"
   ]
  },
  {
   "cell_type": "markdown",
   "metadata": {
    "id": "dzli3w8o_Zcu"
   },
   "source": [
    "В Москве прослушиваний больше, чем в Петербурге. Из этого не следует, что московские пользователи чаще слушают музыку. Просто самих пользователей в Москве больше.\n",
    "\n",
    "Теперь сгруппируйте данные по дню недели и подсчитайте прослушивания в понедельник, среду и пятницу. Учтите, что в данных есть информация только о прослушиваниях только за эти дни.\n"
   ]
  },
  {
   "cell_type": "code",
   "execution_count": 19,
   "metadata": {
    "id": "uZMKjiJz_Zcu"
   },
   "outputs": [
    {
     "name": "stdout",
     "output_type": "stream",
     "text": [
      "В понедельник слушают 21354\n",
      "В среду слушают 18059\n",
      "В пятницу слушают 21840\n"
     ]
    }
   ],
   "source": [
    "# Подсчёт прослушиваний в каждый из трёх дней\n",
    "day_df = df.groupby('day')['city'].count()\n",
    "print('В понедельник слушают',day_df['Monday'])\n",
    "print('В среду слушают',day_df['Wednesday'])\n",
    "print('В пятницу слушают',day_df['Friday'])\n",
    "\n",
    "\n"
   ]
  },
  {
   "cell_type": "markdown",
   "metadata": {
    "id": "cC2tNrlL_Zcu"
   },
   "source": [
    "В среднем пользователи из двух городов менее активны по средам. Но картина может измениться, если рассмотреть каждый город в отдельности."
   ]
  },
  {
   "cell_type": "markdown",
   "metadata": {
    "id": "POzs8bGa_Zcu"
   },
   "source": [
    "Вы видели, как работает группировка по городу и по дням недели. Теперь напишите функцию, которая объединит два эти расчёта.\n",
    "\n",
    "Создайте функцию `number_tracks()`, которая посчитает прослушивания для заданного дня и города. Ей понадобятся два параметра:\n",
    "* день недели,\n",
    "* название города.\n",
    "\n",
    "В функции сохраните в переменную строки исходной таблицы, у которых значение:\n",
    "  * в колонке `day` равно параметру `day`,\n",
    "  * в колонке `city` равно параметру `city`.\n",
    "\n",
    "Для этого примените последовательную фильтрацию с логической индексацией.\n",
    "\n",
    "Затем посчитайте значения в столбце `user_id` получившейся таблицы. Результат сохраните в новую переменную. Верните эту переменную из функции."
   ]
  },
  {
   "cell_type": "code",
   "execution_count": 20,
   "metadata": {
    "id": "Nz3GdQB1_Zcu"
   },
   "outputs": [],
   "source": [
    "# <создание функции number_tracks()>\n",
    "# Объявляется функция с двумя параметрами: day, city.\n",
    "def number_tracks(day,city):\n",
    "# В переменной track_list сохраняются те строки таблицы df, для которых \n",
    "# значение в столбце 'day' равно параметру day и одновременно значение\n",
    "# в столбце 'city' равно параметру city (используйте последовательную фильтрацию\n",
    "# с помощью логической индексации).\n",
    "    track_list = df[df['day'] == str(day)]\n",
    "    track_list = track_list[track_list['city'] == str(city)]\n",
    "    track_list_count = track_list['day'].count()\n",
    "    return track_list_count\n",
    "# В переменной track_list_count сохраняется число значений столбца 'user_id',\n",
    "# рассчитанное методом count() для таблицы track_list.\n",
    "# Функция возвращает число - значение track_list_count\n",
    "# Функция для подсчёта прослушиваний для конкретного города и дня.\n",
    "# С помощью последовательной фильтрации с логической индексацией она \n",
    "# сначала получит из исходной таблицы строки с нужным днём,\n",
    "# затем из результата отфильтрует строки с нужным городом,\n",
    "# методом count() посчитает количество значений в колонке user_id. \n",
    "# Это количество функция вернёт в качестве результата\n"
   ]
  },
  {
   "cell_type": "markdown",
   "metadata": {
    "id": "ytf7xFrFJQ2r"
   },
   "source": [
    "Вызовите `number_tracks()` шесть раз, меняя значение параметров — так, чтобы получить данные для каждого города в каждый из трёх дней."
   ]
  },
  {
   "cell_type": "code",
   "execution_count": 21,
   "metadata": {
    "id": "rJcRATNQ_Zcu"
   },
   "outputs": [
    {
     "data": {
      "text/plain": [
       "15740"
      ]
     },
     "execution_count": 21,
     "metadata": {},
     "output_type": "execute_result"
    }
   ],
   "source": [
    "# количество прослушиваний в Москве по понедельникам\n",
    "number_tracks('Monday','Moscow')"
   ]
  },
  {
   "cell_type": "code",
   "execution_count": 22,
   "metadata": {
    "id": "hq_ncZ5T_Zcu"
   },
   "outputs": [
    {
     "data": {
      "text/plain": [
       "5614"
      ]
     },
     "execution_count": 22,
     "metadata": {},
     "output_type": "execute_result"
    }
   ],
   "source": [
    "# количество прослушиваний в Санкт-Петербурге по понедельникам\n",
    "number_tracks('Monday','Saint-Petersburg')"
   ]
  },
  {
   "cell_type": "code",
   "execution_count": 23,
   "metadata": {
    "id": "_NTy2VPU_Zcu"
   },
   "outputs": [
    {
     "data": {
      "text/plain": [
       "11056"
      ]
     },
     "execution_count": 23,
     "metadata": {},
     "output_type": "execute_result"
    }
   ],
   "source": [
    "# количество прослушиваний в Москве по средам\n",
    "number_tracks('Wednesday','Moscow')"
   ]
  },
  {
   "cell_type": "code",
   "execution_count": 24,
   "metadata": {
    "id": "j2y3TAwo_Zcu"
   },
   "outputs": [
    {
     "data": {
      "text/plain": [
       "7003"
      ]
     },
     "execution_count": 24,
     "metadata": {},
     "output_type": "execute_result"
    }
   ],
   "source": [
    "# количество прослушиваний в Санкт-Петербурге по средам\n",
    "number_tracks('Wednesday','Saint-Petersburg')"
   ]
  },
  {
   "cell_type": "code",
   "execution_count": 25,
   "metadata": {
    "id": "vYDw5u_K_Zcu"
   },
   "outputs": [
    {
     "data": {
      "text/plain": [
       "15945"
      ]
     },
     "execution_count": 25,
     "metadata": {},
     "output_type": "execute_result"
    }
   ],
   "source": [
    "# количество прослушиваний в Москве по пятницам\n",
    "number_tracks('Friday','Moscow')"
   ]
  },
  {
   "cell_type": "code",
   "execution_count": 26,
   "metadata": {
    "id": "8_yzFtW3_Zcu"
   },
   "outputs": [
    {
     "data": {
      "text/plain": [
       "5895"
      ]
     },
     "execution_count": 26,
     "metadata": {},
     "output_type": "execute_result"
    }
   ],
   "source": [
    "# количество прослушиваний в Санкт-Петербурге по пятницам\n",
    "number_tracks('Friday','Saint-Petersburg')"
   ]
  },
  {
   "cell_type": "markdown",
   "metadata": {
    "id": "7QXffbO-_Zcu"
   },
   "source": [
    "Создайте c помощью конструктора `pd.DataFrame` таблицу, где\n",
    "* названия колонок — `['city', 'monday', 'wednesday', 'friday']`;\n",
    "* данные — результаты, которые вы получили с помощью `number_tracks`."
   ]
  },
  {
   "cell_type": "code",
   "execution_count": 27,
   "metadata": {
    "id": "APAcLpOr_Zcu"
   },
   "outputs": [
    {
     "data": {
      "text/html": [
       "<div>\n",
       "<style scoped>\n",
       "    .dataframe tbody tr th:only-of-type {\n",
       "        vertical-align: middle;\n",
       "    }\n",
       "\n",
       "    .dataframe tbody tr th {\n",
       "        vertical-align: top;\n",
       "    }\n",
       "\n",
       "    .dataframe thead th {\n",
       "        text-align: right;\n",
       "    }\n",
       "</style>\n",
       "<table border=\"1\" class=\"dataframe\">\n",
       "  <thead>\n",
       "    <tr style=\"text-align: right;\">\n",
       "      <th></th>\n",
       "      <th>city</th>\n",
       "      <th>monday</th>\n",
       "      <th>wednesday</th>\n",
       "      <th>friday</th>\n",
       "    </tr>\n",
       "  </thead>\n",
       "  <tbody>\n",
       "    <tr>\n",
       "      <th>0</th>\n",
       "      <td>Moscow</td>\n",
       "      <td>15740</td>\n",
       "      <td>11056</td>\n",
       "      <td>15945</td>\n",
       "    </tr>\n",
       "    <tr>\n",
       "      <th>1</th>\n",
       "      <td>Saint-Petersburg</td>\n",
       "      <td>5614</td>\n",
       "      <td>7003</td>\n",
       "      <td>5895</td>\n",
       "    </tr>\n",
       "  </tbody>\n",
       "</table>\n",
       "</div>"
      ],
      "text/plain": [
       "               city monday wednesday friday\n",
       "0            Moscow  15740     11056  15945\n",
       "1  Saint-Petersburg   5614      7003   5895"
      ]
     },
     "execution_count": 27,
     "metadata": {},
     "output_type": "execute_result"
    }
   ],
   "source": [
    "# Таблица с результатами\n",
    "pd.DataFrame({'city':['Moscow','Saint-Petersburg'],\n",
    "                     'monday':['15740','5614'],\n",
    "                     'wednesday':['11056','7003'],\n",
    "                     'friday':['15945','5895']})\n",
    "\n"
   ]
  },
  {
   "cell_type": "markdown",
   "metadata": {
    "id": "-EgPIHYu_Zcu"
   },
   "source": [
    "**Выводы**\n",
    "\n",
    "Данные показывают разницу поведения пользователей:\n",
    "\n",
    "- В Москве пик прослушиваний приходится на понедельник и пятницу, а в среду заметен спад.\n",
    "- В Петербурге, наоборот, больше слушают музыку по средам. Активность в понедельник и пятницу здесь почти в равной мере уступает среде.\n",
    "\n",
    "Значит, данные говорят в пользу первой гипотезы."
   ]
  },
  {
   "cell_type": "markdown",
   "metadata": {
    "id": "atZAxtq4_Zcu"
   },
   "source": [
    "### Музыка в начале и в конце недели"
   ]
  },
  {
   "cell_type": "markdown",
   "metadata": {
    "id": "eXrQqXFH_Zcu"
   },
   "source": [
    "Согласно второй гипотезе, утром в понедельник в Москве преобладают одни жанры, а в Петербурге — другие. Так же и вечером пятницы преобладают разные жанры — в зависимости от города."
   ]
  },
  {
   "cell_type": "markdown",
   "metadata": {
    "id": "S8UcW6Hw_Zcu"
   },
   "source": [
    "Сохраните таблицы с данными в две переменные:\n",
    "* по Москве — в `moscow_general`;\n",
    "* по Санкт-Петербургу — в `spb_general`."
   ]
  },
  {
   "cell_type": "code",
   "execution_count": 28,
   "metadata": {
    "id": "qeaFfM_P_Zcu"
   },
   "outputs": [],
   "source": [
    "# получение таблицы moscow_general из тех строк таблицы df, \n",
    "# для которых значение в столбце 'city' равно 'Moscow'\n",
    "moscow_general = df[df['city'] == 'Moscow']"
   ]
  },
  {
   "cell_type": "code",
   "execution_count": 29,
   "metadata": {
    "id": "ORaVRKto_Zcu"
   },
   "outputs": [],
   "source": [
    "# получение таблицы spb_general из тех строк таблицы df,\n",
    "# для которых значение в столбце 'city' равно 'Saint-Petersburg'\n",
    "spb_general = df[df['city'] == 'Saint-Petersburg']"
   ]
  },
  {
   "cell_type": "markdown",
   "metadata": {
    "id": "MEJV-CX2_Zcu"
   },
   "source": [
    "Создайте функцию `genre_weekday()` с четырьмя параметрами:\n",
    "* таблица (датафрейм) с данными,\n",
    "* день недели,\n",
    "* начальная временная метка в формате 'hh:mm', \n",
    "* последняя временная метка в формате 'hh:mm'.\n",
    "\n",
    "Функция должна вернуть информацию о топ-10 жанров тех треков, которые прослушивали в указанный день, в промежутке между двумя отметками времени."
   ]
  },
  {
   "cell_type": "code",
   "execution_count": 30,
   "metadata": {
    "id": "laJT9BYl_Zcu"
   },
   "outputs": [],
   "source": [
    "# Объявление функции genre_weekday() с параметрами table, day, time1, time2,\n",
    "# которая возвращает информацию о самых популярных жанрах в указанный день в\n",
    "# заданное время:\n",
    "# 1) в переменную genre_df сохраняются те строки переданного датафрейма table, для\n",
    "#    которых одновременно:\n",
    "#    - значение в столбце day равно значению аргумента day\n",
    "#    - значение в столбце time больше значения аргумента time1\n",
    "#    - значение в столбце time меньше значения аргумента time2\n",
    "#    Используйте последовательную фильтрацию с помощью логической индексации.\n",
    "# 2) сгруппировать датафрейм genre_df по столбцу genre, взять один из его\n",
    "#    столбцов и посчитать методом count() количество записей для каждого из\n",
    "#    присутствующих жанров, получившийся Series записать в переменную\n",
    "#    genre_df_count\n",
    "# 3) отсортировать genre_df_count по убыванию встречаемости и сохранить\n",
    "#    в переменную genre_df_sorted\n",
    "# 4) вернуть Series из 10 первых значений genre_df_sorted, это будут топ-10\n",
    "#    популярных жанров (в указанный день, в заданное время)\n",
    "def genre_weekday(table, day, time1, time2):\n",
    "    genre_list = table[(table['day'] == day) & (table['time'] > time1) & (table['time'] < time2)]\n",
    "    genre_list = genre_list.groupby('genre')['track'].count()\n",
    "    genre_list_sorted = genre_list.sort_values(ascending = False).head(10)\n",
    "    return genre_list_sorted\n",
    "    \n"
   ]
  },
  {
   "cell_type": "markdown",
   "metadata": {
    "id": "la2s2_PF_Zcu"
   },
   "source": [
    "Cравните результаты функции `genre_weekday()` для Москвы и Санкт-Петербурга в понедельник утром (с 7:00 до 11:00) и в пятницу вечером (с 17:00 до 23:00):"
   ]
  },
  {
   "cell_type": "code",
   "execution_count": 31,
   "metadata": {
    "id": "yz7itPUQ_Zcu"
   },
   "outputs": [
    {
     "name": "stdout",
     "output_type": "stream",
     "text": [
      "genre\n",
      "pop            781\n",
      "dance          549\n",
      "electronic     480\n",
      "rock           474\n",
      "hiphop         286\n",
      "ruspop         186\n",
      "world          181\n",
      "rusrap         175\n",
      "alternative    164\n",
      "unknown        161\n",
      "Name: track, dtype: int64\n"
     ]
    }
   ],
   "source": [
    "# вызов функции для утра понедельника в Москве (вместо df — таблица moscow_general)\n",
    "# объекты, хранящие время, являются строками и сравниваются как строки\n",
    "# пример вызова: genre_weekday(moscow_general, 'Monday', '07:00', '11:00')\n",
    "print(genre_weekday(moscow_general,'Monday','07:00','11:00'))"
   ]
  },
  {
   "cell_type": "code",
   "execution_count": 32,
   "metadata": {
    "id": "kwUcHPdy_Zcu"
   },
   "outputs": [
    {
     "name": "stdout",
     "output_type": "stream",
     "text": [
      "genre\n",
      "pop            218\n",
      "dance          182\n",
      "rock           162\n",
      "electronic     147\n",
      "hiphop          80\n",
      "ruspop          64\n",
      "alternative     58\n",
      "rusrap          55\n",
      "jazz            44\n",
      "classical       40\n",
      "Name: track, dtype: int64\n"
     ]
    }
   ],
   "source": [
    "# вызов функции для утра понедельника в Петербурге (вместо df — таблица spb_general)\n",
    "print(genre_weekday(spb_general,'Monday','07:00','11:00'))"
   ]
  },
  {
   "cell_type": "code",
   "execution_count": 33,
   "metadata": {
    "id": "EzXVRE1o_Zcu"
   },
   "outputs": [
    {
     "name": "stdout",
     "output_type": "stream",
     "text": [
      "genre\n",
      "pop            713\n",
      "rock           517\n",
      "dance          495\n",
      "electronic     482\n",
      "hiphop         273\n",
      "world          208\n",
      "ruspop         170\n",
      "alternative    163\n",
      "classical      163\n",
      "rusrap         142\n",
      "Name: track, dtype: int64\n"
     ]
    }
   ],
   "source": [
    "# вызов функции для вечера пятницы в Москве\n",
    "print(genre_weekday(moscow_general,'Friday','17:00','23:00'))"
   ]
  },
  {
   "cell_type": "code",
   "execution_count": 34,
   "metadata": {
    "id": "JZaEKu5v_Zcu"
   },
   "outputs": [
    {
     "name": "stdout",
     "output_type": "stream",
     "text": [
      "genre\n",
      "pop            256\n",
      "electronic     216\n",
      "rock           216\n",
      "dance          210\n",
      "hiphop          97\n",
      "alternative     63\n",
      "jazz            61\n",
      "classical       60\n",
      "rusrap          59\n",
      "world           54\n",
      "Name: track, dtype: int64\n"
     ]
    }
   ],
   "source": [
    "# вызов функции для вечера пятницы в Петербурге\n",
    "print(genre_weekday(spb_general,'Friday','17:00','23:00'))"
   ]
  },
  {
   "cell_type": "markdown",
   "metadata": {
    "id": "wrCe4MNX_Zcu"
   },
   "source": [
    "**Выводы**\n",
    "\n",
    "Если сравнить топ-10 жанров в понедельник утром, можно сделать такие выводы:\n",
    "\n",
    "1. В Москве и Петербурге слушают похожую музыку. Единственное отличие — в московский рейтинг вошёл жанр “world”, а в петербургский — джаз и классика.\n",
    "\n",
    "2. В Москве пропущенных значений оказалось так много, что значение `'unknown'` заняло десятое место среди самых популярных жанров. Значит, пропущенные значения занимают существенную долю в данных и угрожают достоверности исследования.\n",
    "\n",
    "Вечер пятницы не меняет эту картину. Некоторые жанры поднимаются немного выше, другие спускаются, но в целом топ-10 остаётся тем же самым.\n",
    "\n",
    "Таким образом, вторая гипотеза подтвердилась лишь частично:\n",
    "* Пользователи слушают похожую музыку в начале недели и в конце.\n",
    "* Разница между Москвой и Петербургом не слишком выражена. В Москве чаще слушают русскую популярную музыку, в Петербурге — джаз.\n",
    "\n",
    "Однако пропуски в данных ставят под сомнение этот результат. В Москве их так много, что рейтинг топ-10 мог бы выглядеть иначе, если бы не утерянные  данные о жанрах."
   ]
  },
  {
   "cell_type": "markdown",
   "metadata": {
    "id": "JolODAqr_Zcu"
   },
   "source": [
    "### Жанровые предпочтения в Москве и Петербурге\n",
    "\n",
    "Гипотеза: Петербург — столица рэпа, музыку этого жанра там слушают чаще, чем в Москве.  А Москва — город контрастов, в котором, тем не менее, преобладает поп-музыка."
   ]
  },
  {
   "cell_type": "markdown",
   "metadata": {
    "id": "DlegSvaT_Zcu"
   },
   "source": [
    "Сгруппируйте таблицу `moscow_general` по жанру и посчитайте прослушивания треков каждого жанра методом `count()`. Затем отсортируйте результат в порядке убывания и сохраните его в таблице `moscow_genres`."
   ]
  },
  {
   "cell_type": "code",
   "execution_count": 35,
   "metadata": {
    "id": "r19lIPke_Zcu"
   },
   "outputs": [],
   "source": [
    "# одной строкой: группировка таблицы moscow_general по столбцу 'genre', \n",
    "# подсчёт числа значений 'genre' в этой группировке методом count(), \n",
    "# сортировка получившегося Series в порядке убывания и сохранение в moscow_genres\n",
    "moscow_genres = moscow_general.groupby('genre')['track'].count()\n",
    "moscow_genres = moscow_genres.sort_values(ascending = False)\n"
   ]
  },
  {
   "cell_type": "markdown",
   "metadata": {
    "id": "6kMuomxTiIr8"
   },
   "source": [
    "Выведите на экран первые десять строк `moscow_genres`:"
   ]
  },
  {
   "cell_type": "code",
   "execution_count": 36,
   "metadata": {
    "id": "WhCSooF8_Zcv"
   },
   "outputs": [
    {
     "name": "stdout",
     "output_type": "stream",
     "text": [
      "genre\n",
      "pop            5892\n",
      "dance          4435\n",
      "rock           3965\n",
      "electronic     3786\n",
      "hiphop         2096\n",
      "classical      1616\n",
      "world          1432\n",
      "alternative    1379\n",
      "ruspop         1372\n",
      "rusrap         1161\n",
      "Name: track, dtype: int64\n"
     ]
    }
   ],
   "source": [
    "# просмотр первых 10 строк moscow_genres\n",
    "print(moscow_genres.head(10))"
   ]
  },
  {
   "cell_type": "markdown",
   "metadata": {
    "id": "cnPG2vnN_Zcv"
   },
   "source": [
    "Теперь повторите то же и для Петербурга.\n",
    "\n",
    "Сгруппируйте таблицу `spb_general` по жанру. Посчитайте прослушивания треков каждого жанра. Результат отсортируйте в порядке убывания и сохраните в таблице `spb_genres`:\n"
   ]
  },
  {
   "cell_type": "code",
   "execution_count": 37,
   "metadata": {
    "id": "gluLIpE7_Zcv"
   },
   "outputs": [],
   "source": [
    "# одной строкой: группировка таблицы spb_general по столбцу 'genre', \n",
    "# подсчёт числа значений 'genre' в этой группировке методом count(), \n",
    "# сортировка получившегося Series в порядке убывания и сохранение в spb_genres\n",
    "spb_general = spb_general.groupby('genre')['track'].count()\n",
    "spb_general = spb_general.sort_values(ascending = False)"
   ]
  },
  {
   "cell_type": "markdown",
   "metadata": {
    "id": "5Doha_ODgyQ8"
   },
   "source": [
    "Выведите на экран первые десять строк `spb_genres`:"
   ]
  },
  {
   "cell_type": "code",
   "execution_count": 38,
   "metadata": {
    "id": "uaGJHjVU_Zcv"
   },
   "outputs": [
    {
     "name": "stdout",
     "output_type": "stream",
     "text": [
      "genre\n",
      "pop            2431\n",
      "dance          1932\n",
      "rock           1879\n",
      "electronic     1736\n",
      "hiphop          960\n",
      "alternative     649\n",
      "classical       646\n",
      "rusrap          564\n",
      "ruspop          538\n",
      "world           515\n",
      "Name: track, dtype: int64\n"
     ]
    }
   ],
   "source": [
    "# просмотр первых 10 строк spb_genres\n",
    "print(spb_general.head(10))"
   ]
  },
  {
   "cell_type": "markdown",
   "metadata": {
    "id": "RY51YJYu_Zcv"
   },
   "source": [
    "**Выводы**"
   ]
  },
  {
   "cell_type": "markdown",
   "metadata": {
    "id": "nVhnJEm__Zcv"
   },
   "source": [
    "Гипотеза частично подтвердилась:\n",
    "* Поп-музыка — самый популярный жанр в Москве, как и предполагала гипотеза. Более того, в топ-10 жанров встречается близкий жанр — русская популярная музыка.\n",
    "* Вопреки ожиданиям, рэп одинаково популярен в Москве и Петербурге. \n"
   ]
  },
  {
   "cell_type": "markdown",
   "metadata": {
    "id": "ykKQ0N65_Zcv"
   },
   "source": [
    "## Итоги исследования"
   ]
  },
  {
   "cell_type": "markdown",
   "metadata": {
    "id": "tjUwbHb3_Zcv"
   },
   "source": [
    "Вы проверили три гипотезы и установили:\n",
    "\n",
    "1. День недели по-разному влияет на активность пользователей в Москве и Петербурге. \n",
    "\n",
    "Первая гипотеза полностью подтвердилась.\n",
    "\n",
    "2. Музыкальные предпочтения не сильно меняются в течение недели — будь то Москва или Петербург. Небольшие различия заметны в начале недели, по понедельникам:\n",
    "* в Москве слушают музыку жанра “world”,\n",
    "* в Петербурге — джаз и классику.\n",
    "\n",
    "Таким образом, вторая гипотеза подтвердилась лишь отчасти. Этот результат мог оказаться иным, если бы не пропуски в данных.\n",
    "\n",
    "3. Во вкусах пользователей Москвы и Петербурга больше общего чем различий. Вопреки ожиданиям, предпочтения жанров в Петербурге напоминают московские.\n",
    "\n",
    "Третья гипотеза не подтвердилась. Если различия в предпочтениях и существуют, на основной массе пользователей они незаметны.\n",
    "\n",
    "**На практике исследования содержат проверки статистических гипотез.**\n",
    "Из данных одного сервиса не всегда можно сделать вывод о всех жителях города.\n",
    "Проверки статистических гипотез покажут, насколько они достоверны, исходя из имеющихся данных. \n",
    "С методами проверок гипотез вы ещё познакомитесь в следующих темах."
   ]
  }
 ],
 "metadata": {
  "ExecuteTimeLog": [
   {
    "duration": 97,
    "start_time": "2022-03-01T07:05:24.349Z"
   },
   {
    "duration": 346,
    "start_time": "2022-03-01T07:05:31.935Z"
   },
   {
    "duration": 594,
    "start_time": "2022-03-01T07:05:39.292Z"
   },
   {
    "duration": 294,
    "start_time": "2022-03-01T07:05:41.743Z"
   },
   {
    "duration": 3205,
    "start_time": "2022-03-01T07:05:49.329Z"
   },
   {
    "duration": 143,
    "start_time": "2022-03-01T07:06:04.730Z"
   },
   {
    "duration": 8,
    "start_time": "2022-03-01T07:06:28.422Z"
   },
   {
    "duration": 24,
    "start_time": "2022-03-01T07:07:03.157Z"
   },
   {
    "duration": 3,
    "start_time": "2022-03-01T07:10:00.046Z"
   },
   {
    "duration": 9,
    "start_time": "2022-03-01T07:10:17.087Z"
   },
   {
    "duration": 31,
    "start_time": "2022-03-01T07:14:41.841Z"
   },
   {
    "duration": 47,
    "start_time": "2022-03-01T07:15:40.696Z"
   },
   {
    "duration": 33,
    "start_time": "2022-03-01T07:15:45.225Z"
   },
   {
    "duration": 34,
    "start_time": "2022-03-01T07:16:23.162Z"
   },
   {
    "duration": 315,
    "start_time": "2022-03-01T07:17:26.208Z"
   },
   {
    "duration": 31,
    "start_time": "2022-03-01T07:18:05.587Z"
   },
   {
    "duration": 4,
    "start_time": "2022-03-01T07:18:51.848Z"
   },
   {
    "duration": 15,
    "start_time": "2022-03-01T07:19:21.994Z"
   },
   {
    "duration": 17,
    "start_time": "2022-03-01T07:19:24.925Z"
   },
   {
    "duration": 4,
    "start_time": "2022-03-01T07:19:30.233Z"
   },
   {
    "duration": 13,
    "start_time": "2022-03-01T07:19:56.274Z"
   },
   {
    "duration": 3,
    "start_time": "2022-03-01T07:19:58.318Z"
   },
   {
    "duration": 30,
    "start_time": "2022-03-01T07:20:06.217Z"
   },
   {
    "duration": 3,
    "start_time": "2022-03-01T07:20:13.217Z"
   },
   {
    "duration": 2,
    "start_time": "2022-03-01T07:20:22.076Z"
   },
   {
    "duration": 143,
    "start_time": "2022-03-01T07:20:24.397Z"
   },
   {
    "duration": 8,
    "start_time": "2022-03-01T07:20:25.668Z"
   },
   {
    "duration": 27,
    "start_time": "2022-03-01T07:20:27.145Z"
   },
   {
    "duration": 4,
    "start_time": "2022-03-01T07:20:30.188Z"
   },
   {
    "duration": 20,
    "start_time": "2022-03-01T07:20:34.092Z"
   },
   {
    "duration": 4,
    "start_time": "2022-03-01T07:20:36.020Z"
   },
   {
    "duration": 2,
    "start_time": "2022-03-01T07:20:58.085Z"
   },
   {
    "duration": 153,
    "start_time": "2022-03-01T07:20:59.344Z"
   },
   {
    "duration": 7,
    "start_time": "2022-03-01T07:21:00.336Z"
   },
   {
    "duration": 25,
    "start_time": "2022-03-01T07:21:01.948Z"
   },
   {
    "duration": 4,
    "start_time": "2022-03-01T07:21:04.864Z"
   },
   {
    "duration": 360,
    "start_time": "2022-03-01T07:21:08.237Z"
   },
   {
    "duration": 10,
    "start_time": "2022-03-01T07:21:17.917Z"
   },
   {
    "duration": 95,
    "start_time": "2022-03-01T07:21:21.812Z"
   },
   {
    "duration": 4,
    "start_time": "2022-03-01T07:21:25.736Z"
   },
   {
    "duration": 44,
    "start_time": "2022-03-01T07:22:19.107Z"
   },
   {
    "duration": 382,
    "start_time": "2022-03-01T07:22:33.750Z"
   },
   {
    "duration": 52,
    "start_time": "2022-03-01T07:22:41.456Z"
   },
   {
    "duration": 24,
    "start_time": "2022-03-01T07:22:59.570Z"
   },
   {
    "duration": 105,
    "start_time": "2022-03-01T07:27:20.305Z"
   },
   {
    "duration": 47,
    "start_time": "2022-03-01T07:27:37.034Z"
   },
   {
    "duration": 24,
    "start_time": "2022-03-01T07:28:04.587Z"
   },
   {
    "duration": 105,
    "start_time": "2022-03-01T07:28:26.531Z"
   },
   {
    "duration": 23,
    "start_time": "2022-03-01T07:28:28.579Z"
   },
   {
    "duration": 2,
    "start_time": "2022-03-01T07:28:44.467Z"
   },
   {
    "duration": 158,
    "start_time": "2022-03-01T07:28:44.471Z"
   },
   {
    "duration": 6,
    "start_time": "2022-03-01T07:28:44.632Z"
   },
   {
    "duration": 54,
    "start_time": "2022-03-01T07:28:44.640Z"
   },
   {
    "duration": 23,
    "start_time": "2022-03-01T07:28:44.696Z"
   },
   {
    "duration": 37,
    "start_time": "2022-03-01T07:28:44.721Z"
   },
   {
    "duration": 16,
    "start_time": "2022-03-01T07:28:44.760Z"
   },
   {
    "duration": 42,
    "start_time": "2022-03-01T07:28:44.778Z"
   },
   {
    "duration": 118,
    "start_time": "2022-03-01T07:28:44.822Z"
   },
   {
    "duration": 21,
    "start_time": "2022-03-01T07:28:44.942Z"
   },
   {
    "duration": 10,
    "start_time": "2022-03-01T07:28:44.965Z"
   },
   {
    "duration": 15,
    "start_time": "2022-03-01T07:28:44.977Z"
   },
   {
    "duration": 24,
    "start_time": "2022-03-01T07:28:44.993Z"
   },
   {
    "duration": 23,
    "start_time": "2022-03-01T07:28:45.019Z"
   },
   {
    "duration": 13,
    "start_time": "2022-03-01T07:28:45.044Z"
   },
   {
    "duration": 19,
    "start_time": "2022-03-01T07:28:45.058Z"
   },
   {
    "duration": 16,
    "start_time": "2022-03-01T07:28:45.079Z"
   },
   {
    "duration": 16,
    "start_time": "2022-03-01T07:28:45.096Z"
   },
   {
    "duration": 10,
    "start_time": "2022-03-01T07:28:45.113Z"
   },
   {
    "duration": 22,
    "start_time": "2022-03-01T07:28:45.125Z"
   },
   {
    "duration": 23,
    "start_time": "2022-03-01T07:28:45.149Z"
   },
   {
    "duration": 10,
    "start_time": "2022-03-01T07:28:45.174Z"
   },
   {
    "duration": 14,
    "start_time": "2022-03-01T07:28:45.188Z"
   },
   {
    "duration": 10,
    "start_time": "2022-03-01T07:28:45.205Z"
   },
   {
    "duration": 21,
    "start_time": "2022-03-01T07:28:45.216Z"
   },
   {
    "duration": 24,
    "start_time": "2022-03-01T07:28:45.239Z"
   },
   {
    "duration": 8,
    "start_time": "2022-03-01T07:28:45.265Z"
   },
   {
    "duration": 25,
    "start_time": "2022-03-01T07:28:45.274Z"
   },
   {
    "duration": 15,
    "start_time": "2022-03-01T07:28:45.301Z"
   },
   {
    "duration": 21,
    "start_time": "2022-03-01T07:28:45.318Z"
   },
   {
    "duration": 21,
    "start_time": "2022-03-01T07:28:45.341Z"
   },
   {
    "duration": 13,
    "start_time": "2022-03-01T07:28:45.364Z"
   },
   {
    "duration": 36,
    "start_time": "2022-03-01T07:28:45.379Z"
   },
   {
    "duration": 26,
    "start_time": "2022-03-01T07:28:45.417Z"
   },
   {
    "duration": 24,
    "start_time": "2022-03-01T07:28:45.445Z"
   },
   {
    "duration": 6,
    "start_time": "2022-03-01T07:28:45.471Z"
   },
   {
    "duration": 24,
    "start_time": "2022-03-01T07:28:45.479Z"
   },
   {
    "duration": 7,
    "start_time": "2022-03-01T07:28:45.504Z"
   },
   {
    "duration": 2,
    "start_time": "2022-03-01T07:28:57.189Z"
   },
   {
    "duration": 146,
    "start_time": "2022-03-01T07:28:58.268Z"
   },
   {
    "duration": 7,
    "start_time": "2022-03-01T07:28:59.689Z"
   },
   {
    "duration": 28,
    "start_time": "2022-03-01T07:29:01.512Z"
   },
   {
    "duration": 5,
    "start_time": "2022-03-01T07:29:03.964Z"
   },
   {
    "duration": 22,
    "start_time": "2022-03-01T07:29:06.265Z"
   },
   {
    "duration": 5,
    "start_time": "2022-03-01T07:29:08.020Z"
   },
   {
    "duration": 23,
    "start_time": "2022-03-01T07:29:10.173Z"
   },
   {
    "duration": 107,
    "start_time": "2022-03-01T07:29:12.652Z"
   },
   {
    "duration": 23,
    "start_time": "2022-03-01T07:29:13.625Z"
   },
   {
    "duration": 3,
    "start_time": "2022-03-01T07:30:10.382Z"
   },
   {
    "duration": 160,
    "start_time": "2022-03-01T07:30:10.386Z"
   },
   {
    "duration": 7,
    "start_time": "2022-03-01T07:30:10.548Z"
   },
   {
    "duration": 39,
    "start_time": "2022-03-01T07:30:10.558Z"
   },
   {
    "duration": 4,
    "start_time": "2022-03-01T07:30:10.600Z"
   },
   {
    "duration": 19,
    "start_time": "2022-03-01T07:30:10.606Z"
   },
   {
    "duration": 4,
    "start_time": "2022-03-01T07:30:10.627Z"
   },
   {
    "duration": 47,
    "start_time": "2022-03-01T07:30:10.634Z"
   },
   {
    "duration": 7194,
    "start_time": "2022-03-01T07:30:10.684Z"
   },
   {
    "duration": -2057,
    "start_time": "2022-03-01T07:30:19.937Z"
   },
   {
    "duration": -2067,
    "start_time": "2022-03-01T07:30:19.948Z"
   },
   {
    "duration": -2075,
    "start_time": "2022-03-01T07:30:19.957Z"
   },
   {
    "duration": -2077,
    "start_time": "2022-03-01T07:30:19.959Z"
   },
   {
    "duration": -2081,
    "start_time": "2022-03-01T07:30:19.964Z"
   },
   {
    "duration": -2089,
    "start_time": "2022-03-01T07:30:19.974Z"
   },
   {
    "duration": -2106,
    "start_time": "2022-03-01T07:30:19.991Z"
   },
   {
    "duration": -2110,
    "start_time": "2022-03-01T07:30:19.996Z"
   },
   {
    "duration": -2119,
    "start_time": "2022-03-01T07:30:20.006Z"
   },
   {
    "duration": -2125,
    "start_time": "2022-03-01T07:30:20.013Z"
   },
   {
    "duration": -2133,
    "start_time": "2022-03-01T07:30:20.022Z"
   },
   {
    "duration": -2135,
    "start_time": "2022-03-01T07:30:20.025Z"
   },
   {
    "duration": -2136,
    "start_time": "2022-03-01T07:30:20.027Z"
   },
   {
    "duration": -2140,
    "start_time": "2022-03-01T07:30:20.032Z"
   },
   {
    "duration": -2141,
    "start_time": "2022-03-01T07:30:20.034Z"
   },
   {
    "duration": -2144,
    "start_time": "2022-03-01T07:30:20.038Z"
   },
   {
    "duration": -2145,
    "start_time": "2022-03-01T07:30:20.040Z"
   },
   {
    "duration": -2148,
    "start_time": "2022-03-01T07:30:20.044Z"
   },
   {
    "duration": -2149,
    "start_time": "2022-03-01T07:30:20.046Z"
   },
   {
    "duration": -2150,
    "start_time": "2022-03-01T07:30:20.048Z"
   },
   {
    "duration": -2153,
    "start_time": "2022-03-01T07:30:20.052Z"
   },
   {
    "duration": -2155,
    "start_time": "2022-03-01T07:30:20.054Z"
   },
   {
    "duration": -2156,
    "start_time": "2022-03-01T07:30:20.056Z"
   },
   {
    "duration": -2157,
    "start_time": "2022-03-01T07:30:20.058Z"
   },
   {
    "duration": -2158,
    "start_time": "2022-03-01T07:30:20.060Z"
   },
   {
    "duration": -2158,
    "start_time": "2022-03-01T07:30:20.061Z"
   },
   {
    "duration": -2160,
    "start_time": "2022-03-01T07:30:20.064Z"
   },
   {
    "duration": -2161,
    "start_time": "2022-03-01T07:30:20.066Z"
   },
   {
    "duration": -2162,
    "start_time": "2022-03-01T07:30:20.068Z"
   },
   {
    "duration": 3,
    "start_time": "2022-03-01T07:30:21.251Z"
   },
   {
    "duration": 137,
    "start_time": "2022-03-01T07:30:22.573Z"
   },
   {
    "duration": 7,
    "start_time": "2022-03-01T07:30:24.019Z"
   },
   {
    "duration": 27,
    "start_time": "2022-03-01T07:30:25.811Z"
   },
   {
    "duration": 4,
    "start_time": "2022-03-01T07:30:28.679Z"
   },
   {
    "duration": 15,
    "start_time": "2022-03-01T07:30:30.272Z"
   },
   {
    "duration": 5,
    "start_time": "2022-03-01T07:30:31.384Z"
   },
   {
    "duration": 25,
    "start_time": "2022-03-01T07:30:33.115Z"
   },
   {
    "duration": 3559,
    "start_time": "2022-03-01T07:30:53.596Z"
   },
   {
    "duration": -2054,
    "start_time": "2022-03-01T07:30:59.211Z"
   },
   {
    "duration": 3625,
    "start_time": "2022-03-01T07:31:17.635Z"
   },
   {
    "duration": 4562,
    "start_time": "2022-03-01T07:31:37.518Z"
   },
   {
    "duration": 3789,
    "start_time": "2022-03-01T07:33:41.454Z"
   },
   {
    "duration": -2043,
    "start_time": "2022-03-01T07:35:31.595Z"
   },
   {
    "duration": 11667,
    "start_time": "2022-03-01T07:35:29.791Z"
   },
   {
    "duration": 10771,
    "start_time": "2022-03-01T07:35:57.418Z"
   },
   {
    "duration": 5,
    "start_time": "2022-03-01T07:37:00.226Z"
   },
   {
    "duration": 3,
    "start_time": "2022-03-01T07:37:13.668Z"
   },
   {
    "duration": 133,
    "start_time": "2022-03-01T07:37:14.036Z"
   },
   {
    "duration": 7,
    "start_time": "2022-03-01T07:37:14.421Z"
   },
   {
    "duration": 26,
    "start_time": "2022-03-01T07:37:14.840Z"
   },
   {
    "duration": 4,
    "start_time": "2022-03-01T07:37:16.599Z"
   },
   {
    "duration": 17,
    "start_time": "2022-03-01T07:37:16.658Z"
   },
   {
    "duration": 4,
    "start_time": "2022-03-01T07:37:17.265Z"
   },
   {
    "duration": 24,
    "start_time": "2022-03-01T07:37:18.249Z"
   },
   {
    "duration": 13,
    "start_time": "2022-03-01T07:37:20.838Z"
   },
   {
    "duration": 3,
    "start_time": "2022-03-01T07:37:38.964Z"
   },
   {
    "duration": 150,
    "start_time": "2022-03-01T07:37:38.969Z"
   },
   {
    "duration": 7,
    "start_time": "2022-03-01T07:37:39.121Z"
   },
   {
    "duration": 29,
    "start_time": "2022-03-01T07:37:39.130Z"
   },
   {
    "duration": 5,
    "start_time": "2022-03-01T07:37:39.161Z"
   },
   {
    "duration": 20,
    "start_time": "2022-03-01T07:37:39.168Z"
   },
   {
    "duration": 3,
    "start_time": "2022-03-01T07:37:39.191Z"
   },
   {
    "duration": 30,
    "start_time": "2022-03-01T07:37:39.196Z"
   },
   {
    "duration": 13,
    "start_time": "2022-03-01T07:37:43.272Z"
   },
   {
    "duration": 37,
    "start_time": "2022-03-01T07:37:43.286Z"
   },
   {
    "duration": 2,
    "start_time": "2022-03-01T07:37:43.325Z"
   },
   {
    "duration": 5,
    "start_time": "2022-03-01T07:37:43.329Z"
   },
   {
    "duration": 6,
    "start_time": "2022-03-01T07:37:43.336Z"
   },
   {
    "duration": 7,
    "start_time": "2022-03-01T07:37:43.344Z"
   },
   {
    "duration": 25,
    "start_time": "2022-03-01T07:37:43.352Z"
   },
   {
    "duration": 3,
    "start_time": "2022-03-01T07:37:43.379Z"
   },
   {
    "duration": 4,
    "start_time": "2022-03-01T07:37:43.384Z"
   },
   {
    "duration": 6,
    "start_time": "2022-03-01T07:37:43.390Z"
   },
   {
    "duration": 7,
    "start_time": "2022-03-01T07:37:43.398Z"
   },
   {
    "duration": 5,
    "start_time": "2022-03-01T07:37:43.407Z"
   },
   {
    "duration": 11,
    "start_time": "2022-03-01T07:37:43.413Z"
   },
   {
    "duration": 5,
    "start_time": "2022-03-01T07:37:43.426Z"
   },
   {
    "duration": 5,
    "start_time": "2022-03-01T07:37:43.433Z"
   },
   {
    "duration": 6,
    "start_time": "2022-03-01T07:37:43.440Z"
   },
   {
    "duration": 5,
    "start_time": "2022-03-01T07:37:43.448Z"
   },
   {
    "duration": 22,
    "start_time": "2022-03-01T07:37:43.455Z"
   },
   {
    "duration": 6,
    "start_time": "2022-03-01T07:37:43.479Z"
   },
   {
    "duration": 8,
    "start_time": "2022-03-01T07:37:43.487Z"
   },
   {
    "duration": 9,
    "start_time": "2022-03-01T07:37:43.497Z"
   },
   {
    "duration": 8,
    "start_time": "2022-03-01T07:37:43.508Z"
   },
   {
    "duration": 8,
    "start_time": "2022-03-01T07:37:43.520Z"
   },
   {
    "duration": 5,
    "start_time": "2022-03-01T07:37:43.530Z"
   },
   {
    "duration": 14,
    "start_time": "2022-03-01T07:37:43.537Z"
   },
   {
    "duration": 8,
    "start_time": "2022-03-01T07:37:43.553Z"
   },
   {
    "duration": 12,
    "start_time": "2022-03-01T07:37:43.563Z"
   },
   {
    "duration": 6,
    "start_time": "2022-03-01T07:37:43.577Z"
   },
   {
    "duration": 9,
    "start_time": "2022-03-01T07:37:43.585Z"
   },
   {
    "duration": 5,
    "start_time": "2022-03-01T07:37:43.596Z"
   },
   {
    "duration": 12,
    "start_time": "2022-03-01T07:39:03.454Z"
   },
   {
    "duration": 358,
    "start_time": "2022-03-01T07:39:12.876Z"
   },
   {
    "duration": 13,
    "start_time": "2022-03-01T07:39:22.332Z"
   },
   {
    "duration": 276,
    "start_time": "2022-03-01T07:39:42.855Z"
   },
   {
    "duration": 7,
    "start_time": "2022-03-01T07:39:49.872Z"
   },
   {
    "duration": 6631,
    "start_time": "2022-03-01T07:42:35.758Z"
   },
   {
    "duration": 7109,
    "start_time": "2022-03-01T07:42:48.698Z"
   },
   {
    "duration": 24208,
    "start_time": "2022-03-01T07:43:11.969Z"
   },
   {
    "duration": 4,
    "start_time": "2022-03-01T07:44:36.044Z"
   },
   {
    "duration": 3,
    "start_time": "2022-03-01T07:44:46.760Z"
   },
   {
    "duration": 4,
    "start_time": "2022-03-01T07:44:56.052Z"
   },
   {
    "duration": 283,
    "start_time": "2022-03-01T07:47:18.600Z"
   },
   {
    "duration": 6703,
    "start_time": "2022-03-01T07:47:55.812Z"
   },
   {
    "duration": 245,
    "start_time": "2022-03-01T07:48:48.000Z"
   },
   {
    "duration": 40751,
    "start_time": "2022-03-01T07:55:33.791Z"
   },
   {
    "duration": 7,
    "start_time": "2022-03-01T07:56:21.123Z"
   },
   {
    "duration": 8,
    "start_time": "2022-03-01T07:56:32.005Z"
   },
   {
    "duration": -2066,
    "start_time": "2022-03-01T07:58:03.008Z"
   },
   {
    "duration": -2068,
    "start_time": "2022-03-01T07:58:03.011Z"
   },
   {
    "duration": -2076,
    "start_time": "2022-03-01T07:58:03.022Z"
   },
   {
    "duration": -2077,
    "start_time": "2022-03-01T07:58:03.024Z"
   },
   {
    "duration": -2080,
    "start_time": "2022-03-01T07:58:03.028Z"
   },
   {
    "duration": -2081,
    "start_time": "2022-03-01T07:58:03.031Z"
   },
   {
    "duration": -2086,
    "start_time": "2022-03-01T07:58:03.037Z"
   },
   {
    "duration": -2088,
    "start_time": "2022-03-01T07:58:03.040Z"
   },
   {
    "duration": -2089,
    "start_time": "2022-03-01T07:58:03.042Z"
   },
   {
    "duration": -2090,
    "start_time": "2022-03-01T07:58:03.044Z"
   },
   {
    "duration": 2,
    "start_time": "2022-03-01T07:58:05.807Z"
   },
   {
    "duration": 135,
    "start_time": "2022-03-01T07:58:07.423Z"
   },
   {
    "duration": 7,
    "start_time": "2022-03-01T07:58:08.144Z"
   },
   {
    "duration": 27,
    "start_time": "2022-03-01T07:58:10.187Z"
   },
   {
    "duration": 4,
    "start_time": "2022-03-01T07:58:12.395Z"
   },
   {
    "duration": 14,
    "start_time": "2022-03-01T07:58:13.902Z"
   },
   {
    "duration": 4,
    "start_time": "2022-03-01T07:58:14.751Z"
   },
   {
    "duration": 26,
    "start_time": "2022-03-01T07:58:16.282Z"
   },
   {
    "duration": 28,
    "start_time": "2022-03-01T08:01:30.893Z"
   },
   {
    "duration": 48,
    "start_time": "2022-03-01T08:01:30.930Z"
   },
   {
    "duration": 28097,
    "start_time": "2022-03-01T08:22:32.934Z"
   },
   {
    "duration": 275,
    "start_time": "2022-03-01T08:23:34.856Z"
   },
   {
    "duration": 1227,
    "start_time": "2022-03-01T08:23:42.176Z"
   },
   {
    "duration": 1181,
    "start_time": "2022-03-01T08:23:46.198Z"
   },
   {
    "duration": 1224,
    "start_time": "2022-03-01T08:23:52.208Z"
   },
   {
    "duration": 1227,
    "start_time": "2022-03-01T08:23:59.508Z"
   },
   {
    "duration": 26,
    "start_time": "2022-03-01T08:24:05.708Z"
   },
   {
    "duration": 17,
    "start_time": "2022-03-01T08:29:18.355Z"
   },
   {
    "duration": 26,
    "start_time": "2022-03-01T08:29:20.570Z"
   },
   {
    "duration": 80,
    "start_time": "2022-03-01T08:29:49.686Z"
   },
   {
    "duration": 2,
    "start_time": "2022-03-01T08:29:56.006Z"
   },
   {
    "duration": 152,
    "start_time": "2022-03-01T08:29:56.963Z"
   },
   {
    "duration": 7,
    "start_time": "2022-03-01T08:29:57.777Z"
   },
   {
    "duration": 25,
    "start_time": "2022-03-01T08:29:58.755Z"
   },
   {
    "duration": 5,
    "start_time": "2022-03-01T08:30:01.358Z"
   },
   {
    "duration": 19,
    "start_time": "2022-03-01T08:30:02.602Z"
   },
   {
    "duration": 5,
    "start_time": "2022-03-01T08:30:03.469Z"
   },
   {
    "duration": 24,
    "start_time": "2022-03-01T08:30:04.674Z"
   },
   {
    "duration": 78,
    "start_time": "2022-03-01T08:30:42.302Z"
   },
   {
    "duration": 83,
    "start_time": "2022-03-01T08:30:59.594Z"
   },
   {
    "duration": 79,
    "start_time": "2022-03-01T08:31:03.970Z"
   },
   {
    "duration": 76,
    "start_time": "2022-03-01T08:31:08.365Z"
   },
   {
    "duration": 82,
    "start_time": "2022-03-01T08:31:10.893Z"
   },
   {
    "duration": 3,
    "start_time": "2022-03-01T08:31:16.728Z"
   },
   {
    "duration": 152,
    "start_time": "2022-03-01T08:31:16.733Z"
   },
   {
    "duration": 7,
    "start_time": "2022-03-01T08:31:16.888Z"
   },
   {
    "duration": 29,
    "start_time": "2022-03-01T08:31:16.897Z"
   },
   {
    "duration": 4,
    "start_time": "2022-03-01T08:31:16.928Z"
   },
   {
    "duration": 16,
    "start_time": "2022-03-01T08:31:16.934Z"
   },
   {
    "duration": 27,
    "start_time": "2022-03-01T08:31:16.952Z"
   },
   {
    "duration": 26,
    "start_time": "2022-03-01T08:31:16.982Z"
   },
   {
    "duration": 75,
    "start_time": "2022-03-01T08:31:22.025Z"
   },
   {
    "duration": 23,
    "start_time": "2022-03-01T08:31:38.621Z"
   },
   {
    "duration": 59,
    "start_time": "2022-03-01T08:32:13.196Z"
   },
   {
    "duration": 54,
    "start_time": "2022-03-01T08:32:18.811Z"
   },
   {
    "duration": 55,
    "start_time": "2022-03-01T08:32:28.435Z"
   },
   {
    "duration": 64,
    "start_time": "2022-03-01T08:32:45.933Z"
   },
   {
    "duration": 52,
    "start_time": "2022-03-01T08:32:52.387Z"
   },
   {
    "duration": 3,
    "start_time": "2022-03-01T08:33:12.133Z"
   },
   {
    "duration": 143,
    "start_time": "2022-03-01T08:33:12.138Z"
   },
   {
    "duration": 6,
    "start_time": "2022-03-01T08:33:12.283Z"
   },
   {
    "duration": 29,
    "start_time": "2022-03-01T08:33:12.291Z"
   },
   {
    "duration": 4,
    "start_time": "2022-03-01T08:33:12.322Z"
   },
   {
    "duration": 34,
    "start_time": "2022-03-01T08:33:12.328Z"
   },
   {
    "duration": 14,
    "start_time": "2022-03-01T08:33:12.364Z"
   },
   {
    "duration": 31,
    "start_time": "2022-03-01T08:33:12.380Z"
   },
   {
    "duration": 18,
    "start_time": "2022-03-01T08:33:12.413Z"
   },
   {
    "duration": 25,
    "start_time": "2022-03-01T08:33:12.432Z"
   },
   {
    "duration": 67,
    "start_time": "2022-03-01T08:33:16.102Z"
   },
   {
    "duration": 65,
    "start_time": "2022-03-01T08:33:18.151Z"
   },
   {
    "duration": 54,
    "start_time": "2022-03-01T08:33:20.391Z"
   },
   {
    "duration": 62,
    "start_time": "2022-03-01T08:34:30.762Z"
   },
   {
    "duration": 54,
    "start_time": "2022-03-01T08:34:32.666Z"
   },
   {
    "duration": 52,
    "start_time": "2022-03-01T08:34:37.551Z"
   },
   {
    "duration": 51,
    "start_time": "2022-03-01T08:34:39.926Z"
   },
   {
    "duration": 54,
    "start_time": "2022-03-01T08:35:47.058Z"
   },
   {
    "duration": 55,
    "start_time": "2022-03-01T08:35:49.999Z"
   },
   {
    "duration": 56,
    "start_time": "2022-03-01T08:35:53.444Z"
   },
   {
    "duration": 54,
    "start_time": "2022-03-01T08:35:55.808Z"
   },
   {
    "duration": 3,
    "start_time": "2022-03-01T08:36:37.482Z"
   },
   {
    "duration": 157,
    "start_time": "2022-03-01T08:36:37.487Z"
   },
   {
    "duration": 7,
    "start_time": "2022-03-01T08:36:37.646Z"
   },
   {
    "duration": 31,
    "start_time": "2022-03-01T08:36:37.655Z"
   },
   {
    "duration": 9,
    "start_time": "2022-03-01T08:36:37.687Z"
   },
   {
    "duration": 26,
    "start_time": "2022-03-01T08:36:37.697Z"
   },
   {
    "duration": 4,
    "start_time": "2022-03-01T08:36:37.725Z"
   },
   {
    "duration": 46,
    "start_time": "2022-03-01T08:36:37.732Z"
   },
   {
    "duration": 19,
    "start_time": "2022-03-01T08:36:37.780Z"
   },
   {
    "duration": 24,
    "start_time": "2022-03-01T08:36:37.801Z"
   },
   {
    "duration": 60,
    "start_time": "2022-03-01T08:36:40.980Z"
   },
   {
    "duration": 69,
    "start_time": "2022-03-01T08:36:42.860Z"
   },
   {
    "duration": 54,
    "start_time": "2022-03-01T08:36:43.868Z"
   },
   {
    "duration": 253,
    "start_time": "2022-03-01T08:37:33.580Z"
   },
   {
    "duration": 7,
    "start_time": "2022-03-01T08:37:40.424Z"
   },
   {
    "duration": 6,
    "start_time": "2022-03-01T08:37:54.327Z"
   },
   {
    "duration": 1563,
    "start_time": "2022-03-01T08:40:33.624Z"
   },
   {
    "duration": 446,
    "start_time": "2022-03-01T08:40:46.724Z"
   },
   {
    "duration": 290,
    "start_time": "2022-03-01T08:41:00.380Z"
   },
   {
    "duration": 8,
    "start_time": "2022-03-01T08:41:31.212Z"
   },
   {
    "duration": 282,
    "start_time": "2022-03-01T08:41:43.248Z"
   },
   {
    "duration": 2,
    "start_time": "2022-03-01T08:42:59.935Z"
   },
   {
    "duration": 6,
    "start_time": "2022-03-01T08:43:16.406Z"
   },
   {
    "duration": 3481,
    "start_time": "2022-03-01T08:43:42.246Z"
   },
   {
    "duration": 3681,
    "start_time": "2022-03-01T08:43:46.180Z"
   },
   {
    "duration": 5,
    "start_time": "2022-03-01T08:50:08.897Z"
   },
   {
    "duration": 5,
    "start_time": "2022-03-01T08:50:27.757Z"
   },
   {
    "duration": 7,
    "start_time": "2022-03-01T08:50:39.551Z"
   },
   {
    "duration": 305,
    "start_time": "2022-03-01T08:51:18.919Z"
   },
   {
    "duration": 272,
    "start_time": "2022-03-01T08:51:27.267Z"
   },
   {
    "duration": 386,
    "start_time": "2022-03-01T08:51:34.731Z"
   },
   {
    "duration": 815,
    "start_time": "2022-03-01T08:51:43.131Z"
   },
   {
    "duration": 50,
    "start_time": "2022-03-01T08:51:59.698Z"
   },
   {
    "duration": 287,
    "start_time": "2022-03-01T08:52:15.562Z"
   },
   {
    "duration": 52,
    "start_time": "2022-03-01T08:52:34.099Z"
   },
   {
    "duration": 291,
    "start_time": "2022-03-01T08:56:43.095Z"
   },
   {
    "duration": 3,
    "start_time": "2022-03-01T08:56:48.365Z"
   },
   {
    "duration": 511,
    "start_time": "2022-03-01T08:56:50.267Z"
   },
   {
    "duration": 2,
    "start_time": "2022-03-01T08:57:15.785Z"
   },
   {
    "duration": 141,
    "start_time": "2022-03-01T08:57:16.224Z"
   },
   {
    "duration": 7,
    "start_time": "2022-03-01T08:57:16.597Z"
   },
   {
    "duration": 24,
    "start_time": "2022-03-01T08:57:16.949Z"
   },
   {
    "duration": 4,
    "start_time": "2022-03-01T08:57:18.177Z"
   },
   {
    "duration": 22,
    "start_time": "2022-03-01T08:57:18.605Z"
   },
   {
    "duration": 4,
    "start_time": "2022-03-01T08:57:19.077Z"
   },
   {
    "duration": 23,
    "start_time": "2022-03-01T08:57:19.701Z"
   },
   {
    "duration": 18,
    "start_time": "2022-03-01T08:57:21.809Z"
   },
   {
    "duration": 24,
    "start_time": "2022-03-01T08:57:22.777Z"
   },
   {
    "duration": 59,
    "start_time": "2022-03-01T08:57:23.905Z"
   },
   {
    "duration": 69,
    "start_time": "2022-03-01T08:57:24.988Z"
   },
   {
    "duration": 56,
    "start_time": "2022-03-01T08:57:25.733Z"
   },
   {
    "duration": 52,
    "start_time": "2022-03-01T08:57:27.469Z"
   },
   {
    "duration": 3,
    "start_time": "2022-03-01T08:57:29.441Z"
   },
   {
    "duration": 649,
    "start_time": "2022-03-01T08:57:30.669Z"
   },
   {
    "duration": 3,
    "start_time": "2022-03-01T08:59:43.288Z"
   },
   {
    "duration": 541,
    "start_time": "2022-03-01T08:59:44.691Z"
   },
   {
    "duration": 3,
    "start_time": "2022-03-01T09:02:11.545Z"
   },
   {
    "duration": 3,
    "start_time": "2022-03-01T09:05:11.814Z"
   },
   {
    "duration": 554,
    "start_time": "2022-03-01T09:05:14.247Z"
   },
   {
    "duration": 3,
    "start_time": "2022-03-01T09:08:19.753Z"
   },
   {
    "duration": 609,
    "start_time": "2022-03-01T09:08:21.580Z"
   },
   {
    "duration": 17,
    "start_time": "2022-03-01T09:08:46.861Z"
   },
   {
    "duration": 51,
    "start_time": "2022-03-01T09:09:10.273Z"
   },
   {
    "duration": 10,
    "start_time": "2022-03-01T09:20:44.006Z"
   },
   {
    "duration": 15,
    "start_time": "2022-03-01T09:21:01.093Z"
   },
   {
    "duration": 387,
    "start_time": "2022-03-01T09:21:17.661Z"
   },
   {
    "duration": 299,
    "start_time": "2022-03-01T09:21:23.712Z"
   },
   {
    "duration": 3725,
    "start_time": "2022-03-01T09:22:32.755Z"
   },
   {
    "duration": 3474,
    "start_time": "2022-03-02T15:48:51.387Z"
   },
   {
    "duration": 294,
    "start_time": "2022-03-02T17:55:02.632Z"
   },
   {
    "duration": 259,
    "start_time": "2022-03-02T17:55:24.507Z"
   },
   {
    "duration": 272,
    "start_time": "2022-03-02T17:56:06.673Z"
   },
   {
    "duration": 277,
    "start_time": "2022-03-02T17:56:19.982Z"
   },
   {
    "duration": 271,
    "start_time": "2022-03-02T17:56:41.697Z"
   },
   {
    "duration": 45,
    "start_time": "2022-03-02T17:59:16.449Z"
   },
   {
    "duration": 16,
    "start_time": "2022-03-02T18:35:50.549Z"
   },
   {
    "duration": 292,
    "start_time": "2022-03-02T18:36:23.587Z"
   },
   {
    "duration": 39,
    "start_time": "2022-03-02T18:36:27.677Z"
   },
   {
    "duration": 38,
    "start_time": "2022-03-02T18:36:42.506Z"
   },
   {
    "duration": 36,
    "start_time": "2022-03-02T18:37:23.564Z"
   },
   {
    "duration": 51,
    "start_time": "2022-03-02T18:37:38.247Z"
   },
   {
    "duration": 3,
    "start_time": "2022-03-02T18:37:55.549Z"
   },
   {
    "duration": 135,
    "start_time": "2022-03-02T18:37:56.189Z"
   },
   {
    "duration": 8,
    "start_time": "2022-03-02T18:37:56.884Z"
   },
   {
    "duration": 24,
    "start_time": "2022-03-02T18:37:57.635Z"
   },
   {
    "duration": 4,
    "start_time": "2022-03-02T18:37:59.631Z"
   },
   {
    "duration": 23,
    "start_time": "2022-03-02T18:38:00.543Z"
   },
   {
    "duration": 4,
    "start_time": "2022-03-02T18:38:01.235Z"
   },
   {
    "duration": 23,
    "start_time": "2022-03-02T18:38:02.150Z"
   },
   {
    "duration": 17,
    "start_time": "2022-03-02T18:38:03.538Z"
   },
   {
    "duration": 24,
    "start_time": "2022-03-02T18:38:04.233Z"
   },
   {
    "duration": 69,
    "start_time": "2022-03-02T18:38:05.221Z"
   },
   {
    "duration": 64,
    "start_time": "2022-03-02T18:38:06.227Z"
   },
   {
    "duration": 49,
    "start_time": "2022-03-02T18:38:07.110Z"
   },
   {
    "duration": 63,
    "start_time": "2022-03-02T18:38:08.708Z"
   },
   {
    "duration": 4,
    "start_time": "2022-03-02T18:38:10.422Z"
   },
   {
    "duration": 18,
    "start_time": "2022-03-02T18:38:14.498Z"
   },
   {
    "duration": 57,
    "start_time": "2022-03-02T18:38:18.376Z"
   },
   {
    "duration": 51,
    "start_time": "2022-03-02T18:38:22.747Z"
   },
   {
    "duration": 1474,
    "start_time": "2022-03-02T18:38:46.423Z"
   },
   {
    "duration": 315,
    "start_time": "2022-03-02T18:39:09.023Z"
   },
   {
    "duration": 320,
    "start_time": "2022-03-02T18:39:32.676Z"
   },
   {
    "duration": 54,
    "start_time": "2022-03-02T18:39:41.762Z"
   },
   {
    "duration": 42,
    "start_time": "2022-03-02T18:39:56.246Z"
   },
   {
    "duration": 90,
    "start_time": "2022-03-02T18:41:10.814Z"
   },
   {
    "duration": 130,
    "start_time": "2022-03-02T18:41:27.995Z"
   },
   {
    "duration": 87,
    "start_time": "2022-03-02T18:41:38.926Z"
   },
   {
    "duration": 94,
    "start_time": "2022-03-02T18:41:46.920Z"
   },
   {
    "duration": 90,
    "start_time": "2022-03-02T18:42:07.979Z"
   },
   {
    "duration": 91,
    "start_time": "2022-03-02T18:42:19.336Z"
   },
   {
    "duration": 41,
    "start_time": "2022-03-02T18:42:27.867Z"
   },
   {
    "duration": 42,
    "start_time": "2022-03-02T18:43:02.493Z"
   },
   {
    "duration": 41,
    "start_time": "2022-03-02T18:43:08.331Z"
   },
   {
    "duration": 86,
    "start_time": "2022-03-02T18:43:16.658Z"
   },
   {
    "duration": 93,
    "start_time": "2022-03-02T18:43:19.994Z"
   },
   {
    "duration": 44,
    "start_time": "2022-03-02T18:48:22.101Z"
   },
   {
    "duration": 100,
    "start_time": "2022-03-02T18:55:17.910Z"
   },
   {
    "duration": 28,
    "start_time": "2022-03-02T18:55:42.662Z"
   },
   {
    "duration": 130,
    "start_time": "2022-03-02T18:56:42.297Z"
   },
   {
    "duration": 67,
    "start_time": "2022-03-02T18:56:48.936Z"
   },
   {
    "duration": 92,
    "start_time": "2022-03-02T19:09:44.790Z"
   },
   {
    "duration": 84,
    "start_time": "2022-03-02T19:09:59.601Z"
   },
   {
    "duration": 117,
    "start_time": "2022-03-02T19:10:31.218Z"
   },
   {
    "duration": 81,
    "start_time": "2022-03-02T19:10:37.133Z"
   },
   {
    "duration": 56,
    "start_time": "2022-03-02T19:10:55.905Z"
   },
   {
    "duration": 55,
    "start_time": "2022-03-02T19:12:40.292Z"
   },
   {
    "duration": 270,
    "start_time": "2022-03-02T19:13:40.742Z"
   },
   {
    "duration": 2,
    "start_time": "2022-03-02T19:15:38.489Z"
   },
   {
    "duration": 139,
    "start_time": "2022-03-02T19:15:39.120Z"
   },
   {
    "duration": 6,
    "start_time": "2022-03-02T19:15:39.760Z"
   },
   {
    "duration": 25,
    "start_time": "2022-03-02T19:15:40.419Z"
   },
   {
    "duration": 4,
    "start_time": "2022-03-02T19:15:42.004Z"
   },
   {
    "duration": 22,
    "start_time": "2022-03-02T19:15:42.731Z"
   },
   {
    "duration": 5,
    "start_time": "2022-03-02T19:15:43.359Z"
   },
   {
    "duration": 23,
    "start_time": "2022-03-02T19:15:43.976Z"
   },
   {
    "duration": 17,
    "start_time": "2022-03-02T19:15:44.904Z"
   },
   {
    "duration": 25,
    "start_time": "2022-03-02T19:15:45.452Z"
   },
   {
    "duration": 55,
    "start_time": "2022-03-02T19:15:46.491Z"
   },
   {
    "duration": 62,
    "start_time": "2022-03-02T19:15:47.236Z"
   },
   {
    "duration": 50,
    "start_time": "2022-03-02T19:15:47.928Z"
   },
   {
    "duration": 51,
    "start_time": "2022-03-02T19:15:49.451Z"
   },
   {
    "duration": 3,
    "start_time": "2022-03-02T19:15:50.584Z"
   },
   {
    "duration": 16,
    "start_time": "2022-03-02T19:15:51.708Z"
   },
   {
    "duration": 49,
    "start_time": "2022-03-02T19:15:53.180Z"
   },
   {
    "duration": 22,
    "start_time": "2022-03-02T19:15:57.069Z"
   },
   {
    "duration": 268,
    "start_time": "2022-03-02T19:15:58.796Z"
   },
   {
    "duration": 324,
    "start_time": "2022-03-02T19:16:25.084Z"
   },
   {
    "duration": 23,
    "start_time": "2022-03-02T19:17:00.603Z"
   },
   {
    "duration": 274,
    "start_time": "2022-03-02T19:17:29.759Z"
   },
   {
    "duration": 47,
    "start_time": "2022-03-02T19:17:45.723Z"
   },
   {
    "duration": 36,
    "start_time": "2022-03-02T19:17:59.830Z"
   },
   {
    "duration": 102,
    "start_time": "2022-03-02T19:46:06.834Z"
   },
   {
    "duration": 94,
    "start_time": "2022-03-02T19:46:56.909Z"
   },
   {
    "duration": 515,
    "start_time": "2022-03-02T19:47:19.526Z"
   },
   {
    "duration": 485,
    "start_time": "2022-03-02T19:53:20.680Z"
   },
   {
    "duration": 103,
    "start_time": "2022-03-02T19:59:01.051Z"
   },
   {
    "duration": 103,
    "start_time": "2022-03-02T20:00:08.187Z"
   },
   {
    "duration": 289,
    "start_time": "2022-03-02T20:00:22.930Z"
   },
   {
    "duration": 273,
    "start_time": "2022-03-02T20:00:45.043Z"
   },
   {
    "duration": 9,
    "start_time": "2022-03-02T20:01:05.130Z"
   },
   {
    "duration": 11,
    "start_time": "2022-03-02T20:02:13.295Z"
   },
   {
    "duration": 10,
    "start_time": "2022-03-02T21:51:24.795Z"
   },
   {
    "duration": 5039,
    "start_time": "2022-03-02T21:51:36.399Z"
   },
   {
    "duration": 438,
    "start_time": "2022-03-02T21:53:32.969Z"
   },
   {
    "duration": 2026,
    "start_time": "2022-03-02T21:53:52.465Z"
   },
   {
    "duration": 428,
    "start_time": "2022-03-02T21:54:07.253Z"
   },
   {
    "duration": 13,
    "start_time": "2022-03-02T21:55:06.076Z"
   },
   {
    "duration": 11,
    "start_time": "2022-03-02T21:56:22.256Z"
   },
   {
    "duration": 120,
    "start_time": "2022-03-02T21:56:47.970Z"
   },
   {
    "duration": 16,
    "start_time": "2022-03-02T21:57:03.174Z"
   },
   {
    "duration": 432,
    "start_time": "2022-03-02T21:58:05.825Z"
   },
   {
    "duration": 440,
    "start_time": "2022-03-02T21:58:34.489Z"
   },
   {
    "duration": 10,
    "start_time": "2022-03-02T21:58:43.469Z"
   },
   {
    "duration": 9,
    "start_time": "2022-03-02T21:59:31.572Z"
   },
   {
    "duration": 19,
    "start_time": "2022-03-02T21:59:37.192Z"
   },
   {
    "duration": 12,
    "start_time": "2022-03-02T22:01:13.497Z"
   },
   {
    "duration": 3575,
    "start_time": "2022-03-02T22:02:47.129Z"
   },
   {
    "duration": 423,
    "start_time": "2022-03-02T22:03:15.093Z"
   },
   {
    "duration": 90,
    "start_time": "2022-03-02T22:07:25.825Z"
   },
   {
    "duration": 1924,
    "start_time": "2022-03-02T22:07:34.585Z"
   },
   {
    "duration": 1984,
    "start_time": "2022-03-02T22:07:51.448Z"
   },
   {
    "duration": 327,
    "start_time": "2022-03-02T22:12:52.671Z"
   },
   {
    "duration": 12,
    "start_time": "2022-03-02T22:12:57.604Z"
   },
   {
    "duration": 17,
    "start_time": "2022-03-02T22:13:25.495Z"
   },
   {
    "duration": 15,
    "start_time": "2022-03-02T22:13:52.839Z"
   },
   {
    "duration": 5223,
    "start_time": "2022-03-02T22:14:16.203Z"
   },
   {
    "duration": 5179,
    "start_time": "2022-03-02T22:15:25.450Z"
   },
   {
    "duration": 25,
    "start_time": "2022-03-02T22:17:39.316Z"
   },
   {
    "duration": 16,
    "start_time": "2022-03-02T22:22:27.919Z"
   },
   {
    "duration": 4,
    "start_time": "2022-03-02T22:23:29.938Z"
   },
   {
    "duration": 17,
    "start_time": "2022-03-02T22:24:03.278Z"
   },
   {
    "duration": 15,
    "start_time": "2022-03-02T22:24:36.758Z"
   },
   {
    "duration": 16,
    "start_time": "2022-03-02T22:25:35.264Z"
   },
   {
    "duration": 16,
    "start_time": "2022-03-02T22:25:36.061Z"
   },
   {
    "duration": 14,
    "start_time": "2022-03-02T22:25:36.613Z"
   },
   {
    "duration": 17,
    "start_time": "2022-03-02T22:25:37.152Z"
   },
   {
    "duration": 15,
    "start_time": "2022-03-02T22:25:37.232Z"
   },
   {
    "duration": 6,
    "start_time": "2022-03-02T22:30:51.751Z"
   },
   {
    "duration": 275,
    "start_time": "2022-03-02T22:32:59.608Z"
   },
   {
    "duration": 297,
    "start_time": "2022-03-02T22:33:31.733Z"
   },
   {
    "duration": 9,
    "start_time": "2022-03-02T22:33:44.687Z"
   },
   {
    "duration": 257,
    "start_time": "2022-03-02T22:33:56.441Z"
   },
   {
    "duration": 9,
    "start_time": "2022-03-02T22:34:05.057Z"
   },
   {
    "duration": 7,
    "start_time": "2022-03-02T22:34:14.541Z"
   },
   {
    "duration": 261,
    "start_time": "2022-03-02T22:34:31.400Z"
   },
   {
    "duration": 266,
    "start_time": "2022-03-02T22:34:38.491Z"
   },
   {
    "duration": 281,
    "start_time": "2022-03-02T22:34:41.661Z"
   },
   {
    "duration": 9,
    "start_time": "2022-03-02T22:37:15.620Z"
   },
   {
    "duration": 87,
    "start_time": "2022-03-02T22:37:36.893Z"
   },
   {
    "duration": 264,
    "start_time": "2022-03-02T22:38:48.473Z"
   },
   {
    "duration": 271,
    "start_time": "2022-03-02T22:38:56.913Z"
   },
   {
    "duration": 305,
    "start_time": "2022-03-02T22:39:43.632Z"
   },
   {
    "duration": 272,
    "start_time": "2022-03-02T22:40:05.863Z"
   },
   {
    "duration": 734,
    "start_time": "2022-03-02T22:40:21.631Z"
   },
   {
    "duration": 16,
    "start_time": "2022-03-02T22:41:19.597Z"
   },
   {
    "duration": 275,
    "start_time": "2022-03-02T22:41:22.142Z"
   },
   {
    "duration": 87,
    "start_time": "2022-03-02T22:41:37.870Z"
   },
   {
    "duration": 85,
    "start_time": "2022-03-02T22:41:47.077Z"
   },
   {
    "duration": 114,
    "start_time": "2022-03-02T22:41:53.945Z"
   },
   {
    "duration": 277,
    "start_time": "2022-03-02T22:45:38.938Z"
   },
   {
    "duration": 9,
    "start_time": "2022-03-02T23:03:07.652Z"
   },
   {
    "duration": 742,
    "start_time": "2022-03-02T23:07:20.694Z"
   },
   {
    "duration": 269,
    "start_time": "2022-03-02T23:07:34.327Z"
   },
   {
    "duration": 273,
    "start_time": "2022-03-02T23:07:50.611Z"
   },
   {
    "duration": 97,
    "start_time": "2022-03-02T23:07:54.891Z"
   },
   {
    "duration": 6,
    "start_time": "2022-03-02T23:09:39.558Z"
   },
   {
    "duration": 307,
    "start_time": "2022-03-02T23:09:59.955Z"
   },
   {
    "duration": 300,
    "start_time": "2022-03-02T23:21:42.335Z"
   },
   {
    "duration": 97,
    "start_time": "2022-03-02T23:31:02.283Z"
   },
   {
    "duration": 278,
    "start_time": "2022-03-02T23:31:15.119Z"
   },
   {
    "duration": 309,
    "start_time": "2022-03-02T23:31:23.809Z"
   },
   {
    "duration": 9,
    "start_time": "2022-03-02T23:31:49.255Z"
   },
   {
    "duration": 9,
    "start_time": "2022-03-02T23:57:36.987Z"
   },
   {
    "duration": 90,
    "start_time": "2022-03-03T00:45:53.470Z"
   },
   {
    "duration": 12,
    "start_time": "2022-03-03T00:46:02.084Z"
   },
   {
    "duration": 12,
    "start_time": "2022-03-03T00:46:05.201Z"
   },
   {
    "duration": 13,
    "start_time": "2022-03-03T00:46:07.069Z"
   },
   {
    "duration": 22,
    "start_time": "2022-03-03T00:46:23.005Z"
   },
   {
    "duration": 13,
    "start_time": "2022-03-03T00:46:28.948Z"
   },
   {
    "duration": 9,
    "start_time": "2022-03-03T00:47:06.644Z"
   },
   {
    "duration": 94,
    "start_time": "2022-03-03T02:37:56.158Z"
   },
   {
    "duration": 4,
    "start_time": "2022-03-03T02:38:11.284Z"
   },
   {
    "duration": 4,
    "start_time": "2022-03-03T02:38:20.324Z"
   },
   {
    "duration": 321,
    "start_time": "2022-03-03T02:38:31.164Z"
   },
   {
    "duration": 256,
    "start_time": "2022-03-03T02:38:57.433Z"
   },
   {
    "duration": 1442,
    "start_time": "2022-03-03T02:40:32.244Z"
   },
   {
    "duration": 262,
    "start_time": "2022-03-03T02:41:36.906Z"
   },
   {
    "duration": 5,
    "start_time": "2022-03-03T02:42:45.432Z"
   },
   {
    "duration": 4,
    "start_time": "2022-03-03T02:42:51.084Z"
   },
   {
    "duration": 261,
    "start_time": "2022-03-03T02:43:54.600Z"
   },
   {
    "duration": 467,
    "start_time": "2022-03-03T02:44:40.174Z"
   },
   {
    "duration": 446,
    "start_time": "2022-03-03T02:46:31.737Z"
   },
   {
    "duration": 416,
    "start_time": "2022-03-03T02:55:13.637Z"
   },
   {
    "duration": 5,
    "start_time": "2022-03-03T03:02:15.606Z"
   },
   {
    "duration": 4,
    "start_time": "2022-03-03T03:02:36.503Z"
   },
   {
    "duration": 16,
    "start_time": "2022-03-03T03:05:31.472Z"
   },
   {
    "duration": 21,
    "start_time": "2022-03-03T03:05:49.354Z"
   },
   {
    "duration": 4,
    "start_time": "2022-03-03T03:08:32.888Z"
   },
   {
    "duration": 21,
    "start_time": "2022-03-03T03:08:34.673Z"
   },
   {
    "duration": 20,
    "start_time": "2022-03-03T03:09:11.660Z"
   },
   {
    "duration": 4,
    "start_time": "2022-03-03T03:09:13.468Z"
   },
   {
    "duration": 22,
    "start_time": "2022-03-03T03:09:15.100Z"
   },
   {
    "duration": 4,
    "start_time": "2022-03-03T03:10:22.085Z"
   },
   {
    "duration": -4258,
    "start_time": "2022-03-03T03:10:35.284Z"
   },
   {
    "duration": 4,
    "start_time": "2022-03-03T03:10:31.214Z"
   },
   {
    "duration": 6695,
    "start_time": "2022-03-03T03:10:32.814Z"
   },
   {
    "duration": 4,
    "start_time": "2022-03-03T03:10:43.386Z"
   },
   {
    "duration": 6704,
    "start_time": "2022-03-03T03:10:44.554Z"
   },
   {
    "duration": 4,
    "start_time": "2022-03-03T03:11:05.327Z"
   },
   {
    "duration": 6763,
    "start_time": "2022-03-03T03:11:06.358Z"
   },
   {
    "duration": 5,
    "start_time": "2022-03-03T03:12:57.010Z"
   },
   {
    "duration": 21,
    "start_time": "2022-03-03T03:12:58.281Z"
   },
   {
    "duration": 4,
    "start_time": "2022-03-03T12:58:52.604Z"
   },
   {
    "duration": 22,
    "start_time": "2022-03-03T12:58:54.020Z"
   },
   {
    "duration": 4,
    "start_time": "2022-03-03T12:59:06.496Z"
   },
   {
    "duration": 23,
    "start_time": "2022-03-03T12:59:08.011Z"
   },
   {
    "duration": 15,
    "start_time": "2022-03-03T12:59:46.402Z"
   },
   {
    "duration": 22,
    "start_time": "2022-03-03T13:00:11.950Z"
   },
   {
    "duration": 16,
    "start_time": "2022-03-03T13:00:23.231Z"
   },
   {
    "duration": 25,
    "start_time": "2022-03-03T13:03:28.260Z"
   },
   {
    "duration": 24,
    "start_time": "2022-03-03T13:03:30.567Z"
   },
   {
    "duration": 6,
    "start_time": "2022-03-03T13:03:57.684Z"
   },
   {
    "duration": 2,
    "start_time": "2022-03-03T13:04:54.987Z"
   },
   {
    "duration": 3,
    "start_time": "2022-03-03T13:04:57.993Z"
   },
   {
    "duration": 6,
    "start_time": "2022-03-03T13:05:00.475Z"
   },
   {
    "duration": 7,
    "start_time": "2022-03-03T13:05:08.103Z"
   },
   {
    "duration": 5,
    "start_time": "2022-03-03T13:05:26.074Z"
   },
   {
    "duration": 2,
    "start_time": "2022-03-03T13:05:37.226Z"
   },
   {
    "duration": 143,
    "start_time": "2022-03-03T13:05:37.822Z"
   },
   {
    "duration": 6,
    "start_time": "2022-03-03T13:05:38.485Z"
   },
   {
    "duration": 24,
    "start_time": "2022-03-03T13:05:39.136Z"
   },
   {
    "duration": 4,
    "start_time": "2022-03-03T13:05:40.574Z"
   },
   {
    "duration": 24,
    "start_time": "2022-03-03T13:05:41.025Z"
   },
   {
    "duration": 4,
    "start_time": "2022-03-03T13:05:41.405Z"
   },
   {
    "duration": 25,
    "start_time": "2022-03-03T13:05:41.825Z"
   },
   {
    "duration": 17,
    "start_time": "2022-03-03T13:05:42.569Z"
   },
   {
    "duration": 25,
    "start_time": "2022-03-03T13:05:43.113Z"
   },
   {
    "duration": 58,
    "start_time": "2022-03-03T13:05:43.945Z"
   },
   {
    "duration": 64,
    "start_time": "2022-03-03T13:05:44.798Z"
   },
   {
    "duration": 52,
    "start_time": "2022-03-03T13:05:45.549Z"
   },
   {
    "duration": 51,
    "start_time": "2022-03-03T13:05:47.037Z"
   },
   {
    "duration": 3,
    "start_time": "2022-03-03T13:05:48.353Z"
   },
   {
    "duration": 19,
    "start_time": "2022-03-03T13:05:49.663Z"
   },
   {
    "duration": 50,
    "start_time": "2022-03-03T13:05:50.666Z"
   },
   {
    "duration": 25,
    "start_time": "2022-03-03T13:05:53.157Z"
   },
   {
    "duration": 36,
    "start_time": "2022-03-03T13:05:54.437Z"
   },
   {
    "duration": 4,
    "start_time": "2022-03-03T13:05:56.114Z"
   },
   {
    "duration": 18,
    "start_time": "2022-03-03T13:05:56.801Z"
   },
   {
    "duration": 15,
    "start_time": "2022-03-03T13:05:57.146Z"
   },
   {
    "duration": 15,
    "start_time": "2022-03-03T13:05:57.545Z"
   },
   {
    "duration": 14,
    "start_time": "2022-03-03T13:05:57.968Z"
   },
   {
    "duration": 17,
    "start_time": "2022-03-03T13:05:58.422Z"
   },
   {
    "duration": 15,
    "start_time": "2022-03-03T13:05:58.865Z"
   },
   {
    "duration": 10,
    "start_time": "2022-03-03T13:05:59.956Z"
   },
   {
    "duration": 12,
    "start_time": "2022-03-03T13:06:03.013Z"
   },
   {
    "duration": 11,
    "start_time": "2022-03-03T13:06:03.440Z"
   },
   {
    "duration": 4,
    "start_time": "2022-03-03T13:06:05.149Z"
   },
   {
    "duration": 21,
    "start_time": "2022-03-03T13:06:06.626Z"
   },
   {
    "duration": 15,
    "start_time": "2022-03-03T13:06:07.481Z"
   },
   {
    "duration": 21,
    "start_time": "2022-03-03T13:06:08.157Z"
   },
   {
    "duration": 16,
    "start_time": "2022-03-03T13:06:08.875Z"
   },
   {
    "duration": 25,
    "start_time": "2022-03-03T13:06:11.517Z"
   },
   {
    "duration": 6,
    "start_time": "2022-03-03T13:06:13.369Z"
   },
   {
    "duration": 18,
    "start_time": "2022-03-03T13:06:16.012Z"
   },
   {
    "duration": 6,
    "start_time": "2022-03-03T13:06:16.936Z"
   },
   {
    "duration": 5,
    "start_time": "2022-03-08T22:17:36.413Z"
   },
   {
    "duration": 238,
    "start_time": "2022-03-08T22:17:40.689Z"
   },
   {
    "duration": 556,
    "start_time": "2022-03-08T22:18:08.804Z"
   },
   {
    "duration": 138,
    "start_time": "2022-03-08T22:18:10.084Z"
   },
   {
    "duration": 8,
    "start_time": "2022-03-08T22:18:11.171Z"
   },
   {
    "duration": 25,
    "start_time": "2022-03-08T22:18:12.303Z"
   },
   {
    "duration": 11,
    "start_time": "2022-03-08T22:18:15.476Z"
   },
   {
    "duration": 24,
    "start_time": "2022-03-08T22:18:17.004Z"
   },
   {
    "duration": 4,
    "start_time": "2022-03-08T22:18:18.099Z"
   },
   {
    "duration": 24,
    "start_time": "2022-03-08T22:18:19.279Z"
   },
   {
    "duration": 18,
    "start_time": "2022-03-08T22:18:20.986Z"
   },
   {
    "duration": 24,
    "start_time": "2022-03-08T22:18:22.423Z"
   },
   {
    "duration": 58,
    "start_time": "2022-03-08T22:18:23.846Z"
   },
   {
    "duration": 72,
    "start_time": "2022-03-08T22:18:25.111Z"
   },
   {
    "duration": 53,
    "start_time": "2022-03-08T22:18:26.291Z"
   },
   {
    "duration": 52,
    "start_time": "2022-03-08T22:18:28.119Z"
   },
   {
    "duration": 231,
    "start_time": "2022-03-08T22:21:28.316Z"
   },
   {
    "duration": 2,
    "start_time": "2022-03-08T22:21:42.511Z"
   },
   {
    "duration": 136,
    "start_time": "2022-03-08T22:21:43.525Z"
   },
   {
    "duration": 6,
    "start_time": "2022-03-08T22:21:44.552Z"
   },
   {
    "duration": 24,
    "start_time": "2022-03-08T22:21:45.584Z"
   },
   {
    "duration": 4,
    "start_time": "2022-03-08T22:21:47.866Z"
   },
   {
    "duration": 12,
    "start_time": "2022-03-08T22:21:48.824Z"
   },
   {
    "duration": 4,
    "start_time": "2022-03-08T22:21:49.728Z"
   },
   {
    "duration": 22,
    "start_time": "2022-03-08T22:21:50.416Z"
   },
   {
    "duration": 17,
    "start_time": "2022-03-08T22:21:51.813Z"
   },
   {
    "duration": 23,
    "start_time": "2022-03-08T22:21:52.904Z"
   },
   {
    "duration": 56,
    "start_time": "2022-03-08T22:21:54.525Z"
   },
   {
    "duration": 63,
    "start_time": "2022-03-08T22:21:55.592Z"
   },
   {
    "duration": 52,
    "start_time": "2022-03-08T22:21:56.684Z"
   },
   {
    "duration": 48,
    "start_time": "2022-03-08T22:21:58.556Z"
   },
   {
    "duration": 3,
    "start_time": "2022-03-08T22:22:00.042Z"
   },
   {
    "duration": 7,
    "start_time": "2022-03-08T22:22:03.112Z"
   },
   {
    "duration": 54,
    "start_time": "2022-03-08T22:22:08.500Z"
   },
   {
    "duration": 22,
    "start_time": "2022-03-08T22:22:14.845Z"
   },
   {
    "duration": 40,
    "start_time": "2022-03-08T22:22:17.932Z"
   },
   {
    "duration": 29,
    "start_time": "2022-03-08T22:31:12.900Z"
   },
   {
    "duration": 15,
    "start_time": "2022-03-08T22:32:05.563Z"
   },
   {
    "duration": 243,
    "start_time": "2022-03-08T22:32:33.637Z"
   },
   {
    "duration": 13,
    "start_time": "2022-03-08T22:33:10.729Z"
   },
   {
    "duration": 58,
    "start_time": "2022-03-08T22:34:13.217Z"
   },
   {
    "duration": 189,
    "start_time": "2022-03-08T22:34:18.492Z"
   },
   {
    "duration": 11,
    "start_time": "2022-03-08T22:34:22.577Z"
   },
   {
    "duration": 192,
    "start_time": "2022-03-08T22:34:45.180Z"
   },
   {
    "duration": 14,
    "start_time": "2022-03-08T22:35:32.664Z"
   },
   {
    "duration": 14,
    "start_time": "2022-03-08T22:35:44.473Z"
   },
   {
    "duration": 3,
    "start_time": "2022-03-08T22:38:00.459Z"
   },
   {
    "duration": 16,
    "start_time": "2022-03-08T22:38:02.285Z"
   },
   {
    "duration": 15,
    "start_time": "2022-03-08T22:38:02.694Z"
   },
   {
    "duration": 15,
    "start_time": "2022-03-08T22:38:03.053Z"
   },
   {
    "duration": 15,
    "start_time": "2022-03-08T22:38:03.501Z"
   },
   {
    "duration": 17,
    "start_time": "2022-03-08T22:38:03.933Z"
   },
   {
    "duration": 16,
    "start_time": "2022-03-08T22:38:04.525Z"
   },
   {
    "duration": 9,
    "start_time": "2022-03-08T22:38:05.794Z"
   },
   {
    "duration": 11,
    "start_time": "2022-03-08T22:38:08.152Z"
   },
   {
    "duration": 9,
    "start_time": "2022-03-08T22:38:08.581Z"
   },
   {
    "duration": 3,
    "start_time": "2022-03-08T22:38:09.921Z"
   },
   {
    "duration": 420,
    "start_time": "2022-03-08T22:38:28.241Z"
   },
   {
    "duration": 4,
    "start_time": "2022-03-08T22:39:01.501Z"
   },
   {
    "duration": 440,
    "start_time": "2022-03-08T22:39:04.537Z"
   },
   {
    "duration": 4,
    "start_time": "2022-03-08T22:39:21.585Z"
   },
   {
    "duration": 17,
    "start_time": "2022-03-08T22:39:22.977Z"
   },
   {
    "duration": 13,
    "start_time": "2022-03-08T22:40:04.056Z"
   },
   {
    "duration": 19,
    "start_time": "2022-03-08T22:40:05.811Z"
   },
   {
    "duration": 14,
    "start_time": "2022-03-08T22:40:07.332Z"
   },
   {
    "duration": 13,
    "start_time": "2022-03-08T22:41:38.067Z"
   },
   {
    "duration": 24,
    "start_time": "2022-03-08T22:41:41.387Z"
   },
   {
    "duration": 6,
    "start_time": "2022-03-08T22:41:44.394Z"
   },
   {
    "duration": 204,
    "start_time": "2022-03-08T22:42:04.139Z"
   },
   {
    "duration": 9,
    "start_time": "2022-03-08T22:42:22.946Z"
   },
   {
    "duration": 5,
    "start_time": "2022-03-08T22:42:25.802Z"
   },
   {
    "duration": 18,
    "start_time": "2022-03-08T22:44:08.015Z"
   },
   {
    "duration": 12,
    "start_time": "2022-03-08T22:44:08.436Z"
   },
   {
    "duration": 17,
    "start_time": "2022-03-08T22:44:08.818Z"
   },
   {
    "duration": 12,
    "start_time": "2022-03-08T22:44:09.361Z"
   },
   {
    "duration": 9,
    "start_time": "2022-03-08T22:44:58.516Z"
   },
   {
    "duration": 9,
    "start_time": "2022-03-08T22:45:18.689Z"
   },
   {
    "duration": 4,
    "start_time": "2022-03-08T22:45:39.011Z"
   },
   {
    "duration": 16,
    "start_time": "2022-03-08T22:45:40.975Z"
   },
   {
    "duration": 5,
    "start_time": "2022-03-08T22:45:42.500Z"
   },
   {
    "duration": 212,
    "start_time": "2022-03-08T22:46:00.153Z"
   },
   {
    "duration": 180,
    "start_time": "2022-03-08T22:46:06.691Z"
   },
   {
    "duration": 188,
    "start_time": "2022-03-08T22:46:23.156Z"
   },
   {
    "duration": 188,
    "start_time": "2022-03-08T22:46:40.247Z"
   },
   {
    "duration": 195,
    "start_time": "2022-03-08T22:47:12.996Z"
   },
   {
    "duration": 209,
    "start_time": "2022-03-08T22:47:17.043Z"
   },
   {
    "duration": 2,
    "start_time": "2022-03-08T22:47:25.692Z"
   },
   {
    "duration": 135,
    "start_time": "2022-03-08T22:47:26.639Z"
   },
   {
    "duration": 11,
    "start_time": "2022-03-08T22:47:27.512Z"
   },
   {
    "duration": 27,
    "start_time": "2022-03-08T22:47:28.430Z"
   },
   {
    "duration": 4,
    "start_time": "2022-03-08T22:47:30.531Z"
   },
   {
    "duration": 21,
    "start_time": "2022-03-08T22:47:31.438Z"
   },
   {
    "duration": 4,
    "start_time": "2022-03-08T22:47:32.973Z"
   },
   {
    "duration": 27,
    "start_time": "2022-03-08T22:47:32.979Z"
   },
   {
    "duration": 17,
    "start_time": "2022-03-08T22:47:34.314Z"
   },
   {
    "duration": 24,
    "start_time": "2022-03-08T22:47:35.257Z"
   },
   {
    "duration": 58,
    "start_time": "2022-03-08T22:47:36.305Z"
   },
   {
    "duration": 60,
    "start_time": "2022-03-08T22:47:37.397Z"
   },
   {
    "duration": 51,
    "start_time": "2022-03-08T22:47:38.483Z"
   },
   {
    "duration": 51,
    "start_time": "2022-03-08T22:47:40.063Z"
   },
   {
    "duration": 3,
    "start_time": "2022-03-08T22:47:41.322Z"
   },
   {
    "duration": 8,
    "start_time": "2022-03-08T22:47:43.086Z"
   },
   {
    "duration": 49,
    "start_time": "2022-03-08T22:47:45.815Z"
   },
   {
    "duration": 24,
    "start_time": "2022-03-08T22:47:48.986Z"
   },
   {
    "duration": 14,
    "start_time": "2022-03-08T22:47:49.870Z"
   },
   {
    "duration": 4,
    "start_time": "2022-03-08T22:47:54.710Z"
   },
   {
    "duration": 17,
    "start_time": "2022-03-08T22:47:56.378Z"
   },
   {
    "duration": 17,
    "start_time": "2022-03-08T22:47:56.730Z"
   },
   {
    "duration": 16,
    "start_time": "2022-03-08T22:47:57.017Z"
   },
   {
    "duration": 16,
    "start_time": "2022-03-08T22:47:57.334Z"
   },
   {
    "duration": 16,
    "start_time": "2022-03-08T22:47:57.642Z"
   },
   {
    "duration": 16,
    "start_time": "2022-03-08T22:47:57.965Z"
   },
   {
    "duration": 8,
    "start_time": "2022-03-08T22:47:58.686Z"
   },
   {
    "duration": 10,
    "start_time": "2022-03-08T22:48:03.094Z"
   },
   {
    "duration": 10,
    "start_time": "2022-03-08T22:48:03.510Z"
   },
   {
    "duration": 4,
    "start_time": "2022-03-08T22:48:04.898Z"
   },
   {
    "duration": 18,
    "start_time": "2022-03-08T22:48:06.853Z"
   },
   {
    "duration": 13,
    "start_time": "2022-03-08T22:48:07.638Z"
   },
   {
    "duration": 18,
    "start_time": "2022-03-08T22:48:08.218Z"
   },
   {
    "duration": 13,
    "start_time": "2022-03-08T22:48:09.250Z"
   },
   {
    "duration": 11,
    "start_time": "2022-03-08T22:48:15.582Z"
   },
   {
    "duration": 4,
    "start_time": "2022-03-08T22:48:17.433Z"
   },
   {
    "duration": 8,
    "start_time": "2022-03-08T22:48:18.990Z"
   },
   {
    "duration": 4,
    "start_time": "2022-03-08T22:48:21.946Z"
   },
   {
    "duration": 787,
    "start_time": "2022-03-09T07:38:51.538Z"
   },
   {
    "duration": 183,
    "start_time": "2022-03-09T07:38:52.327Z"
   },
   {
    "duration": 26,
    "start_time": "2022-03-09T07:38:52.513Z"
   },
   {
    "duration": 37,
    "start_time": "2022-03-09T07:38:52.552Z"
   },
   {
    "duration": 7,
    "start_time": "2022-03-09T07:38:52.591Z"
   },
   {
    "duration": 66,
    "start_time": "2022-03-09T07:38:52.601Z"
   },
   {
    "duration": 8,
    "start_time": "2022-03-09T07:38:52.670Z"
   },
   {
    "duration": 29,
    "start_time": "2022-03-09T07:38:52.684Z"
   },
   {
    "duration": 50,
    "start_time": "2022-03-09T07:38:52.717Z"
   },
   {
    "duration": 32,
    "start_time": "2022-03-09T07:38:52.770Z"
   },
   {
    "duration": 107,
    "start_time": "2022-03-09T07:38:52.805Z"
   },
   {
    "duration": 108,
    "start_time": "2022-03-09T07:38:52.915Z"
   },
   {
    "duration": 88,
    "start_time": "2022-03-09T07:38:53.025Z"
   },
   {
    "duration": 83,
    "start_time": "2022-03-09T07:38:53.116Z"
   },
   {
    "duration": 4,
    "start_time": "2022-03-09T07:38:53.202Z"
   },
   {
    "duration": 11,
    "start_time": "2022-03-09T07:38:53.208Z"
   },
   {
    "duration": 94,
    "start_time": "2022-03-09T07:38:53.222Z"
   },
   {
    "duration": 40,
    "start_time": "2022-03-09T07:38:53.319Z"
   },
   {
    "duration": 342,
    "start_time": "2022-03-09T07:38:53.361Z"
   },
   {
    "duration": -63,
    "start_time": "2022-03-09T07:38:53.769Z"
   },
   {
    "duration": -71,
    "start_time": "2022-03-09T07:38:53.778Z"
   },
   {
    "duration": -81,
    "start_time": "2022-03-09T07:38:53.789Z"
   },
   {
    "duration": -89,
    "start_time": "2022-03-09T07:38:53.799Z"
   },
   {
    "duration": -98,
    "start_time": "2022-03-09T07:38:53.809Z"
   },
   {
    "duration": -106,
    "start_time": "2022-03-09T07:38:53.819Z"
   },
   {
    "duration": -115,
    "start_time": "2022-03-09T07:38:53.829Z"
   },
   {
    "duration": -124,
    "start_time": "2022-03-09T07:38:53.839Z"
   },
   {
    "duration": -146,
    "start_time": "2022-03-09T07:38:53.863Z"
   },
   {
    "duration": -155,
    "start_time": "2022-03-09T07:38:53.873Z"
   },
   {
    "duration": -164,
    "start_time": "2022-03-09T07:38:53.884Z"
   },
   {
    "duration": -173,
    "start_time": "2022-03-09T07:38:53.894Z"
   },
   {
    "duration": -181,
    "start_time": "2022-03-09T07:38:53.904Z"
   },
   {
    "duration": -189,
    "start_time": "2022-03-09T07:38:53.913Z"
   },
   {
    "duration": -199,
    "start_time": "2022-03-09T07:38:53.924Z"
   },
   {
    "duration": -207,
    "start_time": "2022-03-09T07:38:53.934Z"
   },
   {
    "duration": -216,
    "start_time": "2022-03-09T07:38:53.944Z"
   },
   {
    "duration": -224,
    "start_time": "2022-03-09T07:38:53.953Z"
   },
   {
    "duration": -246,
    "start_time": "2022-03-09T07:38:53.976Z"
   },
   {
    "duration": 5,
    "start_time": "2022-03-09T07:39:42.087Z"
   },
   {
    "duration": 5,
    "start_time": "2022-03-09T07:41:20.482Z"
   },
   {
    "duration": 29,
    "start_time": "2022-03-09T07:41:20.493Z"
   },
   {
    "duration": 23,
    "start_time": "2022-03-09T07:41:20.525Z"
   },
   {
    "duration": 23,
    "start_time": "2022-03-09T07:41:20.552Z"
   },
   {
    "duration": 23,
    "start_time": "2022-03-09T07:41:20.579Z"
   },
   {
    "duration": 66,
    "start_time": "2022-03-09T07:41:20.605Z"
   },
   {
    "duration": 22,
    "start_time": "2022-03-09T07:41:20.674Z"
   },
   {
    "duration": 14,
    "start_time": "2022-03-09T07:41:20.699Z"
   },
   {
    "duration": 16,
    "start_time": "2022-03-09T07:41:20.756Z"
   },
   {
    "duration": 15,
    "start_time": "2022-03-09T07:41:20.776Z"
   },
   {
    "duration": 6,
    "start_time": "2022-03-09T07:41:20.793Z"
   },
   {
    "duration": 69,
    "start_time": "2022-03-09T07:41:20.802Z"
   },
   {
    "duration": 17,
    "start_time": "2022-03-09T07:41:20.873Z"
   },
   {
    "duration": 27,
    "start_time": "2022-03-09T07:41:20.892Z"
   },
   {
    "duration": 19,
    "start_time": "2022-03-09T07:41:20.951Z"
   },
   {
    "duration": 14,
    "start_time": "2022-03-09T07:41:20.972Z"
   },
   {
    "duration": 6,
    "start_time": "2022-03-09T07:41:20.989Z"
   },
   {
    "duration": 14,
    "start_time": "2022-03-09T07:41:20.997Z"
   },
   {
    "duration": 43,
    "start_time": "2022-03-09T07:41:21.013Z"
   },
   {
    "duration": 743,
    "start_time": "2022-03-09T07:46:42.164Z"
   },
   {
    "duration": 202,
    "start_time": "2022-03-09T07:46:42.909Z"
   },
   {
    "duration": 46,
    "start_time": "2022-03-09T07:46:43.114Z"
   },
   {
    "duration": 53,
    "start_time": "2022-03-09T07:46:43.165Z"
   },
   {
    "duration": 6,
    "start_time": "2022-03-09T07:46:43.221Z"
   },
   {
    "duration": 43,
    "start_time": "2022-03-09T07:46:43.230Z"
   },
   {
    "duration": 9,
    "start_time": "2022-03-09T07:46:43.275Z"
   },
   {
    "duration": 62,
    "start_time": "2022-03-09T07:46:43.289Z"
   },
   {
    "duration": 24,
    "start_time": "2022-03-09T07:46:43.355Z"
   },
   {
    "duration": 30,
    "start_time": "2022-03-09T07:46:43.382Z"
   },
   {
    "duration": 133,
    "start_time": "2022-03-09T07:46:43.414Z"
   },
   {
    "duration": 107,
    "start_time": "2022-03-09T07:46:43.549Z"
   },
   {
    "duration": 93,
    "start_time": "2022-03-09T07:46:43.658Z"
   },
   {
    "duration": 74,
    "start_time": "2022-03-09T07:46:43.754Z"
   },
   {
    "duration": 21,
    "start_time": "2022-03-09T07:46:43.831Z"
   },
   {
    "duration": 13,
    "start_time": "2022-03-09T07:46:43.854Z"
   },
   {
    "duration": 95,
    "start_time": "2022-03-09T07:46:43.870Z"
   },
   {
    "duration": 32,
    "start_time": "2022-03-09T07:46:43.967Z"
   },
   {
    "duration": 348,
    "start_time": "2022-03-09T07:46:44.001Z"
   },
   {
    "duration": -154,
    "start_time": "2022-03-09T07:46:44.507Z"
   },
   {
    "duration": -164,
    "start_time": "2022-03-09T07:46:44.518Z"
   },
   {
    "duration": -172,
    "start_time": "2022-03-09T07:46:44.528Z"
   },
   {
    "duration": -183,
    "start_time": "2022-03-09T07:46:44.540Z"
   },
   {
    "duration": -190,
    "start_time": "2022-03-09T07:46:44.549Z"
   },
   {
    "duration": -200,
    "start_time": "2022-03-09T07:46:44.560Z"
   },
   {
    "duration": -209,
    "start_time": "2022-03-09T07:46:44.571Z"
   },
   {
    "duration": -218,
    "start_time": "2022-03-09T07:46:44.581Z"
   },
   {
    "duration": -263,
    "start_time": "2022-03-09T07:46:44.627Z"
   },
   {
    "duration": -274,
    "start_time": "2022-03-09T07:46:44.640Z"
   },
   {
    "duration": -283,
    "start_time": "2022-03-09T07:46:44.650Z"
   },
   {
    "duration": -294,
    "start_time": "2022-03-09T07:46:44.663Z"
   },
   {
    "duration": -303,
    "start_time": "2022-03-09T07:46:44.673Z"
   },
   {
    "duration": -312,
    "start_time": "2022-03-09T07:46:44.684Z"
   },
   {
    "duration": -321,
    "start_time": "2022-03-09T07:46:44.694Z"
   },
   {
    "duration": -333,
    "start_time": "2022-03-09T07:46:44.707Z"
   },
   {
    "duration": -367,
    "start_time": "2022-03-09T07:46:44.743Z"
   },
   {
    "duration": -378,
    "start_time": "2022-03-09T07:46:44.755Z"
   },
   {
    "duration": -385,
    "start_time": "2022-03-09T07:46:44.764Z"
   },
   {
    "duration": 5,
    "start_time": "2022-03-09T08:03:45.490Z"
   },
   {
    "duration": 37,
    "start_time": "2022-03-09T08:03:45.501Z"
   },
   {
    "duration": 18,
    "start_time": "2022-03-09T08:03:45.540Z"
   },
   {
    "duration": 19,
    "start_time": "2022-03-09T08:03:45.561Z"
   },
   {
    "duration": 27,
    "start_time": "2022-03-09T08:03:45.583Z"
   },
   {
    "duration": 55,
    "start_time": "2022-03-09T08:03:45.613Z"
   },
   {
    "duration": 19,
    "start_time": "2022-03-09T08:03:45.671Z"
   },
   {
    "duration": 13,
    "start_time": "2022-03-09T08:03:45.693Z"
   },
   {
    "duration": 17,
    "start_time": "2022-03-09T08:03:45.754Z"
   },
   {
    "duration": 12,
    "start_time": "2022-03-09T08:03:45.774Z"
   },
   {
    "duration": 6,
    "start_time": "2022-03-09T08:03:45.788Z"
   },
   {
    "duration": 59,
    "start_time": "2022-03-09T08:03:45.797Z"
   },
   {
    "duration": 21,
    "start_time": "2022-03-09T08:03:45.859Z"
   },
   {
    "duration": 27,
    "start_time": "2022-03-09T08:03:45.883Z"
   },
   {
    "duration": 43,
    "start_time": "2022-03-09T08:03:45.913Z"
   },
   {
    "duration": 15,
    "start_time": "2022-03-09T08:03:45.958Z"
   },
   {
    "duration": 6,
    "start_time": "2022-03-09T08:03:45.975Z"
   },
   {
    "duration": 15,
    "start_time": "2022-03-09T08:03:45.983Z"
   },
   {
    "duration": 5,
    "start_time": "2022-03-09T08:03:46.001Z"
   },
   {
    "duration": 544,
    "start_time": "2022-03-09T08:33:56.801Z"
   },
   {
    "duration": 135,
    "start_time": "2022-03-09T08:33:57.347Z"
   },
   {
    "duration": 16,
    "start_time": "2022-03-09T08:33:57.484Z"
   },
   {
    "duration": 33,
    "start_time": "2022-03-09T08:33:57.502Z"
   },
   {
    "duration": 4,
    "start_time": "2022-03-09T08:33:57.537Z"
   },
   {
    "duration": 21,
    "start_time": "2022-03-09T08:33:57.543Z"
   },
   {
    "duration": 7,
    "start_time": "2022-03-09T08:33:57.566Z"
   },
   {
    "duration": 24,
    "start_time": "2022-03-09T08:33:57.575Z"
   },
   {
    "duration": 37,
    "start_time": "2022-03-09T08:33:57.601Z"
   },
   {
    "duration": 25,
    "start_time": "2022-03-09T08:33:57.640Z"
   },
   {
    "duration": 69,
    "start_time": "2022-03-09T08:33:57.667Z"
   },
   {
    "duration": 68,
    "start_time": "2022-03-09T08:33:57.738Z"
   },
   {
    "duration": 69,
    "start_time": "2022-03-09T08:33:57.808Z"
   },
   {
    "duration": 58,
    "start_time": "2022-03-09T08:33:57.879Z"
   },
   {
    "duration": 3,
    "start_time": "2022-03-09T08:33:57.939Z"
   },
   {
    "duration": 9,
    "start_time": "2022-03-09T08:33:57.943Z"
   },
   {
    "duration": 49,
    "start_time": "2022-03-09T08:33:57.954Z"
   },
   {
    "duration": 42,
    "start_time": "2022-03-09T08:33:58.004Z"
   },
   {
    "duration": 235,
    "start_time": "2022-03-09T08:33:58.048Z"
   },
   {
    "duration": -4176,
    "start_time": "2022-03-09T08:34:02.461Z"
   },
   {
    "duration": -4179,
    "start_time": "2022-03-09T08:34:02.465Z"
   },
   {
    "duration": -4187,
    "start_time": "2022-03-09T08:34:02.474Z"
   },
   {
    "duration": -4189,
    "start_time": "2022-03-09T08:34:02.477Z"
   },
   {
    "duration": -4191,
    "start_time": "2022-03-09T08:34:02.480Z"
   },
   {
    "duration": -4192,
    "start_time": "2022-03-09T08:34:02.482Z"
   },
   {
    "duration": -4195,
    "start_time": "2022-03-09T08:34:02.486Z"
   },
   {
    "duration": -4198,
    "start_time": "2022-03-09T08:34:02.489Z"
   },
   {
    "duration": -4200,
    "start_time": "2022-03-09T08:34:02.492Z"
   },
   {
    "duration": -4202,
    "start_time": "2022-03-09T08:34:02.495Z"
   },
   {
    "duration": -4205,
    "start_time": "2022-03-09T08:34:02.499Z"
   },
   {
    "duration": -4206,
    "start_time": "2022-03-09T08:34:02.501Z"
   },
   {
    "duration": -4208,
    "start_time": "2022-03-09T08:34:02.504Z"
   },
   {
    "duration": -4209,
    "start_time": "2022-03-09T08:34:02.507Z"
   },
   {
    "duration": -4221,
    "start_time": "2022-03-09T08:34:02.519Z"
   },
   {
    "duration": -4224,
    "start_time": "2022-03-09T08:34:02.523Z"
   },
   {
    "duration": -4226,
    "start_time": "2022-03-09T08:34:02.526Z"
   },
   {
    "duration": -4227,
    "start_time": "2022-03-09T08:34:02.528Z"
   },
   {
    "duration": -4229,
    "start_time": "2022-03-09T08:34:02.531Z"
   },
   {
    "duration": 29,
    "start_time": "2022-03-09T08:37:28.690Z"
   },
   {
    "duration": -4184,
    "start_time": "2022-03-09T08:38:08.399Z"
   },
   {
    "duration": 11,
    "start_time": "2022-03-09T08:38:06.024Z"
   },
   {
    "duration": 292,
    "start_time": "2022-03-09T08:39:16.580Z"
   },
   {
    "duration": 12,
    "start_time": "2022-03-09T08:40:22.186Z"
   },
   {
    "duration": 8,
    "start_time": "2022-03-09T08:41:57.800Z"
   },
   {
    "duration": 10,
    "start_time": "2022-03-09T08:42:07.813Z"
   },
   {
    "duration": 535,
    "start_time": "2022-03-09T08:42:15.775Z"
   },
   {
    "duration": 128,
    "start_time": "2022-03-09T08:42:16.312Z"
   },
   {
    "duration": 16,
    "start_time": "2022-03-09T08:42:16.442Z"
   },
   {
    "duration": 30,
    "start_time": "2022-03-09T08:42:16.460Z"
   },
   {
    "duration": 5,
    "start_time": "2022-03-09T08:42:16.492Z"
   },
   {
    "duration": 38,
    "start_time": "2022-03-09T08:42:16.498Z"
   },
   {
    "duration": 4,
    "start_time": "2022-03-09T08:42:16.538Z"
   },
   {
    "duration": 28,
    "start_time": "2022-03-09T08:42:16.544Z"
   },
   {
    "duration": 19,
    "start_time": "2022-03-09T08:42:16.574Z"
   },
   {
    "duration": 20,
    "start_time": "2022-03-09T08:42:16.595Z"
   },
   {
    "duration": 71,
    "start_time": "2022-03-09T08:42:16.617Z"
   },
   {
    "duration": 67,
    "start_time": "2022-03-09T08:42:16.690Z"
   },
   {
    "duration": 49,
    "start_time": "2022-03-09T08:42:16.759Z"
   },
   {
    "duration": 63,
    "start_time": "2022-03-09T08:42:16.810Z"
   },
   {
    "duration": 2,
    "start_time": "2022-03-09T08:42:16.875Z"
   },
   {
    "duration": 10,
    "start_time": "2022-03-09T08:42:16.879Z"
   },
   {
    "duration": 57,
    "start_time": "2022-03-09T08:42:16.891Z"
   },
   {
    "duration": 10,
    "start_time": "2022-03-09T08:42:16.949Z"
   },
   {
    "duration": 233,
    "start_time": "2022-03-09T08:42:16.960Z"
   },
   {
    "duration": -4184,
    "start_time": "2022-03-09T08:42:21.379Z"
   },
   {
    "duration": -4185,
    "start_time": "2022-03-09T08:42:21.382Z"
   },
   {
    "duration": -4187,
    "start_time": "2022-03-09T08:42:21.385Z"
   },
   {
    "duration": -4193,
    "start_time": "2022-03-09T08:42:21.392Z"
   },
   {
    "duration": -4194,
    "start_time": "2022-03-09T08:42:21.394Z"
   },
   {
    "duration": -4196,
    "start_time": "2022-03-09T08:42:21.397Z"
   },
   {
    "duration": -4197,
    "start_time": "2022-03-09T08:42:21.399Z"
   },
   {
    "duration": -4200,
    "start_time": "2022-03-09T08:42:21.403Z"
   },
   {
    "duration": -4201,
    "start_time": "2022-03-09T08:42:21.405Z"
   },
   {
    "duration": -4204,
    "start_time": "2022-03-09T08:42:21.409Z"
   },
   {
    "duration": -4205,
    "start_time": "2022-03-09T08:42:21.411Z"
   },
   {
    "duration": -4207,
    "start_time": "2022-03-09T08:42:21.414Z"
   },
   {
    "duration": -4208,
    "start_time": "2022-03-09T08:42:21.416Z"
   },
   {
    "duration": -4209,
    "start_time": "2022-03-09T08:42:21.418Z"
   },
   {
    "duration": -4211,
    "start_time": "2022-03-09T08:42:21.421Z"
   },
   {
    "duration": -4213,
    "start_time": "2022-03-09T08:42:21.424Z"
   },
   {
    "duration": -4218,
    "start_time": "2022-03-09T08:42:21.431Z"
   },
   {
    "duration": -4220,
    "start_time": "2022-03-09T08:42:21.433Z"
   },
   {
    "duration": -4221,
    "start_time": "2022-03-09T08:42:21.435Z"
   },
   {
    "duration": 12,
    "start_time": "2022-03-09T08:42:32.998Z"
   },
   {
    "duration": 566,
    "start_time": "2022-03-09T08:45:24.961Z"
   },
   {
    "duration": 129,
    "start_time": "2022-03-09T08:45:25.530Z"
   },
   {
    "duration": 14,
    "start_time": "2022-03-09T08:45:25.662Z"
   },
   {
    "duration": 26,
    "start_time": "2022-03-09T08:45:25.678Z"
   },
   {
    "duration": 4,
    "start_time": "2022-03-09T08:45:25.705Z"
   },
   {
    "duration": 44,
    "start_time": "2022-03-09T08:45:25.711Z"
   },
   {
    "duration": 5,
    "start_time": "2022-03-09T08:45:25.757Z"
   },
   {
    "duration": 23,
    "start_time": "2022-03-09T08:45:25.765Z"
   },
   {
    "duration": 16,
    "start_time": "2022-03-09T08:45:25.790Z"
   },
   {
    "duration": 43,
    "start_time": "2022-03-09T08:45:25.808Z"
   },
   {
    "duration": 56,
    "start_time": "2022-03-09T08:45:25.853Z"
   },
   {
    "duration": 78,
    "start_time": "2022-03-09T08:45:25.910Z"
   },
   {
    "duration": 60,
    "start_time": "2022-03-09T08:45:25.990Z"
   },
   {
    "duration": 47,
    "start_time": "2022-03-09T08:45:26.052Z"
   },
   {
    "duration": 4,
    "start_time": "2022-03-09T08:45:26.101Z"
   },
   {
    "duration": 28,
    "start_time": "2022-03-09T08:45:26.107Z"
   },
   {
    "duration": 51,
    "start_time": "2022-03-09T08:45:26.137Z"
   },
   {
    "duration": 11,
    "start_time": "2022-03-09T08:45:26.190Z"
   },
   {
    "duration": 10,
    "start_time": "2022-03-09T08:45:26.203Z"
   },
   {
    "duration": 3,
    "start_time": "2022-03-09T08:45:26.233Z"
   },
   {
    "duration": 21,
    "start_time": "2022-03-09T08:45:26.238Z"
   },
   {
    "duration": 14,
    "start_time": "2022-03-09T08:45:26.260Z"
   },
   {
    "duration": 12,
    "start_time": "2022-03-09T08:45:26.277Z"
   },
   {
    "duration": 47,
    "start_time": "2022-03-09T08:45:26.291Z"
   },
   {
    "duration": 24,
    "start_time": "2022-03-09T08:45:26.340Z"
   },
   {
    "duration": 21,
    "start_time": "2022-03-09T08:45:26.366Z"
   },
   {
    "duration": 12,
    "start_time": "2022-03-09T08:45:26.389Z"
   },
   {
    "duration": 44,
    "start_time": "2022-03-09T08:45:26.403Z"
   },
   {
    "duration": 12,
    "start_time": "2022-03-09T08:45:26.449Z"
   },
   {
    "duration": 5,
    "start_time": "2022-03-09T08:45:26.463Z"
   },
   {
    "duration": 20,
    "start_time": "2022-03-09T08:45:26.470Z"
   },
   {
    "duration": 11,
    "start_time": "2022-03-09T08:45:26.492Z"
   },
   {
    "duration": 41,
    "start_time": "2022-03-09T08:45:26.504Z"
   },
   {
    "duration": 13,
    "start_time": "2022-03-09T08:45:26.547Z"
   },
   {
    "duration": 8,
    "start_time": "2022-03-09T08:45:26.562Z"
   },
   {
    "duration": 8,
    "start_time": "2022-03-09T08:45:26.571Z"
   },
   {
    "duration": 11,
    "start_time": "2022-03-09T08:45:26.581Z"
   },
   {
    "duration": 5,
    "start_time": "2022-03-09T08:45:26.593Z"
   },
   {
    "duration": 575,
    "start_time": "2022-03-09T08:49:15.017Z"
   },
   {
    "duration": 130,
    "start_time": "2022-03-09T08:49:15.594Z"
   },
   {
    "duration": 21,
    "start_time": "2022-03-09T08:49:15.726Z"
   },
   {
    "duration": 24,
    "start_time": "2022-03-09T08:49:15.748Z"
   },
   {
    "duration": 3,
    "start_time": "2022-03-09T08:49:15.774Z"
   },
   {
    "duration": 20,
    "start_time": "2022-03-09T08:49:15.779Z"
   },
   {
    "duration": 5,
    "start_time": "2022-03-09T08:49:15.801Z"
   },
   {
    "duration": 22,
    "start_time": "2022-03-09T08:49:15.834Z"
   },
   {
    "duration": 16,
    "start_time": "2022-03-09T08:49:15.858Z"
   },
   {
    "duration": 21,
    "start_time": "2022-03-09T08:49:15.875Z"
   },
   {
    "duration": 81,
    "start_time": "2022-03-09T08:49:15.898Z"
   },
   {
    "duration": 75,
    "start_time": "2022-03-09T08:49:15.981Z"
   },
   {
    "duration": 47,
    "start_time": "2022-03-09T08:49:16.058Z"
   },
   {
    "duration": 53,
    "start_time": "2022-03-09T08:49:16.107Z"
   },
   {
    "duration": 2,
    "start_time": "2022-03-09T08:49:16.162Z"
   },
   {
    "duration": 10,
    "start_time": "2022-03-09T08:49:16.166Z"
   },
   {
    "duration": 64,
    "start_time": "2022-03-09T08:49:16.178Z"
   },
   {
    "duration": 11,
    "start_time": "2022-03-09T08:49:16.243Z"
   },
   {
    "duration": 10,
    "start_time": "2022-03-09T08:49:16.255Z"
   },
   {
    "duration": 3,
    "start_time": "2022-03-09T08:49:16.267Z"
   },
   {
    "duration": 20,
    "start_time": "2022-03-09T08:49:16.272Z"
   },
   {
    "duration": 44,
    "start_time": "2022-03-09T08:49:16.294Z"
   },
   {
    "duration": 15,
    "start_time": "2022-03-09T08:49:16.342Z"
   },
   {
    "duration": 14,
    "start_time": "2022-03-09T08:49:16.359Z"
   },
   {
    "duration": 17,
    "start_time": "2022-03-09T08:49:16.374Z"
   },
   {
    "duration": 48,
    "start_time": "2022-03-09T08:49:16.393Z"
   },
   {
    "duration": 8,
    "start_time": "2022-03-09T08:49:16.442Z"
   },
   {
    "duration": 12,
    "start_time": "2022-03-09T08:49:16.451Z"
   },
   {
    "duration": 9,
    "start_time": "2022-03-09T08:49:16.465Z"
   },
   {
    "duration": 3,
    "start_time": "2022-03-09T08:49:16.475Z"
   },
   {
    "duration": 20,
    "start_time": "2022-03-09T08:49:16.480Z"
   },
   {
    "duration": 39,
    "start_time": "2022-03-09T08:49:16.502Z"
   },
   {
    "duration": 16,
    "start_time": "2022-03-09T08:49:16.543Z"
   },
   {
    "duration": 11,
    "start_time": "2022-03-09T08:49:16.561Z"
   },
   {
    "duration": 8,
    "start_time": "2022-03-09T08:49:16.574Z"
   },
   {
    "duration": 4,
    "start_time": "2022-03-09T08:49:16.584Z"
   },
   {
    "duration": 9,
    "start_time": "2022-03-09T08:49:16.589Z"
   },
   {
    "duration": 37,
    "start_time": "2022-03-09T08:49:16.599Z"
   },
   {
    "duration": 283,
    "start_time": "2022-03-09T09:00:17.478Z"
   },
   {
    "duration": 192,
    "start_time": "2022-03-09T09:00:26.526Z"
   },
   {
    "duration": 14,
    "start_time": "2022-03-09T09:00:35.974Z"
   },
   {
    "duration": 4841,
    "start_time": "2022-03-09T09:01:26.251Z"
   },
   {
    "duration": 5032,
    "start_time": "2022-03-09T09:01:40.182Z"
   },
   {
    "duration": 65,
    "start_time": "2022-03-09T09:02:07.414Z"
   },
   {
    "duration": 188,
    "start_time": "2022-03-09T09:02:13.605Z"
   },
   {
    "duration": 5313,
    "start_time": "2022-03-09T09:02:59.667Z"
   },
   {
    "duration": 13,
    "start_time": "2022-03-09T09:03:11.035Z"
   },
   {
    "duration": 14,
    "start_time": "2022-03-09T09:03:39.058Z"
   },
   {
    "duration": 13,
    "start_time": "2022-03-09T09:03:58.402Z"
   },
   {
    "duration": 12,
    "start_time": "2022-03-09T09:04:13.358Z"
   },
   {
    "duration": 565,
    "start_time": "2022-03-09T09:04:23.616Z"
   },
   {
    "duration": 125,
    "start_time": "2022-03-09T09:04:24.183Z"
   },
   {
    "duration": 25,
    "start_time": "2022-03-09T09:04:24.310Z"
   },
   {
    "duration": 27,
    "start_time": "2022-03-09T09:04:24.336Z"
   },
   {
    "duration": 3,
    "start_time": "2022-03-09T09:04:24.365Z"
   },
   {
    "duration": 22,
    "start_time": "2022-03-09T09:04:24.370Z"
   },
   {
    "duration": 3,
    "start_time": "2022-03-09T09:04:24.394Z"
   },
   {
    "duration": 40,
    "start_time": "2022-03-09T09:04:24.400Z"
   },
   {
    "duration": 16,
    "start_time": "2022-03-09T09:04:24.442Z"
   },
   {
    "duration": 22,
    "start_time": "2022-03-09T09:04:24.460Z"
   },
   {
    "duration": 75,
    "start_time": "2022-03-09T09:04:24.483Z"
   },
   {
    "duration": 73,
    "start_time": "2022-03-09T09:04:24.560Z"
   },
   {
    "duration": 48,
    "start_time": "2022-03-09T09:04:24.635Z"
   },
   {
    "duration": 58,
    "start_time": "2022-03-09T09:04:24.685Z"
   },
   {
    "duration": 3,
    "start_time": "2022-03-09T09:04:24.744Z"
   },
   {
    "duration": 9,
    "start_time": "2022-03-09T09:04:24.749Z"
   },
   {
    "duration": 48,
    "start_time": "2022-03-09T09:04:24.759Z"
   },
   {
    "duration": 30,
    "start_time": "2022-03-09T09:04:24.809Z"
   },
   {
    "duration": 10,
    "start_time": "2022-03-09T09:04:24.841Z"
   },
   {
    "duration": 10,
    "start_time": "2022-03-09T09:04:24.852Z"
   },
   {
    "duration": 22,
    "start_time": "2022-03-09T09:04:24.864Z"
   },
   {
    "duration": 14,
    "start_time": "2022-03-09T09:04:24.887Z"
   },
   {
    "duration": 35,
    "start_time": "2022-03-09T09:04:24.903Z"
   },
   {
    "duration": 13,
    "start_time": "2022-03-09T09:04:24.940Z"
   },
   {
    "duration": 15,
    "start_time": "2022-03-09T09:04:24.954Z"
   },
   {
    "duration": 13,
    "start_time": "2022-03-09T09:04:24.971Z"
   },
   {
    "duration": 8,
    "start_time": "2022-03-09T09:04:24.985Z"
   },
   {
    "duration": 44,
    "start_time": "2022-03-09T09:04:24.995Z"
   },
   {
    "duration": 8,
    "start_time": "2022-03-09T09:04:25.041Z"
   },
   {
    "duration": 4,
    "start_time": "2022-03-09T09:04:25.051Z"
   },
   {
    "duration": 24,
    "start_time": "2022-03-09T09:04:25.056Z"
   },
   {
    "duration": 11,
    "start_time": "2022-03-09T09:04:25.082Z"
   },
   {
    "duration": 39,
    "start_time": "2022-03-09T09:04:25.095Z"
   },
   {
    "duration": 12,
    "start_time": "2022-03-09T09:04:25.135Z"
   },
   {
    "duration": 10,
    "start_time": "2022-03-09T09:04:25.149Z"
   },
   {
    "duration": 3,
    "start_time": "2022-03-09T09:04:25.160Z"
   },
   {
    "duration": 7,
    "start_time": "2022-03-09T09:04:25.165Z"
   },
   {
    "duration": 3,
    "start_time": "2022-03-09T09:04:25.174Z"
   },
   {
    "duration": 533,
    "start_time": "2022-03-09T09:05:55.457Z"
   },
   {
    "duration": 132,
    "start_time": "2022-03-09T09:05:55.992Z"
   },
   {
    "duration": 20,
    "start_time": "2022-03-09T09:05:56.126Z"
   },
   {
    "duration": 23,
    "start_time": "2022-03-09T09:05:56.148Z"
   },
   {
    "duration": 3,
    "start_time": "2022-03-09T09:05:56.173Z"
   },
   {
    "duration": 25,
    "start_time": "2022-03-09T09:05:56.178Z"
   },
   {
    "duration": 4,
    "start_time": "2022-03-09T09:05:56.204Z"
   },
   {
    "duration": 22,
    "start_time": "2022-03-09T09:05:56.234Z"
   },
   {
    "duration": 18,
    "start_time": "2022-03-09T09:05:56.258Z"
   },
   {
    "duration": 22,
    "start_time": "2022-03-09T09:05:56.278Z"
   },
   {
    "duration": 77,
    "start_time": "2022-03-09T09:05:56.301Z"
   },
   {
    "duration": 75,
    "start_time": "2022-03-09T09:05:56.380Z"
   },
   {
    "duration": 48,
    "start_time": "2022-03-09T09:05:56.457Z"
   },
   {
    "duration": 58,
    "start_time": "2022-03-09T09:05:56.507Z"
   },
   {
    "duration": 2,
    "start_time": "2022-03-09T09:05:56.567Z"
   },
   {
    "duration": 9,
    "start_time": "2022-03-09T09:05:56.571Z"
   },
   {
    "duration": 62,
    "start_time": "2022-03-09T09:05:56.581Z"
   },
   {
    "duration": 10,
    "start_time": "2022-03-09T09:05:56.645Z"
   },
   {
    "duration": 10,
    "start_time": "2022-03-09T09:05:56.656Z"
   },
   {
    "duration": 3,
    "start_time": "2022-03-09T09:05:56.667Z"
   },
   {
    "duration": 21,
    "start_time": "2022-03-09T09:05:56.672Z"
   },
   {
    "duration": 39,
    "start_time": "2022-03-09T09:05:56.695Z"
   },
   {
    "duration": 14,
    "start_time": "2022-03-09T09:05:56.737Z"
   },
   {
    "duration": 12,
    "start_time": "2022-03-09T09:05:56.753Z"
   },
   {
    "duration": 15,
    "start_time": "2022-03-09T09:05:56.767Z"
   },
   {
    "duration": 15,
    "start_time": "2022-03-09T09:05:56.783Z"
   },
   {
    "duration": 35,
    "start_time": "2022-03-09T09:05:56.799Z"
   },
   {
    "duration": 11,
    "start_time": "2022-03-09T09:05:56.836Z"
   },
   {
    "duration": 8,
    "start_time": "2022-03-09T09:05:56.848Z"
   },
   {
    "duration": 4,
    "start_time": "2022-03-09T09:05:56.857Z"
   },
   {
    "duration": 28,
    "start_time": "2022-03-09T09:05:56.862Z"
   },
   {
    "duration": 10,
    "start_time": "2022-03-09T09:05:56.892Z"
   },
   {
    "duration": 38,
    "start_time": "2022-03-09T09:05:56.904Z"
   },
   {
    "duration": 11,
    "start_time": "2022-03-09T09:05:56.943Z"
   },
   {
    "duration": 8,
    "start_time": "2022-03-09T09:05:56.955Z"
   },
   {
    "duration": 3,
    "start_time": "2022-03-09T09:05:56.965Z"
   },
   {
    "duration": 11,
    "start_time": "2022-03-09T09:05:56.970Z"
   },
   {
    "duration": 3,
    "start_time": "2022-03-09T09:05:56.983Z"
   }
  ],
  "colab": {
   "collapsed_sections": [
    "E0vqbgi9ay0H",
    "VUC88oWjTJw2"
   ],
   "name": "yandex_music_project_2021.2.ipynb",
   "provenance": []
  },
  "kernelspec": {
   "display_name": "Python 3 (ipykernel)",
   "language": "python",
   "name": "python3"
  },
  "language_info": {
   "codemirror_mode": {
    "name": "ipython",
    "version": 3
   },
   "file_extension": ".py",
   "mimetype": "text/x-python",
   "name": "python",
   "nbconvert_exporter": "python",
   "pygments_lexer": "ipython3",
   "version": "3.9.7"
  },
  "toc": {
   "base_numbering": 1,
   "nav_menu": {},
   "number_sections": true,
   "sideBar": true,
   "skip_h1_title": true,
   "title_cell": "Table of Contents",
   "title_sidebar": "Contents",
   "toc_cell": false,
   "toc_position": {},
   "toc_section_display": true,
   "toc_window_display": true
  }
 },
 "nbformat": 4,
 "nbformat_minor": 1
}
