{
 "cells": [
  {
   "cell_type": "markdown",
   "metadata": {
    "toc": true
   },
   "source": [
    "<h1>Содержание<span class=\"tocSkip\"></span></h1>\n",
    "<div class=\"toc\"><ul class=\"toc-item\"><li><ul class=\"toc-item\"><li><ul class=\"toc-item\"><li><span><a href=\"#Описание-данных\" data-toc-modified-id=\"Описание-данных-0.0.1\">Описание данных</a></span></li></ul></li></ul></li><li><span><a href=\"#Загрузка-данных\" data-toc-modified-id=\"Загрузка-данных-1\">Загрузка данных</a></span><ul class=\"toc-item\"><li><ul class=\"toc-item\"><li><span><a href=\"#Вывод:\" data-toc-modified-id=\"Вывод:-1.0.1\">Вывод:</a></span></li></ul></li></ul></li><li><span><a href=\"#Умножение-матриц\" data-toc-modified-id=\"Умножение-матриц-2\">Умножение матриц</a></span><ul class=\"toc-item\"><li><ul class=\"toc-item\"><li><span><a href=\"#Задание:\" data-toc-modified-id=\"Задание:-2.0.1\">Задание:</a></span></li><li><span><a href=\"#Вывод:\" data-toc-modified-id=\"Вывод:-2.0.2\">Вывод:</a></span></li></ul></li></ul></li><li><span><a href=\"#Алгоритм-преобразования\" data-toc-modified-id=\"Алгоритм-преобразования-3\">Алгоритм преобразования</a></span></li><li><span><a href=\"#Проверка-алгоритма\" data-toc-modified-id=\"Проверка-алгоритма-4\">Проверка алгоритма</a></span><ul class=\"toc-item\"><li><span><a href=\"#Вывод:\" data-toc-modified-id=\"Вывод:-4.1\">Вывод:</a></span></li></ul></li><li><span><a href=\"#Чек-лист-проверки\" data-toc-modified-id=\"Чек-лист-проверки-5\">Чек-лист проверки</a></span></li></ul></div>"
   ]
  },
  {
   "cell_type": "markdown",
   "metadata": {},
   "source": [
    "# Защита персональных данных клиентов"
   ]
  },
  {
   "cell_type": "markdown",
   "metadata": {},
   "source": [
    "Вам нужно защитить данные клиентов страховой компании «Хоть потоп». Разработайте такой метод преобразования данных, чтобы по ним было сложно восстановить персональную информацию. Обоснуйте корректность его работы.\n",
    "\n",
    "Нужно защитить данные, чтобы при преобразовании качество моделей машинного обучения не ухудшилось. Подбирать наилучшую модель не требуется."
   ]
  },
  {
   "cell_type": "markdown",
   "metadata": {},
   "source": [
    "#### Описание данных\n",
    "\n",
    "Признаки: пол, возраст и зарплата застрахованного, количество членов его семьи.\n",
    "\n",
    "Целевой признак: количество страховых выплат клиенту за последние 5 лет.\n",
    "\n"
   ]
  },
  {
   "cell_type": "markdown",
   "metadata": {},
   "source": [
    "## Загрузка данных"
   ]
  },
  {
   "cell_type": "code",
   "execution_count": 1,
   "metadata": {},
   "outputs": [],
   "source": [
    "import pandas as pd\n",
    "import numpy as np\n",
    "from sklearn.preprocessing import StandardScaler\n",
    "from sklearn.linear_model import LinearRegression\n",
    "from sklearn.metrics import r2_score\n",
    "import matplotlib.pyplot as plt\n",
    "import seaborn as sns"
   ]
  },
  {
   "cell_type": "code",
   "execution_count": 2,
   "metadata": {},
   "outputs": [
    {
     "data": {
      "text/html": [
       "<div>\n",
       "<style scoped>\n",
       "    .dataframe tbody tr th:only-of-type {\n",
       "        vertical-align: middle;\n",
       "    }\n",
       "\n",
       "    .dataframe tbody tr th {\n",
       "        vertical-align: top;\n",
       "    }\n",
       "\n",
       "    .dataframe thead th {\n",
       "        text-align: right;\n",
       "    }\n",
       "</style>\n",
       "<table border=\"1\" class=\"dataframe\">\n",
       "  <thead>\n",
       "    <tr style=\"text-align: right;\">\n",
       "      <th></th>\n",
       "      <th>Пол</th>\n",
       "      <th>Возраст</th>\n",
       "      <th>Зарплата</th>\n",
       "      <th>Члены семьи</th>\n",
       "      <th>Страховые выплаты</th>\n",
       "    </tr>\n",
       "  </thead>\n",
       "  <tbody>\n",
       "    <tr>\n",
       "      <th>0</th>\n",
       "      <td>1</td>\n",
       "      <td>41.0</td>\n",
       "      <td>49600.0</td>\n",
       "      <td>1</td>\n",
       "      <td>0</td>\n",
       "    </tr>\n",
       "    <tr>\n",
       "      <th>1</th>\n",
       "      <td>0</td>\n",
       "      <td>46.0</td>\n",
       "      <td>38000.0</td>\n",
       "      <td>1</td>\n",
       "      <td>1</td>\n",
       "    </tr>\n",
       "    <tr>\n",
       "      <th>2</th>\n",
       "      <td>0</td>\n",
       "      <td>29.0</td>\n",
       "      <td>21000.0</td>\n",
       "      <td>0</td>\n",
       "      <td>0</td>\n",
       "    </tr>\n",
       "    <tr>\n",
       "      <th>3</th>\n",
       "      <td>0</td>\n",
       "      <td>21.0</td>\n",
       "      <td>41700.0</td>\n",
       "      <td>2</td>\n",
       "      <td>0</td>\n",
       "    </tr>\n",
       "    <tr>\n",
       "      <th>4</th>\n",
       "      <td>1</td>\n",
       "      <td>28.0</td>\n",
       "      <td>26100.0</td>\n",
       "      <td>0</td>\n",
       "      <td>0</td>\n",
       "    </tr>\n",
       "  </tbody>\n",
       "</table>\n",
       "</div>"
      ],
      "text/plain": [
       "   Пол  Возраст  Зарплата  Члены семьи  Страховые выплаты\n",
       "0    1     41.0   49600.0            1                  0\n",
       "1    0     46.0   38000.0            1                  1\n",
       "2    0     29.0   21000.0            0                  0\n",
       "3    0     21.0   41700.0            2                  0\n",
       "4    1     28.0   26100.0            0                  0"
      ]
     },
     "execution_count": 2,
     "metadata": {},
     "output_type": "execute_result"
    }
   ],
   "source": [
    "df = pd.read_csv('https://code.s3.yandex.net/datasets/insurance.csv')\n",
    "df.head()"
   ]
  },
  {
   "cell_type": "code",
   "execution_count": 3,
   "metadata": {},
   "outputs": [
    {
     "name": "stdout",
     "output_type": "stream",
     "text": [
      "<class 'pandas.core.frame.DataFrame'>\n",
      "RangeIndex: 5000 entries, 0 to 4999\n",
      "Data columns (total 5 columns):\n",
      " #   Column             Non-Null Count  Dtype  \n",
      "---  ------             --------------  -----  \n",
      " 0   Пол                5000 non-null   int64  \n",
      " 1   Возраст            5000 non-null   float64\n",
      " 2   Зарплата           5000 non-null   float64\n",
      " 3   Члены семьи        5000 non-null   int64  \n",
      " 4   Страховые выплаты  5000 non-null   int64  \n",
      "dtypes: float64(2), int64(3)\n",
      "memory usage: 195.4 KB\n"
     ]
    }
   ],
   "source": [
    "df.info()"
   ]
  },
  {
   "cell_type": "code",
   "execution_count": 4,
   "metadata": {
    "scrolled": true
   },
   "outputs": [
    {
     "data": {
      "text/plain": [
       "153"
      ]
     },
     "execution_count": 4,
     "metadata": {},
     "output_type": "execute_result"
    }
   ],
   "source": [
    "df.duplicated().sum()"
   ]
  },
  {
   "cell_type": "code",
   "execution_count": 5,
   "metadata": {
    "scrolled": false
   },
   "outputs": [
    {
     "name": "stdout",
     "output_type": "stream",
     "text": [
      "<class 'pandas.core.frame.DataFrame'>\n",
      "Int64Index: 4847 entries, 0 to 4999\n",
      "Data columns (total 5 columns):\n",
      " #   Column             Non-Null Count  Dtype  \n",
      "---  ------             --------------  -----  \n",
      " 0   Пол                4847 non-null   int64  \n",
      " 1   Возраст            4847 non-null   float64\n",
      " 2   Зарплата           4847 non-null   float64\n",
      " 3   Члены семьи        4847 non-null   int64  \n",
      " 4   Страховые выплаты  4847 non-null   int64  \n",
      "dtypes: float64(2), int64(3)\n",
      "memory usage: 227.2 KB\n"
     ]
    }
   ],
   "source": [
    "df = df.drop_duplicates()\n",
    "df.info()"
   ]
  },
  {
   "cell_type": "code",
   "execution_count": 6,
   "metadata": {},
   "outputs": [
    {
     "data": {
      "text/plain": [
       "<AxesSubplot:>"
      ]
     },
     "execution_count": 6,
     "metadata": {},
     "output_type": "execute_result"
    },
    {
     "data": {
      "image/png": "[encoded data removed]",
      "text/plain": [
       "<Figure size 864x720 with 2 Axes>"
      ]
     },
     "metadata": {
      "needs_background": "light"
     },
     "output_type": "display_data"
    }
   ],
   "source": [
    "plt.figure(figsize=(12,10))\n",
    "sns.heatmap(df.corr(), xticklabels=df.corr().columns, yticklabels=df.corr().columns, center=0, annot=True)"
   ]
  },
  {
   "cell_type": "markdown",
   "metadata": {},
   "source": [
    "#### Вывод:\n",
    "Данные выглядят нормально, удалили 153 дубликата.\n",
    "\n",
    "Мультиколленеарность в норме."
   ]
  },
  {
   "cell_type": "markdown",
   "metadata": {},
   "source": [
    "## Умножение матриц"
   ]
  },
  {
   "cell_type": "markdown",
   "metadata": {},
   "source": [
    "В этом задании вы можете записывать формулы в *Jupyter Notebook.*\n",
    "\n",
    "Чтобы записать формулу внутри текста, окружите её символами доллара \\\\$; если снаружи —  двойными символами \\\\$\\\\$. Эти формулы записываются на языке вёрстки *LaTeX.* \n",
    "\n",
    "Для примера мы записали формулы линейной регрессии. Можете их скопировать и отредактировать, чтобы решить задачу.\n",
    "\n",
    "Работать в *LaTeX* необязательно."
   ]
  },
  {
   "cell_type": "markdown",
   "metadata": {},
   "source": [
    "Обозначения:\n",
    "\n",
    "- $X$ — матрица признаков (нулевой столбец состоит из единиц)\n",
    "\n",
    "- $y$ — вектор целевого признака\n",
    "\n",
    "- $P$ — матрица, на которую умножаются признаки\n",
    "\n",
    "- $w$ — вектор весов линейной регрессии (нулевой элемент равен сдвигу)"
   ]
  },
  {
   "cell_type": "markdown",
   "metadata": {},
   "source": [
    "Предсказания:\n",
    "\n",
    "$$\n",
    "a = Xw\n",
    "$$\n",
    "\n",
    "Задача обучения:\n",
    "\n",
    "$$\n",
    "w = \\arg\\min_w MSE(Xw, y)\n",
    "$$\n",
    "\n",
    "Формула обучения:\n",
    "\n",
    "$$\n",
    "w = (X^T X)^{-1} X^T y\n",
    "$$"
   ]
  },
  {
   "cell_type": "markdown",
   "metadata": {},
   "source": [
    "#### Задание:\n",
    "Ответьте на вопрос и обоснуйте решение.\n",
    "\n",
    "Признаки умножают на обратимую матрицу. Изменится ли качество линейной регрессии? (Её можно обучить заново.)\n",
    "\n",
    "a. Изменится. Приведите примеры матриц.\n",
    "\n",
    "b. Не изменится. Укажите, как связаны параметры линейной регрессии в исходной задаче и в преобразованной.\n"
   ]
  },
  {
   "cell_type": "markdown",
   "metadata": {},
   "source": [
    "**Ответ:** не измениться\n",
    "\n",
    "\n",
    "**Обоснование:** \n",
    "\n",
    "Представим новую матрицу X1, как произведение старой матрицы X на любую обратимую матрицу А\n",
    "\n",
    "$$\n",
    "x1 = X*A\n",
    "$$\n",
    "\n",
    "Предсказания \n",
    "\n",
    "$$\n",
    "a1 = XAw\n",
    "$$\n",
    "\n",
    "Подставляем матрицу в формулу обучения\n",
    "\n",
    "$$\n",
    "w1 = ((XA^T) XA)^{-1} XA^T y\n",
    "$$\n",
    "\n",
    "$$\n",
    "w1 = ((XA)^T XA)^{-1} (XA)^T y  \n",
    "$$  \n",
    "\n",
    "\n",
    "Раскроем скобки\n",
    "\n",
    "$$\n",
    "w1 = (X^T A^T XA)^{-1} X^T A^T y\n",
    "$$\n",
    "\n",
    "Преобразуем данные\n",
    "\n",
    "$$\n",
    "w1 = A^{-1}(X^T X)^{-1}(A^T)^{-1}A^T X^T y\n",
    "$$\n",
    "\n",
    "Так как матрица обратимая то \n",
    "\n",
    "$$\n",
    "(A^T)^{-1}A^T\n",
    "$$\n",
    "\n",
    "будет равно единичной матрице B\n",
    "\n",
    "$$\n",
    "w1 = A^{-1}(X^TX)^{-1}BX^Ty=A^{-1}(X^TX)^{-1}X^Ty\n",
    "$$\n",
    "\n",
    "видим\n",
    "\n",
    "$$\n",
    "(X^TX)^{-1}X^Ty\n",
    "$$\n",
    "\n",
    "равно w, получаем\n",
    "\n",
    "$$\n",
    "w1 = A^{-1}(X^TX)^{-1}X^Ty=A^{-1}w\n",
    "$$\n",
    "\n",
    "Подставляем w1 и x1 в формулу предсказания\n",
    "\n",
    "$$\n",
    "a1 = X1w1=XAA^{-1}w\n",
    "$$\n",
    "\n",
    "получаем\n",
    "\n",
    "$$\n",
    "a1=XAA^{-1}w=XBw=Xw\n",
    "$$\n",
    "\n",
    "Итог\n",
    "$$\n",
    "a1 = a\n",
    "$$"
   ]
  },
  {
   "cell_type": "markdown",
   "metadata": {},
   "source": [
    "#### Вывод:\n",
    "\n",
    "Предсказания $a1$ для матрицы признаков умноженных на матрицу $А$ равны предсказаниям $а$.\n",
    "\n",
    "Качество предсказания линейной регрессии не измениться, изменятся только веса.\n"
   ]
  },
  {
   "cell_type": "markdown",
   "metadata": {},
   "source": [
    "## Алгоритм преобразования"
   ]
  },
  {
   "cell_type": "markdown",
   "metadata": {},
   "source": [
    "Генерируем случайную матрицу $A$ размером 4x4.\n",
    "\n",
    "Проверяем матрицу $A$ на обратимость\n",
    "\n",
    "Умножаем матрицу признаков на нашу случайную матрицу, определяем метрику R2 с помощью линейной регрессии и сравниваем полученные данные R2 с данными R2 модели матрицы признаков\n"
   ]
  },
  {
   "cell_type": "markdown",
   "metadata": {},
   "source": [
    "## Проверка алгоритма"
   ]
  },
  {
   "cell_type": "code",
   "execution_count": 7,
   "metadata": {},
   "outputs": [],
   "source": [
    "features = df.drop([\"Страховые выплаты\"], axis=1)\n",
    "target = df[\"Страховые выплаты\"]"
   ]
  },
  {
   "cell_type": "code",
   "execution_count": 8,
   "metadata": {},
   "outputs": [],
   "source": [
    "scaler = StandardScaler()\n",
    "scaler.fit(features)\n",
    "features_scaler = scaler.transform(features)"
   ]
  },
  {
   "cell_type": "code",
   "execution_count": 9,
   "metadata": {},
   "outputs": [
    {
     "name": "stdout",
     "output_type": "stream",
     "text": [
      "R2_score для основной модели 0.4302010044852067\n"
     ]
    }
   ],
   "source": [
    "model = LinearRegression(normalize = True)\n",
    "model.fit(features, target)\n",
    "predictions = model.predict(features)\n",
    "print(\"R2_score для основной модели\", r2_score(target, predictions))"
   ]
  },
  {
   "cell_type": "code",
   "execution_count": 10,
   "metadata": {},
   "outputs": [
    {
     "data": {
      "text/plain": [
       "array([[ 6.96198744e-05, -4.66079319e-05,  2.46932700e-05,\n",
       "         3.15447063e-05],\n",
       "       [-3.16435681e-05, -1.94469129e-05,  1.12176607e-04,\n",
       "         9.64207661e-06],\n",
       "       [ 1.24584529e-04,  6.27900222e-05, -5.64272117e-05,\n",
       "        -1.46748291e-04],\n",
       "       [-1.23389864e-04,  9.38784162e-05, -9.12343674e-05,\n",
       "         1.21994038e-04]])"
      ]
     },
     "execution_count": 10,
     "metadata": {},
     "output_type": "execute_result"
    }
   ],
   "source": [
    "matrix_a = np.random.randint(12345,size = (4, 4))\n",
    "matrix = np.linalg.inv(matrix_a)\n",
    "matrix"
   ]
  },
  {
   "cell_type": "code",
   "execution_count": 11,
   "metadata": {},
   "outputs": [
    {
     "name": "stdout",
     "output_type": "stream",
     "text": [
      "R2_Score для преобразованных  признаков:  0.4302010044852068\n"
     ]
    }
   ],
   "source": [
    "features_matrix = features_scaler @ matrix_a\n",
    "model.fit(features_matrix, target)\n",
    "predictions_matrix = model.predict(features_matrix)\n",
    "print('R2_Score для преобразованных  признаков: ',r2_score(target, predictions_matrix))"
   ]
  },
  {
   "cell_type": "markdown",
   "metadata": {},
   "source": [
    "### Вывод:\n",
    "Произвели загрузку и предпросмотр данных.\n",
    "\n",
    "Доказали на формулах что умножение матрицы признаков на случайную матрицу не флияет на предсказания\n",
    "\n",
    "Проверили алгоритм через метрику R2\n",
    "\n",
    "При умножении матрицы на случайную матрицу данные шифруются без потери качества предсказания."
   ]
  }
 ],
 "metadata": {
  "ExecuteTimeLog": [
   {
    "duration": 417,
    "start_time": "2022-07-23T13:18:12.093Z"
   },
   {
    "duration": 73,
    "start_time": "2022-07-23T13:18:44.141Z"
   },
   {
    "duration": 28,
    "start_time": "2022-07-23T13:18:49.350Z"
   },
   {
    "duration": 12,
    "start_time": "2022-07-23T13:20:25.423Z"
   },
   {
    "duration": 86,
    "start_time": "2022-07-23T13:21:13.935Z"
   },
   {
    "duration": 40,
    "start_time": "2022-07-23T13:21:19.015Z"
   },
   {
    "duration": 11,
    "start_time": "2022-07-23T13:21:21.191Z"
   },
   {
    "duration": 6,
    "start_time": "2022-07-23T13:50:15.533Z"
   },
   {
    "duration": 8,
    "start_time": "2022-07-23T13:50:37.845Z"
   },
   {
    "duration": 11,
    "start_time": "2022-07-23T13:51:27.065Z"
   },
   {
    "duration": 8,
    "start_time": "2022-07-25T08:25:18.096Z"
   },
   {
    "duration": 449,
    "start_time": "2022-07-25T08:25:27.361Z"
   },
   {
    "duration": 55,
    "start_time": "2022-07-25T08:25:27.812Z"
   },
   {
    "duration": 17,
    "start_time": "2022-07-25T08:25:27.869Z"
   },
   {
    "duration": 6,
    "start_time": "2022-07-25T08:25:27.888Z"
   },
   {
    "duration": 13,
    "start_time": "2022-07-25T08:25:27.897Z"
   },
   {
    "duration": 73,
    "start_time": "2022-07-25T08:25:27.912Z"
   },
   {
    "duration": 3,
    "start_time": "2022-07-25T08:25:49.549Z"
   },
   {
    "duration": 5,
    "start_time": "2022-07-25T08:25:54.273Z"
   },
   {
    "duration": 6,
    "start_time": "2022-07-25T08:26:32.914Z"
   },
   {
    "duration": 8,
    "start_time": "2022-07-25T08:26:43.888Z"
   },
   {
    "duration": 4,
    "start_time": "2022-07-25T08:26:48.573Z"
   },
   {
    "duration": 8,
    "start_time": "2022-07-25T08:27:30.749Z"
   },
   {
    "duration": 17,
    "start_time": "2022-07-25T08:27:31.265Z"
   },
   {
    "duration": 7,
    "start_time": "2022-07-25T08:27:31.868Z"
   },
   {
    "duration": 9,
    "start_time": "2022-07-25T08:27:41.615Z"
   },
   {
    "duration": 5,
    "start_time": "2022-07-25T08:27:48.491Z"
   },
   {
    "duration": 6,
    "start_time": "2022-07-25T08:29:53.741Z"
   },
   {
    "duration": 4,
    "start_time": "2022-07-25T08:34:04.697Z"
   },
   {
    "duration": 9,
    "start_time": "2022-07-25T08:34:16.940Z"
   },
   {
    "duration": 8,
    "start_time": "2022-07-25T08:34:39.662Z"
   },
   {
    "duration": 723,
    "start_time": "2022-07-25T08:34:43.195Z"
   },
   {
    "duration": 11,
    "start_time": "2022-07-25T08:34:46.642Z"
   },
   {
    "duration": 38,
    "start_time": "2022-07-25T08:35:06.760Z"
   },
   {
    "duration": 230,
    "start_time": "2022-07-25T08:35:20.816Z"
   },
   {
    "duration": 4,
    "start_time": "2022-07-25T08:35:37.961Z"
   },
   {
    "duration": 19,
    "start_time": "2022-07-25T08:35:42.341Z"
   },
   {
    "duration": 4,
    "start_time": "2022-07-25T08:36:18.159Z"
   },
   {
    "duration": 13,
    "start_time": "2022-07-25T08:36:25.751Z"
   },
   {
    "duration": 8,
    "start_time": "2022-07-25T08:36:30.075Z"
   },
   {
    "duration": 9,
    "start_time": "2022-07-25T08:36:48.583Z"
   },
   {
    "duration": 8,
    "start_time": "2022-07-25T08:36:58.472Z"
   },
   {
    "duration": 1234,
    "start_time": "2022-07-25T08:41:55.817Z"
   },
   {
    "duration": 43,
    "start_time": "2022-07-25T08:41:57.053Z"
   },
   {
    "duration": 11,
    "start_time": "2022-07-25T08:41:57.098Z"
   },
   {
    "duration": 8,
    "start_time": "2022-07-25T08:41:57.112Z"
   },
   {
    "duration": 24,
    "start_time": "2022-07-25T08:41:57.122Z"
   },
   {
    "duration": 25,
    "start_time": "2022-07-25T08:41:57.158Z"
   },
   {
    "duration": 10,
    "start_time": "2022-07-25T08:41:57.189Z"
   },
   {
    "duration": 32,
    "start_time": "2022-07-25T08:41:57.201Z"
   },
   {
    "duration": 137,
    "start_time": "2022-07-25T08:41:57.240Z"
   },
   {
    "duration": 195,
    "start_time": "2022-07-25T08:41:57.380Z"
   },
   {
    "duration": 66,
    "start_time": "2022-07-26T11:45:12.933Z"
   },
   {
    "duration": 41,
    "start_time": "2022-07-26T11:46:06.870Z"
   },
   {
    "duration": 1023,
    "start_time": "2022-07-26T11:46:11.012Z"
   },
   {
    "duration": 90,
    "start_time": "2022-07-26T11:46:12.038Z"
   },
   {
    "duration": 11,
    "start_time": "2022-07-26T11:46:12.130Z"
   },
   {
    "duration": 7,
    "start_time": "2022-07-26T11:46:12.719Z"
   },
   {
    "duration": 16,
    "start_time": "2022-07-26T11:46:13.323Z"
   },
   {
    "duration": 14,
    "start_time": "2022-07-26T11:46:13.835Z"
   },
   {
    "duration": 66,
    "start_time": "2022-07-26T11:47:58.630Z"
   },
   {
    "duration": 417,
    "start_time": "2022-07-26T11:48:20.141Z"
   },
   {
    "duration": 19,
    "start_time": "2022-07-26T11:48:23.434Z"
   },
   {
    "duration": 3,
    "start_time": "2022-07-26T11:48:35.394Z"
   },
   {
    "duration": 53,
    "start_time": "2022-07-26T11:48:37.329Z"
   },
   {
    "duration": 291,
    "start_time": "2022-07-26T11:48:39.609Z"
   },
   {
    "duration": 282,
    "start_time": "2022-07-26T11:48:56.554Z"
   },
   {
    "duration": 266,
    "start_time": "2022-07-26T11:49:10.673Z"
   },
   {
    "duration": 355,
    "start_time": "2022-07-26T11:49:20.753Z"
   },
   {
    "duration": 72,
    "start_time": "2022-07-26T11:52:54.589Z"
   },
   {
    "duration": 1364,
    "start_time": "2022-07-26T12:51:12.455Z"
   },
   {
    "duration": 37,
    "start_time": "2022-07-26T12:51:13.821Z"
   },
   {
    "duration": 10,
    "start_time": "2022-07-26T12:51:13.860Z"
   },
   {
    "duration": 9,
    "start_time": "2022-07-26T12:51:13.872Z"
   },
   {
    "duration": 11,
    "start_time": "2022-07-26T12:51:13.882Z"
   },
   {
    "duration": 306,
    "start_time": "2022-07-26T12:51:13.895Z"
   },
   {
    "duration": 3,
    "start_time": "2022-07-26T12:51:14.203Z"
   },
   {
    "duration": 11,
    "start_time": "2022-07-26T12:51:14.208Z"
   },
   {
    "duration": 54,
    "start_time": "2022-07-26T12:51:14.221Z"
   },
   {
    "duration": 91,
    "start_time": "2022-07-26T12:51:14.279Z"
   },
   {
    "duration": 97,
    "start_time": "2022-07-26T12:51:14.372Z"
   }
  ],
  "kernelspec": {
   "display_name": "Python 3 (ipykernel)",
   "language": "python",
   "name": "python3"
  },
  "language_info": {
   "codemirror_mode": {
    "name": "ipython",
    "version": 3
   },
   "file_extension": ".py",
   "mimetype": "text/x-python",
   "name": "python",
   "nbconvert_exporter": "python",
   "pygments_lexer": "ipython3",
   "version": "3.9.7"
  },
  "toc": {
   "base_numbering": 1,
   "nav_menu": {},
   "number_sections": false,
   "sideBar": true,
   "skip_h1_title": true,
   "title_cell": "Содержание",
   "title_sidebar": "Contents",
   "toc_cell": true,
   "toc_position": {
    "height": "calc(100% - 180px)",
    "left": "10px",
    "top": "150px",
    "width": "378.141px"
   },
   "toc_section_display": true,
   "toc_window_display": true
  }
 },
 "nbformat": 4,
 "nbformat_minor": 2
}
