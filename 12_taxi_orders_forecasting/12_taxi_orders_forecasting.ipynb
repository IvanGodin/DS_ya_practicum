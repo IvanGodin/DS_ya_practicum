{
 "cells": [
  {
   "cell_type": "markdown",
   "metadata": {
    "toc": true
   },
   "source": [
    "<h1>Содержание<span class=\"tocSkip\"></span></h1>\n",
    "<div class=\"toc\"><ul class=\"toc-item\"><li><span><a href=\"#Подготовка\" data-toc-modified-id=\"Подготовка-1\">Подготовка</a></span></li><li><span><a href=\"#Анализ\" data-toc-modified-id=\"Анализ-2\">Анализ</a></span><ul class=\"toc-item\"><li><span><a href=\"#Вывод\" data-toc-modified-id=\"Вывод-2.1\">Вывод</a></span></li></ul></li><li><span><a href=\"#Обучение\" data-toc-modified-id=\"Обучение-3\">Обучение</a></span><ul class=\"toc-item\"><li><span><a href=\"#LinearRegression\" data-toc-modified-id=\"LinearRegression-3.1\">LinearRegression</a></span></li><li><span><a href=\"#XGBRegressor\" data-toc-modified-id=\"XGBRegressor-3.2\">XGBRegressor</a></span></li><li><span><a href=\"#CatBoostRegressor\" data-toc-modified-id=\"CatBoostRegressor-3.3\">CatBoostRegressor</a></span></li></ul></li><li><span><a href=\"#Тестирование\" data-toc-modified-id=\"Тестирование-4\">Тестирование</a></span><ul class=\"toc-item\"><li><span><a href=\"#Вывод\" data-toc-modified-id=\"Вывод-4.1\">Вывод</a></span></li></ul></li></ul></div>"
   ]
  },
  {
   "cell_type": "markdown",
   "metadata": {},
   "source": [
    "#  Прогнозирование заказов такси"
   ]
  },
  {
   "cell_type": "markdown",
   "metadata": {},
   "source": [
    "Компания «Чётенькое такси» собрала исторические данные о заказах такси в аэропортах. Чтобы привлекать больше водителей в период пиковой нагрузки, нужно спрогнозировать количество заказов такси на следующий час. Постройте модель для такого предсказания.\n",
    "\n",
    "Значение метрики *RMSE* на тестовой выборке должно быть не больше 48.\n",
    "\n",
    "Вам нужно:\n",
    "\n",
    "1. Загрузить данные и выполнить их ресемплирование по одному часу.\n",
    "2. Проанализировать данные.\n",
    "3. Обучить разные модели с различными гиперпараметрами. Сделать тестовую выборку размером 10% от исходных данных.\n",
    "4. Проверить данные на тестовой выборке и сделать выводы.\n",
    "\n",
    "\n",
    "Данные лежат в файле `taxi.csv`. Количество заказов находится в столбце `num_orders` (от англ. *number of orders*, «число заказов»)."
   ]
  },
  {
   "cell_type": "markdown",
   "metadata": {},
   "source": [
    "## Подготовка"
   ]
  },
  {
   "cell_type": "code",
   "execution_count": 1,
   "metadata": {},
   "outputs": [],
   "source": [
    "import pandas as pd\n",
    "import matplotlib.pyplot as plt\n",
    "\n",
    "from statsmodels.tsa.seasonal import seasonal_decompose\n",
    "from sklearn.model_selection import train_test_split\n",
    "from sklearn.preprocessing import StandardScaler\n",
    "from sklearn.metrics import mean_squared_error\n",
    "\n",
    "from sklearn.linear_model import LinearRegression\n",
    "from xgboost import XGBRegressor\n",
    "from catboost import CatBoostRegressor"
   ]
  },
  {
   "cell_type": "code",
   "execution_count": 2,
   "metadata": {},
   "outputs": [],
   "source": [
    "df = pd.read_csv('https://code.s3.yandex.net/datasets/taxi.csv',index_col=[0], parse_dates=[0])"
   ]
  },
  {
   "cell_type": "code",
   "execution_count": 3,
   "metadata": {
    "scrolled": false
   },
   "outputs": [
    {
     "data": {
      "text/html": [
       "<div>\n",
       "<style scoped>\n",
       "    .dataframe tbody tr th:only-of-type {\n",
       "        vertical-align: middle;\n",
       "    }\n",
       "\n",
       "    .dataframe tbody tr th {\n",
       "        vertical-align: top;\n",
       "    }\n",
       "\n",
       "    .dataframe thead th {\n",
       "        text-align: right;\n",
       "    }\n",
       "</style>\n",
       "<table border=\"1\" class=\"dataframe\">\n",
       "  <thead>\n",
       "    <tr style=\"text-align: right;\">\n",
       "      <th></th>\n",
       "      <th>num_orders</th>\n",
       "    </tr>\n",
       "    <tr>\n",
       "      <th>datetime</th>\n",
       "      <th></th>\n",
       "    </tr>\n",
       "  </thead>\n",
       "  <tbody>\n",
       "    <tr>\n",
       "      <th>2018-03-01 00:00:00</th>\n",
       "      <td>9</td>\n",
       "    </tr>\n",
       "    <tr>\n",
       "      <th>2018-03-01 00:10:00</th>\n",
       "      <td>14</td>\n",
       "    </tr>\n",
       "    <tr>\n",
       "      <th>2018-03-01 00:20:00</th>\n",
       "      <td>28</td>\n",
       "    </tr>\n",
       "    <tr>\n",
       "      <th>2018-03-01 00:30:00</th>\n",
       "      <td>20</td>\n",
       "    </tr>\n",
       "    <tr>\n",
       "      <th>2018-03-01 00:40:00</th>\n",
       "      <td>32</td>\n",
       "    </tr>\n",
       "  </tbody>\n",
       "</table>\n",
       "</div>"
      ],
      "text/plain": [
       "                     num_orders\n",
       "datetime                       \n",
       "2018-03-01 00:00:00           9\n",
       "2018-03-01 00:10:00          14\n",
       "2018-03-01 00:20:00          28\n",
       "2018-03-01 00:30:00          20\n",
       "2018-03-01 00:40:00          32"
      ]
     },
     "execution_count": 3,
     "metadata": {},
     "output_type": "execute_result"
    }
   ],
   "source": [
    "df.head()"
   ]
  },
  {
   "cell_type": "code",
   "execution_count": 4,
   "metadata": {},
   "outputs": [
    {
     "name": "stdout",
     "output_type": "stream",
     "text": [
      "True\n"
     ]
    }
   ],
   "source": [
    "print(df.index.is_monotonic)"
   ]
  },
  {
   "cell_type": "code",
   "execution_count": 5,
   "metadata": {},
   "outputs": [],
   "source": [
    "df = df.resample('1H').sum()"
   ]
  },
  {
   "cell_type": "code",
   "execution_count": 6,
   "metadata": {
    "scrolled": true
   },
   "outputs": [
    {
     "name": "stdout",
     "output_type": "stream",
     "text": [
      "Временной промежуток данных: 2018-03-01 00:00:00 - 2018-08-31 23:00:00\n"
     ]
    }
   ],
   "source": [
    "print('Временной промежуток данных: {} - {}'.format(df.index.min(), df.index.max()))"
   ]
  },
  {
   "cell_type": "code",
   "execution_count": 7,
   "metadata": {},
   "outputs": [
    {
     "data": {
      "text/html": [
       "<div>\n",
       "<style scoped>\n",
       "    .dataframe tbody tr th:only-of-type {\n",
       "        vertical-align: middle;\n",
       "    }\n",
       "\n",
       "    .dataframe tbody tr th {\n",
       "        vertical-align: top;\n",
       "    }\n",
       "\n",
       "    .dataframe thead th {\n",
       "        text-align: right;\n",
       "    }\n",
       "</style>\n",
       "<table border=\"1\" class=\"dataframe\">\n",
       "  <thead>\n",
       "    <tr style=\"text-align: right;\">\n",
       "      <th></th>\n",
       "      <th>num_orders</th>\n",
       "    </tr>\n",
       "    <tr>\n",
       "      <th>datetime</th>\n",
       "      <th></th>\n",
       "    </tr>\n",
       "  </thead>\n",
       "  <tbody>\n",
       "    <tr>\n",
       "      <th>2018-03-01 00:00:00</th>\n",
       "      <td>124</td>\n",
       "    </tr>\n",
       "    <tr>\n",
       "      <th>2018-03-01 01:00:00</th>\n",
       "      <td>85</td>\n",
       "    </tr>\n",
       "    <tr>\n",
       "      <th>2018-03-01 02:00:00</th>\n",
       "      <td>71</td>\n",
       "    </tr>\n",
       "    <tr>\n",
       "      <th>2018-03-01 03:00:00</th>\n",
       "      <td>66</td>\n",
       "    </tr>\n",
       "    <tr>\n",
       "      <th>2018-03-01 04:00:00</th>\n",
       "      <td>43</td>\n",
       "    </tr>\n",
       "    <tr>\n",
       "      <th>...</th>\n",
       "      <td>...</td>\n",
       "    </tr>\n",
       "    <tr>\n",
       "      <th>2018-08-31 19:00:00</th>\n",
       "      <td>136</td>\n",
       "    </tr>\n",
       "    <tr>\n",
       "      <th>2018-08-31 20:00:00</th>\n",
       "      <td>154</td>\n",
       "    </tr>\n",
       "    <tr>\n",
       "      <th>2018-08-31 21:00:00</th>\n",
       "      <td>159</td>\n",
       "    </tr>\n",
       "    <tr>\n",
       "      <th>2018-08-31 22:00:00</th>\n",
       "      <td>223</td>\n",
       "    </tr>\n",
       "    <tr>\n",
       "      <th>2018-08-31 23:00:00</th>\n",
       "      <td>205</td>\n",
       "    </tr>\n",
       "  </tbody>\n",
       "</table>\n",
       "<p>4416 rows × 1 columns</p>\n",
       "</div>"
      ],
      "text/plain": [
       "                     num_orders\n",
       "datetime                       \n",
       "2018-03-01 00:00:00         124\n",
       "2018-03-01 01:00:00          85\n",
       "2018-03-01 02:00:00          71\n",
       "2018-03-01 03:00:00          66\n",
       "2018-03-01 04:00:00          43\n",
       "...                         ...\n",
       "2018-08-31 19:00:00         136\n",
       "2018-08-31 20:00:00         154\n",
       "2018-08-31 21:00:00         159\n",
       "2018-08-31 22:00:00         223\n",
       "2018-08-31 23:00:00         205\n",
       "\n",
       "[4416 rows x 1 columns]"
      ]
     },
     "execution_count": 7,
     "metadata": {},
     "output_type": "execute_result"
    }
   ],
   "source": [
    "df_mean = df\n",
    "df_mean"
   ]
  },
  {
   "cell_type": "code",
   "execution_count": 8,
   "metadata": {
    "scrolled": true
   },
   "outputs": [
    {
     "data": {
      "image/png": "[encoded data removed]",
      "text/plain": [
       "<Figure size 864x360 with 1 Axes>"
      ]
     },
     "metadata": {
      "needs_background": "light"
     },
     "output_type": "display_data"
    }
   ],
   "source": [
    "df['num_orders'].plot(figsize=(12,5));"
   ]
  },
  {
   "cell_type": "code",
   "execution_count": 9,
   "metadata": {},
   "outputs": [
    {
     "data": {
      "image/png": "[encoded data removed]",
      "text/plain": [
       "<Figure size 1440x360 with 1 Axes>"
      ]
     },
     "metadata": {
      "needs_background": "light"
     },
     "output_type": "display_data"
    }
   ],
   "source": [
    "df_1W = df['2018-05-1':'2018-05-3']\n",
    "df_1W.plot(figsize=(20,5));"
   ]
  },
  {
   "cell_type": "markdown",
   "metadata": {},
   "source": [
    "В наличии данные за промежуток 2018-03-01 - 2018-08-31.\n",
    "\n",
    "На всем отрезке времени количество заказов со временем увеличивается.\n",
    "\n",
    "При близком рассмотрении графика заказов в рамках 3-х дней видны максимумы в 00:00 часов и минимумы в 9:00 часов."
   ]
  },
  {
   "cell_type": "markdown",
   "metadata": {},
   "source": [
    "## Анализ"
   ]
  },
  {
   "cell_type": "code",
   "execution_count": 10,
   "metadata": {},
   "outputs": [],
   "source": [
    "decomposed = seasonal_decompose(df)"
   ]
  },
  {
   "cell_type": "code",
   "execution_count": 11,
   "metadata": {
    "scrolled": false
   },
   "outputs": [
    {
     "data": {
      "image/png": "[encoded data removed]",
      "text/plain": [
       "<Figure size 864x576 with 3 Axes>"
      ]
     },
     "metadata": {
      "needs_background": "light"
     },
     "output_type": "display_data"
    }
   ],
   "source": [
    "plt.figure(figsize=(12, 8))\n",
    "plt.subplot(311)\n",
    "\n",
    "decomposed.trend.plot(ax=plt.gca())\n",
    "plt.title('Тренд')\n",
    "plt.subplot(312)\n",
    "decomposed.seasonal.plot(ax=plt.gca())\n",
    "plt.title('Сезонность')\n",
    "plt.subplot(313)\n",
    "decomposed.resid.plot(ax=plt.gca())\n",
    "plt.title('Остатки')\n",
    "plt.tight_layout()"
   ]
  },
  {
   "cell_type": "markdown",
   "metadata": {},
   "source": [
    "На всех данных видно только что современем количество заказов увеличивается."
   ]
  },
  {
   "cell_type": "code",
   "execution_count": 12,
   "metadata": {
    "scrolled": false
   },
   "outputs": [
    {
     "data": {
      "image/png": "[encoded data removed]",
      "text/plain": [
       "<Figure size 864x576 with 3 Axes>"
      ]
     },
     "metadata": {
      "needs_background": "light"
     },
     "output_type": "display_data"
    }
   ],
   "source": [
    "plt.figure(figsize=(12, 8))\n",
    "plt.subplot(311)\n",
    "\n",
    "decomposed.trend['2018-03'].plot(ax=plt.gca())\n",
    "plt.title('Тренд')\n",
    "plt.subplot(312)\n",
    "decomposed.seasonal['2018-03'].plot(ax=plt.gca())\n",
    "plt.title('Сезонность')\n",
    "plt.subplot(313)\n",
    "decomposed.resid['2018-03'].plot(ax=plt.gca())\n",
    "plt.title('Остатки')\n",
    "plt.tight_layout()"
   ]
  },
  {
   "cell_type": "markdown",
   "metadata": {},
   "source": [
    "На месячных данных видна переодичность увеличения и уменьшения заказов."
   ]
  },
  {
   "cell_type": "code",
   "execution_count": 13,
   "metadata": {},
   "outputs": [
    {
     "data": {
      "image/png": "[encoded data removed]",
      "text/plain": [
       "<Figure size 864x576 with 3 Axes>"
      ]
     },
     "metadata": {
      "needs_background": "light"
     },
     "output_type": "display_data"
    }
   ],
   "source": [
    "plt.figure(figsize=(12, 8))\n",
    "plt.subplot(311)\n",
    "\n",
    "decomposed.trend['2018-03-5':'2018-03-11'].plot(ax=plt.gca())\n",
    "plt.title('Тренд')\n",
    "plt.subplot(312)\n",
    "decomposed.seasonal['2018-03-5':'2018-03-11'].plot(ax=plt.gca())\n",
    "plt.title('Сезонность')\n",
    "plt.subplot(313)\n",
    "decomposed.resid['2018-03-5':'2018-03-11'].plot(ax=plt.gca())\n",
    "plt.title('Остатки')\n",
    "plt.tight_layout()"
   ]
  },
  {
   "cell_type": "markdown",
   "metadata": {},
   "source": [
    "На недельных данных видно что есть закономерность от времени заказа."
   ]
  },
  {
   "cell_type": "code",
   "execution_count": 14,
   "metadata": {},
   "outputs": [
    {
     "data": {
      "image/png": "[encoded data removed]",
      "text/plain": [
       "<Figure size 864x576 with 3 Axes>"
      ]
     },
     "metadata": {
      "needs_background": "light"
     },
     "output_type": "display_data"
    }
   ],
   "source": [
    "plt.figure(figsize=(12, 8))\n",
    "plt.subplot(311)\n",
    "\n",
    "decomposed.trend['2018-03-5':'2018-03-7'].plot(ax=plt.gca())\n",
    "plt.title('Тренд')\n",
    "plt.subplot(312)\n",
    "decomposed.seasonal['2018-03-5':'2018-03-7'].plot(ax=plt.gca())\n",
    "plt.title('Сезонность')\n",
    "plt.subplot(313)\n",
    "decomposed.resid['2018-03-5':'2018-03-7'].plot(ax=plt.gca())\n",
    "plt.title('Остатки')\n",
    "plt.tight_layout()"
   ]
  },
  {
   "cell_type": "markdown",
   "metadata": {},
   "source": [
    "### Вывод\n",
    "О тренде:\n",
    "* по тем данным что имеются видно постепенное увеличение спроса на такси.\n",
    "* На месечном срезе видно что количество заказов от дня к дню переодически увеличивается и уменьшается, скорее всего это связано с рабочими и не рабочими днями.\n",
    "\n",
    "Сезонность:\n",
    "\n",
    "* присутствыет сезонность в течении дня, видно что пик приходится на 00:00 часов, а минимум на 06:00 часов.\n",
    "\n",
    "Остаток:\n",
    "\n",
    "* средние значения выглядят одинаков на всем отрезке данных.\n",
    "* Иногда бывают всплески возможно из-за праздников.\n"
   ]
  },
  {
   "cell_type": "markdown",
   "metadata": {},
   "source": [
    "## Обучение"
   ]
  },
  {
   "cell_type": "code",
   "execution_count": 15,
   "metadata": {},
   "outputs": [],
   "source": [
    "def make_features(df, max_lag, rolling_mean_size):\n",
    "    df['difference'] = abs(df['num_orders'] - df['num_orders'].shift())\n",
    "    df['month'] = df.index.month\n",
    "    df['day'] = df.index.day\n",
    "    df['dayofweek'] = df.index.dayofweek\n",
    "    df['hour'] = df.index.hour\n",
    "    \n",
    "    for i in range(1, max_lag + 1):\n",
    "        df['lag_' + str(i)] = df['num_orders'].shift(i)\n",
    "    df['rolling_mean'] = df['num_orders'].shift().rolling(rolling_mean_size).mean()\n",
    "    df['std'] = df['num_orders'].shift().rolling(rolling_mean_size).std()\n",
    "\n",
    "make_features(df, 10, 10)"
   ]
  },
  {
   "cell_type": "code",
   "execution_count": 16,
   "metadata": {},
   "outputs": [
    {
     "data": {
      "text/html": [
       "<div>\n",
       "<style scoped>\n",
       "    .dataframe tbody tr th:only-of-type {\n",
       "        vertical-align: middle;\n",
       "    }\n",
       "\n",
       "    .dataframe tbody tr th {\n",
       "        vertical-align: top;\n",
       "    }\n",
       "\n",
       "    .dataframe thead th {\n",
       "        text-align: right;\n",
       "    }\n",
       "</style>\n",
       "<table border=\"1\" class=\"dataframe\">\n",
       "  <thead>\n",
       "    <tr style=\"text-align: right;\">\n",
       "      <th></th>\n",
       "      <th>num_orders</th>\n",
       "      <th>difference</th>\n",
       "      <th>month</th>\n",
       "      <th>day</th>\n",
       "      <th>dayofweek</th>\n",
       "      <th>hour</th>\n",
       "      <th>lag_1</th>\n",
       "      <th>lag_2</th>\n",
       "      <th>lag_3</th>\n",
       "      <th>lag_4</th>\n",
       "      <th>lag_5</th>\n",
       "      <th>lag_6</th>\n",
       "      <th>lag_7</th>\n",
       "      <th>lag_8</th>\n",
       "      <th>lag_9</th>\n",
       "      <th>lag_10</th>\n",
       "      <th>rolling_mean</th>\n",
       "      <th>std</th>\n",
       "    </tr>\n",
       "    <tr>\n",
       "      <th>datetime</th>\n",
       "      <th></th>\n",
       "      <th></th>\n",
       "      <th></th>\n",
       "      <th></th>\n",
       "      <th></th>\n",
       "      <th></th>\n",
       "      <th></th>\n",
       "      <th></th>\n",
       "      <th></th>\n",
       "      <th></th>\n",
       "      <th></th>\n",
       "      <th></th>\n",
       "      <th></th>\n",
       "      <th></th>\n",
       "      <th></th>\n",
       "      <th></th>\n",
       "      <th></th>\n",
       "      <th></th>\n",
       "    </tr>\n",
       "  </thead>\n",
       "  <tbody>\n",
       "    <tr>\n",
       "      <th>2018-03-01 00:00:00</th>\n",
       "      <td>124</td>\n",
       "      <td>NaN</td>\n",
       "      <td>3</td>\n",
       "      <td>1</td>\n",
       "      <td>3</td>\n",
       "      <td>0</td>\n",
       "      <td>NaN</td>\n",
       "      <td>NaN</td>\n",
       "      <td>NaN</td>\n",
       "      <td>NaN</td>\n",
       "      <td>NaN</td>\n",
       "      <td>NaN</td>\n",
       "      <td>NaN</td>\n",
       "      <td>NaN</td>\n",
       "      <td>NaN</td>\n",
       "      <td>NaN</td>\n",
       "      <td>NaN</td>\n",
       "      <td>NaN</td>\n",
       "    </tr>\n",
       "    <tr>\n",
       "      <th>2018-03-01 01:00:00</th>\n",
       "      <td>85</td>\n",
       "      <td>39.0</td>\n",
       "      <td>3</td>\n",
       "      <td>1</td>\n",
       "      <td>3</td>\n",
       "      <td>1</td>\n",
       "      <td>124.0</td>\n",
       "      <td>NaN</td>\n",
       "      <td>NaN</td>\n",
       "      <td>NaN</td>\n",
       "      <td>NaN</td>\n",
       "      <td>NaN</td>\n",
       "      <td>NaN</td>\n",
       "      <td>NaN</td>\n",
       "      <td>NaN</td>\n",
       "      <td>NaN</td>\n",
       "      <td>NaN</td>\n",
       "      <td>NaN</td>\n",
       "    </tr>\n",
       "    <tr>\n",
       "      <th>2018-03-01 02:00:00</th>\n",
       "      <td>71</td>\n",
       "      <td>14.0</td>\n",
       "      <td>3</td>\n",
       "      <td>1</td>\n",
       "      <td>3</td>\n",
       "      <td>2</td>\n",
       "      <td>85.0</td>\n",
       "      <td>124.0</td>\n",
       "      <td>NaN</td>\n",
       "      <td>NaN</td>\n",
       "      <td>NaN</td>\n",
       "      <td>NaN</td>\n",
       "      <td>NaN</td>\n",
       "      <td>NaN</td>\n",
       "      <td>NaN</td>\n",
       "      <td>NaN</td>\n",
       "      <td>NaN</td>\n",
       "      <td>NaN</td>\n",
       "    </tr>\n",
       "    <tr>\n",
       "      <th>2018-03-01 03:00:00</th>\n",
       "      <td>66</td>\n",
       "      <td>5.0</td>\n",
       "      <td>3</td>\n",
       "      <td>1</td>\n",
       "      <td>3</td>\n",
       "      <td>3</td>\n",
       "      <td>71.0</td>\n",
       "      <td>85.0</td>\n",
       "      <td>124.0</td>\n",
       "      <td>NaN</td>\n",
       "      <td>NaN</td>\n",
       "      <td>NaN</td>\n",
       "      <td>NaN</td>\n",
       "      <td>NaN</td>\n",
       "      <td>NaN</td>\n",
       "      <td>NaN</td>\n",
       "      <td>NaN</td>\n",
       "      <td>NaN</td>\n",
       "    </tr>\n",
       "    <tr>\n",
       "      <th>2018-03-01 04:00:00</th>\n",
       "      <td>43</td>\n",
       "      <td>23.0</td>\n",
       "      <td>3</td>\n",
       "      <td>1</td>\n",
       "      <td>3</td>\n",
       "      <td>4</td>\n",
       "      <td>66.0</td>\n",
       "      <td>71.0</td>\n",
       "      <td>85.0</td>\n",
       "      <td>124.0</td>\n",
       "      <td>NaN</td>\n",
       "      <td>NaN</td>\n",
       "      <td>NaN</td>\n",
       "      <td>NaN</td>\n",
       "      <td>NaN</td>\n",
       "      <td>NaN</td>\n",
       "      <td>NaN</td>\n",
       "      <td>NaN</td>\n",
       "    </tr>\n",
       "  </tbody>\n",
       "</table>\n",
       "</div>"
      ],
      "text/plain": [
       "                     num_orders  difference  month  day  dayofweek  hour  \\\n",
       "datetime                                                                   \n",
       "2018-03-01 00:00:00         124         NaN      3    1          3     0   \n",
       "2018-03-01 01:00:00          85        39.0      3    1          3     1   \n",
       "2018-03-01 02:00:00          71        14.0      3    1          3     2   \n",
       "2018-03-01 03:00:00          66         5.0      3    1          3     3   \n",
       "2018-03-01 04:00:00          43        23.0      3    1          3     4   \n",
       "\n",
       "                     lag_1  lag_2  lag_3  lag_4  lag_5  lag_6  lag_7  lag_8  \\\n",
       "datetime                                                                      \n",
       "2018-03-01 00:00:00    NaN    NaN    NaN    NaN    NaN    NaN    NaN    NaN   \n",
       "2018-03-01 01:00:00  124.0    NaN    NaN    NaN    NaN    NaN    NaN    NaN   \n",
       "2018-03-01 02:00:00   85.0  124.0    NaN    NaN    NaN    NaN    NaN    NaN   \n",
       "2018-03-01 03:00:00   71.0   85.0  124.0    NaN    NaN    NaN    NaN    NaN   \n",
       "2018-03-01 04:00:00   66.0   71.0   85.0  124.0    NaN    NaN    NaN    NaN   \n",
       "\n",
       "                     lag_9  lag_10  rolling_mean  std  \n",
       "datetime                                               \n",
       "2018-03-01 00:00:00    NaN     NaN           NaN  NaN  \n",
       "2018-03-01 01:00:00    NaN     NaN           NaN  NaN  \n",
       "2018-03-01 02:00:00    NaN     NaN           NaN  NaN  \n",
       "2018-03-01 03:00:00    NaN     NaN           NaN  NaN  \n",
       "2018-03-01 04:00:00    NaN     NaN           NaN  NaN  "
      ]
     },
     "execution_count": 16,
     "metadata": {},
     "output_type": "execute_result"
    }
   ],
   "source": [
    "df.head()"
   ]
  },
  {
   "cell_type": "code",
   "execution_count": 17,
   "metadata": {},
   "outputs": [
    {
     "data": {
      "text/plain": [
       "(4416, 18)"
      ]
     },
     "execution_count": 17,
     "metadata": {},
     "output_type": "execute_result"
    }
   ],
   "source": [
    "df.shape"
   ]
  },
  {
   "cell_type": "code",
   "execution_count": 18,
   "metadata": {},
   "outputs": [],
   "source": [
    "train, test = train_test_split(df, shuffle=False, test_size=0.1)\n",
    "train, valid = train_test_split(train, shuffle=False, test_size=0.1)\n",
    "train = train.dropna()"
   ]
  },
  {
   "cell_type": "code",
   "execution_count": 19,
   "metadata": {},
   "outputs": [
    {
     "data": {
      "text/plain": [
       "((3566, 18), (398, 18), (442, 18))"
      ]
     },
     "execution_count": 19,
     "metadata": {},
     "output_type": "execute_result"
    }
   ],
   "source": [
    "train.shape, valid.shape, test.shape"
   ]
  },
  {
   "cell_type": "code",
   "execution_count": 20,
   "metadata": {},
   "outputs": [],
   "source": [
    "train_features = train.drop(['num_orders'], axis=1)\n",
    "valid_features = valid.drop(['num_orders'], axis=1)\n",
    "test_features = test.drop(['num_orders'], axis=1)\n",
    "\n",
    "train_target = train['num_orders']\n",
    "valid_target = valid['num_orders']\n",
    "test_target = test['num_orders']"
   ]
  },
  {
   "cell_type": "code",
   "execution_count": 21,
   "metadata": {},
   "outputs": [],
   "source": [
    "#scaler = StandardScaler()\n",
    "#scaler.fit(train_features)\n",
    "\n",
    "#train_features = scaler.transform(train_features)\n",
    "#valid_features = scaler.transform(valid_features)\n",
    "#test_features = scaler.transform(test_features)"
   ]
  },
  {
   "cell_type": "code",
   "execution_count": 22,
   "metadata": {},
   "outputs": [],
   "source": [
    "def RMSE(target, predict):\n",
    "    RMSE = mean_squared_error(target, predict) ** 0.5\n",
    "    return RMSE"
   ]
  },
  {
   "cell_type": "markdown",
   "metadata": {},
   "source": [
    "### LinearRegression"
   ]
  },
  {
   "cell_type": "code",
   "execution_count": 23,
   "metadata": {},
   "outputs": [
    {
     "name": "stdout",
     "output_type": "stream",
     "text": [
      "RMSE на валидационной выборке:  40.28\n"
     ]
    }
   ],
   "source": [
    "LinearReg_model = LinearRegression().fit(train_features, train_target)\n",
    "\n",
    "predictions = LinearReg_model.predict(valid_features)\n",
    "\n",
    "print('RMSE на валидационной выборке: ', RMSE(valid_target, predictions).round(2))"
   ]
  },
  {
   "cell_type": "markdown",
   "metadata": {},
   "source": [
    "### XGBRegressor"
   ]
  },
  {
   "cell_type": "code",
   "execution_count": 24,
   "metadata": {},
   "outputs": [],
   "source": [
    "param_grid = {'max_depth': [2, 4, 6],\n",
    "              'n_estimators': [50, 100, 200],\n",
    "              'learning_rate': [0.1, 0.3, 0.5]}"
   ]
  },
  {
   "cell_type": "code",
   "execution_count": 25,
   "metadata": {
    "scrolled": false
   },
   "outputs": [
    {
     "name": "stdout",
     "output_type": "stream",
     "text": [
      "max_depth = 2 , learning_rate = 50, iterations = 0.1, RMSE на валидационной выборке: 37.04\n",
      "max_depth = 2 , learning_rate = 50, iterations = 0.3, RMSE на валидационной выборке: 31.6\n",
      "max_depth = 2 , learning_rate = 50, iterations = 0.5, RMSE на валидационной выборке: 31.84\n",
      "max_depth = 2 , learning_rate = 100, iterations = 0.1, RMSE на валидационной выборке: 33.72\n",
      "max_depth = 2 , learning_rate = 100, iterations = 0.3, RMSE на валидационной выборке: 30.73\n",
      "max_depth = 2 , learning_rate = 100, iterations = 0.5, RMSE на валидационной выборке: 31.88\n",
      "max_depth = 2 , learning_rate = 200, iterations = 0.1, RMSE на валидационной выборке: 31.62\n",
      "max_depth = 2 , learning_rate = 200, iterations = 0.3, RMSE на валидационной выборке: 30.55\n",
      "max_depth = 2 , learning_rate = 200, iterations = 0.5, RMSE на валидационной выборке: 31.71\n",
      "max_depth = 4 , learning_rate = 50, iterations = 0.1, RMSE на валидационной выборке: 31.17\n",
      "max_depth = 4 , learning_rate = 50, iterations = 0.3, RMSE на валидационной выборке: 30.28\n",
      "max_depth = 4 , learning_rate = 50, iterations = 0.5, RMSE на валидационной выборке: 30.52\n",
      "max_depth = 4 , learning_rate = 100, iterations = 0.1, RMSE на валидационной выборке: 29.44\n",
      "max_depth = 4 , learning_rate = 100, iterations = 0.3, RMSE на валидационной выборке: 30.11\n",
      "max_depth = 4 , learning_rate = 100, iterations = 0.5, RMSE на валидационной выборке: 30.8\n",
      "max_depth = 4 , learning_rate = 200, iterations = 0.1, RMSE на валидационной выборке: 28.94\n",
      "max_depth = 4 , learning_rate = 200, iterations = 0.3, RMSE на валидационной выборке: 30.28\n",
      "max_depth = 4 , learning_rate = 200, iterations = 0.5, RMSE на валидационной выборке: 31.31\n",
      "max_depth = 6 , learning_rate = 50, iterations = 0.1, RMSE на валидационной выборке: 28.41\n",
      "max_depth = 6 , learning_rate = 50, iterations = 0.3, RMSE на валидационной выборке: 29.39\n",
      "max_depth = 6 , learning_rate = 50, iterations = 0.5, RMSE на валидационной выборке: 32.12\n",
      "max_depth = 6 , learning_rate = 100, iterations = 0.1, RMSE на валидационной выборке: 27.24\n",
      "max_depth = 6 , learning_rate = 100, iterations = 0.3, RMSE на валидационной выборке: 29.52\n",
      "max_depth = 6 , learning_rate = 100, iterations = 0.5, RMSE на валидационной выборке: 32.24\n",
      "max_depth = 6 , learning_rate = 200, iterations = 0.1, RMSE на валидационной выборке: 27.12\n",
      "max_depth = 6 , learning_rate = 200, iterations = 0.3, RMSE на валидационной выборке: 29.42\n",
      "max_depth = 6 , learning_rate = 200, iterations = 0.5, RMSE на валидационной выборке: 32.25\n",
      "Лучшие гиперпараметры: max_depth = 6 , n_estimators = 200, learning_rate = 0.1, RMSE на валидационной выборке: 27.12\n",
      "Wall time: 10.4 s\n"
     ]
    }
   ],
   "source": [
    "%%time\n",
    "state = 50\n",
    "a = 0\n",
    "b = 0\n",
    "c = 0\n",
    "for i in param_grid['max_depth']:\n",
    "    for j in param_grid['n_estimators']:\n",
    "        for g in param_grid['learning_rate']:\n",
    "            XGBRegressor_model = XGBRegressor(n_jobs=-1, verbosity=0, random_state=12345, \n",
    "                                              shuffle=False, max_depth=i, n_estimators=j, learning_rate=g)\n",
    "            XGBRegressor_model.fit(train_features, train_target)\n",
    "            predictions = XGBRegressor_model.predict(valid_features)\n",
    "            print('max_depth = {} , learning_rate = {}, iterations = {}, RMSE на валидационной выборке: {}'\n",
    "                  .format(i, j, g, RMSE(valid_target, predictions).round(2)))\n",
    "            if RMSE(valid_target, predictions).round(2) < state:\n",
    "                state = RMSE(valid_target, predictions).round(2)\n",
    "                a = i\n",
    "                b = j\n",
    "                c = g\n",
    "print('Лучшие гиперпараметры:','max_depth = {} , n_estimators = {}, learning_rate = {}, RMSE на валидационной выборке: {}'\n",
    "                  .format(a, b, c, state))                "
   ]
  },
  {
   "cell_type": "code",
   "execution_count": 26,
   "metadata": {},
   "outputs": [],
   "source": [
    "XGBRegressor_model = XGBRegressor(n_jobs=-1, verbosity=0, random_state=12345, max_depth = a , \n",
    "                                  n_estimators = b, learning_rate = c)"
   ]
  },
  {
   "cell_type": "code",
   "execution_count": 27,
   "metadata": {},
   "outputs": [
    {
     "name": "stdout",
     "output_type": "stream",
     "text": [
      "RMSE на валидационной выборке:  27.12\n",
      "Wall time: 930 ms\n"
     ]
    }
   ],
   "source": [
    "%%time\n",
    "XGBRegressor_model.fit(train_features, train_target)\n",
    "predictions = XGBRegressor_model.predict(valid_features)\n",
    "print('RMSE на валидационной выборке: ', RMSE(valid_target, predictions).round(2))"
   ]
  },
  {
   "cell_type": "markdown",
   "metadata": {},
   "source": [
    "### CatBoostRegressor"
   ]
  },
  {
   "cell_type": "code",
   "execution_count": 28,
   "metadata": {},
   "outputs": [],
   "source": [
    "CatBoost_model = CatBoostRegressor(random_state=12345)"
   ]
  },
  {
   "cell_type": "code",
   "execution_count": 29,
   "metadata": {},
   "outputs": [],
   "source": [
    "param_grid = {'max_depth': [2, 4, 6],\n",
    "              'learning_rate': [0.1, 0.3, 0.5],\n",
    "              'iterations': [50, 100, 200]}"
   ]
  },
  {
   "cell_type": "code",
   "execution_count": 30,
   "metadata": {},
   "outputs": [
    {
     "name": "stdout",
     "output_type": "stream",
     "text": [
      "0:\tlearn: 34.9961270\ttotal: 163ms\tremaining: 7.99s\n",
      "49:\tlearn: 22.7359575\ttotal: 219ms\tremaining: 0us\n",
      "max_depth = 2 , learning_rate = 0.1, iterations = 50, RMSE на валидационной выборке: 38.93\n",
      "0:\tlearn: 34.9961270\ttotal: 1.31ms\tremaining: 129ms\n",
      "99:\tlearn: 20.7416775\ttotal: 113ms\tremaining: 0us\n",
      "max_depth = 2 , learning_rate = 0.1, iterations = 100, RMSE на валидационной выборке: 34.63\n",
      "0:\tlearn: 34.9961270\ttotal: 1.29ms\tremaining: 256ms\n",
      "100:\tlearn: 20.7195353\ttotal: 113ms\tremaining: 111ms\n",
      "199:\tlearn: 18.7818839\ttotal: 228ms\tremaining: 0us\n",
      "max_depth = 2 , learning_rate = 0.1, iterations = 200, RMSE на валидационной выборке: 32.23\n",
      "0:\tlearn: 33.2880580\ttotal: 1.26ms\tremaining: 61.9ms\n",
      "49:\tlearn: 19.8979920\ttotal: 54.2ms\tremaining: 0us\n",
      "max_depth = 2 , learning_rate = 0.3, iterations = 50, RMSE на валидационной выборке: 33.19\n",
      "0:\tlearn: 33.2880580\ttotal: 1.3ms\tremaining: 129ms\n",
      "99:\tlearn: 17.9676134\ttotal: 108ms\tremaining: 0us\n",
      "max_depth = 2 , learning_rate = 0.3, iterations = 100, RMSE на валидационной выборке: 31.28\n",
      "0:\tlearn: 33.2880580\ttotal: 1.16ms\tremaining: 231ms\n",
      "100:\tlearn: 17.9551048\ttotal: 109ms\tremaining: 107ms\n",
      "199:\tlearn: 16.1357708\ttotal: 231ms\tremaining: 0us\n",
      "max_depth = 2 , learning_rate = 0.3, iterations = 200, RMSE на валидационной выборке: 30.13\n",
      "0:\tlearn: 31.9442850\ttotal: 1.21ms\tremaining: 59.1ms\n",
      "49:\tlearn: 18.3786316\ttotal: 66.3ms\tremaining: 0us\n",
      "max_depth = 2 , learning_rate = 0.5, iterations = 50, RMSE на валидационной выборке: 31.82\n",
      "0:\tlearn: 31.9442850\ttotal: 1.27ms\tremaining: 126ms\n",
      "99:\tlearn: 16.2458276\ttotal: 117ms\tremaining: 0us\n",
      "max_depth = 2 , learning_rate = 0.5, iterations = 100, RMSE на валидационной выборке: 30.56\n",
      "0:\tlearn: 31.9442850\ttotal: 1.18ms\tremaining: 234ms\n",
      "100:\tlearn: 16.2167387\ttotal: 121ms\tremaining: 118ms\n",
      "199:\tlearn: 14.6990999\ttotal: 231ms\tremaining: 0us\n",
      "max_depth = 2 , learning_rate = 0.5, iterations = 200, RMSE на валидационной выборке: 29.9\n",
      "0:\tlearn: 34.5839986\ttotal: 31.4ms\tremaining: 1.54s\n",
      "49:\tlearn: 19.0197109\ttotal: 115ms\tremaining: 0us\n",
      "max_depth = 4 , learning_rate = 0.1, iterations = 50, RMSE на валидационной выборке: 34.9\n",
      "0:\tlearn: 34.5839986\ttotal: 48.6ms\tremaining: 4.81s\n",
      "99:\tlearn: 16.8265354\ttotal: 233ms\tremaining: 0us\n",
      "max_depth = 4 , learning_rate = 0.1, iterations = 100, RMSE на валидационной выборке: 31.85\n",
      "0:\tlearn: 34.5839986\ttotal: 21.2ms\tremaining: 4.21s\n",
      "100:\tlearn: 16.8068756\ttotal: 204ms\tremaining: 200ms\n",
      "199:\tlearn: 14.5823714\ttotal: 370ms\tremaining: 0us\n",
      "max_depth = 4 , learning_rate = 0.1, iterations = 200, RMSE на валидационной выборке: 29.93\n",
      "0:\tlearn: 32.1028129\ttotal: 7.21ms\tremaining: 353ms\n",
      "49:\tlearn: 15.8550488\ttotal: 90.8ms\tremaining: 0us\n",
      "max_depth = 4 , learning_rate = 0.3, iterations = 50, RMSE на валидационной выборке: 30.65\n",
      "0:\tlearn: 32.1028129\ttotal: 33.7ms\tremaining: 3.33s\n",
      "99:\tlearn: 13.4278398\ttotal: 212ms\tremaining: 0us\n",
      "max_depth = 4 , learning_rate = 0.3, iterations = 100, RMSE на валидационной выборке: 29.14\n",
      "0:\tlearn: 32.1028129\ttotal: 6.61ms\tremaining: 1.31s\n",
      "100:\tlearn: 13.4033319\ttotal: 185ms\tremaining: 181ms\n",
      "199:\tlearn: 11.2140611\ttotal: 365ms\tremaining: 0us\n",
      "max_depth = 4 , learning_rate = 0.3, iterations = 200, RMSE на валидационной выборке: 29.0\n",
      "0:\tlearn: 30.0910240\ttotal: 46.7ms\tremaining: 2.29s\n",
      "49:\tlearn: 14.6488570\ttotal: 130ms\tremaining: 0us\n",
      "max_depth = 4 , learning_rate = 0.5, iterations = 50, RMSE на валидационной выборке: 31.27\n",
      "0:\tlearn: 30.0910240\ttotal: 19.2ms\tremaining: 1.9s\n",
      "99:\tlearn: 12.0535652\ttotal: 193ms\tremaining: 0us\n",
      "max_depth = 4 , learning_rate = 0.5, iterations = 100, RMSE на валидационной выборке: 30.77\n",
      "0:\tlearn: 30.0910240\ttotal: 31ms\tremaining: 6.17s\n",
      "100:\tlearn: 12.0270976\ttotal: 220ms\tremaining: 216ms\n",
      "199:\tlearn: 9.4593995\ttotal: 394ms\tremaining: 0us\n",
      "max_depth = 4 , learning_rate = 0.5, iterations = 200, RMSE на валидационной выборке: 31.04\n",
      "0:\tlearn: 34.4162761\ttotal: 43.4ms\tremaining: 2.13s\n",
      "49:\tlearn: 17.2352238\ttotal: 169ms\tremaining: 0us\n",
      "max_depth = 6 , learning_rate = 0.1, iterations = 50, RMSE на валидационной выборке: 33.31\n",
      "0:\tlearn: 34.4162761\ttotal: 19.8ms\tremaining: 1.96s\n",
      "99:\tlearn: 14.9927362\ttotal: 280ms\tremaining: 0us\n",
      "max_depth = 6 , learning_rate = 0.1, iterations = 100, RMSE на валидационной выборке: 30.84\n",
      "0:\tlearn: 34.4162761\ttotal: 48.4ms\tremaining: 9.64s\n",
      "100:\tlearn: 14.9673621\ttotal: 332ms\tremaining: 326ms\n",
      "199:\tlearn: 12.4782084\ttotal: 579ms\tremaining: 0us\n",
      "max_depth = 6 , learning_rate = 0.1, iterations = 200, RMSE на валидационной выборке: 29.31\n",
      "0:\tlearn: 31.6006228\ttotal: 43.2ms\tremaining: 2.12s\n",
      "49:\tlearn: 13.7350689\ttotal: 172ms\tremaining: 0us\n",
      "max_depth = 6 , learning_rate = 0.3, iterations = 50, RMSE на валидационной выборке: 30.93\n",
      "0:\tlearn: 31.6006228\ttotal: 34.9ms\tremaining: 3.46s\n",
      "99:\tlearn: 10.6223294\ttotal: 310ms\tremaining: 0us\n",
      "max_depth = 6 , learning_rate = 0.3, iterations = 100, RMSE на валидационной выборке: 30.07\n",
      "0:\tlearn: 31.6006228\ttotal: 51.5ms\tremaining: 10.3s\n",
      "100:\tlearn: 10.5507355\ttotal: 325ms\tremaining: 319ms\n",
      "199:\tlearn: 7.5862782\ttotal: 594ms\tremaining: 0us\n",
      "max_depth = 6 , learning_rate = 0.3, iterations = 200, RMSE на валидационной выборке: 29.86\n",
      "0:\tlearn: 29.2693827\ttotal: 47.1ms\tremaining: 2.31s\n",
      "49:\tlearn: 12.1098536\ttotal: 186ms\tremaining: 0us\n",
      "max_depth = 6 , learning_rate = 0.5, iterations = 50, RMSE на валидационной выборке: 31.66\n",
      "0:\tlearn: 29.2693827\ttotal: 25.4ms\tremaining: 2.52s\n",
      "99:\tlearn: 8.9710717\ttotal: 302ms\tremaining: 0us\n",
      "max_depth = 6 , learning_rate = 0.5, iterations = 100, RMSE на валидационной выборке: 30.86\n",
      "0:\tlearn: 29.2693827\ttotal: 63.2ms\tremaining: 12.6s\n",
      "100:\tlearn: 8.9568042\ttotal: 333ms\tremaining: 327ms\n",
      "199:\tlearn: 5.4679016\ttotal: 583ms\tremaining: 0us\n",
      "max_depth = 6 , learning_rate = 0.5, iterations = 200, RMSE на валидационной выборке: 31.38\n",
      "Лучшие гиперпараметры: max_depth = 4 , learning_rate = 0.3, iterations = 200, RMSE на валидационной выборке: 29.0\n",
      "Wall time: 8.44 s\n"
     ]
    }
   ],
   "source": [
    "%%time\n",
    "state = 50\n",
    "a = 0\n",
    "b = 0\n",
    "c = 0\n",
    "for i in param_grid['max_depth']:\n",
    "    for j in param_grid['learning_rate']:\n",
    "        for g in param_grid['iterations']:\n",
    "            CatBoost_model = CatBoostRegressor(random_state=12345, max_depth=i, learning_rate=j, iterations=g)\n",
    "            CatBoost_model.fit(train_features, train_target, verbose=100)\n",
    "            predictions = CatBoost_model.predict(valid_features)\n",
    "            print('max_depth = {} , learning_rate = {}, iterations = {}, RMSE на валидационной выборке: {}'\n",
    "                  .format(i, j, g, RMSE(valid_target, predictions).round(2)))\n",
    "            if RMSE(valid_target, predictions).round(2) < state:\n",
    "                state = RMSE(valid_target, predictions).round(2)\n",
    "                a = i\n",
    "                b = j\n",
    "                c = g\n",
    "print('Лучшие гиперпараметры:','max_depth = {} , learning_rate = {}, iterations = {}, RMSE на валидационной выборке: {}'\n",
    "                  .format(a, b, c, state))             "
   ]
  },
  {
   "cell_type": "code",
   "execution_count": 31,
   "metadata": {},
   "outputs": [],
   "source": [
    "CatBoost_model = CatBoostRegressor(random_state=12345, max_depth = a , learning_rate = b, iterations = c)"
   ]
  },
  {
   "cell_type": "code",
   "execution_count": 32,
   "metadata": {},
   "outputs": [
    {
     "name": "stdout",
     "output_type": "stream",
     "text": [
      "0:\tlearn: 32.1028129\ttotal: 29.4ms\tremaining: 5.84s\n",
      "10:\tlearn: 21.2333276\ttotal: 45.3ms\tremaining: 778ms\n",
      "20:\tlearn: 19.0415625\ttotal: 62.7ms\tremaining: 534ms\n",
      "30:\tlearn: 17.4093315\ttotal: 79.3ms\tremaining: 433ms\n",
      "40:\tlearn: 16.4026166\ttotal: 96ms\tremaining: 372ms\n",
      "50:\tlearn: 15.8209848\ttotal: 125ms\tremaining: 366ms\n",
      "60:\tlearn: 15.1826661\ttotal: 141ms\tremaining: 322ms\n",
      "70:\tlearn: 14.5801018\ttotal: 158ms\tremaining: 287ms\n",
      "80:\tlearn: 14.1816899\ttotal: 174ms\tremaining: 256ms\n",
      "90:\tlearn: 13.7997685\ttotal: 191ms\tremaining: 229ms\n",
      "100:\tlearn: 13.4033319\ttotal: 208ms\tremaining: 204ms\n",
      "110:\tlearn: 13.1352162\ttotal: 226ms\tremaining: 181ms\n",
      "120:\tlearn: 12.8935908\ttotal: 243ms\tremaining: 159ms\n",
      "130:\tlearn: 12.6758959\ttotal: 260ms\tremaining: 137ms\n",
      "140:\tlearn: 12.4399545\ttotal: 277ms\tremaining: 116ms\n",
      "150:\tlearn: 12.2175107\ttotal: 303ms\tremaining: 98.3ms\n",
      "160:\tlearn: 11.9379215\ttotal: 322ms\tremaining: 78ms\n",
      "170:\tlearn: 11.7567659\ttotal: 340ms\tremaining: 57.7ms\n",
      "180:\tlearn: 11.5461393\ttotal: 357ms\tremaining: 37.4ms\n",
      "190:\tlearn: 11.3578098\ttotal: 374ms\tremaining: 17.6ms\n",
      "199:\tlearn: 11.2140611\ttotal: 390ms\tremaining: 0us\n",
      "Wall time: 463 ms\n"
     ]
    },
    {
     "data": {
      "text/plain": [
       "<catboost.core.CatBoostRegressor at 0x2720e4a56a0>"
      ]
     },
     "execution_count": 32,
     "metadata": {},
     "output_type": "execute_result"
    }
   ],
   "source": [
    "%%time\n",
    "CatBoost_model.fit(train_features, train_target, verbose=10)"
   ]
  },
  {
   "cell_type": "markdown",
   "metadata": {},
   "source": [
    "## Тестирование"
   ]
  },
  {
   "cell_type": "code",
   "execution_count": 33,
   "metadata": {},
   "outputs": [
    {
     "name": "stdout",
     "output_type": "stream",
     "text": [
      "RMSE на тестовой выборке:  54.32\n",
      "Wall time: 2.88 ms\n"
     ]
    }
   ],
   "source": [
    "%%time\n",
    "predictions = LinearReg_model.predict(test_features)\n",
    "print('RMSE на тестовой выборке: ', RMSE(test_target, predictions).round(2))"
   ]
  },
  {
   "cell_type": "code",
   "execution_count": 34,
   "metadata": {},
   "outputs": [
    {
     "name": "stdout",
     "output_type": "stream",
     "text": [
      "RMSE на тестовой выборке:  46.0\n",
      "Wall time: 4.8 ms\n"
     ]
    }
   ],
   "source": [
    "%%time\n",
    "predictions = XGBRegressor_model.predict(test_features)\n",
    "print('RMSE на тестовой выборке: ', RMSE(test_target, predictions).round(2))"
   ]
  },
  {
   "cell_type": "code",
   "execution_count": 35,
   "metadata": {},
   "outputs": [
    {
     "name": "stdout",
     "output_type": "stream",
     "text": [
      "RMSE на тестовой выборке:  45.76\n",
      "Wall time: 5.76 ms\n"
     ]
    }
   ],
   "source": [
    "%%time\n",
    "predictions = CatBoost_model.predict(test_features)\n",
    "print('RMSE на тестовой выборке: ', RMSE(test_target, predictions).round(2))"
   ]
  },
  {
   "cell_type": "markdown",
   "metadata": {},
   "source": [
    "### Вывод\n",
    "\n",
    "* LinearRegression не прошла по RMSE показав результат 54.32 на тестовой выборке.\n",
    "* XGBRegressor и CatBoostRegressor показали почти раыние результаты 46.0 и 45.76.\n",
    "* Лучшей моделью в данной ситуации стала CatBoostRegressor так как она быстрее обучается и предсказывает чем XGBRegressor"
   ]
  }
 ],
 "metadata": {
  "ExecuteTimeLog": [
   {
    "duration": 63,
    "start_time": "2022-08-24T16:33:29.384Z"
   },
   {
    "duration": 361,
    "start_time": "2022-08-24T16:33:42.152Z"
   },
   {
    "duration": 3,
    "start_time": "2022-08-24T16:33:45.942Z"
   },
   {
    "duration": 97,
    "start_time": "2022-08-24T16:33:46.971Z"
   },
   {
    "duration": 15,
    "start_time": "2022-08-24T16:33:57.819Z"
   },
   {
    "duration": 35,
    "start_time": "2022-08-24T16:36:23.389Z"
   },
   {
    "duration": 10,
    "start_time": "2022-08-24T16:36:52.422Z"
   },
   {
    "duration": 85,
    "start_time": "2022-08-24T16:37:24.270Z"
   },
   {
    "duration": 7,
    "start_time": "2022-08-24T16:37:24.817Z"
   },
   {
    "duration": 13,
    "start_time": "2022-08-24T16:37:26.326Z"
   },
   {
    "duration": 9,
    "start_time": "2022-08-24T16:37:46.626Z"
   },
   {
    "duration": 7,
    "start_time": "2022-08-24T16:38:07.113Z"
   },
   {
    "duration": 4,
    "start_time": "2022-08-24T16:38:11.113Z"
   },
   {
    "duration": 10,
    "start_time": "2022-08-24T16:38:29.021Z"
   },
   {
    "duration": 10,
    "start_time": "2022-08-24T16:38:35.508Z"
   },
   {
    "duration": 126,
    "start_time": "2022-08-24T16:39:33.332Z"
   },
   {
    "duration": 7,
    "start_time": "2022-08-24T16:39:33.988Z"
   },
   {
    "duration": 4,
    "start_time": "2022-08-24T16:39:34.978Z"
   },
   {
    "duration": 3,
    "start_time": "2022-08-24T16:39:36.160Z"
   },
   {
    "duration": 4,
    "start_time": "2022-08-24T16:39:42.802Z"
   },
   {
    "duration": 10,
    "start_time": "2022-08-24T16:39:49.271Z"
   },
   {
    "duration": 858494,
    "start_time": "2022-08-24T16:40:10.087Z"
   },
   {
    "duration": 17,
    "start_time": "2022-08-24T19:23:24.906Z"
   },
   {
    "duration": 3,
    "start_time": "2022-08-24T19:23:32.507Z"
   },
   {
    "duration": 882230,
    "start_time": "2022-08-24T19:25:15.692Z"
   },
   {
    "duration": 3,
    "start_time": "2022-08-25T09:41:03.922Z"
   },
   {
    "duration": 130,
    "start_time": "2022-08-25T09:41:04.314Z"
   },
   {
    "duration": 11,
    "start_time": "2022-08-25T09:41:04.989Z"
   },
   {
    "duration": 4,
    "start_time": "2022-08-25T09:41:08.040Z"
   },
   {
    "duration": 3,
    "start_time": "2022-08-25T09:41:09.577Z"
   },
   {
    "duration": 25673,
    "start_time": "2022-08-25T09:41:21.361Z"
   },
   {
    "duration": 13,
    "start_time": "2022-08-25T09:42:03.084Z"
   },
   {
    "duration": 11,
    "start_time": "2022-08-25T09:42:19.792Z"
   },
   {
    "duration": 81,
    "start_time": "2022-08-25T09:42:20.109Z"
   },
   {
    "duration": 8,
    "start_time": "2022-08-25T09:42:20.420Z"
   },
   {
    "duration": 4,
    "start_time": "2022-08-25T09:42:21.152Z"
   },
   {
    "duration": 9,
    "start_time": "2022-08-25T09:42:22.172Z"
   },
   {
    "duration": 308,
    "start_time": "2022-08-25T09:42:23.117Z"
   },
   {
    "duration": 7,
    "start_time": "2022-08-25T09:42:39.152Z"
   },
   {
    "duration": 279,
    "start_time": "2022-08-25T09:42:53.192Z"
   },
   {
    "duration": 10,
    "start_time": "2022-08-25T09:43:18.303Z"
   },
   {
    "duration": 429,
    "start_time": "2022-08-25T09:43:32.428Z"
   },
   {
    "duration": 11,
    "start_time": "2022-08-25T09:43:34.714Z"
   },
   {
    "duration": 38,
    "start_time": "2022-08-25T09:43:59.015Z"
   },
   {
    "duration": 2,
    "start_time": "2022-08-25T09:44:14.239Z"
   },
   {
    "duration": 20,
    "start_time": "2022-08-25T09:44:17.308Z"
   },
   {
    "duration": 827,
    "start_time": "2022-08-25T09:44:25.146Z"
   },
   {
    "duration": 152,
    "start_time": "2022-08-25T09:46:59.184Z"
   },
   {
    "duration": 315,
    "start_time": "2022-08-25T09:47:10.320Z"
   },
   {
    "duration": 184,
    "start_time": "2022-08-25T09:47:18.584Z"
   },
   {
    "duration": 173,
    "start_time": "2022-08-25T09:47:26.048Z"
   },
   {
    "duration": 157,
    "start_time": "2022-08-25T09:47:32.733Z"
   },
   {
    "duration": 19,
    "start_time": "2022-08-25T09:54:37.245Z"
   },
   {
    "duration": 19,
    "start_time": "2022-08-25T09:54:50.259Z"
   },
   {
    "duration": 19,
    "start_time": "2022-08-25T09:54:54.230Z"
   },
   {
    "duration": 48,
    "start_time": "2022-08-25T09:54:57.246Z"
   },
   {
    "duration": 10,
    "start_time": "2022-08-25T09:55:29.562Z"
   },
   {
    "duration": 291,
    "start_time": "2022-08-25T09:55:43.990Z"
   },
   {
    "duration": 13,
    "start_time": "2022-08-25T09:55:48.931Z"
   },
   {
    "duration": 7,
    "start_time": "2022-08-25T09:56:16.329Z"
   },
   {
    "duration": 24,
    "start_time": "2022-08-25T09:56:33.176Z"
   },
   {
    "duration": 2,
    "start_time": "2022-08-25T09:56:49.305Z"
   },
   {
    "duration": 13,
    "start_time": "2022-08-25T09:56:52.732Z"
   },
   {
    "duration": 4,
    "start_time": "2022-08-25T09:57:08.257Z"
   },
   {
    "duration": 52,
    "start_time": "2022-08-26T23:22:47.512Z"
   },
   {
    "duration": 1480,
    "start_time": "2022-08-26T23:22:52.421Z"
   },
   {
    "duration": 134,
    "start_time": "2022-08-26T23:22:53.903Z"
   },
   {
    "duration": 11,
    "start_time": "2022-08-26T23:22:54.039Z"
   },
   {
    "duration": 3,
    "start_time": "2022-08-26T23:22:55.075Z"
   },
   {
    "duration": 8,
    "start_time": "2022-08-26T23:22:56.138Z"
   },
   {
    "duration": 4,
    "start_time": "2022-08-26T23:22:56.569Z"
   },
   {
    "duration": 253,
    "start_time": "2022-08-26T23:23:03.003Z"
   },
   {
    "duration": 93,
    "start_time": "2022-08-26T23:25:45.085Z"
   },
   {
    "duration": 232,
    "start_time": "2022-08-26T23:25:57.936Z"
   },
   {
    "duration": 263,
    "start_time": "2022-08-26T23:26:03.535Z"
   },
   {
    "duration": 236,
    "start_time": "2022-08-26T23:26:13.775Z"
   },
   {
    "duration": 249,
    "start_time": "2022-08-26T23:26:21.907Z"
   },
   {
    "duration": 169,
    "start_time": "2022-08-26T23:26:28.027Z"
   },
   {
    "duration": 152,
    "start_time": "2022-08-26T23:26:34.323Z"
   },
   {
    "duration": 167,
    "start_time": "2022-08-26T23:26:43.804Z"
   },
   {
    "duration": 201,
    "start_time": "2022-08-26T23:27:13.943Z"
   },
   {
    "duration": 3,
    "start_time": "2022-08-26T23:29:04.659Z"
   },
   {
    "duration": 57,
    "start_time": "2022-08-26T23:29:05.052Z"
   },
   {
    "duration": 7,
    "start_time": "2022-08-26T23:29:05.600Z"
   },
   {
    "duration": 5,
    "start_time": "2022-08-26T23:29:06.038Z"
   },
   {
    "duration": 7,
    "start_time": "2022-08-26T23:29:06.577Z"
   },
   {
    "duration": 3,
    "start_time": "2022-08-26T23:29:06.989Z"
   },
   {
    "duration": 251,
    "start_time": "2022-08-26T23:29:07.534Z"
   },
   {
    "duration": 170,
    "start_time": "2022-08-26T23:29:08.517Z"
   },
   {
    "duration": 8,
    "start_time": "2022-08-26T23:29:09.856Z"
   },
   {
    "duration": 151,
    "start_time": "2022-08-26T23:29:29.065Z"
   },
   {
    "duration": 163,
    "start_time": "2022-08-26T23:29:33.512Z"
   },
   {
    "duration": 180,
    "start_time": "2022-08-26T23:29:39.669Z"
   },
   {
    "duration": 4,
    "start_time": "2022-08-26T23:33:12.029Z"
   },
   {
    "duration": 60,
    "start_time": "2022-08-26T23:33:12.465Z"
   },
   {
    "duration": 7,
    "start_time": "2022-08-26T23:33:12.934Z"
   },
   {
    "duration": 3,
    "start_time": "2022-08-26T23:33:13.334Z"
   },
   {
    "duration": 7,
    "start_time": "2022-08-26T23:33:13.785Z"
   },
   {
    "duration": 4,
    "start_time": "2022-08-26T23:33:14.097Z"
   },
   {
    "duration": 301,
    "start_time": "2022-08-26T23:33:14.597Z"
   },
   {
    "duration": 205,
    "start_time": "2022-08-26T23:33:16.350Z"
   },
   {
    "duration": 735,
    "start_time": "2022-08-26T23:33:19.694Z"
   },
   {
    "duration": 8,
    "start_time": "2022-08-26T23:33:30.882Z"
   },
   {
    "duration": 688,
    "start_time": "2022-08-26T23:33:34.693Z"
   },
   {
    "duration": 1242,
    "start_time": "2022-08-26T23:33:50.390Z"
   },
   {
    "duration": 0,
    "start_time": "2022-08-26T23:33:51.634Z"
   },
   {
    "duration": 0,
    "start_time": "2022-08-26T23:33:51.635Z"
   },
   {
    "duration": 0,
    "start_time": "2022-08-26T23:33:51.636Z"
   },
   {
    "duration": 0,
    "start_time": "2022-08-26T23:33:51.637Z"
   },
   {
    "duration": 0,
    "start_time": "2022-08-26T23:33:51.637Z"
   },
   {
    "duration": 0,
    "start_time": "2022-08-26T23:33:51.639Z"
   },
   {
    "duration": 0,
    "start_time": "2022-08-26T23:33:51.640Z"
   },
   {
    "duration": 0,
    "start_time": "2022-08-26T23:33:51.641Z"
   },
   {
    "duration": 0,
    "start_time": "2022-08-26T23:33:51.642Z"
   },
   {
    "duration": 0,
    "start_time": "2022-08-26T23:33:51.643Z"
   },
   {
    "duration": 0,
    "start_time": "2022-08-26T23:33:51.644Z"
   },
   {
    "duration": 0,
    "start_time": "2022-08-26T23:33:51.645Z"
   },
   {
    "duration": 0,
    "start_time": "2022-08-26T23:33:51.647Z"
   },
   {
    "duration": 0,
    "start_time": "2022-08-26T23:33:51.648Z"
   },
   {
    "duration": 0,
    "start_time": "2022-08-26T23:33:51.649Z"
   },
   {
    "duration": 0,
    "start_time": "2022-08-26T23:33:51.651Z"
   },
   {
    "duration": 0,
    "start_time": "2022-08-26T23:33:51.652Z"
   },
   {
    "duration": 1301,
    "start_time": "2022-08-26T23:34:24.259Z"
   },
   {
    "duration": 59,
    "start_time": "2022-08-26T23:34:25.562Z"
   },
   {
    "duration": 9,
    "start_time": "2022-08-26T23:34:25.625Z"
   },
   {
    "duration": 3,
    "start_time": "2022-08-26T23:34:25.637Z"
   },
   {
    "duration": 12,
    "start_time": "2022-08-26T23:34:25.641Z"
   },
   {
    "duration": 3,
    "start_time": "2022-08-26T23:34:25.655Z"
   },
   {
    "duration": 257,
    "start_time": "2022-08-26T23:34:25.659Z"
   },
   {
    "duration": 218,
    "start_time": "2022-08-26T23:34:25.918Z"
   },
   {
    "duration": 251,
    "start_time": "2022-08-26T23:34:26.137Z"
   },
   {
    "duration": 0,
    "start_time": "2022-08-26T23:34:26.390Z"
   },
   {
    "duration": 0,
    "start_time": "2022-08-26T23:34:26.391Z"
   },
   {
    "duration": 0,
    "start_time": "2022-08-26T23:34:26.392Z"
   },
   {
    "duration": 0,
    "start_time": "2022-08-26T23:34:26.393Z"
   },
   {
    "duration": 0,
    "start_time": "2022-08-26T23:34:26.394Z"
   },
   {
    "duration": 0,
    "start_time": "2022-08-26T23:34:26.395Z"
   },
   {
    "duration": 0,
    "start_time": "2022-08-26T23:34:26.396Z"
   },
   {
    "duration": 0,
    "start_time": "2022-08-26T23:34:26.397Z"
   },
   {
    "duration": 0,
    "start_time": "2022-08-26T23:34:26.398Z"
   },
   {
    "duration": 9,
    "start_time": "2022-08-26T23:34:49.057Z"
   },
   {
    "duration": 806,
    "start_time": "2022-08-26T23:34:49.652Z"
   },
   {
    "duration": 112,
    "start_time": "2022-08-26T23:38:23.056Z"
   },
   {
    "duration": 638,
    "start_time": "2022-08-26T23:38:41.940Z"
   },
   {
    "duration": 132,
    "start_time": "2022-08-26T23:40:02.670Z"
   },
   {
    "duration": 846,
    "start_time": "2022-08-26T23:40:49.267Z"
   },
   {
    "duration": 120,
    "start_time": "2022-08-26T23:41:26.527Z"
   },
   {
    "duration": 611,
    "start_time": "2022-08-26T23:41:51.176Z"
   },
   {
    "duration": 779,
    "start_time": "2022-08-26T23:41:56.233Z"
   },
   {
    "duration": 129,
    "start_time": "2022-08-26T23:42:00.573Z"
   },
   {
    "duration": 674,
    "start_time": "2022-08-26T23:42:48.429Z"
   },
   {
    "duration": 474,
    "start_time": "2022-08-26T23:43:28.482Z"
   },
   {
    "duration": 99,
    "start_time": "2022-08-26T23:44:51.088Z"
   },
   {
    "duration": 628,
    "start_time": "2022-08-26T23:45:08.379Z"
   },
   {
    "duration": 507,
    "start_time": "2022-08-26T23:45:45.938Z"
   },
   {
    "duration": 560,
    "start_time": "2022-08-26T23:46:06.074Z"
   },
   {
    "duration": 443,
    "start_time": "2022-08-26T23:46:23.745Z"
   },
   {
    "duration": 481,
    "start_time": "2022-08-26T23:46:33.450Z"
   },
   {
    "duration": 422,
    "start_time": "2022-08-26T23:46:42.445Z"
   },
   {
    "duration": 130,
    "start_time": "2022-08-26T23:58:06.309Z"
   },
   {
    "duration": 112,
    "start_time": "2022-08-26T23:59:52.115Z"
   },
   {
    "duration": 10,
    "start_time": "2022-08-26T23:59:52.863Z"
   },
   {
    "duration": 6,
    "start_time": "2022-08-26T23:59:53.234Z"
   },
   {
    "duration": 12,
    "start_time": "2022-08-26T23:59:53.982Z"
   },
   {
    "duration": 3,
    "start_time": "2022-08-26T23:59:55.418Z"
   },
   {
    "duration": 11,
    "start_time": "2022-08-27T00:00:20.762Z"
   },
   {
    "duration": 6,
    "start_time": "2022-08-27T00:00:29.603Z"
   },
   {
    "duration": 2,
    "start_time": "2022-08-27T00:00:30.327Z"
   },
   {
    "duration": 9,
    "start_time": "2022-08-27T00:00:30.759Z"
   },
   {
    "duration": 10,
    "start_time": "2022-08-27T00:00:45.374Z"
   },
   {
    "duration": 4,
    "start_time": "2022-08-27T00:01:01.815Z"
   },
   {
    "duration": 9,
    "start_time": "2022-08-27T00:02:37.294Z"
   },
   {
    "duration": 5,
    "start_time": "2022-08-27T00:02:39.632Z"
   },
   {
    "duration": 9,
    "start_time": "2022-08-27T00:03:01.116Z"
   },
   {
    "duration": 5,
    "start_time": "2022-08-27T00:03:02.260Z"
   },
   {
    "duration": 13,
    "start_time": "2022-08-27T00:03:11.096Z"
   },
   {
    "duration": 10,
    "start_time": "2022-08-27T00:03:11.652Z"
   },
   {
    "duration": 6,
    "start_time": "2022-08-27T00:03:12.080Z"
   },
   {
    "duration": 12,
    "start_time": "2022-08-27T00:03:12.592Z"
   },
   {
    "duration": 2,
    "start_time": "2022-08-27T00:03:13.212Z"
   },
   {
    "duration": 4,
    "start_time": "2022-08-27T00:03:14.008Z"
   },
   {
    "duration": 5,
    "start_time": "2022-08-27T00:04:12.080Z"
   },
   {
    "duration": 5,
    "start_time": "2022-08-27T00:04:22.071Z"
   },
   {
    "duration": 12,
    "start_time": "2022-08-27T00:04:26.264Z"
   },
   {
    "duration": 18,
    "start_time": "2022-08-27T00:05:02.639Z"
   },
   {
    "duration": 11,
    "start_time": "2022-08-27T00:05:41.863Z"
   },
   {
    "duration": 10,
    "start_time": "2022-08-27T00:05:51.359Z"
   },
   {
    "duration": 21,
    "start_time": "2022-08-27T00:08:29.329Z"
   },
   {
    "duration": 12,
    "start_time": "2022-08-27T00:09:33.462Z"
   },
   {
    "duration": 85,
    "start_time": "2022-08-27T00:10:29.007Z"
   },
   {
    "duration": 3,
    "start_time": "2022-08-27T00:10:46.959Z"
   },
   {
    "duration": 106,
    "start_time": "2022-08-27T00:10:51.083Z"
   },
   {
    "duration": 16,
    "start_time": "2022-08-27T00:14:44.874Z"
   },
   {
    "duration": 82,
    "start_time": "2022-08-27T00:14:56.604Z"
   },
   {
    "duration": 2,
    "start_time": "2022-08-27T00:16:16.096Z"
   },
   {
    "duration": 87,
    "start_time": "2022-08-27T00:16:27.718Z"
   },
   {
    "duration": 58,
    "start_time": "2022-08-27T00:17:41.414Z"
   },
   {
    "duration": 4,
    "start_time": "2022-08-27T00:17:51.821Z"
   },
   {
    "duration": 104803,
    "start_time": "2022-08-27T00:17:52.697Z"
   },
   {
    "duration": 4,
    "start_time": "2022-08-27T00:21:39.048Z"
   },
   {
    "duration": 55,
    "start_time": "2022-08-27T00:21:45.838Z"
   },
   {
    "duration": 2672,
    "start_time": "2022-08-27T00:21:55.658Z"
   },
   {
    "duration": 4151,
    "start_time": "2022-08-27T00:23:45.475Z"
   },
   {
    "duration": 3954,
    "start_time": "2022-08-27T00:25:46.480Z"
   },
   {
    "duration": 4840,
    "start_time": "2022-08-27T00:26:15.693Z"
   },
   {
    "duration": 10,
    "start_time": "2022-08-27T00:27:02.288Z"
   },
   {
    "duration": 54,
    "start_time": "2022-08-27T00:27:06.374Z"
   },
   {
    "duration": 4,
    "start_time": "2022-08-27T00:27:10.387Z"
   },
   {
    "duration": 2,
    "start_time": "2022-08-27T00:27:14.215Z"
   },
   {
    "duration": 1270,
    "start_time": "2022-08-27T00:34:24.574Z"
   },
   {
    "duration": 1302,
    "start_time": "2022-08-27T00:34:57.447Z"
   },
   {
    "duration": 29,
    "start_time": "2022-08-27T00:36:47.885Z"
   },
   {
    "duration": 106282,
    "start_time": "2022-08-27T00:37:30.844Z"
   },
   {
    "duration": 104388,
    "start_time": "2022-08-27T00:40:13.070Z"
   },
   {
    "duration": 3,
    "start_time": "2022-08-27T00:42:16.348Z"
   },
   {
    "duration": 4179,
    "start_time": "2022-08-27T00:42:22.511Z"
   },
   {
    "duration": 59,
    "start_time": "2022-08-27T00:43:05.215Z"
   },
   {
    "duration": 3,
    "start_time": "2022-08-27T00:43:09.838Z"
   },
   {
    "duration": 17331,
    "start_time": "2022-08-27T00:43:11.737Z"
   },
   {
    "duration": 17349,
    "start_time": "2022-08-27T00:44:14.897Z"
   },
   {
    "duration": 17887,
    "start_time": "2022-08-27T00:45:09.356Z"
   },
   {
    "duration": 2,
    "start_time": "2022-08-27T00:45:42.110Z"
   },
   {
    "duration": 746,
    "start_time": "2022-08-27T00:46:26.845Z"
   },
   {
    "duration": 5,
    "start_time": "2022-08-27T00:50:06.716Z"
   },
   {
    "duration": 9,
    "start_time": "2022-08-27T00:50:55.393Z"
   },
   {
    "duration": 5,
    "start_time": "2022-08-27T00:50:56.879Z"
   },
   {
    "duration": 1407,
    "start_time": "2022-08-27T00:51:23.896Z"
   },
   {
    "duration": 140,
    "start_time": "2022-08-27T00:51:25.305Z"
   },
   {
    "duration": 10,
    "start_time": "2022-08-27T00:51:25.446Z"
   },
   {
    "duration": 3,
    "start_time": "2022-08-27T00:51:25.458Z"
   },
   {
    "duration": 9,
    "start_time": "2022-08-27T00:51:25.463Z"
   },
   {
    "duration": 3,
    "start_time": "2022-08-27T00:51:25.473Z"
   },
   {
    "duration": 243,
    "start_time": "2022-08-27T00:51:25.478Z"
   },
   {
    "duration": 191,
    "start_time": "2022-08-27T00:51:25.723Z"
   },
   {
    "duration": 7,
    "start_time": "2022-08-27T00:51:25.916Z"
   },
   {
    "duration": 838,
    "start_time": "2022-08-27T00:51:25.924Z"
   },
   {
    "duration": 650,
    "start_time": "2022-08-27T00:51:26.764Z"
   },
   {
    "duration": 473,
    "start_time": "2022-08-27T00:51:27.416Z"
   },
   {
    "duration": 484,
    "start_time": "2022-08-27T00:51:27.891Z"
   },
   {
    "duration": 115,
    "start_time": "2022-08-27T00:51:28.378Z"
   },
   {
    "duration": 16,
    "start_time": "2022-08-27T00:51:28.495Z"
   },
   {
    "duration": 10,
    "start_time": "2022-08-27T00:51:28.513Z"
   },
   {
    "duration": 4,
    "start_time": "2022-08-27T00:51:28.525Z"
   },
   {
    "duration": 7,
    "start_time": "2022-08-27T00:51:28.530Z"
   },
   {
    "duration": 16,
    "start_time": "2022-08-27T00:51:28.538Z"
   },
   {
    "duration": 3,
    "start_time": "2022-08-27T00:51:28.556Z"
   },
   {
    "duration": 127,
    "start_time": "2022-08-27T00:51:28.561Z"
   },
   {
    "duration": 98,
    "start_time": "2022-08-27T00:51:28.690Z"
   },
   {
    "duration": 103872,
    "start_time": "2022-08-27T00:51:28.790Z"
   },
   {
    "duration": 3,
    "start_time": "2022-08-27T00:53:12.687Z"
   },
   {
    "duration": 4009,
    "start_time": "2022-08-27T00:53:12.691Z"
   },
   {
    "duration": 3,
    "start_time": "2022-08-27T00:53:16.701Z"
   },
   {
    "duration": 6,
    "start_time": "2022-08-27T00:53:16.705Z"
   },
   {
    "duration": 16885,
    "start_time": "2022-08-27T00:53:16.712Z"
   },
   {
    "duration": 3,
    "start_time": "2022-08-27T00:53:33.599Z"
   },
   {
    "duration": 719,
    "start_time": "2022-08-27T00:53:33.603Z"
   },
   {
    "duration": 5,
    "start_time": "2022-08-27T00:53:34.324Z"
   },
   {
    "duration": 13,
    "start_time": "2022-08-27T00:53:34.330Z"
   },
   {
    "duration": 5,
    "start_time": "2022-08-27T00:53:34.344Z"
   },
   {
    "duration": 1475,
    "start_time": "2022-08-27T00:55:26.626Z"
   },
   {
    "duration": 61,
    "start_time": "2022-08-27T00:55:28.103Z"
   },
   {
    "duration": 9,
    "start_time": "2022-08-27T00:55:28.166Z"
   },
   {
    "duration": 4,
    "start_time": "2022-08-27T00:55:28.177Z"
   },
   {
    "duration": 13,
    "start_time": "2022-08-27T00:55:28.183Z"
   },
   {
    "duration": 3,
    "start_time": "2022-08-27T00:55:28.197Z"
   },
   {
    "duration": 237,
    "start_time": "2022-08-27T00:55:28.202Z"
   },
   {
    "duration": 193,
    "start_time": "2022-08-27T00:55:28.441Z"
   },
   {
    "duration": 8,
    "start_time": "2022-08-27T00:55:28.636Z"
   },
   {
    "duration": 776,
    "start_time": "2022-08-27T00:55:28.646Z"
   },
   {
    "duration": 646,
    "start_time": "2022-08-27T00:55:29.424Z"
   },
   {
    "duration": 483,
    "start_time": "2022-08-27T00:55:30.072Z"
   },
   {
    "duration": 480,
    "start_time": "2022-08-27T00:55:30.557Z"
   },
   {
    "duration": 110,
    "start_time": "2022-08-27T00:55:31.041Z"
   },
   {
    "duration": 26,
    "start_time": "2022-08-27T00:55:31.153Z"
   },
   {
    "duration": 20,
    "start_time": "2022-08-27T00:55:31.186Z"
   },
   {
    "duration": 8,
    "start_time": "2022-08-27T00:55:31.208Z"
   },
   {
    "duration": 15,
    "start_time": "2022-08-27T00:55:31.217Z"
   },
   {
    "duration": 17,
    "start_time": "2022-08-27T00:55:31.234Z"
   },
   {
    "duration": 3,
    "start_time": "2022-08-27T00:55:31.253Z"
   },
   {
    "duration": 30,
    "start_time": "2022-08-27T00:55:31.258Z"
   },
   {
    "duration": 112,
    "start_time": "2022-08-27T00:55:31.290Z"
   },
   {
    "duration": 40493,
    "start_time": "2022-08-27T00:55:31.403Z"
   },
   {
    "duration": 4,
    "start_time": "2022-08-27T00:56:11.898Z"
   },
   {
    "duration": 3910,
    "start_time": "2022-08-27T00:56:11.904Z"
   },
   {
    "duration": 2,
    "start_time": "2022-08-27T00:56:15.816Z"
   },
   {
    "duration": 9,
    "start_time": "2022-08-27T00:56:15.820Z"
   },
   {
    "duration": 16089,
    "start_time": "2022-08-27T00:56:15.831Z"
   },
   {
    "duration": 3,
    "start_time": "2022-08-27T00:56:31.922Z"
   },
   {
    "duration": 736,
    "start_time": "2022-08-27T00:56:31.926Z"
   },
   {
    "duration": 5,
    "start_time": "2022-08-27T00:56:32.664Z"
   },
   {
    "duration": 10,
    "start_time": "2022-08-27T00:56:32.671Z"
   },
   {
    "duration": 7,
    "start_time": "2022-08-27T00:56:32.682Z"
   },
   {
    "duration": 1353,
    "start_time": "2022-08-27T00:56:52.639Z"
   },
   {
    "duration": 64,
    "start_time": "2022-08-27T00:56:53.994Z"
   },
   {
    "duration": 10,
    "start_time": "2022-08-27T00:56:54.060Z"
   },
   {
    "duration": 5,
    "start_time": "2022-08-27T00:56:54.071Z"
   },
   {
    "duration": 11,
    "start_time": "2022-08-27T00:56:54.078Z"
   },
   {
    "duration": 3,
    "start_time": "2022-08-27T00:56:54.091Z"
   },
   {
    "duration": 235,
    "start_time": "2022-08-27T00:56:54.095Z"
   },
   {
    "duration": 188,
    "start_time": "2022-08-27T00:56:54.331Z"
   },
   {
    "duration": 8,
    "start_time": "2022-08-27T00:56:54.520Z"
   },
   {
    "duration": 780,
    "start_time": "2022-08-27T00:56:54.530Z"
   },
   {
    "duration": 653,
    "start_time": "2022-08-27T00:56:55.312Z"
   },
   {
    "duration": 524,
    "start_time": "2022-08-27T00:56:55.966Z"
   },
   {
    "duration": 482,
    "start_time": "2022-08-27T00:56:56.492Z"
   },
   {
    "duration": 123,
    "start_time": "2022-08-27T00:56:56.977Z"
   },
   {
    "duration": 17,
    "start_time": "2022-08-27T00:56:57.102Z"
   },
   {
    "duration": 17,
    "start_time": "2022-08-27T00:56:57.121Z"
   },
   {
    "duration": 14,
    "start_time": "2022-08-27T00:56:57.139Z"
   },
   {
    "duration": 9,
    "start_time": "2022-08-27T00:56:57.155Z"
   },
   {
    "duration": 22,
    "start_time": "2022-08-27T00:56:57.165Z"
   },
   {
    "duration": 3,
    "start_time": "2022-08-27T00:56:57.188Z"
   },
   {
    "duration": 15,
    "start_time": "2022-08-27T00:56:57.192Z"
   },
   {
    "duration": 5,
    "start_time": "2022-08-27T00:56:57.286Z"
   },
   {
    "duration": 103094,
    "start_time": "2022-08-27T00:56:57.293Z"
   },
   {
    "duration": 3,
    "start_time": "2022-08-27T00:58:40.389Z"
   },
   {
    "duration": 6027,
    "start_time": "2022-08-27T00:58:40.393Z"
   },
   {
    "duration": 4,
    "start_time": "2022-08-27T00:58:46.421Z"
   },
   {
    "duration": 7,
    "start_time": "2022-08-27T00:58:46.427Z"
   },
   {
    "duration": 16563,
    "start_time": "2022-08-27T00:58:46.436Z"
   },
   {
    "duration": 2,
    "start_time": "2022-08-27T00:59:03.001Z"
   },
   {
    "duration": 754,
    "start_time": "2022-08-27T00:59:03.005Z"
   },
   {
    "duration": 5,
    "start_time": "2022-08-27T00:59:03.761Z"
   },
   {
    "duration": 13,
    "start_time": "2022-08-27T00:59:03.767Z"
   },
   {
    "duration": 5,
    "start_time": "2022-08-27T00:59:03.782Z"
   },
   {
    "duration": 1398,
    "start_time": "2022-08-27T00:59:42.990Z"
   },
   {
    "duration": 64,
    "start_time": "2022-08-27T00:59:44.390Z"
   },
   {
    "duration": 10,
    "start_time": "2022-08-27T00:59:44.456Z"
   },
   {
    "duration": 5,
    "start_time": "2022-08-27T00:59:44.467Z"
   },
   {
    "duration": 12,
    "start_time": "2022-08-27T00:59:44.474Z"
   },
   {
    "duration": 3,
    "start_time": "2022-08-27T00:59:44.488Z"
   },
   {
    "duration": 237,
    "start_time": "2022-08-27T00:59:44.493Z"
   },
   {
    "duration": 193,
    "start_time": "2022-08-27T00:59:44.732Z"
   },
   {
    "duration": 7,
    "start_time": "2022-08-27T00:59:44.926Z"
   },
   {
    "duration": 799,
    "start_time": "2022-08-27T00:59:44.935Z"
   },
   {
    "duration": 693,
    "start_time": "2022-08-27T00:59:45.736Z"
   },
   {
    "duration": 465,
    "start_time": "2022-08-27T00:59:46.431Z"
   },
   {
    "duration": 469,
    "start_time": "2022-08-27T00:59:46.897Z"
   },
   {
    "duration": 122,
    "start_time": "2022-08-27T00:59:47.370Z"
   },
   {
    "duration": 16,
    "start_time": "2022-08-27T00:59:47.494Z"
   },
   {
    "duration": 12,
    "start_time": "2022-08-27T00:59:47.512Z"
   },
   {
    "duration": 4,
    "start_time": "2022-08-27T00:59:47.526Z"
   },
   {
    "duration": 14,
    "start_time": "2022-08-27T00:59:47.532Z"
   },
   {
    "duration": 14,
    "start_time": "2022-08-27T00:59:47.547Z"
   },
   {
    "duration": 8,
    "start_time": "2022-08-27T00:59:47.563Z"
   },
   {
    "duration": 214,
    "start_time": "2022-08-27T00:59:47.573Z"
   },
   {
    "duration": 3,
    "start_time": "2022-08-27T00:59:47.789Z"
   },
   {
    "duration": 99895,
    "start_time": "2022-08-27T00:59:47.793Z"
   },
   {
    "duration": 3,
    "start_time": "2022-08-27T01:01:27.690Z"
   },
   {
    "duration": 6106,
    "start_time": "2022-08-27T01:01:27.694Z"
   },
   {
    "duration": 3,
    "start_time": "2022-08-27T01:01:33.802Z"
   },
   {
    "duration": 10,
    "start_time": "2022-08-27T01:01:33.806Z"
   },
   {
    "duration": 16556,
    "start_time": "2022-08-27T01:01:33.818Z"
   },
   {
    "duration": 3,
    "start_time": "2022-08-27T01:01:50.376Z"
   },
   {
    "duration": 762,
    "start_time": "2022-08-27T01:01:50.380Z"
   },
   {
    "duration": 7,
    "start_time": "2022-08-27T01:01:51.143Z"
   },
   {
    "duration": 17,
    "start_time": "2022-08-27T01:01:51.151Z"
   },
   {
    "duration": 17,
    "start_time": "2022-08-27T01:01:51.169Z"
   },
   {
    "duration": 7,
    "start_time": "2022-08-27T01:04:09.882Z"
   },
   {
    "duration": 4,
    "start_time": "2022-08-27T01:04:10.811Z"
   },
   {
    "duration": 8,
    "start_time": "2022-08-27T01:04:46.162Z"
   },
   {
    "duration": 4,
    "start_time": "2022-08-27T01:04:46.946Z"
   },
   {
    "duration": 1440,
    "start_time": "2022-08-27T01:06:40.258Z"
   },
   {
    "duration": 0,
    "start_time": "2022-08-27T01:06:41.700Z"
   },
   {
    "duration": 0,
    "start_time": "2022-08-27T01:06:41.701Z"
   },
   {
    "duration": 0,
    "start_time": "2022-08-27T01:06:41.702Z"
   },
   {
    "duration": 0,
    "start_time": "2022-08-27T01:06:41.703Z"
   },
   {
    "duration": 0,
    "start_time": "2022-08-27T01:06:41.704Z"
   },
   {
    "duration": 0,
    "start_time": "2022-08-27T01:06:41.706Z"
   },
   {
    "duration": 0,
    "start_time": "2022-08-27T01:06:41.707Z"
   },
   {
    "duration": 0,
    "start_time": "2022-08-27T01:06:41.708Z"
   },
   {
    "duration": 0,
    "start_time": "2022-08-27T01:06:41.709Z"
   },
   {
    "duration": 0,
    "start_time": "2022-08-27T01:06:41.710Z"
   },
   {
    "duration": 0,
    "start_time": "2022-08-27T01:06:41.711Z"
   },
   {
    "duration": 0,
    "start_time": "2022-08-27T01:06:41.712Z"
   },
   {
    "duration": 0,
    "start_time": "2022-08-27T01:06:41.713Z"
   },
   {
    "duration": 0,
    "start_time": "2022-08-27T01:06:41.714Z"
   },
   {
    "duration": 0,
    "start_time": "2022-08-27T01:06:41.715Z"
   },
   {
    "duration": 0,
    "start_time": "2022-08-27T01:06:41.716Z"
   },
   {
    "duration": 0,
    "start_time": "2022-08-27T01:06:41.717Z"
   },
   {
    "duration": 0,
    "start_time": "2022-08-27T01:06:41.717Z"
   },
   {
    "duration": 0,
    "start_time": "2022-08-27T01:06:41.718Z"
   },
   {
    "duration": 0,
    "start_time": "2022-08-27T01:06:41.719Z"
   },
   {
    "duration": 0,
    "start_time": "2022-08-27T01:06:41.720Z"
   },
   {
    "duration": 0,
    "start_time": "2022-08-27T01:06:41.721Z"
   },
   {
    "duration": 0,
    "start_time": "2022-08-27T01:06:41.722Z"
   },
   {
    "duration": 0,
    "start_time": "2022-08-27T01:06:41.723Z"
   },
   {
    "duration": 0,
    "start_time": "2022-08-27T01:06:41.724Z"
   },
   {
    "duration": 0,
    "start_time": "2022-08-27T01:06:41.725Z"
   },
   {
    "duration": 0,
    "start_time": "2022-08-27T01:06:41.726Z"
   },
   {
    "duration": 0,
    "start_time": "2022-08-27T01:06:41.727Z"
   },
   {
    "duration": 0,
    "start_time": "2022-08-27T01:06:41.728Z"
   },
   {
    "duration": 0,
    "start_time": "2022-08-27T01:06:41.729Z"
   },
   {
    "duration": 0,
    "start_time": "2022-08-27T01:06:41.730Z"
   },
   {
    "duration": 0,
    "start_time": "2022-08-27T01:06:41.731Z"
   },
   {
    "duration": 1369,
    "start_time": "2022-08-27T01:07:00.181Z"
   },
   {
    "duration": 0,
    "start_time": "2022-08-27T01:07:01.553Z"
   },
   {
    "duration": 0,
    "start_time": "2022-08-27T01:07:01.554Z"
   },
   {
    "duration": 0,
    "start_time": "2022-08-27T01:07:01.556Z"
   },
   {
    "duration": 0,
    "start_time": "2022-08-27T01:07:01.556Z"
   },
   {
    "duration": 0,
    "start_time": "2022-08-27T01:07:01.558Z"
   },
   {
    "duration": 0,
    "start_time": "2022-08-27T01:07:01.559Z"
   },
   {
    "duration": 0,
    "start_time": "2022-08-27T01:07:01.560Z"
   },
   {
    "duration": 0,
    "start_time": "2022-08-27T01:07:01.561Z"
   },
   {
    "duration": 0,
    "start_time": "2022-08-27T01:07:01.562Z"
   },
   {
    "duration": 0,
    "start_time": "2022-08-27T01:07:01.563Z"
   },
   {
    "duration": 0,
    "start_time": "2022-08-27T01:07:01.564Z"
   },
   {
    "duration": 0,
    "start_time": "2022-08-27T01:07:01.565Z"
   },
   {
    "duration": 0,
    "start_time": "2022-08-27T01:07:01.566Z"
   },
   {
    "duration": 0,
    "start_time": "2022-08-27T01:07:01.587Z"
   },
   {
    "duration": 0,
    "start_time": "2022-08-27T01:07:01.588Z"
   },
   {
    "duration": 0,
    "start_time": "2022-08-27T01:07:01.590Z"
   },
   {
    "duration": 0,
    "start_time": "2022-08-27T01:07:01.590Z"
   },
   {
    "duration": 0,
    "start_time": "2022-08-27T01:07:01.591Z"
   },
   {
    "duration": 0,
    "start_time": "2022-08-27T01:07:01.592Z"
   },
   {
    "duration": 0,
    "start_time": "2022-08-27T01:07:01.593Z"
   },
   {
    "duration": 0,
    "start_time": "2022-08-27T01:07:01.594Z"
   },
   {
    "duration": 0,
    "start_time": "2022-08-27T01:07:01.595Z"
   },
   {
    "duration": 0,
    "start_time": "2022-08-27T01:07:01.596Z"
   },
   {
    "duration": 0,
    "start_time": "2022-08-27T01:07:01.597Z"
   },
   {
    "duration": 0,
    "start_time": "2022-08-27T01:07:01.598Z"
   },
   {
    "duration": 0,
    "start_time": "2022-08-27T01:07:01.599Z"
   },
   {
    "duration": 0,
    "start_time": "2022-08-27T01:07:01.600Z"
   },
   {
    "duration": 0,
    "start_time": "2022-08-27T01:07:01.601Z"
   },
   {
    "duration": 0,
    "start_time": "2022-08-27T01:07:01.602Z"
   },
   {
    "duration": 0,
    "start_time": "2022-08-27T01:07:01.602Z"
   },
   {
    "duration": 0,
    "start_time": "2022-08-27T01:07:01.603Z"
   },
   {
    "duration": 0,
    "start_time": "2022-08-27T01:07:01.604Z"
   },
   {
    "duration": 1418,
    "start_time": "2022-08-27T01:08:32.188Z"
   },
   {
    "duration": 60,
    "start_time": "2022-08-27T01:08:33.609Z"
   },
   {
    "duration": 11,
    "start_time": "2022-08-27T01:08:33.670Z"
   },
   {
    "duration": 7,
    "start_time": "2022-08-27T01:08:33.682Z"
   },
   {
    "duration": 12,
    "start_time": "2022-08-27T01:08:33.691Z"
   },
   {
    "duration": 3,
    "start_time": "2022-08-27T01:08:33.704Z"
   },
   {
    "duration": 247,
    "start_time": "2022-08-27T01:08:33.709Z"
   },
   {
    "duration": 188,
    "start_time": "2022-08-27T01:08:33.958Z"
   },
   {
    "duration": 7,
    "start_time": "2022-08-27T01:08:34.148Z"
   },
   {
    "duration": 775,
    "start_time": "2022-08-27T01:08:34.156Z"
   },
   {
    "duration": 663,
    "start_time": "2022-08-27T01:08:34.933Z"
   },
   {
    "duration": 476,
    "start_time": "2022-08-27T01:08:35.598Z"
   },
   {
    "duration": 501,
    "start_time": "2022-08-27T01:08:36.076Z"
   },
   {
    "duration": 126,
    "start_time": "2022-08-27T01:08:36.588Z"
   },
   {
    "duration": 16,
    "start_time": "2022-08-27T01:08:36.716Z"
   },
   {
    "duration": 10,
    "start_time": "2022-08-27T01:08:36.734Z"
   },
   {
    "duration": 5,
    "start_time": "2022-08-27T01:08:36.745Z"
   },
   {
    "duration": 10,
    "start_time": "2022-08-27T01:08:36.751Z"
   },
   {
    "duration": 3,
    "start_time": "2022-08-27T01:08:36.786Z"
   },
   {
    "duration": 5,
    "start_time": "2022-08-27T01:08:36.791Z"
   },
   {
    "duration": 17,
    "start_time": "2022-08-27T01:08:36.797Z"
   },
   {
    "duration": 98,
    "start_time": "2022-08-27T01:08:36.892Z"
   },
   {
    "duration": 95138,
    "start_time": "2022-08-27T01:08:36.991Z"
   },
   {
    "duration": 2,
    "start_time": "2022-08-27T01:10:12.131Z"
   },
   {
    "duration": 5969,
    "start_time": "2022-08-27T01:10:12.135Z"
   },
   {
    "duration": 3,
    "start_time": "2022-08-27T01:10:18.106Z"
   },
   {
    "duration": 8,
    "start_time": "2022-08-27T01:10:18.110Z"
   },
   {
    "duration": 16953,
    "start_time": "2022-08-27T01:10:18.120Z"
   },
   {
    "duration": 3,
    "start_time": "2022-08-27T01:10:35.075Z"
   },
   {
    "duration": 1215,
    "start_time": "2022-08-27T01:10:35.079Z"
   },
   {
    "duration": 93,
    "start_time": "2022-08-27T01:10:36.295Z"
   },
   {
    "duration": 105,
    "start_time": "2022-08-27T01:10:36.390Z"
   },
   {
    "duration": 6,
    "start_time": "2022-08-27T01:10:36.497Z"
   },
   {
    "duration": 4,
    "start_time": "2022-08-27T01:11:26.799Z"
   },
   {
    "duration": 9,
    "start_time": "2022-08-27T01:11:45.777Z"
   },
   {
    "duration": 5,
    "start_time": "2022-08-27T01:11:47.425Z"
   },
   {
    "duration": 9,
    "start_time": "2022-08-27T01:11:56.173Z"
   },
   {
    "duration": 4,
    "start_time": "2022-08-27T01:11:57.188Z"
   },
   {
    "duration": 1488,
    "start_time": "2022-08-27T01:12:03.748Z"
   },
   {
    "duration": 65,
    "start_time": "2022-08-27T01:12:05.238Z"
   },
   {
    "duration": 10,
    "start_time": "2022-08-27T01:12:05.305Z"
   },
   {
    "duration": 9,
    "start_time": "2022-08-27T01:12:05.316Z"
   },
   {
    "duration": 16,
    "start_time": "2022-08-27T01:12:05.327Z"
   },
   {
    "duration": 4,
    "start_time": "2022-08-27T01:12:05.344Z"
   },
   {
    "duration": 256,
    "start_time": "2022-08-27T01:12:05.350Z"
   },
   {
    "duration": 196,
    "start_time": "2022-08-27T01:12:05.607Z"
   },
   {
    "duration": 7,
    "start_time": "2022-08-27T01:12:05.805Z"
   },
   {
    "duration": 868,
    "start_time": "2022-08-27T01:12:05.814Z"
   },
   {
    "duration": 655,
    "start_time": "2022-08-27T01:12:06.684Z"
   },
   {
    "duration": 490,
    "start_time": "2022-08-27T01:12:07.340Z"
   },
   {
    "duration": 470,
    "start_time": "2022-08-27T01:12:07.831Z"
   },
   {
    "duration": 122,
    "start_time": "2022-08-27T01:12:08.305Z"
   },
   {
    "duration": 17,
    "start_time": "2022-08-27T01:12:08.429Z"
   },
   {
    "duration": 19,
    "start_time": "2022-08-27T01:12:08.447Z"
   },
   {
    "duration": 17,
    "start_time": "2022-08-27T01:12:08.467Z"
   },
   {
    "duration": 10,
    "start_time": "2022-08-27T01:12:08.485Z"
   },
   {
    "duration": 19,
    "start_time": "2022-08-27T01:12:08.497Z"
   },
   {
    "duration": 17,
    "start_time": "2022-08-27T01:12:08.518Z"
   },
   {
    "duration": 24,
    "start_time": "2022-08-27T01:12:08.536Z"
   },
   {
    "duration": 22,
    "start_time": "2022-08-27T01:12:08.562Z"
   },
   {
    "duration": 7,
    "start_time": "2022-08-27T01:12:08.587Z"
   },
   {
    "duration": 104942,
    "start_time": "2022-08-27T01:12:08.596Z"
   },
   {
    "duration": 4,
    "start_time": "2022-08-27T01:13:53.540Z"
   },
   {
    "duration": 7777,
    "start_time": "2022-08-27T01:13:53.546Z"
   },
   {
    "duration": 2,
    "start_time": "2022-08-27T01:14:01.325Z"
   },
   {
    "duration": 17,
    "start_time": "2022-08-27T01:14:01.329Z"
   },
   {
    "duration": 18847,
    "start_time": "2022-08-27T01:14:01.347Z"
   },
   {
    "duration": 4,
    "start_time": "2022-08-27T01:14:20.195Z"
   },
   {
    "duration": 800,
    "start_time": "2022-08-27T01:14:20.200Z"
   },
   {
    "duration": 7,
    "start_time": "2022-08-27T01:14:21.001Z"
   },
   {
    "duration": 13,
    "start_time": "2022-08-27T01:14:21.010Z"
   },
   {
    "duration": 6,
    "start_time": "2022-08-27T01:14:21.025Z"
   },
   {
    "duration": 1368,
    "start_time": "2022-08-27T01:21:18.612Z"
   },
   {
    "duration": 63,
    "start_time": "2022-08-27T01:21:19.983Z"
   },
   {
    "duration": 10,
    "start_time": "2022-08-27T01:21:20.048Z"
   },
   {
    "duration": 7,
    "start_time": "2022-08-27T01:21:20.059Z"
   },
   {
    "duration": 10,
    "start_time": "2022-08-27T01:21:20.068Z"
   },
   {
    "duration": 3,
    "start_time": "2022-08-27T01:21:20.080Z"
   },
   {
    "duration": 245,
    "start_time": "2022-08-27T01:21:20.084Z"
   },
   {
    "duration": 191,
    "start_time": "2022-08-27T01:21:20.331Z"
   },
   {
    "duration": 6,
    "start_time": "2022-08-27T01:21:20.524Z"
   },
   {
    "duration": 766,
    "start_time": "2022-08-27T01:21:20.532Z"
   },
   {
    "duration": 635,
    "start_time": "2022-08-27T01:21:21.300Z"
   },
   {
    "duration": 474,
    "start_time": "2022-08-27T01:21:21.937Z"
   },
   {
    "duration": 450,
    "start_time": "2022-08-27T01:21:22.412Z"
   },
   {
    "duration": 126,
    "start_time": "2022-08-27T01:21:22.865Z"
   },
   {
    "duration": 18,
    "start_time": "2022-08-27T01:21:22.992Z"
   },
   {
    "duration": 13,
    "start_time": "2022-08-27T01:21:23.011Z"
   },
   {
    "duration": 15,
    "start_time": "2022-08-27T01:21:23.025Z"
   },
   {
    "duration": 4,
    "start_time": "2022-08-27T01:21:23.042Z"
   },
   {
    "duration": 8,
    "start_time": "2022-08-27T01:21:23.047Z"
   },
   {
    "duration": 5,
    "start_time": "2022-08-27T01:21:23.057Z"
   },
   {
    "duration": 8,
    "start_time": "2022-08-27T01:21:23.064Z"
   },
   {
    "duration": 27,
    "start_time": "2022-08-27T01:21:23.073Z"
   },
   {
    "duration": 3,
    "start_time": "2022-08-27T01:21:23.102Z"
   },
   {
    "duration": 100755,
    "start_time": "2022-08-27T01:21:23.107Z"
   },
   {
    "duration": 4,
    "start_time": "2022-08-27T01:23:03.886Z"
   },
   {
    "duration": 8035,
    "start_time": "2022-08-27T01:23:03.892Z"
   },
   {
    "duration": 3,
    "start_time": "2022-08-27T01:23:11.929Z"
   },
   {
    "duration": 7,
    "start_time": "2022-08-27T01:23:11.933Z"
   },
   {
    "duration": 16345,
    "start_time": "2022-08-27T01:23:11.941Z"
   },
   {
    "duration": 3,
    "start_time": "2022-08-27T01:23:28.288Z"
   },
   {
    "duration": 743,
    "start_time": "2022-08-27T01:23:28.293Z"
   },
   {
    "duration": 6,
    "start_time": "2022-08-27T01:23:29.038Z"
   },
   {
    "duration": 17,
    "start_time": "2022-08-27T01:23:29.045Z"
   },
   {
    "duration": 15,
    "start_time": "2022-08-27T01:23:29.063Z"
   },
   {
    "duration": 46,
    "start_time": "2022-08-27T13:44:18.951Z"
   },
   {
    "duration": 2096,
    "start_time": "2022-08-27T13:44:25.986Z"
   },
   {
    "duration": 111,
    "start_time": "2022-08-27T13:44:28.084Z"
   },
   {
    "duration": 10,
    "start_time": "2022-08-27T13:44:28.197Z"
   },
   {
    "duration": 5,
    "start_time": "2022-08-27T13:44:28.209Z"
   },
   {
    "duration": 8,
    "start_time": "2022-08-27T13:44:29.402Z"
   },
   {
    "duration": 4,
    "start_time": "2022-08-27T13:44:30.167Z"
   },
   {
    "duration": 234,
    "start_time": "2022-08-27T13:44:31.215Z"
   }
  ],
  "kernelspec": {
   "display_name": "Python 3 (ipykernel)",
   "language": "python",
   "name": "python3"
  },
  "language_info": {
   "codemirror_mode": {
    "name": "ipython",
    "version": 3
   },
   "file_extension": ".py",
   "mimetype": "text/x-python",
   "name": "python",
   "nbconvert_exporter": "python",
   "pygments_lexer": "ipython3",
   "version": "3.9.7"
  },
  "toc": {
   "base_numbering": 1,
   "nav_menu": {},
   "number_sections": false,
   "sideBar": true,
   "skip_h1_title": true,
   "title_cell": "Содержание",
   "title_sidebar": "Contents",
   "toc_cell": true,
   "toc_position": {
    "height": "calc(100% - 180px)",
    "left": "10px",
    "top": "150px",
    "width": "165px"
   },
   "toc_section_display": true,
   "toc_window_display": true
  }
 },
 "nbformat": 4,
 "nbformat_minor": 2
}
