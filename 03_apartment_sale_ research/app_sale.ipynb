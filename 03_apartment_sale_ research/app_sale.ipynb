{
 "cells": [
  {
   "cell_type": "markdown",
   "metadata": {},
   "source": [
    "<div style=\"border:solid green 3px; padding: 20px\">\n",
    "\n",
    "<b>Привет!</b>\n",
    "\n",
    "Меня зовут Сороколетов Илья и я буду проверять твой проект. \n",
    "\n",
    "Предлагаю общаться на «**ты**», но если тебе будет комфортнее общаться на «**вы**», то сообщи об этом в комментариях)\n",
    "\n",
    "\n",
    "Для твоего удобства, я буду выделять свои комментарии следующим образом:\n",
    "\n",
    "<div class=\"alert alert-danger\">\n",
    "<b>❌ Комментарий ревьюера v1:</b> Самые важные замечания. Они указывают на ключевые моменты, которые влияют на конечный результат проекта. </div>\n",
    "\n",
    "<div class=\"alert alert-warning\">\n",
    "<b>⚠️ Комментарий ревьюера v1:</b> Советы или замечания, которые помогут сделать твою работу лучше, но необязательны к выполнению.\n",
    "\n",
    "</div>\n",
    "\n",
    "<div class=\"alert alert-success\">\n",
    "<b>✔️ Комментарий ревьюера v1:</b> Так я выделяю все остальные комментарии.</div>\n",
    "\n",
    "\n",
    "Пометками <b>v1-v2-v3-...</b> я буду отмечать версию проверки. Так ты сможешь быстро найти мои новые комментарии.\n",
    "\n",
    "Давай работать над проектом в диалоге: если ты что-то меняешь в проекте по моим рекомендациям — пиши об этом. Выбери для своих комментариев какой-то заметный цвет, так мне будет легче отследить изменения, например вот так:\n",
    "    \n",
    "<div class=\"alert alert-info\">\n",
    "<b>Комментарий студента:</b>\n",
    "<br>\n",
    "</div>\n",
    "\n",
    "<b>Пожалуйста, не перемещай, не изменяй и не удаляй мои комментарии.</b> Если ты оставляешь свои комментарии, то делай это под моими, чтобы сообщения были расположены в хронологическом порядке. Всё это поможет выполнить повторную проверку твоего проекта быстрее. \n",
    "Если ты оставляешь свои комментарии, то делай это под моими, чтобы сообщения были расположены в хронологическом порядке. Всё это поможет выполнить повторную проверку твоего проекта быстрее. \n",
    "\n",
    "Перед отправкой работы я рекомендую нажимать Kernel -> Restart & Run All. Это перезапустит ядро и по очереди выполнит все ячейки. Так ты сможешь проверить, что всё работает корректно. Кнопка Kernel находится в панели сверху\n",
    "\n",
    "Обязательно задавай вопросы если они возникнут, а я перехожу к проверке)\n",
    "\n",
    "P.S. На всякий случай, я оставлю пустой шаблон для твоих комментариев ниже. Кликни два раза на мой комментарий, скопируй последние четыре строчки кода и вставляй их в пустую ячейку там, где ты хочешь оставить комментарий. Не забудь только перед этим сменить тип ячейки на Markdown. Быстро это можно сделать так: кликнуть на ячейку - нажать ESC - нажать M. \n",
    "    \n",
    "    \n",
    "<div class=\"alert alert-info\">\n",
    "<b>Комментарий студента:</b>\n",
    "<br>Место для твоего комментария\n",
    "</div>"
   ]
  },
  {
   "cell_type": "markdown",
   "metadata": {
    "toc": true
   },
   "source": [
    "<h1>Содержание<span class=\"tocSkip\"></span></h1>\n",
    "<div class=\"toc\"><ul class=\"toc-item\"><li><span><a href=\"#Изучение-данных-из-файла\" data-toc-modified-id=\"Изучение-данных-из-файла-1\"><span class=\"toc-item-num\">1&nbsp;&nbsp;</span>Изучение данных из файла</a></span><ul class=\"toc-item\"><li><span><a href=\"#Вывод\" data-toc-modified-id=\"Вывод-1.1\"><span class=\"toc-item-num\">1.1&nbsp;&nbsp;</span>Вывод</a></span></li></ul></li><li><span><a href=\"#Предобработка-данных\" data-toc-modified-id=\"Предобработка-данных-2\"><span class=\"toc-item-num\">2&nbsp;&nbsp;</span>Предобработка данных</a></span></li><li><span><a href=\"#Расчёты-и-добавление-результатов-в-таблицу\" data-toc-modified-id=\"Расчёты-и-добавление-результатов-в-таблицу-3\"><span class=\"toc-item-num\">3&nbsp;&nbsp;</span>Расчёты и добавление результатов в таблицу</a></span></li><li><span><a href=\"#Исследовательский-анализ-данных\" data-toc-modified-id=\"Исследовательский-анализ-данных-4\"><span class=\"toc-item-num\">4&nbsp;&nbsp;</span>Исследовательский анализ данных</a></span></li><li><span><a href=\"#Общий-вывод\" data-toc-modified-id=\"Общий-вывод-5\"><span class=\"toc-item-num\">5&nbsp;&nbsp;</span>Общий вывод</a></span></li><li><span><a href=\"#Чек-лист-готовности-проекта\" data-toc-modified-id=\"Чек-лист-готовности-проекта-6\"><span class=\"toc-item-num\">6&nbsp;&nbsp;</span>Чек-лист готовности проекта</a></span></li></ul></div>"
   ]
  },
  {
   "cell_type": "markdown",
   "metadata": {},
   "source": [
    "# Исследование объявлений о продаже квартир\n",
    "\n",
    "В вашем распоряжении данные сервиса Яндекc Недвижимость — архив объявлений о продаже квартир в Санкт-Петербурге и соседних населённых пунктах за несколько лет. Нужно научиться определять рыночную стоимость объектов недвижимости. Ваша задача — установить параметры. Это позволит построить автоматизированную систему: она отследит аномалии и мошенническую деятельность. \n",
    "\n",
    "По каждой квартире на продажу доступны два вида данных. Первые вписаны пользователем, вторые получены автоматически на основе картографических данных. Например, расстояние до центра, аэропорта, ближайшего парка и водоёма. "
   ]
  },
  {
   "cell_type": "markdown",
   "metadata": {},
   "source": [
    "## Изучение данных из файла"
   ]
  },
  {
   "cell_type": "code",
   "execution_count": 1,
   "metadata": {},
   "outputs": [],
   "source": [
    "import pandas as pd\n",
    "import matplotlib.pyplot as plt\n",
    "import seaborn as sns"
   ]
  },
  {
   "cell_type": "code",
   "execution_count": 2,
   "metadata": {},
   "outputs": [],
   "source": [
    "df = pd.read_csv('/datasets/real_estate_data.csv',sep='\\t')#чтение данных"
   ]
  },
  {
   "cell_type": "code",
   "execution_count": 3,
   "metadata": {},
   "outputs": [],
   "source": [
    "def review(row):\n",
    "    print('head')\n",
    "    display(row.head(10))\n",
    "    print('-----------------------------------------')\n",
    "    print('describe')\n",
    "    display(row.describe())\n",
    "    print('-----------------------------------------')\n",
    "    print('info')\n",
    "    display(row.info())\n",
    "    print('-----------------------------------------')\n",
    "    print('duplicated')\n",
    "    print(row.duplicated().sum())\n",
    "    print('-----------------------------------------')\n",
    "    print('describe')\n",
    "    display(row.describe())\n",
    "    print('-----------------------------------------')\n",
    "    print('Пропуски')\n",
    "    display(row.isna().mean())\n",
    "    return"
   ]
  },
  {
   "cell_type": "code",
   "execution_count": 4,
   "metadata": {
    "scrolled": false
   },
   "outputs": [
    {
     "name": "stdout",
     "output_type": "stream",
     "text": [
      "head\n"
     ]
    },
    {
     "data": {
      "text/html": [
       "<div>\n",
       "<style scoped>\n",
       "    .dataframe tbody tr th:only-of-type {\n",
       "        vertical-align: middle;\n",
       "    }\n",
       "\n",
       "    .dataframe tbody tr th {\n",
       "        vertical-align: top;\n",
       "    }\n",
       "\n",
       "    .dataframe thead th {\n",
       "        text-align: right;\n",
       "    }\n",
       "</style>\n",
       "<table border=\"1\" class=\"dataframe\">\n",
       "  <thead>\n",
       "    <tr style=\"text-align: right;\">\n",
       "      <th></th>\n",
       "      <th>total_images</th>\n",
       "      <th>last_price</th>\n",
       "      <th>total_area</th>\n",
       "      <th>first_day_exposition</th>\n",
       "      <th>rooms</th>\n",
       "      <th>ceiling_height</th>\n",
       "      <th>floors_total</th>\n",
       "      <th>living_area</th>\n",
       "      <th>floor</th>\n",
       "      <th>is_apartment</th>\n",
       "      <th>...</th>\n",
       "      <th>kitchen_area</th>\n",
       "      <th>balcony</th>\n",
       "      <th>locality_name</th>\n",
       "      <th>airports_nearest</th>\n",
       "      <th>cityCenters_nearest</th>\n",
       "      <th>parks_around3000</th>\n",
       "      <th>parks_nearest</th>\n",
       "      <th>ponds_around3000</th>\n",
       "      <th>ponds_nearest</th>\n",
       "      <th>days_exposition</th>\n",
       "    </tr>\n",
       "  </thead>\n",
       "  <tbody>\n",
       "    <tr>\n",
       "      <th>0</th>\n",
       "      <td>20</td>\n",
       "      <td>13000000.0</td>\n",
       "      <td>108.00</td>\n",
       "      <td>2019-03-07T00:00:00</td>\n",
       "      <td>3</td>\n",
       "      <td>2.70</td>\n",
       "      <td>16.0</td>\n",
       "      <td>51.00</td>\n",
       "      <td>8</td>\n",
       "      <td>NaN</td>\n",
       "      <td>...</td>\n",
       "      <td>25.00</td>\n",
       "      <td>NaN</td>\n",
       "      <td>Санкт-Петербург</td>\n",
       "      <td>18863.0</td>\n",
       "      <td>16028.0</td>\n",
       "      <td>1.0</td>\n",
       "      <td>482.0</td>\n",
       "      <td>2.0</td>\n",
       "      <td>755.0</td>\n",
       "      <td>NaN</td>\n",
       "    </tr>\n",
       "    <tr>\n",
       "      <th>1</th>\n",
       "      <td>7</td>\n",
       "      <td>3350000.0</td>\n",
       "      <td>40.40</td>\n",
       "      <td>2018-12-04T00:00:00</td>\n",
       "      <td>1</td>\n",
       "      <td>NaN</td>\n",
       "      <td>11.0</td>\n",
       "      <td>18.60</td>\n",
       "      <td>1</td>\n",
       "      <td>NaN</td>\n",
       "      <td>...</td>\n",
       "      <td>11.00</td>\n",
       "      <td>2.0</td>\n",
       "      <td>посёлок Шушары</td>\n",
       "      <td>12817.0</td>\n",
       "      <td>18603.0</td>\n",
       "      <td>0.0</td>\n",
       "      <td>NaN</td>\n",
       "      <td>0.0</td>\n",
       "      <td>NaN</td>\n",
       "      <td>81.0</td>\n",
       "    </tr>\n",
       "    <tr>\n",
       "      <th>2</th>\n",
       "      <td>10</td>\n",
       "      <td>5196000.0</td>\n",
       "      <td>56.00</td>\n",
       "      <td>2015-08-20T00:00:00</td>\n",
       "      <td>2</td>\n",
       "      <td>NaN</td>\n",
       "      <td>5.0</td>\n",
       "      <td>34.30</td>\n",
       "      <td>4</td>\n",
       "      <td>NaN</td>\n",
       "      <td>...</td>\n",
       "      <td>8.30</td>\n",
       "      <td>0.0</td>\n",
       "      <td>Санкт-Петербург</td>\n",
       "      <td>21741.0</td>\n",
       "      <td>13933.0</td>\n",
       "      <td>1.0</td>\n",
       "      <td>90.0</td>\n",
       "      <td>2.0</td>\n",
       "      <td>574.0</td>\n",
       "      <td>558.0</td>\n",
       "    </tr>\n",
       "    <tr>\n",
       "      <th>3</th>\n",
       "      <td>0</td>\n",
       "      <td>64900000.0</td>\n",
       "      <td>159.00</td>\n",
       "      <td>2015-07-24T00:00:00</td>\n",
       "      <td>3</td>\n",
       "      <td>NaN</td>\n",
       "      <td>14.0</td>\n",
       "      <td>NaN</td>\n",
       "      <td>9</td>\n",
       "      <td>NaN</td>\n",
       "      <td>...</td>\n",
       "      <td>NaN</td>\n",
       "      <td>0.0</td>\n",
       "      <td>Санкт-Петербург</td>\n",
       "      <td>28098.0</td>\n",
       "      <td>6800.0</td>\n",
       "      <td>2.0</td>\n",
       "      <td>84.0</td>\n",
       "      <td>3.0</td>\n",
       "      <td>234.0</td>\n",
       "      <td>424.0</td>\n",
       "    </tr>\n",
       "    <tr>\n",
       "      <th>4</th>\n",
       "      <td>2</td>\n",
       "      <td>10000000.0</td>\n",
       "      <td>100.00</td>\n",
       "      <td>2018-06-19T00:00:00</td>\n",
       "      <td>2</td>\n",
       "      <td>3.03</td>\n",
       "      <td>14.0</td>\n",
       "      <td>32.00</td>\n",
       "      <td>13</td>\n",
       "      <td>NaN</td>\n",
       "      <td>...</td>\n",
       "      <td>41.00</td>\n",
       "      <td>NaN</td>\n",
       "      <td>Санкт-Петербург</td>\n",
       "      <td>31856.0</td>\n",
       "      <td>8098.0</td>\n",
       "      <td>2.0</td>\n",
       "      <td>112.0</td>\n",
       "      <td>1.0</td>\n",
       "      <td>48.0</td>\n",
       "      <td>121.0</td>\n",
       "    </tr>\n",
       "    <tr>\n",
       "      <th>5</th>\n",
       "      <td>10</td>\n",
       "      <td>2890000.0</td>\n",
       "      <td>30.40</td>\n",
       "      <td>2018-09-10T00:00:00</td>\n",
       "      <td>1</td>\n",
       "      <td>NaN</td>\n",
       "      <td>12.0</td>\n",
       "      <td>14.40</td>\n",
       "      <td>5</td>\n",
       "      <td>NaN</td>\n",
       "      <td>...</td>\n",
       "      <td>9.10</td>\n",
       "      <td>NaN</td>\n",
       "      <td>городской посёлок Янино-1</td>\n",
       "      <td>NaN</td>\n",
       "      <td>NaN</td>\n",
       "      <td>NaN</td>\n",
       "      <td>NaN</td>\n",
       "      <td>NaN</td>\n",
       "      <td>NaN</td>\n",
       "      <td>55.0</td>\n",
       "    </tr>\n",
       "    <tr>\n",
       "      <th>6</th>\n",
       "      <td>6</td>\n",
       "      <td>3700000.0</td>\n",
       "      <td>37.30</td>\n",
       "      <td>2017-11-02T00:00:00</td>\n",
       "      <td>1</td>\n",
       "      <td>NaN</td>\n",
       "      <td>26.0</td>\n",
       "      <td>10.60</td>\n",
       "      <td>6</td>\n",
       "      <td>NaN</td>\n",
       "      <td>...</td>\n",
       "      <td>14.40</td>\n",
       "      <td>1.0</td>\n",
       "      <td>посёлок Парголово</td>\n",
       "      <td>52996.0</td>\n",
       "      <td>19143.0</td>\n",
       "      <td>0.0</td>\n",
       "      <td>NaN</td>\n",
       "      <td>0.0</td>\n",
       "      <td>NaN</td>\n",
       "      <td>155.0</td>\n",
       "    </tr>\n",
       "    <tr>\n",
       "      <th>7</th>\n",
       "      <td>5</td>\n",
       "      <td>7915000.0</td>\n",
       "      <td>71.60</td>\n",
       "      <td>2019-04-18T00:00:00</td>\n",
       "      <td>2</td>\n",
       "      <td>NaN</td>\n",
       "      <td>24.0</td>\n",
       "      <td>NaN</td>\n",
       "      <td>22</td>\n",
       "      <td>NaN</td>\n",
       "      <td>...</td>\n",
       "      <td>18.90</td>\n",
       "      <td>2.0</td>\n",
       "      <td>Санкт-Петербург</td>\n",
       "      <td>23982.0</td>\n",
       "      <td>11634.0</td>\n",
       "      <td>0.0</td>\n",
       "      <td>NaN</td>\n",
       "      <td>0.0</td>\n",
       "      <td>NaN</td>\n",
       "      <td>NaN</td>\n",
       "    </tr>\n",
       "    <tr>\n",
       "      <th>8</th>\n",
       "      <td>20</td>\n",
       "      <td>2900000.0</td>\n",
       "      <td>33.16</td>\n",
       "      <td>2018-05-23T00:00:00</td>\n",
       "      <td>1</td>\n",
       "      <td>NaN</td>\n",
       "      <td>27.0</td>\n",
       "      <td>15.43</td>\n",
       "      <td>26</td>\n",
       "      <td>NaN</td>\n",
       "      <td>...</td>\n",
       "      <td>8.81</td>\n",
       "      <td>NaN</td>\n",
       "      <td>посёлок Мурино</td>\n",
       "      <td>NaN</td>\n",
       "      <td>NaN</td>\n",
       "      <td>NaN</td>\n",
       "      <td>NaN</td>\n",
       "      <td>NaN</td>\n",
       "      <td>NaN</td>\n",
       "      <td>189.0</td>\n",
       "    </tr>\n",
       "    <tr>\n",
       "      <th>9</th>\n",
       "      <td>18</td>\n",
       "      <td>5400000.0</td>\n",
       "      <td>61.00</td>\n",
       "      <td>2017-02-26T00:00:00</td>\n",
       "      <td>3</td>\n",
       "      <td>2.50</td>\n",
       "      <td>9.0</td>\n",
       "      <td>43.60</td>\n",
       "      <td>7</td>\n",
       "      <td>NaN</td>\n",
       "      <td>...</td>\n",
       "      <td>6.50</td>\n",
       "      <td>2.0</td>\n",
       "      <td>Санкт-Петербург</td>\n",
       "      <td>50898.0</td>\n",
       "      <td>15008.0</td>\n",
       "      <td>0.0</td>\n",
       "      <td>NaN</td>\n",
       "      <td>0.0</td>\n",
       "      <td>NaN</td>\n",
       "      <td>289.0</td>\n",
       "    </tr>\n",
       "  </tbody>\n",
       "</table>\n",
       "<p>10 rows × 22 columns</p>\n",
       "</div>"
      ],
      "text/plain": [
       "   total_images  last_price  total_area first_day_exposition  rooms  \\\n",
       "0            20  13000000.0      108.00  2019-03-07T00:00:00      3   \n",
       "1             7   3350000.0       40.40  2018-12-04T00:00:00      1   \n",
       "2            10   5196000.0       56.00  2015-08-20T00:00:00      2   \n",
       "3             0  64900000.0      159.00  2015-07-24T00:00:00      3   \n",
       "4             2  10000000.0      100.00  2018-06-19T00:00:00      2   \n",
       "5            10   2890000.0       30.40  2018-09-10T00:00:00      1   \n",
       "6             6   3700000.0       37.30  2017-11-02T00:00:00      1   \n",
       "7             5   7915000.0       71.60  2019-04-18T00:00:00      2   \n",
       "8            20   2900000.0       33.16  2018-05-23T00:00:00      1   \n",
       "9            18   5400000.0       61.00  2017-02-26T00:00:00      3   \n",
       "\n",
       "   ceiling_height  floors_total  living_area  floor is_apartment  ...  \\\n",
       "0            2.70          16.0        51.00      8          NaN  ...   \n",
       "1             NaN          11.0        18.60      1          NaN  ...   \n",
       "2             NaN           5.0        34.30      4          NaN  ...   \n",
       "3             NaN          14.0          NaN      9          NaN  ...   \n",
       "4            3.03          14.0        32.00     13          NaN  ...   \n",
       "5             NaN          12.0        14.40      5          NaN  ...   \n",
       "6             NaN          26.0        10.60      6          NaN  ...   \n",
       "7             NaN          24.0          NaN     22          NaN  ...   \n",
       "8             NaN          27.0        15.43     26          NaN  ...   \n",
       "9            2.50           9.0        43.60      7          NaN  ...   \n",
       "\n",
       "   kitchen_area  balcony              locality_name  airports_nearest  \\\n",
       "0         25.00      NaN            Санкт-Петербург           18863.0   \n",
       "1         11.00      2.0             посёлок Шушары           12817.0   \n",
       "2          8.30      0.0            Санкт-Петербург           21741.0   \n",
       "3           NaN      0.0            Санкт-Петербург           28098.0   \n",
       "4         41.00      NaN            Санкт-Петербург           31856.0   \n",
       "5          9.10      NaN  городской посёлок Янино-1               NaN   \n",
       "6         14.40      1.0          посёлок Парголово           52996.0   \n",
       "7         18.90      2.0            Санкт-Петербург           23982.0   \n",
       "8          8.81      NaN             посёлок Мурино               NaN   \n",
       "9          6.50      2.0            Санкт-Петербург           50898.0   \n",
       "\n",
       "  cityCenters_nearest  parks_around3000  parks_nearest  ponds_around3000  \\\n",
       "0             16028.0               1.0          482.0               2.0   \n",
       "1             18603.0               0.0            NaN               0.0   \n",
       "2             13933.0               1.0           90.0               2.0   \n",
       "3              6800.0               2.0           84.0               3.0   \n",
       "4              8098.0               2.0          112.0               1.0   \n",
       "5                 NaN               NaN            NaN               NaN   \n",
       "6             19143.0               0.0            NaN               0.0   \n",
       "7             11634.0               0.0            NaN               0.0   \n",
       "8                 NaN               NaN            NaN               NaN   \n",
       "9             15008.0               0.0            NaN               0.0   \n",
       "\n",
       "   ponds_nearest  days_exposition  \n",
       "0          755.0              NaN  \n",
       "1            NaN             81.0  \n",
       "2          574.0            558.0  \n",
       "3          234.0            424.0  \n",
       "4           48.0            121.0  \n",
       "5            NaN             55.0  \n",
       "6            NaN            155.0  \n",
       "7            NaN              NaN  \n",
       "8            NaN            189.0  \n",
       "9            NaN            289.0  \n",
       "\n",
       "[10 rows x 22 columns]"
      ]
     },
     "metadata": {},
     "output_type": "display_data"
    },
    {
     "name": "stdout",
     "output_type": "stream",
     "text": [
      "-----------------------------------------\n",
      "describe\n"
     ]
    },
    {
     "data": {
      "text/html": [
       "<div>\n",
       "<style scoped>\n",
       "    .dataframe tbody tr th:only-of-type {\n",
       "        vertical-align: middle;\n",
       "    }\n",
       "\n",
       "    .dataframe tbody tr th {\n",
       "        vertical-align: top;\n",
       "    }\n",
       "\n",
       "    .dataframe thead th {\n",
       "        text-align: right;\n",
       "    }\n",
       "</style>\n",
       "<table border=\"1\" class=\"dataframe\">\n",
       "  <thead>\n",
       "    <tr style=\"text-align: right;\">\n",
       "      <th></th>\n",
       "      <th>total_images</th>\n",
       "      <th>last_price</th>\n",
       "      <th>total_area</th>\n",
       "      <th>rooms</th>\n",
       "      <th>ceiling_height</th>\n",
       "      <th>floors_total</th>\n",
       "      <th>living_area</th>\n",
       "      <th>floor</th>\n",
       "      <th>kitchen_area</th>\n",
       "      <th>balcony</th>\n",
       "      <th>airports_nearest</th>\n",
       "      <th>cityCenters_nearest</th>\n",
       "      <th>parks_around3000</th>\n",
       "      <th>parks_nearest</th>\n",
       "      <th>ponds_around3000</th>\n",
       "      <th>ponds_nearest</th>\n",
       "      <th>days_exposition</th>\n",
       "    </tr>\n",
       "  </thead>\n",
       "  <tbody>\n",
       "    <tr>\n",
       "      <th>count</th>\n",
       "      <td>23699.000000</td>\n",
       "      <td>2.369900e+04</td>\n",
       "      <td>23699.000000</td>\n",
       "      <td>23699.000000</td>\n",
       "      <td>14504.000000</td>\n",
       "      <td>23613.000000</td>\n",
       "      <td>21796.000000</td>\n",
       "      <td>23699.000000</td>\n",
       "      <td>21421.000000</td>\n",
       "      <td>12180.000000</td>\n",
       "      <td>18157.000000</td>\n",
       "      <td>18180.000000</td>\n",
       "      <td>18181.000000</td>\n",
       "      <td>8079.000000</td>\n",
       "      <td>18181.000000</td>\n",
       "      <td>9110.000000</td>\n",
       "      <td>20518.000000</td>\n",
       "    </tr>\n",
       "    <tr>\n",
       "      <th>mean</th>\n",
       "      <td>9.858475</td>\n",
       "      <td>6.541549e+06</td>\n",
       "      <td>60.348651</td>\n",
       "      <td>2.070636</td>\n",
       "      <td>2.771499</td>\n",
       "      <td>10.673824</td>\n",
       "      <td>34.457852</td>\n",
       "      <td>5.892358</td>\n",
       "      <td>10.569807</td>\n",
       "      <td>1.150082</td>\n",
       "      <td>28793.672193</td>\n",
       "      <td>14191.277833</td>\n",
       "      <td>0.611408</td>\n",
       "      <td>490.804555</td>\n",
       "      <td>0.770255</td>\n",
       "      <td>517.980900</td>\n",
       "      <td>180.888634</td>\n",
       "    </tr>\n",
       "    <tr>\n",
       "      <th>std</th>\n",
       "      <td>5.682529</td>\n",
       "      <td>1.088701e+07</td>\n",
       "      <td>35.654083</td>\n",
       "      <td>1.078405</td>\n",
       "      <td>1.261056</td>\n",
       "      <td>6.597173</td>\n",
       "      <td>22.030445</td>\n",
       "      <td>4.885249</td>\n",
       "      <td>5.905438</td>\n",
       "      <td>1.071300</td>\n",
       "      <td>12630.880622</td>\n",
       "      <td>8608.386210</td>\n",
       "      <td>0.802074</td>\n",
       "      <td>342.317995</td>\n",
       "      <td>0.938346</td>\n",
       "      <td>277.720643</td>\n",
       "      <td>219.727988</td>\n",
       "    </tr>\n",
       "    <tr>\n",
       "      <th>min</th>\n",
       "      <td>0.000000</td>\n",
       "      <td>1.219000e+04</td>\n",
       "      <td>12.000000</td>\n",
       "      <td>0.000000</td>\n",
       "      <td>1.000000</td>\n",
       "      <td>1.000000</td>\n",
       "      <td>2.000000</td>\n",
       "      <td>1.000000</td>\n",
       "      <td>1.300000</td>\n",
       "      <td>0.000000</td>\n",
       "      <td>0.000000</td>\n",
       "      <td>181.000000</td>\n",
       "      <td>0.000000</td>\n",
       "      <td>1.000000</td>\n",
       "      <td>0.000000</td>\n",
       "      <td>13.000000</td>\n",
       "      <td>1.000000</td>\n",
       "    </tr>\n",
       "    <tr>\n",
       "      <th>25%</th>\n",
       "      <td>6.000000</td>\n",
       "      <td>3.400000e+06</td>\n",
       "      <td>40.000000</td>\n",
       "      <td>1.000000</td>\n",
       "      <td>2.520000</td>\n",
       "      <td>5.000000</td>\n",
       "      <td>18.600000</td>\n",
       "      <td>2.000000</td>\n",
       "      <td>7.000000</td>\n",
       "      <td>0.000000</td>\n",
       "      <td>18585.000000</td>\n",
       "      <td>9238.000000</td>\n",
       "      <td>0.000000</td>\n",
       "      <td>288.000000</td>\n",
       "      <td>0.000000</td>\n",
       "      <td>294.000000</td>\n",
       "      <td>45.000000</td>\n",
       "    </tr>\n",
       "    <tr>\n",
       "      <th>50%</th>\n",
       "      <td>9.000000</td>\n",
       "      <td>4.650000e+06</td>\n",
       "      <td>52.000000</td>\n",
       "      <td>2.000000</td>\n",
       "      <td>2.650000</td>\n",
       "      <td>9.000000</td>\n",
       "      <td>30.000000</td>\n",
       "      <td>4.000000</td>\n",
       "      <td>9.100000</td>\n",
       "      <td>1.000000</td>\n",
       "      <td>26726.000000</td>\n",
       "      <td>13098.500000</td>\n",
       "      <td>0.000000</td>\n",
       "      <td>455.000000</td>\n",
       "      <td>1.000000</td>\n",
       "      <td>502.000000</td>\n",
       "      <td>95.000000</td>\n",
       "    </tr>\n",
       "    <tr>\n",
       "      <th>75%</th>\n",
       "      <td>14.000000</td>\n",
       "      <td>6.800000e+06</td>\n",
       "      <td>69.900000</td>\n",
       "      <td>3.000000</td>\n",
       "      <td>2.800000</td>\n",
       "      <td>16.000000</td>\n",
       "      <td>42.300000</td>\n",
       "      <td>8.000000</td>\n",
       "      <td>12.000000</td>\n",
       "      <td>2.000000</td>\n",
       "      <td>37273.000000</td>\n",
       "      <td>16293.000000</td>\n",
       "      <td>1.000000</td>\n",
       "      <td>612.000000</td>\n",
       "      <td>1.000000</td>\n",
       "      <td>729.000000</td>\n",
       "      <td>232.000000</td>\n",
       "    </tr>\n",
       "    <tr>\n",
       "      <th>max</th>\n",
       "      <td>50.000000</td>\n",
       "      <td>7.630000e+08</td>\n",
       "      <td>900.000000</td>\n",
       "      <td>19.000000</td>\n",
       "      <td>100.000000</td>\n",
       "      <td>60.000000</td>\n",
       "      <td>409.700000</td>\n",
       "      <td>33.000000</td>\n",
       "      <td>112.000000</td>\n",
       "      <td>5.000000</td>\n",
       "      <td>84869.000000</td>\n",
       "      <td>65968.000000</td>\n",
       "      <td>3.000000</td>\n",
       "      <td>3190.000000</td>\n",
       "      <td>3.000000</td>\n",
       "      <td>1344.000000</td>\n",
       "      <td>1580.000000</td>\n",
       "    </tr>\n",
       "  </tbody>\n",
       "</table>\n",
       "</div>"
      ],
      "text/plain": [
       "       total_images    last_price    total_area         rooms  ceiling_height  \\\n",
       "count  23699.000000  2.369900e+04  23699.000000  23699.000000    14504.000000   \n",
       "mean       9.858475  6.541549e+06     60.348651      2.070636        2.771499   \n",
       "std        5.682529  1.088701e+07     35.654083      1.078405        1.261056   \n",
       "min        0.000000  1.219000e+04     12.000000      0.000000        1.000000   \n",
       "25%        6.000000  3.400000e+06     40.000000      1.000000        2.520000   \n",
       "50%        9.000000  4.650000e+06     52.000000      2.000000        2.650000   \n",
       "75%       14.000000  6.800000e+06     69.900000      3.000000        2.800000   \n",
       "max       50.000000  7.630000e+08    900.000000     19.000000      100.000000   \n",
       "\n",
       "       floors_total   living_area         floor  kitchen_area       balcony  \\\n",
       "count  23613.000000  21796.000000  23699.000000  21421.000000  12180.000000   \n",
       "mean      10.673824     34.457852      5.892358     10.569807      1.150082   \n",
       "std        6.597173     22.030445      4.885249      5.905438      1.071300   \n",
       "min        1.000000      2.000000      1.000000      1.300000      0.000000   \n",
       "25%        5.000000     18.600000      2.000000      7.000000      0.000000   \n",
       "50%        9.000000     30.000000      4.000000      9.100000      1.000000   \n",
       "75%       16.000000     42.300000      8.000000     12.000000      2.000000   \n",
       "max       60.000000    409.700000     33.000000    112.000000      5.000000   \n",
       "\n",
       "       airports_nearest  cityCenters_nearest  parks_around3000  parks_nearest  \\\n",
       "count      18157.000000         18180.000000      18181.000000    8079.000000   \n",
       "mean       28793.672193         14191.277833          0.611408     490.804555   \n",
       "std        12630.880622          8608.386210          0.802074     342.317995   \n",
       "min            0.000000           181.000000          0.000000       1.000000   \n",
       "25%        18585.000000          9238.000000          0.000000     288.000000   \n",
       "50%        26726.000000         13098.500000          0.000000     455.000000   \n",
       "75%        37273.000000         16293.000000          1.000000     612.000000   \n",
       "max        84869.000000         65968.000000          3.000000    3190.000000   \n",
       "\n",
       "       ponds_around3000  ponds_nearest  days_exposition  \n",
       "count      18181.000000    9110.000000     20518.000000  \n",
       "mean           0.770255     517.980900       180.888634  \n",
       "std            0.938346     277.720643       219.727988  \n",
       "min            0.000000      13.000000         1.000000  \n",
       "25%            0.000000     294.000000        45.000000  \n",
       "50%            1.000000     502.000000        95.000000  \n",
       "75%            1.000000     729.000000       232.000000  \n",
       "max            3.000000    1344.000000      1580.000000  "
      ]
     },
     "metadata": {},
     "output_type": "display_data"
    },
    {
     "name": "stdout",
     "output_type": "stream",
     "text": [
      "-----------------------------------------\n",
      "info\n",
      "<class 'pandas.core.frame.DataFrame'>\n",
      "RangeIndex: 23699 entries, 0 to 23698\n",
      "Data columns (total 22 columns):\n",
      " #   Column                Non-Null Count  Dtype  \n",
      "---  ------                --------------  -----  \n",
      " 0   total_images          23699 non-null  int64  \n",
      " 1   last_price            23699 non-null  float64\n",
      " 2   total_area            23699 non-null  float64\n",
      " 3   first_day_exposition  23699 non-null  object \n",
      " 4   rooms                 23699 non-null  int64  \n",
      " 5   ceiling_height        14504 non-null  float64\n",
      " 6   floors_total          23613 non-null  float64\n",
      " 7   living_area           21796 non-null  float64\n",
      " 8   floor                 23699 non-null  int64  \n",
      " 9   is_apartment          2775 non-null   object \n",
      " 10  studio                23699 non-null  bool   \n",
      " 11  open_plan             23699 non-null  bool   \n",
      " 12  kitchen_area          21421 non-null  float64\n",
      " 13  balcony               12180 non-null  float64\n",
      " 14  locality_name         23650 non-null  object \n",
      " 15  airports_nearest      18157 non-null  float64\n",
      " 16  cityCenters_nearest   18180 non-null  float64\n",
      " 17  parks_around3000      18181 non-null  float64\n",
      " 18  parks_nearest         8079 non-null   float64\n",
      " 19  ponds_around3000      18181 non-null  float64\n",
      " 20  ponds_nearest         9110 non-null   float64\n",
      " 21  days_exposition       20518 non-null  float64\n",
      "dtypes: bool(2), float64(14), int64(3), object(3)\n",
      "memory usage: 3.7+ MB\n"
     ]
    },
    {
     "data": {
      "text/plain": [
       "None"
      ]
     },
     "metadata": {},
     "output_type": "display_data"
    },
    {
     "name": "stdout",
     "output_type": "stream",
     "text": [
      "-----------------------------------------\n",
      "duplicated\n",
      "0\n",
      "-----------------------------------------\n",
      "describe\n"
     ]
    },
    {
     "data": {
      "text/html": [
       "<div>\n",
       "<style scoped>\n",
       "    .dataframe tbody tr th:only-of-type {\n",
       "        vertical-align: middle;\n",
       "    }\n",
       "\n",
       "    .dataframe tbody tr th {\n",
       "        vertical-align: top;\n",
       "    }\n",
       "\n",
       "    .dataframe thead th {\n",
       "        text-align: right;\n",
       "    }\n",
       "</style>\n",
       "<table border=\"1\" class=\"dataframe\">\n",
       "  <thead>\n",
       "    <tr style=\"text-align: right;\">\n",
       "      <th></th>\n",
       "      <th>total_images</th>\n",
       "      <th>last_price</th>\n",
       "      <th>total_area</th>\n",
       "      <th>rooms</th>\n",
       "      <th>ceiling_height</th>\n",
       "      <th>floors_total</th>\n",
       "      <th>living_area</th>\n",
       "      <th>floor</th>\n",
       "      <th>kitchen_area</th>\n",
       "      <th>balcony</th>\n",
       "      <th>airports_nearest</th>\n",
       "      <th>cityCenters_nearest</th>\n",
       "      <th>parks_around3000</th>\n",
       "      <th>parks_nearest</th>\n",
       "      <th>ponds_around3000</th>\n",
       "      <th>ponds_nearest</th>\n",
       "      <th>days_exposition</th>\n",
       "    </tr>\n",
       "  </thead>\n",
       "  <tbody>\n",
       "    <tr>\n",
       "      <th>count</th>\n",
       "      <td>23699.000000</td>\n",
       "      <td>2.369900e+04</td>\n",
       "      <td>23699.000000</td>\n",
       "      <td>23699.000000</td>\n",
       "      <td>14504.000000</td>\n",
       "      <td>23613.000000</td>\n",
       "      <td>21796.000000</td>\n",
       "      <td>23699.000000</td>\n",
       "      <td>21421.000000</td>\n",
       "      <td>12180.000000</td>\n",
       "      <td>18157.000000</td>\n",
       "      <td>18180.000000</td>\n",
       "      <td>18181.000000</td>\n",
       "      <td>8079.000000</td>\n",
       "      <td>18181.000000</td>\n",
       "      <td>9110.000000</td>\n",
       "      <td>20518.000000</td>\n",
       "    </tr>\n",
       "    <tr>\n",
       "      <th>mean</th>\n",
       "      <td>9.858475</td>\n",
       "      <td>6.541549e+06</td>\n",
       "      <td>60.348651</td>\n",
       "      <td>2.070636</td>\n",
       "      <td>2.771499</td>\n",
       "      <td>10.673824</td>\n",
       "      <td>34.457852</td>\n",
       "      <td>5.892358</td>\n",
       "      <td>10.569807</td>\n",
       "      <td>1.150082</td>\n",
       "      <td>28793.672193</td>\n",
       "      <td>14191.277833</td>\n",
       "      <td>0.611408</td>\n",
       "      <td>490.804555</td>\n",
       "      <td>0.770255</td>\n",
       "      <td>517.980900</td>\n",
       "      <td>180.888634</td>\n",
       "    </tr>\n",
       "    <tr>\n",
       "      <th>std</th>\n",
       "      <td>5.682529</td>\n",
       "      <td>1.088701e+07</td>\n",
       "      <td>35.654083</td>\n",
       "      <td>1.078405</td>\n",
       "      <td>1.261056</td>\n",
       "      <td>6.597173</td>\n",
       "      <td>22.030445</td>\n",
       "      <td>4.885249</td>\n",
       "      <td>5.905438</td>\n",
       "      <td>1.071300</td>\n",
       "      <td>12630.880622</td>\n",
       "      <td>8608.386210</td>\n",
       "      <td>0.802074</td>\n",
       "      <td>342.317995</td>\n",
       "      <td>0.938346</td>\n",
       "      <td>277.720643</td>\n",
       "      <td>219.727988</td>\n",
       "    </tr>\n",
       "    <tr>\n",
       "      <th>min</th>\n",
       "      <td>0.000000</td>\n",
       "      <td>1.219000e+04</td>\n",
       "      <td>12.000000</td>\n",
       "      <td>0.000000</td>\n",
       "      <td>1.000000</td>\n",
       "      <td>1.000000</td>\n",
       "      <td>2.000000</td>\n",
       "      <td>1.000000</td>\n",
       "      <td>1.300000</td>\n",
       "      <td>0.000000</td>\n",
       "      <td>0.000000</td>\n",
       "      <td>181.000000</td>\n",
       "      <td>0.000000</td>\n",
       "      <td>1.000000</td>\n",
       "      <td>0.000000</td>\n",
       "      <td>13.000000</td>\n",
       "      <td>1.000000</td>\n",
       "    </tr>\n",
       "    <tr>\n",
       "      <th>25%</th>\n",
       "      <td>6.000000</td>\n",
       "      <td>3.400000e+06</td>\n",
       "      <td>40.000000</td>\n",
       "      <td>1.000000</td>\n",
       "      <td>2.520000</td>\n",
       "      <td>5.000000</td>\n",
       "      <td>18.600000</td>\n",
       "      <td>2.000000</td>\n",
       "      <td>7.000000</td>\n",
       "      <td>0.000000</td>\n",
       "      <td>18585.000000</td>\n",
       "      <td>9238.000000</td>\n",
       "      <td>0.000000</td>\n",
       "      <td>288.000000</td>\n",
       "      <td>0.000000</td>\n",
       "      <td>294.000000</td>\n",
       "      <td>45.000000</td>\n",
       "    </tr>\n",
       "    <tr>\n",
       "      <th>50%</th>\n",
       "      <td>9.000000</td>\n",
       "      <td>4.650000e+06</td>\n",
       "      <td>52.000000</td>\n",
       "      <td>2.000000</td>\n",
       "      <td>2.650000</td>\n",
       "      <td>9.000000</td>\n",
       "      <td>30.000000</td>\n",
       "      <td>4.000000</td>\n",
       "      <td>9.100000</td>\n",
       "      <td>1.000000</td>\n",
       "      <td>26726.000000</td>\n",
       "      <td>13098.500000</td>\n",
       "      <td>0.000000</td>\n",
       "      <td>455.000000</td>\n",
       "      <td>1.000000</td>\n",
       "      <td>502.000000</td>\n",
       "      <td>95.000000</td>\n",
       "    </tr>\n",
       "    <tr>\n",
       "      <th>75%</th>\n",
       "      <td>14.000000</td>\n",
       "      <td>6.800000e+06</td>\n",
       "      <td>69.900000</td>\n",
       "      <td>3.000000</td>\n",
       "      <td>2.800000</td>\n",
       "      <td>16.000000</td>\n",
       "      <td>42.300000</td>\n",
       "      <td>8.000000</td>\n",
       "      <td>12.000000</td>\n",
       "      <td>2.000000</td>\n",
       "      <td>37273.000000</td>\n",
       "      <td>16293.000000</td>\n",
       "      <td>1.000000</td>\n",
       "      <td>612.000000</td>\n",
       "      <td>1.000000</td>\n",
       "      <td>729.000000</td>\n",
       "      <td>232.000000</td>\n",
       "    </tr>\n",
       "    <tr>\n",
       "      <th>max</th>\n",
       "      <td>50.000000</td>\n",
       "      <td>7.630000e+08</td>\n",
       "      <td>900.000000</td>\n",
       "      <td>19.000000</td>\n",
       "      <td>100.000000</td>\n",
       "      <td>60.000000</td>\n",
       "      <td>409.700000</td>\n",
       "      <td>33.000000</td>\n",
       "      <td>112.000000</td>\n",
       "      <td>5.000000</td>\n",
       "      <td>84869.000000</td>\n",
       "      <td>65968.000000</td>\n",
       "      <td>3.000000</td>\n",
       "      <td>3190.000000</td>\n",
       "      <td>3.000000</td>\n",
       "      <td>1344.000000</td>\n",
       "      <td>1580.000000</td>\n",
       "    </tr>\n",
       "  </tbody>\n",
       "</table>\n",
       "</div>"
      ],
      "text/plain": [
       "       total_images    last_price    total_area         rooms  ceiling_height  \\\n",
       "count  23699.000000  2.369900e+04  23699.000000  23699.000000    14504.000000   \n",
       "mean       9.858475  6.541549e+06     60.348651      2.070636        2.771499   \n",
       "std        5.682529  1.088701e+07     35.654083      1.078405        1.261056   \n",
       "min        0.000000  1.219000e+04     12.000000      0.000000        1.000000   \n",
       "25%        6.000000  3.400000e+06     40.000000      1.000000        2.520000   \n",
       "50%        9.000000  4.650000e+06     52.000000      2.000000        2.650000   \n",
       "75%       14.000000  6.800000e+06     69.900000      3.000000        2.800000   \n",
       "max       50.000000  7.630000e+08    900.000000     19.000000      100.000000   \n",
       "\n",
       "       floors_total   living_area         floor  kitchen_area       balcony  \\\n",
       "count  23613.000000  21796.000000  23699.000000  21421.000000  12180.000000   \n",
       "mean      10.673824     34.457852      5.892358     10.569807      1.150082   \n",
       "std        6.597173     22.030445      4.885249      5.905438      1.071300   \n",
       "min        1.000000      2.000000      1.000000      1.300000      0.000000   \n",
       "25%        5.000000     18.600000      2.000000      7.000000      0.000000   \n",
       "50%        9.000000     30.000000      4.000000      9.100000      1.000000   \n",
       "75%       16.000000     42.300000      8.000000     12.000000      2.000000   \n",
       "max       60.000000    409.700000     33.000000    112.000000      5.000000   \n",
       "\n",
       "       airports_nearest  cityCenters_nearest  parks_around3000  parks_nearest  \\\n",
       "count      18157.000000         18180.000000      18181.000000    8079.000000   \n",
       "mean       28793.672193         14191.277833          0.611408     490.804555   \n",
       "std        12630.880622          8608.386210          0.802074     342.317995   \n",
       "min            0.000000           181.000000          0.000000       1.000000   \n",
       "25%        18585.000000          9238.000000          0.000000     288.000000   \n",
       "50%        26726.000000         13098.500000          0.000000     455.000000   \n",
       "75%        37273.000000         16293.000000          1.000000     612.000000   \n",
       "max        84869.000000         65968.000000          3.000000    3190.000000   \n",
       "\n",
       "       ponds_around3000  ponds_nearest  days_exposition  \n",
       "count      18181.000000    9110.000000     20518.000000  \n",
       "mean           0.770255     517.980900       180.888634  \n",
       "std            0.938346     277.720643       219.727988  \n",
       "min            0.000000      13.000000         1.000000  \n",
       "25%            0.000000     294.000000        45.000000  \n",
       "50%            1.000000     502.000000        95.000000  \n",
       "75%            1.000000     729.000000       232.000000  \n",
       "max            3.000000    1344.000000      1580.000000  "
      ]
     },
     "metadata": {},
     "output_type": "display_data"
    },
    {
     "name": "stdout",
     "output_type": "stream",
     "text": [
      "-----------------------------------------\n",
      "Пропуски\n"
     ]
    },
    {
     "data": {
      "text/plain": [
       "total_images            0.000000\n",
       "last_price              0.000000\n",
       "total_area              0.000000\n",
       "first_day_exposition    0.000000\n",
       "rooms                   0.000000\n",
       "ceiling_height          0.387991\n",
       "floors_total            0.003629\n",
       "living_area             0.080299\n",
       "floor                   0.000000\n",
       "is_apartment            0.882906\n",
       "studio                  0.000000\n",
       "open_plan               0.000000\n",
       "kitchen_area            0.096122\n",
       "balcony                 0.486054\n",
       "locality_name           0.002068\n",
       "airports_nearest        0.233850\n",
       "cityCenters_nearest     0.232879\n",
       "parks_around3000        0.232837\n",
       "parks_nearest           0.659100\n",
       "ponds_around3000        0.232837\n",
       "ponds_nearest           0.615596\n",
       "days_exposition         0.134225\n",
       "dtype: float64"
      ]
     },
     "metadata": {},
     "output_type": "display_data"
    }
   ],
   "source": [
    "review(df)"
   ]
  },
  {
   "cell_type": "code",
   "execution_count": 5,
   "metadata": {},
   "outputs": [],
   "source": [
    "df = df.dropna(subset=['floors_total']) "
   ]
  },
  {
   "cell_type": "markdown",
   "metadata": {},
   "source": [
    "### Вывод\n"
   ]
  },
  {
   "cell_type": "markdown",
   "metadata": {},
   "source": [
    "1. first_day_exposition - object - должен быть datetime\n",
    "2. ceiling_height - есть пропущенные значения\n",
    "3. floors_total - есть пропущенные значения\n",
    "4. living_area - есть пропущенные значения\n",
    "5. is_apartment - должен быть тип bool, много пропущенных значений\n",
    "6. kitchen_area - есть пропущенные значения\n",
    "7. balcony - должен быть тип int, много пропущенных значений\n",
    "8. locality_name  - есть пропущенные значения\n",
    "9. airports_nearest - есть пропущенные значения\n",
    "10. cityCenters_nearest - есть пропущенные значения\n",
    "11. parks_around3000 - тип должен быть int, есть пропущенные значения\n",
    "12. parks_nearest  -  есть пропущенные значения\n",
    "13. ponds_around3000 - тип должен быть int, есть пропущенные значения\n",
    "14. ponds_nearest -  есть пропущенные значения\n",
    "15. days_exposition - тип должен быть int, есть пропущенные значения"
   ]
  },
  {
   "cell_type": "markdown",
   "metadata": {},
   "source": [
    "## Предобработка данных"
   ]
  },
  {
   "cell_type": "code",
   "execution_count": 6,
   "metadata": {},
   "outputs": [
    {
     "name": "stdout",
     "output_type": "stream",
     "text": [
      "Index(['total_images', 'last_price', 'total_area', 'first_day_exposition',\n",
      "       'rooms', 'ceiling_height', 'floors_total', 'living_area', 'floor',\n",
      "       'is_apartment', 'studio', 'open_plan', 'kitchen_area', 'balcony',\n",
      "       'locality_name', 'airports_nearest', 'cityCenters_nearest',\n",
      "       'parks_around3000', 'parks_nearest', 'ponds_around3000',\n",
      "       'ponds_nearest', 'days_exposition'],\n",
      "      dtype='object')\n"
     ]
    }
   ],
   "source": [
    "print(df.columns)# смотрим названия колонок на предмет выявления не стандартных значений"
   ]
  },
  {
   "cell_type": "code",
   "execution_count": 7,
   "metadata": {},
   "outputs": [],
   "source": [
    "df.columns = df.columns.str.lower()# приводим все к нижнему региструи"
   ]
  },
  {
   "cell_type": "code",
   "execution_count": 8,
   "metadata": {},
   "outputs": [],
   "source": [
    "df['first_day_exposition'] = pd.to_datetime(df['first_day_exposition'], format = '%Y-%m-%d') \n",
    "#переводим в тип datetime ,без времени так как не указано"
   ]
  },
  {
   "cell_type": "code",
   "execution_count": 9,
   "metadata": {},
   "outputs": [],
   "source": [
    "df['ceiling_height'] = df['ceiling_height'].fillna(df['ceiling_height'].median()) #Заполнение пропусков медианой"
   ]
  },
  {
   "cell_type": "code",
   "execution_count": 10,
   "metadata": {},
   "outputs": [
    {
     "data": {
      "text/plain": [
       "<AxesSubplot:ylabel='Frequency'>"
      ]
     },
     "metadata": {},
     "output_type": "display_data"
    },
    {
     "data": {
      "text/plain": [
       "2.65     9792\n",
       "2.50     3515\n",
       "2.60     1646\n",
       "2.70     1573\n",
       "3.00     1111\n",
       "         ... \n",
       "4.25        1\n",
       "3.39        1\n",
       "3.93        1\n",
       "10.30       1\n",
       "4.65        1\n",
       "Name: ceiling_height, Length: 183, dtype: int64"
      ]
     },
     "metadata": {},
     "output_type": "display_data"
    },
    {
     "data": {
      "text/plain": [
       "count    23613.000000\n",
       "mean         2.724581\n",
       "std          0.990085\n",
       "min          1.000000\n",
       "25%          2.600000\n",
       "50%          2.650000\n",
       "75%          2.700000\n",
       "max        100.000000\n",
       "Name: ceiling_height, dtype: float64"
      ]
     },
     "metadata": {},
     "output_type": "display_data"
    },
    {
     "data": {
      "text/html": [
       "<div>\n",
       "<style scoped>\n",
       "    .dataframe tbody tr th:only-of-type {\n",
       "        vertical-align: middle;\n",
       "    }\n",
       "\n",
       "    .dataframe tbody tr th {\n",
       "        vertical-align: top;\n",
       "    }\n",
       "\n",
       "    .dataframe thead th {\n",
       "        text-align: right;\n",
       "    }\n",
       "</style>\n",
       "<table border=\"1\" class=\"dataframe\">\n",
       "  <thead>\n",
       "    <tr style=\"text-align: right;\">\n",
       "      <th></th>\n",
       "      <th>total_images</th>\n",
       "      <th>last_price</th>\n",
       "      <th>total_area</th>\n",
       "      <th>first_day_exposition</th>\n",
       "      <th>rooms</th>\n",
       "      <th>ceiling_height</th>\n",
       "      <th>floors_total</th>\n",
       "      <th>living_area</th>\n",
       "      <th>floor</th>\n",
       "      <th>is_apartment</th>\n",
       "      <th>...</th>\n",
       "      <th>kitchen_area</th>\n",
       "      <th>balcony</th>\n",
       "      <th>locality_name</th>\n",
       "      <th>airports_nearest</th>\n",
       "      <th>citycenters_nearest</th>\n",
       "      <th>parks_around3000</th>\n",
       "      <th>parks_nearest</th>\n",
       "      <th>ponds_around3000</th>\n",
       "      <th>ponds_nearest</th>\n",
       "      <th>days_exposition</th>\n",
       "    </tr>\n",
       "  </thead>\n",
       "  <tbody>\n",
       "    <tr>\n",
       "      <th>18545</th>\n",
       "      <td>6</td>\n",
       "      <td>3750000.0</td>\n",
       "      <td>43.0</td>\n",
       "      <td>2019-03-18</td>\n",
       "      <td>2</td>\n",
       "      <td>25.0</td>\n",
       "      <td>5.0</td>\n",
       "      <td>29.0</td>\n",
       "      <td>3</td>\n",
       "      <td>False</td>\n",
       "      <td>...</td>\n",
       "      <td>NaN</td>\n",
       "      <td>NaN</td>\n",
       "      <td>Санкт-Петербург</td>\n",
       "      <td>27054.0</td>\n",
       "      <td>8033.0</td>\n",
       "      <td>1.0</td>\n",
       "      <td>540.0</td>\n",
       "      <td>0.0</td>\n",
       "      <td>NaN</td>\n",
       "      <td>12.0</td>\n",
       "    </tr>\n",
       "    <tr>\n",
       "      <th>355</th>\n",
       "      <td>17</td>\n",
       "      <td>3600000.0</td>\n",
       "      <td>55.2</td>\n",
       "      <td>2018-07-12</td>\n",
       "      <td>2</td>\n",
       "      <td>25.0</td>\n",
       "      <td>5.0</td>\n",
       "      <td>32.0</td>\n",
       "      <td>2</td>\n",
       "      <td>False</td>\n",
       "      <td>...</td>\n",
       "      <td>NaN</td>\n",
       "      <td>2.0</td>\n",
       "      <td>Гатчина</td>\n",
       "      <td>NaN</td>\n",
       "      <td>NaN</td>\n",
       "      <td>NaN</td>\n",
       "      <td>NaN</td>\n",
       "      <td>NaN</td>\n",
       "      <td>NaN</td>\n",
       "      <td>259.0</td>\n",
       "    </tr>\n",
       "    <tr>\n",
       "      <th>6246</th>\n",
       "      <td>6</td>\n",
       "      <td>3300000.0</td>\n",
       "      <td>44.4</td>\n",
       "      <td>2019-03-25</td>\n",
       "      <td>2</td>\n",
       "      <td>25.0</td>\n",
       "      <td>5.0</td>\n",
       "      <td>31.3</td>\n",
       "      <td>5</td>\n",
       "      <td>NaN</td>\n",
       "      <td>...</td>\n",
       "      <td>5.7</td>\n",
       "      <td>NaN</td>\n",
       "      <td>Кронштадт</td>\n",
       "      <td>68923.0</td>\n",
       "      <td>50649.0</td>\n",
       "      <td>1.0</td>\n",
       "      <td>417.0</td>\n",
       "      <td>2.0</td>\n",
       "      <td>73.0</td>\n",
       "      <td>NaN</td>\n",
       "    </tr>\n",
       "    <tr>\n",
       "      <th>14382</th>\n",
       "      <td>9</td>\n",
       "      <td>1700000.0</td>\n",
       "      <td>35.0</td>\n",
       "      <td>2015-12-04</td>\n",
       "      <td>1</td>\n",
       "      <td>25.0</td>\n",
       "      <td>5.0</td>\n",
       "      <td>20.0</td>\n",
       "      <td>2</td>\n",
       "      <td>False</td>\n",
       "      <td>...</td>\n",
       "      <td>8.0</td>\n",
       "      <td>1.0</td>\n",
       "      <td>поселок Новый Свет</td>\n",
       "      <td>NaN</td>\n",
       "      <td>NaN</td>\n",
       "      <td>NaN</td>\n",
       "      <td>NaN</td>\n",
       "      <td>NaN</td>\n",
       "      <td>NaN</td>\n",
       "      <td>206.0</td>\n",
       "    </tr>\n",
       "    <tr>\n",
       "      <th>11285</th>\n",
       "      <td>0</td>\n",
       "      <td>1950000.0</td>\n",
       "      <td>37.0</td>\n",
       "      <td>2019-03-20</td>\n",
       "      <td>1</td>\n",
       "      <td>25.0</td>\n",
       "      <td>5.0</td>\n",
       "      <td>17.0</td>\n",
       "      <td>4</td>\n",
       "      <td>False</td>\n",
       "      <td>...</td>\n",
       "      <td>9.0</td>\n",
       "      <td>2.0</td>\n",
       "      <td>Луга</td>\n",
       "      <td>NaN</td>\n",
       "      <td>NaN</td>\n",
       "      <td>NaN</td>\n",
       "      <td>NaN</td>\n",
       "      <td>NaN</td>\n",
       "      <td>NaN</td>\n",
       "      <td>18.0</td>\n",
       "    </tr>\n",
       "    <tr>\n",
       "      <th>4643</th>\n",
       "      <td>0</td>\n",
       "      <td>4300000.0</td>\n",
       "      <td>45.0</td>\n",
       "      <td>2018-02-01</td>\n",
       "      <td>2</td>\n",
       "      <td>25.0</td>\n",
       "      <td>9.0</td>\n",
       "      <td>30.0</td>\n",
       "      <td>2</td>\n",
       "      <td>NaN</td>\n",
       "      <td>...</td>\n",
       "      <td>7.0</td>\n",
       "      <td>1.0</td>\n",
       "      <td>Санкт-Петербург</td>\n",
       "      <td>12016.0</td>\n",
       "      <td>13256.0</td>\n",
       "      <td>1.0</td>\n",
       "      <td>658.0</td>\n",
       "      <td>1.0</td>\n",
       "      <td>331.0</td>\n",
       "      <td>181.0</td>\n",
       "    </tr>\n",
       "    <tr>\n",
       "      <th>9379</th>\n",
       "      <td>5</td>\n",
       "      <td>3950000.0</td>\n",
       "      <td>42.0</td>\n",
       "      <td>2017-03-26</td>\n",
       "      <td>3</td>\n",
       "      <td>25.0</td>\n",
       "      <td>5.0</td>\n",
       "      <td>30.0</td>\n",
       "      <td>2</td>\n",
       "      <td>NaN</td>\n",
       "      <td>...</td>\n",
       "      <td>5.2</td>\n",
       "      <td>NaN</td>\n",
       "      <td>Санкт-Петербург</td>\n",
       "      <td>11647.0</td>\n",
       "      <td>13581.0</td>\n",
       "      <td>0.0</td>\n",
       "      <td>NaN</td>\n",
       "      <td>0.0</td>\n",
       "      <td>NaN</td>\n",
       "      <td>NaN</td>\n",
       "    </tr>\n",
       "    <tr>\n",
       "      <th>5669</th>\n",
       "      <td>4</td>\n",
       "      <td>4400000.0</td>\n",
       "      <td>50.0</td>\n",
       "      <td>2017-08-08</td>\n",
       "      <td>2</td>\n",
       "      <td>26.0</td>\n",
       "      <td>9.0</td>\n",
       "      <td>21.3</td>\n",
       "      <td>3</td>\n",
       "      <td>NaN</td>\n",
       "      <td>...</td>\n",
       "      <td>7.0</td>\n",
       "      <td>2.0</td>\n",
       "      <td>Санкт-Петербург</td>\n",
       "      <td>28981.0</td>\n",
       "      <td>10912.0</td>\n",
       "      <td>1.0</td>\n",
       "      <td>305.0</td>\n",
       "      <td>0.0</td>\n",
       "      <td>NaN</td>\n",
       "      <td>267.0</td>\n",
       "    </tr>\n",
       "    <tr>\n",
       "      <th>5807</th>\n",
       "      <td>17</td>\n",
       "      <td>8150000.0</td>\n",
       "      <td>80.0</td>\n",
       "      <td>2019-01-09</td>\n",
       "      <td>2</td>\n",
       "      <td>27.0</td>\n",
       "      <td>36.0</td>\n",
       "      <td>41.0</td>\n",
       "      <td>13</td>\n",
       "      <td>NaN</td>\n",
       "      <td>...</td>\n",
       "      <td>12.0</td>\n",
       "      <td>5.0</td>\n",
       "      <td>Санкт-Петербург</td>\n",
       "      <td>18732.0</td>\n",
       "      <td>20444.0</td>\n",
       "      <td>0.0</td>\n",
       "      <td>NaN</td>\n",
       "      <td>3.0</td>\n",
       "      <td>80.0</td>\n",
       "      <td>38.0</td>\n",
       "    </tr>\n",
       "    <tr>\n",
       "      <th>5246</th>\n",
       "      <td>0</td>\n",
       "      <td>2500000.0</td>\n",
       "      <td>54.0</td>\n",
       "      <td>2017-10-13</td>\n",
       "      <td>2</td>\n",
       "      <td>27.0</td>\n",
       "      <td>5.0</td>\n",
       "      <td>30.0</td>\n",
       "      <td>3</td>\n",
       "      <td>NaN</td>\n",
       "      <td>...</td>\n",
       "      <td>9.0</td>\n",
       "      <td>2.0</td>\n",
       "      <td>деревня Мины</td>\n",
       "      <td>NaN</td>\n",
       "      <td>NaN</td>\n",
       "      <td>NaN</td>\n",
       "      <td>NaN</td>\n",
       "      <td>NaN</td>\n",
       "      <td>NaN</td>\n",
       "      <td>540.0</td>\n",
       "    </tr>\n",
       "    <tr>\n",
       "      <th>21824</th>\n",
       "      <td>20</td>\n",
       "      <td>2450000.0</td>\n",
       "      <td>44.0</td>\n",
       "      <td>2019-02-12</td>\n",
       "      <td>2</td>\n",
       "      <td>27.0</td>\n",
       "      <td>2.0</td>\n",
       "      <td>38.0</td>\n",
       "      <td>2</td>\n",
       "      <td>False</td>\n",
       "      <td>...</td>\n",
       "      <td>8.6</td>\n",
       "      <td>2.0</td>\n",
       "      <td>городской поселок Большая Ижора</td>\n",
       "      <td>NaN</td>\n",
       "      <td>NaN</td>\n",
       "      <td>NaN</td>\n",
       "      <td>NaN</td>\n",
       "      <td>NaN</td>\n",
       "      <td>NaN</td>\n",
       "      <td>NaN</td>\n",
       "    </tr>\n",
       "    <tr>\n",
       "      <th>22938</th>\n",
       "      <td>14</td>\n",
       "      <td>4000000.0</td>\n",
       "      <td>98.0</td>\n",
       "      <td>2018-03-15</td>\n",
       "      <td>4</td>\n",
       "      <td>27.0</td>\n",
       "      <td>2.0</td>\n",
       "      <td>73.0</td>\n",
       "      <td>2</td>\n",
       "      <td>True</td>\n",
       "      <td>...</td>\n",
       "      <td>9.0</td>\n",
       "      <td>1.0</td>\n",
       "      <td>деревня Нижняя</td>\n",
       "      <td>NaN</td>\n",
       "      <td>NaN</td>\n",
       "      <td>NaN</td>\n",
       "      <td>NaN</td>\n",
       "      <td>NaN</td>\n",
       "      <td>NaN</td>\n",
       "      <td>27.0</td>\n",
       "    </tr>\n",
       "    <tr>\n",
       "      <th>4876</th>\n",
       "      <td>7</td>\n",
       "      <td>3000000.0</td>\n",
       "      <td>25.0</td>\n",
       "      <td>2017-09-27</td>\n",
       "      <td>0</td>\n",
       "      <td>27.0</td>\n",
       "      <td>25.0</td>\n",
       "      <td>17.0</td>\n",
       "      <td>17</td>\n",
       "      <td>NaN</td>\n",
       "      <td>...</td>\n",
       "      <td>NaN</td>\n",
       "      <td>2.0</td>\n",
       "      <td>посёлок Мурино</td>\n",
       "      <td>NaN</td>\n",
       "      <td>NaN</td>\n",
       "      <td>NaN</td>\n",
       "      <td>NaN</td>\n",
       "      <td>NaN</td>\n",
       "      <td>NaN</td>\n",
       "      <td>28.0</td>\n",
       "    </tr>\n",
       "    <tr>\n",
       "      <th>10773</th>\n",
       "      <td>8</td>\n",
       "      <td>3800000.0</td>\n",
       "      <td>58.0</td>\n",
       "      <td>2017-10-13</td>\n",
       "      <td>2</td>\n",
       "      <td>27.0</td>\n",
       "      <td>10.0</td>\n",
       "      <td>30.1</td>\n",
       "      <td>3</td>\n",
       "      <td>False</td>\n",
       "      <td>...</td>\n",
       "      <td>8.1</td>\n",
       "      <td>2.0</td>\n",
       "      <td>посёлок Мурино</td>\n",
       "      <td>NaN</td>\n",
       "      <td>NaN</td>\n",
       "      <td>NaN</td>\n",
       "      <td>NaN</td>\n",
       "      <td>NaN</td>\n",
       "      <td>NaN</td>\n",
       "      <td>71.0</td>\n",
       "    </tr>\n",
       "    <tr>\n",
       "      <th>20478</th>\n",
       "      <td>11</td>\n",
       "      <td>8000000.0</td>\n",
       "      <td>45.0</td>\n",
       "      <td>2017-07-18</td>\n",
       "      <td>1</td>\n",
       "      <td>27.0</td>\n",
       "      <td>4.0</td>\n",
       "      <td>22.0</td>\n",
       "      <td>2</td>\n",
       "      <td>NaN</td>\n",
       "      <td>...</td>\n",
       "      <td>10.0</td>\n",
       "      <td>1.0</td>\n",
       "      <td>Санкт-Петербург</td>\n",
       "      <td>18975.0</td>\n",
       "      <td>3246.0</td>\n",
       "      <td>0.0</td>\n",
       "      <td>NaN</td>\n",
       "      <td>3.0</td>\n",
       "      <td>449.0</td>\n",
       "      <td>429.0</td>\n",
       "    </tr>\n",
       "    <tr>\n",
       "      <th>17857</th>\n",
       "      <td>1</td>\n",
       "      <td>3900000.0</td>\n",
       "      <td>56.0</td>\n",
       "      <td>2017-12-22</td>\n",
       "      <td>3</td>\n",
       "      <td>27.0</td>\n",
       "      <td>5.0</td>\n",
       "      <td>33.0</td>\n",
       "      <td>4</td>\n",
       "      <td>False</td>\n",
       "      <td>...</td>\n",
       "      <td>NaN</td>\n",
       "      <td>NaN</td>\n",
       "      <td>Санкт-Петербург</td>\n",
       "      <td>41030.0</td>\n",
       "      <td>15543.0</td>\n",
       "      <td>0.0</td>\n",
       "      <td>NaN</td>\n",
       "      <td>0.0</td>\n",
       "      <td>NaN</td>\n",
       "      <td>73.0</td>\n",
       "    </tr>\n",
       "    <tr>\n",
       "      <th>21377</th>\n",
       "      <td>19</td>\n",
       "      <td>4900000.0</td>\n",
       "      <td>42.0</td>\n",
       "      <td>2017-04-18</td>\n",
       "      <td>1</td>\n",
       "      <td>27.5</td>\n",
       "      <td>24.0</td>\n",
       "      <td>37.7</td>\n",
       "      <td>19</td>\n",
       "      <td>False</td>\n",
       "      <td>...</td>\n",
       "      <td>11.0</td>\n",
       "      <td>2.0</td>\n",
       "      <td>Санкт-Петербург</td>\n",
       "      <td>42742.0</td>\n",
       "      <td>9760.0</td>\n",
       "      <td>0.0</td>\n",
       "      <td>NaN</td>\n",
       "      <td>0.0</td>\n",
       "      <td>NaN</td>\n",
       "      <td>61.0</td>\n",
       "    </tr>\n",
       "    <tr>\n",
       "      <th>22336</th>\n",
       "      <td>19</td>\n",
       "      <td>9999000.0</td>\n",
       "      <td>92.4</td>\n",
       "      <td>2019-04-05</td>\n",
       "      <td>2</td>\n",
       "      <td>32.0</td>\n",
       "      <td>6.0</td>\n",
       "      <td>55.5</td>\n",
       "      <td>5</td>\n",
       "      <td>False</td>\n",
       "      <td>...</td>\n",
       "      <td>16.5</td>\n",
       "      <td>4.0</td>\n",
       "      <td>Санкт-Петербург</td>\n",
       "      <td>18838.0</td>\n",
       "      <td>3506.0</td>\n",
       "      <td>0.0</td>\n",
       "      <td>NaN</td>\n",
       "      <td>3.0</td>\n",
       "      <td>511.0</td>\n",
       "      <td>NaN</td>\n",
       "    </tr>\n",
       "    <tr>\n",
       "      <th>3148</th>\n",
       "      <td>14</td>\n",
       "      <td>2900000.0</td>\n",
       "      <td>75.0</td>\n",
       "      <td>2018-11-12</td>\n",
       "      <td>3</td>\n",
       "      <td>32.0</td>\n",
       "      <td>3.0</td>\n",
       "      <td>53.0</td>\n",
       "      <td>2</td>\n",
       "      <td>NaN</td>\n",
       "      <td>...</td>\n",
       "      <td>8.0</td>\n",
       "      <td>NaN</td>\n",
       "      <td>Волхов</td>\n",
       "      <td>NaN</td>\n",
       "      <td>NaN</td>\n",
       "      <td>NaN</td>\n",
       "      <td>NaN</td>\n",
       "      <td>NaN</td>\n",
       "      <td>NaN</td>\n",
       "      <td>NaN</td>\n",
       "    </tr>\n",
       "    <tr>\n",
       "      <th>22869</th>\n",
       "      <td>0</td>\n",
       "      <td>15000000.0</td>\n",
       "      <td>25.0</td>\n",
       "      <td>2018-07-25</td>\n",
       "      <td>1</td>\n",
       "      <td>100.0</td>\n",
       "      <td>5.0</td>\n",
       "      <td>14.0</td>\n",
       "      <td>5</td>\n",
       "      <td>True</td>\n",
       "      <td>...</td>\n",
       "      <td>11.0</td>\n",
       "      <td>5.0</td>\n",
       "      <td>Санкт-Петербург</td>\n",
       "      <td>34963.0</td>\n",
       "      <td>8283.0</td>\n",
       "      <td>1.0</td>\n",
       "      <td>223.0</td>\n",
       "      <td>3.0</td>\n",
       "      <td>30.0</td>\n",
       "      <td>19.0</td>\n",
       "    </tr>\n",
       "  </tbody>\n",
       "</table>\n",
       "<p>20 rows × 22 columns</p>\n",
       "</div>"
      ],
      "text/plain": [
       "       total_images  last_price  total_area first_day_exposition  rooms  \\\n",
       "18545             6   3750000.0        43.0           2019-03-18      2   \n",
       "355              17   3600000.0        55.2           2018-07-12      2   \n",
       "6246              6   3300000.0        44.4           2019-03-25      2   \n",
       "14382             9   1700000.0        35.0           2015-12-04      1   \n",
       "11285             0   1950000.0        37.0           2019-03-20      1   \n",
       "4643              0   4300000.0        45.0           2018-02-01      2   \n",
       "9379              5   3950000.0        42.0           2017-03-26      3   \n",
       "5669              4   4400000.0        50.0           2017-08-08      2   \n",
       "5807             17   8150000.0        80.0           2019-01-09      2   \n",
       "5246              0   2500000.0        54.0           2017-10-13      2   \n",
       "21824            20   2450000.0        44.0           2019-02-12      2   \n",
       "22938            14   4000000.0        98.0           2018-03-15      4   \n",
       "4876              7   3000000.0        25.0           2017-09-27      0   \n",
       "10773             8   3800000.0        58.0           2017-10-13      2   \n",
       "20478            11   8000000.0        45.0           2017-07-18      1   \n",
       "17857             1   3900000.0        56.0           2017-12-22      3   \n",
       "21377            19   4900000.0        42.0           2017-04-18      1   \n",
       "22336            19   9999000.0        92.4           2019-04-05      2   \n",
       "3148             14   2900000.0        75.0           2018-11-12      3   \n",
       "22869             0  15000000.0        25.0           2018-07-25      1   \n",
       "\n",
       "       ceiling_height  floors_total  living_area  floor is_apartment  ...  \\\n",
       "18545            25.0           5.0         29.0      3        False  ...   \n",
       "355              25.0           5.0         32.0      2        False  ...   \n",
       "6246             25.0           5.0         31.3      5          NaN  ...   \n",
       "14382            25.0           5.0         20.0      2        False  ...   \n",
       "11285            25.0           5.0         17.0      4        False  ...   \n",
       "4643             25.0           9.0         30.0      2          NaN  ...   \n",
       "9379             25.0           5.0         30.0      2          NaN  ...   \n",
       "5669             26.0           9.0         21.3      3          NaN  ...   \n",
       "5807             27.0          36.0         41.0     13          NaN  ...   \n",
       "5246             27.0           5.0         30.0      3          NaN  ...   \n",
       "21824            27.0           2.0         38.0      2        False  ...   \n",
       "22938            27.0           2.0         73.0      2         True  ...   \n",
       "4876             27.0          25.0         17.0     17          NaN  ...   \n",
       "10773            27.0          10.0         30.1      3        False  ...   \n",
       "20478            27.0           4.0         22.0      2          NaN  ...   \n",
       "17857            27.0           5.0         33.0      4        False  ...   \n",
       "21377            27.5          24.0         37.7     19        False  ...   \n",
       "22336            32.0           6.0         55.5      5        False  ...   \n",
       "3148             32.0           3.0         53.0      2          NaN  ...   \n",
       "22869           100.0           5.0         14.0      5         True  ...   \n",
       "\n",
       "       kitchen_area  balcony                    locality_name  \\\n",
       "18545           NaN      NaN                  Санкт-Петербург   \n",
       "355             NaN      2.0                          Гатчина   \n",
       "6246            5.7      NaN                        Кронштадт   \n",
       "14382           8.0      1.0               поселок Новый Свет   \n",
       "11285           9.0      2.0                             Луга   \n",
       "4643            7.0      1.0                  Санкт-Петербург   \n",
       "9379            5.2      NaN                  Санкт-Петербург   \n",
       "5669            7.0      2.0                  Санкт-Петербург   \n",
       "5807           12.0      5.0                  Санкт-Петербург   \n",
       "5246            9.0      2.0                     деревня Мины   \n",
       "21824           8.6      2.0  городской поселок Большая Ижора   \n",
       "22938           9.0      1.0                   деревня Нижняя   \n",
       "4876            NaN      2.0                   посёлок Мурино   \n",
       "10773           8.1      2.0                   посёлок Мурино   \n",
       "20478          10.0      1.0                  Санкт-Петербург   \n",
       "17857           NaN      NaN                  Санкт-Петербург   \n",
       "21377          11.0      2.0                  Санкт-Петербург   \n",
       "22336          16.5      4.0                  Санкт-Петербург   \n",
       "3148            8.0      NaN                           Волхов   \n",
       "22869          11.0      5.0                  Санкт-Петербург   \n",
       "\n",
       "       airports_nearest citycenters_nearest  parks_around3000  parks_nearest  \\\n",
       "18545           27054.0              8033.0               1.0          540.0   \n",
       "355                 NaN                 NaN               NaN            NaN   \n",
       "6246            68923.0             50649.0               1.0          417.0   \n",
       "14382               NaN                 NaN               NaN            NaN   \n",
       "11285               NaN                 NaN               NaN            NaN   \n",
       "4643            12016.0             13256.0               1.0          658.0   \n",
       "9379            11647.0             13581.0               0.0            NaN   \n",
       "5669            28981.0             10912.0               1.0          305.0   \n",
       "5807            18732.0             20444.0               0.0            NaN   \n",
       "5246                NaN                 NaN               NaN            NaN   \n",
       "21824               NaN                 NaN               NaN            NaN   \n",
       "22938               NaN                 NaN               NaN            NaN   \n",
       "4876                NaN                 NaN               NaN            NaN   \n",
       "10773               NaN                 NaN               NaN            NaN   \n",
       "20478           18975.0              3246.0               0.0            NaN   \n",
       "17857           41030.0             15543.0               0.0            NaN   \n",
       "21377           42742.0              9760.0               0.0            NaN   \n",
       "22336           18838.0              3506.0               0.0            NaN   \n",
       "3148                NaN                 NaN               NaN            NaN   \n",
       "22869           34963.0              8283.0               1.0          223.0   \n",
       "\n",
       "       ponds_around3000  ponds_nearest  days_exposition  \n",
       "18545               0.0            NaN             12.0  \n",
       "355                 NaN            NaN            259.0  \n",
       "6246                2.0           73.0              NaN  \n",
       "14382               NaN            NaN            206.0  \n",
       "11285               NaN            NaN             18.0  \n",
       "4643                1.0          331.0            181.0  \n",
       "9379                0.0            NaN              NaN  \n",
       "5669                0.0            NaN            267.0  \n",
       "5807                3.0           80.0             38.0  \n",
       "5246                NaN            NaN            540.0  \n",
       "21824               NaN            NaN              NaN  \n",
       "22938               NaN            NaN             27.0  \n",
       "4876                NaN            NaN             28.0  \n",
       "10773               NaN            NaN             71.0  \n",
       "20478               3.0          449.0            429.0  \n",
       "17857               0.0            NaN             73.0  \n",
       "21377               0.0            NaN             61.0  \n",
       "22336               3.0          511.0              NaN  \n",
       "3148                NaN            NaN              NaN  \n",
       "22869               3.0           30.0             19.0  \n",
       "\n",
       "[20 rows x 22 columns]"
      ]
     },
     "metadata": {},
     "output_type": "display_data"
    },
    {
     "data": {
      "image/png": "[encoded data removed]",
      "text/plain": [
       "<Figure size 432x288 with 1 Axes>"
      ]
     },
     "metadata": {
      "needs_background": "light"
     },
     "output_type": "display_data"
    }
   ],
   "source": [
    "display(df['ceiling_height'].sort_values().plot(y = 'ceiling_height', kind = 'hist', bins = 30, range=(2,5)))\n",
    "display(df['ceiling_height'].value_counts())\n",
    "display(df['ceiling_height'].describe())\n",
    "display(df[df['ceiling_height'] > 4].sort_values('ceiling_height').tail(20))"
   ]
  },
  {
   "cell_type": "markdown",
   "metadata": {},
   "source": [
    "посмотрели параметр ceiling_height, видим есть не обосновонно высокие значения пока не трогаем медиана от среднего отличается не сильно из-за этих выбросов во всей выборке"
   ]
  },
  {
   "cell_type": "code",
   "execution_count": 11,
   "metadata": {},
   "outputs": [],
   "source": [
    "df['is_apartment'] = df['is_apartment'].fillna(False)\n",
    "#видимо параметр аппартаменты появился при склеивании таблицы, заменяем пропущенные значения на Falseи"
   ]
  },
  {
   "cell_type": "code",
   "execution_count": 12,
   "metadata": {},
   "outputs": [],
   "source": [
    "df['balcony'] = df['balcony'].fillna(0) #заменяем пропущенные значения на 0\n",
    "df['balcony'] = df['balcony'].astype('int') #меняем тип на int\n",
    "df['last_price'] = df['last_price'].astype('int')\n",
    "df['floors_total'] = df['floors_total'].astype('int')"
   ]
  },
  {
   "cell_type": "code",
   "execution_count": 13,
   "metadata": {},
   "outputs": [
    {
     "name": "stdout",
     "output_type": "stream",
     "text": [
      "<class 'pandas.core.frame.DataFrame'>\n",
      "Int64Index: 23613 entries, 0 to 23698\n",
      "Data columns (total 22 columns):\n",
      " #   Column                Non-Null Count  Dtype         \n",
      "---  ------                --------------  -----         \n",
      " 0   total_images          23613 non-null  int64         \n",
      " 1   last_price            23613 non-null  int64         \n",
      " 2   total_area            23613 non-null  float64       \n",
      " 3   first_day_exposition  23613 non-null  datetime64[ns]\n",
      " 4   rooms                 23613 non-null  int64         \n",
      " 5   ceiling_height        23613 non-null  float64       \n",
      " 6   floors_total          23613 non-null  int64         \n",
      " 7   living_area           21743 non-null  float64       \n",
      " 8   floor                 23613 non-null  int64         \n",
      " 9   is_apartment          23613 non-null  bool          \n",
      " 10  studio                23613 non-null  bool          \n",
      " 11  open_plan             23613 non-null  bool          \n",
      " 12  kitchen_area          21382 non-null  float64       \n",
      " 13  balcony               23613 non-null  int64         \n",
      " 14  locality_name         23565 non-null  object        \n",
      " 15  airports_nearest      18081 non-null  float64       \n",
      " 16  citycenters_nearest   18104 non-null  float64       \n",
      " 17  parks_around3000      18105 non-null  float64       \n",
      " 18  parks_nearest         8045 non-null   float64       \n",
      " 19  ponds_around3000      18105 non-null  float64       \n",
      " 20  ponds_nearest         9061 non-null   float64       \n",
      " 21  days_exposition       20441 non-null  float64       \n",
      "dtypes: bool(3), datetime64[ns](1), float64(11), int64(6), object(1)\n",
      "memory usage: 3.7+ MB\n"
     ]
    }
   ],
   "source": [
    "df.info()"
   ]
  },
  {
   "cell_type": "markdown",
   "metadata": {},
   "source": [
    "## Расчёты и добавление результатов в таблицу"
   ]
  },
  {
   "cell_type": "code",
   "execution_count": 14,
   "metadata": {},
   "outputs": [],
   "source": [
    "df['price_per_square_meter'] = df['last_price'] / df['total_area'] #считаем цену квадратного метра\n",
    "\n",
    "df['price_per_square_meter'] = df['price_per_square_meter'].astype('int') #для удобства анализа приведем к типу int\n",
    "\n",
    "df['weekday_exposition'] = df['first_day_exposition'].dt.weekday #создаю столбец дня недели\n",
    "\n",
    "df['month_exposition'] = df['first_day_exposition'].dt.month #создаю столбец месяца\n",
    "\n",
    "df['year_exposition'] = df['first_day_exposition'].dt.year #создаю столбец года\n",
    "\n",
    "#функция категоризации по этажам\n",
    "def floor_category(row):\n",
    "    floors_total = row['floors_total']\n",
    "    floor = row['floor']\n",
    "    if floor == 1:\n",
    "        return 'первый'\n",
    "    elif floor == floors_total:\n",
    "        return 'последний'\n",
    "    elif 1 < floor < floors_total:\n",
    "        return 'другой'\n",
    "\n",
    "df['floor_category'] = df.apply(floor_category, axis = 1) #категоризуем этажи\n",
    "\n",
    "df['living_area_ratio'] = df['living_area'] / df['total_area'] #добавляем столбец соотношения жилой площади к общей\n",
    "\n",
    "df['kitchen_area_ratio'] = df['kitchen_area'] / df['total_area'] #добавляем столбец отношения площади кухни к общей"
   ]
  },
  {
   "cell_type": "markdown",
   "metadata": {},
   "source": [
    "## Исследовательский анализ данных"
   ]
  },
  {
   "cell_type": "markdown",
   "metadata": {},
   "source": [
    "1. Изучите следующие параметры: площадь, цена, число комнат, высота потолков. Постройте гистограммы для каждого параметра."
   ]
  },
  {
   "cell_type": "code",
   "execution_count": 15,
   "metadata": {
    "scrolled": false
   },
   "outputs": [
    {
     "data": {
      "image/png": "[encoded data removed]",
      "text/plain": [
       "<Figure size 432x288 with 1 Axes>"
      ]
     },
     "metadata": {
      "needs_background": "light"
     },
     "output_type": "display_data"
    },
    {
     "data": {
      "text/plain": [
       "count    23613.000000\n",
       "mean        60.340678\n",
       "std         35.648988\n",
       "min         12.000000\n",
       "25%         40.000000\n",
       "50%         52.000000\n",
       "75%         69.800000\n",
       "max        900.000000\n",
       "Name: total_area, dtype: float64"
      ]
     },
     "execution_count": 15,
     "metadata": {},
     "output_type": "execute_result"
    }
   ],
   "source": [
    "fig, ax = plt.subplots()\n",
    "\n",
    "ax.hist(df['total_area'], bins = 100, range = (0,500))\n",
    "ax.set_title('Общая площадь')\n",
    "ax.set_xlabel('кв.м.')\n",
    "ax.set_ylabel('Количество объявлений')\n",
    "plt.show()\n",
    "df['total_area'].describe()"
   ]
  },
  {
   "cell_type": "code",
   "execution_count": 16,
   "metadata": {},
   "outputs": [
    {
     "data": {
      "image/png": "[encoded data removed]",
      "text/plain": [
       "<Figure size 432x288 with 1 Axes>"
      ]
     },
     "metadata": {
      "needs_background": "light"
     },
     "output_type": "display_data"
    },
    {
     "data": {
      "text/plain": [
       "count    23613.000000\n",
       "mean         6.540555\n",
       "std         10.901723\n",
       "min          0.012190\n",
       "25%          3.400000\n",
       "50%          4.650000\n",
       "75%          6.799000\n",
       "max        763.000000\n",
       "Name: last_price, dtype: float64"
      ]
     },
     "execution_count": 16,
     "metadata": {},
     "output_type": "execute_result"
    }
   ],
   "source": [
    "fig, ax = plt.subplots()\n",
    "\n",
    "ax.hist(df['last_price']/1000000, bins = 100, range =(0,50))\n",
    "ax.set_title('цена на момент снятия с публикации млн')\n",
    "ax.set_xlabel('цена млн')\n",
    "ax.set_ylabel('Количество объявлений')\n",
    "plt.show()\n",
    "(df['last_price']/1000000).describe()"
   ]
  },
  {
   "cell_type": "code",
   "execution_count": 17,
   "metadata": {},
   "outputs": [
    {
     "data": {
      "image/png": "[encoded data removed]",
      "text/plain": [
       "<Figure size 432x288 with 1 Axes>"
      ]
     },
     "metadata": {
      "needs_background": "light"
     },
     "output_type": "display_data"
    },
    {
     "data": {
      "text/plain": [
       "count    23613.000000\n",
       "mean         2.071147\n",
       "std          1.078380\n",
       "min          0.000000\n",
       "25%          1.000000\n",
       "50%          2.000000\n",
       "75%          3.000000\n",
       "max         19.000000\n",
       "Name: rooms, dtype: float64"
      ]
     },
     "execution_count": 17,
     "metadata": {},
     "output_type": "execute_result"
    }
   ],
   "source": [
    "fig, ax = plt.subplots()\n",
    "ax.hist(df['rooms'], bins = df['rooms'].max(),range = (0,10))\n",
    "ax.set_title('Количество комнат')\n",
    "ax.set_xlabel('Количесво комнат')\n",
    "ax.set_ylabel('Количество объявлений')\n",
    "plt.show()\n",
    "df['rooms'].describe()"
   ]
  },
  {
   "cell_type": "code",
   "execution_count": 18,
   "metadata": {},
   "outputs": [
    {
     "data": {
      "text/plain": [
       "count    23613.000000\n",
       "mean         2.724581\n",
       "std          0.990085\n",
       "min          1.000000\n",
       "25%          2.600000\n",
       "50%          2.650000\n",
       "75%          2.700000\n",
       "max        100.000000\n",
       "Name: ceiling_height, dtype: float64"
      ]
     },
     "execution_count": 18,
     "metadata": {},
     "output_type": "execute_result"
    },
    {
     "data": {
      "image/png": "[encoded data removed]",
      "text/plain": [
       "<Figure size 432x288 with 1 Axes>"
      ]
     },
     "metadata": {
      "needs_background": "light"
     },
     "output_type": "display_data"
    }
   ],
   "source": [
    "df.plot(y = 'ceiling_height', kind = 'hist', bins = 100, range = (2,5), grid=True)\n",
    "df['ceiling_height'].describe()"
   ]
  },
  {
   "cell_type": "markdown",
   "metadata": {},
   "source": [
    "1. Общая площадь колеблется от 12 до 900 м2, среднее значение 60, а медиана 52 м2.\n",
    "\n",
    "2. Цены на недвижимость имеют среднее значение в 6,5 млн руб., медиана 4,6 млн руб.\n",
    "\n",
    "3. Количество комнат колеблется от 1 до 19. Больше всего однокомнатных квартир.\n",
    "\n",
    "4. Высота потолков в среднем составляет 2,77 м, медиана 2,65 м.\n",
    "\n",
    "5. Во всех данных есть нереальные значения, например 0 комнат, высота птолков в 1 или 100 метров. "
   ]
  },
  {
   "cell_type": "markdown",
   "metadata": {},
   "source": [
    "2. Изучите время продажи квартиры. Постройте гистограмму. Посчитайте среднее и медиану. Опишите, сколько обычно занимает продажа. Когда можно считать, что продажи прошли очень быстро, а когда необычно долго?"
   ]
  },
  {
   "cell_type": "code",
   "execution_count": 19,
   "metadata": {
    "scrolled": false
   },
   "outputs": [
    {
     "data": {
      "text/plain": [
       "count    20441.000000\n",
       "mean       180.884839\n",
       "std        219.685543\n",
       "min          1.000000\n",
       "25%         45.000000\n",
       "50%         95.000000\n",
       "75%        232.000000\n",
       "max       1580.000000\n",
       "Name: days_exposition, dtype: float64"
      ]
     },
     "metadata": {},
     "output_type": "display_data"
    },
    {
     "data": {
      "text/plain": [
       "45.0      880\n",
       "60.0      538\n",
       "7.0       234\n",
       "30.0      208\n",
       "90.0      201\n",
       "         ... \n",
       "969.0       1\n",
       "1147.0      1\n",
       "1.0         1\n",
       "1148.0      1\n",
       "1174.0      1\n",
       "Name: days_exposition, Length: 1139, dtype: int64"
      ]
     },
     "metadata": {},
     "output_type": "display_data"
    },
    {
     "data": {
      "image/png": "[encoded data removed]",
      "text/plain": [
       "<Figure size 432x288 with 1 Axes>"
      ]
     },
     "metadata": {
      "needs_background": "light"
     },
     "output_type": "display_data"
    },
    {
     "data": {
      "image/png": "[encoded data removed]",
      "text/plain": [
       "<Figure size 432x288 with 1 Axes>"
      ]
     },
     "metadata": {
      "needs_background": "light"
     },
     "output_type": "display_data"
    }
   ],
   "source": [
    "\n",
    "df.plot(y = 'days_exposition', kind = 'hist', bins = 30, grid = True, range = (1,1600))\n",
    "df.plot(y = 'days_exposition', kind = 'hist', bins = 100, grid = True, range = (1,200))\n",
    "\n",
    "display(df['days_exposition'].describe()) \n",
    "display(df['days_exposition'].value_counts())"
   ]
  },
  {
   "cell_type": "markdown",
   "metadata": {},
   "source": [
    "Среднее значение - 180 дней, а медиана - 95 дней.\n",
    "Сделав гистограмму со значениями от 0 до 200, видим выбивающиеся значения 45, 60, 7, 30, 90 днях - это наиболее популярное количество дней до снятия объявления.\n",
    "\n",
    "Согласно правилам размещения обьявлений Яндекс Недвижимость, можно разместить обьявления как раз на 45, 60, 7, 30, 90 дней, далее обьявление автоматически снимается, следовательно эти выбросы нужно исключить."
   ]
  },
  {
   "cell_type": "markdown",
   "metadata": {},
   "source": [
    "3. Уберите редкие и выбивающиеся значения. Опишите, какие особенности обнаружили."
   ]
  },
  {
   "cell_type": "code",
   "execution_count": 20,
   "metadata": {
    "scrolled": false
   },
   "outputs": [],
   "source": [
    "#good_df = df.query('days_exposition != 45 and days_exposition != 30 and days_exposition != 60 and days_exposition != 90 and days_exposition != 7') #Фильтр данных от аномалий\n",
    "good_df = df.query('ceiling_height > 2 and ceiling_height < 5 ') #Фильтр данных от аномалий высота потолков\n",
    "good_df = good_df.query('total_area < 200') #Фильтр данных от выбросов площадь недвижимости\n",
    "good_df = good_df.query('last_price < 100000000') #Фильтр данных от выбросов стоимости недвижимости\n",
    "good_df = good_df.query('rooms < 10')#Фильтр данных от выбросов количество комнат\n"
   ]
  },
  {
   "cell_type": "code",
   "execution_count": 21,
   "metadata": {},
   "outputs": [
    {
     "data": {
      "text/plain": [
       "0.9879303773345192"
      ]
     },
     "execution_count": 21,
     "metadata": {},
     "output_type": "execute_result"
    }
   ],
   "source": [
    "good_df.shape[0]/df.shape[0]"
   ]
  },
  {
   "cell_type": "code",
   "execution_count": 22,
   "metadata": {},
   "outputs": [],
   "source": [
    "good_df = good_df.query('days_exposition < 1500') #Фильтр данных от выбросов времени продажи"
   ]
  },
  {
   "cell_type": "code",
   "execution_count": 23,
   "metadata": {},
   "outputs": [
    {
     "data": {
      "text/plain": [
       "0.8560962181848981"
      ]
     },
     "execution_count": 23,
     "metadata": {},
     "output_type": "execute_result"
    }
   ],
   "source": [
    "good_df.shape[0]/df.shape[0]"
   ]
  },
  {
   "cell_type": "code",
   "execution_count": 24,
   "metadata": {},
   "outputs": [
    {
     "data": {
      "text/plain": [
       "count    20215.000000\n",
       "mean       179.326243\n",
       "std        217.112026\n",
       "min          1.000000\n",
       "25%         45.000000\n",
       "50%         95.000000\n",
       "75%        229.000000\n",
       "max       1497.000000\n",
       "Name: days_exposition, dtype: float64"
      ]
     },
     "execution_count": 24,
     "metadata": {},
     "output_type": "execute_result"
    },
    {
     "data": {
      "image/png": "[encoded data removed]",
      "text/plain": [
       "<Figure size 432x288 with 1 Axes>"
      ]
     },
     "metadata": {
      "needs_background": "light"
     },
     "output_type": "display_data"
    },
    {
     "data": {
      "image/png": "[encoded data removed]",
      "text/plain": [
       "<Figure size 432x288 with 1 Axes>"
      ]
     },
     "metadata": {
      "needs_background": "light"
     },
     "output_type": "display_data"
    }
   ],
   "source": [
    "good_df.plot(y = 'days_exposition', kind = 'hist', bins = 100, grid = True, range = (1,1600))\n",
    "good_df.plot(y = 'days_exposition', kind = 'hist', bins = 100, grid = True, range = (1,200))\n",
    "\n",
    "good_df['days_exposition'].describe()"
   ]
  },
  {
   "cell_type": "markdown",
   "metadata": {},
   "source": [
    "Теперь данные больше похожи на правду\n",
    "Вывод очень быстро продали те кто продал менее чем за 44 дня, долго продавали те что более 259 дней, при этом есть и те кто выбиваются продав более чем через ~600 дней"
   ]
  },
  {
   "cell_type": "markdown",
   "metadata": {},
   "source": [
    "4. Какие факторы больше всего влияют на стоимость квартиры? Изучите, зависит ли цена от площади, числа комнат, удалённости от центра. Изучите зависимость цены от того, на каком этаже расположена квартира: первом, последнем или другом. Также изучите зависимость от даты размещения: дня недели, месяца и года."
   ]
  },
  {
   "cell_type": "code",
   "execution_count": 25,
   "metadata": {
    "scrolled": true
   },
   "outputs": [
    {
     "data": {
      "text/plain": [
       "0.726806690220282"
      ]
     },
     "execution_count": 25,
     "metadata": {},
     "output_type": "execute_result"
    },
    {
     "data": {
      "image/png": "[encoded data removed]",
      "text/plain": [
       "<Figure size 432x288 with 1 Axes>"
      ]
     },
     "metadata": {
      "needs_background": "light"
     },
     "output_type": "display_data"
    }
   ],
   "source": [
    "pivot_table_total_area = good_df.pivot_table(index = 'total_area', values = 'last_price', aggfunc = ['mean', 'count', 'median'])\n",
    "pivot_table_total_area.columns = ['mean', 'count', 'median']\n",
    "pivot_table_total_area.plot(y = 'median', style = 'o')\n",
    "\n",
    "pivot_table_total_area.sort_values('median', ascending = False)\n",
    "\n",
    "good_df['total_area'].corr(df['last_price'])"
   ]
  },
  {
   "cell_type": "markdown",
   "metadata": {},
   "source": [
    "Зависимость цены от площади логично высокая"
   ]
  },
  {
   "cell_type": "code",
   "execution_count": 26,
   "metadata": {},
   "outputs": [
    {
     "data": {
      "text/plain": [
       "0.4325856788224064"
      ]
     },
     "execution_count": 26,
     "metadata": {},
     "output_type": "execute_result"
    },
    {
     "data": {
      "image/png": "[encoded data removed]",
      "text/plain": [
       "<Figure size 432x288 with 1 Axes>"
      ]
     },
     "metadata": {
      "needs_background": "light"
     },
     "output_type": "display_data"
    }
   ],
   "source": [
    "pivot_table_rooms = good_df.pivot_table(index = 'rooms', values = 'last_price', aggfunc = ['mean', 'count', 'median'])\n",
    "pivot_table_rooms.columns = ['mean', 'count', 'median']\n",
    "pivot_table_rooms.query('count > 50').plot(y = 'median',kind = 'bar')\n",
    "\n",
    "pivot_table_rooms.query('count > 50').sort_values('median', ascending = False)\n",
    "\n",
    "good_df['rooms'].corr(df['last_price'])"
   ]
  },
  {
   "cell_type": "markdown",
   "metadata": {},
   "source": [
    "Чем больше комнат тем больше стоит квартира"
   ]
  },
  {
   "cell_type": "code",
   "execution_count": 27,
   "metadata": {},
   "outputs": [
    {
     "data": {
      "text/html": [
       "<div>\n",
       "<style scoped>\n",
       "    .dataframe tbody tr th:only-of-type {\n",
       "        vertical-align: middle;\n",
       "    }\n",
       "\n",
       "    .dataframe tbody tr th {\n",
       "        vertical-align: top;\n",
       "    }\n",
       "\n",
       "    .dataframe thead th {\n",
       "        text-align: right;\n",
       "    }\n",
       "</style>\n",
       "<table border=\"1\" class=\"dataframe\">\n",
       "  <thead>\n",
       "    <tr style=\"text-align: right;\">\n",
       "      <th></th>\n",
       "      <th>mean</th>\n",
       "      <th>count</th>\n",
       "      <th>median</th>\n",
       "    </tr>\n",
       "    <tr>\n",
       "      <th>floor_category</th>\n",
       "      <th></th>\n",
       "      <th></th>\n",
       "      <th></th>\n",
       "    </tr>\n",
       "  </thead>\n",
       "  <tbody>\n",
       "    <tr>\n",
       "      <th>другой</th>\n",
       "      <td>5.993175e+06</td>\n",
       "      <td>15006</td>\n",
       "      <td>4690000</td>\n",
       "    </tr>\n",
       "    <tr>\n",
       "      <th>первый</th>\n",
       "      <td>4.413193e+06</td>\n",
       "      <td>2453</td>\n",
       "      <td>3800000</td>\n",
       "    </tr>\n",
       "    <tr>\n",
       "      <th>последний</th>\n",
       "      <td>5.473079e+06</td>\n",
       "      <td>2756</td>\n",
       "      <td>4200000</td>\n",
       "    </tr>\n",
       "  </tbody>\n",
       "</table>\n",
       "</div>"
      ],
      "text/plain": [
       "                        mean  count   median\n",
       "floor_category                              \n",
       "другой          5.993175e+06  15006  4690000\n",
       "первый          4.413193e+06   2453  3800000\n",
       "последний       5.473079e+06   2756  4200000"
      ]
     },
     "execution_count": 27,
     "metadata": {},
     "output_type": "execute_result"
    },
    {
     "data": {
      "image/png": "[encoded data removed]",
      "text/plain": [
       "<Figure size 432x288 with 1 Axes>"
      ]
     },
     "metadata": {
      "needs_background": "light"
     },
     "output_type": "display_data"
    }
   ],
   "source": [
    "pivot_table_floor_category = good_df.pivot_table(index = 'floor_category', values = 'last_price', aggfunc = ['mean', 'count', 'median'])\n",
    "pivot_table_floor_category.columns = ['mean', 'count', 'median']\n",
    "pivot_table_floor_category.plot(y = 'median',kind = 'bar')\n",
    "pivot_table_floor_category"
   ]
  },
  {
   "cell_type": "markdown",
   "metadata": {},
   "source": [
    "Самые дешевые квартиры на первом этаже, на втором месте по стоимости последний этаж, самые дорогие те что не на первом и не на последнем этаже."
   ]
  },
  {
   "cell_type": "code",
   "execution_count": 28,
   "metadata": {},
   "outputs": [
    {
     "data": {
      "text/plain": [
       "-0.3065025572740441"
      ]
     },
     "execution_count": 28,
     "metadata": {},
     "output_type": "execute_result"
    },
    {
     "data": {
      "image/png": "[encoded data removed]",
      "text/plain": [
       "<Figure size 432x288 with 1 Axes>"
      ]
     },
     "metadata": {
      "needs_background": "light"
     },
     "output_type": "display_data"
    }
   ],
   "source": [
    "good_df.plot(kind = 'scatter', y = 'last_price', x = 'citycenters_nearest')\n",
    "\n",
    "good_df['citycenters_nearest'].corr(good_df['last_price'])"
   ]
  },
  {
   "cell_type": "markdown",
   "metadata": {},
   "source": [
    "Чем ближе к центру тем стоимось квадратного метра больше"
   ]
  },
  {
   "cell_type": "code",
   "execution_count": 29,
   "metadata": {},
   "outputs": [
    {
     "data": {
      "text/html": [
       "<div>\n",
       "<style scoped>\n",
       "    .dataframe tbody tr th:only-of-type {\n",
       "        vertical-align: middle;\n",
       "    }\n",
       "\n",
       "    .dataframe tbody tr th {\n",
       "        vertical-align: top;\n",
       "    }\n",
       "\n",
       "    .dataframe thead th {\n",
       "        text-align: right;\n",
       "    }\n",
       "</style>\n",
       "<table border=\"1\" class=\"dataframe\">\n",
       "  <thead>\n",
       "    <tr style=\"text-align: right;\">\n",
       "      <th></th>\n",
       "      <th>mean</th>\n",
       "      <th>count</th>\n",
       "      <th>median</th>\n",
       "    </tr>\n",
       "    <tr>\n",
       "      <th>weekday_exposition</th>\n",
       "      <th></th>\n",
       "      <th></th>\n",
       "      <th></th>\n",
       "    </tr>\n",
       "  </thead>\n",
       "  <tbody>\n",
       "    <tr>\n",
       "      <th>1</th>\n",
       "      <td>5.788485e+06</td>\n",
       "      <td>3576</td>\n",
       "      <td>4600000</td>\n",
       "    </tr>\n",
       "    <tr>\n",
       "      <th>3</th>\n",
       "      <td>5.873963e+06</td>\n",
       "      <td>3710</td>\n",
       "      <td>4522500</td>\n",
       "    </tr>\n",
       "    <tr>\n",
       "      <th>0</th>\n",
       "      <td>5.670144e+06</td>\n",
       "      <td>3012</td>\n",
       "      <td>4500000</td>\n",
       "    </tr>\n",
       "    <tr>\n",
       "      <th>2</th>\n",
       "      <td>5.715706e+06</td>\n",
       "      <td>3346</td>\n",
       "      <td>4500000</td>\n",
       "    </tr>\n",
       "    <tr>\n",
       "      <th>5</th>\n",
       "      <td>5.724939e+06</td>\n",
       "      <td>1639</td>\n",
       "      <td>4500000</td>\n",
       "    </tr>\n",
       "    <tr>\n",
       "      <th>4</th>\n",
       "      <td>5.654768e+06</td>\n",
       "      <td>3480</td>\n",
       "      <td>4450000</td>\n",
       "    </tr>\n",
       "    <tr>\n",
       "      <th>6</th>\n",
       "      <td>5.568829e+06</td>\n",
       "      <td>1452</td>\n",
       "      <td>4450000</td>\n",
       "    </tr>\n",
       "  </tbody>\n",
       "</table>\n",
       "</div>"
      ],
      "text/plain": [
       "                            mean  count   median\n",
       "weekday_exposition                              \n",
       "1                   5.788485e+06   3576  4600000\n",
       "3                   5.873963e+06   3710  4522500\n",
       "0                   5.670144e+06   3012  4500000\n",
       "2                   5.715706e+06   3346  4500000\n",
       "5                   5.724939e+06   1639  4500000\n",
       "4                   5.654768e+06   3480  4450000\n",
       "6                   5.568829e+06   1452  4450000"
      ]
     },
     "execution_count": 29,
     "metadata": {},
     "output_type": "execute_result"
    },
    {
     "data": {
      "image/png": "[encoded data removed]",
      "text/plain": [
       "<Figure size 432x288 with 1 Axes>"
      ]
     },
     "metadata": {
      "needs_background": "light"
     },
     "output_type": "display_data"
    }
   ],
   "source": [
    "pivot_table_weekday_exposition = good_df.pivot_table(index = 'weekday_exposition', values = 'last_price', aggfunc = ['mean', 'count', 'median'])\n",
    "pivot_table_weekday_exposition.columns = ['mean', 'count', 'median']\n",
    "pivot_table_weekday_exposition.plot(y = 'median')\n",
    "\n",
    "pivot_table_weekday_exposition.sort_values('median', ascending = False)"
   ]
  },
  {
   "cell_type": "markdown",
   "metadata": {},
   "source": [
    "Обьявления выставленные во вторник имеют наиболее высокую цену квадратного метра, в субботу наоборот объявления имеют наиболее нискую цену."
   ]
  },
  {
   "cell_type": "code",
   "execution_count": 30,
   "metadata": {},
   "outputs": [
    {
     "data": {
      "text/html": [
       "<div>\n",
       "<style scoped>\n",
       "    .dataframe tbody tr th:only-of-type {\n",
       "        vertical-align: middle;\n",
       "    }\n",
       "\n",
       "    .dataframe tbody tr th {\n",
       "        vertical-align: top;\n",
       "    }\n",
       "\n",
       "    .dataframe thead th {\n",
       "        text-align: right;\n",
       "    }\n",
       "</style>\n",
       "<table border=\"1\" class=\"dataframe\">\n",
       "  <thead>\n",
       "    <tr style=\"text-align: right;\">\n",
       "      <th></th>\n",
       "      <th>mean</th>\n",
       "      <th>count</th>\n",
       "      <th>median</th>\n",
       "    </tr>\n",
       "    <tr>\n",
       "      <th>month_exposition</th>\n",
       "      <th></th>\n",
       "      <th></th>\n",
       "      <th></th>\n",
       "    </tr>\n",
       "  </thead>\n",
       "  <tbody>\n",
       "    <tr>\n",
       "      <th>9</th>\n",
       "      <td>5.881525e+06</td>\n",
       "      <td>1820</td>\n",
       "      <td>4600000</td>\n",
       "    </tr>\n",
       "    <tr>\n",
       "      <th>11</th>\n",
       "      <td>5.852905e+06</td>\n",
       "      <td>2132</td>\n",
       "      <td>4600000</td>\n",
       "    </tr>\n",
       "    <tr>\n",
       "      <th>12</th>\n",
       "      <td>5.917813e+06</td>\n",
       "      <td>1450</td>\n",
       "      <td>4510000</td>\n",
       "    </tr>\n",
       "    <tr>\n",
       "      <th>1</th>\n",
       "      <td>5.699805e+06</td>\n",
       "      <td>1276</td>\n",
       "      <td>4500000</td>\n",
       "    </tr>\n",
       "    <tr>\n",
       "      <th>2</th>\n",
       "      <td>5.754820e+06</td>\n",
       "      <td>2255</td>\n",
       "      <td>4500000</td>\n",
       "    </tr>\n",
       "    <tr>\n",
       "      <th>4</th>\n",
       "      <td>5.600960e+06</td>\n",
       "      <td>1491</td>\n",
       "      <td>4500000</td>\n",
       "    </tr>\n",
       "    <tr>\n",
       "      <th>5</th>\n",
       "      <td>5.917589e+06</td>\n",
       "      <td>1137</td>\n",
       "      <td>4500000</td>\n",
       "    </tr>\n",
       "    <tr>\n",
       "      <th>7</th>\n",
       "      <td>5.731905e+06</td>\n",
       "      <td>1548</td>\n",
       "      <td>4500000</td>\n",
       "    </tr>\n",
       "    <tr>\n",
       "      <th>8</th>\n",
       "      <td>5.702109e+06</td>\n",
       "      <td>1598</td>\n",
       "      <td>4500000</td>\n",
       "    </tr>\n",
       "    <tr>\n",
       "      <th>10</th>\n",
       "      <td>5.579931e+06</td>\n",
       "      <td>1903</td>\n",
       "      <td>4500000</td>\n",
       "    </tr>\n",
       "    <tr>\n",
       "      <th>3</th>\n",
       "      <td>5.491815e+06</td>\n",
       "      <td>1948</td>\n",
       "      <td>4450000</td>\n",
       "    </tr>\n",
       "    <tr>\n",
       "      <th>6</th>\n",
       "      <td>5.702073e+06</td>\n",
       "      <td>1657</td>\n",
       "      <td>4350000</td>\n",
       "    </tr>\n",
       "  </tbody>\n",
       "</table>\n",
       "</div>"
      ],
      "text/plain": [
       "                          mean  count   median\n",
       "month_exposition                              \n",
       "9                 5.881525e+06   1820  4600000\n",
       "11                5.852905e+06   2132  4600000\n",
       "12                5.917813e+06   1450  4510000\n",
       "1                 5.699805e+06   1276  4500000\n",
       "2                 5.754820e+06   2255  4500000\n",
       "4                 5.600960e+06   1491  4500000\n",
       "5                 5.917589e+06   1137  4500000\n",
       "7                 5.731905e+06   1548  4500000\n",
       "8                 5.702109e+06   1598  4500000\n",
       "10                5.579931e+06   1903  4500000\n",
       "3                 5.491815e+06   1948  4450000\n",
       "6                 5.702073e+06   1657  4350000"
      ]
     },
     "execution_count": 30,
     "metadata": {},
     "output_type": "execute_result"
    },
    {
     "data": {
      "image/png": "[encoded data removed]",
      "text/plain": [
       "<Figure size 432x288 with 1 Axes>"
      ]
     },
     "metadata": {
      "needs_background": "light"
     },
     "output_type": "display_data"
    }
   ],
   "source": [
    "pivot_table_month_exposition = good_df.pivot_table(index = 'month_exposition', values = 'last_price', aggfunc = ['mean', 'count', 'median'])\n",
    "pivot_table_month_exposition.columns = ['mean', 'count', 'median']\n",
    "pivot_table_month_exposition.plot(y = 'median')\n",
    "\n",
    "pivot_table_month_exposition.sort_values('median', ascending = False)"
   ]
  },
  {
   "cell_type": "markdown",
   "metadata": {},
   "source": [
    "В июне цены на недвижимость максимально низкие"
   ]
  },
  {
   "cell_type": "code",
   "execution_count": 31,
   "metadata": {
    "scrolled": false
   },
   "outputs": [
    {
     "data": {
      "text/html": [
       "<div>\n",
       "<style scoped>\n",
       "    .dataframe tbody tr th:only-of-type {\n",
       "        vertical-align: middle;\n",
       "    }\n",
       "\n",
       "    .dataframe tbody tr th {\n",
       "        vertical-align: top;\n",
       "    }\n",
       "\n",
       "    .dataframe thead th {\n",
       "        text-align: right;\n",
       "    }\n",
       "</style>\n",
       "<table border=\"1\" class=\"dataframe\">\n",
       "  <thead>\n",
       "    <tr style=\"text-align: right;\">\n",
       "      <th></th>\n",
       "      <th>mean</th>\n",
       "      <th>count</th>\n",
       "      <th>median</th>\n",
       "    </tr>\n",
       "    <tr>\n",
       "      <th>year_exposition</th>\n",
       "      <th></th>\n",
       "      <th></th>\n",
       "      <th></th>\n",
       "    </tr>\n",
       "  </thead>\n",
       "  <tbody>\n",
       "    <tr>\n",
       "      <th>2014</th>\n",
       "      <td>9.886902e+06</td>\n",
       "      <td>111</td>\n",
       "      <td>6800000.0</td>\n",
       "    </tr>\n",
       "    <tr>\n",
       "      <th>2015</th>\n",
       "      <td>6.908700e+06</td>\n",
       "      <td>1084</td>\n",
       "      <td>5137296.5</td>\n",
       "    </tr>\n",
       "    <tr>\n",
       "      <th>2019</th>\n",
       "      <td>5.703778e+06</td>\n",
       "      <td>1073</td>\n",
       "      <td>4750000.0</td>\n",
       "    </tr>\n",
       "    <tr>\n",
       "      <th>2016</th>\n",
       "      <td>6.000480e+06</td>\n",
       "      <td>2664</td>\n",
       "      <td>4500000.0</td>\n",
       "    </tr>\n",
       "    <tr>\n",
       "      <th>2018</th>\n",
       "      <td>5.376231e+06</td>\n",
       "      <td>7481</td>\n",
       "      <td>4480000.0</td>\n",
       "    </tr>\n",
       "    <tr>\n",
       "      <th>2017</th>\n",
       "      <td>5.758967e+06</td>\n",
       "      <td>7802</td>\n",
       "      <td>4450000.0</td>\n",
       "    </tr>\n",
       "  </tbody>\n",
       "</table>\n",
       "</div>"
      ],
      "text/plain": [
       "                         mean  count     median\n",
       "year_exposition                                \n",
       "2014             9.886902e+06    111  6800000.0\n",
       "2015             6.908700e+06   1084  5137296.5\n",
       "2019             5.703778e+06   1073  4750000.0\n",
       "2016             6.000480e+06   2664  4500000.0\n",
       "2018             5.376231e+06   7481  4480000.0\n",
       "2017             5.758967e+06   7802  4450000.0"
      ]
     },
     "execution_count": 31,
     "metadata": {},
     "output_type": "execute_result"
    },
    {
     "data": {
      "image/png": "[encoded data removed]",
      "text/plain": [
       "<Figure size 432x288 with 1 Axes>"
      ]
     },
     "metadata": {
      "needs_background": "light"
     },
     "output_type": "display_data"
    }
   ],
   "source": [
    "pivot_table_year_exposition = good_df.pivot_table(index = 'year_exposition', values = 'last_price', aggfunc = ['mean', 'count', 'median'])\n",
    "pivot_table_year_exposition.columns = ['mean', 'count', 'median']\n",
    "pivot_table_year_exposition.plot(y = 'median')\n",
    "\n",
    "pivot_table_year_exposition.sort_values('median', ascending = False)"
   ]
  },
  {
   "cell_type": "markdown",
   "metadata": {},
   "source": [
    "C 2014 стоимость недвижимости падала, с 2016 года начала расти. Видимо кризис дал о себе знать."
   ]
  },
  {
   "cell_type": "markdown",
   "metadata": {},
   "source": [
    "5. Выберите 10 населённых пунктов с наибольшим числом объявлений. Посчитайте среднюю цену квадратного метра в этих населённых пунктах. Выделите населённые пункты с самой высокой и низкой стоимостью жилья. Эти данные можно найти по имени в столбце locality_name."
   ]
  },
  {
   "cell_type": "code",
   "execution_count": 32,
   "metadata": {},
   "outputs": [
    {
     "data": {
      "text/plain": [
       "<AxesSubplot:xlabel='locality_name'>"
      ]
     },
     "execution_count": 32,
     "metadata": {},
     "output_type": "execute_result"
    },
    {
     "data": {
      "image/png": "[encoded data removed]",
      "text/plain": [
       "<Figure size 432x288 with 1 Axes>"
      ]
     },
     "metadata": {
      "needs_background": "light"
     },
     "output_type": "display_data"
    }
   ],
   "source": [
    "locality_pivot_table = good_df.pivot_table(index = 'locality_name', values = 'price_per_square_meter', aggfunc=['count', 'mean'])\n",
    "locality_pivot_table.columns = ['count', 'mean']\n",
    "locality_pivot_table = locality_pivot_table.sort_values('count', ascending = False).head(10)\n",
    "locality_pivot_table['mean'].plot(kind = 'bar')\n"
   ]
  },
  {
   "cell_type": "markdown",
   "metadata": {},
   "source": [
    "Самая дорогая стоимость квадратного метра в Санкт-Петербурге\n",
    "Самая дешевая стоимость метра в Выборге"
   ]
  },
  {
   "cell_type": "markdown",
   "metadata": {},
   "source": [
    "6. Изучите предложения квартир: для каждой квартиры есть информация о расстоянии до центра. Выделите квартиры в Санкт-Петербурге (locality_name). Ваша задача — выяснить, какая область входит в центр. Создайте столбец с расстоянием до центра в километрах: округлите до целых значений. После этого посчитайте среднюю цену для каждого километра. Постройте график: он должен показывать, как цена зависит от удалённости от центра. Определите границу, где график сильно меняется, — это и будет центральная зона."
   ]
  },
  {
   "cell_type": "code",
   "execution_count": 33,
   "metadata": {},
   "outputs": [
    {
     "data": {
      "text/html": [
       "<div>\n",
       "<style scoped>\n",
       "    .dataframe tbody tr th:only-of-type {\n",
       "        vertical-align: middle;\n",
       "    }\n",
       "\n",
       "    .dataframe tbody tr th {\n",
       "        vertical-align: top;\n",
       "    }\n",
       "\n",
       "    .dataframe thead th {\n",
       "        text-align: right;\n",
       "    }\n",
       "</style>\n",
       "<table border=\"1\" class=\"dataframe\">\n",
       "  <thead>\n",
       "    <tr style=\"text-align: right;\">\n",
       "      <th></th>\n",
       "      <th>price_per_square_meter</th>\n",
       "    </tr>\n",
       "    <tr>\n",
       "      <th>citycenters_nearest_km</th>\n",
       "      <th></th>\n",
       "    </tr>\n",
       "  </thead>\n",
       "  <tbody>\n",
       "    <tr>\n",
       "      <th>0</th>\n",
       "      <td>150507.161290</td>\n",
       "    </tr>\n",
       "    <tr>\n",
       "      <th>1</th>\n",
       "      <td>136160.939891</td>\n",
       "    </tr>\n",
       "    <tr>\n",
       "      <th>2</th>\n",
       "      <td>133402.338983</td>\n",
       "    </tr>\n",
       "    <tr>\n",
       "      <th>3</th>\n",
       "      <td>118249.680590</td>\n",
       "    </tr>\n",
       "    <tr>\n",
       "      <th>4</th>\n",
       "      <td>134612.555102</td>\n",
       "    </tr>\n",
       "    <tr>\n",
       "      <th>5</th>\n",
       "      <td>140218.546512</td>\n",
       "    </tr>\n",
       "    <tr>\n",
       "      <th>6</th>\n",
       "      <td>141476.826203</td>\n",
       "    </tr>\n",
       "    <tr>\n",
       "      <th>7</th>\n",
       "      <td>136598.628242</td>\n",
       "    </tr>\n",
       "    <tr>\n",
       "      <th>8</th>\n",
       "      <td>117640.485816</td>\n",
       "    </tr>\n",
       "    <tr>\n",
       "      <th>9</th>\n",
       "      <td>108416.638158</td>\n",
       "    </tr>\n",
       "    <tr>\n",
       "      <th>10</th>\n",
       "      <td>109846.961681</td>\n",
       "    </tr>\n",
       "    <tr>\n",
       "      <th>11</th>\n",
       "      <td>104743.524898</td>\n",
       "    </tr>\n",
       "    <tr>\n",
       "      <th>12</th>\n",
       "      <td>106756.241791</td>\n",
       "    </tr>\n",
       "    <tr>\n",
       "      <th>13</th>\n",
       "      <td>105633.049553</td>\n",
       "    </tr>\n",
       "    <tr>\n",
       "      <th>14</th>\n",
       "      <td>103146.868182</td>\n",
       "    </tr>\n",
       "    <tr>\n",
       "      <th>15</th>\n",
       "      <td>100000.253807</td>\n",
       "    </tr>\n",
       "    <tr>\n",
       "      <th>16</th>\n",
       "      <td>98925.417515</td>\n",
       "    </tr>\n",
       "    <tr>\n",
       "      <th>17</th>\n",
       "      <td>93605.323851</td>\n",
       "    </tr>\n",
       "    <tr>\n",
       "      <th>18</th>\n",
       "      <td>93697.379085</td>\n",
       "    </tr>\n",
       "    <tr>\n",
       "      <th>19</th>\n",
       "      <td>96572.173333</td>\n",
       "    </tr>\n",
       "    <tr>\n",
       "      <th>20</th>\n",
       "      <td>103734.683333</td>\n",
       "    </tr>\n",
       "    <tr>\n",
       "      <th>21</th>\n",
       "      <td>90587.549133</td>\n",
       "    </tr>\n",
       "    <tr>\n",
       "      <th>22</th>\n",
       "      <td>86621.626168</td>\n",
       "    </tr>\n",
       "    <tr>\n",
       "      <th>23</th>\n",
       "      <td>91463.240000</td>\n",
       "    </tr>\n",
       "    <tr>\n",
       "      <th>24</th>\n",
       "      <td>82439.909091</td>\n",
       "    </tr>\n",
       "    <tr>\n",
       "      <th>25</th>\n",
       "      <td>90499.593750</td>\n",
       "    </tr>\n",
       "    <tr>\n",
       "      <th>26</th>\n",
       "      <td>75171.333333</td>\n",
       "    </tr>\n",
       "    <tr>\n",
       "      <th>27</th>\n",
       "      <td>132115.000000</td>\n",
       "    </tr>\n",
       "    <tr>\n",
       "      <th>28</th>\n",
       "      <td>81840.200000</td>\n",
       "    </tr>\n",
       "    <tr>\n",
       "      <th>29</th>\n",
       "      <td>65459.500000</td>\n",
       "    </tr>\n",
       "  </tbody>\n",
       "</table>\n",
       "</div>"
      ],
      "text/plain": [
       "                        price_per_square_meter\n",
       "citycenters_nearest_km                        \n",
       "0                                150507.161290\n",
       "1                                136160.939891\n",
       "2                                133402.338983\n",
       "3                                118249.680590\n",
       "4                                134612.555102\n",
       "5                                140218.546512\n",
       "6                                141476.826203\n",
       "7                                136598.628242\n",
       "8                                117640.485816\n",
       "9                                108416.638158\n",
       "10                               109846.961681\n",
       "11                               104743.524898\n",
       "12                               106756.241791\n",
       "13                               105633.049553\n",
       "14                               103146.868182\n",
       "15                               100000.253807\n",
       "16                                98925.417515\n",
       "17                                93605.323851\n",
       "18                                93697.379085\n",
       "19                                96572.173333\n",
       "20                               103734.683333\n",
       "21                                90587.549133\n",
       "22                                86621.626168\n",
       "23                                91463.240000\n",
       "24                                82439.909091\n",
       "25                                90499.593750\n",
       "26                                75171.333333\n",
       "27                               132115.000000\n",
       "28                                81840.200000\n",
       "29                                65459.500000"
      ]
     },
     "execution_count": 33,
     "metadata": {},
     "output_type": "execute_result"
    },
    {
     "data": {
      "image/png": "[encoded data removed]",
      "text/plain": [
       "<Figure size 432x288 with 1 Axes>"
      ]
     },
     "metadata": {
      "needs_background": "light"
     },
     "output_type": "display_data"
    }
   ],
   "source": [
    "good_df['citycenters_nearest_km'] = good_df['citycenters_nearest']/1000\n",
    "good_df['citycenters_nearest_km'] = good_df['citycenters_nearest_km'].fillna(999999)\n",
    "good_df['citycenters_nearest_km'] = good_df['citycenters_nearest_km'].astype('int')\n",
    "pivot_table_km = good_df.query('locality_name == \"Санкт-Петербург\" and citycenters_nearest_km !=999999').pivot_table(index = 'citycenters_nearest_km', values = 'price_per_square_meter', aggfunc = 'mean')\n",
    "pivot_table_km.plot()\n",
    "pivot_table_km"
   ]
  },
  {
   "cell_type": "markdown",
   "metadata": {},
   "source": [
    "По всей видимости центральная часть это 9 км, 3 км не подходит так как слишком мало и резкие движения стоимости могут быть связаны с тем что там много коммерческой недвжимости"
   ]
  },
  {
   "cell_type": "markdown",
   "metadata": {},
   "source": [
    "7. Выделите сегмент квартир в центре. Проанализируйте эту территорию и изучите следующие параметры: площадь, цена, число комнат, высота потолков. Также выделите факторы, которые влияют на стоимость квартиры (число комнат, этаж, удалённость от центра, дата размещения объявления). Сделайте выводы. Отличаются ли они от общих выводов по всей базе?"
   ]
  },
  {
   "cell_type": "code",
   "execution_count": 34,
   "metadata": {},
   "outputs": [],
   "source": [
    "center_spb_df = good_df.query('citycenters_nearest_km <= 9 and locality_name == \"Санкт-Петербург\"')"
   ]
  },
  {
   "cell_type": "code",
   "execution_count": 35,
   "metadata": {
    "scrolled": false
   },
   "outputs": [
    {
     "data": {
      "text/plain": [
       "count    4118.000000\n",
       "mean       74.350318\n",
       "std        34.811464\n",
       "min        12.000000\n",
       "25%        47.000000\n",
       "50%        67.200000\n",
       "75%        93.000000\n",
       "max       198.000000\n",
       "Name: total_area, dtype: float64"
      ]
     },
     "execution_count": 35,
     "metadata": {},
     "output_type": "execute_result"
    },
    {
     "data": {
      "image/png": "[encoded data removed]",
      "text/plain": [
       "<Figure size 432x288 with 1 Axes>"
      ]
     },
     "metadata": {
      "needs_background": "light"
     },
     "output_type": "display_data"
    }
   ],
   "source": [
    "center_spb_df.plot(y = 'total_area', kind = 'hist', bins = 100, grid=True, range = (0,500))\n",
    "center_spb_df['total_area'].describe()"
   ]
  },
  {
   "cell_type": "markdown",
   "metadata": {},
   "source": [
    "В среднем общая площадь больше чем по всей выборке"
   ]
  },
  {
   "cell_type": "code",
   "execution_count": 36,
   "metadata": {},
   "outputs": [
    {
     "data": {
      "text/plain": [
       "count    4.118000e+03\n",
       "mean     9.928049e+06\n",
       "std      8.441499e+06\n",
       "min      1.219000e+04\n",
       "25%      5.400000e+06\n",
       "50%      7.571500e+06\n",
       "75%      1.130000e+07\n",
       "max      9.800000e+07\n",
       "Name: last_price, dtype: float64"
      ]
     },
     "execution_count": 36,
     "metadata": {},
     "output_type": "execute_result"
    },
    {
     "data": {
      "image/png": "[encoded data removed]",
      "text/plain": [
       "<Figure size 432x288 with 1 Axes>"
      ]
     },
     "metadata": {
      "needs_background": "light"
     },
     "output_type": "display_data"
    }
   ],
   "source": [
    "center_spb_df.plot(y = 'last_price', kind = 'hist', bins = 100, grid=True, range = (0,15000000), )\n",
    "center_spb_df['last_price'].describe()"
   ]
  },
  {
   "cell_type": "markdown",
   "metadata": {},
   "source": [
    "Средняя стоимость квадратного метра выше чем по всей выборке"
   ]
  },
  {
   "cell_type": "code",
   "execution_count": 37,
   "metadata": {},
   "outputs": [
    {
     "data": {
      "text/plain": [
       "count    4118.000000\n",
       "mean        2.442933\n",
       "std         1.136333\n",
       "min         0.000000\n",
       "25%         2.000000\n",
       "50%         2.000000\n",
       "75%         3.000000\n",
       "max         8.000000\n",
       "Name: rooms, dtype: float64"
      ]
     },
     "execution_count": 37,
     "metadata": {},
     "output_type": "execute_result"
    },
    {
     "data": {
      "image/png": "[encoded data removed]",
      "text/plain": [
       "<Figure size 432x288 with 1 Axes>"
      ]
     },
     "metadata": {
      "needs_background": "light"
     },
     "output_type": "display_data"
    }
   ],
   "source": [
    "center_spb_df.plot(y = 'rooms', kind = 'hist', bins = 30, grid=True)\n",
    "center_spb_df['rooms'].describe()"
   ]
  },
  {
   "cell_type": "markdown",
   "metadata": {},
   "source": [
    "В центре Санкт-Питербурга больше 2-х комнатных квартир чем по всей выборке"
   ]
  },
  {
   "cell_type": "code",
   "execution_count": 38,
   "metadata": {
    "scrolled": true
   },
   "outputs": [
    {
     "data": {
      "text/plain": [
       "<AxesSubplot:ylabel='Frequency'>"
      ]
     },
     "execution_count": 38,
     "metadata": {},
     "output_type": "execute_result"
    },
    {
     "data": {
      "image/png": "[encoded data removed]",
      "text/plain": [
       "<Figure size 432x288 with 1 Axes>"
      ]
     },
     "metadata": {
      "needs_background": "light"
     },
     "output_type": "display_data"
    }
   ],
   "source": [
    "center_spb_df.plot(y = 'ceiling_height', kind = 'hist', bins = 100, range = (2,5), grid=True)"
   ]
  },
  {
   "cell_type": "markdown",
   "metadata": {},
   "source": [
    "Сильно выбивается высота потолков в 3 метра, по всей видимости это связано с старой затройкой центра города"
   ]
  },
  {
   "cell_type": "markdown",
   "metadata": {},
   "source": [
    "8. Зависимость стоимости квадратного метра от количества комнат."
   ]
  },
  {
   "cell_type": "code",
   "execution_count": 39,
   "metadata": {},
   "outputs": [
    {
     "data": {
      "text/plain": [
       "-0.05988100557966595"
      ]
     },
     "execution_count": 39,
     "metadata": {},
     "output_type": "execute_result"
    },
    {
     "data": {
      "image/png": "[encoded data removed]",
      "text/plain": [
       "<Figure size 432x288 with 1 Axes>"
      ]
     },
     "metadata": {
      "needs_background": "light"
     },
     "output_type": "display_data"
    }
   ],
   "source": [
    "center_spb_rooms = center_spb_df.pivot_table(index = 'rooms', values = 'price_per_square_meter', aggfunc = ['mean', 'count', 'median'])\n",
    "center_spb_rooms.columns = ['mean', 'count', 'median']\n",
    "center_spb_rooms.query('count > 50').plot(y = 'median')\n",
    "\n",
    "center_spb_rooms.query('count > 50').sort_values('median', ascending = False)\n",
    "\n",
    "center_spb_df['rooms'].corr(center_spb_df['price_per_square_meter'])"
   ]
  },
  {
   "cell_type": "markdown",
   "metadata": {},
   "source": [
    "Чем больше комнат тем меньше стоимость квадратного метра"
   ]
  },
  {
   "cell_type": "markdown",
   "metadata": {},
   "source": [
    "9. Зависимость стоимости квадратного метра от этажа."
   ]
  },
  {
   "cell_type": "code",
   "execution_count": 40,
   "metadata": {},
   "outputs": [
    {
     "data": {
      "text/html": [
       "<div>\n",
       "<style scoped>\n",
       "    .dataframe tbody tr th:only-of-type {\n",
       "        vertical-align: middle;\n",
       "    }\n",
       "\n",
       "    .dataframe tbody tr th {\n",
       "        vertical-align: top;\n",
       "    }\n",
       "\n",
       "    .dataframe thead th {\n",
       "        text-align: right;\n",
       "    }\n",
       "</style>\n",
       "<table border=\"1\" class=\"dataframe\">\n",
       "  <thead>\n",
       "    <tr style=\"text-align: right;\">\n",
       "      <th></th>\n",
       "      <th>mean</th>\n",
       "      <th>count</th>\n",
       "      <th>median</th>\n",
       "    </tr>\n",
       "    <tr>\n",
       "      <th>floor_category</th>\n",
       "      <th></th>\n",
       "      <th></th>\n",
       "      <th></th>\n",
       "    </tr>\n",
       "  </thead>\n",
       "  <tbody>\n",
       "    <tr>\n",
       "      <th>другой</th>\n",
       "      <td>1.039472e+07</td>\n",
       "      <td>3030</td>\n",
       "      <td>7950000</td>\n",
       "    </tr>\n",
       "    <tr>\n",
       "      <th>первый</th>\n",
       "      <td>7.112045e+06</td>\n",
       "      <td>435</td>\n",
       "      <td>5700000</td>\n",
       "    </tr>\n",
       "    <tr>\n",
       "      <th>последний</th>\n",
       "      <td>9.638540e+06</td>\n",
       "      <td>653</td>\n",
       "      <td>7700000</td>\n",
       "    </tr>\n",
       "  </tbody>\n",
       "</table>\n",
       "</div>"
      ],
      "text/plain": [
       "                        mean  count   median\n",
       "floor_category                              \n",
       "другой          1.039472e+07   3030  7950000\n",
       "первый          7.112045e+06    435  5700000\n",
       "последний       9.638540e+06    653  7700000"
      ]
     },
     "execution_count": 40,
     "metadata": {},
     "output_type": "execute_result"
    },
    {
     "data": {
      "image/png": "[encoded data removed]",
      "text/plain": [
       "<Figure size 432x288 with 1 Axes>"
      ]
     },
     "metadata": {
      "needs_background": "light"
     },
     "output_type": "display_data"
    }
   ],
   "source": [
    "center_spb_floor_category = center_spb_df.pivot_table(index = 'floor_category', values = 'last_price', aggfunc = ['mean', 'count', 'median'])\n",
    "center_spb_floor_category.columns = ['mean', 'count', 'median']\n",
    "center_spb_floor_category.plot(y = 'median',kind = 'bar')\n",
    "center_spb_floor_category"
   ]
  },
  {
   "cell_type": "markdown",
   "metadata": {},
   "source": [
    "Зависимость такая же как и по другим городам, первый самый дешевый, последний на втором месте и другой самый дорогой прайс за квадратный метр"
   ]
  },
  {
   "cell_type": "markdown",
   "metadata": {},
   "source": [
    "10. Зависимость стоимости квадратного метра от удаленности от центра"
   ]
  },
  {
   "cell_type": "code",
   "execution_count": 41,
   "metadata": {
    "scrolled": true
   },
   "outputs": [
    {
     "data": {
      "text/plain": [
       "-0.12398298094285325"
      ]
     },
     "execution_count": 41,
     "metadata": {},
     "output_type": "execute_result"
    },
    {
     "data": {
      "image/png": "[encoded data removed]",
      "text/plain": [
       "<Figure size 432x288 with 1 Axes>"
      ]
     },
     "metadata": {
      "needs_background": "light"
     },
     "output_type": "display_data"
    }
   ],
   "source": [
    "center_spb_df.plot(kind = 'scatter', y = 'price_per_square_meter', x = 'citycenters_nearest')\n",
    "\n",
    "center_spb_df['citycenters_nearest'].corr(center_spb_df['price_per_square_meter'])"
   ]
  },
  {
   "cell_type": "markdown",
   "metadata": {},
   "source": [
    "Зависимости стоимости нет так как отфильтровано по центру города"
   ]
  },
  {
   "cell_type": "markdown",
   "metadata": {},
   "source": [
    "11. Зависимость стоимости квадратного метра от дня недели размещения объявления."
   ]
  },
  {
   "cell_type": "code",
   "execution_count": 42,
   "metadata": {},
   "outputs": [
    {
     "data": {
      "text/html": [
       "<div>\n",
       "<style scoped>\n",
       "    .dataframe tbody tr th:only-of-type {\n",
       "        vertical-align: middle;\n",
       "    }\n",
       "\n",
       "    .dataframe tbody tr th {\n",
       "        vertical-align: top;\n",
       "    }\n",
       "\n",
       "    .dataframe thead th {\n",
       "        text-align: right;\n",
       "    }\n",
       "</style>\n",
       "<table border=\"1\" class=\"dataframe\">\n",
       "  <thead>\n",
       "    <tr style=\"text-align: right;\">\n",
       "      <th></th>\n",
       "      <th>mean</th>\n",
       "      <th>count</th>\n",
       "      <th>median</th>\n",
       "    </tr>\n",
       "    <tr>\n",
       "      <th>weekday_exposition</th>\n",
       "      <th></th>\n",
       "      <th></th>\n",
       "      <th></th>\n",
       "    </tr>\n",
       "  </thead>\n",
       "  <tbody>\n",
       "    <tr>\n",
       "      <th>5</th>\n",
       "      <td>134780.063291</td>\n",
       "      <td>316</td>\n",
       "      <td>120651.0</td>\n",
       "    </tr>\n",
       "    <tr>\n",
       "      <th>6</th>\n",
       "      <td>129485.196078</td>\n",
       "      <td>255</td>\n",
       "      <td>118646.0</td>\n",
       "    </tr>\n",
       "    <tr>\n",
       "      <th>0</th>\n",
       "      <td>128775.433225</td>\n",
       "      <td>614</td>\n",
       "      <td>117093.5</td>\n",
       "    </tr>\n",
       "    <tr>\n",
       "      <th>2</th>\n",
       "      <td>129220.892216</td>\n",
       "      <td>668</td>\n",
       "      <td>115277.0</td>\n",
       "    </tr>\n",
       "    <tr>\n",
       "      <th>4</th>\n",
       "      <td>127681.748555</td>\n",
       "      <td>692</td>\n",
       "      <td>114827.0</td>\n",
       "    </tr>\n",
       "    <tr>\n",
       "      <th>3</th>\n",
       "      <td>127686.755006</td>\n",
       "      <td>849</td>\n",
       "      <td>114492.0</td>\n",
       "    </tr>\n",
       "    <tr>\n",
       "      <th>1</th>\n",
       "      <td>127114.842541</td>\n",
       "      <td>724</td>\n",
       "      <td>113594.5</td>\n",
       "    </tr>\n",
       "  </tbody>\n",
       "</table>\n",
       "</div>"
      ],
      "text/plain": [
       "                             mean  count    median\n",
       "weekday_exposition                                \n",
       "5                   134780.063291    316  120651.0\n",
       "6                   129485.196078    255  118646.0\n",
       "0                   128775.433225    614  117093.5\n",
       "2                   129220.892216    668  115277.0\n",
       "4                   127681.748555    692  114827.0\n",
       "3                   127686.755006    849  114492.0\n",
       "1                   127114.842541    724  113594.5"
      ]
     },
     "execution_count": 42,
     "metadata": {},
     "output_type": "execute_result"
    },
    {
     "data": {
      "image/png": "[encoded data removed]",
      "text/plain": [
       "<Figure size 432x288 with 1 Axes>"
      ]
     },
     "metadata": {
      "needs_background": "light"
     },
     "output_type": "display_data"
    }
   ],
   "source": [
    "center_spb_weekday_exposition = center_spb_df.pivot_table(index = 'weekday_exposition', values = 'price_per_square_meter', aggfunc = ['mean', 'count', 'median'])\n",
    "center_spb_weekday_exposition.columns = ['mean', 'count', 'median']\n",
    "center_spb_weekday_exposition.plot(y = 'median')\n",
    "\n",
    "center_spb_weekday_exposition.sort_values('median', ascending = False)"
   ]
  },
  {
   "cell_type": "markdown",
   "metadata": {},
   "source": [
    "Интересно, в Санкт-Питербурге картина противоположная той что видели по всей выборке, самые дешевые во вторник, самые дорогие в субботу"
   ]
  },
  {
   "cell_type": "markdown",
   "metadata": {},
   "source": [
    "Зависимость стоимости квадратного метра от месяца размещения объявления"
   ]
  },
  {
   "cell_type": "code",
   "execution_count": 43,
   "metadata": {},
   "outputs": [
    {
     "data": {
      "text/html": [
       "<div>\n",
       "<style scoped>\n",
       "    .dataframe tbody tr th:only-of-type {\n",
       "        vertical-align: middle;\n",
       "    }\n",
       "\n",
       "    .dataframe tbody tr th {\n",
       "        vertical-align: top;\n",
       "    }\n",
       "\n",
       "    .dataframe thead th {\n",
       "        text-align: right;\n",
       "    }\n",
       "</style>\n",
       "<table border=\"1\" class=\"dataframe\">\n",
       "  <thead>\n",
       "    <tr style=\"text-align: right;\">\n",
       "      <th></th>\n",
       "      <th>mean</th>\n",
       "      <th>count</th>\n",
       "      <th>median</th>\n",
       "    </tr>\n",
       "    <tr>\n",
       "      <th>month_exposition</th>\n",
       "      <th></th>\n",
       "      <th></th>\n",
       "      <th></th>\n",
       "    </tr>\n",
       "  </thead>\n",
       "  <tbody>\n",
       "    <tr>\n",
       "      <th>3</th>\n",
       "      <td>129384.405542</td>\n",
       "      <td>397</td>\n",
       "      <td>122571.0</td>\n",
       "    </tr>\n",
       "    <tr>\n",
       "      <th>8</th>\n",
       "      <td>130107.573668</td>\n",
       "      <td>319</td>\n",
       "      <td>120625.0</td>\n",
       "    </tr>\n",
       "    <tr>\n",
       "      <th>9</th>\n",
       "      <td>129535.188976</td>\n",
       "      <td>381</td>\n",
       "      <td>117391.0</td>\n",
       "    </tr>\n",
       "    <tr>\n",
       "      <th>1</th>\n",
       "      <td>131041.354582</td>\n",
       "      <td>251</td>\n",
       "      <td>116279.0</td>\n",
       "    </tr>\n",
       "    <tr>\n",
       "      <th>10</th>\n",
       "      <td>125035.328729</td>\n",
       "      <td>362</td>\n",
       "      <td>115261.5</td>\n",
       "    </tr>\n",
       "    <tr>\n",
       "      <th>11</th>\n",
       "      <td>129259.815725</td>\n",
       "      <td>407</td>\n",
       "      <td>115000.0</td>\n",
       "    </tr>\n",
       "    <tr>\n",
       "      <th>12</th>\n",
       "      <td>133240.410959</td>\n",
       "      <td>292</td>\n",
       "      <td>114792.0</td>\n",
       "    </tr>\n",
       "    <tr>\n",
       "      <th>7</th>\n",
       "      <td>129099.496988</td>\n",
       "      <td>332</td>\n",
       "      <td>114496.0</td>\n",
       "    </tr>\n",
       "    <tr>\n",
       "      <th>5</th>\n",
       "      <td>126200.833962</td>\n",
       "      <td>265</td>\n",
       "      <td>114416.0</td>\n",
       "    </tr>\n",
       "    <tr>\n",
       "      <th>6</th>\n",
       "      <td>131225.139130</td>\n",
       "      <td>345</td>\n",
       "      <td>113859.0</td>\n",
       "    </tr>\n",
       "    <tr>\n",
       "      <th>2</th>\n",
       "      <td>126853.097614</td>\n",
       "      <td>461</td>\n",
       "      <td>112941.0</td>\n",
       "    </tr>\n",
       "    <tr>\n",
       "      <th>4</th>\n",
       "      <td>123665.741830</td>\n",
       "      <td>306</td>\n",
       "      <td>112401.5</td>\n",
       "    </tr>\n",
       "  </tbody>\n",
       "</table>\n",
       "</div>"
      ],
      "text/plain": [
       "                           mean  count    median\n",
       "month_exposition                                \n",
       "3                 129384.405542    397  122571.0\n",
       "8                 130107.573668    319  120625.0\n",
       "9                 129535.188976    381  117391.0\n",
       "1                 131041.354582    251  116279.0\n",
       "10                125035.328729    362  115261.5\n",
       "11                129259.815725    407  115000.0\n",
       "12                133240.410959    292  114792.0\n",
       "7                 129099.496988    332  114496.0\n",
       "5                 126200.833962    265  114416.0\n",
       "6                 131225.139130    345  113859.0\n",
       "2                 126853.097614    461  112941.0\n",
       "4                 123665.741830    306  112401.5"
      ]
     },
     "execution_count": 43,
     "metadata": {},
     "output_type": "execute_result"
    }
   ],
   "source": [
    "center_spb_month_exposition = center_spb_df.pivot_table(index = 'month_exposition', values = 'price_per_square_meter', aggfunc = ['mean', 'count', 'median'])\n",
    "center_spb_month_exposition.columns = ['mean', 'count', 'median']\n",
    "\n",
    "center_spb_month_exposition.sort_values('median', ascending = False)"
   ]
  },
  {
   "cell_type": "markdown",
   "metadata": {},
   "source": [
    "Стоимость квадратного метра в Санкт-Питербурге почти не меняется в зависимости от месяца"
   ]
  },
  {
   "cell_type": "markdown",
   "metadata": {},
   "source": [
    "12. Зависимость стоимости квадратного метра от года размещения объявления."
   ]
  },
  {
   "cell_type": "code",
   "execution_count": 44,
   "metadata": {},
   "outputs": [
    {
     "data": {
      "text/html": [
       "<div>\n",
       "<style scoped>\n",
       "    .dataframe tbody tr th:only-of-type {\n",
       "        vertical-align: middle;\n",
       "    }\n",
       "\n",
       "    .dataframe tbody tr th {\n",
       "        vertical-align: top;\n",
       "    }\n",
       "\n",
       "    .dataframe thead th {\n",
       "        text-align: right;\n",
       "    }\n",
       "</style>\n",
       "<table border=\"1\" class=\"dataframe\">\n",
       "  <thead>\n",
       "    <tr style=\"text-align: right;\">\n",
       "      <th></th>\n",
       "      <th>mean</th>\n",
       "      <th>count</th>\n",
       "      <th>median</th>\n",
       "    </tr>\n",
       "    <tr>\n",
       "      <th>year_exposition</th>\n",
       "      <th></th>\n",
       "      <th></th>\n",
       "      <th></th>\n",
       "    </tr>\n",
       "  </thead>\n",
       "  <tbody>\n",
       "    <tr>\n",
       "      <th>2019</th>\n",
       "      <td>135364.295238</td>\n",
       "      <td>210</td>\n",
       "      <td>124910.5</td>\n",
       "    </tr>\n",
       "    <tr>\n",
       "      <th>2018</th>\n",
       "      <td>126760.573051</td>\n",
       "      <td>1321</td>\n",
       "      <td>116406.0</td>\n",
       "    </tr>\n",
       "    <tr>\n",
       "      <th>2017</th>\n",
       "      <td>128301.979193</td>\n",
       "      <td>1586</td>\n",
       "      <td>114285.0</td>\n",
       "    </tr>\n",
       "    <tr>\n",
       "      <th>2015</th>\n",
       "      <td>128589.374631</td>\n",
       "      <td>339</td>\n",
       "      <td>113074.0</td>\n",
       "    </tr>\n",
       "    <tr>\n",
       "      <th>2016</th>\n",
       "      <td>129838.359873</td>\n",
       "      <td>628</td>\n",
       "      <td>112598.5</td>\n",
       "    </tr>\n",
       "  </tbody>\n",
       "</table>\n",
       "</div>"
      ],
      "text/plain": [
       "                          mean  count    median\n",
       "year_exposition                                \n",
       "2019             135364.295238    210  124910.5\n",
       "2018             126760.573051   1321  116406.0\n",
       "2017             128301.979193   1586  114285.0\n",
       "2015             128589.374631    339  113074.0\n",
       "2016             129838.359873    628  112598.5"
      ]
     },
     "execution_count": 44,
     "metadata": {},
     "output_type": "execute_result"
    },
    {
     "data": {
      "image/png": "[encoded data removed]",
      "text/plain": [
       "<Figure size 432x288 with 1 Axes>"
      ]
     },
     "metadata": {
      "needs_background": "light"
     },
     "output_type": "display_data"
    }
   ],
   "source": [
    "center_spb_year_exposition = center_spb_df.pivot_table(index = 'year_exposition', values = 'price_per_square_meter', aggfunc = ['mean', 'count', 'median'])\n",
    "center_spb_year_exposition.columns = ['mean', 'count', 'median']\n",
    "center_spb_year_exposition.query('count > 50').plot(y = 'median')\n",
    "\n",
    "center_spb_year_exposition.query('count > 50').sort_values('median', ascending = False)"
   ]
  },
  {
   "cell_type": "markdown",
   "metadata": {},
   "source": [
    "Стоимость квадратного метра в зависимости от стоимости тоже отличается от всей выборке, здесь почти не было падения цены, зато рост после 2016 года был значительнее"
   ]
  },
  {
   "cell_type": "markdown",
   "metadata": {},
   "source": [
    "## Общий вывод"
   ]
  },
  {
   "cell_type": "markdown",
   "metadata": {},
   "source": [
    "На стоимость квартиры логично сильно влияет общая площадь, количество комнат, общая площадь, близость к центру. Незначительно на стоимость квартиры влияют день, месяц, и этаж квартиры.\n",
    "С каждым готом квартиры дорожают."
   ]
  }
 ],
 "metadata": {
  "ExecuteTimeLog": [
   {
    "duration": 573,
    "start_time": "2022-04-08T01:42:18.372Z"
   },
   {
    "duration": 59,
    "start_time": "2022-04-08T01:42:24.451Z"
   },
   {
    "duration": 118,
    "start_time": "2022-04-08T01:43:00.990Z"
   },
   {
    "duration": 5,
    "start_time": "2022-04-08T01:44:08.163Z"
   },
   {
    "duration": 4,
    "start_time": "2022-04-08T01:44:22.009Z"
   },
   {
    "duration": 14,
    "start_time": "2022-04-08T01:44:34.759Z"
   },
   {
    "duration": 17,
    "start_time": "2022-04-08T01:44:57.264Z"
   },
   {
    "duration": 914,
    "start_time": "2022-04-08T01:45:06.836Z"
   },
   {
    "duration": 8,
    "start_time": "2022-04-08T01:46:08.353Z"
   },
   {
    "duration": 15,
    "start_time": "2022-04-08T01:46:43.336Z"
   },
   {
    "duration": 497,
    "start_time": "2022-04-08T01:47:01.918Z"
   },
   {
    "duration": 572,
    "start_time": "2022-04-08T01:47:32.458Z"
   },
   {
    "duration": 849,
    "start_time": "2022-04-08T01:47:48.821Z"
   },
   {
    "duration": 461,
    "start_time": "2022-04-08T01:48:10.009Z"
   },
   {
    "duration": 496,
    "start_time": "2022-04-08T01:48:15.709Z"
   },
   {
    "duration": 454,
    "start_time": "2022-04-08T01:48:36.529Z"
   },
   {
    "duration": 429,
    "start_time": "2022-04-08T01:48:45.428Z"
   },
   {
    "duration": 3,
    "start_time": "2022-04-08T01:50:01.787Z"
   },
   {
    "duration": 6,
    "start_time": "2022-04-08T01:50:42.859Z"
   },
   {
    "duration": 862,
    "start_time": "2022-04-08T01:51:34.702Z"
   },
   {
    "duration": 858,
    "start_time": "2022-04-08T01:52:51.542Z"
   },
   {
    "duration": 97,
    "start_time": "2022-04-08T01:53:47.060Z"
   },
   {
    "duration": 315,
    "start_time": "2022-04-08T01:54:00.936Z"
   },
   {
    "duration": 96,
    "start_time": "2022-04-08T01:54:14.172Z"
   },
   {
    "duration": 248,
    "start_time": "2022-04-08T01:54:28.451Z"
   },
   {
    "duration": 221,
    "start_time": "2022-04-08T01:54:44.280Z"
   },
   {
    "duration": 281,
    "start_time": "2022-04-08T01:55:01.131Z"
   },
   {
    "duration": 226,
    "start_time": "2022-04-08T01:55:16.967Z"
   },
   {
    "duration": 93,
    "start_time": "2022-04-08T01:55:25.002Z"
   },
   {
    "duration": 240,
    "start_time": "2022-04-08T01:55:35.010Z"
   },
   {
    "duration": 231,
    "start_time": "2022-04-08T01:55:52.346Z"
   },
   {
    "duration": 95,
    "start_time": "2022-04-08T01:56:01.182Z"
   },
   {
    "duration": 34,
    "start_time": "2022-04-08T01:56:41.036Z"
   },
   {
    "duration": 239,
    "start_time": "2022-04-08T01:57:17.815Z"
   },
   {
    "duration": 13,
    "start_time": "2022-04-08T01:57:46.474Z"
   },
   {
    "duration": 424,
    "start_time": "2022-04-08T01:57:50.516Z"
   },
   {
    "duration": 475,
    "start_time": "2022-04-08T01:58:08.907Z"
   },
   {
    "duration": 286,
    "start_time": "2022-04-08T01:58:19.324Z"
   },
   {
    "duration": 419,
    "start_time": "2022-04-08T01:59:32.439Z"
   },
   {
    "duration": 87,
    "start_time": "2022-04-08T01:59:42.343Z"
   },
   {
    "duration": 221,
    "start_time": "2022-04-08T02:00:20.491Z"
   },
   {
    "duration": 232,
    "start_time": "2022-04-08T02:00:56.508Z"
   },
   {
    "duration": 218,
    "start_time": "2022-04-08T02:03:29.536Z"
   },
   {
    "duration": 242,
    "start_time": "2022-04-08T02:04:04.050Z"
   },
   {
    "duration": 37,
    "start_time": "2022-04-08T02:04:24.250Z"
   },
   {
    "duration": 263,
    "start_time": "2022-04-08T02:04:51.925Z"
   },
   {
    "duration": 113,
    "start_time": "2022-04-08T02:05:48.193Z"
   },
   {
    "duration": 99,
    "start_time": "2022-04-08T02:05:52.644Z"
   },
   {
    "duration": 121,
    "start_time": "2022-04-08T02:05:57.432Z"
   },
   {
    "duration": 130,
    "start_time": "2022-04-08T02:06:02.825Z"
   },
   {
    "duration": 619,
    "start_time": "2022-04-08T02:06:55.204Z"
   },
   {
    "duration": 6,
    "start_time": "2022-04-08T02:06:55.826Z"
   },
   {
    "duration": 8,
    "start_time": "2022-04-08T02:06:55.834Z"
   },
   {
    "duration": 10,
    "start_time": "2022-04-08T02:06:55.868Z"
   },
   {
    "duration": 640,
    "start_time": "2022-04-08T02:06:55.880Z"
   },
   {
    "duration": 8,
    "start_time": "2022-04-08T02:06:56.522Z"
   },
   {
    "duration": 35,
    "start_time": "2022-04-08T02:06:56.532Z"
   },
   {
    "duration": 456,
    "start_time": "2022-04-08T02:06:56.570Z"
   },
   {
    "duration": 481,
    "start_time": "2022-04-08T02:06:57.028Z"
   },
   {
    "duration": 458,
    "start_time": "2022-04-08T02:06:57.512Z"
   },
   {
    "duration": 452,
    "start_time": "2022-04-08T02:06:57.973Z"
   },
   {
    "duration": 440,
    "start_time": "2022-04-08T02:06:58.427Z"
   },
   {
    "duration": 863,
    "start_time": "2022-04-08T02:06:58.870Z"
   },
   {
    "duration": 1050,
    "start_time": "2022-04-08T02:06:59.736Z"
   },
   {
    "duration": 252,
    "start_time": "2022-04-08T02:07:00.788Z"
   },
   {
    "duration": 266,
    "start_time": "2022-04-08T02:07:01.042Z"
   },
   {
    "duration": 243,
    "start_time": "2022-04-08T02:07:01.311Z"
   },
   {
    "duration": 291,
    "start_time": "2022-04-08T02:07:01.556Z"
   },
   {
    "duration": 241,
    "start_time": "2022-04-08T02:07:01.849Z"
   },
   {
    "duration": 254,
    "start_time": "2022-04-08T02:07:02.092Z"
   },
   {
    "duration": 253,
    "start_time": "2022-04-08T02:07:02.348Z"
   },
   {
    "duration": 35,
    "start_time": "2022-04-08T02:07:02.603Z"
   },
   {
    "duration": 261,
    "start_time": "2022-04-08T02:07:02.640Z"
   },
   {
    "duration": 12,
    "start_time": "2022-04-08T02:07:02.903Z"
   },
   {
    "duration": 519,
    "start_time": "2022-04-08T02:07:02.917Z"
   },
   {
    "duration": 543,
    "start_time": "2022-04-08T02:07:03.438Z"
   },
   {
    "duration": 329,
    "start_time": "2022-04-08T02:07:03.983Z"
   },
   {
    "duration": 825,
    "start_time": "2022-04-08T02:07:04.369Z"
   },
   {
    "duration": 479,
    "start_time": "2022-04-08T02:07:05.197Z"
   },
   {
    "duration": 502,
    "start_time": "2022-04-08T02:07:05.678Z"
   },
   {
    "duration": 430,
    "start_time": "2022-04-08T02:07:06.182Z"
   },
   {
    "duration": 391,
    "start_time": "2022-04-08T02:07:06.667Z"
   },
   {
    "duration": 38,
    "start_time": "2022-04-08T02:07:07.068Z"
   },
   {
    "duration": 346,
    "start_time": "2022-04-08T02:07:07.109Z"
   },
   {
    "duration": 521,
    "start_time": "2022-04-18T11:22:33.387Z"
   },
   {
    "duration": 4,
    "start_time": "2022-04-18T11:22:33.910Z"
   },
   {
    "duration": 10,
    "start_time": "2022-04-18T11:22:33.915Z"
   },
   {
    "duration": 12,
    "start_time": "2022-04-18T11:22:33.927Z"
   },
   {
    "duration": 452,
    "start_time": "2022-04-18T11:22:33.941Z"
   },
   {
    "duration": 6,
    "start_time": "2022-04-18T11:22:34.399Z"
   },
   {
    "duration": 11,
    "start_time": "2022-04-18T11:22:34.407Z"
   },
   {
    "duration": 292,
    "start_time": "2022-04-18T11:22:34.419Z"
   },
   {
    "duration": 282,
    "start_time": "2022-04-18T11:22:34.713Z"
   },
   {
    "duration": 264,
    "start_time": "2022-04-18T11:22:34.997Z"
   },
   {
    "duration": 265,
    "start_time": "2022-04-18T11:22:35.263Z"
   },
   {
    "duration": 250,
    "start_time": "2022-04-18T11:22:35.530Z"
   },
   {
    "duration": 500,
    "start_time": "2022-04-18T11:22:35.782Z"
   },
   {
    "duration": 553,
    "start_time": "2022-04-18T11:22:36.285Z"
   },
   {
    "duration": 138,
    "start_time": "2022-04-18T11:22:36.840Z"
   },
   {
    "duration": 160,
    "start_time": "2022-04-18T11:22:36.979Z"
   },
   {
    "duration": 140,
    "start_time": "2022-04-18T11:22:37.141Z"
   },
   {
    "duration": 174,
    "start_time": "2022-04-18T11:22:37.282Z"
   },
   {
    "duration": 134,
    "start_time": "2022-04-18T11:22:37.458Z"
   },
   {
    "duration": 148,
    "start_time": "2022-04-18T11:22:37.594Z"
   },
   {
    "duration": 144,
    "start_time": "2022-04-18T11:22:37.743Z"
   },
   {
    "duration": 21,
    "start_time": "2022-04-18T11:22:37.899Z"
   },
   {
    "duration": 147,
    "start_time": "2022-04-18T11:22:37.922Z"
   },
   {
    "duration": 9,
    "start_time": "2022-04-18T11:22:38.071Z"
   },
   {
    "duration": 306,
    "start_time": "2022-04-18T11:22:38.081Z"
   },
   {
    "duration": 291,
    "start_time": "2022-04-18T11:22:38.389Z"
   },
   {
    "duration": 196,
    "start_time": "2022-04-18T11:22:38.682Z"
   },
   {
    "duration": 245,
    "start_time": "2022-04-18T11:22:38.879Z"
   },
   {
    "duration": 136,
    "start_time": "2022-04-18T11:22:39.125Z"
   },
   {
    "duration": 145,
    "start_time": "2022-04-18T11:22:39.262Z"
   },
   {
    "duration": 136,
    "start_time": "2022-04-18T11:22:39.409Z"
   },
   {
    "duration": 139,
    "start_time": "2022-04-18T11:22:39.547Z"
   },
   {
    "duration": 30,
    "start_time": "2022-04-18T11:22:39.687Z"
   },
   {
    "duration": 224,
    "start_time": "2022-04-18T11:22:39.719Z"
   },
   {
    "duration": 14,
    "start_time": "2022-04-18T11:40:52.958Z"
   },
   {
    "duration": 7,
    "start_time": "2022-04-18T11:42:08.653Z"
   },
   {
    "duration": 82,
    "start_time": "2022-04-18T11:44:08.778Z"
   },
   {
    "duration": 73,
    "start_time": "2022-04-18T12:05:45.113Z"
   },
   {
    "duration": 432,
    "start_time": "2022-04-18T12:05:52.797Z"
   },
   {
    "duration": 121,
    "start_time": "2022-04-18T12:05:55.424Z"
   },
   {
    "duration": 10,
    "start_time": "2022-04-18T12:07:43.955Z"
   },
   {
    "duration": 79,
    "start_time": "2022-04-18T12:08:53.441Z"
   },
   {
    "duration": 3,
    "start_time": "2022-04-18T12:10:40.499Z"
   },
   {
    "duration": 679,
    "start_time": "2022-04-18T12:10:51.993Z"
   },
   {
    "duration": 4,
    "start_time": "2022-04-18T12:11:50.468Z"
   },
   {
    "duration": 654,
    "start_time": "2022-04-18T12:11:52.018Z"
   },
   {
    "duration": 436,
    "start_time": "2022-04-18T12:15:37.078Z"
   },
   {
    "duration": 111,
    "start_time": "2022-04-18T12:15:37.516Z"
   },
   {
    "duration": 2,
    "start_time": "2022-04-18T12:15:37.629Z"
   },
   {
    "duration": 663,
    "start_time": "2022-04-18T12:15:37.633Z"
   },
   {
    "duration": 10,
    "start_time": "2022-04-18T12:15:38.298Z"
   },
   {
    "duration": 4,
    "start_time": "2022-04-18T12:15:38.310Z"
   },
   {
    "duration": 9,
    "start_time": "2022-04-18T12:15:38.316Z"
   },
   {
    "duration": 608,
    "start_time": "2022-04-18T12:15:38.327Z"
   },
   {
    "duration": 6,
    "start_time": "2022-04-18T12:15:38.937Z"
   },
   {
    "duration": 8,
    "start_time": "2022-04-18T12:15:38.946Z"
   },
   {
    "duration": 363,
    "start_time": "2022-04-18T12:15:38.955Z"
   },
   {
    "duration": 305,
    "start_time": "2022-04-18T12:15:39.320Z"
   },
   {
    "duration": 322,
    "start_time": "2022-04-18T12:15:39.626Z"
   },
   {
    "duration": 316,
    "start_time": "2022-04-18T12:15:39.949Z"
   },
   {
    "duration": 310,
    "start_time": "2022-04-18T12:15:40.266Z"
   },
   {
    "duration": 664,
    "start_time": "2022-04-18T12:15:40.578Z"
   },
   {
    "duration": 585,
    "start_time": "2022-04-18T12:15:41.244Z"
   },
   {
    "duration": 160,
    "start_time": "2022-04-18T12:15:41.831Z"
   },
   {
    "duration": 177,
    "start_time": "2022-04-18T12:15:41.993Z"
   },
   {
    "duration": 169,
    "start_time": "2022-04-18T12:15:42.172Z"
   },
   {
    "duration": 194,
    "start_time": "2022-04-18T12:15:42.342Z"
   },
   {
    "duration": 158,
    "start_time": "2022-04-18T12:15:42.537Z"
   },
   {
    "duration": 179,
    "start_time": "2022-04-18T12:15:42.697Z"
   },
   {
    "duration": 167,
    "start_time": "2022-04-18T12:15:42.877Z"
   },
   {
    "duration": 24,
    "start_time": "2022-04-18T12:15:43.045Z"
   },
   {
    "duration": 251,
    "start_time": "2022-04-18T12:15:43.071Z"
   },
   {
    "duration": 9,
    "start_time": "2022-04-18T12:15:43.323Z"
   },
   {
    "duration": 299,
    "start_time": "2022-04-18T12:15:43.336Z"
   },
   {
    "duration": 308,
    "start_time": "2022-04-18T12:15:43.637Z"
   },
   {
    "duration": 212,
    "start_time": "2022-04-18T12:15:43.947Z"
   },
   {
    "duration": 302,
    "start_time": "2022-04-18T12:15:44.161Z"
   },
   {
    "duration": 165,
    "start_time": "2022-04-18T12:15:44.465Z"
   },
   {
    "duration": 161,
    "start_time": "2022-04-18T12:15:44.632Z"
   },
   {
    "duration": 165,
    "start_time": "2022-04-18T12:15:44.807Z"
   },
   {
    "duration": 253,
    "start_time": "2022-04-18T12:15:44.974Z"
   },
   {
    "duration": 29,
    "start_time": "2022-04-18T12:15:45.229Z"
   },
   {
    "duration": 214,
    "start_time": "2022-04-18T12:15:45.259Z"
   },
   {
    "duration": 3,
    "start_time": "2022-04-18T12:22:22.110Z"
   },
   {
    "duration": 93,
    "start_time": "2022-04-18T12:22:24.588Z"
   },
   {
    "duration": 3,
    "start_time": "2022-04-18T12:22:36.047Z"
   },
   {
    "duration": 2,
    "start_time": "2022-04-18T12:22:42.355Z"
   },
   {
    "duration": 18,
    "start_time": "2022-04-18T12:22:44.571Z"
   },
   {
    "duration": 3,
    "start_time": "2022-04-18T12:23:03.999Z"
   },
   {
    "duration": 26,
    "start_time": "2022-04-18T12:23:06.513Z"
   },
   {
    "duration": 3,
    "start_time": "2022-04-18T12:23:46.093Z"
   },
   {
    "duration": 229,
    "start_time": "2022-04-18T12:23:47.343Z"
   },
   {
    "duration": 69,
    "start_time": "2022-04-18T12:24:22.296Z"
   },
   {
    "duration": 3,
    "start_time": "2022-04-18T12:24:27.750Z"
   },
   {
    "duration": 2,
    "start_time": "2022-04-18T12:24:46.565Z"
   },
   {
    "duration": 70,
    "start_time": "2022-04-18T12:24:46.856Z"
   },
   {
    "duration": 3,
    "start_time": "2022-04-18T12:24:47.117Z"
   },
   {
    "duration": 195,
    "start_time": "2022-04-18T12:24:47.500Z"
   },
   {
    "duration": 3,
    "start_time": "2022-04-18T12:26:28.835Z"
   },
   {
    "duration": 224,
    "start_time": "2022-04-18T12:26:30.699Z"
   },
   {
    "duration": 4,
    "start_time": "2022-04-18T12:27:03.424Z"
   },
   {
    "duration": 220,
    "start_time": "2022-04-18T12:27:05.797Z"
   },
   {
    "duration": 3,
    "start_time": "2022-04-18T12:27:28.531Z"
   },
   {
    "duration": 196,
    "start_time": "2022-04-18T12:27:29.761Z"
   },
   {
    "duration": 3,
    "start_time": "2022-04-18T12:27:42.990Z"
   },
   {
    "duration": 185,
    "start_time": "2022-04-18T12:27:44.108Z"
   },
   {
    "duration": 4,
    "start_time": "2022-04-18T12:28:53.034Z"
   },
   {
    "duration": 202,
    "start_time": "2022-04-18T12:28:53.615Z"
   },
   {
    "duration": 5,
    "start_time": "2022-04-18T12:30:27.322Z"
   },
   {
    "duration": 205,
    "start_time": "2022-04-18T12:30:29.130Z"
   },
   {
    "duration": 5,
    "start_time": "2022-04-18T12:35:09.496Z"
   },
   {
    "duration": 207,
    "start_time": "2022-04-18T12:35:10.481Z"
   },
   {
    "duration": 4,
    "start_time": "2022-04-18T12:35:47.104Z"
   },
   {
    "duration": 203,
    "start_time": "2022-04-18T12:35:48.889Z"
   },
   {
    "duration": 412,
    "start_time": "2022-04-18T12:36:10.179Z"
   },
   {
    "duration": 74,
    "start_time": "2022-04-18T12:36:10.593Z"
   },
   {
    "duration": 5,
    "start_time": "2022-04-18T12:36:10.668Z"
   },
   {
    "duration": 233,
    "start_time": "2022-04-18T12:36:10.675Z"
   },
   {
    "duration": 4,
    "start_time": "2022-04-18T12:36:10.910Z"
   },
   {
    "duration": 5,
    "start_time": "2022-04-18T12:36:10.915Z"
   },
   {
    "duration": 11,
    "start_time": "2022-04-18T12:36:10.921Z"
   },
   {
    "duration": 3,
    "start_time": "2022-04-18T12:36:10.934Z"
   },
   {
    "duration": 463,
    "start_time": "2022-04-18T12:36:10.938Z"
   },
   {
    "duration": 6,
    "start_time": "2022-04-18T12:36:11.406Z"
   },
   {
    "duration": 11,
    "start_time": "2022-04-18T12:36:11.414Z"
   },
   {
    "duration": 305,
    "start_time": "2022-04-18T12:36:11.427Z"
   },
   {
    "duration": 329,
    "start_time": "2022-04-18T12:36:11.733Z"
   },
   {
    "duration": 312,
    "start_time": "2022-04-18T12:36:12.064Z"
   },
   {
    "duration": 309,
    "start_time": "2022-04-18T12:36:12.378Z"
   },
   {
    "duration": 291,
    "start_time": "2022-04-18T12:36:12.688Z"
   },
   {
    "duration": 594,
    "start_time": "2022-04-18T12:36:12.980Z"
   },
   {
    "duration": 662,
    "start_time": "2022-04-18T12:36:13.576Z"
   },
   {
    "duration": 157,
    "start_time": "2022-04-18T12:36:14.239Z"
   },
   {
    "duration": 170,
    "start_time": "2022-04-18T12:36:14.398Z"
   },
   {
    "duration": 163,
    "start_time": "2022-04-18T12:36:14.569Z"
   },
   {
    "duration": 198,
    "start_time": "2022-04-18T12:36:14.734Z"
   },
   {
    "duration": 159,
    "start_time": "2022-04-18T12:36:14.934Z"
   },
   {
    "duration": 168,
    "start_time": "2022-04-18T12:36:15.094Z"
   },
   {
    "duration": 163,
    "start_time": "2022-04-18T12:36:15.264Z"
   },
   {
    "duration": 23,
    "start_time": "2022-04-18T12:36:15.429Z"
   },
   {
    "duration": 170,
    "start_time": "2022-04-18T12:36:15.453Z"
   },
   {
    "duration": 8,
    "start_time": "2022-04-18T12:36:15.627Z"
   },
   {
    "duration": 357,
    "start_time": "2022-04-18T12:36:15.637Z"
   },
   {
    "duration": 286,
    "start_time": "2022-04-18T12:36:15.995Z"
   },
   {
    "duration": 203,
    "start_time": "2022-04-18T12:36:16.283Z"
   },
   {
    "duration": 281,
    "start_time": "2022-04-18T12:36:16.488Z"
   },
   {
    "duration": 158,
    "start_time": "2022-04-18T12:36:16.771Z"
   },
   {
    "duration": 166,
    "start_time": "2022-04-18T12:36:16.931Z"
   },
   {
    "duration": 161,
    "start_time": "2022-04-18T12:36:17.099Z"
   },
   {
    "duration": 166,
    "start_time": "2022-04-18T12:36:17.262Z"
   },
   {
    "duration": 26,
    "start_time": "2022-04-18T12:36:17.430Z"
   },
   {
    "duration": 257,
    "start_time": "2022-04-18T12:36:17.458Z"
   },
   {
    "duration": 5,
    "start_time": "2022-04-18T12:36:53.467Z"
   },
   {
    "duration": 186,
    "start_time": "2022-04-18T12:36:54.261Z"
   },
   {
    "duration": 64,
    "start_time": "2022-04-18T12:44:42.389Z"
   },
   {
    "duration": 74,
    "start_time": "2022-04-18T12:44:47.668Z"
   },
   {
    "duration": 11,
    "start_time": "2022-04-18T12:44:59.081Z"
   },
   {
    "duration": 10,
    "start_time": "2022-04-18T12:47:40.914Z"
   },
   {
    "duration": 17,
    "start_time": "2022-04-18T12:48:27.782Z"
   },
   {
    "duration": 16,
    "start_time": "2022-04-18T12:48:49.239Z"
   },
   {
    "duration": 46,
    "start_time": "2022-04-18T12:49:37.617Z"
   },
   {
    "duration": 5,
    "start_time": "2022-04-18T12:49:55.457Z"
   },
   {
    "duration": 16,
    "start_time": "2022-04-18T12:50:08.796Z"
   },
   {
    "duration": 7,
    "start_time": "2022-04-18T13:01:56.816Z"
   },
   {
    "duration": 302,
    "start_time": "2022-04-18T13:02:14.588Z"
   },
   {
    "duration": 7,
    "start_time": "2022-04-18T13:02:26.469Z"
   },
   {
    "duration": 8,
    "start_time": "2022-04-18T13:03:50.890Z"
   },
   {
    "duration": 250,
    "start_time": "2022-04-18T13:03:52.178Z"
   },
   {
    "duration": 4,
    "start_time": "2022-04-18T13:04:09.196Z"
   },
   {
    "duration": 5,
    "start_time": "2022-04-18T13:04:09.961Z"
   },
   {
    "duration": 19,
    "start_time": "2022-04-18T13:04:11.540Z"
   },
   {
    "duration": 443,
    "start_time": "2022-04-18T13:04:23.112Z"
   },
   {
    "duration": 81,
    "start_time": "2022-04-18T13:04:23.557Z"
   },
   {
    "duration": 5,
    "start_time": "2022-04-18T13:04:23.640Z"
   },
   {
    "duration": 268,
    "start_time": "2022-04-18T13:04:23.648Z"
   },
   {
    "duration": 10,
    "start_time": "2022-04-18T13:04:23.918Z"
   },
   {
    "duration": 6,
    "start_time": "2022-04-18T13:04:23.929Z"
   },
   {
    "duration": 12,
    "start_time": "2022-04-18T13:04:23.937Z"
   },
   {
    "duration": 12,
    "start_time": "2022-04-18T13:04:23.950Z"
   },
   {
    "duration": 43,
    "start_time": "2022-04-18T13:04:23.964Z"
   },
   {
    "duration": 468,
    "start_time": "2022-04-18T13:04:24.010Z"
   },
   {
    "duration": 7,
    "start_time": "2022-04-18T13:04:24.480Z"
   },
   {
    "duration": 22,
    "start_time": "2022-04-18T13:04:24.489Z"
   },
   {
    "duration": 312,
    "start_time": "2022-04-18T13:04:24.512Z"
   },
   {
    "duration": 353,
    "start_time": "2022-04-18T13:04:24.826Z"
   },
   {
    "duration": 331,
    "start_time": "2022-04-18T13:04:25.181Z"
   },
   {
    "duration": 331,
    "start_time": "2022-04-18T13:04:25.514Z"
   },
   {
    "duration": 316,
    "start_time": "2022-04-18T13:04:25.847Z"
   },
   {
    "duration": 666,
    "start_time": "2022-04-18T13:04:26.165Z"
   },
   {
    "duration": 697,
    "start_time": "2022-04-18T13:04:26.833Z"
   },
   {
    "duration": 175,
    "start_time": "2022-04-18T13:04:27.532Z"
   },
   {
    "duration": 182,
    "start_time": "2022-04-18T13:04:27.708Z"
   },
   {
    "duration": 179,
    "start_time": "2022-04-18T13:04:27.892Z"
   },
   {
    "duration": 221,
    "start_time": "2022-04-18T13:04:28.073Z"
   },
   {
    "duration": 203,
    "start_time": "2022-04-18T13:04:28.296Z"
   },
   {
    "duration": 183,
    "start_time": "2022-04-18T13:04:28.501Z"
   },
   {
    "duration": 189,
    "start_time": "2022-04-18T13:04:28.686Z"
   },
   {
    "duration": 37,
    "start_time": "2022-04-18T13:04:28.877Z"
   },
   {
    "duration": 184,
    "start_time": "2022-04-18T13:04:28.917Z"
   },
   {
    "duration": 9,
    "start_time": "2022-04-18T13:04:29.107Z"
   },
   {
    "duration": 400,
    "start_time": "2022-04-18T13:04:29.117Z"
   },
   {
    "duration": 318,
    "start_time": "2022-04-18T13:04:29.519Z"
   },
   {
    "duration": 234,
    "start_time": "2022-04-18T13:04:29.839Z"
   },
   {
    "duration": 309,
    "start_time": "2022-04-18T13:04:30.074Z"
   },
   {
    "duration": 172,
    "start_time": "2022-04-18T13:04:30.384Z"
   },
   {
    "duration": 180,
    "start_time": "2022-04-18T13:04:30.558Z"
   },
   {
    "duration": 174,
    "start_time": "2022-04-18T13:04:30.739Z"
   },
   {
    "duration": 177,
    "start_time": "2022-04-18T13:04:30.915Z"
   },
   {
    "duration": 32,
    "start_time": "2022-04-18T13:04:31.094Z"
   },
   {
    "duration": 269,
    "start_time": "2022-04-18T13:04:31.129Z"
   },
   {
    "duration": 85,
    "start_time": "2022-04-18T13:06:20.834Z"
   },
   {
    "duration": 15,
    "start_time": "2022-04-18T13:06:27.547Z"
   },
   {
    "duration": 483,
    "start_time": "2022-04-18T13:11:00.645Z"
   },
   {
    "duration": 263,
    "start_time": "2022-04-18T13:14:39.534Z"
   },
   {
    "duration": 12,
    "start_time": "2022-04-18T13:15:36.830Z"
   },
   {
    "duration": 11,
    "start_time": "2022-04-18T13:15:43.471Z"
   },
   {
    "duration": 16,
    "start_time": "2022-04-18T13:16:15.498Z"
   },
   {
    "duration": 59,
    "start_time": "2022-04-18T13:16:21.905Z"
   },
   {
    "duration": 57,
    "start_time": "2022-04-18T13:16:29.856Z"
   },
   {
    "duration": 130,
    "start_time": "2022-04-18T13:16:34.885Z"
   },
   {
    "duration": 53,
    "start_time": "2022-04-18T13:16:37.366Z"
   },
   {
    "duration": 57,
    "start_time": "2022-04-18T13:16:48.608Z"
   },
   {
    "duration": 51,
    "start_time": "2022-04-18T13:16:54.237Z"
   },
   {
    "duration": 50,
    "start_time": "2022-04-18T13:17:16.203Z"
   },
   {
    "duration": 47,
    "start_time": "2022-04-18T13:17:22.012Z"
   },
   {
    "duration": 244,
    "start_time": "2022-04-18T13:17:33.924Z"
   },
   {
    "duration": 278,
    "start_time": "2022-04-18T13:17:37.004Z"
   },
   {
    "duration": 3,
    "start_time": "2022-04-18T13:18:04.729Z"
   },
   {
    "duration": 271,
    "start_time": "2022-04-18T13:18:15.472Z"
   },
   {
    "duration": 57,
    "start_time": "2022-04-18T13:18:39.248Z"
   },
   {
    "duration": 147,
    "start_time": "2022-04-18T13:18:48.205Z"
   },
   {
    "duration": 52,
    "start_time": "2022-04-18T13:18:51.292Z"
   },
   {
    "duration": 50,
    "start_time": "2022-04-18T13:18:53.358Z"
   },
   {
    "duration": 52,
    "start_time": "2022-04-18T13:19:01.231Z"
   },
   {
    "duration": 228,
    "start_time": "2022-04-18T13:19:21.986Z"
   },
   {
    "duration": 240,
    "start_time": "2022-04-18T13:19:33.591Z"
   },
   {
    "duration": 225,
    "start_time": "2022-04-18T13:19:47.090Z"
   },
   {
    "duration": 227,
    "start_time": "2022-04-18T13:19:55.022Z"
   },
   {
    "duration": 422,
    "start_time": "2022-04-18T13:21:38.977Z"
   },
   {
    "duration": 242,
    "start_time": "2022-04-18T13:21:53.940Z"
   },
   {
    "duration": 230,
    "start_time": "2022-04-18T13:22:01.380Z"
   },
   {
    "duration": 227,
    "start_time": "2022-04-18T13:22:05.445Z"
   },
   {
    "duration": 244,
    "start_time": "2022-04-18T13:22:11.704Z"
   },
   {
    "duration": 399,
    "start_time": "2022-04-18T13:22:31.425Z"
   },
   {
    "duration": 246,
    "start_time": "2022-04-18T13:22:34.420Z"
   },
   {
    "duration": 254,
    "start_time": "2022-04-18T13:22:36.676Z"
   },
   {
    "duration": 252,
    "start_time": "2022-04-18T13:22:39.995Z"
   },
   {
    "duration": 233,
    "start_time": "2022-04-18T13:22:49.232Z"
   },
   {
    "duration": 241,
    "start_time": "2022-04-18T13:22:52.388Z"
   },
   {
    "duration": 379,
    "start_time": "2022-04-18T13:23:19.543Z"
   },
   {
    "duration": 236,
    "start_time": "2022-04-18T13:23:25.772Z"
   },
   {
    "duration": 250,
    "start_time": "2022-04-18T13:23:29.076Z"
   },
   {
    "duration": 237,
    "start_time": "2022-04-18T13:23:36.399Z"
   },
   {
    "duration": 234,
    "start_time": "2022-04-18T13:24:39.639Z"
   },
   {
    "duration": 372,
    "start_time": "2022-04-18T13:24:44.267Z"
   },
   {
    "duration": 186,
    "start_time": "2022-04-18T13:24:58.735Z"
   },
   {
    "duration": 264,
    "start_time": "2022-04-18T13:25:09.854Z"
   },
   {
    "duration": 269,
    "start_time": "2022-04-18T13:25:13.722Z"
   },
   {
    "duration": 265,
    "start_time": "2022-04-18T13:25:17.514Z"
   },
   {
    "duration": 4,
    "start_time": "2022-04-18T13:25:21.466Z"
   },
   {
    "duration": 241,
    "start_time": "2022-04-18T13:25:24.357Z"
   },
   {
    "duration": 490,
    "start_time": "2022-04-18T13:25:29.405Z"
   },
   {
    "duration": 232,
    "start_time": "2022-04-18T13:25:50.097Z"
   },
   {
    "duration": 170,
    "start_time": "2022-04-18T13:27:26.171Z"
   },
   {
    "duration": 271,
    "start_time": "2022-04-18T13:27:30.591Z"
   },
   {
    "duration": 279,
    "start_time": "2022-04-18T13:27:56.971Z"
   },
   {
    "duration": 146,
    "start_time": "2022-04-18T13:28:01.292Z"
   },
   {
    "duration": 252,
    "start_time": "2022-04-18T13:28:06.259Z"
   },
   {
    "duration": 382,
    "start_time": "2022-04-18T13:28:22.831Z"
   },
   {
    "duration": 244,
    "start_time": "2022-04-18T13:28:44.577Z"
   },
   {
    "duration": 271,
    "start_time": "2022-04-18T13:28:53.692Z"
   },
   {
    "duration": 261,
    "start_time": "2022-04-18T13:29:16.442Z"
   },
   {
    "duration": 154,
    "start_time": "2022-04-18T13:29:20.982Z"
   },
   {
    "duration": 160,
    "start_time": "2022-04-18T13:29:24.990Z"
   },
   {
    "duration": 242,
    "start_time": "2022-04-18T13:29:51.294Z"
   },
   {
    "duration": 366,
    "start_time": "2022-04-18T13:30:00.848Z"
   },
   {
    "duration": 280,
    "start_time": "2022-04-18T13:30:04.717Z"
   },
   {
    "duration": 275,
    "start_time": "2022-04-18T13:30:07.318Z"
   },
   {
    "duration": 147,
    "start_time": "2022-04-18T13:30:10.141Z"
   },
   {
    "duration": 1509,
    "start_time": "2022-04-18T13:30:14.025Z"
   },
   {
    "duration": 265,
    "start_time": "2022-04-18T13:31:05.515Z"
   },
   {
    "duration": 420,
    "start_time": "2022-04-18T13:32:14.819Z"
   },
   {
    "duration": 297,
    "start_time": "2022-04-18T13:33:28.455Z"
   },
   {
    "duration": 99,
    "start_time": "2022-04-18T13:33:37.054Z"
   },
   {
    "duration": 66,
    "start_time": "2022-04-18T13:33:38.537Z"
   },
   {
    "duration": 258,
    "start_time": "2022-04-18T13:34:08.033Z"
   },
   {
    "duration": 9,
    "start_time": "2022-04-18T13:34:25.221Z"
   },
   {
    "duration": 267,
    "start_time": "2022-04-18T13:34:41.337Z"
   },
   {
    "duration": 239,
    "start_time": "2022-04-18T13:34:59.532Z"
   },
   {
    "duration": 253,
    "start_time": "2022-04-18T13:35:05.692Z"
   },
   {
    "duration": 373,
    "start_time": "2022-04-18T13:35:19.256Z"
   },
   {
    "duration": 278,
    "start_time": "2022-04-18T13:35:21.603Z"
   },
   {
    "duration": 295,
    "start_time": "2022-04-18T13:36:30.155Z"
   },
   {
    "duration": 260,
    "start_time": "2022-04-18T13:36:34.277Z"
   },
   {
    "duration": 281,
    "start_time": "2022-04-18T13:39:06.420Z"
   },
   {
    "duration": 376,
    "start_time": "2022-04-18T13:39:14.883Z"
   },
   {
    "duration": 257,
    "start_time": "2022-04-18T13:41:07.381Z"
   },
   {
    "duration": 241,
    "start_time": "2022-04-18T13:41:30.871Z"
   },
   {
    "duration": 236,
    "start_time": "2022-04-18T13:41:40.563Z"
   },
   {
    "duration": 252,
    "start_time": "2022-04-18T13:41:46.786Z"
   },
   {
    "duration": 269,
    "start_time": "2022-04-18T13:41:51.371Z"
   },
   {
    "duration": 348,
    "start_time": "2022-04-18T13:42:20.249Z"
   },
   {
    "duration": 251,
    "start_time": "2022-04-18T13:42:22.873Z"
   },
   {
    "duration": 266,
    "start_time": "2022-04-18T13:42:29.971Z"
   },
   {
    "duration": 291,
    "start_time": "2022-04-18T13:42:39.765Z"
   },
   {
    "duration": 237,
    "start_time": "2022-04-18T13:42:46.557Z"
   },
   {
    "duration": 323,
    "start_time": "2022-04-18T13:42:50.629Z"
   },
   {
    "duration": 234,
    "start_time": "2022-04-18T13:42:59.364Z"
   },
   {
    "duration": 232,
    "start_time": "2022-04-18T13:43:05.737Z"
   },
   {
    "duration": 236,
    "start_time": "2022-04-18T13:43:17.858Z"
   },
   {
    "duration": 7,
    "start_time": "2022-04-18T13:44:01.143Z"
   },
   {
    "duration": 300,
    "start_time": "2022-04-18T13:44:10.690Z"
   },
   {
    "duration": 8,
    "start_time": "2022-04-18T13:44:24.503Z"
   },
   {
    "duration": 195,
    "start_time": "2022-04-18T13:44:30.256Z"
   },
   {
    "duration": 187,
    "start_time": "2022-04-18T13:48:07.789Z"
   },
   {
    "duration": 65,
    "start_time": "2022-04-18T13:48:43.752Z"
   },
   {
    "duration": 75,
    "start_time": "2022-04-18T13:48:51.420Z"
   },
   {
    "duration": 252,
    "start_time": "2022-04-18T13:48:56.092Z"
   },
   {
    "duration": 159,
    "start_time": "2022-04-18T13:49:12.186Z"
   },
   {
    "duration": 119,
    "start_time": "2022-04-18T13:49:40.803Z"
   },
   {
    "duration": 154,
    "start_time": "2022-04-18T13:49:53.987Z"
   },
   {
    "duration": 162,
    "start_time": "2022-04-18T13:50:16.031Z"
   },
   {
    "duration": 257,
    "start_time": "2022-04-18T13:57:38.925Z"
   },
   {
    "duration": 269,
    "start_time": "2022-04-18T13:58:18.241Z"
   },
   {
    "duration": 183,
    "start_time": "2022-04-18T13:58:34.008Z"
   },
   {
    "duration": 684,
    "start_time": "2022-04-18T13:58:48.506Z"
   },
   {
    "duration": 95,
    "start_time": "2022-04-18T13:58:49.192Z"
   },
   {
    "duration": 4,
    "start_time": "2022-04-18T13:58:49.289Z"
   },
   {
    "duration": 274,
    "start_time": "2022-04-18T13:58:49.296Z"
   },
   {
    "duration": 8,
    "start_time": "2022-04-18T13:58:49.572Z"
   },
   {
    "duration": 32,
    "start_time": "2022-04-18T13:58:49.582Z"
   },
   {
    "duration": 4,
    "start_time": "2022-04-18T13:58:49.616Z"
   },
   {
    "duration": 12,
    "start_time": "2022-04-18T13:58:49.621Z"
   },
   {
    "duration": 5,
    "start_time": "2022-04-18T13:58:49.635Z"
   },
   {
    "duration": 266,
    "start_time": "2022-04-18T13:58:49.644Z"
   },
   {
    "duration": 8,
    "start_time": "2022-04-18T13:58:49.913Z"
   },
   {
    "duration": 11,
    "start_time": "2022-04-18T13:58:49.923Z"
   },
   {
    "duration": 15,
    "start_time": "2022-04-18T13:58:49.936Z"
   },
   {
    "duration": 334,
    "start_time": "2022-04-18T13:58:49.953Z"
   },
   {
    "duration": 307,
    "start_time": "2022-04-18T13:58:50.288Z"
   },
   {
    "duration": 258,
    "start_time": "2022-04-18T13:58:50.597Z"
   },
   {
    "duration": 184,
    "start_time": "2022-04-18T13:58:50.857Z"
   },
   {
    "duration": 306,
    "start_time": "2022-04-18T13:58:51.043Z"
   },
   {
    "duration": 649,
    "start_time": "2022-04-18T13:58:51.351Z"
   },
   {
    "duration": 687,
    "start_time": "2022-04-18T13:58:52.007Z"
   },
   {
    "duration": 176,
    "start_time": "2022-04-18T13:58:52.696Z"
   },
   {
    "duration": 184,
    "start_time": "2022-04-18T13:58:52.874Z"
   },
   {
    "duration": 177,
    "start_time": "2022-04-18T13:58:53.059Z"
   },
   {
    "duration": 202,
    "start_time": "2022-04-18T13:58:53.237Z"
   },
   {
    "duration": 206,
    "start_time": "2022-04-18T13:58:53.441Z"
   },
   {
    "duration": 184,
    "start_time": "2022-04-18T13:58:53.649Z"
   },
   {
    "duration": 186,
    "start_time": "2022-04-18T13:58:53.836Z"
   },
   {
    "duration": 25,
    "start_time": "2022-04-18T13:58:54.026Z"
   },
   {
    "duration": 194,
    "start_time": "2022-04-18T13:58:54.052Z"
   },
   {
    "duration": 9,
    "start_time": "2022-04-18T13:58:54.248Z"
   },
   {
    "duration": 461,
    "start_time": "2022-04-18T13:58:54.258Z"
   },
   {
    "duration": 320,
    "start_time": "2022-04-18T13:58:54.723Z"
   },
   {
    "duration": 215,
    "start_time": "2022-04-18T13:58:55.045Z"
   },
   {
    "duration": 309,
    "start_time": "2022-04-18T13:58:55.262Z"
   },
   {
    "duration": 187,
    "start_time": "2022-04-18T13:58:55.573Z"
   },
   {
    "duration": 185,
    "start_time": "2022-04-18T13:58:55.762Z"
   },
   {
    "duration": 173,
    "start_time": "2022-04-18T13:58:55.949Z"
   },
   {
    "duration": 183,
    "start_time": "2022-04-18T13:58:56.124Z"
   },
   {
    "duration": 29,
    "start_time": "2022-04-18T13:58:56.309Z"
   },
   {
    "duration": 206,
    "start_time": "2022-04-18T13:58:56.340Z"
   },
   {
    "duration": 252,
    "start_time": "2022-04-18T14:00:05.659Z"
   },
   {
    "duration": 145,
    "start_time": "2022-04-18T14:00:25.156Z"
   },
   {
    "duration": 282,
    "start_time": "2022-04-18T14:00:30.962Z"
   },
   {
    "duration": 247,
    "start_time": "2022-04-18T14:00:45.322Z"
   },
   {
    "duration": 322,
    "start_time": "2022-04-18T14:01:06.650Z"
   },
   {
    "duration": 633,
    "start_time": "2022-04-18T14:01:19.762Z"
   },
   {
    "duration": 722,
    "start_time": "2022-04-18T14:01:45.443Z"
   },
   {
    "duration": 635,
    "start_time": "2022-04-18T14:01:53.821Z"
   },
   {
    "duration": 519,
    "start_time": "2022-04-18T14:02:38.432Z"
   },
   {
    "duration": 722,
    "start_time": "2022-04-18T14:02:58.605Z"
   },
   {
    "duration": 533,
    "start_time": "2022-04-18T14:03:06.741Z"
   },
   {
    "duration": 588,
    "start_time": "2022-04-18T14:04:31.353Z"
   },
   {
    "duration": 539,
    "start_time": "2022-04-18T14:04:36.520Z"
   },
   {
    "duration": 757,
    "start_time": "2022-04-18T14:05:21.634Z"
   },
   {
    "duration": 169,
    "start_time": "2022-04-18T14:08:26.677Z"
   },
   {
    "duration": 153,
    "start_time": "2022-04-18T14:08:52.061Z"
   },
   {
    "duration": 140,
    "start_time": "2022-04-18T14:08:58.256Z"
   },
   {
    "duration": 179,
    "start_time": "2022-04-18T14:09:09.341Z"
   },
   {
    "duration": 66,
    "start_time": "2022-04-18T14:09:24.137Z"
   },
   {
    "duration": 170,
    "start_time": "2022-04-18T14:09:31.081Z"
   },
   {
    "duration": 239,
    "start_time": "2022-04-18T14:10:13.373Z"
   },
   {
    "duration": 32,
    "start_time": "2022-04-18T14:10:17.634Z"
   },
   {
    "duration": 170,
    "start_time": "2022-04-18T14:10:31.767Z"
   },
   {
    "duration": 183,
    "start_time": "2022-04-18T14:11:14.632Z"
   },
   {
    "duration": 235,
    "start_time": "2022-04-18T14:11:34.779Z"
   },
   {
    "duration": 176,
    "start_time": "2022-04-18T14:12:43.578Z"
   },
   {
    "duration": 171,
    "start_time": "2022-04-18T14:13:22.610Z"
   },
   {
    "duration": 161,
    "start_time": "2022-04-18T14:13:35.385Z"
   },
   {
    "duration": 688,
    "start_time": "2022-04-18T14:17:43.117Z"
   },
   {
    "duration": 93,
    "start_time": "2022-04-18T14:17:43.808Z"
   },
   {
    "duration": 4,
    "start_time": "2022-04-18T14:17:43.903Z"
   },
   {
    "duration": 255,
    "start_time": "2022-04-18T14:17:43.909Z"
   },
   {
    "duration": 9,
    "start_time": "2022-04-18T14:17:44.166Z"
   },
   {
    "duration": 4,
    "start_time": "2022-04-18T14:17:44.176Z"
   },
   {
    "duration": 30,
    "start_time": "2022-04-18T14:17:44.182Z"
   },
   {
    "duration": 16,
    "start_time": "2022-04-18T14:17:44.214Z"
   },
   {
    "duration": 5,
    "start_time": "2022-04-18T14:17:44.232Z"
   },
   {
    "duration": 285,
    "start_time": "2022-04-18T14:17:44.240Z"
   },
   {
    "duration": 7,
    "start_time": "2022-04-18T14:17:44.527Z"
   },
   {
    "duration": 10,
    "start_time": "2022-04-18T14:17:44.536Z"
   },
   {
    "duration": 13,
    "start_time": "2022-04-18T14:17:44.548Z"
   },
   {
    "duration": 348,
    "start_time": "2022-04-18T14:17:44.563Z"
   },
   {
    "duration": 333,
    "start_time": "2022-04-18T14:17:44.915Z"
   },
   {
    "duration": 279,
    "start_time": "2022-04-18T14:17:45.250Z"
   },
   {
    "duration": 181,
    "start_time": "2022-04-18T14:17:45.531Z"
   },
   {
    "duration": 668,
    "start_time": "2022-04-18T14:19:46.795Z"
   },
   {
    "duration": 83,
    "start_time": "2022-04-18T14:19:47.465Z"
   },
   {
    "duration": 4,
    "start_time": "2022-04-18T14:19:47.550Z"
   },
   {
    "duration": 273,
    "start_time": "2022-04-18T14:19:47.558Z"
   },
   {
    "duration": 8,
    "start_time": "2022-04-18T14:19:47.833Z"
   },
   {
    "duration": 3,
    "start_time": "2022-04-18T14:19:47.843Z"
   },
   {
    "duration": 4,
    "start_time": "2022-04-18T14:19:47.848Z"
   },
   {
    "duration": 10,
    "start_time": "2022-04-18T14:19:47.854Z"
   },
   {
    "duration": 7,
    "start_time": "2022-04-18T14:19:47.865Z"
   },
   {
    "duration": 242,
    "start_time": "2022-04-18T14:19:47.914Z"
   },
   {
    "duration": 8,
    "start_time": "2022-04-18T14:19:48.158Z"
   },
   {
    "duration": 10,
    "start_time": "2022-04-18T14:19:48.168Z"
   },
   {
    "duration": 39,
    "start_time": "2022-04-18T14:19:48.180Z"
   },
   {
    "duration": 332,
    "start_time": "2022-04-18T14:19:48.221Z"
   },
   {
    "duration": 311,
    "start_time": "2022-04-18T14:19:48.554Z"
   },
   {
    "duration": 283,
    "start_time": "2022-04-18T14:19:48.867Z"
   },
   {
    "duration": 202,
    "start_time": "2022-04-18T14:19:49.151Z"
   },
   {
    "duration": 692,
    "start_time": "2022-04-18T14:22:19.305Z"
   },
   {
    "duration": 95,
    "start_time": "2022-04-18T14:22:19.999Z"
   },
   {
    "duration": 6,
    "start_time": "2022-04-18T14:22:20.096Z"
   },
   {
    "duration": 260,
    "start_time": "2022-04-18T14:22:20.108Z"
   },
   {
    "duration": 10,
    "start_time": "2022-04-18T14:22:20.370Z"
   },
   {
    "duration": 27,
    "start_time": "2022-04-18T14:22:20.382Z"
   },
   {
    "duration": 11,
    "start_time": "2022-04-18T14:22:20.411Z"
   },
   {
    "duration": 12,
    "start_time": "2022-04-18T14:22:20.426Z"
   },
   {
    "duration": 8,
    "start_time": "2022-04-18T14:22:20.440Z"
   },
   {
    "duration": 290,
    "start_time": "2022-04-18T14:22:20.451Z"
   },
   {
    "duration": 6,
    "start_time": "2022-04-18T14:22:20.743Z"
   },
   {
    "duration": 19,
    "start_time": "2022-04-18T14:22:20.752Z"
   },
   {
    "duration": 36,
    "start_time": "2022-04-18T14:22:20.773Z"
   },
   {
    "duration": 343,
    "start_time": "2022-04-18T14:22:20.811Z"
   },
   {
    "duration": 319,
    "start_time": "2022-04-18T14:22:21.156Z"
   },
   {
    "duration": 288,
    "start_time": "2022-04-18T14:22:21.477Z"
   },
   {
    "duration": 191,
    "start_time": "2022-04-18T14:22:21.766Z"
   },
   {
    "duration": 334,
    "start_time": "2022-04-18T14:22:21.959Z"
   },
   {
    "duration": 620,
    "start_time": "2022-04-18T14:22:22.294Z"
   },
   {
    "duration": 764,
    "start_time": "2022-04-18T14:22:22.926Z"
   },
   {
    "duration": 211,
    "start_time": "2022-04-18T14:22:23.691Z"
   },
   {
    "duration": 231,
    "start_time": "2022-04-18T14:22:23.904Z"
   },
   {
    "duration": 195,
    "start_time": "2022-04-18T14:22:24.137Z"
   },
   {
    "duration": 226,
    "start_time": "2022-04-18T14:22:24.334Z"
   },
   {
    "duration": 201,
    "start_time": "2022-04-18T14:22:24.563Z"
   },
   {
    "duration": 196,
    "start_time": "2022-04-18T14:22:24.765Z"
   },
   {
    "duration": 212,
    "start_time": "2022-04-18T14:22:24.962Z"
   },
   {
    "duration": 35,
    "start_time": "2022-04-18T14:22:25.178Z"
   },
   {
    "duration": 184,
    "start_time": "2022-04-18T14:22:25.216Z"
   },
   {
    "duration": 14,
    "start_time": "2022-04-18T14:22:25.402Z"
   },
   {
    "duration": 418,
    "start_time": "2022-04-18T14:22:25.418Z"
   },
   {
    "duration": 339,
    "start_time": "2022-04-18T14:22:25.838Z"
   },
   {
    "duration": 245,
    "start_time": "2022-04-18T14:22:26.180Z"
   },
   {
    "duration": 335,
    "start_time": "2022-04-18T14:22:26.427Z"
   },
   {
    "duration": 202,
    "start_time": "2022-04-18T14:22:26.764Z"
   },
   {
    "duration": 188,
    "start_time": "2022-04-18T14:22:26.968Z"
   },
   {
    "duration": 182,
    "start_time": "2022-04-18T14:22:27.157Z"
   },
   {
    "duration": 194,
    "start_time": "2022-04-18T14:22:27.341Z"
   },
   {
    "duration": 29,
    "start_time": "2022-04-18T14:22:27.538Z"
   },
   {
    "duration": 221,
    "start_time": "2022-04-18T14:22:27.569Z"
   },
   {
    "duration": 722,
    "start_time": "2022-04-18T14:23:03.976Z"
   },
   {
    "duration": 628,
    "start_time": "2022-04-18T14:23:22.736Z"
   },
   {
    "duration": 37,
    "start_time": "2022-04-18T14:24:52.860Z"
   },
   {
    "duration": 535,
    "start_time": "2022-04-18T14:25:24.252Z"
   },
   {
    "duration": 6,
    "start_time": "2022-04-18T14:26:21.123Z"
   },
   {
    "duration": 5,
    "start_time": "2022-04-18T14:26:38.102Z"
   },
   {
    "duration": 5,
    "start_time": "2022-04-18T14:26:47.569Z"
   },
   {
    "duration": 5,
    "start_time": "2022-04-18T14:26:57.438Z"
   },
   {
    "duration": 632,
    "start_time": "2022-04-18T14:28:51.772Z"
   },
   {
    "duration": 529,
    "start_time": "2022-04-18T14:29:10.259Z"
   },
   {
    "duration": 5,
    "start_time": "2022-04-18T14:29:18.676Z"
   },
   {
    "duration": 535,
    "start_time": "2022-04-18T14:29:24.740Z"
   },
   {
    "duration": 4,
    "start_time": "2022-04-18T14:29:27.160Z"
   },
   {
    "duration": 525,
    "start_time": "2022-04-18T14:29:43.924Z"
   },
   {
    "duration": 591,
    "start_time": "2022-04-18T14:32:52.846Z"
   },
   {
    "duration": 4,
    "start_time": "2022-04-18T14:32:57.441Z"
   },
   {
    "duration": 62,
    "start_time": "2022-04-18T14:41:53.657Z"
   },
   {
    "duration": 239,
    "start_time": "2022-04-18T14:42:01.739Z"
   },
   {
    "duration": 529,
    "start_time": "2022-04-18T14:44:13.836Z"
   },
   {
    "duration": 4,
    "start_time": "2022-04-18T14:44:17.059Z"
   },
   {
    "duration": 533,
    "start_time": "2022-04-18T14:44:22.352Z"
   },
   {
    "duration": 583,
    "start_time": "2022-04-18T14:44:31.651Z"
   },
   {
    "duration": 5,
    "start_time": "2022-04-18T14:44:34.307Z"
   },
   {
    "duration": 506,
    "start_time": "2022-04-18T14:44:38.147Z"
   },
   {
    "duration": 3,
    "start_time": "2022-04-18T14:44:41.256Z"
   },
   {
    "duration": 556,
    "start_time": "2022-04-18T14:45:01.111Z"
   },
   {
    "duration": 4,
    "start_time": "2022-04-18T14:45:03.781Z"
   },
   {
    "duration": 485,
    "start_time": "2022-04-18T14:45:14.924Z"
   },
   {
    "duration": 3,
    "start_time": "2022-04-18T14:45:16.750Z"
   },
   {
    "duration": 592,
    "start_time": "2022-04-18T14:45:22.242Z"
   },
   {
    "duration": 4,
    "start_time": "2022-04-18T14:45:23.981Z"
   },
   {
    "duration": 460,
    "start_time": "2022-04-18T14:45:41.634Z"
   },
   {
    "duration": 4,
    "start_time": "2022-04-18T14:45:44.143Z"
   },
   {
    "duration": 458,
    "start_time": "2022-04-18T14:45:52.978Z"
   },
   {
    "duration": 4,
    "start_time": "2022-04-18T14:45:54.289Z"
   },
   {
    "duration": 586,
    "start_time": "2022-04-18T14:46:19.874Z"
   },
   {
    "duration": 476,
    "start_time": "2022-04-18T14:46:25.991Z"
   },
   {
    "duration": 4,
    "start_time": "2022-04-18T14:46:27.668Z"
   },
   {
    "duration": 474,
    "start_time": "2022-04-18T14:46:40.904Z"
   },
   {
    "duration": 4,
    "start_time": "2022-04-18T14:46:46.257Z"
   },
   {
    "duration": 458,
    "start_time": "2022-04-18T14:46:53.096Z"
   },
   {
    "duration": 5,
    "start_time": "2022-04-18T14:46:54.253Z"
   },
   {
    "duration": 584,
    "start_time": "2022-04-18T14:47:45.441Z"
   },
   {
    "duration": 106,
    "start_time": "2022-04-18T14:47:47.535Z"
   },
   {
    "duration": 508,
    "start_time": "2022-04-18T14:48:29.884Z"
   },
   {
    "duration": 5,
    "start_time": "2022-04-18T14:48:32.526Z"
   },
   {
    "duration": 24,
    "start_time": "2022-04-18T14:48:52.151Z"
   },
   {
    "duration": 16,
    "start_time": "2022-04-18T14:48:55.884Z"
   },
   {
    "duration": 11,
    "start_time": "2022-04-18T14:49:02.066Z"
   },
   {
    "duration": 478,
    "start_time": "2022-04-18T14:49:35.936Z"
   },
   {
    "duration": 4,
    "start_time": "2022-04-18T14:49:37.449Z"
   },
   {
    "duration": 9,
    "start_time": "2022-04-18T14:49:38.141Z"
   },
   {
    "duration": 488,
    "start_time": "2022-04-18T14:50:20.975Z"
   },
   {
    "duration": 5,
    "start_time": "2022-04-18T14:50:29.454Z"
   },
   {
    "duration": 641,
    "start_time": "2022-04-18T14:50:39.915Z"
   },
   {
    "duration": 4,
    "start_time": "2022-04-18T14:50:42.454Z"
   },
   {
    "duration": 9,
    "start_time": "2022-04-18T14:50:43.862Z"
   },
   {
    "duration": 493,
    "start_time": "2022-04-18T14:51:12.110Z"
   },
   {
    "duration": 5,
    "start_time": "2022-04-18T14:51:21.774Z"
   },
   {
    "duration": 43,
    "start_time": "2022-04-18T14:53:43.576Z"
   },
   {
    "duration": 481,
    "start_time": "2022-04-18T14:54:01.329Z"
   },
   {
    "duration": 10,
    "start_time": "2022-04-18T15:01:15.770Z"
   },
   {
    "duration": 8,
    "start_time": "2022-04-18T15:01:23.360Z"
   },
   {
    "duration": 7,
    "start_time": "2022-04-18T15:01:32.805Z"
   },
   {
    "duration": 7,
    "start_time": "2022-04-18T15:01:57.255Z"
   },
   {
    "duration": 13,
    "start_time": "2022-04-18T15:02:03.525Z"
   },
   {
    "duration": 6,
    "start_time": "2022-04-18T15:03:08.445Z"
   },
   {
    "duration": 6,
    "start_time": "2022-04-18T15:03:25.148Z"
   },
   {
    "duration": 25,
    "start_time": "2022-04-18T15:06:37.944Z"
   },
   {
    "duration": 34,
    "start_time": "2022-04-18T15:06:41.092Z"
   },
   {
    "duration": 557,
    "start_time": "2022-04-18T15:06:41.999Z"
   },
   {
    "duration": 5,
    "start_time": "2022-04-18T15:06:45.175Z"
   },
   {
    "duration": 13,
    "start_time": "2022-04-18T15:06:47.335Z"
   },
   {
    "duration": 117,
    "start_time": "2022-04-18T15:07:57.800Z"
   },
   {
    "duration": 492,
    "start_time": "2022-04-18T15:08:00.059Z"
   },
   {
    "duration": 5,
    "start_time": "2022-04-18T15:08:38.135Z"
   },
   {
    "duration": 20,
    "start_time": "2022-04-18T15:08:40.574Z"
   },
   {
    "duration": 4,
    "start_time": "2022-04-18T15:08:41.742Z"
   },
   {
    "duration": 8,
    "start_time": "2022-04-18T15:08:44.273Z"
   },
   {
    "duration": 4,
    "start_time": "2022-04-18T15:08:55.646Z"
   },
   {
    "duration": 489,
    "start_time": "2022-04-18T15:09:06.074Z"
   },
   {
    "duration": 601,
    "start_time": "2022-04-18T15:10:11.441Z"
   },
   {
    "duration": 19,
    "start_time": "2022-04-18T15:11:06.319Z"
   },
   {
    "duration": 5,
    "start_time": "2022-04-18T15:11:07.146Z"
   },
   {
    "duration": 20,
    "start_time": "2022-04-18T15:11:09.103Z"
   },
   {
    "duration": 4,
    "start_time": "2022-04-18T15:11:10.150Z"
   },
   {
    "duration": 20,
    "start_time": "2022-04-18T15:11:12.471Z"
   },
   {
    "duration": 4,
    "start_time": "2022-04-18T15:11:13.288Z"
   },
   {
    "duration": 18,
    "start_time": "2022-04-18T15:11:30.840Z"
   },
   {
    "duration": 5,
    "start_time": "2022-04-18T15:11:31.640Z"
   },
   {
    "duration": 9,
    "start_time": "2022-04-18T15:11:33.170Z"
   },
   {
    "duration": 9,
    "start_time": "2022-04-18T15:13:06.128Z"
   },
   {
    "duration": 254,
    "start_time": "2022-04-18T15:18:37.099Z"
   },
   {
    "duration": 144,
    "start_time": "2022-04-18T15:19:50.853Z"
   },
   {
    "duration": 184,
    "start_time": "2022-04-18T15:20:17.380Z"
   },
   {
    "duration": 171,
    "start_time": "2022-04-18T15:20:48.953Z"
   },
   {
    "duration": 158,
    "start_time": "2022-04-18T15:21:02.692Z"
   },
   {
    "duration": 161,
    "start_time": "2022-04-18T15:21:45.312Z"
   },
   {
    "duration": 137,
    "start_time": "2022-04-18T15:22:33.447Z"
   },
   {
    "duration": 9,
    "start_time": "2022-04-18T15:22:49.164Z"
   },
   {
    "duration": 9,
    "start_time": "2022-04-18T15:22:56.428Z"
   },
   {
    "duration": 67,
    "start_time": "2022-04-18T15:23:02.758Z"
   },
   {
    "duration": 144,
    "start_time": "2022-04-18T15:23:04.279Z"
   },
   {
    "duration": 8,
    "start_time": "2022-04-18T15:23:25.701Z"
   },
   {
    "duration": 150,
    "start_time": "2022-04-18T15:23:32.758Z"
   },
   {
    "duration": 175,
    "start_time": "2022-04-18T15:24:35.264Z"
   },
   {
    "duration": 166,
    "start_time": "2022-04-18T15:27:16.941Z"
   },
   {
    "duration": 518,
    "start_time": "2022-04-18T15:29:34.775Z"
   },
   {
    "duration": 39,
    "start_time": "2022-04-18T15:30:31.106Z"
   },
   {
    "duration": 1425,
    "start_time": "2022-04-18T15:31:03.006Z"
   },
   {
    "duration": 162,
    "start_time": "2022-04-18T15:31:39.869Z"
   },
   {
    "duration": 172,
    "start_time": "2022-04-18T15:32:49.469Z"
   },
   {
    "duration": 157,
    "start_time": "2022-04-18T15:33:03.787Z"
   },
   {
    "duration": 144,
    "start_time": "2022-04-18T15:33:34.891Z"
   },
   {
    "duration": 0,
    "start_time": "2022-04-18T15:34:29.618Z"
   },
   {
    "duration": 1116,
    "start_time": "2022-04-18T15:36:58.278Z"
   },
   {
    "duration": 80,
    "start_time": "2022-04-18T15:36:59.396Z"
   },
   {
    "duration": 5,
    "start_time": "2022-04-18T15:36:59.477Z"
   },
   {
    "duration": 231,
    "start_time": "2022-04-18T15:36:59.484Z"
   },
   {
    "duration": 8,
    "start_time": "2022-04-18T15:36:59.717Z"
   },
   {
    "duration": 4,
    "start_time": "2022-04-18T15:36:59.726Z"
   },
   {
    "duration": 5,
    "start_time": "2022-04-18T15:36:59.731Z"
   },
   {
    "duration": 10,
    "start_time": "2022-04-18T15:36:59.737Z"
   },
   {
    "duration": 6,
    "start_time": "2022-04-18T15:36:59.748Z"
   },
   {
    "duration": 256,
    "start_time": "2022-04-18T15:36:59.757Z"
   },
   {
    "duration": 6,
    "start_time": "2022-04-18T15:37:00.015Z"
   },
   {
    "duration": 13,
    "start_time": "2022-04-18T15:37:00.023Z"
   },
   {
    "duration": 14,
    "start_time": "2022-04-18T15:37:00.038Z"
   },
   {
    "duration": 304,
    "start_time": "2022-04-18T15:37:00.053Z"
   },
   {
    "duration": 249,
    "start_time": "2022-04-18T15:37:00.359Z"
   },
   {
    "duration": 242,
    "start_time": "2022-04-18T15:37:00.609Z"
   },
   {
    "duration": 228,
    "start_time": "2022-04-18T15:37:00.853Z"
   },
   {
    "duration": 291,
    "start_time": "2022-04-18T15:37:01.083Z"
   },
   {
    "duration": 494,
    "start_time": "2022-04-18T15:37:01.376Z"
   },
   {
    "duration": 35,
    "start_time": "2022-04-18T15:37:01.872Z"
   },
   {
    "duration": 4,
    "start_time": "2022-04-18T15:37:01.909Z"
   },
   {
    "duration": 12,
    "start_time": "2022-04-18T15:37:01.915Z"
   },
   {
    "duration": 5,
    "start_time": "2022-04-18T15:37:01.928Z"
   },
   {
    "duration": 586,
    "start_time": "2022-04-18T15:37:01.935Z"
   },
   {
    "duration": 172,
    "start_time": "2022-04-18T15:37:02.523Z"
   },
   {
    "duration": 269,
    "start_time": "2022-04-18T15:37:02.697Z"
   },
   {
    "duration": 144,
    "start_time": "2022-04-18T15:37:02.968Z"
   },
   {
    "duration": 188,
    "start_time": "2022-04-18T15:37:03.116Z"
   },
   {
    "duration": 176,
    "start_time": "2022-04-18T15:37:03.307Z"
   },
   {
    "duration": 172,
    "start_time": "2022-04-18T15:37:03.485Z"
   },
   {
    "duration": 166,
    "start_time": "2022-04-18T15:37:03.659Z"
   },
   {
    "duration": 25,
    "start_time": "2022-04-18T15:37:03.827Z"
   },
   {
    "duration": 170,
    "start_time": "2022-04-18T15:37:03.853Z"
   },
   {
    "duration": 9,
    "start_time": "2022-04-18T15:37:04.024Z"
   },
   {
    "duration": 294,
    "start_time": "2022-04-18T15:37:04.034Z"
   },
   {
    "duration": 299,
    "start_time": "2022-04-18T15:37:04.329Z"
   },
   {
    "duration": 285,
    "start_time": "2022-04-18T15:37:04.630Z"
   },
   {
    "duration": 305,
    "start_time": "2022-04-18T15:37:04.917Z"
   },
   {
    "duration": 176,
    "start_time": "2022-04-18T15:37:05.224Z"
   },
   {
    "duration": 161,
    "start_time": "2022-04-18T15:37:05.402Z"
   },
   {
    "duration": 155,
    "start_time": "2022-04-18T15:37:05.565Z"
   },
   {
    "duration": 172,
    "start_time": "2022-04-18T15:37:05.721Z"
   },
   {
    "duration": 34,
    "start_time": "2022-04-18T15:37:05.894Z"
   },
   {
    "duration": 182,
    "start_time": "2022-04-18T15:37:05.930Z"
   },
   {
    "duration": 25,
    "start_time": "2022-04-18T15:57:06.844Z"
   },
   {
    "duration": 223,
    "start_time": "2022-04-18T15:57:25.057Z"
   },
   {
    "duration": 25,
    "start_time": "2022-04-18T15:57:44.136Z"
   },
   {
    "duration": 120,
    "start_time": "2022-04-18T15:58:52.501Z"
   },
   {
    "duration": 229,
    "start_time": "2022-04-18T16:00:36.591Z"
   },
   {
    "duration": 67,
    "start_time": "2022-04-18T16:01:14.762Z"
   },
   {
    "duration": 29,
    "start_time": "2022-04-18T16:01:19.501Z"
   },
   {
    "duration": 22,
    "start_time": "2022-04-18T16:01:41.172Z"
   },
   {
    "duration": 978,
    "start_time": "2022-04-18T16:02:30.999Z"
   },
   {
    "duration": 710,
    "start_time": "2022-04-18T16:02:49.513Z"
   },
   {
    "duration": 26,
    "start_time": "2022-04-18T16:03:15.109Z"
   },
   {
    "duration": 23,
    "start_time": "2022-04-18T16:03:24.051Z"
   },
   {
    "duration": 147,
    "start_time": "2022-04-18T16:03:29.723Z"
   },
   {
    "duration": 297,
    "start_time": "2022-04-18T16:04:02.785Z"
   },
   {
    "duration": 23,
    "start_time": "2022-04-18T16:04:43.146Z"
   },
   {
    "duration": 178,
    "start_time": "2022-04-18T16:04:58.606Z"
   },
   {
    "duration": 189,
    "start_time": "2022-04-18T16:05:09.660Z"
   },
   {
    "duration": 1099,
    "start_time": "2022-04-18T16:05:22.115Z"
   },
   {
    "duration": 1058,
    "start_time": "2022-04-18T16:05:28.151Z"
   },
   {
    "duration": 186,
    "start_time": "2022-04-18T16:05:32.179Z"
   },
   {
    "duration": 206,
    "start_time": "2022-04-18T16:05:35.961Z"
   },
   {
    "duration": 170,
    "start_time": "2022-04-18T16:05:54.681Z"
   },
   {
    "duration": 152,
    "start_time": "2022-04-18T16:07:29.057Z"
   },
   {
    "duration": 11,
    "start_time": "2022-04-18T16:09:04.830Z"
   },
   {
    "duration": 288,
    "start_time": "2022-04-18T16:09:05.415Z"
   },
   {
    "duration": 288,
    "start_time": "2022-04-18T16:09:26.382Z"
   },
   {
    "duration": 182,
    "start_time": "2022-04-18T16:09:33.354Z"
   },
   {
    "duration": 390,
    "start_time": "2022-04-18T16:09:40.070Z"
   },
   {
    "duration": 157,
    "start_time": "2022-04-18T16:09:52.685Z"
   },
   {
    "duration": 158,
    "start_time": "2022-04-18T16:11:15.221Z"
   },
   {
    "duration": 133,
    "start_time": "2022-04-18T16:12:38.220Z"
   },
   {
    "duration": 136,
    "start_time": "2022-04-18T16:14:18.447Z"
   },
   {
    "duration": 137,
    "start_time": "2022-04-18T16:14:34.758Z"
   },
   {
    "duration": 68,
    "start_time": "2022-04-18T16:18:49.902Z"
   },
   {
    "duration": 74,
    "start_time": "2022-04-18T16:33:20.645Z"
   },
   {
    "duration": 65,
    "start_time": "2022-04-18T16:33:23.957Z"
   },
   {
    "duration": 26,
    "start_time": "2022-04-18T16:36:40.899Z"
   },
   {
    "duration": 4,
    "start_time": "2022-04-18T16:36:41.619Z"
   },
   {
    "duration": 8,
    "start_time": "2022-04-18T16:36:42.356Z"
   },
   {
    "duration": 4,
    "start_time": "2022-04-18T16:36:42.858Z"
   },
   {
    "duration": 553,
    "start_time": "2022-04-18T16:36:44.171Z"
   },
   {
    "duration": 1096,
    "start_time": "2022-04-18T16:36:51.999Z"
   },
   {
    "duration": 81,
    "start_time": "2022-04-18T16:36:53.097Z"
   },
   {
    "duration": 4,
    "start_time": "2022-04-18T16:36:53.182Z"
   },
   {
    "duration": 235,
    "start_time": "2022-04-18T16:36:53.187Z"
   },
   {
    "duration": 9,
    "start_time": "2022-04-18T16:36:53.424Z"
   },
   {
    "duration": 3,
    "start_time": "2022-04-18T16:36:53.435Z"
   },
   {
    "duration": 5,
    "start_time": "2022-04-18T16:36:53.440Z"
   },
   {
    "duration": 10,
    "start_time": "2022-04-18T16:36:53.447Z"
   },
   {
    "duration": 50,
    "start_time": "2022-04-18T16:36:53.460Z"
   },
   {
    "duration": 222,
    "start_time": "2022-04-18T16:36:53.511Z"
   },
   {
    "duration": 5,
    "start_time": "2022-04-18T16:36:53.735Z"
   },
   {
    "duration": 13,
    "start_time": "2022-04-18T16:36:53.741Z"
   },
   {
    "duration": 14,
    "start_time": "2022-04-18T16:36:53.756Z"
   },
   {
    "duration": 299,
    "start_time": "2022-04-18T16:36:53.771Z"
   },
   {
    "duration": 243,
    "start_time": "2022-04-18T16:36:54.072Z"
   },
   {
    "duration": 240,
    "start_time": "2022-04-18T16:36:54.317Z"
   },
   {
    "duration": 228,
    "start_time": "2022-04-18T16:36:54.559Z"
   },
   {
    "duration": 278,
    "start_time": "2022-04-18T16:36:54.789Z"
   },
   {
    "duration": 470,
    "start_time": "2022-04-18T16:36:55.068Z"
   },
   {
    "duration": 29,
    "start_time": "2022-04-18T16:36:55.539Z"
   },
   {
    "duration": 4,
    "start_time": "2022-04-18T16:36:55.570Z"
   },
   {
    "duration": 35,
    "start_time": "2022-04-18T16:36:55.575Z"
   },
   {
    "duration": 4,
    "start_time": "2022-04-18T16:36:55.611Z"
   },
   {
    "duration": 564,
    "start_time": "2022-04-18T16:36:55.617Z"
   },
   {
    "duration": 178,
    "start_time": "2022-04-18T16:36:56.183Z"
   },
   {
    "duration": 251,
    "start_time": "2022-04-18T16:36:56.362Z"
   },
   {
    "duration": 137,
    "start_time": "2022-04-18T16:36:56.616Z"
   },
   {
    "duration": 185,
    "start_time": "2022-04-18T16:36:56.754Z"
   },
   {
    "duration": 177,
    "start_time": "2022-04-18T16:36:56.941Z"
   },
   {
    "duration": 172,
    "start_time": "2022-04-18T16:36:57.119Z"
   },
   {
    "duration": 158,
    "start_time": "2022-04-18T16:36:57.293Z"
   },
   {
    "duration": 171,
    "start_time": "2022-04-18T16:36:57.452Z"
   },
   {
    "duration": 151,
    "start_time": "2022-04-18T16:36:57.624Z"
   },
   {
    "duration": 8,
    "start_time": "2022-04-18T16:36:57.777Z"
   },
   {
    "duration": 285,
    "start_time": "2022-04-18T16:36:57.786Z"
   },
   {
    "duration": 366,
    "start_time": "2022-04-18T16:36:58.073Z"
   },
   {
    "duration": 188,
    "start_time": "2022-04-18T16:36:58.440Z"
   },
   {
    "duration": 296,
    "start_time": "2022-04-18T16:36:58.629Z"
   },
   {
    "duration": 173,
    "start_time": "2022-04-18T16:36:58.926Z"
   },
   {
    "duration": 161,
    "start_time": "2022-04-18T16:36:59.101Z"
   },
   {
    "duration": 158,
    "start_time": "2022-04-18T16:36:59.263Z"
   },
   {
    "duration": 169,
    "start_time": "2022-04-18T16:36:59.422Z"
   },
   {
    "duration": 35,
    "start_time": "2022-04-18T16:36:59.592Z"
   },
   {
    "duration": 174,
    "start_time": "2022-04-18T16:36:59.628Z"
   },
   {
    "duration": 70,
    "start_time": "2022-04-18T16:37:07.723Z"
   },
   {
    "duration": 1814,
    "start_time": "2022-04-19T13:24:25.402Z"
   },
   {
    "duration": 149,
    "start_time": "2022-04-19T13:24:27.218Z"
   },
   {
    "duration": 6,
    "start_time": "2022-04-19T13:24:27.370Z"
   },
   {
    "duration": 287,
    "start_time": "2022-04-19T13:24:27.378Z"
   },
   {
    "duration": 11,
    "start_time": "2022-04-19T13:24:27.668Z"
   },
   {
    "duration": 31,
    "start_time": "2022-04-19T13:24:27.681Z"
   },
   {
    "duration": 41,
    "start_time": "2022-04-19T13:24:27.714Z"
   },
   {
    "duration": 14,
    "start_time": "2022-04-19T13:24:27.757Z"
   },
   {
    "duration": 7,
    "start_time": "2022-04-19T13:24:27.773Z"
   },
   {
    "duration": 321,
    "start_time": "2022-04-19T13:24:27.783Z"
   },
   {
    "duration": 7,
    "start_time": "2022-04-19T13:24:28.108Z"
   },
   {
    "duration": 28,
    "start_time": "2022-04-19T13:24:28.117Z"
   },
   {
    "duration": 21,
    "start_time": "2022-04-19T13:24:28.147Z"
   },
   {
    "duration": 475,
    "start_time": "2022-04-19T13:24:28.173Z"
   },
   {
    "duration": 417,
    "start_time": "2022-04-19T13:24:28.650Z"
   },
   {
    "duration": 370,
    "start_time": "2022-04-19T13:24:29.069Z"
   },
   {
    "duration": 178,
    "start_time": "2022-04-19T13:24:29.441Z"
   },
   {
    "duration": 317,
    "start_time": "2022-04-19T13:24:29.621Z"
   },
   {
    "duration": 550,
    "start_time": "2022-04-19T13:24:29.940Z"
   },
   {
    "duration": 47,
    "start_time": "2022-04-19T13:24:30.492Z"
   },
   {
    "duration": 21,
    "start_time": "2022-04-19T13:24:30.541Z"
   },
   {
    "duration": 25,
    "start_time": "2022-04-19T13:24:30.564Z"
   },
   {
    "duration": 16,
    "start_time": "2022-04-19T13:24:30.591Z"
   },
   {
    "duration": 632,
    "start_time": "2022-04-19T13:24:30.609Z"
   },
   {
    "duration": 325,
    "start_time": "2022-04-19T13:24:31.243Z"
   },
   {
    "duration": 189,
    "start_time": "2022-04-19T13:24:31.570Z"
   },
   {
    "duration": 153,
    "start_time": "2022-04-19T13:24:31.761Z"
   },
   {
    "duration": 222,
    "start_time": "2022-04-19T13:24:31.916Z"
   },
   {
    "duration": 190,
    "start_time": "2022-04-19T13:24:32.142Z"
   },
   {
    "duration": 169,
    "start_time": "2022-04-19T13:24:32.335Z"
   },
   {
    "duration": 177,
    "start_time": "2022-04-19T13:24:32.506Z"
   },
   {
    "duration": 202,
    "start_time": "2022-04-19T13:24:32.685Z"
   },
   {
    "duration": 183,
    "start_time": "2022-04-19T13:24:32.889Z"
   },
   {
    "duration": 9,
    "start_time": "2022-04-19T13:24:33.073Z"
   },
   {
    "duration": 314,
    "start_time": "2022-04-19T13:24:33.084Z"
   },
   {
    "duration": 407,
    "start_time": "2022-04-19T13:24:33.400Z"
   },
   {
    "duration": 229,
    "start_time": "2022-04-19T13:24:33.809Z"
   },
   {
    "duration": 304,
    "start_time": "2022-04-19T13:24:34.040Z"
   },
   {
    "duration": 250,
    "start_time": "2022-04-19T13:24:34.346Z"
   },
   {
    "duration": 170,
    "start_time": "2022-04-19T13:24:34.606Z"
   },
   {
    "duration": 178,
    "start_time": "2022-04-19T13:24:34.781Z"
   },
   {
    "duration": 201,
    "start_time": "2022-04-19T13:24:34.962Z"
   },
   {
    "duration": 48,
    "start_time": "2022-04-19T13:24:35.166Z"
   },
   {
    "duration": 216,
    "start_time": "2022-04-19T13:24:35.217Z"
   },
   {
    "duration": 122,
    "start_time": "2022-04-19T13:29:08.168Z"
   },
   {
    "duration": 17,
    "start_time": "2022-04-19T13:29:16.088Z"
   },
   {
    "duration": 113,
    "start_time": "2022-04-19T13:29:30.862Z"
   }
  ],
  "kernelspec": {
   "display_name": "Python 3 (ipykernel)",
   "language": "python",
   "name": "python3"
  },
  "language_info": {
   "codemirror_mode": {
    "name": "ipython",
    "version": 3
   },
   "file_extension": ".py",
   "mimetype": "text/x-python",
   "name": "python",
   "nbconvert_exporter": "python",
   "pygments_lexer": "ipython3",
   "version": "3.9.7"
  },
  "toc": {
   "base_numbering": 1,
   "nav_menu": {},
   "number_sections": true,
   "sideBar": true,
   "skip_h1_title": true,
   "title_cell": "Содержание",
   "title_sidebar": "Contents",
   "toc_cell": true,
   "toc_position": {
    "height": "calc(100% - 180px)",
    "left": "10px",
    "top": "150px",
    "width": "165px"
   },
   "toc_section_display": true,
   "toc_window_display": true
  }
 },
 "nbformat": 4,
 "nbformat_minor": 4
}
