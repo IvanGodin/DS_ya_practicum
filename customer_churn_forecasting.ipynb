{
 "cells": [
  {
   "cell_type": "markdown",
   "metadata": {
    "toc": true
   },
   "source": [
    "<h1>Содержание<span class=\"tocSkip\"></span></h1>\n",
    "<div class=\"toc\"><ul class=\"toc-item\"><li><span><a href=\"#Подготовка-данных\" data-toc-modified-id=\"Подготовка-данных-1\">Подготовка данных</a></span></li><li><span><a href=\"#Исследование-задачи\" data-toc-modified-id=\"Исследование-задачи-2\">Исследование задачи</a></span><ul class=\"toc-item\"><li><ul class=\"toc-item\"><li><span><a href=\"#Решающее-дерево\" data-toc-modified-id=\"Решающее-дерево-2.0.1\">Решающее дерево</a></span></li><li><span><a href=\"#Случайный-лес\" data-toc-modified-id=\"Случайный-лес-2.0.2\">Случайный лес</a></span></li><li><span><a href=\"#Логистическая-регрессия\" data-toc-modified-id=\"Логистическая-регрессия-2.0.3\">Логистическая регрессия</a></span></li><li><span><a href=\"#Оценка-accuracy,-precision-и-recall,-F-метрикa.\" data-toc-modified-id=\"Оценка-accuracy,-precision-и-recall,-F-метрикa.-2.0.4\">Оценка accuracy, precision и recall, F-метрикa.</a></span></li></ul></li></ul></li><li><span><a href=\"#Борьба-с-дисбалансом\" data-toc-modified-id=\"Борьба-с-дисбалансом-3\">Борьба с дисбалансом</a></span><ul class=\"toc-item\"><li><ul class=\"toc-item\"><li><span><a href=\"#Взвешивание-классов\" data-toc-modified-id=\"Взвешивание-классов-3.0.1\">Взвешивание классов</a></span></li><li><span><a href=\"#Уменьшение-выборки\" data-toc-modified-id=\"Уменьшение-выборки-3.0.2\">Уменьшение выборки</a></span></li><li><span><a href=\"#Увеличение-выборки\" data-toc-modified-id=\"Увеличение-выборки-3.0.3\">Увеличение выборки</a></span></li><li><span><a href=\"#ROC-кривая-и-AUC-ROC-для-посленнего-измененного-баланса.\" data-toc-modified-id=\"ROC-кривая-и-AUC-ROC-для-посленнего-измененного-баланса.-3.0.4\">ROC-кривая и AUC-ROC для посленнего измененного баланса.</a></span></li></ul></li></ul></li><li><span><a href=\"#Тестирование-модели\" data-toc-modified-id=\"Тестирование-модели-4\">Тестирование модели</a></span><ul class=\"toc-item\"><li><span><a href=\"#Вывод\" data-toc-modified-id=\"Вывод-4.1\">Вывод</a></span><ul class=\"toc-item\"><li><span><a href=\"#Итог:\" data-toc-modified-id=\"Итог:-4.1.1\">Итог:</a></span></li></ul></li></ul></li></ul></div>"
   ]
  },
  {
   "cell_type": "markdown",
   "metadata": {},
   "source": [
    "# Отток клиентов"
   ]
  },
  {
   "cell_type": "markdown",
   "metadata": {},
   "source": [
    "Из «Бета-Банка» стали уходить клиенты. Каждый месяц. Немного, но заметно. Банковские маркетологи посчитали: сохранять текущих клиентов дешевле, чем привлекать новых.\n",
    "\n",
    "Нужно спрогнозировать, уйдёт клиент из банка в ближайшее время или нет. Вам предоставлены исторические данные о поведении клиентов и расторжении договоров с банком. \n",
    "\n",
    "Постройте модель с предельно большим значением *F1*-меры. Чтобы сдать проект успешно, нужно довести метрику до 0.59. Проверьте *F1*-меру на тестовой выборке самостоятельно.\n",
    "\n",
    "Дополнительно измеряйте *AUC-ROC*, сравнивайте её значение с *F1*-мерой.\n",
    "\n",
    "Источник данных: [https://www.kaggle.com/barelydedicated/bank-customer-churn-modeling](https://www.kaggle.com/barelydedicated/bank-customer-churn-modeling)"
   ]
  },
  {
   "cell_type": "markdown",
   "metadata": {},
   "source": [
    "## Подготовка данных"
   ]
  },
  {
   "cell_type": "code",
   "execution_count": 1,
   "metadata": {},
   "outputs": [],
   "source": [
    "import pandas as pd\n",
    "import matplotlib.pyplot as plt\n",
    "from tqdm import tqdm\n",
    "from sklearn.model_selection import train_test_split\n",
    "from sklearn.tree import DecisionTreeClassifier\n",
    "from sklearn.ensemble import RandomForestClassifier\n",
    "from sklearn.linear_model import LogisticRegression\n",
    "from sklearn.metrics import f1_score, accuracy_score, precision_score, recall_score, roc_curve, roc_auc_score\n",
    "from sklearn.utils import shuffle\n",
    "from sklearn.preprocessing import StandardScaler "
   ]
  },
  {
   "cell_type": "code",
   "execution_count": 2,
   "metadata": {},
   "outputs": [],
   "source": [
    "df = pd.read_csv('https://code.s3.yandex.net/datasets/Churn.csv')"
   ]
  },
  {
   "cell_type": "code",
   "execution_count": 3,
   "metadata": {},
   "outputs": [],
   "source": [
    "def rewiev(row):\n",
    "    print('info')\n",
    "    display(row.info())\n",
    "    print('----------------------------------------------------')\n",
    "    print('head')\n",
    "    display(row.head(10))\n",
    "    print('----------------------------------------------------')\n",
    "    print('isna')      \n",
    "    display(row.isna().sum())\n",
    "    print('----------------------------------------------------')\n",
    "    print('isna%')      \n",
    "    display(row.isna().sum()/len(row))\n",
    "    print('----------------------------------------------------')\n",
    "    print('describe')      \n",
    "    display(row.describe())\n",
    "    print('----------------------------------------------------')\n",
    "    return"
   ]
  },
  {
   "cell_type": "code",
   "execution_count": 4,
   "metadata": {},
   "outputs": [
    {
     "name": "stdout",
     "output_type": "stream",
     "text": [
      "info\n",
      "<class 'pandas.core.frame.DataFrame'>\n",
      "RangeIndex: 10000 entries, 0 to 9999\n",
      "Data columns (total 14 columns):\n",
      " #   Column           Non-Null Count  Dtype  \n",
      "---  ------           --------------  -----  \n",
      " 0   RowNumber        10000 non-null  int64  \n",
      " 1   CustomerId       10000 non-null  int64  \n",
      " 2   Surname          10000 non-null  object \n",
      " 3   CreditScore      10000 non-null  int64  \n",
      " 4   Geography        10000 non-null  object \n",
      " 5   Gender           10000 non-null  object \n",
      " 6   Age              10000 non-null  int64  \n",
      " 7   Tenure           9091 non-null   float64\n",
      " 8   Balance          10000 non-null  float64\n",
      " 9   NumOfProducts    10000 non-null  int64  \n",
      " 10  HasCrCard        10000 non-null  int64  \n",
      " 11  IsActiveMember   10000 non-null  int64  \n",
      " 12  EstimatedSalary  10000 non-null  float64\n",
      " 13  Exited           10000 non-null  int64  \n",
      "dtypes: float64(3), int64(8), object(3)\n",
      "memory usage: 1.1+ MB\n"
     ]
    },
    {
     "data": {
      "text/plain": [
       "None"
      ]
     },
     "metadata": {},
     "output_type": "display_data"
    },
    {
     "name": "stdout",
     "output_type": "stream",
     "text": [
      "----------------------------------------------------\n",
      "head\n"
     ]
    },
    {
     "data": {
      "text/html": [
       "<div>\n",
       "<style scoped>\n",
       "    .dataframe tbody tr th:only-of-type {\n",
       "        vertical-align: middle;\n",
       "    }\n",
       "\n",
       "    .dataframe tbody tr th {\n",
       "        vertical-align: top;\n",
       "    }\n",
       "\n",
       "    .dataframe thead th {\n",
       "        text-align: right;\n",
       "    }\n",
       "</style>\n",
       "<table border=\"1\" class=\"dataframe\">\n",
       "  <thead>\n",
       "    <tr style=\"text-align: right;\">\n",
       "      <th></th>\n",
       "      <th>RowNumber</th>\n",
       "      <th>CustomerId</th>\n",
       "      <th>Surname</th>\n",
       "      <th>CreditScore</th>\n",
       "      <th>Geography</th>\n",
       "      <th>Gender</th>\n",
       "      <th>Age</th>\n",
       "      <th>Tenure</th>\n",
       "      <th>Balance</th>\n",
       "      <th>NumOfProducts</th>\n",
       "      <th>HasCrCard</th>\n",
       "      <th>IsActiveMember</th>\n",
       "      <th>EstimatedSalary</th>\n",
       "      <th>Exited</th>\n",
       "    </tr>\n",
       "  </thead>\n",
       "  <tbody>\n",
       "    <tr>\n",
       "      <th>0</th>\n",
       "      <td>1</td>\n",
       "      <td>15634602</td>\n",
       "      <td>Hargrave</td>\n",
       "      <td>619</td>\n",
       "      <td>France</td>\n",
       "      <td>Female</td>\n",
       "      <td>42</td>\n",
       "      <td>2.0</td>\n",
       "      <td>0.00</td>\n",
       "      <td>1</td>\n",
       "      <td>1</td>\n",
       "      <td>1</td>\n",
       "      <td>101348.88</td>\n",
       "      <td>1</td>\n",
       "    </tr>\n",
       "    <tr>\n",
       "      <th>1</th>\n",
       "      <td>2</td>\n",
       "      <td>15647311</td>\n",
       "      <td>Hill</td>\n",
       "      <td>608</td>\n",
       "      <td>Spain</td>\n",
       "      <td>Female</td>\n",
       "      <td>41</td>\n",
       "      <td>1.0</td>\n",
       "      <td>83807.86</td>\n",
       "      <td>1</td>\n",
       "      <td>0</td>\n",
       "      <td>1</td>\n",
       "      <td>112542.58</td>\n",
       "      <td>0</td>\n",
       "    </tr>\n",
       "    <tr>\n",
       "      <th>2</th>\n",
       "      <td>3</td>\n",
       "      <td>15619304</td>\n",
       "      <td>Onio</td>\n",
       "      <td>502</td>\n",
       "      <td>France</td>\n",
       "      <td>Female</td>\n",
       "      <td>42</td>\n",
       "      <td>8.0</td>\n",
       "      <td>159660.80</td>\n",
       "      <td>3</td>\n",
       "      <td>1</td>\n",
       "      <td>0</td>\n",
       "      <td>113931.57</td>\n",
       "      <td>1</td>\n",
       "    </tr>\n",
       "    <tr>\n",
       "      <th>3</th>\n",
       "      <td>4</td>\n",
       "      <td>15701354</td>\n",
       "      <td>Boni</td>\n",
       "      <td>699</td>\n",
       "      <td>France</td>\n",
       "      <td>Female</td>\n",
       "      <td>39</td>\n",
       "      <td>1.0</td>\n",
       "      <td>0.00</td>\n",
       "      <td>2</td>\n",
       "      <td>0</td>\n",
       "      <td>0</td>\n",
       "      <td>93826.63</td>\n",
       "      <td>0</td>\n",
       "    </tr>\n",
       "    <tr>\n",
       "      <th>4</th>\n",
       "      <td>5</td>\n",
       "      <td>15737888</td>\n",
       "      <td>Mitchell</td>\n",
       "      <td>850</td>\n",
       "      <td>Spain</td>\n",
       "      <td>Female</td>\n",
       "      <td>43</td>\n",
       "      <td>2.0</td>\n",
       "      <td>125510.82</td>\n",
       "      <td>1</td>\n",
       "      <td>1</td>\n",
       "      <td>1</td>\n",
       "      <td>79084.10</td>\n",
       "      <td>0</td>\n",
       "    </tr>\n",
       "    <tr>\n",
       "      <th>5</th>\n",
       "      <td>6</td>\n",
       "      <td>15574012</td>\n",
       "      <td>Chu</td>\n",
       "      <td>645</td>\n",
       "      <td>Spain</td>\n",
       "      <td>Male</td>\n",
       "      <td>44</td>\n",
       "      <td>8.0</td>\n",
       "      <td>113755.78</td>\n",
       "      <td>2</td>\n",
       "      <td>1</td>\n",
       "      <td>0</td>\n",
       "      <td>149756.71</td>\n",
       "      <td>1</td>\n",
       "    </tr>\n",
       "    <tr>\n",
       "      <th>6</th>\n",
       "      <td>7</td>\n",
       "      <td>15592531</td>\n",
       "      <td>Bartlett</td>\n",
       "      <td>822</td>\n",
       "      <td>France</td>\n",
       "      <td>Male</td>\n",
       "      <td>50</td>\n",
       "      <td>7.0</td>\n",
       "      <td>0.00</td>\n",
       "      <td>2</td>\n",
       "      <td>1</td>\n",
       "      <td>1</td>\n",
       "      <td>10062.80</td>\n",
       "      <td>0</td>\n",
       "    </tr>\n",
       "    <tr>\n",
       "      <th>7</th>\n",
       "      <td>8</td>\n",
       "      <td>15656148</td>\n",
       "      <td>Obinna</td>\n",
       "      <td>376</td>\n",
       "      <td>Germany</td>\n",
       "      <td>Female</td>\n",
       "      <td>29</td>\n",
       "      <td>4.0</td>\n",
       "      <td>115046.74</td>\n",
       "      <td>4</td>\n",
       "      <td>1</td>\n",
       "      <td>0</td>\n",
       "      <td>119346.88</td>\n",
       "      <td>1</td>\n",
       "    </tr>\n",
       "    <tr>\n",
       "      <th>8</th>\n",
       "      <td>9</td>\n",
       "      <td>15792365</td>\n",
       "      <td>He</td>\n",
       "      <td>501</td>\n",
       "      <td>France</td>\n",
       "      <td>Male</td>\n",
       "      <td>44</td>\n",
       "      <td>4.0</td>\n",
       "      <td>142051.07</td>\n",
       "      <td>2</td>\n",
       "      <td>0</td>\n",
       "      <td>1</td>\n",
       "      <td>74940.50</td>\n",
       "      <td>0</td>\n",
       "    </tr>\n",
       "    <tr>\n",
       "      <th>9</th>\n",
       "      <td>10</td>\n",
       "      <td>15592389</td>\n",
       "      <td>H?</td>\n",
       "      <td>684</td>\n",
       "      <td>France</td>\n",
       "      <td>Male</td>\n",
       "      <td>27</td>\n",
       "      <td>2.0</td>\n",
       "      <td>134603.88</td>\n",
       "      <td>1</td>\n",
       "      <td>1</td>\n",
       "      <td>1</td>\n",
       "      <td>71725.73</td>\n",
       "      <td>0</td>\n",
       "    </tr>\n",
       "  </tbody>\n",
       "</table>\n",
       "</div>"
      ],
      "text/plain": [
       "   RowNumber  CustomerId   Surname  CreditScore Geography  Gender  Age  \\\n",
       "0          1    15634602  Hargrave          619    France  Female   42   \n",
       "1          2    15647311      Hill          608     Spain  Female   41   \n",
       "2          3    15619304      Onio          502    France  Female   42   \n",
       "3          4    15701354      Boni          699    France  Female   39   \n",
       "4          5    15737888  Mitchell          850     Spain  Female   43   \n",
       "5          6    15574012       Chu          645     Spain    Male   44   \n",
       "6          7    15592531  Bartlett          822    France    Male   50   \n",
       "7          8    15656148    Obinna          376   Germany  Female   29   \n",
       "8          9    15792365        He          501    France    Male   44   \n",
       "9         10    15592389        H?          684    France    Male   27   \n",
       "\n",
       "   Tenure    Balance  NumOfProducts  HasCrCard  IsActiveMember  \\\n",
       "0     2.0       0.00              1          1               1   \n",
       "1     1.0   83807.86              1          0               1   \n",
       "2     8.0  159660.80              3          1               0   \n",
       "3     1.0       0.00              2          0               0   \n",
       "4     2.0  125510.82              1          1               1   \n",
       "5     8.0  113755.78              2          1               0   \n",
       "6     7.0       0.00              2          1               1   \n",
       "7     4.0  115046.74              4          1               0   \n",
       "8     4.0  142051.07              2          0               1   \n",
       "9     2.0  134603.88              1          1               1   \n",
       "\n",
       "   EstimatedSalary  Exited  \n",
       "0        101348.88       1  \n",
       "1        112542.58       0  \n",
       "2        113931.57       1  \n",
       "3         93826.63       0  \n",
       "4         79084.10       0  \n",
       "5        149756.71       1  \n",
       "6         10062.80       0  \n",
       "7        119346.88       1  \n",
       "8         74940.50       0  \n",
       "9         71725.73       0  "
      ]
     },
     "metadata": {},
     "output_type": "display_data"
    },
    {
     "name": "stdout",
     "output_type": "stream",
     "text": [
      "----------------------------------------------------\n",
      "isna\n"
     ]
    },
    {
     "data": {
      "text/plain": [
       "RowNumber            0\n",
       "CustomerId           0\n",
       "Surname              0\n",
       "CreditScore          0\n",
       "Geography            0\n",
       "Gender               0\n",
       "Age                  0\n",
       "Tenure             909\n",
       "Balance              0\n",
       "NumOfProducts        0\n",
       "HasCrCard            0\n",
       "IsActiveMember       0\n",
       "EstimatedSalary      0\n",
       "Exited               0\n",
       "dtype: int64"
      ]
     },
     "metadata": {},
     "output_type": "display_data"
    },
    {
     "name": "stdout",
     "output_type": "stream",
     "text": [
      "----------------------------------------------------\n",
      "isna%\n"
     ]
    },
    {
     "data": {
      "text/plain": [
       "RowNumber          0.0000\n",
       "CustomerId         0.0000\n",
       "Surname            0.0000\n",
       "CreditScore        0.0000\n",
       "Geography          0.0000\n",
       "Gender             0.0000\n",
       "Age                0.0000\n",
       "Tenure             0.0909\n",
       "Balance            0.0000\n",
       "NumOfProducts      0.0000\n",
       "HasCrCard          0.0000\n",
       "IsActiveMember     0.0000\n",
       "EstimatedSalary    0.0000\n",
       "Exited             0.0000\n",
       "dtype: float64"
      ]
     },
     "metadata": {},
     "output_type": "display_data"
    },
    {
     "name": "stdout",
     "output_type": "stream",
     "text": [
      "----------------------------------------------------\n",
      "describe\n"
     ]
    },
    {
     "data": {
      "text/html": [
       "<div>\n",
       "<style scoped>\n",
       "    .dataframe tbody tr th:only-of-type {\n",
       "        vertical-align: middle;\n",
       "    }\n",
       "\n",
       "    .dataframe tbody tr th {\n",
       "        vertical-align: top;\n",
       "    }\n",
       "\n",
       "    .dataframe thead th {\n",
       "        text-align: right;\n",
       "    }\n",
       "</style>\n",
       "<table border=\"1\" class=\"dataframe\">\n",
       "  <thead>\n",
       "    <tr style=\"text-align: right;\">\n",
       "      <th></th>\n",
       "      <th>RowNumber</th>\n",
       "      <th>CustomerId</th>\n",
       "      <th>CreditScore</th>\n",
       "      <th>Age</th>\n",
       "      <th>Tenure</th>\n",
       "      <th>Balance</th>\n",
       "      <th>NumOfProducts</th>\n",
       "      <th>HasCrCard</th>\n",
       "      <th>IsActiveMember</th>\n",
       "      <th>EstimatedSalary</th>\n",
       "      <th>Exited</th>\n",
       "    </tr>\n",
       "  </thead>\n",
       "  <tbody>\n",
       "    <tr>\n",
       "      <th>count</th>\n",
       "      <td>10000.00000</td>\n",
       "      <td>1.000000e+04</td>\n",
       "      <td>10000.000000</td>\n",
       "      <td>10000.000000</td>\n",
       "      <td>9091.000000</td>\n",
       "      <td>10000.000000</td>\n",
       "      <td>10000.000000</td>\n",
       "      <td>10000.00000</td>\n",
       "      <td>10000.000000</td>\n",
       "      <td>10000.000000</td>\n",
       "      <td>10000.000000</td>\n",
       "    </tr>\n",
       "    <tr>\n",
       "      <th>mean</th>\n",
       "      <td>5000.50000</td>\n",
       "      <td>1.569094e+07</td>\n",
       "      <td>650.528800</td>\n",
       "      <td>38.921800</td>\n",
       "      <td>4.997690</td>\n",
       "      <td>76485.889288</td>\n",
       "      <td>1.530200</td>\n",
       "      <td>0.70550</td>\n",
       "      <td>0.515100</td>\n",
       "      <td>100090.239881</td>\n",
       "      <td>0.203700</td>\n",
       "    </tr>\n",
       "    <tr>\n",
       "      <th>std</th>\n",
       "      <td>2886.89568</td>\n",
       "      <td>7.193619e+04</td>\n",
       "      <td>96.653299</td>\n",
       "      <td>10.487806</td>\n",
       "      <td>2.894723</td>\n",
       "      <td>62397.405202</td>\n",
       "      <td>0.581654</td>\n",
       "      <td>0.45584</td>\n",
       "      <td>0.499797</td>\n",
       "      <td>57510.492818</td>\n",
       "      <td>0.402769</td>\n",
       "    </tr>\n",
       "    <tr>\n",
       "      <th>min</th>\n",
       "      <td>1.00000</td>\n",
       "      <td>1.556570e+07</td>\n",
       "      <td>350.000000</td>\n",
       "      <td>18.000000</td>\n",
       "      <td>0.000000</td>\n",
       "      <td>0.000000</td>\n",
       "      <td>1.000000</td>\n",
       "      <td>0.00000</td>\n",
       "      <td>0.000000</td>\n",
       "      <td>11.580000</td>\n",
       "      <td>0.000000</td>\n",
       "    </tr>\n",
       "    <tr>\n",
       "      <th>25%</th>\n",
       "      <td>2500.75000</td>\n",
       "      <td>1.562853e+07</td>\n",
       "      <td>584.000000</td>\n",
       "      <td>32.000000</td>\n",
       "      <td>2.000000</td>\n",
       "      <td>0.000000</td>\n",
       "      <td>1.000000</td>\n",
       "      <td>0.00000</td>\n",
       "      <td>0.000000</td>\n",
       "      <td>51002.110000</td>\n",
       "      <td>0.000000</td>\n",
       "    </tr>\n",
       "    <tr>\n",
       "      <th>50%</th>\n",
       "      <td>5000.50000</td>\n",
       "      <td>1.569074e+07</td>\n",
       "      <td>652.000000</td>\n",
       "      <td>37.000000</td>\n",
       "      <td>5.000000</td>\n",
       "      <td>97198.540000</td>\n",
       "      <td>1.000000</td>\n",
       "      <td>1.00000</td>\n",
       "      <td>1.000000</td>\n",
       "      <td>100193.915000</td>\n",
       "      <td>0.000000</td>\n",
       "    </tr>\n",
       "    <tr>\n",
       "      <th>75%</th>\n",
       "      <td>7500.25000</td>\n",
       "      <td>1.575323e+07</td>\n",
       "      <td>718.000000</td>\n",
       "      <td>44.000000</td>\n",
       "      <td>7.000000</td>\n",
       "      <td>127644.240000</td>\n",
       "      <td>2.000000</td>\n",
       "      <td>1.00000</td>\n",
       "      <td>1.000000</td>\n",
       "      <td>149388.247500</td>\n",
       "      <td>0.000000</td>\n",
       "    </tr>\n",
       "    <tr>\n",
       "      <th>max</th>\n",
       "      <td>10000.00000</td>\n",
       "      <td>1.581569e+07</td>\n",
       "      <td>850.000000</td>\n",
       "      <td>92.000000</td>\n",
       "      <td>10.000000</td>\n",
       "      <td>250898.090000</td>\n",
       "      <td>4.000000</td>\n",
       "      <td>1.00000</td>\n",
       "      <td>1.000000</td>\n",
       "      <td>199992.480000</td>\n",
       "      <td>1.000000</td>\n",
       "    </tr>\n",
       "  </tbody>\n",
       "</table>\n",
       "</div>"
      ],
      "text/plain": [
       "         RowNumber    CustomerId   CreditScore           Age       Tenure  \\\n",
       "count  10000.00000  1.000000e+04  10000.000000  10000.000000  9091.000000   \n",
       "mean    5000.50000  1.569094e+07    650.528800     38.921800     4.997690   \n",
       "std     2886.89568  7.193619e+04     96.653299     10.487806     2.894723   \n",
       "min        1.00000  1.556570e+07    350.000000     18.000000     0.000000   \n",
       "25%     2500.75000  1.562853e+07    584.000000     32.000000     2.000000   \n",
       "50%     5000.50000  1.569074e+07    652.000000     37.000000     5.000000   \n",
       "75%     7500.25000  1.575323e+07    718.000000     44.000000     7.000000   \n",
       "max    10000.00000  1.581569e+07    850.000000     92.000000    10.000000   \n",
       "\n",
       "             Balance  NumOfProducts    HasCrCard  IsActiveMember  \\\n",
       "count   10000.000000   10000.000000  10000.00000    10000.000000   \n",
       "mean    76485.889288       1.530200      0.70550        0.515100   \n",
       "std     62397.405202       0.581654      0.45584        0.499797   \n",
       "min         0.000000       1.000000      0.00000        0.000000   \n",
       "25%         0.000000       1.000000      0.00000        0.000000   \n",
       "50%     97198.540000       1.000000      1.00000        1.000000   \n",
       "75%    127644.240000       2.000000      1.00000        1.000000   \n",
       "max    250898.090000       4.000000      1.00000        1.000000   \n",
       "\n",
       "       EstimatedSalary        Exited  \n",
       "count     10000.000000  10000.000000  \n",
       "mean     100090.239881      0.203700  \n",
       "std       57510.492818      0.402769  \n",
       "min          11.580000      0.000000  \n",
       "25%       51002.110000      0.000000  \n",
       "50%      100193.915000      0.000000  \n",
       "75%      149388.247500      0.000000  \n",
       "max      199992.480000      1.000000  "
      ]
     },
     "metadata": {},
     "output_type": "display_data"
    },
    {
     "name": "stdout",
     "output_type": "stream",
     "text": [
      "----------------------------------------------------\n"
     ]
    }
   ],
   "source": [
    "rewiev(df)"
   ]
  },
  {
   "cell_type": "code",
   "execution_count": 5,
   "metadata": {},
   "outputs": [],
   "source": [
    "df.columns = df.columns.str.lower()"
   ]
  },
  {
   "cell_type": "code",
   "execution_count": 6,
   "metadata": {},
   "outputs": [
    {
     "data": {
      "text/html": [
       "<div>\n",
       "<style scoped>\n",
       "    .dataframe tbody tr th:only-of-type {\n",
       "        vertical-align: middle;\n",
       "    }\n",
       "\n",
       "    .dataframe tbody tr th {\n",
       "        vertical-align: top;\n",
       "    }\n",
       "\n",
       "    .dataframe thead th {\n",
       "        text-align: right;\n",
       "    }\n",
       "</style>\n",
       "<table border=\"1\" class=\"dataframe\">\n",
       "  <thead>\n",
       "    <tr style=\"text-align: right;\">\n",
       "      <th></th>\n",
       "      <th>rownumber</th>\n",
       "      <th>customerid</th>\n",
       "      <th>surname</th>\n",
       "      <th>creditscore</th>\n",
       "      <th>geography</th>\n",
       "      <th>gender</th>\n",
       "      <th>age</th>\n",
       "      <th>tenure</th>\n",
       "      <th>balance</th>\n",
       "      <th>numofproducts</th>\n",
       "      <th>hascrcard</th>\n",
       "      <th>isactivemember</th>\n",
       "      <th>estimatedsalary</th>\n",
       "      <th>exited</th>\n",
       "    </tr>\n",
       "  </thead>\n",
       "  <tbody>\n",
       "    <tr>\n",
       "      <th>30</th>\n",
       "      <td>31</td>\n",
       "      <td>15589475</td>\n",
       "      <td>Azikiwe</td>\n",
       "      <td>591</td>\n",
       "      <td>Spain</td>\n",
       "      <td>Female</td>\n",
       "      <td>39</td>\n",
       "      <td>NaN</td>\n",
       "      <td>0.00</td>\n",
       "      <td>3</td>\n",
       "      <td>1</td>\n",
       "      <td>0</td>\n",
       "      <td>140469.38</td>\n",
       "      <td>1</td>\n",
       "    </tr>\n",
       "    <tr>\n",
       "      <th>48</th>\n",
       "      <td>49</td>\n",
       "      <td>15766205</td>\n",
       "      <td>Yin</td>\n",
       "      <td>550</td>\n",
       "      <td>Germany</td>\n",
       "      <td>Male</td>\n",
       "      <td>38</td>\n",
       "      <td>NaN</td>\n",
       "      <td>103391.38</td>\n",
       "      <td>1</td>\n",
       "      <td>0</td>\n",
       "      <td>1</td>\n",
       "      <td>90878.13</td>\n",
       "      <td>0</td>\n",
       "    </tr>\n",
       "    <tr>\n",
       "      <th>51</th>\n",
       "      <td>52</td>\n",
       "      <td>15768193</td>\n",
       "      <td>Trevisani</td>\n",
       "      <td>585</td>\n",
       "      <td>Germany</td>\n",
       "      <td>Male</td>\n",
       "      <td>36</td>\n",
       "      <td>NaN</td>\n",
       "      <td>146050.97</td>\n",
       "      <td>2</td>\n",
       "      <td>0</td>\n",
       "      <td>0</td>\n",
       "      <td>86424.57</td>\n",
       "      <td>0</td>\n",
       "    </tr>\n",
       "    <tr>\n",
       "      <th>53</th>\n",
       "      <td>54</td>\n",
       "      <td>15702298</td>\n",
       "      <td>Parkhill</td>\n",
       "      <td>655</td>\n",
       "      <td>Germany</td>\n",
       "      <td>Male</td>\n",
       "      <td>41</td>\n",
       "      <td>NaN</td>\n",
       "      <td>125561.97</td>\n",
       "      <td>1</td>\n",
       "      <td>0</td>\n",
       "      <td>0</td>\n",
       "      <td>164040.94</td>\n",
       "      <td>1</td>\n",
       "    </tr>\n",
       "    <tr>\n",
       "      <th>60</th>\n",
       "      <td>61</td>\n",
       "      <td>15651280</td>\n",
       "      <td>Hunter</td>\n",
       "      <td>742</td>\n",
       "      <td>Germany</td>\n",
       "      <td>Male</td>\n",
       "      <td>35</td>\n",
       "      <td>NaN</td>\n",
       "      <td>136857.00</td>\n",
       "      <td>1</td>\n",
       "      <td>0</td>\n",
       "      <td>0</td>\n",
       "      <td>84509.57</td>\n",
       "      <td>0</td>\n",
       "    </tr>\n",
       "    <tr>\n",
       "      <th>...</th>\n",
       "      <td>...</td>\n",
       "      <td>...</td>\n",
       "      <td>...</td>\n",
       "      <td>...</td>\n",
       "      <td>...</td>\n",
       "      <td>...</td>\n",
       "      <td>...</td>\n",
       "      <td>...</td>\n",
       "      <td>...</td>\n",
       "      <td>...</td>\n",
       "      <td>...</td>\n",
       "      <td>...</td>\n",
       "      <td>...</td>\n",
       "      <td>...</td>\n",
       "    </tr>\n",
       "    <tr>\n",
       "      <th>9944</th>\n",
       "      <td>9945</td>\n",
       "      <td>15703923</td>\n",
       "      <td>Cameron</td>\n",
       "      <td>744</td>\n",
       "      <td>Germany</td>\n",
       "      <td>Male</td>\n",
       "      <td>41</td>\n",
       "      <td>NaN</td>\n",
       "      <td>190409.34</td>\n",
       "      <td>2</td>\n",
       "      <td>1</td>\n",
       "      <td>1</td>\n",
       "      <td>138361.48</td>\n",
       "      <td>0</td>\n",
       "    </tr>\n",
       "    <tr>\n",
       "      <th>9956</th>\n",
       "      <td>9957</td>\n",
       "      <td>15707861</td>\n",
       "      <td>Nucci</td>\n",
       "      <td>520</td>\n",
       "      <td>France</td>\n",
       "      <td>Female</td>\n",
       "      <td>46</td>\n",
       "      <td>NaN</td>\n",
       "      <td>85216.61</td>\n",
       "      <td>1</td>\n",
       "      <td>1</td>\n",
       "      <td>0</td>\n",
       "      <td>117369.52</td>\n",
       "      <td>1</td>\n",
       "    </tr>\n",
       "    <tr>\n",
       "      <th>9964</th>\n",
       "      <td>9965</td>\n",
       "      <td>15642785</td>\n",
       "      <td>Douglas</td>\n",
       "      <td>479</td>\n",
       "      <td>France</td>\n",
       "      <td>Male</td>\n",
       "      <td>34</td>\n",
       "      <td>NaN</td>\n",
       "      <td>117593.48</td>\n",
       "      <td>2</td>\n",
       "      <td>0</td>\n",
       "      <td>0</td>\n",
       "      <td>113308.29</td>\n",
       "      <td>0</td>\n",
       "    </tr>\n",
       "    <tr>\n",
       "      <th>9985</th>\n",
       "      <td>9986</td>\n",
       "      <td>15586914</td>\n",
       "      <td>Nepean</td>\n",
       "      <td>659</td>\n",
       "      <td>France</td>\n",
       "      <td>Male</td>\n",
       "      <td>36</td>\n",
       "      <td>NaN</td>\n",
       "      <td>123841.49</td>\n",
       "      <td>2</td>\n",
       "      <td>1</td>\n",
       "      <td>0</td>\n",
       "      <td>96833.00</td>\n",
       "      <td>0</td>\n",
       "    </tr>\n",
       "    <tr>\n",
       "      <th>9999</th>\n",
       "      <td>10000</td>\n",
       "      <td>15628319</td>\n",
       "      <td>Walker</td>\n",
       "      <td>792</td>\n",
       "      <td>France</td>\n",
       "      <td>Female</td>\n",
       "      <td>28</td>\n",
       "      <td>NaN</td>\n",
       "      <td>130142.79</td>\n",
       "      <td>1</td>\n",
       "      <td>1</td>\n",
       "      <td>0</td>\n",
       "      <td>38190.78</td>\n",
       "      <td>0</td>\n",
       "    </tr>\n",
       "  </tbody>\n",
       "</table>\n",
       "<p>909 rows × 14 columns</p>\n",
       "</div>"
      ],
      "text/plain": [
       "      rownumber  customerid    surname  creditscore geography  gender  age  \\\n",
       "30           31    15589475    Azikiwe          591     Spain  Female   39   \n",
       "48           49    15766205        Yin          550   Germany    Male   38   \n",
       "51           52    15768193  Trevisani          585   Germany    Male   36   \n",
       "53           54    15702298   Parkhill          655   Germany    Male   41   \n",
       "60           61    15651280     Hunter          742   Germany    Male   35   \n",
       "...         ...         ...        ...          ...       ...     ...  ...   \n",
       "9944       9945    15703923    Cameron          744   Germany    Male   41   \n",
       "9956       9957    15707861      Nucci          520    France  Female   46   \n",
       "9964       9965    15642785    Douglas          479    France    Male   34   \n",
       "9985       9986    15586914     Nepean          659    France    Male   36   \n",
       "9999      10000    15628319     Walker          792    France  Female   28   \n",
       "\n",
       "      tenure    balance  numofproducts  hascrcard  isactivemember  \\\n",
       "30       NaN       0.00              3          1               0   \n",
       "48       NaN  103391.38              1          0               1   \n",
       "51       NaN  146050.97              2          0               0   \n",
       "53       NaN  125561.97              1          0               0   \n",
       "60       NaN  136857.00              1          0               0   \n",
       "...      ...        ...            ...        ...             ...   \n",
       "9944     NaN  190409.34              2          1               1   \n",
       "9956     NaN   85216.61              1          1               0   \n",
       "9964     NaN  117593.48              2          0               0   \n",
       "9985     NaN  123841.49              2          1               0   \n",
       "9999     NaN  130142.79              1          1               0   \n",
       "\n",
       "      estimatedsalary  exited  \n",
       "30          140469.38       1  \n",
       "48           90878.13       0  \n",
       "51           86424.57       0  \n",
       "53          164040.94       1  \n",
       "60           84509.57       0  \n",
       "...               ...     ...  \n",
       "9944        138361.48       0  \n",
       "9956        117369.52       1  \n",
       "9964        113308.29       0  \n",
       "9985         96833.00       0  \n",
       "9999         38190.78       0  \n",
       "\n",
       "[909 rows x 14 columns]"
      ]
     },
     "execution_count": 6,
     "metadata": {},
     "output_type": "execute_result"
    }
   ],
   "source": [
    "df[df['tenure'].isna()==True]"
   ]
  },
  {
   "cell_type": "markdown",
   "metadata": {},
   "source": [
    "В колонке Tenure есть пропуски и их 9.09% так как в колонке хранятся данные о том сколько лет человек является клиентом банка, что может повлиять на итоги исследования, можно было бы предположить что это 0, но 0 так же присутствыет в колонке, придется эти строки удалить."
   ]
  },
  {
   "cell_type": "code",
   "execution_count": 7,
   "metadata": {},
   "outputs": [],
   "source": [
    "#df = (df.dropna(subset=['tenure'])).reset_index(drop=True)\n",
    "df = df.fillna(-1)"
   ]
  },
  {
   "cell_type": "code",
   "execution_count": 8,
   "metadata": {},
   "outputs": [
    {
     "data": {
      "text/plain": [
       " 1.0     952\n",
       " 2.0     950\n",
       " 8.0     933\n",
       " 3.0     928\n",
       " 5.0     927\n",
       " 7.0     925\n",
       "-1.0     909\n",
       " 4.0     885\n",
       " 9.0     882\n",
       " 6.0     881\n",
       " 10.0    446\n",
       " 0.0     382\n",
       "Name: tenure, dtype: int64"
      ]
     },
     "execution_count": 8,
     "metadata": {},
     "output_type": "execute_result"
    }
   ],
   "source": [
    "df['tenure'].value_counts()"
   ]
  },
  {
   "cell_type": "code",
   "execution_count": 9,
   "metadata": {},
   "outputs": [],
   "source": [
    "df['tenure'] = df['tenure'].astype(object)"
   ]
  },
  {
   "cell_type": "code",
   "execution_count": 10,
   "metadata": {},
   "outputs": [
    {
     "data": {
      "text/plain": [
       "0"
      ]
     },
     "execution_count": 10,
     "metadata": {},
     "output_type": "execute_result"
    }
   ],
   "source": [
    "df.duplicated().sum()"
   ]
  },
  {
   "cell_type": "markdown",
   "metadata": {},
   "source": [
    "Дубликатов нет"
   ]
  },
  {
   "cell_type": "markdown",
   "metadata": {},
   "source": [
    "rownumber - лишняя колонка дублирующая индекс, как признак она не нужна.\n",
    "\n",
    "customerid - уникальный идентификатор клиента, для текущей задачи не нужен\n",
    "\n",
    "surname - фамилия клиента, для текужей задачи не нужна.\n",
    "\n"
   ]
  },
  {
   "cell_type": "code",
   "execution_count": 11,
   "metadata": {},
   "outputs": [],
   "source": [
    "data = df.drop(['rownumber','customerid','surname'],axis=1)"
   ]
  },
  {
   "cell_type": "code",
   "execution_count": 12,
   "metadata": {},
   "outputs": [
    {
     "name": "stdout",
     "output_type": "stream",
     "text": [
      "<class 'pandas.core.frame.DataFrame'>\n",
      "RangeIndex: 10000 entries, 0 to 9999\n",
      "Data columns (total 22 columns):\n",
      " #   Column             Non-Null Count  Dtype  \n",
      "---  ------             --------------  -----  \n",
      " 0   creditscore        10000 non-null  int64  \n",
      " 1   age                10000 non-null  int64  \n",
      " 2   balance            10000 non-null  float64\n",
      " 3   numofproducts      10000 non-null  int64  \n",
      " 4   hascrcard          10000 non-null  int64  \n",
      " 5   isactivemember     10000 non-null  int64  \n",
      " 6   estimatedsalary    10000 non-null  float64\n",
      " 7   exited             10000 non-null  int64  \n",
      " 8   geography_Germany  10000 non-null  uint8  \n",
      " 9   geography_Spain    10000 non-null  uint8  \n",
      " 10  gender_Male        10000 non-null  uint8  \n",
      " 11  tenure_0.0         10000 non-null  uint8  \n",
      " 12  tenure_1.0         10000 non-null  uint8  \n",
      " 13  tenure_2.0         10000 non-null  uint8  \n",
      " 14  tenure_3.0         10000 non-null  uint8  \n",
      " 15  tenure_4.0         10000 non-null  uint8  \n",
      " 16  tenure_5.0         10000 non-null  uint8  \n",
      " 17  tenure_6.0         10000 non-null  uint8  \n",
      " 18  tenure_7.0         10000 non-null  uint8  \n",
      " 19  tenure_8.0         10000 non-null  uint8  \n",
      " 20  tenure_9.0         10000 non-null  uint8  \n",
      " 21  tenure_10.0        10000 non-null  uint8  \n",
      "dtypes: float64(2), int64(6), uint8(14)\n",
      "memory usage: 761.8 KB\n"
     ]
    },
    {
     "data": {
      "text/html": [
       "<div>\n",
       "<style scoped>\n",
       "    .dataframe tbody tr th:only-of-type {\n",
       "        vertical-align: middle;\n",
       "    }\n",
       "\n",
       "    .dataframe tbody tr th {\n",
       "        vertical-align: top;\n",
       "    }\n",
       "\n",
       "    .dataframe thead th {\n",
       "        text-align: right;\n",
       "    }\n",
       "</style>\n",
       "<table border=\"1\" class=\"dataframe\">\n",
       "  <thead>\n",
       "    <tr style=\"text-align: right;\">\n",
       "      <th></th>\n",
       "      <th>creditscore</th>\n",
       "      <th>age</th>\n",
       "      <th>balance</th>\n",
       "      <th>numofproducts</th>\n",
       "      <th>hascrcard</th>\n",
       "      <th>isactivemember</th>\n",
       "      <th>estimatedsalary</th>\n",
       "      <th>exited</th>\n",
       "      <th>geography_Germany</th>\n",
       "      <th>geography_Spain</th>\n",
       "      <th>...</th>\n",
       "      <th>tenure_1.0</th>\n",
       "      <th>tenure_2.0</th>\n",
       "      <th>tenure_3.0</th>\n",
       "      <th>tenure_4.0</th>\n",
       "      <th>tenure_5.0</th>\n",
       "      <th>tenure_6.0</th>\n",
       "      <th>tenure_7.0</th>\n",
       "      <th>tenure_8.0</th>\n",
       "      <th>tenure_9.0</th>\n",
       "      <th>tenure_10.0</th>\n",
       "    </tr>\n",
       "  </thead>\n",
       "  <tbody>\n",
       "    <tr>\n",
       "      <th>0</th>\n",
       "      <td>619</td>\n",
       "      <td>42</td>\n",
       "      <td>0.00</td>\n",
       "      <td>1</td>\n",
       "      <td>1</td>\n",
       "      <td>1</td>\n",
       "      <td>101348.88</td>\n",
       "      <td>1</td>\n",
       "      <td>0</td>\n",
       "      <td>0</td>\n",
       "      <td>...</td>\n",
       "      <td>0</td>\n",
       "      <td>1</td>\n",
       "      <td>0</td>\n",
       "      <td>0</td>\n",
       "      <td>0</td>\n",
       "      <td>0</td>\n",
       "      <td>0</td>\n",
       "      <td>0</td>\n",
       "      <td>0</td>\n",
       "      <td>0</td>\n",
       "    </tr>\n",
       "    <tr>\n",
       "      <th>1</th>\n",
       "      <td>608</td>\n",
       "      <td>41</td>\n",
       "      <td>83807.86</td>\n",
       "      <td>1</td>\n",
       "      <td>0</td>\n",
       "      <td>1</td>\n",
       "      <td>112542.58</td>\n",
       "      <td>0</td>\n",
       "      <td>0</td>\n",
       "      <td>1</td>\n",
       "      <td>...</td>\n",
       "      <td>1</td>\n",
       "      <td>0</td>\n",
       "      <td>0</td>\n",
       "      <td>0</td>\n",
       "      <td>0</td>\n",
       "      <td>0</td>\n",
       "      <td>0</td>\n",
       "      <td>0</td>\n",
       "      <td>0</td>\n",
       "      <td>0</td>\n",
       "    </tr>\n",
       "    <tr>\n",
       "      <th>2</th>\n",
       "      <td>502</td>\n",
       "      <td>42</td>\n",
       "      <td>159660.80</td>\n",
       "      <td>3</td>\n",
       "      <td>1</td>\n",
       "      <td>0</td>\n",
       "      <td>113931.57</td>\n",
       "      <td>1</td>\n",
       "      <td>0</td>\n",
       "      <td>0</td>\n",
       "      <td>...</td>\n",
       "      <td>0</td>\n",
       "      <td>0</td>\n",
       "      <td>0</td>\n",
       "      <td>0</td>\n",
       "      <td>0</td>\n",
       "      <td>0</td>\n",
       "      <td>0</td>\n",
       "      <td>1</td>\n",
       "      <td>0</td>\n",
       "      <td>0</td>\n",
       "    </tr>\n",
       "    <tr>\n",
       "      <th>3</th>\n",
       "      <td>699</td>\n",
       "      <td>39</td>\n",
       "      <td>0.00</td>\n",
       "      <td>2</td>\n",
       "      <td>0</td>\n",
       "      <td>0</td>\n",
       "      <td>93826.63</td>\n",
       "      <td>0</td>\n",
       "      <td>0</td>\n",
       "      <td>0</td>\n",
       "      <td>...</td>\n",
       "      <td>1</td>\n",
       "      <td>0</td>\n",
       "      <td>0</td>\n",
       "      <td>0</td>\n",
       "      <td>0</td>\n",
       "      <td>0</td>\n",
       "      <td>0</td>\n",
       "      <td>0</td>\n",
       "      <td>0</td>\n",
       "      <td>0</td>\n",
       "    </tr>\n",
       "    <tr>\n",
       "      <th>4</th>\n",
       "      <td>850</td>\n",
       "      <td>43</td>\n",
       "      <td>125510.82</td>\n",
       "      <td>1</td>\n",
       "      <td>1</td>\n",
       "      <td>1</td>\n",
       "      <td>79084.10</td>\n",
       "      <td>0</td>\n",
       "      <td>0</td>\n",
       "      <td>1</td>\n",
       "      <td>...</td>\n",
       "      <td>0</td>\n",
       "      <td>1</td>\n",
       "      <td>0</td>\n",
       "      <td>0</td>\n",
       "      <td>0</td>\n",
       "      <td>0</td>\n",
       "      <td>0</td>\n",
       "      <td>0</td>\n",
       "      <td>0</td>\n",
       "      <td>0</td>\n",
       "    </tr>\n",
       "    <tr>\n",
       "      <th>...</th>\n",
       "      <td>...</td>\n",
       "      <td>...</td>\n",
       "      <td>...</td>\n",
       "      <td>...</td>\n",
       "      <td>...</td>\n",
       "      <td>...</td>\n",
       "      <td>...</td>\n",
       "      <td>...</td>\n",
       "      <td>...</td>\n",
       "      <td>...</td>\n",
       "      <td>...</td>\n",
       "      <td>...</td>\n",
       "      <td>...</td>\n",
       "      <td>...</td>\n",
       "      <td>...</td>\n",
       "      <td>...</td>\n",
       "      <td>...</td>\n",
       "      <td>...</td>\n",
       "      <td>...</td>\n",
       "      <td>...</td>\n",
       "      <td>...</td>\n",
       "    </tr>\n",
       "    <tr>\n",
       "      <th>9995</th>\n",
       "      <td>771</td>\n",
       "      <td>39</td>\n",
       "      <td>0.00</td>\n",
       "      <td>2</td>\n",
       "      <td>1</td>\n",
       "      <td>0</td>\n",
       "      <td>96270.64</td>\n",
       "      <td>0</td>\n",
       "      <td>0</td>\n",
       "      <td>0</td>\n",
       "      <td>...</td>\n",
       "      <td>0</td>\n",
       "      <td>0</td>\n",
       "      <td>0</td>\n",
       "      <td>0</td>\n",
       "      <td>1</td>\n",
       "      <td>0</td>\n",
       "      <td>0</td>\n",
       "      <td>0</td>\n",
       "      <td>0</td>\n",
       "      <td>0</td>\n",
       "    </tr>\n",
       "    <tr>\n",
       "      <th>9996</th>\n",
       "      <td>516</td>\n",
       "      <td>35</td>\n",
       "      <td>57369.61</td>\n",
       "      <td>1</td>\n",
       "      <td>1</td>\n",
       "      <td>1</td>\n",
       "      <td>101699.77</td>\n",
       "      <td>0</td>\n",
       "      <td>0</td>\n",
       "      <td>0</td>\n",
       "      <td>...</td>\n",
       "      <td>0</td>\n",
       "      <td>0</td>\n",
       "      <td>0</td>\n",
       "      <td>0</td>\n",
       "      <td>0</td>\n",
       "      <td>0</td>\n",
       "      <td>0</td>\n",
       "      <td>0</td>\n",
       "      <td>0</td>\n",
       "      <td>1</td>\n",
       "    </tr>\n",
       "    <tr>\n",
       "      <th>9997</th>\n",
       "      <td>709</td>\n",
       "      <td>36</td>\n",
       "      <td>0.00</td>\n",
       "      <td>1</td>\n",
       "      <td>0</td>\n",
       "      <td>1</td>\n",
       "      <td>42085.58</td>\n",
       "      <td>1</td>\n",
       "      <td>0</td>\n",
       "      <td>0</td>\n",
       "      <td>...</td>\n",
       "      <td>0</td>\n",
       "      <td>0</td>\n",
       "      <td>0</td>\n",
       "      <td>0</td>\n",
       "      <td>0</td>\n",
       "      <td>0</td>\n",
       "      <td>1</td>\n",
       "      <td>0</td>\n",
       "      <td>0</td>\n",
       "      <td>0</td>\n",
       "    </tr>\n",
       "    <tr>\n",
       "      <th>9998</th>\n",
       "      <td>772</td>\n",
       "      <td>42</td>\n",
       "      <td>75075.31</td>\n",
       "      <td>2</td>\n",
       "      <td>1</td>\n",
       "      <td>0</td>\n",
       "      <td>92888.52</td>\n",
       "      <td>1</td>\n",
       "      <td>1</td>\n",
       "      <td>0</td>\n",
       "      <td>...</td>\n",
       "      <td>0</td>\n",
       "      <td>0</td>\n",
       "      <td>1</td>\n",
       "      <td>0</td>\n",
       "      <td>0</td>\n",
       "      <td>0</td>\n",
       "      <td>0</td>\n",
       "      <td>0</td>\n",
       "      <td>0</td>\n",
       "      <td>0</td>\n",
       "    </tr>\n",
       "    <tr>\n",
       "      <th>9999</th>\n",
       "      <td>792</td>\n",
       "      <td>28</td>\n",
       "      <td>130142.79</td>\n",
       "      <td>1</td>\n",
       "      <td>1</td>\n",
       "      <td>0</td>\n",
       "      <td>38190.78</td>\n",
       "      <td>0</td>\n",
       "      <td>0</td>\n",
       "      <td>0</td>\n",
       "      <td>...</td>\n",
       "      <td>0</td>\n",
       "      <td>0</td>\n",
       "      <td>0</td>\n",
       "      <td>0</td>\n",
       "      <td>0</td>\n",
       "      <td>0</td>\n",
       "      <td>0</td>\n",
       "      <td>0</td>\n",
       "      <td>0</td>\n",
       "      <td>0</td>\n",
       "    </tr>\n",
       "  </tbody>\n",
       "</table>\n",
       "<p>10000 rows × 22 columns</p>\n",
       "</div>"
      ],
      "text/plain": [
       "      creditscore  age    balance  numofproducts  hascrcard  isactivemember  \\\n",
       "0             619   42       0.00              1          1               1   \n",
       "1             608   41   83807.86              1          0               1   \n",
       "2             502   42  159660.80              3          1               0   \n",
       "3             699   39       0.00              2          0               0   \n",
       "4             850   43  125510.82              1          1               1   \n",
       "...           ...  ...        ...            ...        ...             ...   \n",
       "9995          771   39       0.00              2          1               0   \n",
       "9996          516   35   57369.61              1          1               1   \n",
       "9997          709   36       0.00              1          0               1   \n",
       "9998          772   42   75075.31              2          1               0   \n",
       "9999          792   28  130142.79              1          1               0   \n",
       "\n",
       "      estimatedsalary  exited  geography_Germany  geography_Spain  ...  \\\n",
       "0           101348.88       1                  0                0  ...   \n",
       "1           112542.58       0                  0                1  ...   \n",
       "2           113931.57       1                  0                0  ...   \n",
       "3            93826.63       0                  0                0  ...   \n",
       "4            79084.10       0                  0                1  ...   \n",
       "...               ...     ...                ...              ...  ...   \n",
       "9995         96270.64       0                  0                0  ...   \n",
       "9996        101699.77       0                  0                0  ...   \n",
       "9997         42085.58       1                  0                0  ...   \n",
       "9998         92888.52       1                  1                0  ...   \n",
       "9999         38190.78       0                  0                0  ...   \n",
       "\n",
       "      tenure_1.0  tenure_2.0  tenure_3.0  tenure_4.0  tenure_5.0  tenure_6.0  \\\n",
       "0              0           1           0           0           0           0   \n",
       "1              1           0           0           0           0           0   \n",
       "2              0           0           0           0           0           0   \n",
       "3              1           0           0           0           0           0   \n",
       "4              0           1           0           0           0           0   \n",
       "...          ...         ...         ...         ...         ...         ...   \n",
       "9995           0           0           0           0           1           0   \n",
       "9996           0           0           0           0           0           0   \n",
       "9997           0           0           0           0           0           0   \n",
       "9998           0           0           1           0           0           0   \n",
       "9999           0           0           0           0           0           0   \n",
       "\n",
       "      tenure_7.0  tenure_8.0  tenure_9.0  tenure_10.0  \n",
       "0              0           0           0            0  \n",
       "1              0           0           0            0  \n",
       "2              0           1           0            0  \n",
       "3              0           0           0            0  \n",
       "4              0           0           0            0  \n",
       "...          ...         ...         ...          ...  \n",
       "9995           0           0           0            0  \n",
       "9996           0           0           0            1  \n",
       "9997           1           0           0            0  \n",
       "9998           0           0           0            0  \n",
       "9999           0           0           0            0  \n",
       "\n",
       "[10000 rows x 22 columns]"
      ]
     },
     "execution_count": 12,
     "metadata": {},
     "output_type": "execute_result"
    }
   ],
   "source": [
    "data = pd.get_dummies(data, drop_first=True)\n",
    "data.info()\n",
    "data"
   ]
  },
  {
   "cell_type": "markdown",
   "metadata": {},
   "source": [
    "Данные готовы к исследованию"
   ]
  },
  {
   "cell_type": "markdown",
   "metadata": {},
   "source": [
    "## Исследование задачи"
   ]
  },
  {
   "cell_type": "markdown",
   "metadata": {},
   "source": [
    "Исследуйте баланс классов, обучите модель без учёта дисбаланса. Кратко опишите выводы."
   ]
  },
  {
   "cell_type": "code",
   "execution_count": 13,
   "metadata": {
    "scrolled": false
   },
   "outputs": [
    {
     "name": "stdout",
     "output_type": "stream",
     "text": [
      "(6000, 21) (2000, 21) (2000, 21)\n",
      "(6000,) (2000,) (2000,)\n"
     ]
    }
   ],
   "source": [
    "target = data['exited']\n",
    "features = data.drop('exited', axis=1)\n",
    "\n",
    "features_train, features_valid, target_train, target_valid = train_test_split(features, target, test_size=0.4, \n",
    "                                                                              random_state=12345)\n",
    "features_valid, features_test, target_valid, target_test = train_test_split(features_valid, target_valid, test_size=0.5, \n",
    "                                                                              random_state=12345)\n",
    "print(features_train.shape, features_valid.shape, features_test.shape)\n",
    "print(target_train.shape, target_valid.shape, target_test.shape)"
   ]
  },
  {
   "cell_type": "code",
   "execution_count": 14,
   "metadata": {},
   "outputs": [],
   "source": [
    "numeric = ['creditscore', 'age', 'balance', 'estimatedsalary']"
   ]
  },
  {
   "cell_type": "code",
   "execution_count": 15,
   "metadata": {},
   "outputs": [],
   "source": [
    "pd.options.mode.chained_assignment = None\n",
    "scaler = StandardScaler()\n",
    "scaler.fit(features_train[numeric]) \n",
    "features_train[numeric] = scaler.transform(features_train[numeric])\n",
    "features_valid[numeric] = scaler.transform(features_valid[numeric])\n",
    "features_test[numeric] = scaler.transform(features_test[numeric])"
   ]
  },
  {
   "cell_type": "code",
   "execution_count": 16,
   "metadata": {
    "scrolled": true
   },
   "outputs": [
    {
     "data": {
      "text/plain": [
       "0    7963\n",
       "1    2037\n",
       "Name: exited, dtype: int64"
      ]
     },
     "execution_count": 16,
     "metadata": {},
     "output_type": "execute_result"
    }
   ],
   "source": [
    "target.value_counts()"
   ]
  },
  {
   "cell_type": "markdown",
   "metadata": {},
   "source": [
    "Дирсбаланс классов в соотношении 1:3.9"
   ]
  },
  {
   "cell_type": "markdown",
   "metadata": {},
   "source": [
    "#### Решающее дерево"
   ]
  },
  {
   "cell_type": "code",
   "execution_count": 17,
   "metadata": {},
   "outputs": [
    {
     "name": "stderr",
     "output_type": "stream",
     "text": [
      "100%|██████████████████████████████████████████████████████████████████████████████████| 28/28 [00:00<00:00, 30.86it/s]"
     ]
    },
    {
     "name": "stdout",
     "output_type": "stream",
     "text": [
      "Best depth 6 F1-score 0.5705614567526556\n"
     ]
    },
    {
     "name": "stderr",
     "output_type": "stream",
     "text": [
      "\n"
     ]
    }
   ],
   "source": [
    "best_depth_dtc = 0\n",
    "best_result_dtc = 0\n",
    "for depth in tqdm(range(2, 30)):\n",
    "    model = DecisionTreeClassifier(random_state=12345, max_depth=depth)\n",
    "    model.fit(features_train, target_train)\n",
    "    predicted_valid = model.predict(features_valid)\n",
    "    result = f1_score(target_valid, predicted_valid)\n",
    "    if result > best_result_dtc:\n",
    "        best_depth_dtc = depth\n",
    "        best_result_dtc = result\n",
    "print('Best depth', best_depth_dtc,'F1-score', best_result_dtc)"
   ]
  },
  {
   "cell_type": "markdown",
   "metadata": {},
   "source": [
    "Лучший результат получаем при глубине 6"
   ]
  },
  {
   "cell_type": "markdown",
   "metadata": {},
   "source": [
    "#### Случайный лес"
   ]
  },
  {
   "cell_type": "code",
   "execution_count": 18,
   "metadata": {},
   "outputs": [
    {
     "name": "stderr",
     "output_type": "stream",
     "text": [
      "100%|██████████████████████████████████████████████████████████████████████████████████| 11/11 [05:46<00:00, 31.49s/it]"
     ]
    },
    {
     "name": "stdout",
     "output_type": "stream",
     "text": [
      "N estimators 100 Depth 17 F1-score 0.5921450151057401\n"
     ]
    },
    {
     "name": "stderr",
     "output_type": "stream",
     "text": [
      "\n"
     ]
    }
   ],
   "source": [
    "best_est_rfc = 0\n",
    "best_depth_rfc = 0\n",
    "best_result_rfc = 0\n",
    "\n",
    "for depth in tqdm(range(1, 22, 2)):    \n",
    "    for estimator in range(100, 1001, 100):\n",
    "        model =  RandomForestClassifier(random_state=12345, n_estimators=estimator, max_depth = depth)\n",
    "        model.fit(features_train, target_train)\n",
    "        predicted_valid = model.predict(features_valid)\n",
    "        result = f1_score(target_valid, predicted_valid)\n",
    "        if result > best_result_rfc:\n",
    "            best_depth_rfc = depth\n",
    "            best_est_rfc = estimator\n",
    "            best_result_rfc = result\n",
    "print('N estimators', best_est_rfc,'Depth',best_depth_rfc,'F1-score', best_result_rfc)"
   ]
  },
  {
   "cell_type": "markdown",
   "metadata": {},
   "source": [
    "Лучшие результат при N estimators = 100 Depth = 17"
   ]
  },
  {
   "cell_type": "code",
   "execution_count": 19,
   "metadata": {
    "scrolled": true
   },
   "outputs": [
    {
     "name": "stderr",
     "output_type": "stream",
     "text": [
      "100%|██████████████████████████████████████████████████████████████████████████████████| 11/11 [07:24<00:00, 40.38s/it]"
     ]
    },
    {
     "name": "stdout",
     "output_type": "stream",
     "text": [
      "N estimators 49 Depth 21 F1-score 0.5985185185185184\n"
     ]
    },
    {
     "name": "stderr",
     "output_type": "stream",
     "text": [
      "\n"
     ]
    }
   ],
   "source": [
    "for depth in tqdm(range(1, 22, 2)):\n",
    "    for estimator in range(10, 120, 1):\n",
    "        model =  RandomForestClassifier(random_state=12345, n_estimators=estimator, max_depth=depth)\n",
    "        model.fit(features_train, target_train)\n",
    "        predicted_valid = model.predict(features_valid)\n",
    "        result = f1_score(target_valid, predicted_valid)\n",
    "        if result > best_result_rfc:\n",
    "            best_est_rfc = estimator\n",
    "            best_depth_rfc = depth\n",
    "            best_result_rfc = result\n",
    "print('N estimators', best_est_rfc,'Depth',best_depth_rfc,'F1-score', best_result_rfc)"
   ]
  },
  {
   "cell_type": "markdown",
   "metadata": {},
   "source": [
    "Лучший результат при n_estimators = 49 Depth = 21"
   ]
  },
  {
   "cell_type": "markdown",
   "metadata": {},
   "source": [
    "#### Логистическая регрессия"
   ]
  },
  {
   "cell_type": "code",
   "execution_count": 20,
   "metadata": {},
   "outputs": [
    {
     "name": "stdout",
     "output_type": "stream",
     "text": [
      "F1 0.32830820770519265\n"
     ]
    }
   ],
   "source": [
    "model =  LogisticRegression(random_state=12345, solver='liblinear')\n",
    "model.fit(features_train, target_train)\n",
    "predicted_valid = model.predict(features_valid)\n",
    "print('F1', f1_score(target_valid, predicted_valid))"
   ]
  },
  {
   "cell_type": "markdown",
   "metadata": {},
   "source": [
    "Низкий результат"
   ]
  },
  {
   "cell_type": "markdown",
   "metadata": {},
   "source": [
    "#### Оценка accuracy, precision и recall, F-метрикa."
   ]
  },
  {
   "cell_type": "code",
   "execution_count": 21,
   "metadata": {
    "scrolled": true
   },
   "outputs": [
    {
     "name": "stdout",
     "output_type": "stream",
     "text": [
      "Решающее дерево\n",
      "Точность 0.8585\n",
      "Precision 0.7800829875518672\n",
      "Recall 0.44976076555023925\n",
      "F1 0.5705614567526556\n",
      "\n",
      "Случайный лес\n",
      "Точность 0.8645\n",
      "Precision 0.7859922178988327\n",
      "Recall 0.48325358851674644\n",
      "F1 0.5985185185185184\n",
      "\n",
      "Логистическая регрессия\n",
      "Точность 0.7995\n",
      "Precision 0.547486033519553\n",
      "Recall 0.23444976076555024\n",
      "F1 0.32830820770519265\n",
      "\n"
     ]
    }
   ],
   "source": [
    "model = DecisionTreeClassifier(random_state=12345, max_depth=best_depth_dtc)\n",
    "model.fit(features_train, target_train)\n",
    "predicted_valid = model.predict(features_valid)\n",
    "print('Решающее дерево')\n",
    "print('Точность', accuracy_score(target_valid, predicted_valid))\n",
    "print('Precision', precision_score(target_valid, predicted_valid))\n",
    "print('Recall', recall_score(target_valid, predicted_valid))\n",
    "print('F1', f1_score(target_valid, predicted_valid))\n",
    "print()\n",
    "\n",
    "model = RandomForestClassifier(random_state=12345, n_estimators=best_est_rfc, max_depth=best_depth_rfc)\n",
    "model.fit(features_train, target_train)\n",
    "predicted_valid = model.predict(features_valid)\n",
    "print('Случайный лес')\n",
    "print('Точность', accuracy_score(target_valid, predicted_valid))\n",
    "print('Precision', precision_score(target_valid, predicted_valid))\n",
    "print('Recall', recall_score(target_valid, predicted_valid))\n",
    "print('F1', f1_score(target_valid, predicted_valid))\n",
    "print()\n",
    "\n",
    "model = LogisticRegression(random_state=12345, solver='liblinear')\n",
    "model.fit(features_train, target_train)\n",
    "predicted_valid = model.predict(features_valid)\n",
    "print('Логистическая регрессия')\n",
    "print('Точность', accuracy_score(target_valid, predicted_valid))\n",
    "print('Precision', precision_score(target_valid, predicted_valid))\n",
    "print('Recall', recall_score(target_valid, predicted_valid))\n",
    "print('F1', f1_score(target_valid, predicted_valid))\n",
    "print()"
   ]
  },
  {
   "cell_type": "code",
   "execution_count": 22,
   "metadata": {},
   "outputs": [
    {
     "name": "stdout",
     "output_type": "stream",
     "text": [
      "AUC-ROC DecisionTreeClassifier 0.8195874339912533\n",
      "AUC-ROC RandomForestClassifier 0.8398686781313702\n",
      "AUC-ROC LogisticRegression 0.759840066779983\n"
     ]
    },
    {
     "data": {
      "image/png": "[encoded data removed]",
      "text/plain": [
       "<Figure size 1080x720 with 1 Axes>"
      ]
     },
     "metadata": {
      "needs_background": "light"
     },
     "output_type": "display_data"
    }
   ],
   "source": [
    "plt.figure(figsize=[15,10])\n",
    "\n",
    "plt.plot([0, 1], [0, 1], linestyle='-', label='RandomModel')\n",
    "\n",
    "\n",
    "model = DecisionTreeClassifier(random_state=12345, max_depth=best_depth_dtc)\n",
    "model.fit(features_train, target_train)\n",
    "probabilities_valid = model.predict_proba(features_valid)\n",
    "probabilities_one_valid = probabilities_valid[:, 1]\n",
    "fpr, tpr, thresholds = roc_curve(target_valid, probabilities_one_valid)\n",
    "auc_roc = roc_auc_score(target_valid, probabilities_one_valid)\n",
    "print('AUC-ROC DecisionTreeClassifier',auc_roc)\n",
    "plt.plot(fpr, tpr, label='DecisionTreeClassifier')\n",
    "\n",
    "model = RandomForestClassifier(random_state=12345, n_estimators=best_est_rfc, max_depth=best_depth_rfc)\n",
    "model.fit(features_train, target_train)\n",
    "probabilities_valid = model.predict_proba(features_valid)\n",
    "probabilities_one_valid = probabilities_valid[:, 1]\n",
    "fpr, tpr, thresholds = roc_curve(target_valid, probabilities_one_valid)\n",
    "auc_roc = roc_auc_score(target_valid, probabilities_one_valid)\n",
    "print('AUC-ROC RandomForestClassifier',auc_roc)\n",
    "plt.plot(fpr, tpr, label='RandomForestClassifier')\n",
    "\n",
    "model = LogisticRegression(random_state=12345, solver='liblinear')\n",
    "model.fit(features_train, target_train)\n",
    "probabilities_valid = model.predict_proba(features_valid)\n",
    "probabilities_one_valid = probabilities_valid[:, 1]\n",
    "fpr, tpr, thresholds = roc_curve(target_valid, probabilities_one_valid)\n",
    "auc_roc = roc_auc_score(target_valid, probabilities_one_valid)\n",
    "print('AUC-ROC LogisticRegression',auc_roc)\n",
    "plt.plot(fpr, tpr, label='LogisticRegression')\n",
    "\n",
    "plt.xlim([0,1])\n",
    "plt.ylim([0,1])\n",
    "\n",
    "plt.xlabel(\"False Positive Rate\")\n",
    "plt.ylabel(\"True Positive Rate\")\n",
    "\n",
    "plt.legend(loc='lower right', fontsize='x-large')\n",
    "\n",
    "plt.title(\"ROC-кривая\")\n",
    "plt.show()"
   ]
  },
  {
   "cell_type": "markdown",
   "metadata": {},
   "source": [
    "По полученным данным делаем вывод что RandomForestClassifier лучше по F1 и AUC-ROC"
   ]
  },
  {
   "cell_type": "markdown",
   "metadata": {},
   "source": [
    "## Борьба с дисбалансом"
   ]
  },
  {
   "cell_type": "markdown",
   "metadata": {},
   "source": [
    "#### Взвешивание классов"
   ]
  },
  {
   "cell_type": "code",
   "execution_count": 23,
   "metadata": {},
   "outputs": [
    {
     "name": "stderr",
     "output_type": "stream",
     "text": [
      "100%|██████████████████████████████████████████████████████████████████████████████████| 28/28 [00:00<00:00, 30.73it/s]"
     ]
    },
    {
     "name": "stdout",
     "output_type": "stream",
     "text": [
      "Best depth 5 F1-score 0.5948827292110873\n",
      "Решающее дерево\n",
      "Точность 0.785\n",
      "Precision 0.48598130841121495\n",
      "Recall 0.49760765550239233\n",
      "F1 0.49172576832151305\n",
      "\n"
     ]
    },
    {
     "name": "stderr",
     "output_type": "stream",
     "text": [
      "\n"
     ]
    }
   ],
   "source": [
    "'''\n",
    "model = DecisionTreeClassifier(random_state=12345, max_depth=best_depth_dtc, class_weight='balanced')\n",
    "model.fit(features_train, target_train)\n",
    "predicted_valid = model.predict(features_valid)\n",
    "\n",
    "'''\n",
    "best_depth_dtc_b = 0\n",
    "best_result_dtc_b = 0\n",
    "for depth in tqdm(range(2, 30)):\n",
    "    model = DecisionTreeClassifier(random_state=12345, max_depth=depth,class_weight='balanced')\n",
    "    model.fit(features_train, target_train)\n",
    "    predicted_valid = model.predict(features_valid)\n",
    "    result = f1_score(target_valid, predicted_valid)\n",
    "    if result > best_result_dtc_b:\n",
    "        best_depth_dtc_b = depth\n",
    "        best_result_dtc_b = result\n",
    "print('Best depth', best_depth_dtc_b,'F1-score', best_result_dtc_b)\n",
    "print('Решающее дерево')\n",
    "print('Точность', accuracy_score(target_valid, predicted_valid))\n",
    "print('Precision', precision_score(target_valid, predicted_valid))\n",
    "print('Recall', recall_score(target_valid, predicted_valid))\n",
    "print('F1', f1_score(target_valid, predicted_valid))\n",
    "print()"
   ]
  },
  {
   "cell_type": "code",
   "execution_count": 24,
   "metadata": {},
   "outputs": [
    {
     "name": "stderr",
     "output_type": "stream",
     "text": [
      "100%|██████████████████████████████████████████████████████████████████████████████████| 11/11 [05:42<00:00, 31.11s/it]"
     ]
    },
    {
     "name": "stdout",
     "output_type": "stream",
     "text": [
      "N estimators 500 Depth 9 F1-score 0.6403607666290869\n",
      "Случайный лес\n",
      "Точность 0.8615\n",
      "Precision 0.8\n",
      "Recall 0.44976076555023925\n",
      "F1 0.5758039816232772\n",
      "\n"
     ]
    },
    {
     "name": "stderr",
     "output_type": "stream",
     "text": [
      "\n"
     ]
    }
   ],
   "source": [
    "'''\n",
    "model = RandomForestClassifier(random_state=12345, n_estimators=best_est_rfc, max_depth=best_depth_rfc, class_weight='balanced')\n",
    "model.fit(features_train, target_train)\n",
    "predicted_valid = model.predict(features_valid)\n",
    "'''\n",
    "best_est_rfc_b = 0\n",
    "best_depth_rfc_b = 0\n",
    "best_result_rfc_b = 0\n",
    "for depth in tqdm(range(1, 22, 2)):    \n",
    "    for estimator in range(100, 1001, 100):\n",
    "        model =  RandomForestClassifier(random_state=12345, n_estimators=estimator,max_depth=depth, class_weight='balanced')\n",
    "        model.fit(features_train, target_train)\n",
    "        predicted_valid = model.predict(features_valid)\n",
    "        result = f1_score(target_valid, predicted_valid)\n",
    "        if result > best_result_rfc_b:\n",
    "            best_depth_rfc_b = depth\n",
    "            best_est_rfc_b = estimator\n",
    "            best_result_rfc_b = result\n",
    "print('N estimators', best_est_rfc_b,'Depth',best_depth_rfc_b,'F1-score', best_result_rfc_b)\n",
    "print('Случайный лес')\n",
    "print('Точность', accuracy_score(target_valid, predicted_valid))\n",
    "print('Precision', precision_score(target_valid, predicted_valid))\n",
    "print('Recall', recall_score(target_valid, predicted_valid))\n",
    "print('F1', f1_score(target_valid, predicted_valid))\n",
    "print()"
   ]
  },
  {
   "cell_type": "code",
   "execution_count": 25,
   "metadata": {},
   "outputs": [
    {
     "name": "stdout",
     "output_type": "stream",
     "text": [
      "Логистическая регрессия\n",
      "Точность 0.7045\n",
      "Precision 0.38294993234100133\n",
      "Recall 0.6770334928229665\n",
      "F1 0.4891961970613656\n",
      "\n"
     ]
    }
   ],
   "source": [
    "model = LogisticRegression(random_state=12345, solver='liblinear', class_weight='balanced')\n",
    "model.fit(features_train, target_train)\n",
    "predicted_valid = model.predict(features_valid)\n",
    "print('Логистическая регрессия')\n",
    "print('Точность', accuracy_score(target_valid, predicted_valid))\n",
    "print('Precision', precision_score(target_valid, predicted_valid))\n",
    "print('Recall', recall_score(target_valid, predicted_valid))\n",
    "print('F1', f1_score(target_valid, predicted_valid))\n",
    "print()"
   ]
  },
  {
   "cell_type": "markdown",
   "metadata": {},
   "source": [
    "F1-мера выросла у Логистической регресии,у Решающего дерева и Случайного леса снизилась, по сравнеию с дисбалансными данными.\n",
    "\n",
    "Лучшей моделью себя показал Случайный лес по F1-мере."
   ]
  },
  {
   "cell_type": "markdown",
   "metadata": {},
   "source": [
    "#### Уменьшение выборки"
   ]
  },
  {
   "cell_type": "code",
   "execution_count": 26,
   "metadata": {},
   "outputs": [
    {
     "name": "stdout",
     "output_type": "stream",
     "text": [
      "0    1201\n",
      "1    1196\n",
      "Name: exited, dtype: int64\n"
     ]
    }
   ],
   "source": [
    "def downsample(features, target, fraction):\n",
    "    features_zeros = features[target == 0]\n",
    "    features_ones = features[target == 1]\n",
    "    target_zeros = target[target == 0]\n",
    "    target_ones = target[target == 1]\n",
    "\n",
    "    features_downsampled = pd.concat(\n",
    "        [features_zeros.sample(frac=fraction, random_state=12345)] + [features_ones])\n",
    "    target_downsampled = pd.concat(\n",
    "        [target_zeros.sample(frac=fraction, random_state=12345)] + [target_ones])\n",
    "    \n",
    "    features_downsampled, target_downsampled = shuffle(\n",
    "        features_downsampled, target_downsampled, random_state=12345)\n",
    "    \n",
    "    return features_downsampled, target_downsampled\n",
    "\n",
    "features_downsampled, target_downsampled = downsample(features_train, target_train, 0.25)\n",
    "\n",
    "print(target_downsampled.value_counts())"
   ]
  },
  {
   "cell_type": "code",
   "execution_count": 27,
   "metadata": {
    "scrolled": true
   },
   "outputs": [
    {
     "name": "stdout",
     "output_type": "stream",
     "text": [
      "Решающее дерево\n",
      "Точность 0.776\n",
      "Precision 0.47641509433962265\n",
      "Recall 0.7248803827751196\n",
      "F1 0.5749525616698292\n",
      "\n",
      "Случайный лес\n",
      "Точность 0.766\n",
      "Precision 0.46279761904761907\n",
      "Recall 0.7440191387559809\n",
      "F1 0.5706422018348625\n",
      "\n",
      "Логистическая регрессия\n",
      "Точность 0.6995\n",
      "Precision 0.37718120805369126\n",
      "Recall 0.6722488038277512\n",
      "F1 0.48323301805674973\n",
      "\n"
     ]
    }
   ],
   "source": [
    "model = DecisionTreeClassifier(random_state=12345, max_depth=best_depth_dtc)\n",
    "model.fit(features_downsampled, target_downsampled)\n",
    "predicted_valid = model.predict(features_valid)\n",
    "print('Решающее дерево')\n",
    "print('Точность', accuracy_score(target_valid, predicted_valid))\n",
    "print('Precision', precision_score(target_valid, predicted_valid))\n",
    "print('Recall', recall_score(target_valid, predicted_valid))\n",
    "print('F1', f1_score(target_valid, predicted_valid))\n",
    "print()\n",
    "\n",
    "model = RandomForestClassifier(random_state=12345, n_estimators=best_est_rfc, max_depth=best_depth_rfc)\n",
    "model.fit(features_downsampled, target_downsampled)\n",
    "predicted_valid = model.predict(features_valid)\n",
    "print('Случайный лес')\n",
    "print('Точность', accuracy_score(target_valid, predicted_valid))\n",
    "print('Precision', precision_score(target_valid, predicted_valid))\n",
    "print('Recall', recall_score(target_valid, predicted_valid))\n",
    "print('F1', f1_score(target_valid, predicted_valid))\n",
    "print()\n",
    "\n",
    "model = LogisticRegression(random_state=12345, solver='liblinear')\n",
    "model.fit(features_downsampled, target_downsampled)\n",
    "predicted_valid = model.predict(features_valid)\n",
    "print('Логистическая регрессия')\n",
    "print('Точность', accuracy_score(target_valid, predicted_valid))\n",
    "print('Precision', precision_score(target_valid, predicted_valid))\n",
    "print('Recall', recall_score(target_valid, predicted_valid))\n",
    "print('F1', f1_score(target_valid, predicted_valid))\n",
    "print()"
   ]
  },
  {
   "cell_type": "markdown",
   "metadata": {},
   "source": [
    "F1-мера так же выросла у Логистической регресии, по сравнеию с дисбалансными данными.\n",
    "\n",
    "Лучшей моделью себя показал Случайный лес по F1-мере."
   ]
  },
  {
   "cell_type": "markdown",
   "metadata": {},
   "source": [
    "#### Увеличение выборки"
   ]
  },
  {
   "cell_type": "code",
   "execution_count": 28,
   "metadata": {},
   "outputs": [
    {
     "name": "stdout",
     "output_type": "stream",
     "text": [
      "0    4804\n",
      "1    4784\n",
      "Name: exited, dtype: int64\n"
     ]
    }
   ],
   "source": [
    "def upsample(features, target, repeat):\n",
    "    features_zeros = features[target == 0]\n",
    "    features_ones = features[target == 1]\n",
    "    target_zeros = target[target == 0]\n",
    "    target_ones = target[target == 1]\n",
    "\n",
    "    features_upsampled = pd.concat([features_zeros] + [features_ones] * repeat)\n",
    "    target_upsampled = pd.concat([target_zeros] + [target_ones] * repeat)\n",
    "    \n",
    "    features_upsampled, target_upsampled = shuffle(\n",
    "        features_upsampled, target_upsampled, random_state=12345)\n",
    "    \n",
    "    return features_upsampled, target_upsampled\n",
    "\n",
    "features_upsampled, target_upsampled = upsample(features_train, target_train, 4)\n",
    "\n",
    "print(target_upsampled.value_counts())"
   ]
  },
  {
   "cell_type": "code",
   "execution_count": 29,
   "metadata": {
    "scrolled": true
   },
   "outputs": [
    {
     "name": "stdout",
     "output_type": "stream",
     "text": [
      "Решающее дерево\n",
      "Точность 0.768\n",
      "Precision 0.46417445482866043\n",
      "Recall 0.7129186602870813\n",
      "F1 0.5622641509433962\n",
      "\n",
      "Случайный лес\n",
      "Точность 0.853\n",
      "Precision 0.6823529411764706\n",
      "Recall 0.5550239234449761\n",
      "F1 0.612137203166227\n",
      "\n",
      "Логистическая регрессия\n",
      "Точность 0.7045\n",
      "Precision 0.38294993234100133\n",
      "Recall 0.6770334928229665\n",
      "F1 0.4891961970613656\n",
      "\n"
     ]
    }
   ],
   "source": [
    "model = DecisionTreeClassifier(random_state=12345, max_depth=best_depth_dtc)\n",
    "model.fit(features_upsampled, target_upsampled)\n",
    "predicted_valid = model.predict(features_valid)\n",
    "print('Решающее дерево')\n",
    "print('Точность', accuracy_score(target_valid, predicted_valid))\n",
    "print('Precision', precision_score(target_valid, predicted_valid))\n",
    "print('Recall', recall_score(target_valid, predicted_valid))\n",
    "print('F1', f1_score(target_valid, predicted_valid))\n",
    "print()\n",
    "\n",
    "model = RandomForestClassifier(random_state=12345, n_estimators=best_est_rfc, max_depth=best_depth_rfc)\n",
    "model.fit(features_upsampled, target_upsampled)\n",
    "predicted_valid = model.predict(features_valid)\n",
    "print('Случайный лес')\n",
    "print('Точность', accuracy_score(target_valid, predicted_valid))\n",
    "print('Precision', precision_score(target_valid, predicted_valid))\n",
    "print('Recall', recall_score(target_valid, predicted_valid))\n",
    "print('F1', f1_score(target_valid, predicted_valid))\n",
    "print()\n",
    "\n",
    "model = LogisticRegression(random_state=12345, solver='liblinear')\n",
    "model.fit(features_upsampled, target_upsampled)\n",
    "predicted_valid = model.predict(features_valid)\n",
    "print('Логистическая регрессия')\n",
    "print('Точность', accuracy_score(target_valid, predicted_valid))\n",
    "print('Precision', precision_score(target_valid, predicted_valid))\n",
    "print('Recall', recall_score(target_valid, predicted_valid))\n",
    "print('F1', f1_score(target_valid, predicted_valid))\n",
    "print()"
   ]
  },
  {
   "cell_type": "markdown",
   "metadata": {},
   "source": [
    "F1-мера выросла у Логистической регресси по сравнению с дисбалансными данными.\n",
    "\n",
    "Лучшей моделью по F1-мере стал Случайный лес."
   ]
  },
  {
   "cell_type": "markdown",
   "metadata": {},
   "source": [
    "#### ROC-кривая и AUC-ROC для посленнего измененного баланса."
   ]
  },
  {
   "cell_type": "code",
   "execution_count": 30,
   "metadata": {},
   "outputs": [
    {
     "name": "stdout",
     "output_type": "stream",
     "text": [
      "AUC-ROC DecisionTreeClassifier 0.8070608943920541\n",
      "AUC-ROC RandomForestClassifier 0.8331884114953515\n",
      "AUC-ROC LogisticRegression 0.764313236833032\n"
     ]
    },
    {
     "data": {
      "image/png": "[encoded data removed]",
      "text/plain": [
       "<Figure size 1080x720 with 1 Axes>"
      ]
     },
     "metadata": {
      "needs_background": "light"
     },
     "output_type": "display_data"
    }
   ],
   "source": [
    "plt.figure(figsize=[15,10])\n",
    "\n",
    "plt.plot([0, 1], [0, 1], linestyle='-', label='RandomModel')\n",
    "\n",
    "\n",
    "model = DecisionTreeClassifier(random_state=12345, max_depth=best_depth_dtc)\n",
    "model.fit(features_upsampled, target_upsampled)\n",
    "probabilities_valid = model.predict_proba(features_valid)\n",
    "probabilities_one_valid = probabilities_valid[:, 1]\n",
    "fpr, tpr, thresholds = roc_curve(target_valid, probabilities_one_valid)\n",
    "auc_roc = roc_auc_score(target_valid, probabilities_one_valid)\n",
    "print('AUC-ROC DecisionTreeClassifier',auc_roc)\n",
    "plt.plot(fpr, tpr, label='DecisionTreeClassifier')\n",
    "\n",
    "model = RandomForestClassifier(random_state=12345, n_estimators=best_est_rfc, max_depth=best_depth_rfc)\n",
    "model.fit(features_upsampled, target_upsampled)\n",
    "probabilities_valid = model.predict_proba(features_valid)\n",
    "probabilities_one_valid = probabilities_valid[:, 1]\n",
    "fpr, tpr, thresholds = roc_curve(target_valid, probabilities_one_valid)\n",
    "auc_roc = roc_auc_score(target_valid, probabilities_one_valid)\n",
    "print('AUC-ROC RandomForestClassifier',auc_roc)\n",
    "plt.plot(fpr, tpr, label='RandomForestClassifier')\n",
    "\n",
    "model = LogisticRegression(random_state=12345, solver='liblinear')\n",
    "model.fit(features_upsampled, target_upsampled)\n",
    "probabilities_valid = model.predict_proba(features_valid)\n",
    "probabilities_one_valid = probabilities_valid[:, 1]\n",
    "fpr, tpr, thresholds = roc_curve(target_valid, probabilities_one_valid)\n",
    "auc_roc = roc_auc_score(target_valid, probabilities_one_valid)\n",
    "print('AUC-ROC LogisticRegression',auc_roc)\n",
    "plt.plot(fpr, tpr, label='LogisticRegression')\n",
    "\n",
    "plt.xlim([0,1])\n",
    "plt.ylim([0,1])\n",
    "\n",
    "plt.xlabel(\"False Positive Rate\")\n",
    "plt.ylabel(\"True Positive Rate\")\n",
    "\n",
    "plt.legend(loc='lower right', fontsize='x-large')\n",
    "\n",
    "plt.title(\"ROC-кривая\")\n",
    "plt.show()"
   ]
  },
  {
   "cell_type": "markdown",
   "metadata": {},
   "source": [
    "Дисбаланс влияет на модели в худшую сторону. \n",
    "\n",
    "Лучшим решением стало увеличение классов.\n",
    "\n",
    "Выравние классов в выборке привело к резкому росту параметра recall и небольшому понижению percison, в среднем F-мера выросла."
   ]
  },
  {
   "cell_type": "markdown",
   "metadata": {},
   "source": [
    "## Тестирование модели"
   ]
  },
  {
   "cell_type": "markdown",
   "metadata": {},
   "source": [
    "К тестовой выборке примем модель случайного леса"
   ]
  },
  {
   "cell_type": "code",
   "execution_count": 31,
   "metadata": {},
   "outputs": [
    {
     "name": "stdout",
     "output_type": "stream",
     "text": [
      "0.612137203166227\n"
     ]
    }
   ],
   "source": [
    "'''for estimator in tqdm(range(10, 300, 10)):'''\n",
    "model =  RandomForestClassifier(random_state=12345, n_estimators=best_est_rfc, max_depth=best_depth_rfc)\n",
    "model.fit(features_upsampled, target_upsampled)\n",
    "predicted_valid = model.predict(features_valid)\n",
    "result = f1_score(target_valid, predicted_valid)\n",
    "print(result)\n",
    "\n",
    "#    if result > best_result:\n",
    "#        best_est = estimator\n",
    "#        best_result = result\n",
    "#print('N estimators', best_est,'F1-score', best_result)\n"
   ]
  },
  {
   "cell_type": "code",
   "execution_count": 32,
   "metadata": {},
   "outputs": [],
   "source": [
    "#model =  RandomForestClassifier(random_state=12345, n_estimators=best_est_rfc, max_depth=best_depth_rfc)\n",
    "#model.fit(features_train, target_train)\n",
    "#predicted_valid = model.predict(features_valid)\n",
    "#result = f1_score(target_valid, predicted_valid)\n",
    "#print(result)"
   ]
  },
  {
   "cell_type": "code",
   "execution_count": 33,
   "metadata": {},
   "outputs": [],
   "source": [
    "#for estimator in tqdm(range(20, 40, 1)):\n",
    "#    model =  RandomForestClassifier(random_state=12345, n_estimators=estimator)\n",
    "#    model.fit(features_upsampled, target_upsampled)\n",
    "#    predicted_valid = model.predict(features_valid)\n",
    "#    result = f1_score(target_valid, predicted_valid)\n",
    "#    if result > best_result:\n",
    "#        best_est = estimator\n",
    "#        best_result = result\n",
    "#print('N estimators', best_est,'F1-score', best_result)"
   ]
  },
  {
   "cell_type": "markdown",
   "metadata": {},
   "source": [
    "#Лучший результат по F1 при N estimators = 125"
   ]
  },
  {
   "cell_type": "code",
   "execution_count": 34,
   "metadata": {},
   "outputs": [
    {
     "name": "stdout",
     "output_type": "stream",
     "text": [
      "Случайный лес - дисбаланс классов\n",
      "Точность 0.843\n",
      "Precision 0.746606334841629\n",
      "Recall 0.3900709219858156\n",
      "F1 0.5124223602484472\n",
      "\n",
      "Случайный лес - взвешенные классы\n",
      "Точность 0.826\n",
      "Precision 0.5806451612903226\n",
      "Recall 0.6382978723404256\n",
      "F1 0.608108108108108\n",
      "\n",
      "Случайный лес - уменьшенное количество классов\n",
      "Точность 0.7605\n",
      "Precision 0.4583333333333333\n",
      "Recall 0.7281323877068558\n",
      "F1 0.5625570776255708\n",
      "\n",
      "Случайный лес - увеличенное количество классов\n",
      "Точность 0.8455\n",
      "Precision 0.6727272727272727\n",
      "Recall 0.524822695035461\n",
      "F1 0.5896414342629482\n",
      "\n"
     ]
    }
   ],
   "source": [
    "model = RandomForestClassifier(random_state=12345, n_estimators=best_est_rfc, max_depth=best_depth_rfc)\n",
    "model.fit(features_train, target_train)\n",
    "predicted_test = model.predict(features_test)\n",
    "print('Случайный лес - дисбаланс классов')\n",
    "print('Точность', accuracy_score(target_test, predicted_test))\n",
    "print('Precision', precision_score(target_test, predicted_test))\n",
    "print('Recall', recall_score(target_test, predicted_test))\n",
    "print('F1', f1_score(target_test, predicted_test))\n",
    "print()\n",
    "\n",
    "model = RandomForestClassifier(random_state=12345, n_estimators=best_est_rfc_b, max_depth=best_depth_rfc_b, class_weight='balanced')\n",
    "model.fit(features_train, target_train)\n",
    "predicted_test = model.predict(features_test)\n",
    "print('Случайный лес - взвешенные классы')\n",
    "print('Точность', accuracy_score(target_test, predicted_test))\n",
    "print('Precision', precision_score(target_test, predicted_test))\n",
    "print('Recall', recall_score(target_test, predicted_test))\n",
    "print('F1', f1_score(target_test, predicted_test))\n",
    "print()\n",
    "\n",
    "model = RandomForestClassifier(random_state=12345, n_estimators=best_est_rfc, max_depth=best_depth_rfc)\n",
    "model.fit(features_downsampled, target_downsampled)\n",
    "predicted_test = model.predict(features_test)\n",
    "print('Случайный лес - уменьшенное количество классов')\n",
    "print('Точность', accuracy_score(target_test, predicted_test))\n",
    "print('Precision', precision_score(target_test, predicted_test))\n",
    "print('Recall', recall_score(target_test, predicted_test))\n",
    "print('F1', f1_score(target_test, predicted_test))\n",
    "print()\n",
    "\n",
    "model = RandomForestClassifier(random_state=12345, n_estimators=best_est_rfc, max_depth=best_depth_rfc)\n",
    "model.fit(features_upsampled, target_upsampled)\n",
    "predicted_test = model.predict(features_test)\n",
    "print('Случайный лес - увеличенное количество классов')\n",
    "print('Точность', accuracy_score(target_test, predicted_test))\n",
    "print('Precision', precision_score(target_test, predicted_test))\n",
    "print('Recall', recall_score(target_test, predicted_test))\n",
    "print('F1', f1_score(target_test, predicted_test))\n",
    "print()"
   ]
  },
  {
   "cell_type": "code",
   "execution_count": 35,
   "metadata": {},
   "outputs": [
    {
     "name": "stdout",
     "output_type": "stream",
     "text": [
      "AUC-ROC RandomForestClassifier - disbalanced 0.8427183912956792\n",
      "AUC-ROC RandomForestClassifier - balanced by class weight 0.8522211278859372\n",
      "AUC-ROC RandomForestClassifier - balanced by downsampled 0.835381840913486\n",
      "AUC-ROC RandomForestClassifier - balanced by upsampled 0.8422821558724634\n"
     ]
    },
    {
     "data": {
      "image/png": "[encoded data removed]",
      "text/plain": [
       "<Figure size 1080x720 with 1 Axes>"
      ]
     },
     "metadata": {
      "needs_background": "light"
     },
     "output_type": "display_data"
    }
   ],
   "source": [
    "plt.figure(figsize=[15,10])\n",
    "\n",
    "plt.plot([0, 1], [0, 1], linestyle='-', label='RandomModel')\n",
    "\n",
    "\n",
    "model = RandomForestClassifier(random_state=12345, n_estimators=best_est_rfc, max_depth=best_depth_rfc)\n",
    "model.fit(features_train, target_train)\n",
    "predicted_test = model.predict(features_test)\n",
    "probabilities_test = model.predict_proba(features_test)\n",
    "probabilities_one_test = probabilities_test[:, 1]\n",
    "fpr, tpr, thresholds = roc_curve(target_test, probabilities_one_test)\n",
    "auc_roc = roc_auc_score(target_test, probabilities_one_test)\n",
    "print('AUC-ROC RandomForestClassifier - disbalanced',auc_roc)\n",
    "plt.plot(fpr, tpr, label='RandomForestClassifier - disbalanced')\n",
    "\n",
    "model = RandomForestClassifier(random_state=12345, n_estimators=best_est_rfc, max_depth=best_depth_rfc_b, class_weight='balanced')\n",
    "model.fit(features_train, target_train)\n",
    "predicted_test = model.predict(features_test)\n",
    "probabilities_test = model.predict_proba(features_test)\n",
    "probabilities_one_test = probabilities_test[:, 1]\n",
    "fpr, tpr, thresholds = roc_curve(target_test, probabilities_one_test)\n",
    "auc_roc = roc_auc_score(target_test, probabilities_one_test)\n",
    "print('AUC-ROC RandomForestClassifier - balanced by class weight',auc_roc)\n",
    "plt.plot(fpr, tpr, label='RandomForestClassifier - balanced by class weight')\n",
    "\n",
    "model = RandomForestClassifier(random_state=12345, n_estimators=best_est_rfc, max_depth=best_depth_rfc)\n",
    "model.fit(features_downsampled, target_downsampled)\n",
    "predicted_test = model.predict(features_test)\n",
    "probabilities_test = model.predict_proba(features_test)\n",
    "probabilities_one_test = probabilities_test[:, 1]\n",
    "fpr, tpr, thresholds = roc_curve(target_test, probabilities_one_test)\n",
    "auc_roc = roc_auc_score(target_test, probabilities_one_test)\n",
    "print('AUC-ROC RandomForestClassifier - balanced by downsampled',auc_roc)\n",
    "plt.plot(fpr, tpr, label='RandomForestClassifier - balanced by downsampled')\n",
    "\n",
    "model = RandomForestClassifier(random_state=12345, n_estimators=best_est_rfc, max_depth=best_depth_rfc)\n",
    "model.fit(features_upsampled, target_upsampled)\n",
    "predicted_test = model.predict(features_test)\n",
    "probabilities_test = model.predict_proba(features_test)\n",
    "probabilities_one_test = probabilities_test[:, 1]\n",
    "fpr, tpr, thresholds = roc_curve(target_test, probabilities_one_test)\n",
    "auc_roc = roc_auc_score(target_test, probabilities_one_test)\n",
    "print('AUC-ROC RandomForestClassifier - balanced by upsampled',auc_roc)\n",
    "plt.plot(fpr, tpr, label='RandomForestClassifier - balanced by upsampled')\n",
    "\n",
    "plt.xlim([0,1])\n",
    "plt.ylim([0,1])\n",
    "\n",
    "plt.xlabel(\"False Positive Rate\")\n",
    "plt.ylabel(\"True Positive Rate\")\n",
    "\n",
    "plt.legend(loc='lower right', fontsize='x-large')\n",
    "\n",
    "plt.title(\"ROC-кривая\")\n",
    "plt.show()"
   ]
  },
  {
   "cell_type": "markdown",
   "metadata": {},
   "source": [
    "### Вывод"
   ]
  },
  {
   "cell_type": "markdown",
   "metadata": {},
   "source": [
    "Произведен тест на моделях c дисбалансом классов:\n",
    "\n",
    "Решающее дерево, Случайный лес, Логистическая регрессия на исходных данных.\n",
    "\n",
    "Произведен тест на моделях со сбалансированными классами:\n",
    "\n",
    "Решающее дерево, Случайный лес, Логистическая регрессия с взвешенными классами, уменьшении выборки и увеличении выборки.\n",
    "\n",
    "#### Итог:\n",
    "\n",
    "Лучшая модель для предоставленных данных это Случайный лес с взвешенными классами по F1 и AUC-ROC.\n",
    "\n",
    "\n",
    "\n"
   ]
  }
 ],
 "metadata": {
  "ExecuteTimeLog": [
   {
    "duration": 414,
    "start_time": "2022-05-20T03:18:22.653Z"
   },
   {
    "duration": 68,
    "start_time": "2022-05-20T03:19:10.868Z"
   },
   {
    "duration": 7,
    "start_time": "2022-05-20T03:19:26.099Z"
   },
   {
    "duration": 164,
    "start_time": "2022-05-20T03:19:34.555Z"
   },
   {
    "duration": 19,
    "start_time": "2022-05-20T03:20:42.478Z"
   },
   {
    "duration": 14,
    "start_time": "2022-05-20T03:20:56.106Z"
   },
   {
    "duration": 38,
    "start_time": "2022-05-20T03:21:34.052Z"
   },
   {
    "duration": 445,
    "start_time": "2022-05-20T03:23:11.553Z"
   },
   {
    "duration": 14,
    "start_time": "2022-05-20T03:23:23.456Z"
   },
   {
    "duration": 17,
    "start_time": "2022-05-20T03:23:30.157Z"
   },
   {
    "duration": 15,
    "start_time": "2022-05-20T03:23:36.936Z"
   },
   {
    "duration": 7,
    "start_time": "2022-05-20T03:23:46.353Z"
   },
   {
    "duration": 8,
    "start_time": "2022-05-20T03:23:58.275Z"
   },
   {
    "duration": 5,
    "start_time": "2022-05-20T03:25:26.718Z"
   },
   {
    "duration": 8,
    "start_time": "2022-05-20T03:25:40.409Z"
   },
   {
    "duration": 40,
    "start_time": "2022-05-20T03:28:58.778Z"
   },
   {
    "duration": 7,
    "start_time": "2022-05-20T03:29:04.374Z"
   },
   {
    "duration": 21,
    "start_time": "2022-05-20T03:29:15.489Z"
   },
   {
    "duration": 3,
    "start_time": "2022-05-20T03:32:58.075Z"
   },
   {
    "duration": 9,
    "start_time": "2022-05-20T03:33:12.926Z"
   },
   {
    "duration": 7,
    "start_time": "2022-05-20T03:33:27.902Z"
   },
   {
    "duration": 23,
    "start_time": "2022-05-20T03:33:55.334Z"
   },
   {
    "duration": 22,
    "start_time": "2022-05-20T03:34:06.890Z"
   },
   {
    "duration": 7,
    "start_time": "2022-05-20T03:34:19.524Z"
   },
   {
    "duration": 11,
    "start_time": "2022-05-20T03:34:24.202Z"
   },
   {
    "duration": 9,
    "start_time": "2022-05-20T03:34:53.088Z"
   },
   {
    "duration": 29,
    "start_time": "2022-05-20T03:35:23.780Z"
   },
   {
    "duration": 21,
    "start_time": "2022-05-20T03:35:40.235Z"
   },
   {
    "duration": 19,
    "start_time": "2022-05-20T03:35:43.597Z"
   },
   {
    "duration": 14,
    "start_time": "2022-05-20T03:37:29.750Z"
   },
   {
    "duration": 14,
    "start_time": "2022-05-20T03:37:33.047Z"
   },
   {
    "duration": 8,
    "start_time": "2022-05-20T03:45:15.974Z"
   },
   {
    "duration": 5,
    "start_time": "2022-05-20T03:47:29.266Z"
   },
   {
    "duration": 4,
    "start_time": "2022-05-20T03:55:15.805Z"
   },
   {
    "duration": 82,
    "start_time": "2022-05-20T03:55:23.989Z"
   },
   {
    "duration": 694,
    "start_time": "2022-05-20T03:58:47.518Z"
   },
   {
    "duration": 674,
    "start_time": "2022-05-20T03:58:56.765Z"
   },
   {
    "duration": 32,
    "start_time": "2022-05-20T03:58:59.441Z"
   },
   {
    "duration": 4,
    "start_time": "2022-05-20T04:00:04.262Z"
   },
   {
    "duration": 23,
    "start_time": "2022-05-20T04:00:09.733Z"
   },
   {
    "duration": 7,
    "start_time": "2022-05-20T04:01:11.466Z"
   },
   {
    "duration": 21,
    "start_time": "2022-05-20T04:01:14.819Z"
   },
   {
    "duration": 13,
    "start_time": "2022-05-20T04:03:51.774Z"
   },
   {
    "duration": 10,
    "start_time": "2022-05-20T04:03:57.889Z"
   },
   {
    "duration": 10,
    "start_time": "2022-05-20T04:04:05.121Z"
   },
   {
    "duration": 48,
    "start_time": "2022-05-20T04:07:39.764Z"
   },
   {
    "duration": 15,
    "start_time": "2022-05-20T04:09:38.959Z"
   },
   {
    "duration": 12,
    "start_time": "2022-05-20T04:09:50.968Z"
   },
   {
    "duration": 5,
    "start_time": "2022-05-20T04:10:27.928Z"
   },
   {
    "duration": 18,
    "start_time": "2022-05-20T04:10:35.554Z"
   },
   {
    "duration": 22,
    "start_time": "2022-05-20T04:14:28.336Z"
   },
   {
    "duration": 22,
    "start_time": "2022-05-20T04:14:34.157Z"
   },
   {
    "duration": 34,
    "start_time": "2022-05-20T04:16:09.795Z"
   },
   {
    "duration": 398,
    "start_time": "2022-05-20T04:16:32.794Z"
   },
   {
    "duration": 38,
    "start_time": "2022-05-20T04:16:33.194Z"
   },
   {
    "duration": 4,
    "start_time": "2022-05-20T04:16:33.234Z"
   },
   {
    "duration": 91,
    "start_time": "2022-05-20T04:16:33.239Z"
   },
   {
    "duration": 22,
    "start_time": "2022-05-20T04:16:33.332Z"
   },
   {
    "duration": 23,
    "start_time": "2022-05-20T04:16:33.356Z"
   },
   {
    "duration": 6,
    "start_time": "2022-05-20T04:16:33.381Z"
   },
   {
    "duration": 15,
    "start_time": "2022-05-20T04:16:33.389Z"
   },
   {
    "duration": 4,
    "start_time": "2022-05-20T04:16:33.405Z"
   },
   {
    "duration": 41,
    "start_time": "2022-05-20T04:16:33.410Z"
   },
   {
    "duration": 779,
    "start_time": "2022-05-20T07:09:56.409Z"
   },
   {
    "duration": 19,
    "start_time": "2022-05-20T07:10:07.967Z"
   },
   {
    "duration": 930,
    "start_time": "2022-05-20T07:10:49.560Z"
   },
   {
    "duration": 16,
    "start_time": "2022-05-20T07:10:56.921Z"
   },
   {
    "duration": 6,
    "start_time": "2022-05-20T07:11:33.732Z"
   },
   {
    "duration": 125,
    "start_time": "2022-05-20T07:13:05.687Z"
   },
   {
    "duration": 69,
    "start_time": "2022-05-20T07:13:37.222Z"
   },
   {
    "duration": 4,
    "start_time": "2022-05-20T07:13:56.926Z"
   },
   {
    "duration": 739,
    "start_time": "2022-05-20T07:14:01.786Z"
   },
   {
    "duration": 22,
    "start_time": "2022-05-24T05:45:30.618Z"
   },
   {
    "duration": 771,
    "start_time": "2022-05-24T05:45:46.452Z"
   },
   {
    "duration": 23,
    "start_time": "2022-05-24T05:46:11.416Z"
   },
   {
    "duration": 19,
    "start_time": "2022-05-24T05:46:11.627Z"
   },
   {
    "duration": 706,
    "start_time": "2022-05-24T05:46:17.847Z"
   },
   {
    "duration": 709,
    "start_time": "2022-05-24T05:46:50.612Z"
   },
   {
    "duration": 22,
    "start_time": "2022-05-24T05:47:49.419Z"
   },
   {
    "duration": 732,
    "start_time": "2022-05-24T05:48:05.205Z"
   },
   {
    "duration": 683,
    "start_time": "2022-05-24T05:48:27.662Z"
   },
   {
    "duration": 734,
    "start_time": "2022-05-24T05:48:49.194Z"
   },
   {
    "duration": 704,
    "start_time": "2022-05-24T05:49:35.402Z"
   },
   {
    "duration": 39,
    "start_time": "2022-05-24T05:56:43.671Z"
   },
   {
    "duration": 613,
    "start_time": "2022-05-24T06:36:02.359Z"
   },
   {
    "duration": 371,
    "start_time": "2022-05-24T06:37:07.998Z"
   },
   {
    "duration": 646,
    "start_time": "2022-05-24T06:37:15.638Z"
   },
   {
    "duration": 637,
    "start_time": "2022-05-24T06:37:22.121Z"
   },
   {
    "duration": 10,
    "start_time": "2022-05-24T06:38:54.925Z"
   },
   {
    "duration": 626,
    "start_time": "2022-05-24T06:39:27.484Z"
   },
   {
    "duration": 10,
    "start_time": "2022-05-24T06:39:29.496Z"
   },
   {
    "duration": 9,
    "start_time": "2022-05-24T06:46:41.190Z"
   },
   {
    "duration": 10,
    "start_time": "2022-05-24T06:46:47.598Z"
   },
   {
    "duration": 26201,
    "start_time": "2022-05-24T06:46:52.305Z"
   },
   {
    "duration": 26559,
    "start_time": "2022-05-24T06:50:13.568Z"
   },
   {
    "duration": 127,
    "start_time": "2022-05-24T06:52:23.416Z"
   },
   {
    "duration": 26759,
    "start_time": "2022-05-24T06:52:37.303Z"
   },
   {
    "duration": 41,
    "start_time": "2022-05-24T06:53:48.176Z"
   },
   {
    "duration": 37,
    "start_time": "2022-05-24T06:53:55.083Z"
   },
   {
    "duration": 20094,
    "start_time": "2022-05-24T06:54:06.235Z"
   },
   {
    "duration": 167120,
    "start_time": "2022-05-24T06:55:06.338Z"
   },
   {
    "duration": 17185,
    "start_time": "2022-05-24T06:58:26.980Z"
   },
   {
    "duration": 687,
    "start_time": "2022-05-24T06:58:59.825Z"
   },
   {
    "duration": 28325,
    "start_time": "2022-05-24T06:59:01.966Z"
   },
   {
    "duration": 6784,
    "start_time": "2022-05-24T06:59:54.289Z"
   },
   {
    "duration": 10,
    "start_time": "2022-05-24T07:02:55.226Z"
   },
   {
    "duration": 4,
    "start_time": "2022-05-24T07:03:10.350Z"
   },
   {
    "duration": 89,
    "start_time": "2022-05-24T07:03:15.853Z"
   },
   {
    "duration": 133,
    "start_time": "2022-05-24T07:11:55.107Z"
   },
   {
    "duration": 55,
    "start_time": "2022-05-24T07:19:23.581Z"
   },
   {
    "duration": 49,
    "start_time": "2022-05-24T07:19:28.876Z"
   },
   {
    "duration": 34,
    "start_time": "2022-05-24T07:20:22.016Z"
   },
   {
    "duration": 3,
    "start_time": "2022-05-24T07:20:47.707Z"
   },
   {
    "duration": 35,
    "start_time": "2022-05-24T07:20:52.416Z"
   },
   {
    "duration": 3,
    "start_time": "2022-05-24T07:21:08.022Z"
   },
   {
    "duration": 35,
    "start_time": "2022-05-24T07:21:13.515Z"
   },
   {
    "duration": 4,
    "start_time": "2022-05-24T07:21:26.870Z"
   },
   {
    "duration": 452,
    "start_time": "2022-05-24T07:21:31.993Z"
   },
   {
    "duration": 535,
    "start_time": "2022-05-24T07:21:49.006Z"
   },
   {
    "duration": 15,
    "start_time": "2022-05-24T07:23:27.573Z"
   },
   {
    "duration": 853,
    "start_time": "2022-05-24T07:24:04.696Z"
   },
   {
    "duration": 205,
    "start_time": "2022-05-24T07:24:08.312Z"
   },
   {
    "duration": 4,
    "start_time": "2022-05-24T07:24:24.592Z"
   },
   {
    "duration": 170,
    "start_time": "2022-05-24T07:24:27.987Z"
   },
   {
    "duration": 5,
    "start_time": "2022-05-24T07:24:38.587Z"
   },
   {
    "duration": 759,
    "start_time": "2022-05-24T07:24:41.915Z"
   },
   {
    "duration": 800,
    "start_time": "2022-05-24T07:24:52.527Z"
   },
   {
    "duration": 827,
    "start_time": "2022-05-24T07:26:10.599Z"
   },
   {
    "duration": 789,
    "start_time": "2022-05-24T07:27:05.535Z"
   },
   {
    "duration": 72,
    "start_time": "2022-05-24T07:40:33.248Z"
   },
   {
    "duration": 495,
    "start_time": "2022-05-24T07:40:51.754Z"
   },
   {
    "duration": 479,
    "start_time": "2022-05-24T08:04:41.068Z"
   },
   {
    "duration": 32,
    "start_time": "2022-05-24T08:21:56.429Z"
   },
   {
    "duration": 4,
    "start_time": "2022-05-24T08:22:51.616Z"
   },
   {
    "duration": 16,
    "start_time": "2022-05-24T08:22:58.303Z"
   },
   {
    "duration": 14,
    "start_time": "2022-05-24T08:23:25.516Z"
   },
   {
    "duration": 704,
    "start_time": "2022-05-24T08:24:01.040Z"
   },
   {
    "duration": 629,
    "start_time": "2022-05-24T08:25:07.714Z"
   },
   {
    "duration": 1368,
    "start_time": "2022-05-24T08:25:25.479Z"
   },
   {
    "duration": 174,
    "start_time": "2022-05-24T08:25:26.849Z"
   },
   {
    "duration": 9,
    "start_time": "2022-05-24T08:25:27.028Z"
   },
   {
    "duration": 147,
    "start_time": "2022-05-24T08:25:27.040Z"
   },
   {
    "duration": 6,
    "start_time": "2022-05-24T08:25:27.190Z"
   },
   {
    "duration": 37,
    "start_time": "2022-05-24T08:25:27.198Z"
   },
   {
    "duration": 16,
    "start_time": "2022-05-24T08:25:27.242Z"
   },
   {
    "duration": 20,
    "start_time": "2022-05-24T08:25:27.260Z"
   },
   {
    "duration": 5,
    "start_time": "2022-05-24T08:25:27.282Z"
   },
   {
    "duration": 58,
    "start_time": "2022-05-24T08:25:27.290Z"
   },
   {
    "duration": 12,
    "start_time": "2022-05-24T08:25:27.350Z"
   },
   {
    "duration": 8,
    "start_time": "2022-05-24T08:25:27.365Z"
   },
   {
    "duration": 767,
    "start_time": "2022-05-24T08:25:27.375Z"
   },
   {
    "duration": 31631,
    "start_time": "2022-05-24T08:25:28.144Z"
   },
   {
    "duration": 7142,
    "start_time": "2022-05-24T08:25:59.776Z"
   },
   {
    "duration": 47,
    "start_time": "2022-05-24T08:26:06.920Z"
   },
   {
    "duration": 673,
    "start_time": "2022-05-24T08:26:06.970Z"
   },
   {
    "duration": 886,
    "start_time": "2022-05-24T08:26:07.646Z"
   },
   {
    "duration": 511,
    "start_time": "2022-05-24T08:26:08.534Z"
   },
   {
    "duration": 105,
    "start_time": "2022-05-24T08:26:09.048Z"
   },
   {
    "duration": 589,
    "start_time": "2022-05-24T08:26:09.154Z"
   },
   {
    "duration": 45,
    "start_time": "2022-05-24T08:31:30.194Z"
   },
   {
    "duration": 14,
    "start_time": "2022-05-24T08:34:27.801Z"
   },
   {
    "duration": 385,
    "start_time": "2022-05-24T08:34:51.860Z"
   },
   {
    "duration": 49,
    "start_time": "2022-05-24T08:36:17.726Z"
   },
   {
    "duration": 1199,
    "start_time": "2022-05-24T08:37:01.417Z"
   },
   {
    "duration": 1041,
    "start_time": "2022-05-24T08:37:09.513Z"
   },
   {
    "duration": 993,
    "start_time": "2022-05-24T08:37:26.193Z"
   },
   {
    "duration": 1364,
    "start_time": "2022-05-24T08:37:40.957Z"
   },
   {
    "duration": 43,
    "start_time": "2022-05-24T08:37:42.323Z"
   },
   {
    "duration": 4,
    "start_time": "2022-05-24T08:37:42.368Z"
   },
   {
    "duration": 105,
    "start_time": "2022-05-24T08:37:42.375Z"
   },
   {
    "duration": 3,
    "start_time": "2022-05-24T08:37:42.481Z"
   },
   {
    "duration": 33,
    "start_time": "2022-05-24T08:37:42.486Z"
   },
   {
    "duration": 21,
    "start_time": "2022-05-24T08:37:42.521Z"
   },
   {
    "duration": 13,
    "start_time": "2022-05-24T08:37:42.544Z"
   },
   {
    "duration": 4,
    "start_time": "2022-05-24T08:37:42.559Z"
   },
   {
    "duration": 39,
    "start_time": "2022-05-24T08:37:42.566Z"
   },
   {
    "duration": 43,
    "start_time": "2022-05-24T08:37:42.607Z"
   },
   {
    "duration": 7,
    "start_time": "2022-05-24T08:37:42.652Z"
   },
   {
    "duration": 784,
    "start_time": "2022-05-24T08:37:42.661Z"
   },
   {
    "duration": 31672,
    "start_time": "2022-05-24T08:37:43.447Z"
   },
   {
    "duration": 7476,
    "start_time": "2022-05-24T08:38:15.121Z"
   },
   {
    "duration": 145,
    "start_time": "2022-05-24T08:38:22.598Z"
   },
   {
    "duration": 695,
    "start_time": "2022-05-24T08:38:22.746Z"
   },
   {
    "duration": 789,
    "start_time": "2022-05-24T08:38:23.443Z"
   },
   {
    "duration": 611,
    "start_time": "2022-05-24T08:38:24.235Z"
   },
   {
    "duration": 14,
    "start_time": "2022-05-24T08:38:24.848Z"
   },
   {
    "duration": 292,
    "start_time": "2022-05-24T08:38:24.864Z"
   },
   {
    "duration": 102,
    "start_time": "2022-05-24T08:38:25.244Z"
   },
   {
    "duration": 600,
    "start_time": "2022-05-24T08:38:25.348Z"
   },
   {
    "duration": 1128,
    "start_time": "2022-05-24T08:38:25.951Z"
   },
   {
    "duration": 866,
    "start_time": "2022-05-24T08:39:20.753Z"
   },
   {
    "duration": 1365,
    "start_time": "2022-05-24T08:42:50.541Z"
   },
   {
    "duration": 41,
    "start_time": "2022-05-24T08:42:51.908Z"
   },
   {
    "duration": 4,
    "start_time": "2022-05-24T08:42:51.951Z"
   },
   {
    "duration": 103,
    "start_time": "2022-05-24T08:42:51.957Z"
   },
   {
    "duration": 5,
    "start_time": "2022-05-24T08:42:52.062Z"
   },
   {
    "duration": 26,
    "start_time": "2022-05-24T08:42:52.068Z"
   },
   {
    "duration": 7,
    "start_time": "2022-05-24T08:42:52.096Z"
   },
   {
    "duration": 39,
    "start_time": "2022-05-24T08:42:52.105Z"
   },
   {
    "duration": 4,
    "start_time": "2022-05-24T08:42:52.145Z"
   },
   {
    "duration": 49,
    "start_time": "2022-05-24T08:42:52.151Z"
   },
   {
    "duration": 12,
    "start_time": "2022-05-24T08:42:52.202Z"
   },
   {
    "duration": 5,
    "start_time": "2022-05-24T08:42:52.241Z"
   },
   {
    "duration": 711,
    "start_time": "2022-05-24T08:42:52.248Z"
   },
   {
    "duration": 29701,
    "start_time": "2022-05-24T08:42:52.962Z"
   },
   {
    "duration": 6588,
    "start_time": "2022-05-24T08:43:22.665Z"
   },
   {
    "duration": 31,
    "start_time": "2022-05-24T08:43:29.255Z"
   },
   {
    "duration": 558,
    "start_time": "2022-05-24T08:43:29.287Z"
   },
   {
    "duration": 786,
    "start_time": "2022-05-24T08:43:29.847Z"
   },
   {
    "duration": 409,
    "start_time": "2022-05-24T08:43:30.640Z"
   },
   {
    "duration": 102,
    "start_time": "2022-05-24T08:43:31.051Z"
   },
   {
    "duration": 387,
    "start_time": "2022-05-24T08:43:31.155Z"
   },
   {
    "duration": 17,
    "start_time": "2022-05-24T08:43:31.544Z"
   },
   {
    "duration": 679,
    "start_time": "2022-05-24T08:43:31.563Z"
   },
   {
    "duration": 879,
    "start_time": "2022-05-24T08:43:32.244Z"
   },
   {
    "duration": 811,
    "start_time": "2022-05-24T08:44:01.809Z"
   },
   {
    "duration": 838,
    "start_time": "2022-05-24T08:44:14.261Z"
   },
   {
    "duration": 807,
    "start_time": "2022-05-24T08:44:22.009Z"
   },
   {
    "duration": 742,
    "start_time": "2022-05-24T08:44:37.280Z"
   },
   {
    "duration": 1285,
    "start_time": "2022-05-24T08:44:59.916Z"
   },
   {
    "duration": 41,
    "start_time": "2022-05-24T08:45:01.203Z"
   },
   {
    "duration": 4,
    "start_time": "2022-05-24T08:45:01.245Z"
   },
   {
    "duration": 92,
    "start_time": "2022-05-24T08:45:01.251Z"
   },
   {
    "duration": 4,
    "start_time": "2022-05-24T08:45:01.344Z"
   },
   {
    "duration": 31,
    "start_time": "2022-05-24T08:45:01.349Z"
   },
   {
    "duration": 39,
    "start_time": "2022-05-24T08:45:01.381Z"
   },
   {
    "duration": 47,
    "start_time": "2022-05-24T08:45:01.422Z"
   },
   {
    "duration": 39,
    "start_time": "2022-05-24T08:45:01.471Z"
   },
   {
    "duration": 39,
    "start_time": "2022-05-24T08:45:01.514Z"
   },
   {
    "duration": 22,
    "start_time": "2022-05-24T08:45:01.554Z"
   },
   {
    "duration": 58,
    "start_time": "2022-05-24T08:45:01.578Z"
   },
   {
    "duration": 695,
    "start_time": "2022-05-24T08:45:01.638Z"
   },
   {
    "duration": 28330,
    "start_time": "2022-05-24T08:45:02.334Z"
   },
   {
    "duration": 6641,
    "start_time": "2022-05-24T08:45:30.666Z"
   },
   {
    "duration": 46,
    "start_time": "2022-05-24T08:45:37.309Z"
   },
   {
    "duration": 600,
    "start_time": "2022-05-24T08:45:37.442Z"
   },
   {
    "duration": 791,
    "start_time": "2022-05-24T08:45:38.045Z"
   },
   {
    "duration": 404,
    "start_time": "2022-05-24T08:45:38.840Z"
   },
   {
    "duration": 104,
    "start_time": "2022-05-24T08:45:39.247Z"
   },
   {
    "duration": 290,
    "start_time": "2022-05-24T08:45:39.352Z"
   },
   {
    "duration": 105,
    "start_time": "2022-05-24T08:45:39.645Z"
   },
   {
    "duration": 595,
    "start_time": "2022-05-24T08:45:39.752Z"
   },
   {
    "duration": 879,
    "start_time": "2022-05-24T08:45:40.350Z"
   },
   {
    "duration": 34,
    "start_time": "2022-05-24T08:51:42.037Z"
   },
   {
    "duration": 40393,
    "start_time": "2022-05-24T08:57:18.689Z"
   },
   {
    "duration": 114631,
    "start_time": "2022-05-24T08:58:18.211Z"
   },
   {
    "duration": 22788,
    "start_time": "2022-05-24T09:03:19.311Z"
   },
   {
    "duration": 874,
    "start_time": "2022-05-24T09:08:54.221Z"
   },
   {
    "duration": 875,
    "start_time": "2022-05-24T09:09:57.415Z"
   },
   {
    "duration": 2901,
    "start_time": "2022-05-24T09:31:27.766Z"
   },
   {
    "duration": 3352,
    "start_time": "2022-05-24T09:31:56.346Z"
   },
   {
    "duration": 3529,
    "start_time": "2022-05-24T09:33:05.270Z"
   },
   {
    "duration": 3852,
    "start_time": "2022-05-24T09:33:35.609Z"
   },
   {
    "duration": 3844,
    "start_time": "2022-05-24T09:33:49.977Z"
   },
   {
    "duration": 3968,
    "start_time": "2022-05-24T09:34:02.336Z"
   },
   {
    "duration": 3395,
    "start_time": "2022-05-24T09:34:52.832Z"
   },
   {
    "duration": 3716,
    "start_time": "2022-05-24T09:35:11.963Z"
   },
   {
    "duration": 3646,
    "start_time": "2022-05-24T09:37:04.834Z"
   },
   {
    "duration": 3678,
    "start_time": "2022-05-24T09:37:51.708Z"
   },
   {
    "duration": 2238,
    "start_time": "2022-05-24T09:43:20.835Z"
   },
   {
    "duration": 42,
    "start_time": "2022-05-24T09:43:23.075Z"
   },
   {
    "duration": 4,
    "start_time": "2022-05-24T09:43:23.119Z"
   },
   {
    "duration": 84,
    "start_time": "2022-05-24T09:43:23.126Z"
   },
   {
    "duration": 3,
    "start_time": "2022-05-24T09:43:23.212Z"
   },
   {
    "duration": 24,
    "start_time": "2022-05-24T09:43:23.240Z"
   },
   {
    "duration": 7,
    "start_time": "2022-05-24T09:43:23.265Z"
   },
   {
    "duration": 12,
    "start_time": "2022-05-24T09:43:23.274Z"
   },
   {
    "duration": 4,
    "start_time": "2022-05-24T09:43:23.288Z"
   },
   {
    "duration": 83,
    "start_time": "2022-05-24T09:43:23.296Z"
   },
   {
    "duration": 11,
    "start_time": "2022-05-24T09:43:23.381Z"
   },
   {
    "duration": 6,
    "start_time": "2022-05-24T09:43:23.393Z"
   },
   {
    "duration": 686,
    "start_time": "2022-05-24T09:43:23.400Z"
   },
   {
    "duration": 28573,
    "start_time": "2022-05-24T09:43:24.088Z"
   },
   {
    "duration": 6584,
    "start_time": "2022-05-24T09:43:52.662Z"
   },
   {
    "duration": 95,
    "start_time": "2022-05-24T09:43:59.247Z"
   },
   {
    "duration": 509,
    "start_time": "2022-05-24T09:43:59.344Z"
   },
   {
    "duration": 821,
    "start_time": "2022-05-24T09:43:59.855Z"
   },
   {
    "duration": 365,
    "start_time": "2022-05-24T09:44:00.678Z"
   },
   {
    "duration": 105,
    "start_time": "2022-05-24T09:44:01.048Z"
   },
   {
    "duration": 296,
    "start_time": "2022-05-24T09:44:01.156Z"
   },
   {
    "duration": 98,
    "start_time": "2022-05-24T09:44:01.455Z"
   },
   {
    "duration": 587,
    "start_time": "2022-05-24T09:44:01.555Z"
   },
   {
    "duration": 959,
    "start_time": "2022-05-24T09:44:02.145Z"
   },
   {
    "duration": 106619,
    "start_time": "2022-05-24T09:44:03.106Z"
   },
   {
    "duration": 22734,
    "start_time": "2022-05-24T09:45:49.726Z"
   },
   {
    "duration": 3213,
    "start_time": "2022-05-24T09:46:12.462Z"
   },
   {
    "duration": 3682,
    "start_time": "2022-05-24T09:46:15.678Z"
   },
   {
    "duration": 38149,
    "start_time": "2022-05-24T09:47:12.299Z"
   },
   {
    "duration": 37886,
    "start_time": "2022-05-24T09:48:09.263Z"
   },
   {
    "duration": 22636,
    "start_time": "2022-05-24T09:48:48.689Z"
   },
   {
    "duration": 2822,
    "start_time": "2022-05-24T09:51:52.896Z"
   },
   {
    "duration": 178,
    "start_time": "2022-05-24T09:51:55.721Z"
   },
   {
    "duration": 4,
    "start_time": "2022-05-24T09:51:55.901Z"
   },
   {
    "duration": 91,
    "start_time": "2022-05-24T09:51:55.906Z"
   },
   {
    "duration": 3,
    "start_time": "2022-05-24T09:51:56.000Z"
   },
   {
    "duration": 39,
    "start_time": "2022-05-24T09:51:56.004Z"
   },
   {
    "duration": 9,
    "start_time": "2022-05-24T09:51:56.044Z"
   },
   {
    "duration": 19,
    "start_time": "2022-05-24T09:51:56.056Z"
   },
   {
    "duration": 5,
    "start_time": "2022-05-24T09:51:56.077Z"
   },
   {
    "duration": 74,
    "start_time": "2022-05-24T09:51:56.084Z"
   },
   {
    "duration": 15,
    "start_time": "2022-05-24T09:51:56.160Z"
   },
   {
    "duration": 5,
    "start_time": "2022-05-24T09:51:56.177Z"
   },
   {
    "duration": 704,
    "start_time": "2022-05-24T09:51:56.184Z"
   },
   {
    "duration": 28422,
    "start_time": "2022-05-24T09:51:56.892Z"
   },
   {
    "duration": 6663,
    "start_time": "2022-05-24T09:52:25.316Z"
   },
   {
    "duration": 70,
    "start_time": "2022-05-24T09:52:31.981Z"
   },
   {
    "duration": 498,
    "start_time": "2022-05-24T09:52:32.054Z"
   },
   {
    "duration": 877,
    "start_time": "2022-05-24T09:52:32.554Z"
   },
   {
    "duration": 414,
    "start_time": "2022-05-24T09:52:33.432Z"
   },
   {
    "duration": 103,
    "start_time": "2022-05-24T09:52:33.848Z"
   },
   {
    "duration": 306,
    "start_time": "2022-05-24T09:52:33.953Z"
   },
   {
    "duration": 17,
    "start_time": "2022-05-24T09:52:34.342Z"
   },
   {
    "duration": 583,
    "start_time": "2022-05-24T09:52:34.360Z"
   },
   {
    "duration": 872,
    "start_time": "2022-05-24T09:52:34.945Z"
   },
   {
    "duration": 38985,
    "start_time": "2022-05-24T09:52:35.819Z"
   },
   {
    "duration": 23184,
    "start_time": "2022-05-24T09:53:14.805Z"
   },
   {
    "duration": 3457,
    "start_time": "2022-05-24T09:53:37.991Z"
   },
   {
    "duration": 3502,
    "start_time": "2022-05-24T09:53:41.449Z"
   },
   {
    "duration": 1385,
    "start_time": "2022-05-24T10:05:39.206Z"
   },
   {
    "duration": 142,
    "start_time": "2022-05-24T10:05:40.593Z"
   },
   {
    "duration": 5,
    "start_time": "2022-05-24T10:05:40.736Z"
   },
   {
    "duration": 107,
    "start_time": "2022-05-24T10:05:40.743Z"
   },
   {
    "duration": 4,
    "start_time": "2022-05-24T10:05:40.852Z"
   },
   {
    "duration": 41,
    "start_time": "2022-05-24T10:05:40.857Z"
   },
   {
    "duration": 8,
    "start_time": "2022-05-24T10:05:40.899Z"
   },
   {
    "duration": 35,
    "start_time": "2022-05-24T10:05:40.909Z"
   },
   {
    "duration": 5,
    "start_time": "2022-05-24T10:05:40.946Z"
   },
   {
    "duration": 50,
    "start_time": "2022-05-24T10:05:40.954Z"
   },
   {
    "duration": 11,
    "start_time": "2022-05-24T10:05:41.005Z"
   },
   {
    "duration": 27,
    "start_time": "2022-05-24T10:05:41.018Z"
   },
   {
    "duration": 704,
    "start_time": "2022-05-24T10:05:41.047Z"
   },
   {
    "duration": 28176,
    "start_time": "2022-05-24T10:05:41.752Z"
   },
   {
    "duration": 6437,
    "start_time": "2022-05-24T10:06:09.930Z"
   },
   {
    "duration": 78,
    "start_time": "2022-05-24T10:06:16.368Z"
   },
   {
    "duration": 507,
    "start_time": "2022-05-24T10:06:16.448Z"
   },
   {
    "duration": 895,
    "start_time": "2022-05-24T10:06:16.957Z"
   },
   {
    "duration": 588,
    "start_time": "2022-05-24T10:06:17.854Z"
   },
   {
    "duration": 13,
    "start_time": "2022-05-24T10:06:18.444Z"
   },
   {
    "duration": 212,
    "start_time": "2022-05-24T10:06:18.458Z"
   },
   {
    "duration": 99,
    "start_time": "2022-05-24T10:06:18.743Z"
   },
   {
    "duration": 499,
    "start_time": "2022-05-24T10:06:18.844Z"
   },
   {
    "duration": 976,
    "start_time": "2022-05-24T10:06:19.345Z"
   },
   {
    "duration": 38218,
    "start_time": "2022-05-24T10:06:20.323Z"
   },
   {
    "duration": 23042,
    "start_time": "2022-05-24T10:06:58.543Z"
   },
   {
    "duration": 3251,
    "start_time": "2022-05-24T10:07:21.587Z"
   },
   {
    "duration": 3868,
    "start_time": "2022-05-24T10:07:24.844Z"
   },
   {
    "duration": 63,
    "start_time": "2022-05-24T20:04:28.816Z"
   },
   {
    "duration": 5,
    "start_time": "2022-05-24T20:04:44.084Z"
   },
   {
    "duration": 5,
    "start_time": "2022-05-24T20:04:55.835Z"
   },
   {
    "duration": 1807,
    "start_time": "2022-05-24T20:05:01.872Z"
   },
   {
    "duration": 83,
    "start_time": "2022-05-24T20:05:03.681Z"
   },
   {
    "duration": 10,
    "start_time": "2022-05-24T20:05:03.766Z"
   },
   {
    "duration": 92,
    "start_time": "2022-05-24T20:05:03.777Z"
   },
   {
    "duration": 4,
    "start_time": "2022-05-24T20:05:03.871Z"
   },
   {
    "duration": 29,
    "start_time": "2022-05-24T20:05:03.876Z"
   },
   {
    "duration": 24,
    "start_time": "2022-05-24T20:05:08.636Z"
   },
   {
    "duration": 21,
    "start_time": "2022-05-24T20:05:26.084Z"
   },
   {
    "duration": 13,
    "start_time": "2022-05-24T20:05:37.870Z"
   },
   {
    "duration": 6,
    "start_time": "2022-05-24T20:05:47.829Z"
   },
   {
    "duration": 11,
    "start_time": "2022-05-24T20:05:49.874Z"
   },
   {
    "duration": 3,
    "start_time": "2022-05-24T20:18:45.699Z"
   },
   {
    "duration": 16,
    "start_time": "2022-05-24T20:18:46.454Z"
   },
   {
    "duration": 4,
    "start_time": "2022-05-24T20:18:57.194Z"
   },
   {
    "duration": 4,
    "start_time": "2022-05-24T20:19:02.371Z"
   },
   {
    "duration": 53,
    "start_time": "2022-05-24T20:19:03.749Z"
   },
   {
    "duration": 4,
    "start_time": "2022-05-24T20:19:05.889Z"
   },
   {
    "duration": 78,
    "start_time": "2022-05-24T20:19:07.005Z"
   },
   {
    "duration": 4,
    "start_time": "2022-05-24T20:19:09.625Z"
   },
   {
    "duration": 26,
    "start_time": "2022-05-24T20:19:11.057Z"
   },
   {
    "duration": 7,
    "start_time": "2022-05-24T20:19:14.271Z"
   },
   {
    "duration": 5,
    "start_time": "2022-05-24T20:19:15.084Z"
   },
   {
    "duration": 12,
    "start_time": "2022-05-24T20:19:15.788Z"
   },
   {
    "duration": 4,
    "start_time": "2022-05-25T08:30:02.904Z"
   },
   {
    "duration": 20,
    "start_time": "2022-05-25T08:30:06.169Z"
   },
   {
    "duration": 8,
    "start_time": "2022-05-25T08:30:17.900Z"
   },
   {
    "duration": 4,
    "start_time": "2022-05-25T08:30:18.700Z"
   },
   {
    "duration": 12,
    "start_time": "2022-05-25T08:30:19.324Z"
   },
   {
    "duration": 4,
    "start_time": "2022-05-25T08:30:38.292Z"
   },
   {
    "duration": 39,
    "start_time": "2022-05-25T08:30:39.431Z"
   },
   {
    "duration": 4,
    "start_time": "2022-05-25T08:30:39.995Z"
   },
   {
    "duration": 69,
    "start_time": "2022-05-25T08:30:41.412Z"
   },
   {
    "duration": 3,
    "start_time": "2022-05-25T08:30:43.279Z"
   },
   {
    "duration": 19,
    "start_time": "2022-05-25T08:30:44.863Z"
   },
   {
    "duration": 5,
    "start_time": "2022-05-25T08:30:47.414Z"
   },
   {
    "duration": 30,
    "start_time": "2022-05-25T08:30:52.448Z"
   },
   {
    "duration": 8,
    "start_time": "2022-05-25T08:31:14.288Z"
   },
   {
    "duration": 3,
    "start_time": "2022-05-25T08:31:18.372Z"
   },
   {
    "duration": 12,
    "start_time": "2022-05-25T08:31:20.120Z"
   },
   {
    "duration": 7,
    "start_time": "2022-05-25T08:31:36.085Z"
   },
   {
    "duration": 3,
    "start_time": "2022-05-25T08:32:06.447Z"
   },
   {
    "duration": 43,
    "start_time": "2022-05-25T08:32:06.451Z"
   },
   {
    "duration": 4,
    "start_time": "2022-05-25T08:32:06.495Z"
   },
   {
    "duration": 78,
    "start_time": "2022-05-25T08:32:06.502Z"
   },
   {
    "duration": 3,
    "start_time": "2022-05-25T08:32:06.582Z"
   },
   {
    "duration": 24,
    "start_time": "2022-05-25T08:32:06.586Z"
   },
   {
    "duration": 5,
    "start_time": "2022-05-25T08:32:06.611Z"
   },
   {
    "duration": 11,
    "start_time": "2022-05-25T08:32:06.617Z"
   },
   {
    "duration": 6,
    "start_time": "2022-05-25T08:32:06.630Z"
   },
   {
    "duration": 4,
    "start_time": "2022-05-25T08:32:08.930Z"
   },
   {
    "duration": 18,
    "start_time": "2022-05-25T08:32:09.602Z"
   },
   {
    "duration": 11,
    "start_time": "2022-05-25T08:32:43.516Z"
   },
   {
    "duration": 12,
    "start_time": "2022-05-25T08:33:01.418Z"
   },
   {
    "duration": 6,
    "start_time": "2022-05-25T08:33:12.829Z"
   },
   {
    "duration": 33,
    "start_time": "2022-05-25T08:33:29.109Z"
   },
   {
    "duration": 89,
    "start_time": "2022-05-25T08:33:57.180Z"
   },
   {
    "duration": 6,
    "start_time": "2022-05-25T08:34:18.196Z"
   },
   {
    "duration": 41,
    "start_time": "2022-05-25T08:34:19.288Z"
   },
   {
    "duration": 11,
    "start_time": "2022-05-25T08:34:40.300Z"
   },
   {
    "duration": 3,
    "start_time": "2022-05-25T08:34:49.945Z"
   },
   {
    "duration": 45,
    "start_time": "2022-05-25T08:34:49.950Z"
   },
   {
    "duration": 4,
    "start_time": "2022-05-25T08:34:49.997Z"
   },
   {
    "duration": 88,
    "start_time": "2022-05-25T08:34:50.003Z"
   },
   {
    "duration": 4,
    "start_time": "2022-05-25T08:34:50.092Z"
   },
   {
    "duration": 24,
    "start_time": "2022-05-25T08:34:50.097Z"
   },
   {
    "duration": 5,
    "start_time": "2022-05-25T08:34:50.123Z"
   },
   {
    "duration": 30,
    "start_time": "2022-05-25T08:34:50.129Z"
   },
   {
    "duration": 4,
    "start_time": "2022-05-25T08:34:50.161Z"
   },
   {
    "duration": 15,
    "start_time": "2022-05-25T08:34:50.167Z"
   },
   {
    "duration": 21,
    "start_time": "2022-05-25T08:34:50.184Z"
   },
   {
    "duration": 13,
    "start_time": "2022-05-25T08:34:50.207Z"
   },
   {
    "duration": 5,
    "start_time": "2022-05-25T08:34:50.221Z"
   },
   {
    "duration": 41,
    "start_time": "2022-05-25T08:34:53.213Z"
   },
   {
    "duration": 20,
    "start_time": "2022-05-25T08:35:28.360Z"
   },
   {
    "duration": 20,
    "start_time": "2022-05-25T08:35:30.831Z"
   },
   {
    "duration": 5,
    "start_time": "2022-05-25T08:35:32.945Z"
   },
   {
    "duration": 56,
    "start_time": "2022-05-25T08:35:34.280Z"
   },
   {
    "duration": 3,
    "start_time": "2022-05-25T08:36:07.488Z"
   },
   {
    "duration": 44,
    "start_time": "2022-05-25T08:36:07.494Z"
   },
   {
    "duration": 4,
    "start_time": "2022-05-25T08:36:07.540Z"
   },
   {
    "duration": 82,
    "start_time": "2022-05-25T08:36:07.546Z"
   },
   {
    "duration": 3,
    "start_time": "2022-05-25T08:36:07.630Z"
   },
   {
    "duration": 46,
    "start_time": "2022-05-25T08:36:07.634Z"
   },
   {
    "duration": 5,
    "start_time": "2022-05-25T08:36:07.682Z"
   },
   {
    "duration": 14,
    "start_time": "2022-05-25T08:36:07.689Z"
   },
   {
    "duration": 10,
    "start_time": "2022-05-25T08:36:07.705Z"
   },
   {
    "duration": 43,
    "start_time": "2022-05-25T08:36:07.717Z"
   },
   {
    "duration": 13,
    "start_time": "2022-05-25T08:36:07.763Z"
   },
   {
    "duration": 5,
    "start_time": "2022-05-25T08:36:09.535Z"
   },
   {
    "duration": 42,
    "start_time": "2022-05-25T08:36:11.058Z"
   },
   {
    "duration": 37,
    "start_time": "2022-05-25T08:36:19.405Z"
   },
   {
    "duration": 3,
    "start_time": "2022-05-25T08:36:36.830Z"
   },
   {
    "duration": 43,
    "start_time": "2022-05-25T08:36:36.835Z"
   },
   {
    "duration": 4,
    "start_time": "2022-05-25T08:36:36.880Z"
   },
   {
    "duration": 89,
    "start_time": "2022-05-25T08:36:36.885Z"
   },
   {
    "duration": 3,
    "start_time": "2022-05-25T08:36:36.976Z"
   },
   {
    "duration": 25,
    "start_time": "2022-05-25T08:36:36.981Z"
   },
   {
    "duration": 4,
    "start_time": "2022-05-25T08:36:37.008Z"
   },
   {
    "duration": 8,
    "start_time": "2022-05-25T08:36:37.014Z"
   },
   {
    "duration": 35,
    "start_time": "2022-05-25T08:36:37.024Z"
   },
   {
    "duration": 25,
    "start_time": "2022-05-25T08:36:37.061Z"
   },
   {
    "duration": 15,
    "start_time": "2022-05-25T08:36:37.089Z"
   },
   {
    "duration": 5,
    "start_time": "2022-05-25T08:36:37.106Z"
   },
   {
    "duration": 44,
    "start_time": "2022-05-25T08:36:39.110Z"
   },
   {
    "duration": 44,
    "start_time": "2022-05-25T08:37:52.034Z"
   },
   {
    "duration": 5,
    "start_time": "2022-05-25T08:37:57.246Z"
   },
   {
    "duration": 55,
    "start_time": "2022-05-25T08:37:57.253Z"
   },
   {
    "duration": 6,
    "start_time": "2022-05-25T08:37:57.310Z"
   },
   {
    "duration": 111,
    "start_time": "2022-05-25T08:37:57.319Z"
   },
   {
    "duration": 3,
    "start_time": "2022-05-25T08:37:57.432Z"
   },
   {
    "duration": 27,
    "start_time": "2022-05-25T08:37:57.458Z"
   },
   {
    "duration": 8,
    "start_time": "2022-05-25T08:37:57.487Z"
   },
   {
    "duration": 12,
    "start_time": "2022-05-25T08:37:57.497Z"
   },
   {
    "duration": 14,
    "start_time": "2022-05-25T08:37:57.512Z"
   },
   {
    "duration": 32,
    "start_time": "2022-05-25T08:37:57.528Z"
   },
   {
    "duration": 5,
    "start_time": "2022-05-25T08:37:57.561Z"
   },
   {
    "duration": 39,
    "start_time": "2022-05-25T08:37:59.352Z"
   },
   {
    "duration": 4,
    "start_time": "2022-05-25T09:31:20.141Z"
   },
   {
    "duration": 3,
    "start_time": "2022-05-25T09:31:24.084Z"
   },
   {
    "duration": 2,
    "start_time": "2022-05-25T09:34:55.925Z"
   },
   {
    "duration": 13,
    "start_time": "2022-05-25T09:36:00.915Z"
   },
   {
    "duration": 5,
    "start_time": "2022-05-25T09:36:14.857Z"
   },
   {
    "duration": 5,
    "start_time": "2022-05-25T09:36:17.062Z"
   },
   {
    "duration": 35,
    "start_time": "2022-05-25T09:36:23.082Z"
   },
   {
    "duration": 5,
    "start_time": "2022-05-25T09:36:32.615Z"
   },
   {
    "duration": 3,
    "start_time": "2022-05-25T09:36:39.489Z"
   },
   {
    "duration": 28,
    "start_time": "2022-05-25T09:36:40.274Z"
   },
   {
    "duration": 31,
    "start_time": "2022-05-25T09:37:17.386Z"
   },
   {
    "duration": 5,
    "start_time": "2022-05-25T09:37:20.718Z"
   },
   {
    "duration": 20,
    "start_time": "2022-05-25T09:37:41.189Z"
   },
   {
    "duration": 19,
    "start_time": "2022-05-25T09:37:59.915Z"
   },
   {
    "duration": 27,
    "start_time": "2022-05-25T09:38:03.853Z"
   },
   {
    "duration": 846,
    "start_time": "2022-05-25T09:38:37.223Z"
   },
   {
    "duration": 27916,
    "start_time": "2022-05-25T09:38:46.544Z"
   },
   {
    "duration": 6532,
    "start_time": "2022-05-25T09:39:29.442Z"
   },
   {
    "duration": 760,
    "start_time": "2022-05-25T15:58:21.350Z"
   },
   {
    "duration": 752,
    "start_time": "2022-05-25T15:59:25.963Z"
   },
   {
    "duration": 777,
    "start_time": "2022-05-25T15:59:51.292Z"
   },
   {
    "duration": 757,
    "start_time": "2022-05-25T15:59:56.384Z"
   },
   {
    "duration": 745,
    "start_time": "2022-05-25T16:00:33.462Z"
   },
   {
    "duration": 742,
    "start_time": "2022-05-25T16:00:40.742Z"
   },
   {
    "duration": 819,
    "start_time": "2022-05-25T16:01:03.677Z"
   },
   {
    "duration": 759,
    "start_time": "2022-05-25T16:01:18.102Z"
   },
   {
    "duration": 4,
    "start_time": "2022-05-25T16:01:31.101Z"
   },
   {
    "duration": 38,
    "start_time": "2022-05-25T16:01:32.212Z"
   },
   {
    "duration": 5,
    "start_time": "2022-05-25T16:01:32.713Z"
   },
   {
    "duration": 69,
    "start_time": "2022-05-25T16:01:33.321Z"
   },
   {
    "duration": 4,
    "start_time": "2022-05-25T16:01:35.980Z"
   },
   {
    "duration": 23,
    "start_time": "2022-05-25T16:01:37.421Z"
   },
   {
    "duration": 5,
    "start_time": "2022-05-25T16:01:39.017Z"
   },
   {
    "duration": 6,
    "start_time": "2022-05-25T16:01:39.781Z"
   },
   {
    "duration": 4,
    "start_time": "2022-05-25T16:01:40.728Z"
   },
   {
    "duration": 12,
    "start_time": "2022-05-25T16:01:44.053Z"
   },
   {
    "duration": 5,
    "start_time": "2022-05-25T16:01:46.308Z"
   },
   {
    "duration": 42,
    "start_time": "2022-05-25T16:01:47.910Z"
   },
   {
    "duration": 11,
    "start_time": "2022-05-25T16:01:52.428Z"
   },
   {
    "duration": 3,
    "start_time": "2022-05-25T16:01:56.329Z"
   },
   {
    "duration": 24,
    "start_time": "2022-05-25T16:01:57.528Z"
   },
   {
    "duration": 5,
    "start_time": "2022-05-25T16:01:58.430Z"
   },
   {
    "duration": 776,
    "start_time": "2022-05-25T16:02:30.525Z"
   },
   {
    "duration": 28,
    "start_time": "2022-05-25T16:03:47.224Z"
   },
   {
    "duration": 777,
    "start_time": "2022-05-25T16:04:05.167Z"
   },
   {
    "duration": 782,
    "start_time": "2022-05-25T16:04:32.665Z"
   },
   {
    "duration": 737,
    "start_time": "2022-05-25T16:04:49.137Z"
   },
   {
    "duration": 1167,
    "start_time": "2022-05-25T16:05:19.116Z"
   },
   {
    "duration": 42,
    "start_time": "2022-05-25T16:05:20.285Z"
   },
   {
    "duration": 3,
    "start_time": "2022-05-25T16:05:20.329Z"
   },
   {
    "duration": 77,
    "start_time": "2022-05-25T16:05:20.334Z"
   },
   {
    "duration": 3,
    "start_time": "2022-05-25T16:05:20.413Z"
   },
   {
    "duration": 22,
    "start_time": "2022-05-25T16:05:20.417Z"
   },
   {
    "duration": 5,
    "start_time": "2022-05-25T16:05:20.459Z"
   },
   {
    "duration": 8,
    "start_time": "2022-05-25T16:05:20.465Z"
   },
   {
    "duration": 6,
    "start_time": "2022-05-25T16:05:20.475Z"
   },
   {
    "duration": 17,
    "start_time": "2022-05-25T16:05:20.483Z"
   },
   {
    "duration": 5,
    "start_time": "2022-05-25T16:05:20.501Z"
   },
   {
    "duration": 57,
    "start_time": "2022-05-25T16:05:20.507Z"
   },
   {
    "duration": 11,
    "start_time": "2022-05-25T16:05:20.566Z"
   },
   {
    "duration": 5,
    "start_time": "2022-05-25T16:05:20.578Z"
   },
   {
    "duration": 29,
    "start_time": "2022-05-25T16:05:20.584Z"
   },
   {
    "duration": 5,
    "start_time": "2022-05-25T16:05:20.614Z"
   },
   {
    "duration": 749,
    "start_time": "2022-05-25T16:05:24.433Z"
   },
   {
    "duration": 740,
    "start_time": "2022-05-25T16:05:40.793Z"
   },
   {
    "duration": 788,
    "start_time": "2022-05-25T16:05:52.509Z"
   },
   {
    "duration": 781,
    "start_time": "2022-05-25T16:06:12.429Z"
   },
   {
    "duration": 313,
    "start_time": "2022-05-25T16:09:32.232Z"
   },
   {
    "duration": 272944,
    "start_time": "2022-05-25T16:09:54.528Z"
   },
   {
    "duration": 53,
    "start_time": "2022-05-25T16:16:43.368Z"
   },
   {
    "duration": 4691,
    "start_time": "2022-05-25T16:17:00.315Z"
   },
   {
    "duration": 4961,
    "start_time": "2022-05-25T16:17:11.701Z"
   },
   {
    "duration": 270006,
    "start_time": "2022-05-25T16:17:43.653Z"
   },
   {
    "duration": 32,
    "start_time": "2022-05-25T16:24:07.700Z"
   },
   {
    "duration": 357535,
    "start_time": "2022-05-25T16:33:12.424Z"
   },
   {
    "duration": 29,
    "start_time": "2022-05-25T16:40:54.535Z"
   },
   {
    "duration": 22,
    "start_time": "2022-05-25T16:41:02.011Z"
   },
   {
    "duration": 770,
    "start_time": "2022-05-25T16:41:41.000Z"
   },
   {
    "duration": 37,
    "start_time": "2022-05-25T16:42:44.543Z"
   },
   {
    "duration": 381,
    "start_time": "2022-05-25T16:42:57.591Z"
   },
   {
    "duration": 985,
    "start_time": "2022-05-25T16:43:20.211Z"
   },
   {
    "duration": 499,
    "start_time": "2022-05-25T16:44:31.368Z"
   },
   {
    "duration": 22,
    "start_time": "2022-05-25T16:49:36.688Z"
   },
   {
    "duration": 23,
    "start_time": "2022-05-25T16:50:09.898Z"
   },
   {
    "duration": 294,
    "start_time": "2022-05-25T16:50:10.799Z"
   },
   {
    "duration": 20,
    "start_time": "2022-05-25T16:50:11.927Z"
   },
   {
    "duration": 22,
    "start_time": "2022-05-25T16:50:13.119Z"
   },
   {
    "duration": 790,
    "start_time": "2022-05-25T16:53:36.256Z"
   },
   {
    "duration": 14233,
    "start_time": "2022-05-25T16:55:46.204Z"
   },
   {
    "duration": 292376,
    "start_time": "2022-05-25T17:02:34.720Z"
   },
   {
    "duration": 41,
    "start_time": "2022-05-25T17:07:57.823Z"
   },
   {
    "duration": 22,
    "start_time": "2022-05-25T17:07:58.903Z"
   },
   {
    "duration": 117,
    "start_time": "2022-05-25T17:10:26.941Z"
   },
   {
    "duration": 43092,
    "start_time": "2022-05-25T17:10:35.029Z"
   },
   {
    "duration": 60973,
    "start_time": "2022-05-25T17:11:25.644Z"
   },
   {
    "duration": 63285,
    "start_time": "2022-05-25T17:12:28.147Z"
   },
   {
    "duration": 34507,
    "start_time": "2022-05-25T17:13:40.131Z"
   },
   {
    "duration": 524335,
    "start_time": "2022-05-25T17:14:26.602Z"
   },
   {
    "duration": 514471,
    "start_time": "2022-05-25T17:24:40.930Z"
   },
   {
    "duration": 34,
    "start_time": "2022-05-25T17:34:10.044Z"
   },
   {
    "duration": 831,
    "start_time": "2022-05-25T17:35:45.836Z"
   },
   {
    "duration": 299887,
    "start_time": "2022-05-25T17:35:52.958Z"
   },
   {
    "duration": 105,
    "start_time": "2022-05-25T17:40:52.859Z"
   },
   {
    "duration": 54,
    "start_time": "2022-05-25T17:44:02.802Z"
   },
   {
    "duration": 20,
    "start_time": "2022-05-25T17:44:58.303Z"
   },
   {
    "duration": 14,
    "start_time": "2022-05-25T17:45:04.098Z"
   },
   {
    "duration": 297,
    "start_time": "2022-05-25T17:45:05.777Z"
   },
   {
    "duration": 17,
    "start_time": "2022-05-25T17:45:33.917Z"
   },
   {
    "duration": 65,
    "start_time": "2022-05-25T17:45:58.373Z"
   },
   {
    "duration": 637,
    "start_time": "2022-05-25T17:46:14.626Z"
   },
   {
    "duration": 591,
    "start_time": "2022-05-25T17:53:03.577Z"
   },
   {
    "duration": 904,
    "start_time": "2022-05-25T17:53:17.439Z"
   },
   {
    "duration": 38736,
    "start_time": "2022-05-25T17:54:12.474Z"
   },
   {
    "duration": 5471,
    "start_time": "2022-05-25T17:55:15.437Z"
   },
   {
    "duration": 749,
    "start_time": "2022-05-25T21:41:44.285Z"
   },
   {
    "duration": 1184,
    "start_time": "2022-05-25T21:42:24.877Z"
   },
   {
    "duration": 41,
    "start_time": "2022-05-25T21:43:31.787Z"
   },
   {
    "duration": 316,
    "start_time": "2022-05-25T21:44:03.355Z"
   },
   {
    "duration": 3063,
    "start_time": "2022-05-25T21:45:19.790Z"
   },
   {
    "duration": 1422,
    "start_time": "2022-05-25T21:46:01.284Z"
   },
   {
    "duration": 1221,
    "start_time": "2022-05-25T21:48:30.977Z"
   },
   {
    "duration": 65,
    "start_time": "2022-05-25T21:48:32.200Z"
   },
   {
    "duration": 3,
    "start_time": "2022-05-25T21:48:32.267Z"
   },
   {
    "duration": 94,
    "start_time": "2022-05-25T21:48:32.272Z"
   },
   {
    "duration": 3,
    "start_time": "2022-05-25T21:48:32.368Z"
   },
   {
    "duration": 26,
    "start_time": "2022-05-25T21:48:32.373Z"
   },
   {
    "duration": 5,
    "start_time": "2022-05-25T21:48:32.400Z"
   },
   {
    "duration": 20,
    "start_time": "2022-05-25T21:48:32.406Z"
   },
   {
    "duration": 9,
    "start_time": "2022-05-25T21:48:32.427Z"
   },
   {
    "duration": 20,
    "start_time": "2022-05-25T21:48:32.439Z"
   },
   {
    "duration": 4,
    "start_time": "2022-05-25T21:48:32.461Z"
   },
   {
    "duration": 46,
    "start_time": "2022-05-25T21:48:32.466Z"
   },
   {
    "duration": 9,
    "start_time": "2022-05-25T21:48:32.514Z"
   },
   {
    "duration": 2,
    "start_time": "2022-05-25T21:48:32.525Z"
   },
   {
    "duration": 38,
    "start_time": "2022-05-25T21:48:32.528Z"
   },
   {
    "duration": 5,
    "start_time": "2022-05-25T21:48:32.568Z"
   },
   {
    "duration": 787,
    "start_time": "2022-05-25T21:48:32.574Z"
   },
   {
    "duration": 281743,
    "start_time": "2022-05-25T21:48:33.363Z"
   },
   {
    "duration": 356185,
    "start_time": "2022-05-25T21:53:15.108Z"
   },
   {
    "duration": 165,
    "start_time": "2022-05-25T21:59:11.294Z"
   },
   {
    "duration": 400,
    "start_time": "2022-05-25T21:59:11.460Z"
   },
   {
    "duration": 1182,
    "start_time": "2022-05-25T21:59:11.862Z"
   },
   {
    "duration": 772,
    "start_time": "2022-05-25T21:59:13.045Z"
   },
   {
    "duration": 282576,
    "start_time": "2022-05-25T21:59:13.818Z"
   },
   {
    "duration": 174,
    "start_time": "2022-05-25T22:03:56.396Z"
   },
   {
    "duration": 14,
    "start_time": "2022-05-25T22:03:56.576Z"
   },
   {
    "duration": 375,
    "start_time": "2022-05-25T22:03:56.592Z"
   },
   {
    "duration": 15,
    "start_time": "2022-05-25T22:03:56.970Z"
   },
   {
    "duration": 675,
    "start_time": "2022-05-25T22:03:56.986Z"
   },
   {
    "duration": 948,
    "start_time": "2022-05-25T22:03:57.663Z"
   },
   {
    "duration": 226,
    "start_time": "2022-05-25T22:03:58.613Z"
   },
   {
    "duration": 0,
    "start_time": "2022-05-25T22:03:58.841Z"
   },
   {
    "duration": 0,
    "start_time": "2022-05-25T22:03:58.842Z"
   },
   {
    "duration": 0,
    "start_time": "2022-05-25T22:03:58.843Z"
   },
   {
    "duration": 0,
    "start_time": "2022-05-25T22:03:58.845Z"
   },
   {
    "duration": 12204,
    "start_time": "2022-05-25T22:06:35.677Z"
   },
   {
    "duration": 34,
    "start_time": "2022-05-25T22:07:24.355Z"
   },
   {
    "duration": 24,
    "start_time": "2022-05-25T22:07:29.915Z"
   },
   {
    "duration": 408,
    "start_time": "2022-05-25T22:07:35.579Z"
   },
   {
    "duration": 395,
    "start_time": "2022-05-25T22:07:58.970Z"
   },
   {
    "duration": 414,
    "start_time": "2022-05-26T08:10:45.251Z"
   },
   {
    "duration": 1797,
    "start_time": "2022-05-26T08:10:47.655Z"
   },
   {
    "duration": 312,
    "start_time": "2022-05-26T08:11:12.527Z"
   },
   {
    "duration": 323,
    "start_time": "2022-05-26T08:11:20.547Z"
   },
   {
    "duration": 455,
    "start_time": "2022-05-26T08:11:26.865Z"
   },
   {
    "duration": 4,
    "start_time": "2022-05-26T08:11:50.935Z"
   },
   {
    "duration": 3,
    "start_time": "2022-05-26T08:12:01.806Z"
   },
   {
    "duration": 188,
    "start_time": "2022-05-26T08:12:14.400Z"
   },
   {
    "duration": 2,
    "start_time": "2022-05-26T08:12:26.247Z"
   },
   {
    "duration": 3206,
    "start_time": "2022-05-26T08:12:39.364Z"
   },
   {
    "duration": 1435,
    "start_time": "2022-05-26T08:12:48.399Z"
   }
  ],
  "kernelspec": {
   "display_name": "Python 3 (ipykernel)",
   "language": "python",
   "name": "python3"
  },
  "language_info": {
   "codemirror_mode": {
    "name": "ipython",
    "version": 3
   },
   "file_extension": ".py",
   "mimetype": "text/x-python",
   "name": "python",
   "nbconvert_exporter": "python",
   "pygments_lexer": "ipython3",
   "version": "3.9.7"
  },
  "toc": {
   "base_numbering": 1,
   "nav_menu": {},
   "number_sections": false,
   "sideBar": true,
   "skip_h1_title": true,
   "title_cell": "Содержание",
   "title_sidebar": "Contents",
   "toc_cell": true,
   "toc_position": {
    "height": "calc(100% - 180px)",
    "left": "10px",
    "top": "150px",
    "width": "165px"
   },
   "toc_section_display": true,
   "toc_window_display": true
  }
 },
 "nbformat": 4,
 "nbformat_minor": 2
}
