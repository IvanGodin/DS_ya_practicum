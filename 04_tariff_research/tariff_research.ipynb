{
 "cells": [
  {
   "cell_type": "markdown",
   "id": "b703324f",
   "metadata": {},
   "source": [
    "# Определение перспективного тарифа для телеком-компании"
   ]
  },
  {
   "cell_type": "markdown",
   "id": "56b37671-85f3-4ad6-8fb9-872f6ce0f07f",
   "metadata": {},
   "source": [
    "## Описание проекта\n",
    "Вы аналитик компании «Мегалайн» — федерального оператора сотовой связи. Клиентам предлагают два тарифных плана: «Смарт» и «Ультра». Чтобы скорректировать рекламный бюджет, коммерческий департамент хочет понять, какой тариф приносит больше денег.\n",
    "Вам предстоит сделать предварительный анализ тарифов на небольшой выборке клиентов. В вашем распоряжении данные 500 пользователей «Мегалайна»: кто они, откуда, каким тарифом пользуются, сколько звонков и сообщений каждый отправил за 2018 год. Нужно проанализировать поведение клиентов и сделать вывод — какой тариф лучше."
   ]
  },
  {
   "cell_type": "markdown",
   "id": "ccd792f6-13bf-4ea8-8616-49b76a179635",
   "metadata": {},
   "source": [
    "## Описание тарифов\n",
    "Тариф «Смарт»\n",
    "Ежемесячная плата: 550 рублей\n",
    "Включено 500 минут разговора, 50 сообщений и 15 Гб интернет-трафика\n",
    "Стоимость услуг сверх тарифного пакета:\n",
    "минута разговора: 3 рубля\n",
    "сообщение: 3 рубля\n",
    "1 Гб интернет-трафика: 200 рублей\n",
    "Тариф «Ультра»\n",
    "Ежемесячная плата: 1950 рублей\n",
    "Включено 3000 минут разговора, 1000 сообщений и 30 Гб интернет-трафика\n",
    "Стоимость услуг сверх тарифного пакета:\n",
    "минута разговора: 1 рубль\n",
    "сообщение: 1 рубль\n",
    "1 Гб интернет-трафика: 150 рублей"
   ]
  },
  {
   "cell_type": "markdown",
   "id": "daf1a188-c798-4bd7-8893-f1eedc92e1c4",
   "metadata": {},
   "source": [
    "Примечание:\n",
    "«Мегалайн» всегда округляет секунды до минут, а мегабайты — до гигабайт. Каждый звонок округляется отдельно: даже если он длился всего 1 секунду, будет засчитан как 1 минута.\n",
    "Для веб-трафика отдельные сессии не считаются. Вместо этого общая сумма за месяц округляется в бо́льшую сторону. Если абонент использует 1025 мегабайт в этом месяце, с него возьмут плату за 2 гигабайта."
   ]
  },
  {
   "cell_type": "markdown",
   "id": "be0e80ce",
   "metadata": {},
   "source": [
    "## Описание тарифов\n",
    "### Тариф «Смарт»\n",
    "Ежемесячная плата: 550 рублей\n",
    "Включено 500 минут разговора, 50 сообщений и 15 Гб интернет-трафика\n",
    "Стоимость услуг сверх тарифного пакета:\n",
    "минута разговора: 3 рубля\n",
    "сообщение: 3 рубля\n",
    "1 Гб интернет-трафика: 200 рублей\n",
    "### Тариф «Ультра»\n",
    "Ежемесячная плата: 1950 рублей\n",
    "Включено 3000 минут разговора, 1000 сообщений и 30 Гб интернет-трафика\n",
    "Стоимость услуг сверх тарифного пакета:\n",
    "минута разговора: 1 рубль\n",
    "сообщение: 1 рубль\n",
    "1 Гб интернет-трафика: 150 рублей"
   ]
  },
  {
   "cell_type": "code",
   "execution_count": 1,
   "id": "7e62bcda-83ac-42c4-8690-86dce03e1931",
   "metadata": {},
   "outputs": [],
   "source": [
    "import pandas as pd\n",
    "import math as mt\n",
    "import matplotlib.pyplot as plt\n",
    "from scipy import stats as st\n",
    "import numpy as np\n",
    "import os"
   ]
  },
  {
   "cell_type": "markdown",
   "id": "85a54e12-af34-409d-bf40-35496d2b585d",
   "metadata": {},
   "source": [
    "<a id=\"(#start)\"></a>\n",
    "## Шаг 1. Откройте файл с данными и изучите общую информацию \n"
   ]
  },
  {
   "cell_type": "code",
   "execution_count": 2,
   "id": "cf25b733",
   "metadata": {},
   "outputs": [],
   "source": [
    "try:\n",
    "    calls = pd.read_csv('/datasets/calls.csv')\n",
    "    internet = pd.read_csv('/datasets/internet.csv')\n",
    "    messages = pd.read_csv('/datasets/messages.csv')\n",
    "    tariffs = pd.read_csv('/datasets/tariffs.csv')\n",
    "    users = pd.read_csv('/datasets/users.csv')\n",
    "except:\n",
    "    calls = pd.read_csv('calls.csv')\n",
    "    internet = pd.read_csv('internet.csv')\n",
    "    messages = pd.read_csv('messages.csv')\n",
    "    tariffs = pd.read_csv('tariffs.csv')\n",
    "    users = pd.read_csv('users.csv')"
   ]
  },
  {
   "cell_type": "code",
   "execution_count": 3,
   "id": "4ed87c6e-b320-40f2-89dd-71c58b275832",
   "metadata": {},
   "outputs": [],
   "source": [
    "def rewiev(row):\n",
    "    print('info')\n",
    "    display(row.info())\n",
    "    print('----------------------------------------------------')\n",
    "    print('head')\n",
    "    display(row.head())\n",
    "    print('----------------------------------------------------')\n",
    "    print('isna')      \n",
    "    display(row.isna().sum())\n",
    "    print('----------------------------------------------------')\n",
    "    print('describe')      \n",
    "    display(row.describe())\n",
    "    print('----------------------------------------------------')\n",
    "    return"
   ]
  },
  {
   "cell_type": "code",
   "execution_count": 4,
   "id": "63fa71fa-4735-42ae-a287-2fa4d3dd8d9b",
   "metadata": {
    "scrolled": false
   },
   "outputs": [
    {
     "name": "stdout",
     "output_type": "stream",
     "text": [
      "info\n",
      "<class 'pandas.core.frame.DataFrame'>\n",
      "RangeIndex: 202607 entries, 0 to 202606\n",
      "Data columns (total 4 columns):\n",
      " #   Column     Non-Null Count   Dtype  \n",
      "---  ------     --------------   -----  \n",
      " 0   id         202607 non-null  object \n",
      " 1   call_date  202607 non-null  object \n",
      " 2   duration   202607 non-null  float64\n",
      " 3   user_id    202607 non-null  int64  \n",
      "dtypes: float64(1), int64(1), object(2)\n",
      "memory usage: 6.2+ MB\n"
     ]
    },
    {
     "data": {
      "text/plain": [
       "None"
      ]
     },
     "metadata": {},
     "output_type": "display_data"
    },
    {
     "name": "stdout",
     "output_type": "stream",
     "text": [
      "----------------------------------------------------\n",
      "head\n"
     ]
    },
    {
     "data": {
      "text/html": [
       "<div>\n",
       "<style scoped>\n",
       "    .dataframe tbody tr th:only-of-type {\n",
       "        vertical-align: middle;\n",
       "    }\n",
       "\n",
       "    .dataframe tbody tr th {\n",
       "        vertical-align: top;\n",
       "    }\n",
       "\n",
       "    .dataframe thead th {\n",
       "        text-align: right;\n",
       "    }\n",
       "</style>\n",
       "<table border=\"1\" class=\"dataframe\">\n",
       "  <thead>\n",
       "    <tr style=\"text-align: right;\">\n",
       "      <th></th>\n",
       "      <th>id</th>\n",
       "      <th>call_date</th>\n",
       "      <th>duration</th>\n",
       "      <th>user_id</th>\n",
       "    </tr>\n",
       "  </thead>\n",
       "  <tbody>\n",
       "    <tr>\n",
       "      <th>0</th>\n",
       "      <td>1000_0</td>\n",
       "      <td>2018-07-25</td>\n",
       "      <td>0.00</td>\n",
       "      <td>1000</td>\n",
       "    </tr>\n",
       "    <tr>\n",
       "      <th>1</th>\n",
       "      <td>1000_1</td>\n",
       "      <td>2018-08-17</td>\n",
       "      <td>0.00</td>\n",
       "      <td>1000</td>\n",
       "    </tr>\n",
       "    <tr>\n",
       "      <th>2</th>\n",
       "      <td>1000_2</td>\n",
       "      <td>2018-06-11</td>\n",
       "      <td>2.85</td>\n",
       "      <td>1000</td>\n",
       "    </tr>\n",
       "    <tr>\n",
       "      <th>3</th>\n",
       "      <td>1000_3</td>\n",
       "      <td>2018-09-21</td>\n",
       "      <td>13.80</td>\n",
       "      <td>1000</td>\n",
       "    </tr>\n",
       "    <tr>\n",
       "      <th>4</th>\n",
       "      <td>1000_4</td>\n",
       "      <td>2018-12-15</td>\n",
       "      <td>5.18</td>\n",
       "      <td>1000</td>\n",
       "    </tr>\n",
       "  </tbody>\n",
       "</table>\n",
       "</div>"
      ],
      "text/plain": [
       "       id   call_date  duration  user_id\n",
       "0  1000_0  2018-07-25      0.00     1000\n",
       "1  1000_1  2018-08-17      0.00     1000\n",
       "2  1000_2  2018-06-11      2.85     1000\n",
       "3  1000_3  2018-09-21     13.80     1000\n",
       "4  1000_4  2018-12-15      5.18     1000"
      ]
     },
     "metadata": {},
     "output_type": "display_data"
    },
    {
     "name": "stdout",
     "output_type": "stream",
     "text": [
      "----------------------------------------------------\n",
      "isna\n"
     ]
    },
    {
     "data": {
      "text/plain": [
       "id           0\n",
       "call_date    0\n",
       "duration     0\n",
       "user_id      0\n",
       "dtype: int64"
      ]
     },
     "metadata": {},
     "output_type": "display_data"
    },
    {
     "name": "stdout",
     "output_type": "stream",
     "text": [
      "----------------------------------------------------\n",
      "describe\n"
     ]
    },
    {
     "data": {
      "text/html": [
       "<div>\n",
       "<style scoped>\n",
       "    .dataframe tbody tr th:only-of-type {\n",
       "        vertical-align: middle;\n",
       "    }\n",
       "\n",
       "    .dataframe tbody tr th {\n",
       "        vertical-align: top;\n",
       "    }\n",
       "\n",
       "    .dataframe thead th {\n",
       "        text-align: right;\n",
       "    }\n",
       "</style>\n",
       "<table border=\"1\" class=\"dataframe\">\n",
       "  <thead>\n",
       "    <tr style=\"text-align: right;\">\n",
       "      <th></th>\n",
       "      <th>duration</th>\n",
       "      <th>user_id</th>\n",
       "    </tr>\n",
       "  </thead>\n",
       "  <tbody>\n",
       "    <tr>\n",
       "      <th>count</th>\n",
       "      <td>202607.000000</td>\n",
       "      <td>202607.000000</td>\n",
       "    </tr>\n",
       "    <tr>\n",
       "      <th>mean</th>\n",
       "      <td>6.755887</td>\n",
       "      <td>1253.940619</td>\n",
       "    </tr>\n",
       "    <tr>\n",
       "      <th>std</th>\n",
       "      <td>5.843365</td>\n",
       "      <td>144.722751</td>\n",
       "    </tr>\n",
       "    <tr>\n",
       "      <th>min</th>\n",
       "      <td>0.000000</td>\n",
       "      <td>1000.000000</td>\n",
       "    </tr>\n",
       "    <tr>\n",
       "      <th>25%</th>\n",
       "      <td>1.300000</td>\n",
       "      <td>1126.000000</td>\n",
       "    </tr>\n",
       "    <tr>\n",
       "      <th>50%</th>\n",
       "      <td>6.000000</td>\n",
       "      <td>1260.000000</td>\n",
       "    </tr>\n",
       "    <tr>\n",
       "      <th>75%</th>\n",
       "      <td>10.700000</td>\n",
       "      <td>1379.000000</td>\n",
       "    </tr>\n",
       "    <tr>\n",
       "      <th>max</th>\n",
       "      <td>38.000000</td>\n",
       "      <td>1499.000000</td>\n",
       "    </tr>\n",
       "  </tbody>\n",
       "</table>\n",
       "</div>"
      ],
      "text/plain": [
       "            duration        user_id\n",
       "count  202607.000000  202607.000000\n",
       "mean        6.755887    1253.940619\n",
       "std         5.843365     144.722751\n",
       "min         0.000000    1000.000000\n",
       "25%         1.300000    1126.000000\n",
       "50%         6.000000    1260.000000\n",
       "75%        10.700000    1379.000000\n",
       "max        38.000000    1499.000000"
      ]
     },
     "metadata": {},
     "output_type": "display_data"
    },
    {
     "name": "stdout",
     "output_type": "stream",
     "text": [
      "----------------------------------------------------\n"
     ]
    }
   ],
   "source": [
    "rewiev(calls)"
   ]
  },
  {
   "cell_type": "markdown",
   "id": "eebf8655",
   "metadata": {},
   "source": [
    "Пропусков нет\\\n",
    "call_date нужно впривести к типу datetime\\\n",
    "В остальном выглядит нормально"
   ]
  },
  {
   "cell_type": "code",
   "execution_count": 5,
   "id": "cbcafeeb-6bc9-41f7-aeb5-e9abc7bbd271",
   "metadata": {
    "scrolled": false
   },
   "outputs": [
    {
     "name": "stdout",
     "output_type": "stream",
     "text": [
      "info\n",
      "<class 'pandas.core.frame.DataFrame'>\n",
      "RangeIndex: 149396 entries, 0 to 149395\n",
      "Data columns (total 5 columns):\n",
      " #   Column        Non-Null Count   Dtype  \n",
      "---  ------        --------------   -----  \n",
      " 0   Unnamed: 0    149396 non-null  int64  \n",
      " 1   id            149396 non-null  object \n",
      " 2   mb_used       149396 non-null  float64\n",
      " 3   session_date  149396 non-null  object \n",
      " 4   user_id       149396 non-null  int64  \n",
      "dtypes: float64(1), int64(2), object(2)\n",
      "memory usage: 5.7+ MB\n"
     ]
    },
    {
     "data": {
      "text/plain": [
       "None"
      ]
     },
     "metadata": {},
     "output_type": "display_data"
    },
    {
     "name": "stdout",
     "output_type": "stream",
     "text": [
      "----------------------------------------------------\n",
      "head\n"
     ]
    },
    {
     "data": {
      "text/html": [
       "<div>\n",
       "<style scoped>\n",
       "    .dataframe tbody tr th:only-of-type {\n",
       "        vertical-align: middle;\n",
       "    }\n",
       "\n",
       "    .dataframe tbody tr th {\n",
       "        vertical-align: top;\n",
       "    }\n",
       "\n",
       "    .dataframe thead th {\n",
       "        text-align: right;\n",
       "    }\n",
       "</style>\n",
       "<table border=\"1\" class=\"dataframe\">\n",
       "  <thead>\n",
       "    <tr style=\"text-align: right;\">\n",
       "      <th></th>\n",
       "      <th>Unnamed: 0</th>\n",
       "      <th>id</th>\n",
       "      <th>mb_used</th>\n",
       "      <th>session_date</th>\n",
       "      <th>user_id</th>\n",
       "    </tr>\n",
       "  </thead>\n",
       "  <tbody>\n",
       "    <tr>\n",
       "      <th>0</th>\n",
       "      <td>0</td>\n",
       "      <td>1000_0</td>\n",
       "      <td>112.95</td>\n",
       "      <td>2018-11-25</td>\n",
       "      <td>1000</td>\n",
       "    </tr>\n",
       "    <tr>\n",
       "      <th>1</th>\n",
       "      <td>1</td>\n",
       "      <td>1000_1</td>\n",
       "      <td>1052.81</td>\n",
       "      <td>2018-09-07</td>\n",
       "      <td>1000</td>\n",
       "    </tr>\n",
       "    <tr>\n",
       "      <th>2</th>\n",
       "      <td>2</td>\n",
       "      <td>1000_2</td>\n",
       "      <td>1197.26</td>\n",
       "      <td>2018-06-25</td>\n",
       "      <td>1000</td>\n",
       "    </tr>\n",
       "    <tr>\n",
       "      <th>3</th>\n",
       "      <td>3</td>\n",
       "      <td>1000_3</td>\n",
       "      <td>550.27</td>\n",
       "      <td>2018-08-22</td>\n",
       "      <td>1000</td>\n",
       "    </tr>\n",
       "    <tr>\n",
       "      <th>4</th>\n",
       "      <td>4</td>\n",
       "      <td>1000_4</td>\n",
       "      <td>302.56</td>\n",
       "      <td>2018-09-24</td>\n",
       "      <td>1000</td>\n",
       "    </tr>\n",
       "  </tbody>\n",
       "</table>\n",
       "</div>"
      ],
      "text/plain": [
       "   Unnamed: 0      id  mb_used session_date  user_id\n",
       "0           0  1000_0   112.95   2018-11-25     1000\n",
       "1           1  1000_1  1052.81   2018-09-07     1000\n",
       "2           2  1000_2  1197.26   2018-06-25     1000\n",
       "3           3  1000_3   550.27   2018-08-22     1000\n",
       "4           4  1000_4   302.56   2018-09-24     1000"
      ]
     },
     "metadata": {},
     "output_type": "display_data"
    },
    {
     "name": "stdout",
     "output_type": "stream",
     "text": [
      "----------------------------------------------------\n",
      "isna\n"
     ]
    },
    {
     "data": {
      "text/plain": [
       "Unnamed: 0      0\n",
       "id              0\n",
       "mb_used         0\n",
       "session_date    0\n",
       "user_id         0\n",
       "dtype: int64"
      ]
     },
     "metadata": {},
     "output_type": "display_data"
    },
    {
     "name": "stdout",
     "output_type": "stream",
     "text": [
      "----------------------------------------------------\n",
      "describe\n"
     ]
    },
    {
     "data": {
      "text/html": [
       "<div>\n",
       "<style scoped>\n",
       "    .dataframe tbody tr th:only-of-type {\n",
       "        vertical-align: middle;\n",
       "    }\n",
       "\n",
       "    .dataframe tbody tr th {\n",
       "        vertical-align: top;\n",
       "    }\n",
       "\n",
       "    .dataframe thead th {\n",
       "        text-align: right;\n",
       "    }\n",
       "</style>\n",
       "<table border=\"1\" class=\"dataframe\">\n",
       "  <thead>\n",
       "    <tr style=\"text-align: right;\">\n",
       "      <th></th>\n",
       "      <th>Unnamed: 0</th>\n",
       "      <th>mb_used</th>\n",
       "      <th>user_id</th>\n",
       "    </tr>\n",
       "  </thead>\n",
       "  <tbody>\n",
       "    <tr>\n",
       "      <th>count</th>\n",
       "      <td>149396.000000</td>\n",
       "      <td>149396.000000</td>\n",
       "      <td>149396.000000</td>\n",
       "    </tr>\n",
       "    <tr>\n",
       "      <th>mean</th>\n",
       "      <td>74697.500000</td>\n",
       "      <td>370.192426</td>\n",
       "      <td>1252.099842</td>\n",
       "    </tr>\n",
       "    <tr>\n",
       "      <th>std</th>\n",
       "      <td>43127.054745</td>\n",
       "      <td>278.300951</td>\n",
       "      <td>144.050823</td>\n",
       "    </tr>\n",
       "    <tr>\n",
       "      <th>min</th>\n",
       "      <td>0.000000</td>\n",
       "      <td>0.000000</td>\n",
       "      <td>1000.000000</td>\n",
       "    </tr>\n",
       "    <tr>\n",
       "      <th>25%</th>\n",
       "      <td>37348.750000</td>\n",
       "      <td>138.187500</td>\n",
       "      <td>1130.000000</td>\n",
       "    </tr>\n",
       "    <tr>\n",
       "      <th>50%</th>\n",
       "      <td>74697.500000</td>\n",
       "      <td>348.015000</td>\n",
       "      <td>1251.000000</td>\n",
       "    </tr>\n",
       "    <tr>\n",
       "      <th>75%</th>\n",
       "      <td>112046.250000</td>\n",
       "      <td>559.552500</td>\n",
       "      <td>1380.000000</td>\n",
       "    </tr>\n",
       "    <tr>\n",
       "      <th>max</th>\n",
       "      <td>149395.000000</td>\n",
       "      <td>1724.830000</td>\n",
       "      <td>1499.000000</td>\n",
       "    </tr>\n",
       "  </tbody>\n",
       "</table>\n",
       "</div>"
      ],
      "text/plain": [
       "          Unnamed: 0        mb_used        user_id\n",
       "count  149396.000000  149396.000000  149396.000000\n",
       "mean    74697.500000     370.192426    1252.099842\n",
       "std     43127.054745     278.300951     144.050823\n",
       "min         0.000000       0.000000    1000.000000\n",
       "25%     37348.750000     138.187500    1130.000000\n",
       "50%     74697.500000     348.015000    1251.000000\n",
       "75%    112046.250000     559.552500    1380.000000\n",
       "max    149395.000000    1724.830000    1499.000000"
      ]
     },
     "metadata": {},
     "output_type": "display_data"
    },
    {
     "name": "stdout",
     "output_type": "stream",
     "text": [
      "----------------------------------------------------\n"
     ]
    }
   ],
   "source": [
    "rewiev(internet)"
   ]
  },
  {
   "cell_type": "markdown",
   "id": "72fe1c8f",
   "metadata": {},
   "source": [
    "Пропусков нет\\\n",
    "session_date нужно привести к типу datetime\\\n",
    "Unnamed: 0 лишний столбец равный индексу, нужно удалить"
   ]
  },
  {
   "cell_type": "code",
   "execution_count": 6,
   "id": "841397c1-dc0d-406f-bafa-885dd0867cf0",
   "metadata": {
    "scrolled": false
   },
   "outputs": [
    {
     "name": "stdout",
     "output_type": "stream",
     "text": [
      "info\n",
      "<class 'pandas.core.frame.DataFrame'>\n",
      "RangeIndex: 123036 entries, 0 to 123035\n",
      "Data columns (total 3 columns):\n",
      " #   Column        Non-Null Count   Dtype \n",
      "---  ------        --------------   ----- \n",
      " 0   id            123036 non-null  object\n",
      " 1   message_date  123036 non-null  object\n",
      " 2   user_id       123036 non-null  int64 \n",
      "dtypes: int64(1), object(2)\n",
      "memory usage: 2.8+ MB\n"
     ]
    },
    {
     "data": {
      "text/plain": [
       "None"
      ]
     },
     "metadata": {},
     "output_type": "display_data"
    },
    {
     "name": "stdout",
     "output_type": "stream",
     "text": [
      "----------------------------------------------------\n",
      "head\n"
     ]
    },
    {
     "data": {
      "text/html": [
       "<div>\n",
       "<style scoped>\n",
       "    .dataframe tbody tr th:only-of-type {\n",
       "        vertical-align: middle;\n",
       "    }\n",
       "\n",
       "    .dataframe tbody tr th {\n",
       "        vertical-align: top;\n",
       "    }\n",
       "\n",
       "    .dataframe thead th {\n",
       "        text-align: right;\n",
       "    }\n",
       "</style>\n",
       "<table border=\"1\" class=\"dataframe\">\n",
       "  <thead>\n",
       "    <tr style=\"text-align: right;\">\n",
       "      <th></th>\n",
       "      <th>id</th>\n",
       "      <th>message_date</th>\n",
       "      <th>user_id</th>\n",
       "    </tr>\n",
       "  </thead>\n",
       "  <tbody>\n",
       "    <tr>\n",
       "      <th>0</th>\n",
       "      <td>1000_0</td>\n",
       "      <td>2018-06-27</td>\n",
       "      <td>1000</td>\n",
       "    </tr>\n",
       "    <tr>\n",
       "      <th>1</th>\n",
       "      <td>1000_1</td>\n",
       "      <td>2018-10-08</td>\n",
       "      <td>1000</td>\n",
       "    </tr>\n",
       "    <tr>\n",
       "      <th>2</th>\n",
       "      <td>1000_2</td>\n",
       "      <td>2018-08-04</td>\n",
       "      <td>1000</td>\n",
       "    </tr>\n",
       "    <tr>\n",
       "      <th>3</th>\n",
       "      <td>1000_3</td>\n",
       "      <td>2018-06-16</td>\n",
       "      <td>1000</td>\n",
       "    </tr>\n",
       "    <tr>\n",
       "      <th>4</th>\n",
       "      <td>1000_4</td>\n",
       "      <td>2018-12-05</td>\n",
       "      <td>1000</td>\n",
       "    </tr>\n",
       "  </tbody>\n",
       "</table>\n",
       "</div>"
      ],
      "text/plain": [
       "       id message_date  user_id\n",
       "0  1000_0   2018-06-27     1000\n",
       "1  1000_1   2018-10-08     1000\n",
       "2  1000_2   2018-08-04     1000\n",
       "3  1000_3   2018-06-16     1000\n",
       "4  1000_4   2018-12-05     1000"
      ]
     },
     "metadata": {},
     "output_type": "display_data"
    },
    {
     "name": "stdout",
     "output_type": "stream",
     "text": [
      "----------------------------------------------------\n",
      "isna\n"
     ]
    },
    {
     "data": {
      "text/plain": [
       "id              0\n",
       "message_date    0\n",
       "user_id         0\n",
       "dtype: int64"
      ]
     },
     "metadata": {},
     "output_type": "display_data"
    },
    {
     "name": "stdout",
     "output_type": "stream",
     "text": [
      "----------------------------------------------------\n",
      "describe\n"
     ]
    },
    {
     "data": {
      "text/html": [
       "<div>\n",
       "<style scoped>\n",
       "    .dataframe tbody tr th:only-of-type {\n",
       "        vertical-align: middle;\n",
       "    }\n",
       "\n",
       "    .dataframe tbody tr th {\n",
       "        vertical-align: top;\n",
       "    }\n",
       "\n",
       "    .dataframe thead th {\n",
       "        text-align: right;\n",
       "    }\n",
       "</style>\n",
       "<table border=\"1\" class=\"dataframe\">\n",
       "  <thead>\n",
       "    <tr style=\"text-align: right;\">\n",
       "      <th></th>\n",
       "      <th>user_id</th>\n",
       "    </tr>\n",
       "  </thead>\n",
       "  <tbody>\n",
       "    <tr>\n",
       "      <th>count</th>\n",
       "      <td>123036.000000</td>\n",
       "    </tr>\n",
       "    <tr>\n",
       "      <th>mean</th>\n",
       "      <td>1256.989410</td>\n",
       "    </tr>\n",
       "    <tr>\n",
       "      <th>std</th>\n",
       "      <td>143.523967</td>\n",
       "    </tr>\n",
       "    <tr>\n",
       "      <th>min</th>\n",
       "      <td>1000.000000</td>\n",
       "    </tr>\n",
       "    <tr>\n",
       "      <th>25%</th>\n",
       "      <td>1134.000000</td>\n",
       "    </tr>\n",
       "    <tr>\n",
       "      <th>50%</th>\n",
       "      <td>1271.000000</td>\n",
       "    </tr>\n",
       "    <tr>\n",
       "      <th>75%</th>\n",
       "      <td>1381.000000</td>\n",
       "    </tr>\n",
       "    <tr>\n",
       "      <th>max</th>\n",
       "      <td>1499.000000</td>\n",
       "    </tr>\n",
       "  </tbody>\n",
       "</table>\n",
       "</div>"
      ],
      "text/plain": [
       "             user_id\n",
       "count  123036.000000\n",
       "mean     1256.989410\n",
       "std       143.523967\n",
       "min      1000.000000\n",
       "25%      1134.000000\n",
       "50%      1271.000000\n",
       "75%      1381.000000\n",
       "max      1499.000000"
      ]
     },
     "metadata": {},
     "output_type": "display_data"
    },
    {
     "name": "stdout",
     "output_type": "stream",
     "text": [
      "----------------------------------------------------\n"
     ]
    }
   ],
   "source": [
    "rewiev(messages)"
   ]
  },
  {
   "cell_type": "markdown",
   "id": "cafe317a",
   "metadata": {},
   "source": [
    "Пропусков нет\\\n",
    "message_date нужно привести к типу datetame\\"
   ]
  },
  {
   "cell_type": "code",
   "execution_count": 7,
   "id": "166da8a0-842c-4d26-879d-5414d48ec7bc",
   "metadata": {},
   "outputs": [
    {
     "name": "stdout",
     "output_type": "stream",
     "text": [
      "info\n",
      "<class 'pandas.core.frame.DataFrame'>\n",
      "RangeIndex: 2 entries, 0 to 1\n",
      "Data columns (total 8 columns):\n",
      " #   Column                 Non-Null Count  Dtype \n",
      "---  ------                 --------------  ----- \n",
      " 0   messages_included      2 non-null      int64 \n",
      " 1   mb_per_month_included  2 non-null      int64 \n",
      " 2   minutes_included       2 non-null      int64 \n",
      " 3   rub_monthly_fee        2 non-null      int64 \n",
      " 4   rub_per_gb             2 non-null      int64 \n",
      " 5   rub_per_message        2 non-null      int64 \n",
      " 6   rub_per_minute         2 non-null      int64 \n",
      " 7   tariff_name            2 non-null      object\n",
      "dtypes: int64(7), object(1)\n",
      "memory usage: 256.0+ bytes\n"
     ]
    },
    {
     "data": {
      "text/plain": [
       "None"
      ]
     },
     "metadata": {},
     "output_type": "display_data"
    },
    {
     "name": "stdout",
     "output_type": "stream",
     "text": [
      "----------------------------------------------------\n",
      "head\n"
     ]
    },
    {
     "data": {
      "text/html": [
       "<div>\n",
       "<style scoped>\n",
       "    .dataframe tbody tr th:only-of-type {\n",
       "        vertical-align: middle;\n",
       "    }\n",
       "\n",
       "    .dataframe tbody tr th {\n",
       "        vertical-align: top;\n",
       "    }\n",
       "\n",
       "    .dataframe thead th {\n",
       "        text-align: right;\n",
       "    }\n",
       "</style>\n",
       "<table border=\"1\" class=\"dataframe\">\n",
       "  <thead>\n",
       "    <tr style=\"text-align: right;\">\n",
       "      <th></th>\n",
       "      <th>messages_included</th>\n",
       "      <th>mb_per_month_included</th>\n",
       "      <th>minutes_included</th>\n",
       "      <th>rub_monthly_fee</th>\n",
       "      <th>rub_per_gb</th>\n",
       "      <th>rub_per_message</th>\n",
       "      <th>rub_per_minute</th>\n",
       "      <th>tariff_name</th>\n",
       "    </tr>\n",
       "  </thead>\n",
       "  <tbody>\n",
       "    <tr>\n",
       "      <th>0</th>\n",
       "      <td>50</td>\n",
       "      <td>15360</td>\n",
       "      <td>500</td>\n",
       "      <td>550</td>\n",
       "      <td>200</td>\n",
       "      <td>3</td>\n",
       "      <td>3</td>\n",
       "      <td>smart</td>\n",
       "    </tr>\n",
       "    <tr>\n",
       "      <th>1</th>\n",
       "      <td>1000</td>\n",
       "      <td>30720</td>\n",
       "      <td>3000</td>\n",
       "      <td>1950</td>\n",
       "      <td>150</td>\n",
       "      <td>1</td>\n",
       "      <td>1</td>\n",
       "      <td>ultra</td>\n",
       "    </tr>\n",
       "  </tbody>\n",
       "</table>\n",
       "</div>"
      ],
      "text/plain": [
       "   messages_included  mb_per_month_included  minutes_included  \\\n",
       "0                 50                  15360               500   \n",
       "1               1000                  30720              3000   \n",
       "\n",
       "   rub_monthly_fee  rub_per_gb  rub_per_message  rub_per_minute tariff_name  \n",
       "0              550         200                3               3       smart  \n",
       "1             1950         150                1               1       ultra  "
      ]
     },
     "metadata": {},
     "output_type": "display_data"
    },
    {
     "name": "stdout",
     "output_type": "stream",
     "text": [
      "----------------------------------------------------\n",
      "isna\n"
     ]
    },
    {
     "data": {
      "text/plain": [
       "messages_included        0\n",
       "mb_per_month_included    0\n",
       "minutes_included         0\n",
       "rub_monthly_fee          0\n",
       "rub_per_gb               0\n",
       "rub_per_message          0\n",
       "rub_per_minute           0\n",
       "tariff_name              0\n",
       "dtype: int64"
      ]
     },
     "metadata": {},
     "output_type": "display_data"
    },
    {
     "name": "stdout",
     "output_type": "stream",
     "text": [
      "----------------------------------------------------\n",
      "describe\n"
     ]
    },
    {
     "data": {
      "text/html": [
       "<div>\n",
       "<style scoped>\n",
       "    .dataframe tbody tr th:only-of-type {\n",
       "        vertical-align: middle;\n",
       "    }\n",
       "\n",
       "    .dataframe tbody tr th {\n",
       "        vertical-align: top;\n",
       "    }\n",
       "\n",
       "    .dataframe thead th {\n",
       "        text-align: right;\n",
       "    }\n",
       "</style>\n",
       "<table border=\"1\" class=\"dataframe\">\n",
       "  <thead>\n",
       "    <tr style=\"text-align: right;\">\n",
       "      <th></th>\n",
       "      <th>messages_included</th>\n",
       "      <th>mb_per_month_included</th>\n",
       "      <th>minutes_included</th>\n",
       "      <th>rub_monthly_fee</th>\n",
       "      <th>rub_per_gb</th>\n",
       "      <th>rub_per_message</th>\n",
       "      <th>rub_per_minute</th>\n",
       "    </tr>\n",
       "  </thead>\n",
       "  <tbody>\n",
       "    <tr>\n",
       "      <th>count</th>\n",
       "      <td>2.000000</td>\n",
       "      <td>2.000000</td>\n",
       "      <td>2.000000</td>\n",
       "      <td>2.000000</td>\n",
       "      <td>2.000000</td>\n",
       "      <td>2.000000</td>\n",
       "      <td>2.000000</td>\n",
       "    </tr>\n",
       "    <tr>\n",
       "      <th>mean</th>\n",
       "      <td>525.000000</td>\n",
       "      <td>23040.000000</td>\n",
       "      <td>1750.000000</td>\n",
       "      <td>1250.000000</td>\n",
       "      <td>175.000000</td>\n",
       "      <td>2.000000</td>\n",
       "      <td>2.000000</td>\n",
       "    </tr>\n",
       "    <tr>\n",
       "      <th>std</th>\n",
       "      <td>671.751442</td>\n",
       "      <td>10861.160159</td>\n",
       "      <td>1767.766953</td>\n",
       "      <td>989.949494</td>\n",
       "      <td>35.355339</td>\n",
       "      <td>1.414214</td>\n",
       "      <td>1.414214</td>\n",
       "    </tr>\n",
       "    <tr>\n",
       "      <th>min</th>\n",
       "      <td>50.000000</td>\n",
       "      <td>15360.000000</td>\n",
       "      <td>500.000000</td>\n",
       "      <td>550.000000</td>\n",
       "      <td>150.000000</td>\n",
       "      <td>1.000000</td>\n",
       "      <td>1.000000</td>\n",
       "    </tr>\n",
       "    <tr>\n",
       "      <th>25%</th>\n",
       "      <td>287.500000</td>\n",
       "      <td>19200.000000</td>\n",
       "      <td>1125.000000</td>\n",
       "      <td>900.000000</td>\n",
       "      <td>162.500000</td>\n",
       "      <td>1.500000</td>\n",
       "      <td>1.500000</td>\n",
       "    </tr>\n",
       "    <tr>\n",
       "      <th>50%</th>\n",
       "      <td>525.000000</td>\n",
       "      <td>23040.000000</td>\n",
       "      <td>1750.000000</td>\n",
       "      <td>1250.000000</td>\n",
       "      <td>175.000000</td>\n",
       "      <td>2.000000</td>\n",
       "      <td>2.000000</td>\n",
       "    </tr>\n",
       "    <tr>\n",
       "      <th>75%</th>\n",
       "      <td>762.500000</td>\n",
       "      <td>26880.000000</td>\n",
       "      <td>2375.000000</td>\n",
       "      <td>1600.000000</td>\n",
       "      <td>187.500000</td>\n",
       "      <td>2.500000</td>\n",
       "      <td>2.500000</td>\n",
       "    </tr>\n",
       "    <tr>\n",
       "      <th>max</th>\n",
       "      <td>1000.000000</td>\n",
       "      <td>30720.000000</td>\n",
       "      <td>3000.000000</td>\n",
       "      <td>1950.000000</td>\n",
       "      <td>200.000000</td>\n",
       "      <td>3.000000</td>\n",
       "      <td>3.000000</td>\n",
       "    </tr>\n",
       "  </tbody>\n",
       "</table>\n",
       "</div>"
      ],
      "text/plain": [
       "       messages_included  mb_per_month_included  minutes_included  \\\n",
       "count           2.000000               2.000000          2.000000   \n",
       "mean          525.000000           23040.000000       1750.000000   \n",
       "std           671.751442           10861.160159       1767.766953   \n",
       "min            50.000000           15360.000000        500.000000   \n",
       "25%           287.500000           19200.000000       1125.000000   \n",
       "50%           525.000000           23040.000000       1750.000000   \n",
       "75%           762.500000           26880.000000       2375.000000   \n",
       "max          1000.000000           30720.000000       3000.000000   \n",
       "\n",
       "       rub_monthly_fee  rub_per_gb  rub_per_message  rub_per_minute  \n",
       "count         2.000000    2.000000         2.000000        2.000000  \n",
       "mean       1250.000000  175.000000         2.000000        2.000000  \n",
       "std         989.949494   35.355339         1.414214        1.414214  \n",
       "min         550.000000  150.000000         1.000000        1.000000  \n",
       "25%         900.000000  162.500000         1.500000        1.500000  \n",
       "50%        1250.000000  175.000000         2.000000        2.000000  \n",
       "75%        1600.000000  187.500000         2.500000        2.500000  \n",
       "max        1950.000000  200.000000         3.000000        3.000000  "
      ]
     },
     "metadata": {},
     "output_type": "display_data"
    },
    {
     "name": "stdout",
     "output_type": "stream",
     "text": [
      "----------------------------------------------------\n"
     ]
    }
   ],
   "source": [
    "rewiev(tariffs)"
   ]
  },
  {
   "cell_type": "markdown",
   "id": "777161e8",
   "metadata": {},
   "source": [
    "Пропусков нет\\\n",
    "Визуально все ок"
   ]
  },
  {
   "cell_type": "code",
   "execution_count": 8,
   "id": "499bb6e6-2c0c-4a82-af5f-41236b1b420e",
   "metadata": {},
   "outputs": [
    {
     "name": "stdout",
     "output_type": "stream",
     "text": [
      "info\n",
      "<class 'pandas.core.frame.DataFrame'>\n",
      "RangeIndex: 500 entries, 0 to 499\n",
      "Data columns (total 8 columns):\n",
      " #   Column      Non-Null Count  Dtype \n",
      "---  ------      --------------  ----- \n",
      " 0   user_id     500 non-null    int64 \n",
      " 1   age         500 non-null    int64 \n",
      " 2   churn_date  38 non-null     object\n",
      " 3   city        500 non-null    object\n",
      " 4   first_name  500 non-null    object\n",
      " 5   last_name   500 non-null    object\n",
      " 6   reg_date    500 non-null    object\n",
      " 7   tariff      500 non-null    object\n",
      "dtypes: int64(2), object(6)\n",
      "memory usage: 31.4+ KB\n"
     ]
    },
    {
     "data": {
      "text/plain": [
       "None"
      ]
     },
     "metadata": {},
     "output_type": "display_data"
    },
    {
     "name": "stdout",
     "output_type": "stream",
     "text": [
      "----------------------------------------------------\n",
      "head\n"
     ]
    },
    {
     "data": {
      "text/html": [
       "<div>\n",
       "<style scoped>\n",
       "    .dataframe tbody tr th:only-of-type {\n",
       "        vertical-align: middle;\n",
       "    }\n",
       "\n",
       "    .dataframe tbody tr th {\n",
       "        vertical-align: top;\n",
       "    }\n",
       "\n",
       "    .dataframe thead th {\n",
       "        text-align: right;\n",
       "    }\n",
       "</style>\n",
       "<table border=\"1\" class=\"dataframe\">\n",
       "  <thead>\n",
       "    <tr style=\"text-align: right;\">\n",
       "      <th></th>\n",
       "      <th>user_id</th>\n",
       "      <th>age</th>\n",
       "      <th>churn_date</th>\n",
       "      <th>city</th>\n",
       "      <th>first_name</th>\n",
       "      <th>last_name</th>\n",
       "      <th>reg_date</th>\n",
       "      <th>tariff</th>\n",
       "    </tr>\n",
       "  </thead>\n",
       "  <tbody>\n",
       "    <tr>\n",
       "      <th>0</th>\n",
       "      <td>1000</td>\n",
       "      <td>52</td>\n",
       "      <td>NaN</td>\n",
       "      <td>Краснодар</td>\n",
       "      <td>Рафаил</td>\n",
       "      <td>Верещагин</td>\n",
       "      <td>2018-05-25</td>\n",
       "      <td>ultra</td>\n",
       "    </tr>\n",
       "    <tr>\n",
       "      <th>1</th>\n",
       "      <td>1001</td>\n",
       "      <td>41</td>\n",
       "      <td>NaN</td>\n",
       "      <td>Москва</td>\n",
       "      <td>Иван</td>\n",
       "      <td>Ежов</td>\n",
       "      <td>2018-11-01</td>\n",
       "      <td>smart</td>\n",
       "    </tr>\n",
       "    <tr>\n",
       "      <th>2</th>\n",
       "      <td>1002</td>\n",
       "      <td>59</td>\n",
       "      <td>NaN</td>\n",
       "      <td>Стерлитамак</td>\n",
       "      <td>Евгений</td>\n",
       "      <td>Абрамович</td>\n",
       "      <td>2018-06-17</td>\n",
       "      <td>smart</td>\n",
       "    </tr>\n",
       "    <tr>\n",
       "      <th>3</th>\n",
       "      <td>1003</td>\n",
       "      <td>23</td>\n",
       "      <td>NaN</td>\n",
       "      <td>Москва</td>\n",
       "      <td>Белла</td>\n",
       "      <td>Белякова</td>\n",
       "      <td>2018-08-17</td>\n",
       "      <td>ultra</td>\n",
       "    </tr>\n",
       "    <tr>\n",
       "      <th>4</th>\n",
       "      <td>1004</td>\n",
       "      <td>68</td>\n",
       "      <td>NaN</td>\n",
       "      <td>Новокузнецк</td>\n",
       "      <td>Татьяна</td>\n",
       "      <td>Авдеенко</td>\n",
       "      <td>2018-05-14</td>\n",
       "      <td>ultra</td>\n",
       "    </tr>\n",
       "  </tbody>\n",
       "</table>\n",
       "</div>"
      ],
      "text/plain": [
       "   user_id  age churn_date         city first_name  last_name    reg_date  \\\n",
       "0     1000   52        NaN    Краснодар     Рафаил  Верещагин  2018-05-25   \n",
       "1     1001   41        NaN       Москва       Иван       Ежов  2018-11-01   \n",
       "2     1002   59        NaN  Стерлитамак    Евгений  Абрамович  2018-06-17   \n",
       "3     1003   23        NaN       Москва      Белла   Белякова  2018-08-17   \n",
       "4     1004   68        NaN  Новокузнецк    Татьяна   Авдеенко  2018-05-14   \n",
       "\n",
       "  tariff  \n",
       "0  ultra  \n",
       "1  smart  \n",
       "2  smart  \n",
       "3  ultra  \n",
       "4  ultra  "
      ]
     },
     "metadata": {},
     "output_type": "display_data"
    },
    {
     "name": "stdout",
     "output_type": "stream",
     "text": [
      "----------------------------------------------------\n",
      "isna\n"
     ]
    },
    {
     "data": {
      "text/plain": [
       "user_id         0\n",
       "age             0\n",
       "churn_date    462\n",
       "city            0\n",
       "first_name      0\n",
       "last_name       0\n",
       "reg_date        0\n",
       "tariff          0\n",
       "dtype: int64"
      ]
     },
     "metadata": {},
     "output_type": "display_data"
    },
    {
     "name": "stdout",
     "output_type": "stream",
     "text": [
      "----------------------------------------------------\n",
      "describe\n"
     ]
    },
    {
     "data": {
      "text/html": [
       "<div>\n",
       "<style scoped>\n",
       "    .dataframe tbody tr th:only-of-type {\n",
       "        vertical-align: middle;\n",
       "    }\n",
       "\n",
       "    .dataframe tbody tr th {\n",
       "        vertical-align: top;\n",
       "    }\n",
       "\n",
       "    .dataframe thead th {\n",
       "        text-align: right;\n",
       "    }\n",
       "</style>\n",
       "<table border=\"1\" class=\"dataframe\">\n",
       "  <thead>\n",
       "    <tr style=\"text-align: right;\">\n",
       "      <th></th>\n",
       "      <th>user_id</th>\n",
       "      <th>age</th>\n",
       "    </tr>\n",
       "  </thead>\n",
       "  <tbody>\n",
       "    <tr>\n",
       "      <th>count</th>\n",
       "      <td>500.000000</td>\n",
       "      <td>500.00000</td>\n",
       "    </tr>\n",
       "    <tr>\n",
       "      <th>mean</th>\n",
       "      <td>1249.500000</td>\n",
       "      <td>46.58800</td>\n",
       "    </tr>\n",
       "    <tr>\n",
       "      <th>std</th>\n",
       "      <td>144.481833</td>\n",
       "      <td>16.66763</td>\n",
       "    </tr>\n",
       "    <tr>\n",
       "      <th>min</th>\n",
       "      <td>1000.000000</td>\n",
       "      <td>18.00000</td>\n",
       "    </tr>\n",
       "    <tr>\n",
       "      <th>25%</th>\n",
       "      <td>1124.750000</td>\n",
       "      <td>32.00000</td>\n",
       "    </tr>\n",
       "    <tr>\n",
       "      <th>50%</th>\n",
       "      <td>1249.500000</td>\n",
       "      <td>46.00000</td>\n",
       "    </tr>\n",
       "    <tr>\n",
       "      <th>75%</th>\n",
       "      <td>1374.250000</td>\n",
       "      <td>62.00000</td>\n",
       "    </tr>\n",
       "    <tr>\n",
       "      <th>max</th>\n",
       "      <td>1499.000000</td>\n",
       "      <td>75.00000</td>\n",
       "    </tr>\n",
       "  </tbody>\n",
       "</table>\n",
       "</div>"
      ],
      "text/plain": [
       "           user_id        age\n",
       "count   500.000000  500.00000\n",
       "mean   1249.500000   46.58800\n",
       "std     144.481833   16.66763\n",
       "min    1000.000000   18.00000\n",
       "25%    1124.750000   32.00000\n",
       "50%    1249.500000   46.00000\n",
       "75%    1374.250000   62.00000\n",
       "max    1499.000000   75.00000"
      ]
     },
     "metadata": {},
     "output_type": "display_data"
    },
    {
     "name": "stdout",
     "output_type": "stream",
     "text": [
      "----------------------------------------------------\n"
     ]
    }
   ],
   "source": [
    "rewiev(users)"
   ]
  },
  {
   "cell_type": "markdown",
   "id": "312d7a2a",
   "metadata": {},
   "source": [
    "Есть пропуски в churn_date, но это значит только что клиент на момент выгрузки пользуется тарифом\\\n",
    "reg_date и churn_date нужно привести к типу datetime"
   ]
  },
  {
   "cell_type": "markdown",
   "id": "5a045885-f633-4ee3-9712-6d219c39306e",
   "metadata": {},
   "source": [
    "## Шаг 2. Подготовьте данные"
   ]
  },
  {
   "cell_type": "code",
   "execution_count": 9,
   "id": "a1d9634a-f807-44c8-a2d8-f927cb55c4cb",
   "metadata": {},
   "outputs": [],
   "source": [
    "calls['call_date'] = pd.to_datetime(calls['call_date'])#тип datetime\n",
    "internet = internet.drop(['Unnamed: 0'],axis=1)#удаление колонки\n",
    "internet['session_date'] = pd.to_datetime(internet['session_date'])#тип datetime\n",
    "messages['message_date'] = pd.to_datetime(messages['message_date'])#тип datetime\n",
    "users['reg_date'] = pd.to_datetime(users['reg_date'])#тип datetime\n",
    "users['churn_date'] = pd.to_datetime(users['churn_date'])#тип datetime"
   ]
  },
  {
   "cell_type": "markdown",
   "id": "630c5bf3-e305-47b7-a2e8-d85c502b7934",
   "metadata": {},
   "source": [
    "В таблице internet была лишняя колонка Unnamed: 0 равная индексу, удалил.\\\n",
    "Колонки с датами приведены к типу datetime"
   ]
  },
  {
   "cell_type": "code",
   "execution_count": 10,
   "id": "7531c72c",
   "metadata": {},
   "outputs": [
    {
     "data": {
      "text/html": [
       "<div>\n",
       "<style scoped>\n",
       "    .dataframe tbody tr th:only-of-type {\n",
       "        vertical-align: middle;\n",
       "    }\n",
       "\n",
       "    .dataframe tbody tr th {\n",
       "        vertical-align: top;\n",
       "    }\n",
       "\n",
       "    .dataframe thead th {\n",
       "        text-align: right;\n",
       "    }\n",
       "</style>\n",
       "<table border=\"1\" class=\"dataframe\">\n",
       "  <thead>\n",
       "    <tr style=\"text-align: right;\">\n",
       "      <th></th>\n",
       "      <th>user_id</th>\n",
       "      <th>age</th>\n",
       "      <th>churn_date</th>\n",
       "      <th>city</th>\n",
       "      <th>first_name</th>\n",
       "      <th>last_name</th>\n",
       "      <th>reg_date</th>\n",
       "      <th>tariff</th>\n",
       "    </tr>\n",
       "  </thead>\n",
       "  <tbody>\n",
       "    <tr>\n",
       "      <th>0</th>\n",
       "      <td>1000</td>\n",
       "      <td>52</td>\n",
       "      <td>NaT</td>\n",
       "      <td>Краснодар</td>\n",
       "      <td>Рафаил</td>\n",
       "      <td>Верещагин</td>\n",
       "      <td>2018-05-25</td>\n",
       "      <td>ultra</td>\n",
       "    </tr>\n",
       "    <tr>\n",
       "      <th>1</th>\n",
       "      <td>1001</td>\n",
       "      <td>41</td>\n",
       "      <td>NaT</td>\n",
       "      <td>Москва</td>\n",
       "      <td>Иван</td>\n",
       "      <td>Ежов</td>\n",
       "      <td>2018-11-01</td>\n",
       "      <td>smart</td>\n",
       "    </tr>\n",
       "    <tr>\n",
       "      <th>2</th>\n",
       "      <td>1002</td>\n",
       "      <td>59</td>\n",
       "      <td>NaT</td>\n",
       "      <td>Стерлитамак</td>\n",
       "      <td>Евгений</td>\n",
       "      <td>Абрамович</td>\n",
       "      <td>2018-06-17</td>\n",
       "      <td>smart</td>\n",
       "    </tr>\n",
       "    <tr>\n",
       "      <th>3</th>\n",
       "      <td>1003</td>\n",
       "      <td>23</td>\n",
       "      <td>NaT</td>\n",
       "      <td>Москва</td>\n",
       "      <td>Белла</td>\n",
       "      <td>Белякова</td>\n",
       "      <td>2018-08-17</td>\n",
       "      <td>ultra</td>\n",
       "    </tr>\n",
       "    <tr>\n",
       "      <th>4</th>\n",
       "      <td>1004</td>\n",
       "      <td>68</td>\n",
       "      <td>NaT</td>\n",
       "      <td>Новокузнецк</td>\n",
       "      <td>Татьяна</td>\n",
       "      <td>Авдеенко</td>\n",
       "      <td>2018-05-14</td>\n",
       "      <td>ultra</td>\n",
       "    </tr>\n",
       "    <tr>\n",
       "      <th>...</th>\n",
       "      <td>...</td>\n",
       "      <td>...</td>\n",
       "      <td>...</td>\n",
       "      <td>...</td>\n",
       "      <td>...</td>\n",
       "      <td>...</td>\n",
       "      <td>...</td>\n",
       "      <td>...</td>\n",
       "    </tr>\n",
       "    <tr>\n",
       "      <th>495</th>\n",
       "      <td>1495</td>\n",
       "      <td>65</td>\n",
       "      <td>NaT</td>\n",
       "      <td>Иркутск</td>\n",
       "      <td>Авксентий</td>\n",
       "      <td>Фокин</td>\n",
       "      <td>2018-08-28</td>\n",
       "      <td>ultra</td>\n",
       "    </tr>\n",
       "    <tr>\n",
       "      <th>496</th>\n",
       "      <td>1496</td>\n",
       "      <td>36</td>\n",
       "      <td>NaT</td>\n",
       "      <td>Вологда</td>\n",
       "      <td>Трифон</td>\n",
       "      <td>Блохин</td>\n",
       "      <td>2018-01-27</td>\n",
       "      <td>smart</td>\n",
       "    </tr>\n",
       "    <tr>\n",
       "      <th>497</th>\n",
       "      <td>1497</td>\n",
       "      <td>32</td>\n",
       "      <td>NaT</td>\n",
       "      <td>Челябинск</td>\n",
       "      <td>Каролина</td>\n",
       "      <td>Агеева</td>\n",
       "      <td>2018-10-09</td>\n",
       "      <td>smart</td>\n",
       "    </tr>\n",
       "    <tr>\n",
       "      <th>498</th>\n",
       "      <td>1498</td>\n",
       "      <td>68</td>\n",
       "      <td>2018-10-25</td>\n",
       "      <td>Владикавказ</td>\n",
       "      <td>Всеволод</td>\n",
       "      <td>Акимчин</td>\n",
       "      <td>2018-07-19</td>\n",
       "      <td>smart</td>\n",
       "    </tr>\n",
       "    <tr>\n",
       "      <th>499</th>\n",
       "      <td>1499</td>\n",
       "      <td>35</td>\n",
       "      <td>NaT</td>\n",
       "      <td>Пермь</td>\n",
       "      <td>Гектор</td>\n",
       "      <td>Корнилов</td>\n",
       "      <td>2018-09-27</td>\n",
       "      <td>smart</td>\n",
       "    </tr>\n",
       "  </tbody>\n",
       "</table>\n",
       "<p>500 rows × 8 columns</p>\n",
       "</div>"
      ],
      "text/plain": [
       "     user_id  age churn_date         city first_name  last_name   reg_date  \\\n",
       "0       1000   52        NaT    Краснодар     Рафаил  Верещагин 2018-05-25   \n",
       "1       1001   41        NaT       Москва       Иван       Ежов 2018-11-01   \n",
       "2       1002   59        NaT  Стерлитамак    Евгений  Абрамович 2018-06-17   \n",
       "3       1003   23        NaT       Москва      Белла   Белякова 2018-08-17   \n",
       "4       1004   68        NaT  Новокузнецк    Татьяна   Авдеенко 2018-05-14   \n",
       "..       ...  ...        ...          ...        ...        ...        ...   \n",
       "495     1495   65        NaT      Иркутск  Авксентий      Фокин 2018-08-28   \n",
       "496     1496   36        NaT      Вологда     Трифон     Блохин 2018-01-27   \n",
       "497     1497   32        NaT    Челябинск   Каролина     Агеева 2018-10-09   \n",
       "498     1498   68 2018-10-25  Владикавказ   Всеволод    Акимчин 2018-07-19   \n",
       "499     1499   35        NaT        Пермь     Гектор   Корнилов 2018-09-27   \n",
       "\n",
       "    tariff  \n",
       "0    ultra  \n",
       "1    smart  \n",
       "2    smart  \n",
       "3    ultra  \n",
       "4    ultra  \n",
       "..     ...  \n",
       "495  ultra  \n",
       "496  smart  \n",
       "497  smart  \n",
       "498  smart  \n",
       "499  smart  \n",
       "\n",
       "[500 rows x 8 columns]"
      ]
     },
     "execution_count": 10,
     "metadata": {},
     "output_type": "execute_result"
    }
   ],
   "source": [
    "users"
   ]
  },
  {
   "cell_type": "code",
   "execution_count": 11,
   "id": "12ec5aa4-e7c2-47ff-9486-4cad85c171b7",
   "metadata": {},
   "outputs": [],
   "source": [
    "#округление длительности звонка в большую сторону\n",
    "calls['duration'] = np.ceil(calls['duration'])"
   ]
  },
  {
   "cell_type": "code",
   "execution_count": 12,
   "id": "ad639797-88f7-4c1b-9824-b89e901893ed",
   "metadata": {
    "scrolled": false
   },
   "outputs": [],
   "source": [
    "calls['duration'] = pd.to_numeric(calls['duration'])"
   ]
  },
  {
   "cell_type": "code",
   "execution_count": 13,
   "id": "cef2dde4",
   "metadata": {},
   "outputs": [],
   "source": [
    "df_calls = pd.read_csv('https://code.s3.yandex.net/datasets/calls.csv')\n",
    "\n",
    "# df_internet['mb_used'] = np.ceil(df_internet['mb_used'])\n",
    "df_calls['duration'] = np.ceil(df_calls['duration'])"
   ]
  },
  {
   "cell_type": "code",
   "execution_count": 14,
   "id": "ae310635",
   "metadata": {},
   "outputs": [],
   "source": [
    "df_calls['duration'] = np.ceil(df_calls['duration'])"
   ]
  },
  {
   "cell_type": "code",
   "execution_count": 15,
   "id": "bb868795",
   "metadata": {},
   "outputs": [
    {
     "data": {
      "text/html": [
       "<div>\n",
       "<style scoped>\n",
       "    .dataframe tbody tr th:only-of-type {\n",
       "        vertical-align: middle;\n",
       "    }\n",
       "\n",
       "    .dataframe tbody tr th {\n",
       "        vertical-align: top;\n",
       "    }\n",
       "\n",
       "    .dataframe thead th {\n",
       "        text-align: right;\n",
       "    }\n",
       "</style>\n",
       "<table border=\"1\" class=\"dataframe\">\n",
       "  <thead>\n",
       "    <tr style=\"text-align: right;\">\n",
       "      <th></th>\n",
       "      <th>id</th>\n",
       "      <th>call_date</th>\n",
       "      <th>duration</th>\n",
       "      <th>user_id</th>\n",
       "      <th>duration_2</th>\n",
       "      <th>del</th>\n",
       "    </tr>\n",
       "  </thead>\n",
       "  <tbody>\n",
       "    <tr>\n",
       "      <th>0</th>\n",
       "      <td>1000_0</td>\n",
       "      <td>2018-07-25</td>\n",
       "      <td>0.0</td>\n",
       "      <td>1000</td>\n",
       "      <td>0.0</td>\n",
       "      <td>0.0</td>\n",
       "    </tr>\n",
       "    <tr>\n",
       "      <th>135066</th>\n",
       "      <td>1344_883</td>\n",
       "      <td>2018-09-07</td>\n",
       "      <td>5.0</td>\n",
       "      <td>1344</td>\n",
       "      <td>5.0</td>\n",
       "      <td>0.0</td>\n",
       "    </tr>\n",
       "    <tr>\n",
       "      <th>135067</th>\n",
       "      <td>1344_884</td>\n",
       "      <td>2018-12-09</td>\n",
       "      <td>20.0</td>\n",
       "      <td>1344</td>\n",
       "      <td>20.0</td>\n",
       "      <td>0.0</td>\n",
       "    </tr>\n",
       "    <tr>\n",
       "      <th>135068</th>\n",
       "      <td>1344_885</td>\n",
       "      <td>2018-05-05</td>\n",
       "      <td>0.0</td>\n",
       "      <td>1344</td>\n",
       "      <td>0.0</td>\n",
       "      <td>0.0</td>\n",
       "    </tr>\n",
       "    <tr>\n",
       "      <th>135069</th>\n",
       "      <td>1344_886</td>\n",
       "      <td>2018-11-25</td>\n",
       "      <td>14.0</td>\n",
       "      <td>1344</td>\n",
       "      <td>14.0</td>\n",
       "      <td>0.0</td>\n",
       "    </tr>\n",
       "    <tr>\n",
       "      <th>...</th>\n",
       "      <td>...</td>\n",
       "      <td>...</td>\n",
       "      <td>...</td>\n",
       "      <td>...</td>\n",
       "      <td>...</td>\n",
       "      <td>...</td>\n",
       "    </tr>\n",
       "    <tr>\n",
       "      <th>67538</th>\n",
       "      <td>1171_563</td>\n",
       "      <td>2018-05-05</td>\n",
       "      <td>4.0</td>\n",
       "      <td>1171</td>\n",
       "      <td>4.0</td>\n",
       "      <td>0.0</td>\n",
       "    </tr>\n",
       "    <tr>\n",
       "      <th>67539</th>\n",
       "      <td>1171_564</td>\n",
       "      <td>2018-04-13</td>\n",
       "      <td>10.0</td>\n",
       "      <td>1171</td>\n",
       "      <td>10.0</td>\n",
       "      <td>0.0</td>\n",
       "    </tr>\n",
       "    <tr>\n",
       "      <th>67540</th>\n",
       "      <td>1171_565</td>\n",
       "      <td>2018-10-18</td>\n",
       "      <td>18.0</td>\n",
       "      <td>1171</td>\n",
       "      <td>18.0</td>\n",
       "      <td>0.0</td>\n",
       "    </tr>\n",
       "    <tr>\n",
       "      <th>67542</th>\n",
       "      <td>1171_567</td>\n",
       "      <td>2018-09-21</td>\n",
       "      <td>9.0</td>\n",
       "      <td>1171</td>\n",
       "      <td>9.0</td>\n",
       "      <td>0.0</td>\n",
       "    </tr>\n",
       "    <tr>\n",
       "      <th>202606</th>\n",
       "      <td>1499_219</td>\n",
       "      <td>2018-12-14</td>\n",
       "      <td>20.0</td>\n",
       "      <td>1499</td>\n",
       "      <td>20.0</td>\n",
       "      <td>0.0</td>\n",
       "    </tr>\n",
       "  </tbody>\n",
       "</table>\n",
       "<p>202607 rows × 6 columns</p>\n",
       "</div>"
      ],
      "text/plain": [
       "              id   call_date  duration  user_id  duration_2  del\n",
       "0         1000_0  2018-07-25       0.0     1000         0.0  0.0\n",
       "135066  1344_883  2018-09-07       5.0     1344         5.0  0.0\n",
       "135067  1344_884  2018-12-09      20.0     1344        20.0  0.0\n",
       "135068  1344_885  2018-05-05       0.0     1344         0.0  0.0\n",
       "135069  1344_886  2018-11-25      14.0     1344        14.0  0.0\n",
       "...          ...         ...       ...      ...         ...  ...\n",
       "67538   1171_563  2018-05-05       4.0     1171         4.0  0.0\n",
       "67539   1171_564  2018-04-13      10.0     1171        10.0  0.0\n",
       "67540   1171_565  2018-10-18      18.0     1171        18.0  0.0\n",
       "67542   1171_567  2018-09-21       9.0     1171         9.0  0.0\n",
       "202606  1499_219  2018-12-14      20.0     1499        20.0  0.0\n",
       "\n",
       "[202607 rows x 6 columns]"
      ]
     },
     "execution_count": 15,
     "metadata": {},
     "output_type": "execute_result"
    }
   ],
   "source": [
    "df_calls['duration_2'] = calls['duration']\n",
    "df_calls['del'] = df_calls['duration'] - df_calls['duration_2']\n",
    "df_calls.sort_values('del')"
   ]
  },
  {
   "cell_type": "code",
   "execution_count": 16,
   "id": "17cec1b5",
   "metadata": {},
   "outputs": [
    {
     "data": {
      "text/plain": [
       "16"
      ]
     },
     "execution_count": 16,
     "metadata": {},
     "output_type": "execute_result"
    }
   ],
   "source": [
    "round(15.0 + 0.5)"
   ]
  },
  {
   "cell_type": "markdown",
   "id": "53b5b1a2-a10f-42d5-b1fe-d631f35ce45f",
   "metadata": {},
   "source": [
    "### Посчитайте для каждого пользователя:"
   ]
  },
  {
   "cell_type": "markdown",
   "id": "a33ae4a3-5b1d-4e49-b77f-94d079f67d1a",
   "metadata": {},
   "source": [
    "#### количество сделанных звонков и израсходованных минут разговора по месяцам;"
   ]
  },
  {
   "cell_type": "code",
   "execution_count": 17,
   "id": "21e5f49f-6ae2-4fce-8e8b-a0bdf9077fe1",
   "metadata": {},
   "outputs": [],
   "source": [
    "calls['month'] = calls['call_date'].dt.month"
   ]
  },
  {
   "cell_type": "code",
   "execution_count": 18,
   "id": "58374712-fda8-474e-81ba-387ce16ec31a",
   "metadata": {},
   "outputs": [
    {
     "data": {
      "text/html": [
       "<div>\n",
       "<style scoped>\n",
       "    .dataframe tbody tr th:only-of-type {\n",
       "        vertical-align: middle;\n",
       "    }\n",
       "\n",
       "    .dataframe tbody tr th {\n",
       "        vertical-align: top;\n",
       "    }\n",
       "\n",
       "    .dataframe thead th {\n",
       "        text-align: right;\n",
       "    }\n",
       "</style>\n",
       "<table border=\"1\" class=\"dataframe\">\n",
       "  <thead>\n",
       "    <tr style=\"text-align: right;\">\n",
       "      <th></th>\n",
       "      <th>id</th>\n",
       "      <th>call_date</th>\n",
       "      <th>duration</th>\n",
       "      <th>user_id</th>\n",
       "      <th>month</th>\n",
       "    </tr>\n",
       "  </thead>\n",
       "  <tbody>\n",
       "    <tr>\n",
       "      <th>0</th>\n",
       "      <td>1000_0</td>\n",
       "      <td>2018-07-25</td>\n",
       "      <td>0.0</td>\n",
       "      <td>1000</td>\n",
       "      <td>7</td>\n",
       "    </tr>\n",
       "    <tr>\n",
       "      <th>1</th>\n",
       "      <td>1000_1</td>\n",
       "      <td>2018-08-17</td>\n",
       "      <td>0.0</td>\n",
       "      <td>1000</td>\n",
       "      <td>8</td>\n",
       "    </tr>\n",
       "    <tr>\n",
       "      <th>2</th>\n",
       "      <td>1000_2</td>\n",
       "      <td>2018-06-11</td>\n",
       "      <td>3.0</td>\n",
       "      <td>1000</td>\n",
       "      <td>6</td>\n",
       "    </tr>\n",
       "    <tr>\n",
       "      <th>3</th>\n",
       "      <td>1000_3</td>\n",
       "      <td>2018-09-21</td>\n",
       "      <td>14.0</td>\n",
       "      <td>1000</td>\n",
       "      <td>9</td>\n",
       "    </tr>\n",
       "    <tr>\n",
       "      <th>4</th>\n",
       "      <td>1000_4</td>\n",
       "      <td>2018-12-15</td>\n",
       "      <td>6.0</td>\n",
       "      <td>1000</td>\n",
       "      <td>12</td>\n",
       "    </tr>\n",
       "  </tbody>\n",
       "</table>\n",
       "</div>"
      ],
      "text/plain": [
       "       id  call_date  duration  user_id  month\n",
       "0  1000_0 2018-07-25       0.0     1000      7\n",
       "1  1000_1 2018-08-17       0.0     1000      8\n",
       "2  1000_2 2018-06-11       3.0     1000      6\n",
       "3  1000_3 2018-09-21      14.0     1000      9\n",
       "4  1000_4 2018-12-15       6.0     1000     12"
      ]
     },
     "execution_count": 18,
     "metadata": {},
     "output_type": "execute_result"
    }
   ],
   "source": [
    "calls.head()"
   ]
  },
  {
   "cell_type": "code",
   "execution_count": 19,
   "id": "f0bca8f9-e449-4dfb-a9b0-13f7c3ca13db",
   "metadata": {},
   "outputs": [],
   "source": [
    "user_calls = calls.groupby(['user_id','month']).agg({'duration' : 'sum', 'id': 'count'}).reset_index().rename(columns={'duration' : 'month_calls_duration','id':'calls_total_month'})"
   ]
  },
  {
   "cell_type": "code",
   "execution_count": 20,
   "id": "1580963c-9f2d-4d26-9b0e-8ea7de2dc70c",
   "metadata": {},
   "outputs": [
    {
     "data": {
      "text/html": [
       "<div>\n",
       "<style scoped>\n",
       "    .dataframe tbody tr th:only-of-type {\n",
       "        vertical-align: middle;\n",
       "    }\n",
       "\n",
       "    .dataframe tbody tr th {\n",
       "        vertical-align: top;\n",
       "    }\n",
       "\n",
       "    .dataframe thead th {\n",
       "        text-align: right;\n",
       "    }\n",
       "</style>\n",
       "<table border=\"1\" class=\"dataframe\">\n",
       "  <thead>\n",
       "    <tr style=\"text-align: right;\">\n",
       "      <th></th>\n",
       "      <th>user_id</th>\n",
       "      <th>month</th>\n",
       "      <th>month_calls_duration</th>\n",
       "      <th>calls_total_month</th>\n",
       "    </tr>\n",
       "  </thead>\n",
       "  <tbody>\n",
       "    <tr>\n",
       "      <th>0</th>\n",
       "      <td>1000</td>\n",
       "      <td>5</td>\n",
       "      <td>159.0</td>\n",
       "      <td>22</td>\n",
       "    </tr>\n",
       "    <tr>\n",
       "      <th>1</th>\n",
       "      <td>1000</td>\n",
       "      <td>6</td>\n",
       "      <td>172.0</td>\n",
       "      <td>43</td>\n",
       "    </tr>\n",
       "    <tr>\n",
       "      <th>2</th>\n",
       "      <td>1000</td>\n",
       "      <td>7</td>\n",
       "      <td>340.0</td>\n",
       "      <td>47</td>\n",
       "    </tr>\n",
       "    <tr>\n",
       "      <th>3</th>\n",
       "      <td>1000</td>\n",
       "      <td>8</td>\n",
       "      <td>408.0</td>\n",
       "      <td>52</td>\n",
       "    </tr>\n",
       "    <tr>\n",
       "      <th>4</th>\n",
       "      <td>1000</td>\n",
       "      <td>9</td>\n",
       "      <td>466.0</td>\n",
       "      <td>58</td>\n",
       "    </tr>\n",
       "    <tr>\n",
       "      <th>...</th>\n",
       "      <td>...</td>\n",
       "      <td>...</td>\n",
       "      <td>...</td>\n",
       "      <td>...</td>\n",
       "    </tr>\n",
       "    <tr>\n",
       "      <th>3169</th>\n",
       "      <td>1498</td>\n",
       "      <td>10</td>\n",
       "      <td>247.0</td>\n",
       "      <td>41</td>\n",
       "    </tr>\n",
       "    <tr>\n",
       "      <th>3170</th>\n",
       "      <td>1499</td>\n",
       "      <td>9</td>\n",
       "      <td>70.0</td>\n",
       "      <td>9</td>\n",
       "    </tr>\n",
       "    <tr>\n",
       "      <th>3171</th>\n",
       "      <td>1499</td>\n",
       "      <td>10</td>\n",
       "      <td>449.0</td>\n",
       "      <td>68</td>\n",
       "    </tr>\n",
       "    <tr>\n",
       "      <th>3172</th>\n",
       "      <td>1499</td>\n",
       "      <td>11</td>\n",
       "      <td>612.0</td>\n",
       "      <td>74</td>\n",
       "    </tr>\n",
       "    <tr>\n",
       "      <th>3173</th>\n",
       "      <td>1499</td>\n",
       "      <td>12</td>\n",
       "      <td>492.0</td>\n",
       "      <td>69</td>\n",
       "    </tr>\n",
       "  </tbody>\n",
       "</table>\n",
       "<p>3174 rows × 4 columns</p>\n",
       "</div>"
      ],
      "text/plain": [
       "      user_id  month  month_calls_duration  calls_total_month\n",
       "0        1000      5                 159.0                 22\n",
       "1        1000      6                 172.0                 43\n",
       "2        1000      7                 340.0                 47\n",
       "3        1000      8                 408.0                 52\n",
       "4        1000      9                 466.0                 58\n",
       "...       ...    ...                   ...                ...\n",
       "3169     1498     10                 247.0                 41\n",
       "3170     1499      9                  70.0                  9\n",
       "3171     1499     10                 449.0                 68\n",
       "3172     1499     11                 612.0                 74\n",
       "3173     1499     12                 492.0                 69\n",
       "\n",
       "[3174 rows x 4 columns]"
      ]
     },
     "execution_count": 20,
     "metadata": {},
     "output_type": "execute_result"
    }
   ],
   "source": [
    "user_calls"
   ]
  },
  {
   "cell_type": "markdown",
   "id": "c23e6513-e8ed-4f65-b90d-c0d5811be673",
   "metadata": {},
   "source": [
    "#### количество отправленных сообщений по месяцам;"
   ]
  },
  {
   "cell_type": "code",
   "execution_count": 21,
   "id": "eaae0aa2-ab17-4f35-be41-f79559303e4b",
   "metadata": {},
   "outputs": [],
   "source": [
    "messages['month'] = messages['message_date'].dt.month"
   ]
  },
  {
   "cell_type": "code",
   "execution_count": 22,
   "id": "2975dbe4-e6d8-4f78-9073-4858c3775be4",
   "metadata": {},
   "outputs": [
    {
     "data": {
      "text/html": [
       "<div>\n",
       "<style scoped>\n",
       "    .dataframe tbody tr th:only-of-type {\n",
       "        vertical-align: middle;\n",
       "    }\n",
       "\n",
       "    .dataframe tbody tr th {\n",
       "        vertical-align: top;\n",
       "    }\n",
       "\n",
       "    .dataframe thead th {\n",
       "        text-align: right;\n",
       "    }\n",
       "</style>\n",
       "<table border=\"1\" class=\"dataframe\">\n",
       "  <thead>\n",
       "    <tr style=\"text-align: right;\">\n",
       "      <th></th>\n",
       "      <th>id</th>\n",
       "      <th>message_date</th>\n",
       "      <th>user_id</th>\n",
       "      <th>month</th>\n",
       "    </tr>\n",
       "  </thead>\n",
       "  <tbody>\n",
       "    <tr>\n",
       "      <th>0</th>\n",
       "      <td>1000_0</td>\n",
       "      <td>2018-06-27</td>\n",
       "      <td>1000</td>\n",
       "      <td>6</td>\n",
       "    </tr>\n",
       "    <tr>\n",
       "      <th>1</th>\n",
       "      <td>1000_1</td>\n",
       "      <td>2018-10-08</td>\n",
       "      <td>1000</td>\n",
       "      <td>10</td>\n",
       "    </tr>\n",
       "    <tr>\n",
       "      <th>2</th>\n",
       "      <td>1000_2</td>\n",
       "      <td>2018-08-04</td>\n",
       "      <td>1000</td>\n",
       "      <td>8</td>\n",
       "    </tr>\n",
       "    <tr>\n",
       "      <th>3</th>\n",
       "      <td>1000_3</td>\n",
       "      <td>2018-06-16</td>\n",
       "      <td>1000</td>\n",
       "      <td>6</td>\n",
       "    </tr>\n",
       "    <tr>\n",
       "      <th>4</th>\n",
       "      <td>1000_4</td>\n",
       "      <td>2018-12-05</td>\n",
       "      <td>1000</td>\n",
       "      <td>12</td>\n",
       "    </tr>\n",
       "  </tbody>\n",
       "</table>\n",
       "</div>"
      ],
      "text/plain": [
       "       id message_date  user_id  month\n",
       "0  1000_0   2018-06-27     1000      6\n",
       "1  1000_1   2018-10-08     1000     10\n",
       "2  1000_2   2018-08-04     1000      8\n",
       "3  1000_3   2018-06-16     1000      6\n",
       "4  1000_4   2018-12-05     1000     12"
      ]
     },
     "execution_count": 22,
     "metadata": {},
     "output_type": "execute_result"
    }
   ],
   "source": [
    "messages.head()"
   ]
  },
  {
   "cell_type": "code",
   "execution_count": 23,
   "id": "85fc1cb7-7ece-4399-a41a-0aa568c31b5a",
   "metadata": {},
   "outputs": [],
   "source": [
    "user_messages = messages.groupby(['user_id', 'month'])\\\n",
    "                        .agg({'id':'count'})\\\n",
    "                        .reset_index()\\\n",
    "                        .rename(columns={'id':'sms_total_month'})"
   ]
  },
  {
   "cell_type": "code",
   "execution_count": 24,
   "id": "fdb1a7b3-6903-4e83-9f76-4ad170d70e5c",
   "metadata": {},
   "outputs": [
    {
     "data": {
      "text/html": [
       "<div>\n",
       "<style scoped>\n",
       "    .dataframe tbody tr th:only-of-type {\n",
       "        vertical-align: middle;\n",
       "    }\n",
       "\n",
       "    .dataframe tbody tr th {\n",
       "        vertical-align: top;\n",
       "    }\n",
       "\n",
       "    .dataframe thead th {\n",
       "        text-align: right;\n",
       "    }\n",
       "</style>\n",
       "<table border=\"1\" class=\"dataframe\">\n",
       "  <thead>\n",
       "    <tr style=\"text-align: right;\">\n",
       "      <th></th>\n",
       "      <th>user_id</th>\n",
       "      <th>month</th>\n",
       "      <th>sms_total_month</th>\n",
       "    </tr>\n",
       "  </thead>\n",
       "  <tbody>\n",
       "    <tr>\n",
       "      <th>0</th>\n",
       "      <td>1000</td>\n",
       "      <td>5</td>\n",
       "      <td>22</td>\n",
       "    </tr>\n",
       "    <tr>\n",
       "      <th>1</th>\n",
       "      <td>1000</td>\n",
       "      <td>6</td>\n",
       "      <td>60</td>\n",
       "    </tr>\n",
       "    <tr>\n",
       "      <th>2</th>\n",
       "      <td>1000</td>\n",
       "      <td>7</td>\n",
       "      <td>75</td>\n",
       "    </tr>\n",
       "    <tr>\n",
       "      <th>3</th>\n",
       "      <td>1000</td>\n",
       "      <td>8</td>\n",
       "      <td>81</td>\n",
       "    </tr>\n",
       "    <tr>\n",
       "      <th>4</th>\n",
       "      <td>1000</td>\n",
       "      <td>9</td>\n",
       "      <td>57</td>\n",
       "    </tr>\n",
       "    <tr>\n",
       "      <th>...</th>\n",
       "      <td>...</td>\n",
       "      <td>...</td>\n",
       "      <td>...</td>\n",
       "    </tr>\n",
       "    <tr>\n",
       "      <th>2712</th>\n",
       "      <td>1498</td>\n",
       "      <td>10</td>\n",
       "      <td>42</td>\n",
       "    </tr>\n",
       "    <tr>\n",
       "      <th>2713</th>\n",
       "      <td>1499</td>\n",
       "      <td>9</td>\n",
       "      <td>11</td>\n",
       "    </tr>\n",
       "    <tr>\n",
       "      <th>2714</th>\n",
       "      <td>1499</td>\n",
       "      <td>10</td>\n",
       "      <td>48</td>\n",
       "    </tr>\n",
       "    <tr>\n",
       "      <th>2715</th>\n",
       "      <td>1499</td>\n",
       "      <td>11</td>\n",
       "      <td>59</td>\n",
       "    </tr>\n",
       "    <tr>\n",
       "      <th>2716</th>\n",
       "      <td>1499</td>\n",
       "      <td>12</td>\n",
       "      <td>66</td>\n",
       "    </tr>\n",
       "  </tbody>\n",
       "</table>\n",
       "<p>2717 rows × 3 columns</p>\n",
       "</div>"
      ],
      "text/plain": [
       "      user_id  month  sms_total_month\n",
       "0        1000      5               22\n",
       "1        1000      6               60\n",
       "2        1000      7               75\n",
       "3        1000      8               81\n",
       "4        1000      9               57\n",
       "...       ...    ...              ...\n",
       "2712     1498     10               42\n",
       "2713     1499      9               11\n",
       "2714     1499     10               48\n",
       "2715     1499     11               59\n",
       "2716     1499     12               66\n",
       "\n",
       "[2717 rows x 3 columns]"
      ]
     },
     "execution_count": 24,
     "metadata": {},
     "output_type": "execute_result"
    }
   ],
   "source": [
    "user_messages"
   ]
  },
  {
   "cell_type": "markdown",
   "id": "a3e62176-16ef-4dd6-a7d4-6dd4f3c6d9a4",
   "metadata": {},
   "source": [
    "#### объем израсходованного интернет-трафика по месяцам;"
   ]
  },
  {
   "cell_type": "code",
   "execution_count": 25,
   "id": "5f6efb17-d250-49b3-b98e-5043b703ffbb",
   "metadata": {},
   "outputs": [],
   "source": [
    "internet['month'] = internet['session_date'].dt.month"
   ]
  },
  {
   "cell_type": "code",
   "execution_count": 26,
   "id": "66c1973d-06a8-4c57-9f90-b1a0217425f8",
   "metadata": {},
   "outputs": [
    {
     "data": {
      "text/html": [
       "<div>\n",
       "<style scoped>\n",
       "    .dataframe tbody tr th:only-of-type {\n",
       "        vertical-align: middle;\n",
       "    }\n",
       "\n",
       "    .dataframe tbody tr th {\n",
       "        vertical-align: top;\n",
       "    }\n",
       "\n",
       "    .dataframe thead th {\n",
       "        text-align: right;\n",
       "    }\n",
       "</style>\n",
       "<table border=\"1\" class=\"dataframe\">\n",
       "  <thead>\n",
       "    <tr style=\"text-align: right;\">\n",
       "      <th></th>\n",
       "      <th>id</th>\n",
       "      <th>mb_used</th>\n",
       "      <th>session_date</th>\n",
       "      <th>user_id</th>\n",
       "      <th>month</th>\n",
       "    </tr>\n",
       "  </thead>\n",
       "  <tbody>\n",
       "    <tr>\n",
       "      <th>0</th>\n",
       "      <td>1000_0</td>\n",
       "      <td>112.95</td>\n",
       "      <td>2018-11-25</td>\n",
       "      <td>1000</td>\n",
       "      <td>11</td>\n",
       "    </tr>\n",
       "    <tr>\n",
       "      <th>1</th>\n",
       "      <td>1000_1</td>\n",
       "      <td>1052.81</td>\n",
       "      <td>2018-09-07</td>\n",
       "      <td>1000</td>\n",
       "      <td>9</td>\n",
       "    </tr>\n",
       "    <tr>\n",
       "      <th>2</th>\n",
       "      <td>1000_2</td>\n",
       "      <td>1197.26</td>\n",
       "      <td>2018-06-25</td>\n",
       "      <td>1000</td>\n",
       "      <td>6</td>\n",
       "    </tr>\n",
       "    <tr>\n",
       "      <th>3</th>\n",
       "      <td>1000_3</td>\n",
       "      <td>550.27</td>\n",
       "      <td>2018-08-22</td>\n",
       "      <td>1000</td>\n",
       "      <td>8</td>\n",
       "    </tr>\n",
       "    <tr>\n",
       "      <th>4</th>\n",
       "      <td>1000_4</td>\n",
       "      <td>302.56</td>\n",
       "      <td>2018-09-24</td>\n",
       "      <td>1000</td>\n",
       "      <td>9</td>\n",
       "    </tr>\n",
       "    <tr>\n",
       "      <th>...</th>\n",
       "      <td>...</td>\n",
       "      <td>...</td>\n",
       "      <td>...</td>\n",
       "      <td>...</td>\n",
       "      <td>...</td>\n",
       "    </tr>\n",
       "    <tr>\n",
       "      <th>149391</th>\n",
       "      <td>1499_152</td>\n",
       "      <td>318.90</td>\n",
       "      <td>2018-10-03</td>\n",
       "      <td>1499</td>\n",
       "      <td>10</td>\n",
       "    </tr>\n",
       "    <tr>\n",
       "      <th>149392</th>\n",
       "      <td>1499_153</td>\n",
       "      <td>490.13</td>\n",
       "      <td>2018-12-14</td>\n",
       "      <td>1499</td>\n",
       "      <td>12</td>\n",
       "    </tr>\n",
       "    <tr>\n",
       "      <th>149393</th>\n",
       "      <td>1499_154</td>\n",
       "      <td>0.00</td>\n",
       "      <td>2018-10-27</td>\n",
       "      <td>1499</td>\n",
       "      <td>10</td>\n",
       "    </tr>\n",
       "    <tr>\n",
       "      <th>149394</th>\n",
       "      <td>1499_155</td>\n",
       "      <td>1246.32</td>\n",
       "      <td>2018-11-26</td>\n",
       "      <td>1499</td>\n",
       "      <td>11</td>\n",
       "    </tr>\n",
       "    <tr>\n",
       "      <th>149395</th>\n",
       "      <td>1499_156</td>\n",
       "      <td>544.37</td>\n",
       "      <td>2018-10-26</td>\n",
       "      <td>1499</td>\n",
       "      <td>10</td>\n",
       "    </tr>\n",
       "  </tbody>\n",
       "</table>\n",
       "<p>149396 rows × 5 columns</p>\n",
       "</div>"
      ],
      "text/plain": [
       "              id  mb_used session_date  user_id  month\n",
       "0         1000_0   112.95   2018-11-25     1000     11\n",
       "1         1000_1  1052.81   2018-09-07     1000      9\n",
       "2         1000_2  1197.26   2018-06-25     1000      6\n",
       "3         1000_3   550.27   2018-08-22     1000      8\n",
       "4         1000_4   302.56   2018-09-24     1000      9\n",
       "...          ...      ...          ...      ...    ...\n",
       "149391  1499_152   318.90   2018-10-03     1499     10\n",
       "149392  1499_153   490.13   2018-12-14     1499     12\n",
       "149393  1499_154     0.00   2018-10-27     1499     10\n",
       "149394  1499_155  1246.32   2018-11-26     1499     11\n",
       "149395  1499_156   544.37   2018-10-26     1499     10\n",
       "\n",
       "[149396 rows x 5 columns]"
      ]
     },
     "execution_count": 26,
     "metadata": {},
     "output_type": "execute_result"
    }
   ],
   "source": [
    "internet"
   ]
  },
  {
   "cell_type": "code",
   "execution_count": 27,
   "id": "ef99d58e-459d-4945-8d48-ea2d19f87ac2",
   "metadata": {},
   "outputs": [],
   "source": [
    "user_internet = internet.groupby(['user_id', 'month'])\\\n",
    "                        .agg({'mb_used':'sum'})\\\n",
    "                        .reset_index()\\\n",
    "                        .rename(columns={'mb_used':'mb_total_month'})"
   ]
  },
  {
   "cell_type": "code",
   "execution_count": 28,
   "id": "295e1453-2b02-4cbd-ab72-d3e94d532105",
   "metadata": {},
   "outputs": [
    {
     "data": {
      "text/html": [
       "<div>\n",
       "<style scoped>\n",
       "    .dataframe tbody tr th:only-of-type {\n",
       "        vertical-align: middle;\n",
       "    }\n",
       "\n",
       "    .dataframe tbody tr th {\n",
       "        vertical-align: top;\n",
       "    }\n",
       "\n",
       "    .dataframe thead th {\n",
       "        text-align: right;\n",
       "    }\n",
       "</style>\n",
       "<table border=\"1\" class=\"dataframe\">\n",
       "  <thead>\n",
       "    <tr style=\"text-align: right;\">\n",
       "      <th></th>\n",
       "      <th>user_id</th>\n",
       "      <th>month</th>\n",
       "      <th>mb_total_month</th>\n",
       "    </tr>\n",
       "  </thead>\n",
       "  <tbody>\n",
       "    <tr>\n",
       "      <th>0</th>\n",
       "      <td>1000</td>\n",
       "      <td>5</td>\n",
       "      <td>2253.49</td>\n",
       "    </tr>\n",
       "    <tr>\n",
       "      <th>1</th>\n",
       "      <td>1000</td>\n",
       "      <td>6</td>\n",
       "      <td>23233.77</td>\n",
       "    </tr>\n",
       "    <tr>\n",
       "      <th>2</th>\n",
       "      <td>1000</td>\n",
       "      <td>7</td>\n",
       "      <td>14003.64</td>\n",
       "    </tr>\n",
       "    <tr>\n",
       "      <th>3</th>\n",
       "      <td>1000</td>\n",
       "      <td>8</td>\n",
       "      <td>14055.93</td>\n",
       "    </tr>\n",
       "    <tr>\n",
       "      <th>4</th>\n",
       "      <td>1000</td>\n",
       "      <td>9</td>\n",
       "      <td>14568.91</td>\n",
       "    </tr>\n",
       "    <tr>\n",
       "      <th>...</th>\n",
       "      <td>...</td>\n",
       "      <td>...</td>\n",
       "      <td>...</td>\n",
       "    </tr>\n",
       "    <tr>\n",
       "      <th>3198</th>\n",
       "      <td>1498</td>\n",
       "      <td>10</td>\n",
       "      <td>20579.36</td>\n",
       "    </tr>\n",
       "    <tr>\n",
       "      <th>3199</th>\n",
       "      <td>1499</td>\n",
       "      <td>9</td>\n",
       "      <td>1845.75</td>\n",
       "    </tr>\n",
       "    <tr>\n",
       "      <th>3200</th>\n",
       "      <td>1499</td>\n",
       "      <td>10</td>\n",
       "      <td>17788.51</td>\n",
       "    </tr>\n",
       "    <tr>\n",
       "      <th>3201</th>\n",
       "      <td>1499</td>\n",
       "      <td>11</td>\n",
       "      <td>17963.31</td>\n",
       "    </tr>\n",
       "    <tr>\n",
       "      <th>3202</th>\n",
       "      <td>1499</td>\n",
       "      <td>12</td>\n",
       "      <td>13055.58</td>\n",
       "    </tr>\n",
       "  </tbody>\n",
       "</table>\n",
       "<p>3203 rows × 3 columns</p>\n",
       "</div>"
      ],
      "text/plain": [
       "      user_id  month  mb_total_month\n",
       "0        1000      5         2253.49\n",
       "1        1000      6        23233.77\n",
       "2        1000      7        14003.64\n",
       "3        1000      8        14055.93\n",
       "4        1000      9        14568.91\n",
       "...       ...    ...             ...\n",
       "3198     1498     10        20579.36\n",
       "3199     1499      9         1845.75\n",
       "3200     1499     10        17788.51\n",
       "3201     1499     11        17963.31\n",
       "3202     1499     12        13055.58\n",
       "\n",
       "[3203 rows x 3 columns]"
      ]
     },
     "execution_count": 28,
     "metadata": {},
     "output_type": "execute_result"
    }
   ],
   "source": [
    "user_internet"
   ]
  },
  {
   "cell_type": "markdown",
   "id": "e3b6acc3-1858-4145-835e-6bbb1371a513",
   "metadata": {},
   "source": [
    "#### помесячную выручку с каждого пользователя (вычтите бесплатный лимит из суммарного количества звонков, сообщений и интернет-трафика; остаток умножьте на значение из тарифного плана; прибавьте абонентскую плату, соответствующую тарифному плану)."
   ]
  },
  {
   "cell_type": "code",
   "execution_count": 29,
   "id": "590ba940-41f6-4486-af71-b548fdae6707",
   "metadata": {},
   "outputs": [],
   "source": [
    "df = user_calls.merge(user_messages, on=['user_id','month'], how='outer')"
   ]
  },
  {
   "cell_type": "code",
   "execution_count": 30,
   "id": "02ad5763-c671-4b23-bad8-f63176619f4b",
   "metadata": {},
   "outputs": [
    {
     "data": {
      "text/html": [
       "<div>\n",
       "<style scoped>\n",
       "    .dataframe tbody tr th:only-of-type {\n",
       "        vertical-align: middle;\n",
       "    }\n",
       "\n",
       "    .dataframe tbody tr th {\n",
       "        vertical-align: top;\n",
       "    }\n",
       "\n",
       "    .dataframe thead th {\n",
       "        text-align: right;\n",
       "    }\n",
       "</style>\n",
       "<table border=\"1\" class=\"dataframe\">\n",
       "  <thead>\n",
       "    <tr style=\"text-align: right;\">\n",
       "      <th></th>\n",
       "      <th>user_id</th>\n",
       "      <th>month</th>\n",
       "      <th>month_calls_duration</th>\n",
       "      <th>calls_total_month</th>\n",
       "      <th>sms_total_month</th>\n",
       "    </tr>\n",
       "  </thead>\n",
       "  <tbody>\n",
       "    <tr>\n",
       "      <th>0</th>\n",
       "      <td>1000</td>\n",
       "      <td>5</td>\n",
       "      <td>159.0</td>\n",
       "      <td>22.0</td>\n",
       "      <td>22.0</td>\n",
       "    </tr>\n",
       "    <tr>\n",
       "      <th>1</th>\n",
       "      <td>1000</td>\n",
       "      <td>6</td>\n",
       "      <td>172.0</td>\n",
       "      <td>43.0</td>\n",
       "      <td>60.0</td>\n",
       "    </tr>\n",
       "    <tr>\n",
       "      <th>2</th>\n",
       "      <td>1000</td>\n",
       "      <td>7</td>\n",
       "      <td>340.0</td>\n",
       "      <td>47.0</td>\n",
       "      <td>75.0</td>\n",
       "    </tr>\n",
       "    <tr>\n",
       "      <th>3</th>\n",
       "      <td>1000</td>\n",
       "      <td>8</td>\n",
       "      <td>408.0</td>\n",
       "      <td>52.0</td>\n",
       "      <td>81.0</td>\n",
       "    </tr>\n",
       "    <tr>\n",
       "      <th>4</th>\n",
       "      <td>1000</td>\n",
       "      <td>9</td>\n",
       "      <td>466.0</td>\n",
       "      <td>58.0</td>\n",
       "      <td>57.0</td>\n",
       "    </tr>\n",
       "    <tr>\n",
       "      <th>...</th>\n",
       "      <td>...</td>\n",
       "      <td>...</td>\n",
       "      <td>...</td>\n",
       "      <td>...</td>\n",
       "      <td>...</td>\n",
       "    </tr>\n",
       "    <tr>\n",
       "      <th>3208</th>\n",
       "      <td>1489</td>\n",
       "      <td>8</td>\n",
       "      <td>NaN</td>\n",
       "      <td>NaN</td>\n",
       "      <td>17.0</td>\n",
       "    </tr>\n",
       "    <tr>\n",
       "      <th>3209</th>\n",
       "      <td>1489</td>\n",
       "      <td>9</td>\n",
       "      <td>NaN</td>\n",
       "      <td>NaN</td>\n",
       "      <td>32.0</td>\n",
       "    </tr>\n",
       "    <tr>\n",
       "      <th>3210</th>\n",
       "      <td>1489</td>\n",
       "      <td>10</td>\n",
       "      <td>NaN</td>\n",
       "      <td>NaN</td>\n",
       "      <td>21.0</td>\n",
       "    </tr>\n",
       "    <tr>\n",
       "      <th>3211</th>\n",
       "      <td>1489</td>\n",
       "      <td>11</td>\n",
       "      <td>NaN</td>\n",
       "      <td>NaN</td>\n",
       "      <td>20.0</td>\n",
       "    </tr>\n",
       "    <tr>\n",
       "      <th>3212</th>\n",
       "      <td>1489</td>\n",
       "      <td>12</td>\n",
       "      <td>NaN</td>\n",
       "      <td>NaN</td>\n",
       "      <td>35.0</td>\n",
       "    </tr>\n",
       "  </tbody>\n",
       "</table>\n",
       "<p>3213 rows × 5 columns</p>\n",
       "</div>"
      ],
      "text/plain": [
       "      user_id  month  month_calls_duration  calls_total_month  sms_total_month\n",
       "0        1000      5                 159.0               22.0             22.0\n",
       "1        1000      6                 172.0               43.0             60.0\n",
       "2        1000      7                 340.0               47.0             75.0\n",
       "3        1000      8                 408.0               52.0             81.0\n",
       "4        1000      9                 466.0               58.0             57.0\n",
       "...       ...    ...                   ...                ...              ...\n",
       "3208     1489      8                   NaN                NaN             17.0\n",
       "3209     1489      9                   NaN                NaN             32.0\n",
       "3210     1489     10                   NaN                NaN             21.0\n",
       "3211     1489     11                   NaN                NaN             20.0\n",
       "3212     1489     12                   NaN                NaN             35.0\n",
       "\n",
       "[3213 rows x 5 columns]"
      ]
     },
     "execution_count": 30,
     "metadata": {},
     "output_type": "execute_result"
    }
   ],
   "source": [
    "df"
   ]
  },
  {
   "cell_type": "code",
   "execution_count": 31,
   "id": "e7c0d795-45a1-44b3-bda9-23b0085b51a5",
   "metadata": {},
   "outputs": [],
   "source": [
    "df = df.merge(user_internet, on=['user_id','month'], how = 'outer')"
   ]
  },
  {
   "cell_type": "code",
   "execution_count": 32,
   "id": "f93b42ea-8e2f-4a74-9544-59b2e94925de",
   "metadata": {},
   "outputs": [
    {
     "data": {
      "text/html": [
       "<div>\n",
       "<style scoped>\n",
       "    .dataframe tbody tr th:only-of-type {\n",
       "        vertical-align: middle;\n",
       "    }\n",
       "\n",
       "    .dataframe tbody tr th {\n",
       "        vertical-align: top;\n",
       "    }\n",
       "\n",
       "    .dataframe thead th {\n",
       "        text-align: right;\n",
       "    }\n",
       "</style>\n",
       "<table border=\"1\" class=\"dataframe\">\n",
       "  <thead>\n",
       "    <tr style=\"text-align: right;\">\n",
       "      <th></th>\n",
       "      <th>user_id</th>\n",
       "      <th>month</th>\n",
       "      <th>month_calls_duration</th>\n",
       "      <th>calls_total_month</th>\n",
       "      <th>sms_total_month</th>\n",
       "      <th>mb_total_month</th>\n",
       "    </tr>\n",
       "  </thead>\n",
       "  <tbody>\n",
       "    <tr>\n",
       "      <th>0</th>\n",
       "      <td>1000</td>\n",
       "      <td>5</td>\n",
       "      <td>159.0</td>\n",
       "      <td>22.0</td>\n",
       "      <td>22.0</td>\n",
       "      <td>2253.49</td>\n",
       "    </tr>\n",
       "    <tr>\n",
       "      <th>1</th>\n",
       "      <td>1000</td>\n",
       "      <td>6</td>\n",
       "      <td>172.0</td>\n",
       "      <td>43.0</td>\n",
       "      <td>60.0</td>\n",
       "      <td>23233.77</td>\n",
       "    </tr>\n",
       "    <tr>\n",
       "      <th>2</th>\n",
       "      <td>1000</td>\n",
       "      <td>7</td>\n",
       "      <td>340.0</td>\n",
       "      <td>47.0</td>\n",
       "      <td>75.0</td>\n",
       "      <td>14003.64</td>\n",
       "    </tr>\n",
       "    <tr>\n",
       "      <th>3</th>\n",
       "      <td>1000</td>\n",
       "      <td>8</td>\n",
       "      <td>408.0</td>\n",
       "      <td>52.0</td>\n",
       "      <td>81.0</td>\n",
       "      <td>14055.93</td>\n",
       "    </tr>\n",
       "    <tr>\n",
       "      <th>4</th>\n",
       "      <td>1000</td>\n",
       "      <td>9</td>\n",
       "      <td>466.0</td>\n",
       "      <td>58.0</td>\n",
       "      <td>57.0</td>\n",
       "      <td>14568.91</td>\n",
       "    </tr>\n",
       "    <tr>\n",
       "      <th>...</th>\n",
       "      <td>...</td>\n",
       "      <td>...</td>\n",
       "      <td>...</td>\n",
       "      <td>...</td>\n",
       "      <td>...</td>\n",
       "      <td>...</td>\n",
       "    </tr>\n",
       "    <tr>\n",
       "      <th>3209</th>\n",
       "      <td>1489</td>\n",
       "      <td>9</td>\n",
       "      <td>NaN</td>\n",
       "      <td>NaN</td>\n",
       "      <td>32.0</td>\n",
       "      <td>17206.30</td>\n",
       "    </tr>\n",
       "    <tr>\n",
       "      <th>3210</th>\n",
       "      <td>1489</td>\n",
       "      <td>10</td>\n",
       "      <td>NaN</td>\n",
       "      <td>NaN</td>\n",
       "      <td>21.0</td>\n",
       "      <td>19559.44</td>\n",
       "    </tr>\n",
       "    <tr>\n",
       "      <th>3211</th>\n",
       "      <td>1489</td>\n",
       "      <td>11</td>\n",
       "      <td>NaN</td>\n",
       "      <td>NaN</td>\n",
       "      <td>20.0</td>\n",
       "      <td>17491.56</td>\n",
       "    </tr>\n",
       "    <tr>\n",
       "      <th>3212</th>\n",
       "      <td>1489</td>\n",
       "      <td>12</td>\n",
       "      <td>NaN</td>\n",
       "      <td>NaN</td>\n",
       "      <td>35.0</td>\n",
       "      <td>17322.51</td>\n",
       "    </tr>\n",
       "    <tr>\n",
       "      <th>3213</th>\n",
       "      <td>1476</td>\n",
       "      <td>4</td>\n",
       "      <td>NaN</td>\n",
       "      <td>NaN</td>\n",
       "      <td>NaN</td>\n",
       "      <td>530.78</td>\n",
       "    </tr>\n",
       "  </tbody>\n",
       "</table>\n",
       "<p>3214 rows × 6 columns</p>\n",
       "</div>"
      ],
      "text/plain": [
       "      user_id  month  month_calls_duration  calls_total_month  \\\n",
       "0        1000      5                 159.0               22.0   \n",
       "1        1000      6                 172.0               43.0   \n",
       "2        1000      7                 340.0               47.0   \n",
       "3        1000      8                 408.0               52.0   \n",
       "4        1000      9                 466.0               58.0   \n",
       "...       ...    ...                   ...                ...   \n",
       "3209     1489      9                   NaN                NaN   \n",
       "3210     1489     10                   NaN                NaN   \n",
       "3211     1489     11                   NaN                NaN   \n",
       "3212     1489     12                   NaN                NaN   \n",
       "3213     1476      4                   NaN                NaN   \n",
       "\n",
       "      sms_total_month  mb_total_month  \n",
       "0                22.0         2253.49  \n",
       "1                60.0        23233.77  \n",
       "2                75.0        14003.64  \n",
       "3                81.0        14055.93  \n",
       "4                57.0        14568.91  \n",
       "...               ...             ...  \n",
       "3209             32.0        17206.30  \n",
       "3210             21.0        19559.44  \n",
       "3211             20.0        17491.56  \n",
       "3212             35.0        17322.51  \n",
       "3213              NaN          530.78  \n",
       "\n",
       "[3214 rows x 6 columns]"
      ]
     },
     "execution_count": 32,
     "metadata": {},
     "output_type": "execute_result"
    }
   ],
   "source": [
    "df"
   ]
  },
  {
   "cell_type": "code",
   "execution_count": 33,
   "id": "df6a57b4-1a5c-4e80-b1e8-cea2365f116a",
   "metadata": {},
   "outputs": [
    {
     "data": {
      "text/html": [
       "<div>\n",
       "<style scoped>\n",
       "    .dataframe tbody tr th:only-of-type {\n",
       "        vertical-align: middle;\n",
       "    }\n",
       "\n",
       "    .dataframe tbody tr th {\n",
       "        vertical-align: top;\n",
       "    }\n",
       "\n",
       "    .dataframe thead th {\n",
       "        text-align: right;\n",
       "    }\n",
       "</style>\n",
       "<table border=\"1\" class=\"dataframe\">\n",
       "  <thead>\n",
       "    <tr style=\"text-align: right;\">\n",
       "      <th></th>\n",
       "      <th>user_id</th>\n",
       "      <th>month</th>\n",
       "      <th>month_calls_duration</th>\n",
       "      <th>calls_total_month</th>\n",
       "      <th>sms_total_month</th>\n",
       "      <th>mb_total_month</th>\n",
       "      <th>age</th>\n",
       "      <th>churn_date</th>\n",
       "      <th>city</th>\n",
       "      <th>first_name</th>\n",
       "      <th>last_name</th>\n",
       "      <th>reg_date</th>\n",
       "      <th>tariff</th>\n",
       "    </tr>\n",
       "  </thead>\n",
       "  <tbody>\n",
       "    <tr>\n",
       "      <th>0</th>\n",
       "      <td>1000</td>\n",
       "      <td>5</td>\n",
       "      <td>159.0</td>\n",
       "      <td>22.0</td>\n",
       "      <td>22.0</td>\n",
       "      <td>2253.49</td>\n",
       "      <td>52</td>\n",
       "      <td>NaT</td>\n",
       "      <td>Краснодар</td>\n",
       "      <td>Рафаил</td>\n",
       "      <td>Верещагин</td>\n",
       "      <td>2018-05-25</td>\n",
       "      <td>ultra</td>\n",
       "    </tr>\n",
       "    <tr>\n",
       "      <th>1</th>\n",
       "      <td>1000</td>\n",
       "      <td>6</td>\n",
       "      <td>172.0</td>\n",
       "      <td>43.0</td>\n",
       "      <td>60.0</td>\n",
       "      <td>23233.77</td>\n",
       "      <td>52</td>\n",
       "      <td>NaT</td>\n",
       "      <td>Краснодар</td>\n",
       "      <td>Рафаил</td>\n",
       "      <td>Верещагин</td>\n",
       "      <td>2018-05-25</td>\n",
       "      <td>ultra</td>\n",
       "    </tr>\n",
       "    <tr>\n",
       "      <th>2</th>\n",
       "      <td>1000</td>\n",
       "      <td>7</td>\n",
       "      <td>340.0</td>\n",
       "      <td>47.0</td>\n",
       "      <td>75.0</td>\n",
       "      <td>14003.64</td>\n",
       "      <td>52</td>\n",
       "      <td>NaT</td>\n",
       "      <td>Краснодар</td>\n",
       "      <td>Рафаил</td>\n",
       "      <td>Верещагин</td>\n",
       "      <td>2018-05-25</td>\n",
       "      <td>ultra</td>\n",
       "    </tr>\n",
       "    <tr>\n",
       "      <th>3</th>\n",
       "      <td>1000</td>\n",
       "      <td>8</td>\n",
       "      <td>408.0</td>\n",
       "      <td>52.0</td>\n",
       "      <td>81.0</td>\n",
       "      <td>14055.93</td>\n",
       "      <td>52</td>\n",
       "      <td>NaT</td>\n",
       "      <td>Краснодар</td>\n",
       "      <td>Рафаил</td>\n",
       "      <td>Верещагин</td>\n",
       "      <td>2018-05-25</td>\n",
       "      <td>ultra</td>\n",
       "    </tr>\n",
       "    <tr>\n",
       "      <th>4</th>\n",
       "      <td>1000</td>\n",
       "      <td>9</td>\n",
       "      <td>466.0</td>\n",
       "      <td>58.0</td>\n",
       "      <td>57.0</td>\n",
       "      <td>14568.91</td>\n",
       "      <td>52</td>\n",
       "      <td>NaT</td>\n",
       "      <td>Краснодар</td>\n",
       "      <td>Рафаил</td>\n",
       "      <td>Верещагин</td>\n",
       "      <td>2018-05-25</td>\n",
       "      <td>ultra</td>\n",
       "    </tr>\n",
       "  </tbody>\n",
       "</table>\n",
       "</div>"
      ],
      "text/plain": [
       "   user_id  month  month_calls_duration  calls_total_month  sms_total_month  \\\n",
       "0     1000      5                 159.0               22.0             22.0   \n",
       "1     1000      6                 172.0               43.0             60.0   \n",
       "2     1000      7                 340.0               47.0             75.0   \n",
       "3     1000      8                 408.0               52.0             81.0   \n",
       "4     1000      9                 466.0               58.0             57.0   \n",
       "\n",
       "   mb_total_month  age churn_date       city first_name  last_name   reg_date  \\\n",
       "0         2253.49   52        NaT  Краснодар     Рафаил  Верещагин 2018-05-25   \n",
       "1        23233.77   52        NaT  Краснодар     Рафаил  Верещагин 2018-05-25   \n",
       "2        14003.64   52        NaT  Краснодар     Рафаил  Верещагин 2018-05-25   \n",
       "3        14055.93   52        NaT  Краснодар     Рафаил  Верещагин 2018-05-25   \n",
       "4        14568.91   52        NaT  Краснодар     Рафаил  Верещагин 2018-05-25   \n",
       "\n",
       "  tariff  \n",
       "0  ultra  \n",
       "1  ultra  \n",
       "2  ultra  \n",
       "3  ultra  \n",
       "4  ultra  "
      ]
     },
     "execution_count": 33,
     "metadata": {},
     "output_type": "execute_result"
    }
   ],
   "source": [
    "df = df.merge(users, on='user_id', how='left')\n",
    "df.head()"
   ]
  },
  {
   "cell_type": "code",
   "execution_count": 34,
   "id": "b535ba93-32f8-4200-a213-997d610cb0d3",
   "metadata": {},
   "outputs": [],
   "source": [
    "tariffs = tariffs.rename(columns={'tariff_name':'tariff'})"
   ]
  },
  {
   "cell_type": "code",
   "execution_count": 35,
   "id": "92d2ef99-c919-4cf8-860a-2103b2997614",
   "metadata": {},
   "outputs": [],
   "source": [
    "df = df.merge(tariffs, on='tariff', how='left')"
   ]
  },
  {
   "cell_type": "code",
   "execution_count": 36,
   "id": "ac9bb8e4-e8c9-4990-b0b1-e94b92e1fc52",
   "metadata": {
    "scrolled": true
   },
   "outputs": [
    {
     "data": {
      "text/html": [
       "<div>\n",
       "<style scoped>\n",
       "    .dataframe tbody tr th:only-of-type {\n",
       "        vertical-align: middle;\n",
       "    }\n",
       "\n",
       "    .dataframe tbody tr th {\n",
       "        vertical-align: top;\n",
       "    }\n",
       "\n",
       "    .dataframe thead th {\n",
       "        text-align: right;\n",
       "    }\n",
       "</style>\n",
       "<table border=\"1\" class=\"dataframe\">\n",
       "  <thead>\n",
       "    <tr style=\"text-align: right;\">\n",
       "      <th></th>\n",
       "      <th>user_id</th>\n",
       "      <th>month</th>\n",
       "      <th>month_calls_duration</th>\n",
       "      <th>calls_total_month</th>\n",
       "      <th>sms_total_month</th>\n",
       "      <th>mb_total_month</th>\n",
       "      <th>age</th>\n",
       "      <th>churn_date</th>\n",
       "      <th>city</th>\n",
       "      <th>first_name</th>\n",
       "      <th>last_name</th>\n",
       "      <th>reg_date</th>\n",
       "      <th>tariff</th>\n",
       "      <th>messages_included</th>\n",
       "      <th>mb_per_month_included</th>\n",
       "      <th>minutes_included</th>\n",
       "      <th>rub_monthly_fee</th>\n",
       "      <th>rub_per_gb</th>\n",
       "      <th>rub_per_message</th>\n",
       "      <th>rub_per_minute</th>\n",
       "    </tr>\n",
       "  </thead>\n",
       "  <tbody>\n",
       "    <tr>\n",
       "      <th>0</th>\n",
       "      <td>1000</td>\n",
       "      <td>5</td>\n",
       "      <td>159.0</td>\n",
       "      <td>22.0</td>\n",
       "      <td>22.0</td>\n",
       "      <td>2253.49</td>\n",
       "      <td>52</td>\n",
       "      <td>NaT</td>\n",
       "      <td>Краснодар</td>\n",
       "      <td>Рафаил</td>\n",
       "      <td>Верещагин</td>\n",
       "      <td>2018-05-25</td>\n",
       "      <td>ultra</td>\n",
       "      <td>1000</td>\n",
       "      <td>30720</td>\n",
       "      <td>3000</td>\n",
       "      <td>1950</td>\n",
       "      <td>150</td>\n",
       "      <td>1</td>\n",
       "      <td>1</td>\n",
       "    </tr>\n",
       "    <tr>\n",
       "      <th>1</th>\n",
       "      <td>1000</td>\n",
       "      <td>6</td>\n",
       "      <td>172.0</td>\n",
       "      <td>43.0</td>\n",
       "      <td>60.0</td>\n",
       "      <td>23233.77</td>\n",
       "      <td>52</td>\n",
       "      <td>NaT</td>\n",
       "      <td>Краснодар</td>\n",
       "      <td>Рафаил</td>\n",
       "      <td>Верещагин</td>\n",
       "      <td>2018-05-25</td>\n",
       "      <td>ultra</td>\n",
       "      <td>1000</td>\n",
       "      <td>30720</td>\n",
       "      <td>3000</td>\n",
       "      <td>1950</td>\n",
       "      <td>150</td>\n",
       "      <td>1</td>\n",
       "      <td>1</td>\n",
       "    </tr>\n",
       "    <tr>\n",
       "      <th>2</th>\n",
       "      <td>1000</td>\n",
       "      <td>7</td>\n",
       "      <td>340.0</td>\n",
       "      <td>47.0</td>\n",
       "      <td>75.0</td>\n",
       "      <td>14003.64</td>\n",
       "      <td>52</td>\n",
       "      <td>NaT</td>\n",
       "      <td>Краснодар</td>\n",
       "      <td>Рафаил</td>\n",
       "      <td>Верещагин</td>\n",
       "      <td>2018-05-25</td>\n",
       "      <td>ultra</td>\n",
       "      <td>1000</td>\n",
       "      <td>30720</td>\n",
       "      <td>3000</td>\n",
       "      <td>1950</td>\n",
       "      <td>150</td>\n",
       "      <td>1</td>\n",
       "      <td>1</td>\n",
       "    </tr>\n",
       "    <tr>\n",
       "      <th>3</th>\n",
       "      <td>1000</td>\n",
       "      <td>8</td>\n",
       "      <td>408.0</td>\n",
       "      <td>52.0</td>\n",
       "      <td>81.0</td>\n",
       "      <td>14055.93</td>\n",
       "      <td>52</td>\n",
       "      <td>NaT</td>\n",
       "      <td>Краснодар</td>\n",
       "      <td>Рафаил</td>\n",
       "      <td>Верещагин</td>\n",
       "      <td>2018-05-25</td>\n",
       "      <td>ultra</td>\n",
       "      <td>1000</td>\n",
       "      <td>30720</td>\n",
       "      <td>3000</td>\n",
       "      <td>1950</td>\n",
       "      <td>150</td>\n",
       "      <td>1</td>\n",
       "      <td>1</td>\n",
       "    </tr>\n",
       "    <tr>\n",
       "      <th>4</th>\n",
       "      <td>1000</td>\n",
       "      <td>9</td>\n",
       "      <td>466.0</td>\n",
       "      <td>58.0</td>\n",
       "      <td>57.0</td>\n",
       "      <td>14568.91</td>\n",
       "      <td>52</td>\n",
       "      <td>NaT</td>\n",
       "      <td>Краснодар</td>\n",
       "      <td>Рафаил</td>\n",
       "      <td>Верещагин</td>\n",
       "      <td>2018-05-25</td>\n",
       "      <td>ultra</td>\n",
       "      <td>1000</td>\n",
       "      <td>30720</td>\n",
       "      <td>3000</td>\n",
       "      <td>1950</td>\n",
       "      <td>150</td>\n",
       "      <td>1</td>\n",
       "      <td>1</td>\n",
       "    </tr>\n",
       "    <tr>\n",
       "      <th>...</th>\n",
       "      <td>...</td>\n",
       "      <td>...</td>\n",
       "      <td>...</td>\n",
       "      <td>...</td>\n",
       "      <td>...</td>\n",
       "      <td>...</td>\n",
       "      <td>...</td>\n",
       "      <td>...</td>\n",
       "      <td>...</td>\n",
       "      <td>...</td>\n",
       "      <td>...</td>\n",
       "      <td>...</td>\n",
       "      <td>...</td>\n",
       "      <td>...</td>\n",
       "      <td>...</td>\n",
       "      <td>...</td>\n",
       "      <td>...</td>\n",
       "      <td>...</td>\n",
       "      <td>...</td>\n",
       "      <td>...</td>\n",
       "    </tr>\n",
       "    <tr>\n",
       "      <th>3209</th>\n",
       "      <td>1489</td>\n",
       "      <td>9</td>\n",
       "      <td>NaN</td>\n",
       "      <td>NaN</td>\n",
       "      <td>32.0</td>\n",
       "      <td>17206.30</td>\n",
       "      <td>35</td>\n",
       "      <td>NaT</td>\n",
       "      <td>Санкт-Петербург</td>\n",
       "      <td>Павел</td>\n",
       "      <td>Гончаров</td>\n",
       "      <td>2018-08-15</td>\n",
       "      <td>smart</td>\n",
       "      <td>50</td>\n",
       "      <td>15360</td>\n",
       "      <td>500</td>\n",
       "      <td>550</td>\n",
       "      <td>200</td>\n",
       "      <td>3</td>\n",
       "      <td>3</td>\n",
       "    </tr>\n",
       "    <tr>\n",
       "      <th>3210</th>\n",
       "      <td>1489</td>\n",
       "      <td>10</td>\n",
       "      <td>NaN</td>\n",
       "      <td>NaN</td>\n",
       "      <td>21.0</td>\n",
       "      <td>19559.44</td>\n",
       "      <td>35</td>\n",
       "      <td>NaT</td>\n",
       "      <td>Санкт-Петербург</td>\n",
       "      <td>Павел</td>\n",
       "      <td>Гончаров</td>\n",
       "      <td>2018-08-15</td>\n",
       "      <td>smart</td>\n",
       "      <td>50</td>\n",
       "      <td>15360</td>\n",
       "      <td>500</td>\n",
       "      <td>550</td>\n",
       "      <td>200</td>\n",
       "      <td>3</td>\n",
       "      <td>3</td>\n",
       "    </tr>\n",
       "    <tr>\n",
       "      <th>3211</th>\n",
       "      <td>1489</td>\n",
       "      <td>11</td>\n",
       "      <td>NaN</td>\n",
       "      <td>NaN</td>\n",
       "      <td>20.0</td>\n",
       "      <td>17491.56</td>\n",
       "      <td>35</td>\n",
       "      <td>NaT</td>\n",
       "      <td>Санкт-Петербург</td>\n",
       "      <td>Павел</td>\n",
       "      <td>Гончаров</td>\n",
       "      <td>2018-08-15</td>\n",
       "      <td>smart</td>\n",
       "      <td>50</td>\n",
       "      <td>15360</td>\n",
       "      <td>500</td>\n",
       "      <td>550</td>\n",
       "      <td>200</td>\n",
       "      <td>3</td>\n",
       "      <td>3</td>\n",
       "    </tr>\n",
       "    <tr>\n",
       "      <th>3212</th>\n",
       "      <td>1489</td>\n",
       "      <td>12</td>\n",
       "      <td>NaN</td>\n",
       "      <td>NaN</td>\n",
       "      <td>35.0</td>\n",
       "      <td>17322.51</td>\n",
       "      <td>35</td>\n",
       "      <td>NaT</td>\n",
       "      <td>Санкт-Петербург</td>\n",
       "      <td>Павел</td>\n",
       "      <td>Гончаров</td>\n",
       "      <td>2018-08-15</td>\n",
       "      <td>smart</td>\n",
       "      <td>50</td>\n",
       "      <td>15360</td>\n",
       "      <td>500</td>\n",
       "      <td>550</td>\n",
       "      <td>200</td>\n",
       "      <td>3</td>\n",
       "      <td>3</td>\n",
       "    </tr>\n",
       "    <tr>\n",
       "      <th>3213</th>\n",
       "      <td>1476</td>\n",
       "      <td>4</td>\n",
       "      <td>NaN</td>\n",
       "      <td>NaN</td>\n",
       "      <td>NaN</td>\n",
       "      <td>530.78</td>\n",
       "      <td>50</td>\n",
       "      <td>NaT</td>\n",
       "      <td>Москва</td>\n",
       "      <td>Валентина</td>\n",
       "      <td>Семенова</td>\n",
       "      <td>2018-04-30</td>\n",
       "      <td>ultra</td>\n",
       "      <td>1000</td>\n",
       "      <td>30720</td>\n",
       "      <td>3000</td>\n",
       "      <td>1950</td>\n",
       "      <td>150</td>\n",
       "      <td>1</td>\n",
       "      <td>1</td>\n",
       "    </tr>\n",
       "  </tbody>\n",
       "</table>\n",
       "<p>3214 rows × 20 columns</p>\n",
       "</div>"
      ],
      "text/plain": [
       "      user_id  month  month_calls_duration  calls_total_month  \\\n",
       "0        1000      5                 159.0               22.0   \n",
       "1        1000      6                 172.0               43.0   \n",
       "2        1000      7                 340.0               47.0   \n",
       "3        1000      8                 408.0               52.0   \n",
       "4        1000      9                 466.0               58.0   \n",
       "...       ...    ...                   ...                ...   \n",
       "3209     1489      9                   NaN                NaN   \n",
       "3210     1489     10                   NaN                NaN   \n",
       "3211     1489     11                   NaN                NaN   \n",
       "3212     1489     12                   NaN                NaN   \n",
       "3213     1476      4                   NaN                NaN   \n",
       "\n",
       "      sms_total_month  mb_total_month  age churn_date             city  \\\n",
       "0                22.0         2253.49   52        NaT        Краснодар   \n",
       "1                60.0        23233.77   52        NaT        Краснодар   \n",
       "2                75.0        14003.64   52        NaT        Краснодар   \n",
       "3                81.0        14055.93   52        NaT        Краснодар   \n",
       "4                57.0        14568.91   52        NaT        Краснодар   \n",
       "...               ...             ...  ...        ...              ...   \n",
       "3209             32.0        17206.30   35        NaT  Санкт-Петербург   \n",
       "3210             21.0        19559.44   35        NaT  Санкт-Петербург   \n",
       "3211             20.0        17491.56   35        NaT  Санкт-Петербург   \n",
       "3212             35.0        17322.51   35        NaT  Санкт-Петербург   \n",
       "3213              NaN          530.78   50        NaT           Москва   \n",
       "\n",
       "     first_name  last_name   reg_date tariff  messages_included  \\\n",
       "0        Рафаил  Верещагин 2018-05-25  ultra               1000   \n",
       "1        Рафаил  Верещагин 2018-05-25  ultra               1000   \n",
       "2        Рафаил  Верещагин 2018-05-25  ultra               1000   \n",
       "3        Рафаил  Верещагин 2018-05-25  ultra               1000   \n",
       "4        Рафаил  Верещагин 2018-05-25  ultra               1000   \n",
       "...         ...        ...        ...    ...                ...   \n",
       "3209      Павел   Гончаров 2018-08-15  smart                 50   \n",
       "3210      Павел   Гончаров 2018-08-15  smart                 50   \n",
       "3211      Павел   Гончаров 2018-08-15  smart                 50   \n",
       "3212      Павел   Гончаров 2018-08-15  smart                 50   \n",
       "3213  Валентина   Семенова 2018-04-30  ultra               1000   \n",
       "\n",
       "      mb_per_month_included  minutes_included  rub_monthly_fee  rub_per_gb  \\\n",
       "0                     30720              3000             1950         150   \n",
       "1                     30720              3000             1950         150   \n",
       "2                     30720              3000             1950         150   \n",
       "3                     30720              3000             1950         150   \n",
       "4                     30720              3000             1950         150   \n",
       "...                     ...               ...              ...         ...   \n",
       "3209                  15360               500              550         200   \n",
       "3210                  15360               500              550         200   \n",
       "3211                  15360               500              550         200   \n",
       "3212                  15360               500              550         200   \n",
       "3213                  30720              3000             1950         150   \n",
       "\n",
       "      rub_per_message  rub_per_minute  \n",
       "0                   1               1  \n",
       "1                   1               1  \n",
       "2                   1               1  \n",
       "3                   1               1  \n",
       "4                   1               1  \n",
       "...               ...             ...  \n",
       "3209                3               3  \n",
       "3210                3               3  \n",
       "3211                3               3  \n",
       "3212                3               3  \n",
       "3213                1               1  \n",
       "\n",
       "[3214 rows x 20 columns]"
      ]
     },
     "execution_count": 36,
     "metadata": {},
     "output_type": "execute_result"
    }
   ],
   "source": [
    "df"
   ]
  },
  {
   "cell_type": "code",
   "execution_count": 37,
   "id": "8dd41aeb-815e-45b5-8456-c6b72cd0cf1b",
   "metadata": {},
   "outputs": [
    {
     "data": {
      "text/plain": [
       "user_id                     0\n",
       "month                       0\n",
       "month_calls_duration       40\n",
       "calls_total_month          40\n",
       "sms_total_month           497\n",
       "mb_total_month             11\n",
       "age                         0\n",
       "churn_date               3027\n",
       "city                        0\n",
       "first_name                  0\n",
       "last_name                   0\n",
       "reg_date                    0\n",
       "tariff                      0\n",
       "messages_included           0\n",
       "mb_per_month_included       0\n",
       "minutes_included            0\n",
       "rub_monthly_fee             0\n",
       "rub_per_gb                  0\n",
       "rub_per_message             0\n",
       "rub_per_minute              0\n",
       "dtype: int64"
      ]
     },
     "execution_count": 37,
     "metadata": {},
     "output_type": "execute_result"
    }
   ],
   "source": [
    "df.isna().sum()"
   ]
  },
  {
   "cell_type": "code",
   "execution_count": 38,
   "id": "a4fa2e10-69a4-4e21-bcbe-2c67e3ee0cb0",
   "metadata": {},
   "outputs": [],
   "source": [
    "# заполняем тех кто не расходует минуты,смс,гб нулями\n",
    "df['sms_total_month'] = df['sms_total_month'].fillna(0)\n",
    "df['mb_total_month'] = df['mb_total_month'].fillna(0)\n",
    "df['month_calls_duration'] = df['month_calls_duration'].fillna(0)\n",
    "df['calls_total_month'] = df['calls_total_month'].fillna(0)"
   ]
  },
  {
   "cell_type": "code",
   "execution_count": 39,
   "id": "f994425f-1db5-480c-86c2-7cecba0d18dd",
   "metadata": {},
   "outputs": [
    {
     "data": {
      "text/plain": [
       "user_id                     0\n",
       "month                       0\n",
       "month_calls_duration        0\n",
       "calls_total_month           0\n",
       "sms_total_month             0\n",
       "mb_total_month              0\n",
       "age                         0\n",
       "churn_date               3027\n",
       "city                        0\n",
       "first_name                  0\n",
       "last_name                   0\n",
       "reg_date                    0\n",
       "tariff                      0\n",
       "messages_included           0\n",
       "mb_per_month_included       0\n",
       "minutes_included            0\n",
       "rub_monthly_fee             0\n",
       "rub_per_gb                  0\n",
       "rub_per_message             0\n",
       "rub_per_minute              0\n",
       "dtype: int64"
      ]
     },
     "execution_count": 39,
     "metadata": {},
     "output_type": "execute_result"
    }
   ],
   "source": [
    "df.isna().sum()"
   ]
  },
  {
   "cell_type": "code",
   "execution_count": 40,
   "id": "4b7d678a-d90a-4da3-a5f4-1f287344eeaf",
   "metadata": {},
   "outputs": [],
   "source": [
    "def cost_the_tariff(row):\n",
    "    sms = (row['sms_total_month'] - row['messages_included']) * row['rub_per_message']\n",
    "    mins = (row['month_calls_duration'] - row['minutes_included']) * row['rub_per_minute']\n",
    "    mbs = mt.ceil((row['mb_total_month'] - row['mb_per_month_included'])/ 1024) * row['rub_per_gb']\n",
    "    total = 0\n",
    "    for i in [sms, mins, mbs]:\n",
    "        if i > 0:\n",
    "            total += i\n",
    "    return total"
   ]
  },
  {
   "cell_type": "code",
   "execution_count": 41,
   "id": "b2121dad-1d88-4105-8f63-ef8ca8fe9385",
   "metadata": {},
   "outputs": [],
   "source": [
    "df['cost_the_tariff'] = df.apply(lambda x: cost_the_tariff(x), axis=1)"
   ]
  },
  {
   "cell_type": "code",
   "execution_count": 42,
   "id": "5eb0cf57-2cd6-468c-9077-0d9c286a64a2",
   "metadata": {},
   "outputs": [],
   "source": [
    "df['total_paid'] = df['rub_monthly_fee'] + df['cost_the_tariff']"
   ]
  },
  {
   "cell_type": "code",
   "execution_count": 43,
   "id": "884722ba-fb54-4864-b083-16e629512911",
   "metadata": {
    "scrolled": true
   },
   "outputs": [
    {
     "data": {
      "text/html": [
       "<div>\n",
       "<style scoped>\n",
       "    .dataframe tbody tr th:only-of-type {\n",
       "        vertical-align: middle;\n",
       "    }\n",
       "\n",
       "    .dataframe tbody tr th {\n",
       "        vertical-align: top;\n",
       "    }\n",
       "\n",
       "    .dataframe thead th {\n",
       "        text-align: right;\n",
       "    }\n",
       "</style>\n",
       "<table border=\"1\" class=\"dataframe\">\n",
       "  <thead>\n",
       "    <tr style=\"text-align: right;\">\n",
       "      <th></th>\n",
       "      <th>user_id</th>\n",
       "      <th>month</th>\n",
       "      <th>month_calls_duration</th>\n",
       "      <th>calls_total_month</th>\n",
       "      <th>sms_total_month</th>\n",
       "      <th>mb_total_month</th>\n",
       "      <th>age</th>\n",
       "      <th>churn_date</th>\n",
       "      <th>city</th>\n",
       "      <th>first_name</th>\n",
       "      <th>...</th>\n",
       "      <th>tariff</th>\n",
       "      <th>messages_included</th>\n",
       "      <th>mb_per_month_included</th>\n",
       "      <th>minutes_included</th>\n",
       "      <th>rub_monthly_fee</th>\n",
       "      <th>rub_per_gb</th>\n",
       "      <th>rub_per_message</th>\n",
       "      <th>rub_per_minute</th>\n",
       "      <th>cost_the_tariff</th>\n",
       "      <th>total_paid</th>\n",
       "    </tr>\n",
       "  </thead>\n",
       "  <tbody>\n",
       "    <tr>\n",
       "      <th>0</th>\n",
       "      <td>1000</td>\n",
       "      <td>5</td>\n",
       "      <td>159.0</td>\n",
       "      <td>22.0</td>\n",
       "      <td>22.0</td>\n",
       "      <td>2253.49</td>\n",
       "      <td>52</td>\n",
       "      <td>NaT</td>\n",
       "      <td>Краснодар</td>\n",
       "      <td>Рафаил</td>\n",
       "      <td>...</td>\n",
       "      <td>ultra</td>\n",
       "      <td>1000</td>\n",
       "      <td>30720</td>\n",
       "      <td>3000</td>\n",
       "      <td>1950</td>\n",
       "      <td>150</td>\n",
       "      <td>1</td>\n",
       "      <td>1</td>\n",
       "      <td>0.0</td>\n",
       "      <td>1950.0</td>\n",
       "    </tr>\n",
       "    <tr>\n",
       "      <th>1</th>\n",
       "      <td>1000</td>\n",
       "      <td>6</td>\n",
       "      <td>172.0</td>\n",
       "      <td>43.0</td>\n",
       "      <td>60.0</td>\n",
       "      <td>23233.77</td>\n",
       "      <td>52</td>\n",
       "      <td>NaT</td>\n",
       "      <td>Краснодар</td>\n",
       "      <td>Рафаил</td>\n",
       "      <td>...</td>\n",
       "      <td>ultra</td>\n",
       "      <td>1000</td>\n",
       "      <td>30720</td>\n",
       "      <td>3000</td>\n",
       "      <td>1950</td>\n",
       "      <td>150</td>\n",
       "      <td>1</td>\n",
       "      <td>1</td>\n",
       "      <td>0.0</td>\n",
       "      <td>1950.0</td>\n",
       "    </tr>\n",
       "    <tr>\n",
       "      <th>2</th>\n",
       "      <td>1000</td>\n",
       "      <td>7</td>\n",
       "      <td>340.0</td>\n",
       "      <td>47.0</td>\n",
       "      <td>75.0</td>\n",
       "      <td>14003.64</td>\n",
       "      <td>52</td>\n",
       "      <td>NaT</td>\n",
       "      <td>Краснодар</td>\n",
       "      <td>Рафаил</td>\n",
       "      <td>...</td>\n",
       "      <td>ultra</td>\n",
       "      <td>1000</td>\n",
       "      <td>30720</td>\n",
       "      <td>3000</td>\n",
       "      <td>1950</td>\n",
       "      <td>150</td>\n",
       "      <td>1</td>\n",
       "      <td>1</td>\n",
       "      <td>0.0</td>\n",
       "      <td>1950.0</td>\n",
       "    </tr>\n",
       "    <tr>\n",
       "      <th>3</th>\n",
       "      <td>1000</td>\n",
       "      <td>8</td>\n",
       "      <td>408.0</td>\n",
       "      <td>52.0</td>\n",
       "      <td>81.0</td>\n",
       "      <td>14055.93</td>\n",
       "      <td>52</td>\n",
       "      <td>NaT</td>\n",
       "      <td>Краснодар</td>\n",
       "      <td>Рафаил</td>\n",
       "      <td>...</td>\n",
       "      <td>ultra</td>\n",
       "      <td>1000</td>\n",
       "      <td>30720</td>\n",
       "      <td>3000</td>\n",
       "      <td>1950</td>\n",
       "      <td>150</td>\n",
       "      <td>1</td>\n",
       "      <td>1</td>\n",
       "      <td>0.0</td>\n",
       "      <td>1950.0</td>\n",
       "    </tr>\n",
       "    <tr>\n",
       "      <th>4</th>\n",
       "      <td>1000</td>\n",
       "      <td>9</td>\n",
       "      <td>466.0</td>\n",
       "      <td>58.0</td>\n",
       "      <td>57.0</td>\n",
       "      <td>14568.91</td>\n",
       "      <td>52</td>\n",
       "      <td>NaT</td>\n",
       "      <td>Краснодар</td>\n",
       "      <td>Рафаил</td>\n",
       "      <td>...</td>\n",
       "      <td>ultra</td>\n",
       "      <td>1000</td>\n",
       "      <td>30720</td>\n",
       "      <td>3000</td>\n",
       "      <td>1950</td>\n",
       "      <td>150</td>\n",
       "      <td>1</td>\n",
       "      <td>1</td>\n",
       "      <td>0.0</td>\n",
       "      <td>1950.0</td>\n",
       "    </tr>\n",
       "    <tr>\n",
       "      <th>...</th>\n",
       "      <td>...</td>\n",
       "      <td>...</td>\n",
       "      <td>...</td>\n",
       "      <td>...</td>\n",
       "      <td>...</td>\n",
       "      <td>...</td>\n",
       "      <td>...</td>\n",
       "      <td>...</td>\n",
       "      <td>...</td>\n",
       "      <td>...</td>\n",
       "      <td>...</td>\n",
       "      <td>...</td>\n",
       "      <td>...</td>\n",
       "      <td>...</td>\n",
       "      <td>...</td>\n",
       "      <td>...</td>\n",
       "      <td>...</td>\n",
       "      <td>...</td>\n",
       "      <td>...</td>\n",
       "      <td>...</td>\n",
       "      <td>...</td>\n",
       "    </tr>\n",
       "    <tr>\n",
       "      <th>3209</th>\n",
       "      <td>1489</td>\n",
       "      <td>9</td>\n",
       "      <td>0.0</td>\n",
       "      <td>0.0</td>\n",
       "      <td>32.0</td>\n",
       "      <td>17206.30</td>\n",
       "      <td>35</td>\n",
       "      <td>NaT</td>\n",
       "      <td>Санкт-Петербург</td>\n",
       "      <td>Павел</td>\n",
       "      <td>...</td>\n",
       "      <td>smart</td>\n",
       "      <td>50</td>\n",
       "      <td>15360</td>\n",
       "      <td>500</td>\n",
       "      <td>550</td>\n",
       "      <td>200</td>\n",
       "      <td>3</td>\n",
       "      <td>3</td>\n",
       "      <td>400.0</td>\n",
       "      <td>950.0</td>\n",
       "    </tr>\n",
       "    <tr>\n",
       "      <th>3210</th>\n",
       "      <td>1489</td>\n",
       "      <td>10</td>\n",
       "      <td>0.0</td>\n",
       "      <td>0.0</td>\n",
       "      <td>21.0</td>\n",
       "      <td>19559.44</td>\n",
       "      <td>35</td>\n",
       "      <td>NaT</td>\n",
       "      <td>Санкт-Петербург</td>\n",
       "      <td>Павел</td>\n",
       "      <td>...</td>\n",
       "      <td>smart</td>\n",
       "      <td>50</td>\n",
       "      <td>15360</td>\n",
       "      <td>500</td>\n",
       "      <td>550</td>\n",
       "      <td>200</td>\n",
       "      <td>3</td>\n",
       "      <td>3</td>\n",
       "      <td>1000.0</td>\n",
       "      <td>1550.0</td>\n",
       "    </tr>\n",
       "    <tr>\n",
       "      <th>3211</th>\n",
       "      <td>1489</td>\n",
       "      <td>11</td>\n",
       "      <td>0.0</td>\n",
       "      <td>0.0</td>\n",
       "      <td>20.0</td>\n",
       "      <td>17491.56</td>\n",
       "      <td>35</td>\n",
       "      <td>NaT</td>\n",
       "      <td>Санкт-Петербург</td>\n",
       "      <td>Павел</td>\n",
       "      <td>...</td>\n",
       "      <td>smart</td>\n",
       "      <td>50</td>\n",
       "      <td>15360</td>\n",
       "      <td>500</td>\n",
       "      <td>550</td>\n",
       "      <td>200</td>\n",
       "      <td>3</td>\n",
       "      <td>3</td>\n",
       "      <td>600.0</td>\n",
       "      <td>1150.0</td>\n",
       "    </tr>\n",
       "    <tr>\n",
       "      <th>3212</th>\n",
       "      <td>1489</td>\n",
       "      <td>12</td>\n",
       "      <td>0.0</td>\n",
       "      <td>0.0</td>\n",
       "      <td>35.0</td>\n",
       "      <td>17322.51</td>\n",
       "      <td>35</td>\n",
       "      <td>NaT</td>\n",
       "      <td>Санкт-Петербург</td>\n",
       "      <td>Павел</td>\n",
       "      <td>...</td>\n",
       "      <td>smart</td>\n",
       "      <td>50</td>\n",
       "      <td>15360</td>\n",
       "      <td>500</td>\n",
       "      <td>550</td>\n",
       "      <td>200</td>\n",
       "      <td>3</td>\n",
       "      <td>3</td>\n",
       "      <td>400.0</td>\n",
       "      <td>950.0</td>\n",
       "    </tr>\n",
       "    <tr>\n",
       "      <th>3213</th>\n",
       "      <td>1476</td>\n",
       "      <td>4</td>\n",
       "      <td>0.0</td>\n",
       "      <td>0.0</td>\n",
       "      <td>0.0</td>\n",
       "      <td>530.78</td>\n",
       "      <td>50</td>\n",
       "      <td>NaT</td>\n",
       "      <td>Москва</td>\n",
       "      <td>Валентина</td>\n",
       "      <td>...</td>\n",
       "      <td>ultra</td>\n",
       "      <td>1000</td>\n",
       "      <td>30720</td>\n",
       "      <td>3000</td>\n",
       "      <td>1950</td>\n",
       "      <td>150</td>\n",
       "      <td>1</td>\n",
       "      <td>1</td>\n",
       "      <td>0.0</td>\n",
       "      <td>1950.0</td>\n",
       "    </tr>\n",
       "  </tbody>\n",
       "</table>\n",
       "<p>3214 rows × 22 columns</p>\n",
       "</div>"
      ],
      "text/plain": [
       "      user_id  month  month_calls_duration  calls_total_month  \\\n",
       "0        1000      5                 159.0               22.0   \n",
       "1        1000      6                 172.0               43.0   \n",
       "2        1000      7                 340.0               47.0   \n",
       "3        1000      8                 408.0               52.0   \n",
       "4        1000      9                 466.0               58.0   \n",
       "...       ...    ...                   ...                ...   \n",
       "3209     1489      9                   0.0                0.0   \n",
       "3210     1489     10                   0.0                0.0   \n",
       "3211     1489     11                   0.0                0.0   \n",
       "3212     1489     12                   0.0                0.0   \n",
       "3213     1476      4                   0.0                0.0   \n",
       "\n",
       "      sms_total_month  mb_total_month  age churn_date             city  \\\n",
       "0                22.0         2253.49   52        NaT        Краснодар   \n",
       "1                60.0        23233.77   52        NaT        Краснодар   \n",
       "2                75.0        14003.64   52        NaT        Краснодар   \n",
       "3                81.0        14055.93   52        NaT        Краснодар   \n",
       "4                57.0        14568.91   52        NaT        Краснодар   \n",
       "...               ...             ...  ...        ...              ...   \n",
       "3209             32.0        17206.30   35        NaT  Санкт-Петербург   \n",
       "3210             21.0        19559.44   35        NaT  Санкт-Петербург   \n",
       "3211             20.0        17491.56   35        NaT  Санкт-Петербург   \n",
       "3212             35.0        17322.51   35        NaT  Санкт-Петербург   \n",
       "3213              0.0          530.78   50        NaT           Москва   \n",
       "\n",
       "     first_name  ... tariff messages_included mb_per_month_included  \\\n",
       "0        Рафаил  ...  ultra              1000                 30720   \n",
       "1        Рафаил  ...  ultra              1000                 30720   \n",
       "2        Рафаил  ...  ultra              1000                 30720   \n",
       "3        Рафаил  ...  ultra              1000                 30720   \n",
       "4        Рафаил  ...  ultra              1000                 30720   \n",
       "...         ...  ...    ...               ...                   ...   \n",
       "3209      Павел  ...  smart                50                 15360   \n",
       "3210      Павел  ...  smart                50                 15360   \n",
       "3211      Павел  ...  smart                50                 15360   \n",
       "3212      Павел  ...  smart                50                 15360   \n",
       "3213  Валентина  ...  ultra              1000                 30720   \n",
       "\n",
       "      minutes_included  rub_monthly_fee  rub_per_gb  rub_per_message  \\\n",
       "0                 3000             1950         150                1   \n",
       "1                 3000             1950         150                1   \n",
       "2                 3000             1950         150                1   \n",
       "3                 3000             1950         150                1   \n",
       "4                 3000             1950         150                1   \n",
       "...                ...              ...         ...              ...   \n",
       "3209               500              550         200                3   \n",
       "3210               500              550         200                3   \n",
       "3211               500              550         200                3   \n",
       "3212               500              550         200                3   \n",
       "3213              3000             1950         150                1   \n",
       "\n",
       "      rub_per_minute  cost_the_tariff  total_paid  \n",
       "0                  1              0.0      1950.0  \n",
       "1                  1              0.0      1950.0  \n",
       "2                  1              0.0      1950.0  \n",
       "3                  1              0.0      1950.0  \n",
       "4                  1              0.0      1950.0  \n",
       "...              ...              ...         ...  \n",
       "3209               3            400.0       950.0  \n",
       "3210               3           1000.0      1550.0  \n",
       "3211               3            600.0      1150.0  \n",
       "3212               3            400.0       950.0  \n",
       "3213               1              0.0      1950.0  \n",
       "\n",
       "[3214 rows x 22 columns]"
      ]
     },
     "execution_count": 43,
     "metadata": {},
     "output_type": "execute_result"
    }
   ],
   "source": [
    "df"
   ]
  },
  {
   "cell_type": "markdown",
   "id": "60655cb1",
   "metadata": {},
   "source": [
    "Есть клиенты которые не пользуются смс или интернет трафиком или звонками, возможно есть смысл предложить тарифы с учетом этих особенностей."
   ]
  },
  {
   "cell_type": "markdown",
   "id": "e6f9e551-55ae-4eb2-8916-9486caad52d4",
   "metadata": {
    "tags": []
   },
   "source": [
    "## Шаг 3. Проанализируйте данные\n",
    "Опишите поведение клиентов оператора, исходя из выборки. Сколько минут разговора, сколько сообщений и какой объём интернет-трафика требуется пользователям каждого тарифа в месяц? Посчитайте среднее количество, дисперсию и стандартное отклонение. Постройте гистограммы. Опишите распределения."
   ]
  },
  {
   "cell_type": "code",
   "execution_count": 44,
   "id": "54583bcf-fe2d-4ce4-9774-5a19215b4e63",
   "metadata": {},
   "outputs": [
    {
     "data": {
      "image/png": "[encoded data removed]",
      "text/plain": [
       "<Figure size 432x288 with 1 Axes>"
      ]
     },
     "metadata": {
      "needs_background": "light"
     },
     "output_type": "display_data"
    }
   ],
   "source": [
    "fig, ax = plt.subplots()\n",
    "\n",
    "df[df['tariff'] == 'ultra']['month_calls_duration'].plot(kind='hist', bins=10,title='Ультра - звонки в минутах в месяц',ylabel='Количество звонков')\n",
    "df[df['tariff'] == 'smart']['month_calls_duration'].plot(kind='hist', bins=10,title='Смарт - звонки в минутах в месяц',ylabel='Количество звонков',alpha=0.7)\n",
    "\n",
    "ax.set_xlabel('Кол-во Звонков')\n",
    "ax.set_ylabel('Кол-во Клиентов')\n",
    "plt.show()\n"
   ]
  },
  {
   "cell_type": "code",
   "execution_count": 45,
   "id": "4ca1d89a-3fb8-4ba9-8689-748320d783e2",
   "metadata": {
    "scrolled": true
   },
   "outputs": [],
   "source": [
    "#df[df['tariff'] == 'smart']['month_calls_duration'].plot(kind='hist', bins=10,title='Смарт - звонки в минутах в месяц',range=(0,1750))\n",
    "#plt.show()"
   ]
  },
  {
   "cell_type": "code",
   "execution_count": 46,
   "id": "501e1a70-127f-4bc0-b719-372962e8a71d",
   "metadata": {
    "tags": []
   },
   "outputs": [
    {
     "data": {
      "text/html": [
       "<div>\n",
       "<style scoped>\n",
       "    .dataframe tbody tr th:only-of-type {\n",
       "        vertical-align: middle;\n",
       "    }\n",
       "\n",
       "    .dataframe tbody tr th {\n",
       "        vertical-align: top;\n",
       "    }\n",
       "\n",
       "    .dataframe thead tr th {\n",
       "        text-align: left;\n",
       "    }\n",
       "\n",
       "    .dataframe thead tr:last-of-type th {\n",
       "        text-align: right;\n",
       "    }\n",
       "</style>\n",
       "<table border=\"1\" class=\"dataframe\">\n",
       "  <thead>\n",
       "    <tr>\n",
       "      <th></th>\n",
       "      <th colspan=\"4\" halign=\"left\">month_calls_duration</th>\n",
       "    </tr>\n",
       "    <tr>\n",
       "      <th></th>\n",
       "      <th>median</th>\n",
       "      <th>mean</th>\n",
       "      <th>var</th>\n",
       "      <th>std</th>\n",
       "    </tr>\n",
       "    <tr>\n",
       "      <th>tariff</th>\n",
       "      <th></th>\n",
       "      <th></th>\n",
       "      <th></th>\n",
       "      <th></th>\n",
       "    </tr>\n",
       "  </thead>\n",
       "  <tbody>\n",
       "    <tr>\n",
       "      <th>smart</th>\n",
       "      <td>422.0</td>\n",
       "      <td>417.934948</td>\n",
       "      <td>36219.315784</td>\n",
       "      <td>190.313730</td>\n",
       "    </tr>\n",
       "    <tr>\n",
       "      <th>ultra</th>\n",
       "      <td>518.0</td>\n",
       "      <td>526.623350</td>\n",
       "      <td>100873.633397</td>\n",
       "      <td>317.606098</td>\n",
       "    </tr>\n",
       "  </tbody>\n",
       "</table>\n",
       "</div>"
      ],
      "text/plain": [
       "       month_calls_duration                                       \n",
       "                     median        mean            var         std\n",
       "tariff                                                            \n",
       "smart                 422.0  417.934948   36219.315784  190.313730\n",
       "ultra                 518.0  526.623350  100873.633397  317.606098"
      ]
     },
     "execution_count": 46,
     "metadata": {},
     "output_type": "execute_result"
    }
   ],
   "source": [
    "df.groupby('tariff').agg({'month_calls_duration':['median','mean','var','std']})"
   ]
  },
  {
   "cell_type": "markdown",
   "id": "dcde1017-b43b-46e5-a0b9-1acf83193725",
   "metadata": {},
   "source": [
    "В среднем пользователи тарифа Смарт выговаривают 420 минут в месяц и у них остается еще 80 минут не израсходованных, пользователи тарифа Ультра выговаривают в среднем 530 минут в месяц и у них остается 2470 минут в месяц. Средняя и медиана находятся рядом."
   ]
  },
  {
   "cell_type": "code",
   "execution_count": 47,
   "id": "a2df9a78-d345-467e-a1e1-d35ad94051d1",
   "metadata": {},
   "outputs": [
    {
     "data": {
      "image/png": "[encoded data removed]",
      "text/plain": [
       "<Figure size 432x288 with 1 Axes>"
      ]
     },
     "metadata": {
      "needs_background": "light"
     },
     "output_type": "display_data"
    }
   ],
   "source": [
    "fig, ax = plt.subplots()\n",
    "\n",
    "\n",
    "df[df['tariff'] == 'ultra']['sms_total_month'].plot(kind='hist', bins=10,title='Ультра - смс в месяц')\n",
    "df[df['tariff'] == 'smart']['sms_total_month'].plot(kind='hist', bins=10,title='Смарт - смс в месяц',alpha=0.7)\n",
    "\n",
    "ax.set_xlabel('Кол-во смс')\n",
    "ax.set_ylabel('Кол-во клиентов')\n",
    "plt.show()"
   ]
  },
  {
   "cell_type": "code",
   "execution_count": 48,
   "id": "3bfa028b-b09a-4449-956d-429274876dc1",
   "metadata": {},
   "outputs": [],
   "source": [
    "#df[df['tariff'] == 'smart']['sms_total_month'].plot(kind='hist', bins=10,title='Смарт - смс в месяц')"
   ]
  },
  {
   "cell_type": "code",
   "execution_count": 49,
   "id": "834ec338-9029-4517-a545-72ef59ce73cd",
   "metadata": {},
   "outputs": [
    {
     "data": {
      "text/html": [
       "<div>\n",
       "<style scoped>\n",
       "    .dataframe tbody tr th:only-of-type {\n",
       "        vertical-align: middle;\n",
       "    }\n",
       "\n",
       "    .dataframe tbody tr th {\n",
       "        vertical-align: top;\n",
       "    }\n",
       "\n",
       "    .dataframe thead tr th {\n",
       "        text-align: left;\n",
       "    }\n",
       "\n",
       "    .dataframe thead tr:last-of-type th {\n",
       "        text-align: right;\n",
       "    }\n",
       "</style>\n",
       "<table border=\"1\" class=\"dataframe\">\n",
       "  <thead>\n",
       "    <tr>\n",
       "      <th></th>\n",
       "      <th colspan=\"4\" halign=\"left\">sms_total_month</th>\n",
       "    </tr>\n",
       "    <tr>\n",
       "      <th></th>\n",
       "      <th>median</th>\n",
       "      <th>mean</th>\n",
       "      <th>var</th>\n",
       "      <th>std</th>\n",
       "    </tr>\n",
       "    <tr>\n",
       "      <th>tariff</th>\n",
       "      <th></th>\n",
       "      <th></th>\n",
       "      <th></th>\n",
       "      <th></th>\n",
       "    </tr>\n",
       "  </thead>\n",
       "  <tbody>\n",
       "    <tr>\n",
       "      <th>smart</th>\n",
       "      <td>28.0</td>\n",
       "      <td>33.384029</td>\n",
       "      <td>796.812958</td>\n",
       "      <td>28.227876</td>\n",
       "    </tr>\n",
       "    <tr>\n",
       "      <th>ultra</th>\n",
       "      <td>38.0</td>\n",
       "      <td>49.363452</td>\n",
       "      <td>2285.266143</td>\n",
       "      <td>47.804457</td>\n",
       "    </tr>\n",
       "  </tbody>\n",
       "</table>\n",
       "</div>"
      ],
      "text/plain": [
       "       sms_total_month                                   \n",
       "                median       mean          var        std\n",
       "tariff                                                   \n",
       "smart             28.0  33.384029   796.812958  28.227876\n",
       "ultra             38.0  49.363452  2285.266143  47.804457"
      ]
     },
     "execution_count": 49,
     "metadata": {},
     "output_type": "execute_result"
    }
   ],
   "source": [
    "df.groupby('tariff').agg({'sms_total_month':['median','mean','var','std']})"
   ]
  },
  {
   "cell_type": "markdown",
   "id": "da6db87d-6d99-46d2-b295-0135b9019a19",
   "metadata": {},
   "source": [
    "Смс не полюзуется спросом, оно и понятно век смс прошел)"
   ]
  },
  {
   "cell_type": "code",
   "execution_count": 50,
   "id": "687f2800",
   "metadata": {
    "scrolled": true
   },
   "outputs": [
    {
     "name": "stdout",
     "output_type": "stream",
     "text": [
      "0.253028263795424\n"
     ]
    }
   ],
   "source": [
    "df_sms_smart = df[df['tariff'] == 'smart']\n",
    "print(df_sms_smart[df_sms_smart['sms_total_month']>50]['user_id'].count()/df_sms_smart['user_id'].count())"
   ]
  },
  {
   "cell_type": "markdown",
   "id": "f4efa291",
   "metadata": {},
   "source": [
    "25% клиентов смарт не вкладываются в 50 смс в месяц)"
   ]
  },
  {
   "cell_type": "code",
   "execution_count": 51,
   "id": "afface3a-c941-4704-af2f-2169d375028d",
   "metadata": {},
   "outputs": [
    {
     "data": {
      "image/png": "[encoded data removed]",
      "text/plain": [
       "<Figure size 432x288 with 1 Axes>"
      ]
     },
     "metadata": {
      "needs_background": "light"
     },
     "output_type": "display_data"
    }
   ],
   "source": [
    "fig, ax = plt.subplots()\n",
    "\n",
    "df[df['tariff'] == 'ultra']['mb_total_month'].plot(kind='hist', bins=10,title='Ультра - Мб трафика в месяц')\n",
    "df[df['tariff'] == 'smart']['mb_total_month'].plot(kind='hist', bins=10,title='Смарт - Мб трафика в месяц',alpha=0.7)\n",
    "\n",
    "ax.set_xlabel('Кол-во Мб')\n",
    "ax.set_ylabel('Кол-во клиентов')\n",
    "plt.show()"
   ]
  },
  {
   "cell_type": "code",
   "execution_count": 52,
   "id": "788bc0da-b5e2-4e42-8755-78835e66b3c1",
   "metadata": {},
   "outputs": [],
   "source": [
    "#df[df['tariff'] == 'smart']['mb_total_month'].plot(kind='hist', bins=10,title='Смарт - Мб трафика в месяц')"
   ]
  },
  {
   "cell_type": "code",
   "execution_count": 53,
   "id": "af3303f9-0763-4b9b-971f-ff4f780c1112",
   "metadata": {},
   "outputs": [
    {
     "data": {
      "text/html": [
       "<div>\n",
       "<style scoped>\n",
       "    .dataframe tbody tr th:only-of-type {\n",
       "        vertical-align: middle;\n",
       "    }\n",
       "\n",
       "    .dataframe tbody tr th {\n",
       "        vertical-align: top;\n",
       "    }\n",
       "\n",
       "    .dataframe thead tr th {\n",
       "        text-align: left;\n",
       "    }\n",
       "\n",
       "    .dataframe thead tr:last-of-type th {\n",
       "        text-align: right;\n",
       "    }\n",
       "</style>\n",
       "<table border=\"1\" class=\"dataframe\">\n",
       "  <thead>\n",
       "    <tr>\n",
       "      <th></th>\n",
       "      <th colspan=\"4\" halign=\"left\">mb_total_month</th>\n",
       "    </tr>\n",
       "    <tr>\n",
       "      <th></th>\n",
       "      <th>median</th>\n",
       "      <th>mean</th>\n",
       "      <th>var</th>\n",
       "      <th>std</th>\n",
       "    </tr>\n",
       "    <tr>\n",
       "      <th>tariff</th>\n",
       "      <th></th>\n",
       "      <th></th>\n",
       "      <th></th>\n",
       "      <th></th>\n",
       "    </tr>\n",
       "  </thead>\n",
       "  <tbody>\n",
       "    <tr>\n",
       "      <th>smart</th>\n",
       "      <td>16506.84</td>\n",
       "      <td>16208.386990</td>\n",
       "      <td>3.446250e+07</td>\n",
       "      <td>5870.476681</td>\n",
       "    </tr>\n",
       "    <tr>\n",
       "      <th>ultra</th>\n",
       "      <td>19308.01</td>\n",
       "      <td>19468.805208</td>\n",
       "      <td>1.017510e+08</td>\n",
       "      <td>10087.170752</td>\n",
       "    </tr>\n",
       "  </tbody>\n",
       "</table>\n",
       "</div>"
      ],
      "text/plain": [
       "       mb_total_month                                          \n",
       "               median          mean           var           std\n",
       "tariff                                                         \n",
       "smart        16506.84  16208.386990  3.446250e+07   5870.476681\n",
       "ultra        19308.01  19468.805208  1.017510e+08  10087.170752"
      ]
     },
     "execution_count": 53,
     "metadata": {},
     "output_type": "execute_result"
    }
   ],
   "source": [
    "df.groupby('tariff').agg({'mb_total_month':['median','mean','var','std']})"
   ]
  },
  {
   "cell_type": "markdown",
   "id": "b69fdfee-ae6f-4098-838e-e3bdba6d63e6",
   "metadata": {},
   "source": [
    "Клиенты тарифа смарт в среднем немного вылезают за пределы включенных Гб трафика, клиенты тарифа Ультра наоборот имеют в среднем запас в 10 Гб. Так же в среднем клиенты тарифа смарт потребляют больше интернет траффика."
   ]
  },
  {
   "cell_type": "code",
   "execution_count": 54,
   "id": "9b00fa45",
   "metadata": {},
   "outputs": [
    {
     "data": {
      "image/png": "[encoded data removed]",
      "text/plain": [
       "<Figure size 432x288 with 1 Axes>"
      ]
     },
     "metadata": {
      "needs_background": "light"
     },
     "output_type": "display_data"
    }
   ],
   "source": [
    "fig, ax = plt.subplots()\n",
    "\n",
    "df[df['tariff'] == 'ultra']['total_paid'].plot(kind='hist', bins=10,title='Ультра - звонки в минутах в месяц',ylabel='Количество звонков')\n",
    "df[df['tariff'] == 'smart']['total_paid'].plot(kind='hist', bins=10,title='Смарт - звонки в минутах в месяц',ylabel='Количество звонков',alpha=0.7)\n",
    "\n",
    "ax.set_xlabel('Выручка')\n",
    "ax.set_ylabel('Кол-во Клиентов')\n",
    "plt.show()\n"
   ]
  },
  {
   "cell_type": "code",
   "execution_count": 55,
   "id": "f452e6e1",
   "metadata": {},
   "outputs": [
    {
     "data": {
      "text/html": [
       "<div>\n",
       "<style scoped>\n",
       "    .dataframe tbody tr th:only-of-type {\n",
       "        vertical-align: middle;\n",
       "    }\n",
       "\n",
       "    .dataframe tbody tr th {\n",
       "        vertical-align: top;\n",
       "    }\n",
       "\n",
       "    .dataframe thead tr th {\n",
       "        text-align: left;\n",
       "    }\n",
       "\n",
       "    .dataframe thead tr:last-of-type th {\n",
       "        text-align: right;\n",
       "    }\n",
       "</style>\n",
       "<table border=\"1\" class=\"dataframe\">\n",
       "  <thead>\n",
       "    <tr>\n",
       "      <th></th>\n",
       "      <th colspan=\"6\" halign=\"left\">total_paid</th>\n",
       "    </tr>\n",
       "    <tr>\n",
       "      <th></th>\n",
       "      <th>median</th>\n",
       "      <th>mean</th>\n",
       "      <th>var</th>\n",
       "      <th>std</th>\n",
       "      <th>sum</th>\n",
       "      <th>count</th>\n",
       "    </tr>\n",
       "    <tr>\n",
       "      <th>tariff</th>\n",
       "      <th></th>\n",
       "      <th></th>\n",
       "      <th></th>\n",
       "      <th></th>\n",
       "      <th></th>\n",
       "      <th></th>\n",
       "    </tr>\n",
       "  </thead>\n",
       "  <tbody>\n",
       "    <tr>\n",
       "      <th>smart</th>\n",
       "      <td>1023.0</td>\n",
       "      <td>1289.973531</td>\n",
       "      <td>669785.708006</td>\n",
       "      <td>818.404367</td>\n",
       "      <td>2875351.0</td>\n",
       "      <td>2229</td>\n",
       "    </tr>\n",
       "    <tr>\n",
       "      <th>ultra</th>\n",
       "      <td>1950.0</td>\n",
       "      <td>2070.152284</td>\n",
       "      <td>141516.745079</td>\n",
       "      <td>376.187114</td>\n",
       "      <td>2039100.0</td>\n",
       "      <td>985</td>\n",
       "    </tr>\n",
       "  </tbody>\n",
       "</table>\n",
       "</div>"
      ],
      "text/plain": [
       "       total_paid                                                         \n",
       "           median         mean            var         std        sum count\n",
       "tariff                                                                    \n",
       "smart      1023.0  1289.973531  669785.708006  818.404367  2875351.0  2229\n",
       "ultra      1950.0  2070.152284  141516.745079  376.187114  2039100.0   985"
      ]
     },
     "execution_count": 55,
     "metadata": {},
     "output_type": "execute_result"
    }
   ],
   "source": [
    "df.groupby('tariff').agg({'total_paid':['median','mean','var','std','sum','count']})"
   ]
  },
  {
   "cell_type": "markdown",
   "id": "675b9cd4",
   "metadata": {},
   "source": [
    "Каждый пользователь тарифа смарт приносит в среднем в 2 раза меньше выручки чем пользователь тарифа ультра, но так как пользователей тарифа смарт больше в данной выборке, то они приносят в сумме больше выручки чем пользователи тарифа ультра."
   ]
  },
  {
   "cell_type": "markdown",
   "id": "3c586eb2-3883-4d9e-8e62-d880eaed7b46",
   "metadata": {},
   "source": [
    "## Шаг 4. Проверьте гипотезы\n",
    "средняя выручка пользователей тарифов «Ультра» и «Смарт» различаются;\\\n",
    "средняя выручка пользователей из Москвы отличается от выручки пользователей из других регионов.\\\n",
    "Пороговое значение alpha задайте самостоятельно.\\\n",
    "Поясните:\\\n",
    "как вы формулировали нулевую и альтернативную гипотезы;\\\n",
    "какой критерий использовали для проверки гипотез и почему.\\"
   ]
  },
  {
   "cell_type": "code",
   "execution_count": 56,
   "id": "ea240823-64a3-4a0e-9cf1-005f63b3a229",
   "metadata": {},
   "outputs": [],
   "source": [
    "def delete_outliers(df, column):\n",
    "    q1 = df[column].quantile(0.25)                 \n",
    "    q3 = df[column].quantile(0.75)\n",
    "    iqr = q3 - q1\n",
    "    iqr_test = (df[column] >= (q1 - 1.5 * iqr)) & (df[column] <= (q3 + 1.5 * iqr))\n",
    "    return df.loc[iqr_test]"
   ]
  },
  {
   "cell_type": "markdown",
   "id": "94bdbe8e-1533-4c46-b4c9-313ba046c161",
   "metadata": {},
   "source": [
    "Используем t-критерий Стьюдента, потому что выборки не зависимы\n",
    "### Проверка гипотезы:\n",
    "средняя выручка пользователей тарифов «Ультра» и «Смарт» различаются\\\n",
    "H0: выручка пользователей тарифов «Ультра» и «Смарт» не различается\\\n",
    "H1: выручка пользователей тарифов «Ультра» и «Смарт» различается"
   ]
  },
  {
   "cell_type": "code",
   "execution_count": 57,
   "id": "cc6fb26a-01aa-4215-ba57-93706d6277e7",
   "metadata": {
    "tags": []
   },
   "outputs": [],
   "source": [
    "ultra = df[df['tariff'] == 'ultra']\n",
    "smart = df[df['tariff'] == 'smart']"
   ]
  },
  {
   "cell_type": "code",
   "execution_count": 58,
   "id": "3ba9c5a8-3c0c-4444-93cb-c7aa287b30da",
   "metadata": {},
   "outputs": [],
   "source": [
    "ultra = delete_outliers(ultra, 'total_paid')\n",
    "ultra = ultra['total_paid']"
   ]
  },
  {
   "cell_type": "code",
   "execution_count": 59,
   "id": "2d1ec992-1829-4a9c-86fa-04f321ac53b8",
   "metadata": {},
   "outputs": [],
   "source": [
    "smart = delete_outliers(smart, 'total_paid')\n",
    "smart = smart['total_paid']"
   ]
  },
  {
   "cell_type": "code",
   "execution_count": 60,
   "id": "7b60d5a2-b18e-45df-93ca-fa20e79e9e1f",
   "metadata": {},
   "outputs": [],
   "source": [
    "alpha = 0.05"
   ]
  },
  {
   "cell_type": "code",
   "execution_count": 61,
   "id": "83c38fa2-45a3-4f82-bcec-19d06705db58",
   "metadata": {
    "tags": []
   },
   "outputs": [],
   "source": [
    "results = st.ttest_ind(ultra, smart)"
   ]
  },
  {
   "cell_type": "code",
   "execution_count": 62,
   "id": "1d316a7e-8cbf-4f8e-bfc6-ae25b554408e",
   "metadata": {
    "tags": []
   },
   "outputs": [
    {
     "data": {
      "text/plain": [
       "1246.1583257506825"
      ]
     },
     "execution_count": 62,
     "metadata": {},
     "output_type": "execute_result"
    }
   ],
   "source": [
    "smart.mean()"
   ]
  },
  {
   "cell_type": "code",
   "execution_count": 63,
   "id": "37b89d3d-b8e3-4346-8756-43c2dd7785b6",
   "metadata": {},
   "outputs": [
    {
     "data": {
      "text/plain": [
       "1950.0"
      ]
     },
     "execution_count": 63,
     "metadata": {},
     "output_type": "execute_result"
    }
   ],
   "source": [
    "ultra.mean()"
   ]
  },
  {
   "cell_type": "code",
   "execution_count": 64,
   "id": "acd717e1-417b-4b30-9278-e8f4b0bd5148",
   "metadata": {},
   "outputs": [
    {
     "name": "stdout",
     "output_type": "stream",
     "text": [
      "p-значение: 6.199325734910118e-155\n",
      "Отвергаем нулевую гипотезу\n"
     ]
    }
   ],
   "source": [
    "print('p-значение:', results.pvalue)\n",
    "\n",
    "if (results.pvalue < alpha):\n",
    "    print(\"Отвергаем нулевую гипотезу\")\n",
    "else:\n",
    "    print(\"Не получилось отвергнуть нулевую гипотезу\")"
   ]
  },
  {
   "cell_type": "markdown",
   "id": "e385f173-9f7d-4dda-9b3e-6b7a448063a0",
   "metadata": {},
   "source": [
    "Разница между выручкой пользователей тарифа Смарт и Ультра не случайна, присутствуют значимые различия"
   ]
  },
  {
   "cell_type": "markdown",
   "id": "d84520d9-9feb-4661-8d1c-fffba70c3674",
   "metadata": {},
   "source": [
    "### Проверка гипотезы: \n",
    "средняя выручка пользователей из Москвы отличается от выручки пользователей из других регионов.\\\n",
    "H0: средняя выручка пользователей из Москвы не отличается от выручки пользователей из других регионов\\\n",
    "H1: средняя выручка пользователей из Москвы отличается от выручки пользователей из других регионов"
   ]
  },
  {
   "cell_type": "code",
   "execution_count": 65,
   "id": "4d99c9bb-d12c-4c0a-92f4-92d65e05e85a",
   "metadata": {},
   "outputs": [],
   "source": [
    "df['region'] = np.where(df['city'] == 'Москва', 'Москва', 'Регионы')"
   ]
  },
  {
   "cell_type": "code",
   "execution_count": 66,
   "id": "5993b9b9-6b34-437f-a5f6-f853e0f545f7",
   "metadata": {},
   "outputs": [],
   "source": [
    "moscow = df[df['region'] == 'Москва']\n",
    "province = df[df['region'] == 'Регионы']"
   ]
  },
  {
   "cell_type": "code",
   "execution_count": 67,
   "id": "22ad4a29-30e7-47ce-aa2e-19a33780c108",
   "metadata": {},
   "outputs": [],
   "source": [
    "moscow = delete_outliers(moscow, 'total_paid')\n",
    "moscow = moscow['total_paid']"
   ]
  },
  {
   "cell_type": "code",
   "execution_count": 68,
   "id": "3cd28a17-77ec-49de-8d71-3ef7300eb370",
   "metadata": {},
   "outputs": [],
   "source": [
    "province = delete_outliers(province, 'total_paid')\n",
    "province = province['total_paid']"
   ]
  },
  {
   "cell_type": "code",
   "execution_count": 69,
   "id": "3fb50944-0742-49ce-9b0c-5aca544c195d",
   "metadata": {},
   "outputs": [],
   "source": [
    "results = st.ttest_ind(moscow, province)"
   ]
  },
  {
   "cell_type": "code",
   "execution_count": 70,
   "id": "15d0f934-17c5-49af-a8ea-09a2df348787",
   "metadata": {},
   "outputs": [
    {
     "data": {
      "text/plain": [
       "1524.595709570957"
      ]
     },
     "execution_count": 70,
     "metadata": {},
     "output_type": "execute_result"
    }
   ],
   "source": [
    "moscow.mean()"
   ]
  },
  {
   "cell_type": "code",
   "execution_count": 71,
   "id": "5f943761-9b7f-4cf5-8e5c-87671ea2ba27",
   "metadata": {},
   "outputs": [
    {
     "data": {
      "text/plain": [
       "1489.6695178849145"
      ]
     },
     "execution_count": 71,
     "metadata": {},
     "output_type": "execute_result"
    }
   ],
   "source": [
    "province.mean()"
   ]
  },
  {
   "cell_type": "code",
   "execution_count": 72,
   "id": "d376db11-27ae-4da1-bd25-e2deb6f9aafb",
   "metadata": {},
   "outputs": [
    {
     "name": "stdout",
     "output_type": "stream",
     "text": [
      "p-значение: 0.29404256281786195\n",
      "Не получилось отвергнуть нулевую гипотезу\n"
     ]
    }
   ],
   "source": [
    "print('p-значение:', results.pvalue)\n",
    "\n",
    "if (results.pvalue < alpha):\n",
    "    print(\"Отвергаем нулевую гипотезу\")\n",
    "else:\n",
    "    print(\"Не получилось отвергнуть нулевую гипотезу\")"
   ]
  },
  {
   "cell_type": "markdown",
   "id": "4ef42999-ad62-434b-8f7f-31f78fb53843",
   "metadata": {},
   "source": [
    "Вероятность получить такой результат равен 30%. Значимы различий нет."
   ]
  },
  {
   "cell_type": "markdown",
   "id": "150d7f0b-c2dc-4607-8905-dfdbd6376084",
   "metadata": {},
   "source": [
    "## Шаг 5. Напишите общий вывод"
   ]
  },
  {
   "cell_type": "markdown",
   "id": "b70d44b0-923d-4649-8a79-d4073005937c",
   "metadata": {},
   "source": [
    "Клиенты разных тарифов ведут себя по разному.\\\n",
    "В среднем тариф Ультра париносит больше хотя пользователи этого тарифа и ретко выходят за рамки предоплаченных услуг.\\\n",
    "Пользователи тарифа Смарт плятят меньше, но чаще уходят за рамки предоплаченных услуг и клиентов тарифа в целом больше.\\\n",
    "Для оператора выгоднее иметь максимум пользователей на тарифе смарт."
   ]
  },
  {
   "cell_type": "code",
   "execution_count": null,
   "id": "74c0b711",
   "metadata": {},
   "outputs": [],
   "source": []
  }
 ],
 "metadata": {
  "ExecuteTimeLog": [
   {
    "duration": 1346,
    "start_time": "2022-04-22T22:05:52.183Z"
   },
   {
    "duration": 207,
    "start_time": "2022-04-22T22:05:53.532Z"
   },
   {
    "duration": 0,
    "start_time": "2022-04-22T22:05:53.742Z"
   },
   {
    "duration": 0,
    "start_time": "2022-04-22T22:05:53.743Z"
   },
   {
    "duration": 0,
    "start_time": "2022-04-22T22:05:53.744Z"
   },
   {
    "duration": 0,
    "start_time": "2022-04-22T22:05:53.745Z"
   },
   {
    "duration": 0,
    "start_time": "2022-04-22T22:05:53.745Z"
   },
   {
    "duration": 0,
    "start_time": "2022-04-22T22:05:53.746Z"
   },
   {
    "duration": 0,
    "start_time": "2022-04-22T22:05:53.747Z"
   },
   {
    "duration": 0,
    "start_time": "2022-04-22T22:05:53.748Z"
   },
   {
    "duration": 0,
    "start_time": "2022-04-22T22:05:53.749Z"
   },
   {
    "duration": 0,
    "start_time": "2022-04-22T22:05:53.749Z"
   },
   {
    "duration": 0,
    "start_time": "2022-04-22T22:05:53.750Z"
   },
   {
    "duration": 0,
    "start_time": "2022-04-22T22:05:53.751Z"
   },
   {
    "duration": 0,
    "start_time": "2022-04-22T22:05:53.752Z"
   },
   {
    "duration": 0,
    "start_time": "2022-04-22T22:05:53.753Z"
   },
   {
    "duration": 0,
    "start_time": "2022-04-22T22:05:53.754Z"
   },
   {
    "duration": 0,
    "start_time": "2022-04-22T22:05:53.755Z"
   },
   {
    "duration": 0,
    "start_time": "2022-04-22T22:05:53.756Z"
   },
   {
    "duration": 0,
    "start_time": "2022-04-22T22:05:53.757Z"
   },
   {
    "duration": 1,
    "start_time": "2022-04-22T22:05:53.757Z"
   },
   {
    "duration": 0,
    "start_time": "2022-04-22T22:05:53.758Z"
   },
   {
    "duration": 0,
    "start_time": "2022-04-22T22:05:53.759Z"
   },
   {
    "duration": 0,
    "start_time": "2022-04-22T22:05:53.760Z"
   },
   {
    "duration": 0,
    "start_time": "2022-04-22T22:05:53.761Z"
   },
   {
    "duration": 0,
    "start_time": "2022-04-22T22:05:53.762Z"
   },
   {
    "duration": 0,
    "start_time": "2022-04-22T22:05:53.763Z"
   },
   {
    "duration": 0,
    "start_time": "2022-04-22T22:05:53.764Z"
   },
   {
    "duration": 0,
    "start_time": "2022-04-22T22:05:53.800Z"
   },
   {
    "duration": 0,
    "start_time": "2022-04-22T22:05:53.801Z"
   },
   {
    "duration": 0,
    "start_time": "2022-04-22T22:05:53.802Z"
   },
   {
    "duration": 0,
    "start_time": "2022-04-22T22:05:53.803Z"
   },
   {
    "duration": 0,
    "start_time": "2022-04-22T22:05:53.804Z"
   },
   {
    "duration": 0,
    "start_time": "2022-04-22T22:05:53.805Z"
   },
   {
    "duration": 0,
    "start_time": "2022-04-22T22:05:53.806Z"
   },
   {
    "duration": 0,
    "start_time": "2022-04-22T22:05:53.807Z"
   },
   {
    "duration": 0,
    "start_time": "2022-04-22T22:05:53.808Z"
   },
   {
    "duration": 0,
    "start_time": "2022-04-22T22:05:53.809Z"
   },
   {
    "duration": 0,
    "start_time": "2022-04-22T22:05:53.812Z"
   },
   {
    "duration": 0,
    "start_time": "2022-04-22T22:05:53.813Z"
   },
   {
    "duration": 0,
    "start_time": "2022-04-22T22:05:53.813Z"
   },
   {
    "duration": 0,
    "start_time": "2022-04-22T22:05:53.814Z"
   },
   {
    "duration": 1,
    "start_time": "2022-04-22T22:05:53.816Z"
   },
   {
    "duration": 0,
    "start_time": "2022-04-22T22:05:53.818Z"
   },
   {
    "duration": 0,
    "start_time": "2022-04-22T22:05:53.821Z"
   },
   {
    "duration": 0,
    "start_time": "2022-04-22T22:05:53.822Z"
   },
   {
    "duration": 0,
    "start_time": "2022-04-22T22:05:53.823Z"
   },
   {
    "duration": 0,
    "start_time": "2022-04-22T22:05:53.824Z"
   },
   {
    "duration": 0,
    "start_time": "2022-04-22T22:05:53.825Z"
   },
   {
    "duration": 0,
    "start_time": "2022-04-22T22:05:53.826Z"
   },
   {
    "duration": 0,
    "start_time": "2022-04-22T22:05:53.827Z"
   },
   {
    "duration": 0,
    "start_time": "2022-04-22T22:05:53.829Z"
   },
   {
    "duration": 0,
    "start_time": "2022-04-22T22:05:53.830Z"
   },
   {
    "duration": 0,
    "start_time": "2022-04-22T22:05:53.831Z"
   },
   {
    "duration": 0,
    "start_time": "2022-04-22T22:05:53.832Z"
   },
   {
    "duration": 0,
    "start_time": "2022-04-22T22:05:53.833Z"
   },
   {
    "duration": 0,
    "start_time": "2022-04-22T22:05:53.835Z"
   },
   {
    "duration": 0,
    "start_time": "2022-04-22T22:05:53.836Z"
   },
   {
    "duration": 0,
    "start_time": "2022-04-22T22:05:53.837Z"
   },
   {
    "duration": 0,
    "start_time": "2022-04-22T22:05:53.839Z"
   },
   {
    "duration": 0,
    "start_time": "2022-04-22T22:05:53.903Z"
   },
   {
    "duration": 0,
    "start_time": "2022-04-22T22:05:53.904Z"
   },
   {
    "duration": 0,
    "start_time": "2022-04-22T22:05:53.905Z"
   },
   {
    "duration": 0,
    "start_time": "2022-04-22T22:05:53.905Z"
   },
   {
    "duration": 3,
    "start_time": "2022-04-22T22:06:11.791Z"
   },
   {
    "duration": 128,
    "start_time": "2022-04-22T22:06:11.796Z"
   },
   {
    "duration": 0,
    "start_time": "2022-04-22T22:06:11.932Z"
   },
   {
    "duration": 0,
    "start_time": "2022-04-22T22:06:11.933Z"
   },
   {
    "duration": 0,
    "start_time": "2022-04-22T22:06:11.935Z"
   },
   {
    "duration": 0,
    "start_time": "2022-04-22T22:06:11.936Z"
   },
   {
    "duration": 0,
    "start_time": "2022-04-22T22:06:11.937Z"
   },
   {
    "duration": 1,
    "start_time": "2022-04-22T22:06:11.938Z"
   },
   {
    "duration": 0,
    "start_time": "2022-04-22T22:06:11.940Z"
   },
   {
    "duration": 0,
    "start_time": "2022-04-22T22:06:11.941Z"
   },
   {
    "duration": 0,
    "start_time": "2022-04-22T22:06:11.942Z"
   },
   {
    "duration": 0,
    "start_time": "2022-04-22T22:06:11.944Z"
   },
   {
    "duration": 0,
    "start_time": "2022-04-22T22:06:11.945Z"
   },
   {
    "duration": 0,
    "start_time": "2022-04-22T22:06:11.946Z"
   },
   {
    "duration": 0,
    "start_time": "2022-04-22T22:06:11.947Z"
   },
   {
    "duration": 0,
    "start_time": "2022-04-22T22:06:11.949Z"
   },
   {
    "duration": 0,
    "start_time": "2022-04-22T22:06:11.950Z"
   },
   {
    "duration": 0,
    "start_time": "2022-04-22T22:06:11.951Z"
   },
   {
    "duration": 0,
    "start_time": "2022-04-22T22:06:11.952Z"
   },
   {
    "duration": 0,
    "start_time": "2022-04-22T22:06:11.954Z"
   },
   {
    "duration": 0,
    "start_time": "2022-04-22T22:06:11.955Z"
   },
   {
    "duration": 0,
    "start_time": "2022-04-22T22:06:11.956Z"
   },
   {
    "duration": 0,
    "start_time": "2022-04-22T22:06:11.957Z"
   },
   {
    "duration": 0,
    "start_time": "2022-04-22T22:06:11.959Z"
   },
   {
    "duration": 0,
    "start_time": "2022-04-22T22:06:11.960Z"
   },
   {
    "duration": 0,
    "start_time": "2022-04-22T22:06:11.961Z"
   },
   {
    "duration": 0,
    "start_time": "2022-04-22T22:06:11.962Z"
   },
   {
    "duration": 0,
    "start_time": "2022-04-22T22:06:12.003Z"
   },
   {
    "duration": 0,
    "start_time": "2022-04-22T22:06:12.005Z"
   },
   {
    "duration": 0,
    "start_time": "2022-04-22T22:06:12.006Z"
   },
   {
    "duration": 0,
    "start_time": "2022-04-22T22:06:12.009Z"
   },
   {
    "duration": 0,
    "start_time": "2022-04-22T22:06:12.010Z"
   },
   {
    "duration": 0,
    "start_time": "2022-04-22T22:06:12.012Z"
   },
   {
    "duration": 0,
    "start_time": "2022-04-22T22:06:12.013Z"
   },
   {
    "duration": 0,
    "start_time": "2022-04-22T22:06:12.014Z"
   },
   {
    "duration": 0,
    "start_time": "2022-04-22T22:06:12.016Z"
   },
   {
    "duration": 0,
    "start_time": "2022-04-22T22:06:12.019Z"
   },
   {
    "duration": 0,
    "start_time": "2022-04-22T22:06:12.024Z"
   },
   {
    "duration": 0,
    "start_time": "2022-04-22T22:06:12.026Z"
   },
   {
    "duration": 0,
    "start_time": "2022-04-22T22:06:12.027Z"
   },
   {
    "duration": 0,
    "start_time": "2022-04-22T22:06:12.030Z"
   },
   {
    "duration": 0,
    "start_time": "2022-04-22T22:06:12.031Z"
   },
   {
    "duration": 0,
    "start_time": "2022-04-22T22:06:12.032Z"
   },
   {
    "duration": 0,
    "start_time": "2022-04-22T22:06:12.032Z"
   },
   {
    "duration": 0,
    "start_time": "2022-04-22T22:06:12.033Z"
   },
   {
    "duration": 0,
    "start_time": "2022-04-22T22:06:12.034Z"
   },
   {
    "duration": 0,
    "start_time": "2022-04-22T22:06:12.035Z"
   },
   {
    "duration": 0,
    "start_time": "2022-04-22T22:06:12.036Z"
   },
   {
    "duration": 0,
    "start_time": "2022-04-22T22:06:12.036Z"
   },
   {
    "duration": 0,
    "start_time": "2022-04-22T22:06:12.037Z"
   },
   {
    "duration": 0,
    "start_time": "2022-04-22T22:06:12.038Z"
   },
   {
    "duration": 0,
    "start_time": "2022-04-22T22:06:12.039Z"
   },
   {
    "duration": 0,
    "start_time": "2022-04-22T22:06:12.040Z"
   },
   {
    "duration": 0,
    "start_time": "2022-04-22T22:06:12.041Z"
   },
   {
    "duration": 0,
    "start_time": "2022-04-22T22:06:12.042Z"
   },
   {
    "duration": 0,
    "start_time": "2022-04-22T22:06:12.043Z"
   },
   {
    "duration": 0,
    "start_time": "2022-04-22T22:06:12.044Z"
   },
   {
    "duration": 0,
    "start_time": "2022-04-22T22:06:12.044Z"
   },
   {
    "duration": 0,
    "start_time": "2022-04-22T22:06:12.046Z"
   },
   {
    "duration": 0,
    "start_time": "2022-04-22T22:06:12.046Z"
   },
   {
    "duration": 0,
    "start_time": "2022-04-22T22:06:12.102Z"
   },
   {
    "duration": 0,
    "start_time": "2022-04-22T22:06:12.103Z"
   },
   {
    "duration": 0,
    "start_time": "2022-04-22T22:06:12.103Z"
   },
   {
    "duration": 0,
    "start_time": "2022-04-22T22:06:12.105Z"
   },
   {
    "duration": 44,
    "start_time": "2022-04-22T22:09:39.745Z"
   },
   {
    "duration": 1059,
    "start_time": "2022-04-22T22:09:46.360Z"
   },
   {
    "duration": 405,
    "start_time": "2022-04-22T22:09:47.421Z"
   },
   {
    "duration": 4,
    "start_time": "2022-04-22T22:09:47.827Z"
   },
   {
    "duration": 90,
    "start_time": "2022-04-22T22:09:47.833Z"
   },
   {
    "duration": 79,
    "start_time": "2022-04-22T22:09:47.925Z"
   },
   {
    "duration": 51,
    "start_time": "2022-04-22T22:09:48.006Z"
   },
   {
    "duration": 75,
    "start_time": "2022-04-22T22:09:48.058Z"
   },
   {
    "duration": 29,
    "start_time": "2022-04-22T22:09:48.134Z"
   },
   {
    "duration": 113,
    "start_time": "2022-04-22T22:09:48.165Z"
   },
   {
    "duration": 9,
    "start_time": "2022-04-22T22:09:48.281Z"
   },
   {
    "duration": 18,
    "start_time": "2022-04-22T22:09:48.292Z"
   },
   {
    "duration": 22,
    "start_time": "2022-04-22T22:09:48.311Z"
   },
   {
    "duration": 7,
    "start_time": "2022-04-22T22:09:48.335Z"
   },
   {
    "duration": 30,
    "start_time": "2022-04-22T22:09:48.344Z"
   },
   {
    "duration": 28,
    "start_time": "2022-04-22T22:09:48.376Z"
   },
   {
    "duration": 17,
    "start_time": "2022-04-22T22:09:48.407Z"
   },
   {
    "duration": 7,
    "start_time": "2022-04-22T22:09:48.425Z"
   },
   {
    "duration": 17,
    "start_time": "2022-04-22T22:09:48.433Z"
   },
   {
    "duration": 8,
    "start_time": "2022-04-22T22:09:48.452Z"
   },
   {
    "duration": 47,
    "start_time": "2022-04-22T22:09:48.461Z"
   },
   {
    "duration": 13,
    "start_time": "2022-04-22T22:09:48.509Z"
   },
   {
    "duration": 17,
    "start_time": "2022-04-22T22:09:48.523Z"
   },
   {
    "duration": 9,
    "start_time": "2022-04-22T22:09:48.541Z"
   },
   {
    "duration": 7,
    "start_time": "2022-04-22T22:09:48.551Z"
   },
   {
    "duration": 10,
    "start_time": "2022-04-22T22:09:48.560Z"
   },
   {
    "duration": 36,
    "start_time": "2022-04-22T22:09:48.571Z"
   },
   {
    "duration": 13,
    "start_time": "2022-04-22T22:09:48.608Z"
   },
   {
    "duration": 14,
    "start_time": "2022-04-22T22:09:48.625Z"
   },
   {
    "duration": 2,
    "start_time": "2022-04-22T22:09:48.640Z"
   },
   {
    "duration": 8,
    "start_time": "2022-04-22T22:09:48.644Z"
   },
   {
    "duration": 19,
    "start_time": "2022-04-22T22:09:48.654Z"
   },
   {
    "duration": 29,
    "start_time": "2022-04-22T22:09:48.674Z"
   },
   {
    "duration": 7,
    "start_time": "2022-04-22T22:09:48.706Z"
   },
   {
    "duration": 16,
    "start_time": "2022-04-22T22:09:48.714Z"
   },
   {
    "duration": 3,
    "start_time": "2022-04-22T22:09:48.731Z"
   },
   {
    "duration": 102,
    "start_time": "2022-04-22T22:09:48.735Z"
   },
   {
    "duration": 4,
    "start_time": "2022-04-22T22:09:48.838Z"
   },
   {
    "duration": 26,
    "start_time": "2022-04-22T22:09:48.843Z"
   },
   {
    "duration": 153,
    "start_time": "2022-04-22T22:09:48.871Z"
   },
   {
    "duration": 134,
    "start_time": "2022-04-22T22:09:49.025Z"
   },
   {
    "duration": 12,
    "start_time": "2022-04-22T22:09:49.161Z"
   },
   {
    "duration": 131,
    "start_time": "2022-04-22T22:09:49.174Z"
   },
   {
    "duration": 126,
    "start_time": "2022-04-22T22:09:49.307Z"
   },
   {
    "duration": 12,
    "start_time": "2022-04-22T22:09:49.434Z"
   },
   {
    "duration": 131,
    "start_time": "2022-04-22T22:09:49.447Z"
   },
   {
    "duration": 140,
    "start_time": "2022-04-22T22:09:49.580Z"
   },
   {
    "duration": 12,
    "start_time": "2022-04-22T22:09:49.722Z"
   },
   {
    "duration": 3,
    "start_time": "2022-04-22T22:09:49.735Z"
   },
   {
    "duration": 9,
    "start_time": "2022-04-22T22:09:49.740Z"
   },
   {
    "duration": 7,
    "start_time": "2022-04-22T22:09:49.750Z"
   },
   {
    "duration": 7,
    "start_time": "2022-04-22T22:09:49.758Z"
   },
   {
    "duration": 3,
    "start_time": "2022-04-22T22:09:49.767Z"
   },
   {
    "duration": 5,
    "start_time": "2022-04-22T22:09:49.772Z"
   },
   {
    "duration": 28,
    "start_time": "2022-04-22T22:09:49.778Z"
   },
   {
    "duration": 13,
    "start_time": "2022-04-22T22:09:49.807Z"
   },
   {
    "duration": 7,
    "start_time": "2022-04-22T22:09:49.821Z"
   },
   {
    "duration": 5,
    "start_time": "2022-04-22T22:09:49.830Z"
   },
   {
    "duration": 6,
    "start_time": "2022-04-22T22:09:49.837Z"
   },
   {
    "duration": 7,
    "start_time": "2022-04-22T22:09:49.844Z"
   },
   {
    "duration": 6,
    "start_time": "2022-04-22T22:09:49.852Z"
   },
   {
    "duration": 4,
    "start_time": "2022-04-22T22:09:49.859Z"
   },
   {
    "duration": 6,
    "start_time": "2022-04-22T22:09:49.864Z"
   },
   {
    "duration": 5,
    "start_time": "2022-04-22T22:09:49.872Z"
   },
   {
    "duration": 5,
    "start_time": "2022-04-22T22:09:49.878Z"
   },
   {
    "duration": 45,
    "start_time": "2022-04-23T05:19:12.485Z"
   },
   {
    "duration": 1277,
    "start_time": "2022-04-23T05:19:31.018Z"
   },
   {
    "duration": 362,
    "start_time": "2022-04-23T05:19:35.553Z"
   },
   {
    "duration": 137,
    "start_time": "2022-04-23T05:34:20.103Z"
   },
   {
    "duration": 163,
    "start_time": "2022-04-23T09:34:59.949Z"
   },
   {
    "duration": 188,
    "start_time": "2022-04-23T10:35:29.923Z"
   },
   {
    "duration": 141,
    "start_time": "2022-04-23T11:38:17.607Z"
   },
   {
    "duration": 1124,
    "start_time": "2022-04-25T09:10:58.701Z"
   },
   {
    "duration": 428,
    "start_time": "2022-04-25T09:10:59.826Z"
   },
   {
    "duration": 5,
    "start_time": "2022-04-25T09:11:00.256Z"
   },
   {
    "duration": 124,
    "start_time": "2022-04-25T09:11:00.263Z"
   },
   {
    "duration": 88,
    "start_time": "2022-04-25T09:11:00.389Z"
   },
   {
    "duration": 72,
    "start_time": "2022-04-25T09:11:00.479Z"
   },
   {
    "duration": 54,
    "start_time": "2022-04-25T09:11:00.552Z"
   },
   {
    "duration": 69,
    "start_time": "2022-04-25T09:11:00.608Z"
   },
   {
    "duration": 119,
    "start_time": "2022-04-25T09:11:00.679Z"
   },
   {
    "duration": 7,
    "start_time": "2022-04-25T09:11:00.801Z"
   },
   {
    "duration": 15,
    "start_time": "2022-04-25T09:11:00.809Z"
   },
   {
    "duration": 35,
    "start_time": "2022-04-25T09:11:00.826Z"
   },
   {
    "duration": 16,
    "start_time": "2022-04-25T09:11:00.863Z"
   },
   {
    "duration": 40,
    "start_time": "2022-04-25T09:11:00.883Z"
   },
   {
    "duration": 12,
    "start_time": "2022-04-25T09:11:00.925Z"
   },
   {
    "duration": 35,
    "start_time": "2022-04-25T09:11:00.939Z"
   },
   {
    "duration": 15,
    "start_time": "2022-04-25T09:11:00.976Z"
   },
   {
    "duration": 21,
    "start_time": "2022-04-25T09:11:00.993Z"
   },
   {
    "duration": 10,
    "start_time": "2022-04-25T09:11:01.016Z"
   },
   {
    "duration": 39,
    "start_time": "2022-04-25T09:11:01.028Z"
   },
   {
    "duration": 27,
    "start_time": "2022-04-25T09:11:01.069Z"
   },
   {
    "duration": 17,
    "start_time": "2022-04-25T09:11:01.098Z"
   },
   {
    "duration": 9,
    "start_time": "2022-04-25T09:11:01.117Z"
   },
   {
    "duration": 10,
    "start_time": "2022-04-25T09:11:01.128Z"
   },
   {
    "duration": 19,
    "start_time": "2022-04-25T09:11:01.139Z"
   },
   {
    "duration": 38,
    "start_time": "2022-04-25T09:11:01.160Z"
   },
   {
    "duration": 13,
    "start_time": "2022-04-25T09:11:01.199Z"
   },
   {
    "duration": 16,
    "start_time": "2022-04-25T09:11:01.216Z"
   },
   {
    "duration": 2,
    "start_time": "2022-04-25T09:11:01.234Z"
   },
   {
    "duration": 17,
    "start_time": "2022-04-25T09:11:01.238Z"
   },
   {
    "duration": 56,
    "start_time": "2022-04-25T09:11:01.257Z"
   },
   {
    "duration": 8,
    "start_time": "2022-04-25T09:11:01.315Z"
   },
   {
    "duration": 9,
    "start_time": "2022-04-25T09:11:01.325Z"
   },
   {
    "duration": 27,
    "start_time": "2022-04-25T09:11:01.335Z"
   },
   {
    "duration": 36,
    "start_time": "2022-04-25T09:11:01.364Z"
   },
   {
    "duration": 111,
    "start_time": "2022-04-25T09:11:01.401Z"
   },
   {
    "duration": 5,
    "start_time": "2022-04-25T09:11:01.514Z"
   },
   {
    "duration": 41,
    "start_time": "2022-04-25T09:11:01.521Z"
   },
   {
    "duration": 171,
    "start_time": "2022-04-25T09:11:01.564Z"
   },
   {
    "duration": 182,
    "start_time": "2022-04-25T09:11:01.736Z"
   },
   {
    "duration": 13,
    "start_time": "2022-04-25T09:11:01.920Z"
   },
   {
    "duration": 159,
    "start_time": "2022-04-25T09:11:01.934Z"
   },
   {
    "duration": 148,
    "start_time": "2022-04-25T09:11:02.095Z"
   },
   {
    "duration": 19,
    "start_time": "2022-04-25T09:11:02.245Z"
   },
   {
    "duration": 167,
    "start_time": "2022-04-25T09:11:02.267Z"
   },
   {
    "duration": 162,
    "start_time": "2022-04-25T09:11:02.435Z"
   },
   {
    "duration": 12,
    "start_time": "2022-04-25T09:11:02.599Z"
   },
   {
    "duration": 3,
    "start_time": "2022-04-25T09:11:02.613Z"
   },
   {
    "duration": 7,
    "start_time": "2022-04-25T09:11:02.617Z"
   },
   {
    "duration": 27,
    "start_time": "2022-04-25T09:11:02.625Z"
   },
   {
    "duration": 10,
    "start_time": "2022-04-25T09:11:02.654Z"
   },
   {
    "duration": 26,
    "start_time": "2022-04-25T09:11:02.665Z"
   },
   {
    "duration": 6,
    "start_time": "2022-04-25T09:11:02.693Z"
   },
   {
    "duration": 6,
    "start_time": "2022-04-25T09:11:02.700Z"
   },
   {
    "duration": 6,
    "start_time": "2022-04-25T09:11:02.708Z"
   },
   {
    "duration": 4,
    "start_time": "2022-04-25T09:11:02.716Z"
   },
   {
    "duration": 5,
    "start_time": "2022-04-25T09:11:02.722Z"
   },
   {
    "duration": 6,
    "start_time": "2022-04-25T09:11:02.729Z"
   },
   {
    "duration": 30,
    "start_time": "2022-04-25T09:11:02.737Z"
   },
   {
    "duration": 25,
    "start_time": "2022-04-25T09:11:02.769Z"
   },
   {
    "duration": 5,
    "start_time": "2022-04-25T09:11:02.795Z"
   },
   {
    "duration": 5,
    "start_time": "2022-04-25T09:11:02.802Z"
   },
   {
    "duration": 5,
    "start_time": "2022-04-25T09:11:02.809Z"
   },
   {
    "duration": 4,
    "start_time": "2022-04-25T09:11:02.816Z"
   },
   {
    "duration": 355,
    "start_time": "2022-04-25T09:11:22.826Z"
   },
   {
    "duration": 14,
    "start_time": "2022-04-25T09:11:59.892Z"
   },
   {
    "duration": 48,
    "start_time": "2022-04-25T09:12:32.990Z"
   },
   {
    "duration": 48,
    "start_time": "2022-04-25T09:12:48.841Z"
   },
   {
    "duration": 4,
    "start_time": "2022-04-25T09:54:05.490Z"
   },
   {
    "duration": 174,
    "start_time": "2022-04-26T08:34:20.326Z"
   },
   {
    "duration": 1346,
    "start_time": "2022-04-26T11:57:21.097Z"
   },
   {
    "duration": 383,
    "start_time": "2022-04-26T11:57:22.449Z"
   },
   {
    "duration": 113,
    "start_time": "2022-04-26T11:57:50.683Z"
   },
   {
    "duration": 3,
    "start_time": "2022-04-26T11:58:07.125Z"
   },
   {
    "duration": 373,
    "start_time": "2022-04-26T11:58:08.661Z"
   },
   {
    "duration": 3,
    "start_time": "2022-04-26T11:59:18.489Z"
   },
   {
    "duration": 3,
    "start_time": "2022-04-26T12:00:23.746Z"
   },
   {
    "duration": 398,
    "start_time": "2022-04-26T12:31:37.907Z"
   },
   {
    "duration": 22,
    "start_time": "2022-04-26T12:32:10.675Z"
   },
   {
    "duration": 476,
    "start_time": "2022-04-26T12:33:00.587Z"
   },
   {
    "duration": 17,
    "start_time": "2022-04-26T12:33:03.765Z"
   },
   {
    "duration": 281,
    "start_time": "2022-04-26T12:33:30.281Z"
   },
   {
    "duration": 3,
    "start_time": "2022-04-26T12:33:36.959Z"
   },
   {
    "duration": 109,
    "start_time": "2022-04-26T12:34:06.800Z"
   },
   {
    "duration": 101,
    "start_time": "2022-04-26T12:34:07.855Z"
   },
   {
    "duration": 4,
    "start_time": "2022-04-26T12:34:30.653Z"
   },
   {
    "duration": 103,
    "start_time": "2022-04-26T12:34:31.603Z"
   },
   {
    "duration": 5,
    "start_time": "2022-04-26T12:35:41.400Z"
   },
   {
    "duration": 112,
    "start_time": "2022-04-26T12:35:45.898Z"
   },
   {
    "duration": 4,
    "start_time": "2022-04-26T12:36:48.333Z"
   },
   {
    "duration": 87,
    "start_time": "2022-04-26T12:36:49.613Z"
   },
   {
    "duration": 69,
    "start_time": "2022-04-26T12:36:52.801Z"
   },
   {
    "duration": 62,
    "start_time": "2022-04-26T12:36:54.397Z"
   },
   {
    "duration": 46,
    "start_time": "2022-04-26T12:36:55.396Z"
   },
   {
    "duration": 51,
    "start_time": "2022-04-26T12:36:56.553Z"
   },
   {
    "duration": 48,
    "start_time": "2022-04-26T12:37:21.909Z"
   },
   {
    "duration": 7,
    "start_time": "2022-04-26T12:37:47.087Z"
   },
   {
    "duration": 80,
    "start_time": "2022-04-26T12:37:47.574Z"
   },
   {
    "duration": 82,
    "start_time": "2022-04-26T12:37:48.845Z"
   },
   {
    "duration": 60,
    "start_time": "2022-04-26T12:37:49.261Z"
   },
   {
    "duration": 50,
    "start_time": "2022-04-26T12:37:49.733Z"
   },
   {
    "duration": 34,
    "start_time": "2022-04-26T12:37:50.196Z"
   },
   {
    "duration": 114,
    "start_time": "2022-04-26T12:47:56.918Z"
   },
   {
    "duration": 1845,
    "start_time": "2022-04-26T12:55:07.309Z"
   },
   {
    "duration": 29,
    "start_time": "2022-04-26T12:55:27.213Z"
   },
   {
    "duration": 26,
    "start_time": "2022-04-26T12:56:01.118Z"
   },
   {
    "duration": 3,
    "start_time": "2022-04-26T12:56:19.520Z"
   },
   {
    "duration": 395,
    "start_time": "2022-04-26T12:56:20.192Z"
   },
   {
    "duration": 4,
    "start_time": "2022-04-26T12:56:21.048Z"
   },
   {
    "duration": 88,
    "start_time": "2022-04-26T12:56:21.257Z"
   },
   {
    "duration": 86,
    "start_time": "2022-04-26T12:56:24.556Z"
   },
   {
    "duration": 48,
    "start_time": "2022-04-26T12:56:25.475Z"
   },
   {
    "duration": 45,
    "start_time": "2022-04-26T12:56:26.513Z"
   },
   {
    "duration": 33,
    "start_time": "2022-04-26T12:56:27.420Z"
   },
   {
    "duration": 84,
    "start_time": "2022-04-26T12:56:30.761Z"
   },
   {
    "duration": 17,
    "start_time": "2022-04-26T12:56:37.888Z"
   },
   {
    "duration": 26,
    "start_time": "2022-04-26T12:57:11.950Z"
   },
   {
    "duration": 3,
    "start_time": "2022-04-26T12:57:26.298Z"
   },
   {
    "duration": 409,
    "start_time": "2022-04-26T12:57:26.303Z"
   },
   {
    "duration": 5,
    "start_time": "2022-04-26T12:57:26.714Z"
   },
   {
    "duration": 102,
    "start_time": "2022-04-26T12:57:26.721Z"
   },
   {
    "duration": 86,
    "start_time": "2022-04-26T12:57:26.824Z"
   },
   {
    "duration": 75,
    "start_time": "2022-04-26T12:57:26.912Z"
   },
   {
    "duration": 41,
    "start_time": "2022-04-26T12:57:26.988Z"
   },
   {
    "duration": 66,
    "start_time": "2022-04-26T12:57:27.030Z"
   },
   {
    "duration": 92,
    "start_time": "2022-04-26T12:57:41.686Z"
   },
   {
    "duration": 7,
    "start_time": "2022-04-26T12:57:41.781Z"
   },
   {
    "duration": 16,
    "start_time": "2022-04-26T12:57:41.790Z"
   },
   {
    "duration": 313,
    "start_time": "2022-04-26T12:57:41.808Z"
   },
   {
    "duration": 41,
    "start_time": "2022-04-26T12:57:42.123Z"
   },
   {
    "duration": 8,
    "start_time": "2022-04-26T12:57:42.166Z"
   },
   {
    "duration": 27,
    "start_time": "2022-04-26T12:57:42.176Z"
   },
   {
    "duration": 9,
    "start_time": "2022-04-26T12:57:42.205Z"
   },
   {
    "duration": 41,
    "start_time": "2022-04-26T12:57:42.216Z"
   },
   {
    "duration": 13,
    "start_time": "2022-04-26T12:57:42.272Z"
   },
   {
    "duration": 17,
    "start_time": "2022-04-26T12:57:42.286Z"
   },
   {
    "duration": 8,
    "start_time": "2022-04-26T12:57:42.304Z"
   },
   {
    "duration": 19,
    "start_time": "2022-04-26T12:57:42.314Z"
   },
   {
    "duration": 38,
    "start_time": "2022-04-26T12:57:42.335Z"
   },
   {
    "duration": 18,
    "start_time": "2022-04-26T12:57:42.375Z"
   },
   {
    "duration": 14,
    "start_time": "2022-04-26T12:57:42.395Z"
   },
   {
    "duration": 14,
    "start_time": "2022-04-26T12:57:42.411Z"
   },
   {
    "duration": 11,
    "start_time": "2022-04-26T12:57:42.426Z"
   },
   {
    "duration": 41,
    "start_time": "2022-04-26T12:57:42.438Z"
   },
   {
    "duration": 13,
    "start_time": "2022-04-26T12:57:42.482Z"
   },
   {
    "duration": 11,
    "start_time": "2022-04-26T12:57:42.497Z"
   },
   {
    "duration": 14,
    "start_time": "2022-04-26T12:57:42.510Z"
   },
   {
    "duration": 49,
    "start_time": "2022-04-26T12:57:42.526Z"
   },
   {
    "duration": 3,
    "start_time": "2022-04-26T12:57:42.578Z"
   },
   {
    "duration": 15,
    "start_time": "2022-04-26T12:57:42.583Z"
   },
   {
    "duration": 27,
    "start_time": "2022-04-26T12:57:42.600Z"
   },
   {
    "duration": 9,
    "start_time": "2022-04-26T12:57:42.629Z"
   },
   {
    "duration": 8,
    "start_time": "2022-04-26T12:57:42.672Z"
   },
   {
    "duration": 12,
    "start_time": "2022-04-26T12:57:42.681Z"
   },
   {
    "duration": 6,
    "start_time": "2022-04-26T12:57:42.695Z"
   },
   {
    "duration": 117,
    "start_time": "2022-04-26T12:57:42.703Z"
   },
   {
    "duration": 4,
    "start_time": "2022-04-26T12:57:42.822Z"
   },
   {
    "duration": 35,
    "start_time": "2022-04-26T12:57:42.828Z"
   },
   {
    "duration": 178,
    "start_time": "2022-04-26T12:57:42.865Z"
   },
   {
    "duration": 157,
    "start_time": "2022-04-26T12:57:43.045Z"
   },
   {
    "duration": 15,
    "start_time": "2022-04-26T12:57:43.204Z"
   },
   {
    "duration": 155,
    "start_time": "2022-04-26T12:57:43.221Z"
   },
   {
    "duration": 158,
    "start_time": "2022-04-26T12:57:43.378Z"
   },
   {
    "duration": 16,
    "start_time": "2022-04-26T12:57:43.538Z"
   },
   {
    "duration": 166,
    "start_time": "2022-04-26T12:57:43.555Z"
   },
   {
    "duration": 238,
    "start_time": "2022-04-26T12:57:43.723Z"
   },
   {
    "duration": 20,
    "start_time": "2022-04-26T12:57:43.963Z"
   },
   {
    "duration": 3,
    "start_time": "2022-04-26T12:57:43.985Z"
   },
   {
    "duration": 10,
    "start_time": "2022-04-26T12:57:43.990Z"
   },
   {
    "duration": 10,
    "start_time": "2022-04-26T12:57:44.001Z"
   },
   {
    "duration": 8,
    "start_time": "2022-04-26T12:57:44.013Z"
   },
   {
    "duration": 6,
    "start_time": "2022-04-26T12:57:44.024Z"
   },
   {
    "duration": 9,
    "start_time": "2022-04-26T12:57:44.032Z"
   },
   {
    "duration": 12,
    "start_time": "2022-04-26T12:57:44.043Z"
   },
   {
    "duration": 19,
    "start_time": "2022-04-26T12:57:44.057Z"
   },
   {
    "duration": 6,
    "start_time": "2022-04-26T12:57:44.078Z"
   },
   {
    "duration": 6,
    "start_time": "2022-04-26T12:57:44.086Z"
   },
   {
    "duration": 10,
    "start_time": "2022-04-26T12:57:44.093Z"
   },
   {
    "duration": 9,
    "start_time": "2022-04-26T12:57:44.104Z"
   },
   {
    "duration": 11,
    "start_time": "2022-04-26T12:57:44.115Z"
   },
   {
    "duration": 7,
    "start_time": "2022-04-26T12:57:44.127Z"
   },
   {
    "duration": 8,
    "start_time": "2022-04-26T12:57:44.135Z"
   },
   {
    "duration": 29,
    "start_time": "2022-04-26T12:57:44.145Z"
   },
   {
    "duration": 4,
    "start_time": "2022-04-26T12:57:44.176Z"
   },
   {
    "duration": 4,
    "start_time": "2022-04-26T12:57:56.600Z"
   },
   {
    "duration": 399,
    "start_time": "2022-04-26T12:57:56.606Z"
   },
   {
    "duration": 4,
    "start_time": "2022-04-26T12:57:57.007Z"
   },
   {
    "duration": 94,
    "start_time": "2022-04-26T12:57:57.013Z"
   },
   {
    "duration": 93,
    "start_time": "2022-04-26T12:57:57.110Z"
   },
   {
    "duration": 86,
    "start_time": "2022-04-26T12:57:57.205Z"
   },
   {
    "duration": 81,
    "start_time": "2022-04-26T12:57:57.293Z"
   },
   {
    "duration": 40,
    "start_time": "2022-04-26T12:57:57.376Z"
   },
   {
    "duration": 134,
    "start_time": "2022-04-26T12:57:57.418Z"
   },
   {
    "duration": 114,
    "start_time": "2022-04-26T12:58:39.611Z"
   },
   {
    "duration": 6,
    "start_time": "2022-04-26T12:58:53.409Z"
   },
   {
    "duration": 13,
    "start_time": "2022-04-26T12:58:53.894Z"
   },
   {
    "duration": 308,
    "start_time": "2022-04-26T12:59:48.968Z"
   },
   {
    "duration": 39,
    "start_time": "2022-04-26T13:00:03.997Z"
   },
   {
    "duration": 4,
    "start_time": "2022-04-26T13:09:36.397Z"
   },
   {
    "duration": 7,
    "start_time": "2022-04-26T13:09:50.745Z"
   },
   {
    "duration": 4,
    "start_time": "2022-04-26T13:10:04.262Z"
   },
   {
    "duration": 18,
    "start_time": "2022-04-26T13:11:01.629Z"
   },
   {
    "duration": 300,
    "start_time": "2022-04-26T13:11:56.790Z"
   },
   {
    "duration": 111,
    "start_time": "2022-04-26T13:11:58.099Z"
   },
   {
    "duration": 340,
    "start_time": "2022-04-26T13:13:46.705Z"
   },
   {
    "duration": 120,
    "start_time": "2022-04-26T13:13:47.264Z"
   },
   {
    "duration": 30,
    "start_time": "2022-04-26T13:13:52.222Z"
   },
   {
    "duration": 5298,
    "start_time": "2022-04-26T13:13:54.130Z"
   },
   {
    "duration": 29,
    "start_time": "2022-04-26T13:14:13.084Z"
   },
   {
    "duration": 290,
    "start_time": "2022-04-26T13:14:20.283Z"
   },
   {
    "duration": 5,
    "start_time": "2022-04-26T13:14:21.545Z"
   },
   {
    "duration": 45,
    "start_time": "2022-04-26T13:14:23.679Z"
   },
   {
    "duration": 277,
    "start_time": "2022-04-26T13:14:42.989Z"
   },
   {
    "duration": 13,
    "start_time": "2022-04-26T13:14:52.504Z"
   },
   {
    "duration": 5,
    "start_time": "2022-04-26T13:15:43.308Z"
   },
   {
    "duration": 20,
    "start_time": "2022-04-26T13:15:43.851Z"
   },
   {
    "duration": 254,
    "start_time": "2022-04-26T13:15:55.463Z"
   },
   {
    "duration": 6,
    "start_time": "2022-04-26T13:15:55.935Z"
   },
   {
    "duration": 41,
    "start_time": "2022-04-26T13:15:56.455Z"
   },
   {
    "duration": 3,
    "start_time": "2022-04-26T13:16:09.055Z"
   },
   {
    "duration": 478,
    "start_time": "2022-04-26T13:16:09.061Z"
   },
   {
    "duration": 4,
    "start_time": "2022-04-26T13:16:09.541Z"
   },
   {
    "duration": 102,
    "start_time": "2022-04-26T13:16:09.547Z"
   },
   {
    "duration": 127,
    "start_time": "2022-04-26T13:16:09.652Z"
   },
   {
    "duration": 58,
    "start_time": "2022-04-26T13:16:09.782Z"
   },
   {
    "duration": 79,
    "start_time": "2022-04-26T13:16:09.842Z"
   },
   {
    "duration": 71,
    "start_time": "2022-04-26T13:16:09.923Z"
   },
   {
    "duration": 111,
    "start_time": "2022-04-26T13:16:09.995Z"
   },
   {
    "duration": 19,
    "start_time": "2022-04-26T13:16:10.108Z"
   },
   {
    "duration": 4,
    "start_time": "2022-04-26T13:16:10.131Z"
   },
   {
    "duration": 14,
    "start_time": "2022-04-26T13:16:10.137Z"
   },
   {
    "duration": 305,
    "start_time": "2022-04-26T13:16:10.153Z"
   },
   {
    "duration": 4,
    "start_time": "2022-04-26T13:16:10.460Z"
   },
   {
    "duration": 53,
    "start_time": "2022-04-26T13:16:10.475Z"
   },
   {
    "duration": 5,
    "start_time": "2022-04-26T13:16:39.894Z"
   },
   {
    "duration": 13,
    "start_time": "2022-04-26T13:21:29.404Z"
   },
   {
    "duration": 15,
    "start_time": "2022-04-26T13:21:41.562Z"
   },
   {
    "duration": 15,
    "start_time": "2022-04-26T13:22:02.466Z"
   },
   {
    "duration": 13,
    "start_time": "2022-04-26T13:22:07.270Z"
   },
   {
    "duration": 11,
    "start_time": "2022-04-26T13:23:14.661Z"
   },
   {
    "duration": 5,
    "start_time": "2022-04-26T13:23:21.286Z"
   },
   {
    "duration": 15,
    "start_time": "2022-04-26T13:23:22.714Z"
   },
   {
    "duration": 25,
    "start_time": "2022-04-26T13:23:32.582Z"
   },
   {
    "duration": 144,
    "start_time": "2022-04-26T13:26:39.418Z"
   },
   {
    "duration": 150,
    "start_time": "2022-04-26T13:26:45.906Z"
   },
   {
    "duration": 162,
    "start_time": "2022-04-26T13:27:38.922Z"
   },
   {
    "duration": 165,
    "start_time": "2022-04-26T13:27:57.321Z"
   },
   {
    "duration": 167,
    "start_time": "2022-04-26T13:28:19.277Z"
   },
   {
    "duration": 172,
    "start_time": "2022-04-26T13:28:26.029Z"
   },
   {
    "duration": 165,
    "start_time": "2022-04-26T13:28:42.905Z"
   },
   {
    "duration": 3,
    "start_time": "2022-04-26T13:28:57.180Z"
   },
   {
    "duration": 246,
    "start_time": "2022-04-26T13:32:35.559Z"
   },
   {
    "duration": 157,
    "start_time": "2022-04-26T13:33:37.080Z"
   },
   {
    "duration": 159,
    "start_time": "2022-04-26T13:33:48.160Z"
   },
   {
    "duration": 172,
    "start_time": "2022-04-26T13:33:56.731Z"
   },
   {
    "duration": 160,
    "start_time": "2022-04-26T13:34:00.328Z"
   },
   {
    "duration": 143,
    "start_time": "2022-04-26T13:34:49.503Z"
   },
   {
    "duration": 143,
    "start_time": "2022-04-26T13:34:57.751Z"
   },
   {
    "duration": 150,
    "start_time": "2022-04-26T13:36:41.037Z"
   },
   {
    "duration": 152,
    "start_time": "2022-04-26T13:37:09.705Z"
   },
   {
    "duration": 242,
    "start_time": "2022-04-26T13:37:22.317Z"
   },
   {
    "duration": 362,
    "start_time": "2022-04-26T13:37:31.921Z"
   },
   {
    "duration": 107,
    "start_time": "2022-04-26T13:37:49.467Z"
   },
   {
    "duration": 168,
    "start_time": "2022-04-26T13:38:12.575Z"
   },
   {
    "duration": 160,
    "start_time": "2022-04-26T13:38:24.964Z"
   },
   {
    "duration": 150,
    "start_time": "2022-04-26T13:38:58.463Z"
   },
   {
    "duration": 167,
    "start_time": "2022-04-26T13:39:28.622Z"
   },
   {
    "duration": 168,
    "start_time": "2022-04-26T13:39:37.011Z"
   },
   {
    "duration": 171,
    "start_time": "2022-04-26T13:40:18.550Z"
   },
   {
    "duration": 3,
    "start_time": "2022-04-26T13:42:35.864Z"
   },
   {
    "duration": 11,
    "start_time": "2022-04-26T13:46:08.463Z"
   },
   {
    "duration": 4,
    "start_time": "2022-04-26T13:46:19.468Z"
   },
   {
    "duration": 10,
    "start_time": "2022-04-26T13:46:52.840Z"
   },
   {
    "duration": 10,
    "start_time": "2022-04-26T13:47:07.843Z"
   },
   {
    "duration": 105,
    "start_time": "2022-04-26T13:47:16.482Z"
   },
   {
    "duration": 9,
    "start_time": "2022-04-26T13:47:45.423Z"
   },
   {
    "duration": 10,
    "start_time": "2022-04-26T13:47:55.510Z"
   },
   {
    "duration": 10,
    "start_time": "2022-04-26T13:48:04.298Z"
   },
   {
    "duration": 4,
    "start_time": "2022-04-26T13:48:18.350Z"
   },
   {
    "duration": 11,
    "start_time": "2022-04-26T13:48:34.498Z"
   },
   {
    "duration": 6,
    "start_time": "2022-04-26T13:48:45.810Z"
   },
   {
    "duration": 30,
    "start_time": "2022-04-26T13:48:57.234Z"
   },
   {
    "duration": 8,
    "start_time": "2022-04-26T13:49:27.550Z"
   },
   {
    "duration": 9,
    "start_time": "2022-04-26T13:49:39.517Z"
   },
   {
    "duration": 10,
    "start_time": "2022-04-26T13:49:48.316Z"
   },
   {
    "duration": 8,
    "start_time": "2022-04-26T13:50:02.645Z"
   },
   {
    "duration": 8,
    "start_time": "2022-04-26T13:50:13.020Z"
   },
   {
    "duration": 7,
    "start_time": "2022-04-26T13:50:19.677Z"
   },
   {
    "duration": 7,
    "start_time": "2022-04-26T13:50:23.932Z"
   },
   {
    "duration": 8,
    "start_time": "2022-04-26T13:50:32.024Z"
   },
   {
    "duration": 7,
    "start_time": "2022-04-26T13:50:40.536Z"
   },
   {
    "duration": 11,
    "start_time": "2022-04-26T13:50:57.419Z"
   },
   {
    "duration": 175,
    "start_time": "2022-04-26T13:52:01.464Z"
   },
   {
    "duration": 155,
    "start_time": "2022-04-26T13:52:19.119Z"
   },
   {
    "duration": 8,
    "start_time": "2022-04-26T13:53:48.001Z"
   },
   {
    "duration": 110,
    "start_time": "2022-04-26T13:54:12.905Z"
   },
   {
    "duration": 10,
    "start_time": "2022-04-26T13:54:17.170Z"
   },
   {
    "duration": 9,
    "start_time": "2022-04-26T13:58:10.006Z"
   },
   {
    "duration": 23,
    "start_time": "2022-04-26T13:58:32.133Z"
   },
   {
    "duration": 17,
    "start_time": "2022-04-26T13:58:34.735Z"
   },
   {
    "duration": 9,
    "start_time": "2022-04-26T13:58:47.809Z"
   },
   {
    "duration": 9,
    "start_time": "2022-04-26T13:59:26.338Z"
   },
   {
    "duration": 7,
    "start_time": "2022-04-26T13:59:54.668Z"
   },
   {
    "duration": 180,
    "start_time": "2022-04-26T14:00:43.232Z"
   },
   {
    "duration": 293,
    "start_time": "2022-04-26T14:00:52.457Z"
   },
   {
    "duration": 179,
    "start_time": "2022-04-26T14:01:09.944Z"
   },
   {
    "duration": 171,
    "start_time": "2022-04-26T14:01:19.747Z"
   },
   {
    "duration": 3,
    "start_time": "2022-04-26T14:01:23.287Z"
   },
   {
    "duration": 15,
    "start_time": "2022-04-26T14:01:24.795Z"
   },
   {
    "duration": 19,
    "start_time": "2022-04-26T14:01:56.580Z"
   },
   {
    "duration": 15,
    "start_time": "2022-04-26T14:02:20.794Z"
   },
   {
    "duration": 19,
    "start_time": "2022-04-26T14:21:37.591Z"
   },
   {
    "duration": 179,
    "start_time": "2022-04-26T14:22:10.014Z"
   },
   {
    "duration": 16,
    "start_time": "2022-04-26T14:22:43.542Z"
   },
   {
    "duration": 15,
    "start_time": "2022-04-26T14:23:36.053Z"
   },
   {
    "duration": 15,
    "start_time": "2022-04-26T14:23:48.105Z"
   },
   {
    "duration": 15,
    "start_time": "2022-04-26T14:24:49.181Z"
   },
   {
    "duration": 17,
    "start_time": "2022-04-26T14:25:07.104Z"
   },
   {
    "duration": 16,
    "start_time": "2022-04-26T14:26:17.252Z"
   },
   {
    "duration": 1170,
    "start_time": "2022-04-26T14:29:44.861Z"
   },
   {
    "duration": 693,
    "start_time": "2022-04-26T14:29:46.033Z"
   },
   {
    "duration": 5,
    "start_time": "2022-04-26T14:29:46.728Z"
   },
   {
    "duration": 87,
    "start_time": "2022-04-26T14:29:46.736Z"
   },
   {
    "duration": 89,
    "start_time": "2022-04-26T14:29:46.824Z"
   },
   {
    "duration": 77,
    "start_time": "2022-04-26T14:29:46.915Z"
   },
   {
    "duration": 86,
    "start_time": "2022-04-26T14:29:46.994Z"
   },
   {
    "duration": 37,
    "start_time": "2022-04-26T14:29:47.083Z"
   },
   {
    "duration": 121,
    "start_time": "2022-04-26T14:29:47.122Z"
   },
   {
    "duration": 30,
    "start_time": "2022-04-26T14:29:47.246Z"
   },
   {
    "duration": 15,
    "start_time": "2022-04-26T14:29:47.278Z"
   },
   {
    "duration": 12,
    "start_time": "2022-04-26T14:29:47.294Z"
   },
   {
    "duration": 1294,
    "start_time": "2022-04-26T14:29:47.308Z"
   },
   {
    "duration": 4,
    "start_time": "2022-04-26T14:29:48.604Z"
   },
   {
    "duration": 48,
    "start_time": "2022-04-26T14:29:48.609Z"
   },
   {
    "duration": 16,
    "start_time": "2022-04-26T14:29:48.659Z"
   },
   {
    "duration": 26,
    "start_time": "2022-04-26T14:29:48.677Z"
   },
   {
    "duration": 10,
    "start_time": "2022-04-26T14:29:48.705Z"
   },
   {
    "duration": 56,
    "start_time": "2022-04-26T14:29:48.717Z"
   },
   {
    "duration": 16,
    "start_time": "2022-04-26T14:29:48.775Z"
   },
   {
    "duration": 19,
    "start_time": "2022-04-26T14:29:48.793Z"
   },
   {
    "duration": 8,
    "start_time": "2022-04-26T14:29:48.814Z"
   },
   {
    "duration": 49,
    "start_time": "2022-04-26T14:29:48.824Z"
   },
   {
    "duration": 11,
    "start_time": "2022-04-26T14:29:48.875Z"
   },
   {
    "duration": 21,
    "start_time": "2022-04-26T14:29:48.888Z"
   },
   {
    "duration": 14,
    "start_time": "2022-04-26T14:29:48.911Z"
   },
   {
    "duration": 47,
    "start_time": "2022-04-26T14:29:48.927Z"
   },
   {
    "duration": 13,
    "start_time": "2022-04-26T14:29:48.979Z"
   },
   {
    "duration": 11,
    "start_time": "2022-04-26T14:29:48.994Z"
   },
   {
    "duration": 14,
    "start_time": "2022-04-26T14:29:49.007Z"
   },
   {
    "duration": 12,
    "start_time": "2022-04-26T14:29:49.023Z"
   },
   {
    "duration": 44,
    "start_time": "2022-04-26T14:29:49.037Z"
   },
   {
    "duration": 21,
    "start_time": "2022-04-26T14:29:49.083Z"
   },
   {
    "duration": 3,
    "start_time": "2022-04-26T14:29:49.106Z"
   },
   {
    "duration": 13,
    "start_time": "2022-04-26T14:29:49.111Z"
   },
   {
    "duration": 61,
    "start_time": "2022-04-26T14:29:49.126Z"
   },
   {
    "duration": 10,
    "start_time": "2022-04-26T14:29:49.188Z"
   },
   {
    "duration": 5,
    "start_time": "2022-04-26T14:29:49.200Z"
   },
   {
    "duration": 11,
    "start_time": "2022-04-26T14:29:49.207Z"
   },
   {
    "duration": 4,
    "start_time": "2022-04-26T14:29:49.220Z"
   },
   {
    "duration": 136,
    "start_time": "2022-04-26T14:29:49.226Z"
   },
   {
    "duration": 9,
    "start_time": "2022-04-26T14:29:49.365Z"
   },
   {
    "duration": 32,
    "start_time": "2022-04-26T14:29:49.377Z"
   },
   {
    "duration": 212,
    "start_time": "2022-04-26T14:29:49.411Z"
   },
   {
    "duration": 3,
    "start_time": "2022-04-26T14:29:49.624Z"
   },
   {
    "duration": 27,
    "start_time": "2022-04-26T14:29:49.629Z"
   },
   {
    "duration": 188,
    "start_time": "2022-04-26T14:29:49.657Z"
   },
   {
    "duration": 3,
    "start_time": "2022-04-26T14:29:49.847Z"
   },
   {
    "duration": 33,
    "start_time": "2022-04-26T14:29:49.852Z"
   },
   {
    "duration": 7,
    "start_time": "2022-04-26T14:29:49.887Z"
   },
   {
    "duration": 193,
    "start_time": "2022-04-26T14:29:49.895Z"
   },
   {
    "duration": 3,
    "start_time": "2022-04-26T14:29:50.090Z"
   },
   {
    "duration": 22,
    "start_time": "2022-04-26T14:29:50.095Z"
   },
   {
    "duration": 197,
    "start_time": "2022-04-26T14:29:50.119Z"
   },
   {
    "duration": 19,
    "start_time": "2022-04-26T14:29:50.318Z"
   },
   {
    "duration": 4,
    "start_time": "2022-04-26T14:29:50.339Z"
   },
   {
    "duration": 10,
    "start_time": "2022-04-26T14:29:50.345Z"
   },
   {
    "duration": 9,
    "start_time": "2022-04-26T14:29:50.374Z"
   },
   {
    "duration": 9,
    "start_time": "2022-04-26T14:29:50.385Z"
   },
   {
    "duration": 10,
    "start_time": "2022-04-26T14:29:50.396Z"
   },
   {
    "duration": 8,
    "start_time": "2022-04-26T14:29:50.408Z"
   },
   {
    "duration": 8,
    "start_time": "2022-04-26T14:29:50.418Z"
   },
   {
    "duration": 11,
    "start_time": "2022-04-26T14:29:50.429Z"
   },
   {
    "duration": 31,
    "start_time": "2022-04-26T14:29:50.442Z"
   },
   {
    "duration": 13,
    "start_time": "2022-04-26T14:29:50.476Z"
   },
   {
    "duration": 11,
    "start_time": "2022-04-26T14:29:50.492Z"
   },
   {
    "duration": 8,
    "start_time": "2022-04-26T14:29:50.506Z"
   },
   {
    "duration": 9,
    "start_time": "2022-04-26T14:29:50.516Z"
   },
   {
    "duration": 9,
    "start_time": "2022-04-26T14:29:50.526Z"
   },
   {
    "duration": 8,
    "start_time": "2022-04-26T14:29:50.537Z"
   },
   {
    "duration": 28,
    "start_time": "2022-04-26T14:29:50.547Z"
   },
   {
    "duration": 8,
    "start_time": "2022-04-26T14:29:50.577Z"
   },
   {
    "duration": 1213,
    "start_time": "2022-04-26T14:30:44.144Z"
   },
   {
    "duration": 391,
    "start_time": "2022-04-26T14:30:45.359Z"
   },
   {
    "duration": 4,
    "start_time": "2022-04-26T14:30:45.752Z"
   },
   {
    "duration": 89,
    "start_time": "2022-04-26T14:30:45.758Z"
   },
   {
    "duration": 89,
    "start_time": "2022-04-26T14:30:45.848Z"
   },
   {
    "duration": 73,
    "start_time": "2022-04-26T14:30:45.939Z"
   },
   {
    "duration": 84,
    "start_time": "2022-04-26T14:30:46.014Z"
   },
   {
    "duration": 37,
    "start_time": "2022-04-26T14:30:46.100Z"
   },
   {
    "duration": 114,
    "start_time": "2022-04-26T14:30:46.172Z"
   },
   {
    "duration": 17,
    "start_time": "2022-04-26T14:30:46.289Z"
   },
   {
    "duration": 6,
    "start_time": "2022-04-26T14:30:46.308Z"
   },
   {
    "duration": 9,
    "start_time": "2022-04-26T14:30:46.317Z"
   },
   {
    "duration": 294,
    "start_time": "2022-04-26T14:30:46.328Z"
   },
   {
    "duration": 5,
    "start_time": "2022-04-26T14:30:46.623Z"
   },
   {
    "duration": 51,
    "start_time": "2022-04-26T14:30:46.630Z"
   },
   {
    "duration": 4,
    "start_time": "2022-04-26T14:30:46.682Z"
   },
   {
    "duration": 27,
    "start_time": "2022-04-26T14:30:46.688Z"
   },
   {
    "duration": 10,
    "start_time": "2022-04-26T14:30:46.717Z"
   },
   {
    "duration": 53,
    "start_time": "2022-04-26T14:30:46.729Z"
   },
   {
    "duration": 13,
    "start_time": "2022-04-26T14:30:46.784Z"
   },
   {
    "duration": 17,
    "start_time": "2022-04-26T14:30:46.799Z"
   },
   {
    "duration": 9,
    "start_time": "2022-04-26T14:30:46.818Z"
   },
   {
    "duration": 49,
    "start_time": "2022-04-26T14:30:46.828Z"
   },
   {
    "duration": 10,
    "start_time": "2022-04-26T14:30:46.879Z"
   },
   {
    "duration": 21,
    "start_time": "2022-04-26T14:30:46.890Z"
   },
   {
    "duration": 14,
    "start_time": "2022-04-26T14:30:46.913Z"
   },
   {
    "duration": 17,
    "start_time": "2022-04-26T14:30:46.929Z"
   },
   {
    "duration": 12,
    "start_time": "2022-04-26T14:30:46.972Z"
   },
   {
    "duration": 9,
    "start_time": "2022-04-26T14:30:46.985Z"
   },
   {
    "duration": 13,
    "start_time": "2022-04-26T14:30:46.996Z"
   },
   {
    "duration": 8,
    "start_time": "2022-04-26T14:30:47.011Z"
   },
   {
    "duration": 16,
    "start_time": "2022-04-26T14:30:47.021Z"
   },
   {
    "duration": 21,
    "start_time": "2022-04-26T14:30:47.073Z"
   },
   {
    "duration": 3,
    "start_time": "2022-04-26T14:30:47.096Z"
   },
   {
    "duration": 10,
    "start_time": "2022-04-26T14:30:47.101Z"
   },
   {
    "duration": 25,
    "start_time": "2022-04-26T14:30:47.113Z"
   },
   {
    "duration": 35,
    "start_time": "2022-04-26T14:30:47.140Z"
   },
   {
    "duration": 7,
    "start_time": "2022-04-26T14:30:47.176Z"
   },
   {
    "duration": 13,
    "start_time": "2022-04-26T14:30:47.184Z"
   },
   {
    "duration": 3,
    "start_time": "2022-04-26T14:30:47.199Z"
   },
   {
    "duration": 128,
    "start_time": "2022-04-26T14:30:47.204Z"
   },
   {
    "duration": 4,
    "start_time": "2022-04-26T14:30:47.334Z"
   },
   {
    "duration": 40,
    "start_time": "2022-04-26T14:30:47.340Z"
   },
   {
    "duration": 190,
    "start_time": "2022-04-26T14:30:47.382Z"
   },
   {
    "duration": 3,
    "start_time": "2022-04-26T14:30:47.573Z"
   },
   {
    "duration": 21,
    "start_time": "2022-04-26T14:30:47.577Z"
   },
   {
    "duration": 173,
    "start_time": "2022-04-26T14:30:47.599Z"
   },
   {
    "duration": 3,
    "start_time": "2022-04-26T14:30:47.773Z"
   },
   {
    "duration": 18,
    "start_time": "2022-04-26T14:30:47.778Z"
   },
   {
    "duration": 7,
    "start_time": "2022-04-26T14:30:47.797Z"
   },
   {
    "duration": 196,
    "start_time": "2022-04-26T14:30:47.805Z"
   },
   {
    "duration": 2,
    "start_time": "2022-04-26T14:30:48.003Z"
   },
   {
    "duration": 23,
    "start_time": "2022-04-26T14:30:48.007Z"
   },
   {
    "duration": 224,
    "start_time": "2022-04-26T14:30:48.031Z"
   },
   {
    "duration": 26,
    "start_time": "2022-04-26T14:30:48.256Z"
   },
   {
    "duration": 4,
    "start_time": "2022-04-26T14:30:48.284Z"
   },
   {
    "duration": 10,
    "start_time": "2022-04-26T14:30:48.290Z"
   },
   {
    "duration": 9,
    "start_time": "2022-04-26T14:30:48.302Z"
   },
   {
    "duration": 10,
    "start_time": "2022-04-26T14:30:48.313Z"
   },
   {
    "duration": 3,
    "start_time": "2022-04-26T14:30:48.325Z"
   },
   {
    "duration": 7,
    "start_time": "2022-04-26T14:30:48.329Z"
   },
   {
    "duration": 8,
    "start_time": "2022-04-26T14:30:48.337Z"
   },
   {
    "duration": 27,
    "start_time": "2022-04-26T14:30:48.347Z"
   },
   {
    "duration": 5,
    "start_time": "2022-04-26T14:30:48.376Z"
   },
   {
    "duration": 8,
    "start_time": "2022-04-26T14:30:48.382Z"
   },
   {
    "duration": 13,
    "start_time": "2022-04-26T14:30:48.392Z"
   },
   {
    "duration": 8,
    "start_time": "2022-04-26T14:30:48.407Z"
   },
   {
    "duration": 10,
    "start_time": "2022-04-26T14:30:48.417Z"
   },
   {
    "duration": 4,
    "start_time": "2022-04-26T14:30:48.429Z"
   },
   {
    "duration": 14,
    "start_time": "2022-04-26T14:30:48.435Z"
   },
   {
    "duration": 25,
    "start_time": "2022-04-26T14:30:48.451Z"
   },
   {
    "duration": 5,
    "start_time": "2022-04-26T14:30:48.478Z"
   }
  ],
  "kernelspec": {
   "display_name": "Python 3 (ipykernel)",
   "language": "python",
   "name": "python3"
  },
  "language_info": {
   "codemirror_mode": {
    "name": "ipython",
    "version": 3
   },
   "file_extension": ".py",
   "mimetype": "text/x-python",
   "name": "python",
   "nbconvert_exporter": "python",
   "pygments_lexer": "ipython3",
   "version": "3.9.7"
  },
  "toc": {
   "base_numbering": "",
   "nav_menu": {
    "height": "391px",
    "width": "411px"
   },
   "number_sections": false,
   "sideBar": true,
   "skip_h1_title": true,
   "title_cell": "Table of Contents",
   "title_sidebar": "Contents",
   "toc_cell": false,
   "toc_position": {},
   "toc_section_display": true,
   "toc_window_display": true
  }
 },
 "nbformat": 4,
 "nbformat_minor": 5
}
